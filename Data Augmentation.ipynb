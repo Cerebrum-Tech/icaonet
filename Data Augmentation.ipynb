{
 "cells": [
  {
   "cell_type": "markdown",
   "metadata": {},
   "source": [
    "# Setup "
   ]
  },
  {
   "cell_type": "code",
   "execution_count": 1,
   "metadata": {},
   "outputs": [
    {
     "name": "stderr",
     "output_type": "stream",
     "text": [
      "Using TensorFlow backend.\n"
     ]
    }
   ],
   "source": [
    "from sys import path\n",
    "path.append('src/')\n",
    "\n",
    "import cv2\n",
    "import numpy as npg\n",
    "import pickle as pkl\n",
    "import matplotlib.pyplot as plt\n",
    "from keras.preprocessing.image import ImageDataGenerator\n",
    "\n",
    "%matplotlib inline"
   ]
  },
  {
   "cell_type": "markdown",
   "metadata": {},
   "source": [
    "# Load Dump "
   ]
  },
  {
   "cell_type": "code",
   "execution_count": 2,
   "metadata": {},
   "outputs": [
    {
     "name": "stdout",
     "output_type": "stream",
     "text": [
      "(571, 224, 224, 3) float32\n",
      "(571,)\n"
     ]
    }
   ],
   "source": [
    "# _, images, mrks = pkl.load(open('data/train_dump.pkl', 'rb'))\n",
    "_, images, mrks = pkl.load(open('data/val_dump.pkl', 'rb'))\n",
    "\n",
    "print(images.shape, images.dtype)\n",
    "print(mrks.shape)"
   ]
  },
  {
   "cell_type": "markdown",
   "metadata": {},
   "source": [
    "# All Images"
   ]
  },
  {
   "cell_type": "code",
   "execution_count": 3,
   "metadata": {},
   "outputs": [
    {
     "name": "stdout",
     "output_type": "stream",
     "text": [
      "10002 of 10000\r"
     ]
    }
   ],
   "source": [
    "datagen = ImageDataGenerator(width_shift_range=0.1, \n",
    "                             height_shift_range=0.1, \n",
    "                             horizontal_flip=True, \n",
    "                             zoom_range=0.1, \n",
    "                             fill_mode='nearest')\n",
    "\n",
    "n_images_to_generate = 10000\n",
    "for i, (img, mrk) in enumerate(datagen.flow(images, mrks, batch_size=1, seed=42)):\n",
    "    print('{} of {}'.format(i + 1, n_images_to_generate), end='\\r')\n",
    "    output_file = 'data/augmentation/all/{:04}'.format(i)\n",
    "    \n",
    "    cv2.imwrite('{}.png'.format(output_file), img[0])\n",
    "    mrk[0].save('{}.mrk'.format(output_file))\n",
    "    \n",
    "    if i >= n_images_to_generate: break"
   ]
  },
  {
   "cell_type": "markdown",
   "metadata": {},
   "source": [
    "# 2. Blurred"
   ]
  },
  {
   "cell_type": "code",
   "execution_count": null,
   "metadata": {},
   "outputs": [],
   "source": []
  }
 ],
 "metadata": {
  "kernelspec": {
   "display_name": "Python 3",
   "language": "python",
   "name": "python3"
  },
  "language_info": {
   "codemirror_mode": {
    "name": "ipython",
    "version": 3
   },
   "file_extension": ".py",
   "mimetype": "text/x-python",
   "name": "python",
   "nbconvert_exporter": "python",
   "pygments_lexer": "ipython3",
   "version": "3.6.8"
  }
 },
 "nbformat": 4,
 "nbformat_minor": 2
}
