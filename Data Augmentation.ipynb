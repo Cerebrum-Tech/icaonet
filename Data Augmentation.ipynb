{
 "cells": [
  {
   "cell_type": "markdown",
   "metadata": {},
   "source": [
    "# Setup "
   ]
  },
  {
   "cell_type": "code",
   "execution_count": 1,
   "metadata": {},
   "outputs": [
    {
     "name": "stderr",
     "output_type": "stream",
     "text": [
      "Using TensorFlow backend.\n"
     ]
    }
   ],
   "source": [
    "from sys import path\n",
    "path.append('src/')\n",
    "\n",
    "import cv2\n",
    "import numpy as np\n",
    "import pickle as pkl\n",
    "import matplotlib.pyplot as plt\n",
    "from keras.preprocessing.image import ImageDataGenerator\n",
    "\n",
    "%matplotlib inline"
   ]
  },
  {
   "cell_type": "code",
   "execution_count": 2,
   "metadata": {},
   "outputs": [],
   "source": [
    "def data_augmentation(datagen, output_folder, images, mrks, amount, prefix, seed=42):\n",
    "    for i, (img, mrk) in enumerate(datagen.flow(images, mrks, batch_size=1, seed=seed)):\n",
    "        if i >= amount: break        \n",
    "            \n",
    "        print('{} of {}'.format(i + 1, amount), end='\\r')\n",
    "        output_file = '{}{}{:04}'.format(output_folder, prefix, i)\n",
    "\n",
    "        cv2.imwrite('{}.png'.format(output_file), img[0])\n",
    "        mrk[0].save('{}.mrk'.format(output_file))\n",
    "    print()"
   ]
  },
  {
   "cell_type": "markdown",
   "metadata": {},
   "source": [
    "# Load Dump "
   ]
  },
  {
   "cell_type": "code",
   "execution_count": 3,
   "metadata": {},
   "outputs": [
    {
     "name": "stdout",
     "output_type": "stream",
     "text": [
      "(571, 224, 224, 3) float32\n",
      "(571,)\n"
     ]
    }
   ],
   "source": [
    "# _, images, mrks = pkl.load(open('data/train_dump.pkl', 'rb'))\n",
    "_, images, mrks = pkl.load(open('data/val_dump.pkl', 'rb'))\n",
    "\n",
    "print(images.shape, images.dtype)\n",
    "print(mrks.shape)"
   ]
  },
  {
   "cell_type": "markdown",
   "metadata": {},
   "source": [
    "# 2. Blurred"
   ]
  },
  {
   "cell_type": "code",
   "execution_count": 4,
   "metadata": {},
   "outputs": [
    {
     "name": "stdout",
     "output_type": "stream",
     "text": [
      "515 31 25\n",
      "3000 of 3000\n",
      "3000 of 3000\n",
      "3000 of 3000\n"
     ]
    }
   ],
   "source": [
    "datagen = ImageDataGenerator(width_shift_range=0.2, \n",
    "                             height_shift_range=0.2, \n",
    "                             horizontal_flip=True, \n",
    "                             fill_mode='constant')\n",
    "\n",
    "req_values = np.array([mrk.photo_reqs.blurred.value for mrk in mrks])\n",
    "mask_c = (req_values == 1)\n",
    "mask_nc = (req_values == 0)\n",
    "mask_d = (req_values == -1)\n",
    "print(mask_c.sum(), mask_nc.sum(), mask_d.sum())\n",
    "\n",
    "output_folder = 'data/augmentation/2-blurred/'\n",
    "\n",
    "data_augmentation(datagen, output_folder, images[mask_c], mrks[mask_c], 3000, '2_c_')\n",
    "data_augmentation(datagen, output_folder, images[mask_nc], mrks[mask_nc], 3000, '2_nc_')\n",
    "data_augmentation(datagen, output_folder, images[mask_d], mrks[mask_d], 3000, '2_d_')"
   ]
  },
  {
   "cell_type": "markdown",
   "metadata": {},
   "source": [
    "# 3. Looking Away"
   ]
  },
  {
   "cell_type": "code",
   "execution_count": 5,
   "metadata": {},
   "outputs": [
    {
     "name": "stdout",
     "output_type": "stream",
     "text": [
      "433 32 106\n",
      "3000 of 3000\n",
      "3000 of 3000\n",
      "3000 of 3000\n"
     ]
    }
   ],
   "source": [
    "datagen = ImageDataGenerator(width_shift_range=0.2, \n",
    "                             height_shift_range=0.2, \n",
    "                             horizontal_flip=True, \n",
    "                             brightness_range=[0.9, 1.1], \n",
    "                             rotation_range=15)\n",
    "\n",
    "req_values = np.array([mrk.photo_reqs.looking_away.value for mrk in mrks])\n",
    "mask_c = (req_values == 1)\n",
    "mask_nc = (req_values == 0)\n",
    "mask_d = (req_values == -1)\n",
    "print(mask_c.sum(), mask_nc.sum(), mask_d.sum())\n",
    "\n",
    "output_folder = 'data/augmentation/3-looking_away/'\n",
    "\n",
    "data_augmentation(datagen, output_folder, images[mask_c], mrks[mask_c], 3000, '3_c_')\n",
    "data_augmentation(datagen, output_folder, images[mask_nc], mrks[mask_nc], 3000, '3_nc_')\n",
    "data_augmentation(datagen, output_folder, images[mask_d], mrks[mask_d], 3000, '3_d_')"
   ]
  },
  {
   "cell_type": "markdown",
   "metadata": {},
   "source": [
    "# ~~4. Ink Marked/Creased~~"
   ]
  },
  {
   "cell_type": "code",
   "execution_count": 8,
   "metadata": {},
   "outputs": [
    {
     "name": "stdout",
     "output_type": "stream",
     "text": [
      "571 0 0\n"
     ]
    }
   ],
   "source": [
    "req_values = np.array([mrk.photo_reqs.ink_marked_creased.value for mrk in mrks])\n",
    "mask_c = (req_values == 1)\n",
    "mask_nc = (req_values == 0)\n",
    "mask_d = (req_values == -1)\n",
    "print(mask_c.sum(), mask_nc.sum(), mask_d.sum())"
   ]
  },
  {
   "cell_type": "markdown",
   "metadata": {},
   "source": [
    "# 5. Unnatural Skin Tone "
   ]
  },
  {
   "cell_type": "code",
   "execution_count": 9,
   "metadata": {},
   "outputs": [
    {
     "name": "stdout",
     "output_type": "stream",
     "text": [
      "407 37 127\n",
      "3000 of 3000\n",
      "3000 of 3000\n",
      "3000 of 3000\n"
     ]
    }
   ],
   "source": [
    "datagen = ImageDataGenerator(width_shift_range=0.2, \n",
    "                             height_shift_range=0.2, \n",
    "                             horizontal_flip=True, \n",
    "                             rotation_range=15, \n",
    "                             zoom_range=0.1)\n",
    "\n",
    "req_values = np.array([mrk.photo_reqs.unnatural_skin_tone.value for mrk in mrks])\n",
    "mask_c = (req_values == 1)\n",
    "mask_nc = (req_values == 0)\n",
    "mask_d = (req_values == -1)\n",
    "print(mask_c.sum(), mask_nc.sum(), mask_d.sum())\n",
    "\n",
    "output_folder = 'data/augmentation/5-unnatural_skin_tone/'\n",
    "\n",
    "data_augmentation(datagen, output_folder, images[mask_c], mrks[mask_c], 3000, '5_c_')\n",
    "data_augmentation(datagen, output_folder, images[mask_nc], mrks[mask_nc], 3000, '5_nc_')\n",
    "data_augmentation(datagen, output_folder, images[mask_d], mrks[mask_d], 3000, '5_d_')"
   ]
  },
  {
   "cell_type": "markdown",
   "metadata": {},
   "source": [
    "# 6. Too Dark/Light "
   ]
  },
  {
   "cell_type": "code",
   "execution_count": 10,
   "metadata": {},
   "outputs": [
    {
     "name": "stdout",
     "output_type": "stream",
     "text": [
      "503 38 30\n",
      "3000 of 3000\n",
      "3000 of 3000\n",
      "3000 of 3000\n"
     ]
    }
   ],
   "source": [
    "datagen = ImageDataGenerator(width_shift_range=0.2, \n",
    "                             height_shift_range=0.2, \n",
    "                             horizontal_flip=True, \n",
    "                             rotation_range=15, \n",
    "                             zoom_range=0.1, \n",
    "                             fill_mode='nearest')\n",
    "\n",
    "req_values = np.array([mrk.photo_reqs.too_dark_light.value for mrk in mrks])\n",
    "mask_c = (req_values == 1)\n",
    "mask_nc = (req_values == 0)\n",
    "mask_d = (req_values == -1)\n",
    "print(mask_c.sum(), mask_nc.sum(), mask_d.sum())\n",
    "\n",
    "output_folder = 'data/augmentation/6-too_dark_light/'\n",
    "\n",
    "data_augmentation(datagen, output_folder, images[mask_c], mrks[mask_c], 3000, '6_c_')\n",
    "data_augmentation(datagen, output_folder, images[mask_nc], mrks[mask_nc], 3000, '6_nc_')\n",
    "data_augmentation(datagen, output_folder, images[mask_d], mrks[mask_d], 3000, '6_d_')"
   ]
  },
  {
   "cell_type": "markdown",
   "metadata": {},
   "source": [
    "# 7. Washed Out"
   ]
  },
  {
   "cell_type": "code",
   "execution_count": 11,
   "metadata": {},
   "outputs": [
    {
     "name": "stdout",
     "output_type": "stream",
     "text": [
      "537 33 1\n",
      "3000 of 3000\n",
      "3000 of 3000\n",
      "3000 of 3000\n"
     ]
    }
   ],
   "source": [
    "datagen = ImageDataGenerator(width_shift_range=0.2, \n",
    "                             height_shift_range=0.2, \n",
    "                             horizontal_flip=True, \n",
    "                             rotation_range=15)\n",
    "\n",
    "req_values = np.array([mrk.photo_reqs.washed_out.value for mrk in mrks])\n",
    "mask_c = (req_values == 1)\n",
    "mask_nc = (req_values == 0)\n",
    "mask_d = (req_values == -1)\n",
    "print(mask_c.sum(), mask_nc.sum(), mask_d.sum())\n",
    "\n",
    "output_folder = 'data/augmentation/7-washed_out/'\n",
    "\n",
    "data_augmentation(datagen, output_folder, images[mask_c], mrks[mask_c], 3000, '7_c_')\n",
    "data_augmentation(datagen, output_folder, images[mask_nc], mrks[mask_nc], 3000, '7_nc_')\n",
    "data_augmentation(datagen, output_folder, images[mask_d], mrks[mask_d], 3000, '7_d_')"
   ]
  },
  {
   "cell_type": "markdown",
   "metadata": {},
   "source": [
    "# *8. Pixelation*"
   ]
  },
  {
   "cell_type": "code",
   "execution_count": 4,
   "metadata": {},
   "outputs": [
    {
     "name": "stdout",
     "output_type": "stream",
     "text": [
      "541 30 0\n",
      "3000 of 3000\n",
      "3000 of 3000\n"
     ]
    }
   ],
   "source": [
    "datagen = ImageDataGenerator(width_shift_range=0.2, \n",
    "                             height_shift_range=0.2, \n",
    "                             horizontal_flip=True, \n",
    "                             brightness_range=[0.9, 1.1])\n",
    "\n",
    "req_values = np.array([mrk.photo_reqs.pixelation.value for mrk in mrks])\n",
    "mask_c = (req_values == 1)\n",
    "mask_nc = (req_values == 0)\n",
    "mask_d = (req_values == -1)\n",
    "print(mask_c.sum(), mask_nc.sum(), mask_d.sum())\n",
    "\n",
    "output_folder = 'data/augmentation/8-pixelation/'\n",
    "\n",
    "data_augmentation(datagen, output_folder, images[mask_c], mrks[mask_c], 3000, '8_c_')\n",
    "data_augmentation(datagen, output_folder, images[mask_nc], mrks[mask_nc], 3000, '8_nc_')"
   ]
  },
  {
   "cell_type": "markdown",
   "metadata": {},
   "source": [
    "# 9. Hair Across Eyes "
   ]
  },
  {
   "cell_type": "code",
   "execution_count": 13,
   "metadata": {},
   "outputs": [
    {
     "name": "stdout",
     "output_type": "stream",
     "text": [
      "523 12 36\n",
      "3000 of 3000\n",
      "3000 of 3000\n",
      "3000 of 3000\n"
     ]
    }
   ],
   "source": [
    "datagen = ImageDataGenerator(width_shift_range=0.2, \n",
    "                             height_shift_range=0.2, \n",
    "                             horizontal_flip=True, \n",
    "                             rotation_range=15, \n",
    "                             brightness_range=[0.9, 1.1], \n",
    "                             zoom_range=0.2)\n",
    "\n",
    "req_values = np.array([mrk.photo_reqs.hair_across_eyes.value for mrk in mrks])\n",
    "mask_c = (req_values == 1)\n",
    "mask_nc = (req_values == 0)\n",
    "mask_d = (req_values == -1)\n",
    "print(mask_c.sum(), mask_nc.sum(), mask_d.sum())\n",
    "\n",
    "output_folder = 'data/augmentation/9-hair_across_eyes/'\n",
    "\n",
    "data_augmentation(datagen, output_folder, images[mask_c], mrks[mask_c], 3000, '9_c_')\n",
    "data_augmentation(datagen, output_folder, images[mask_nc], mrks[mask_nc], 3000, '9_nc_')\n",
    "data_augmentation(datagen, output_folder, images[mask_d], mrks[mask_d], 3000, '9_d_')"
   ]
  },
  {
   "cell_type": "markdown",
   "metadata": {},
   "source": [
    "# 10. Eyes Closed "
   ]
  },
  {
   "cell_type": "code",
   "execution_count": 14,
   "metadata": {},
   "outputs": [
    {
     "name": "stdout",
     "output_type": "stream",
     "text": [
      "474 31 66\n",
      "3000 of 3000\n",
      "3000 of 3000\n",
      "3000 of 3000\n"
     ]
    }
   ],
   "source": [
    "datagen = ImageDataGenerator(width_shift_range=0.2, \n",
    "                             height_shift_range=0.2, \n",
    "                             horizontal_flip=True, \n",
    "                             rotation_range=15, \n",
    "                             brightness_range=[0.9, 1.1], \n",
    "                             zoom_range=0.2)\n",
    "\n",
    "req_values = np.array([mrk.photo_reqs.eyes_closed.value for mrk in mrks])\n",
    "mask_c = (req_values == 1)\n",
    "mask_nc = (req_values == 0)\n",
    "mask_d = (req_values == -1)\n",
    "print(mask_c.sum(), mask_nc.sum(), mask_d.sum())\n",
    "\n",
    "output_folder = 'data/augmentation/10-eyes_closed/'\n",
    "\n",
    "data_augmentation(datagen, output_folder, images[mask_c], mrks[mask_c], 3000, '10_c_')\n",
    "data_augmentation(datagen, output_folder, images[mask_nc], mrks[mask_nc], 3000, '10_nc_')\n",
    "data_augmentation(datagen, output_folder, images[mask_d], mrks[mask_d], 3000, '10_d_')"
   ]
  },
  {
   "cell_type": "markdown",
   "metadata": {},
   "source": [
    "# 11. Varied Background"
   ]
  },
  {
   "cell_type": "code",
   "execution_count": 4,
   "metadata": {},
   "outputs": [
    {
     "name": "stdout",
     "output_type": "stream",
     "text": [
      "335 155 81\n",
      "3000 of 3000\n",
      "3000 of 3000\n",
      "3000 of 3000\n"
     ]
    }
   ],
   "source": [
    "datagen = ImageDataGenerator(horizontal_flip=True, brightness_range=[0.9, 1.1])\n",
    "\n",
    "req_values = np.array([mrk.photo_reqs.varied_background.value for mrk in mrks])\n",
    "mask_c = (req_values == 1)\n",
    "mask_nc = (req_values == 0)\n",
    "mask_d = (req_values == -1)\n",
    "print(mask_c.sum(), mask_nc.sum(), mask_d.sum())\n",
    "\n",
    "output_folder = 'data/augmentation/11-varied_bgd/'\n",
    "\n",
    "data_augmentation(datagen, output_folder, images[mask_c], mrks[mask_c], 3000, '11_c_')\n",
    "data_augmentation(datagen, output_folder, images[mask_nc], mrks[mask_nc], 3000, '11_nc_')\n",
    "data_augmentation(datagen, output_folder, images[mask_d], mrks[mask_d], 3000, '11_d_')"
   ]
  },
  {
   "cell_type": "markdown",
   "metadata": {},
   "source": [
    "# 12. Roll/pitch/yaw"
   ]
  },
  {
   "cell_type": "code",
   "execution_count": 15,
   "metadata": {},
   "outputs": [
    {
     "name": "stdout",
     "output_type": "stream",
     "text": [
      "476 4 91\n",
      "3000 of 3000\n",
      "3000 of 3000\n",
      "3000 of 3000\n"
     ]
    }
   ],
   "source": [
    "datagen = ImageDataGenerator(width_shift_range=0.2, \n",
    "                             height_shift_range=0.2, \n",
    "                             horizontal_flip=True, \n",
    "                             brightness_range=[0.9, 1.1], \n",
    "                             zoom_range=0.2)\n",
    "\n",
    "req_values = np.array([mrk.photo_reqs.roll_pitch_yaw.value for mrk in mrks])\n",
    "mask_c = (req_values == 1)\n",
    "mask_nc = (req_values == 0)\n",
    "mask_d = (req_values == -1)\n",
    "print(mask_c.sum(), mask_nc.sum(), mask_d.sum())\n",
    "\n",
    "output_folder = 'data/augmentation/12-roll_pitch_yaw/'\n",
    "\n",
    "data_augmentation(datagen, output_folder, images[mask_c], mrks[mask_c], 3000, '12_c_')\n",
    "data_augmentation(datagen, output_folder, images[mask_nc], mrks[mask_nc], 3000, '12_nc_')\n",
    "data_augmentation(datagen, output_folder, images[mask_d], mrks[mask_d], 3000, '12_d_')"
   ]
  },
  {
   "cell_type": "markdown",
   "metadata": {},
   "source": [
    "# 13. Flash Reflection on Skin"
   ]
  },
  {
   "cell_type": "code",
   "execution_count": 16,
   "metadata": {},
   "outputs": [
    {
     "name": "stdout",
     "output_type": "stream",
     "text": [
      "435 49 87\n",
      "3000 of 3000\n",
      "3000 of 3000\n",
      "3000 of 3000\n"
     ]
    }
   ],
   "source": [
    "datagen = ImageDataGenerator(width_shift_range=0.2, \n",
    "                             height_shift_range=0.2, \n",
    "                             horizontal_flip=True, \n",
    "                             rotation_range=15, \n",
    "                             zoom_range=0.2)\n",
    "\n",
    "req_values = np.array([mrk.photo_reqs.flash_reflection_on_skin.value for mrk in mrks])\n",
    "mask_c = (req_values == 1)\n",
    "mask_nc = (req_values == 0)\n",
    "mask_d = (req_values == -1)\n",
    "print(mask_c.sum(), mask_nc.sum(), mask_d.sum())\n",
    "\n",
    "output_folder = 'data/augmentation/13-flash_reflection_on_skin/'\n",
    "\n",
    "data_augmentation(datagen, output_folder, images[mask_c], mrks[mask_c], 3000, '13_c_')\n",
    "data_augmentation(datagen, output_folder, images[mask_nc], mrks[mask_nc], 3000, '13_nc_')\n",
    "data_augmentation(datagen, output_folder, images[mask_d], mrks[mask_d], 3000, '13_d_')"
   ]
  },
  {
   "cell_type": "markdown",
   "metadata": {},
   "source": [
    "# 14. Red Eyes "
   ]
  },
  {
   "cell_type": "code",
   "execution_count": 17,
   "metadata": {},
   "outputs": [
    {
     "name": "stdout",
     "output_type": "stream",
     "text": [
      "405 26 140\n",
      "3000 of 3000\n",
      "3000 of 3000\n",
      "3000 of 3000\n"
     ]
    }
   ],
   "source": [
    "datagen = ImageDataGenerator(width_shift_range=0.2, \n",
    "                             height_shift_range=0.2, \n",
    "                             horizontal_flip=True, \n",
    "                             rotation_range=15, \n",
    "                             zoom_range=0.2)\n",
    "\n",
    "req_values = np.array([mrk.photo_reqs.red_eyes.value for mrk in mrks])\n",
    "mask_c = (req_values == 1)\n",
    "mask_nc = (req_values == 0)\n",
    "mask_d = (req_values == -1)\n",
    "print(mask_c.sum(), mask_nc.sum(), mask_d.sum())\n",
    "\n",
    "output_folder = 'data/augmentation/14-red_eyes/'\n",
    "\n",
    "data_augmentation(datagen, output_folder, images[mask_c], mrks[mask_c], 3000, '14_c_')\n",
    "data_augmentation(datagen, output_folder, images[mask_nc], mrks[mask_nc], 3000, '14_nc_')\n",
    "data_augmentation(datagen, output_folder, images[mask_d], mrks[mask_d], 3000, '14_d_')"
   ]
  },
  {
   "cell_type": "markdown",
   "metadata": {},
   "source": [
    "# 15. Shadows Behind Head "
   ]
  },
  {
   "cell_type": "code",
   "execution_count": 18,
   "metadata": {},
   "outputs": [
    {
     "name": "stdout",
     "output_type": "stream",
     "text": [
      "452 2 117\n",
      "3000 of 3000\n",
      "3000 of 3000\n",
      "3000 of 3000\n"
     ]
    }
   ],
   "source": [
    "datagen = ImageDataGenerator(width_shift_range=0.2, \n",
    "                             height_shift_range=0.2, \n",
    "                             horizontal_flip=True, \n",
    "                             rotation_range=15, \n",
    "                             zoom_range=0.2)\n",
    "\n",
    "req_values = np.array([mrk.photo_reqs.shadows_behind_head.value for mrk in mrks])\n",
    "mask_c = (req_values == 1)\n",
    "mask_nc = (req_values == 0)\n",
    "mask_d = (req_values == -1)\n",
    "print(mask_c.sum(), mask_nc.sum(), mask_d.sum())\n",
    "\n",
    "output_folder = 'data/augmentation/15-shadows_behind_head/'\n",
    "\n",
    "data_augmentation(datagen, output_folder, images[mask_c], mrks[mask_c], 3000, '15_c_')\n",
    "data_augmentation(datagen, output_folder, images[mask_nc], mrks[mask_nc], 3000, '15_nc_')\n",
    "data_augmentation(datagen, output_folder, images[mask_d], mrks[mask_d], 3000, '15_d_')"
   ]
  },
  {
   "cell_type": "markdown",
   "metadata": {},
   "source": [
    "# 16. Shadows Across Face"
   ]
  },
  {
   "cell_type": "code",
   "execution_count": 19,
   "metadata": {},
   "outputs": [
    {
     "name": "stdout",
     "output_type": "stream",
     "text": [
      "341 102 128\n",
      "3000 of 3000\n",
      "3000 of 3000\n",
      "3000 of 3000\n"
     ]
    }
   ],
   "source": [
    "datagen = ImageDataGenerator(width_shift_range=0.2, \n",
    "                             height_shift_range=0.2, \n",
    "                             horizontal_flip=True, \n",
    "                             rotation_range=15, \n",
    "                             zoom_range=0.2)\n",
    "\n",
    "req_values = np.array([mrk.photo_reqs.shadows_across_face.value for mrk in mrks])\n",
    "mask_c = (req_values == 1)\n",
    "mask_nc = (req_values == 0)\n",
    "mask_d = (req_values == -1)\n",
    "print(mask_c.sum(), mask_nc.sum(), mask_d.sum())\n",
    "\n",
    "output_folder = 'data/augmentation/16-shadows_across_face/'\n",
    "\n",
    "data_augmentation(datagen, output_folder, images[mask_c], mrks[mask_c], 3000, '16_c_')\n",
    "data_augmentation(datagen, output_folder, images[mask_nc], mrks[mask_nc], 3000, '16_nc_')\n",
    "data_augmentation(datagen, output_folder, images[mask_d], mrks[mask_d], 3000, '16_d_')"
   ]
  },
  {
   "cell_type": "markdown",
   "metadata": {},
   "source": [
    "# 17. Dark Tinted Lenses"
   ]
  },
  {
   "cell_type": "code",
   "execution_count": 20,
   "metadata": {},
   "outputs": [
    {
     "name": "stdout",
     "output_type": "stream",
     "text": [
      "538 31 2\n",
      "3000 of 3000\n",
      "3000 of 3000\n",
      "3000 of 3000\n"
     ]
    }
   ],
   "source": [
    "datagen = ImageDataGenerator(width_shift_range=0.2, \n",
    "                             height_shift_range=0.2, \n",
    "                             horizontal_flip=True, \n",
    "                             rotation_range=15, \n",
    "                             brightness_range=[0.9, 1.1], \n",
    "                             zoom_range=0.2)\n",
    "\n",
    "req_values = np.array([mrk.photo_reqs.dark_tinted_lenses.value for mrk in mrks])\n",
    "mask_c = (req_values == 1)\n",
    "mask_nc = (req_values == 0)\n",
    "mask_d = (req_values == -1)\n",
    "print(mask_c.sum(), mask_nc.sum(), mask_d.sum())\n",
    "\n",
    "output_folder = 'data/augmentation/17-dark_tinted_lenses/'\n",
    "\n",
    "data_augmentation(datagen, output_folder, images[mask_c], mrks[mask_c], 3000, '17_c_')\n",
    "data_augmentation(datagen, output_folder, images[mask_nc], mrks[mask_nc], 3000, '17_nc_')\n",
    "data_augmentation(datagen, output_folder, images[mask_d], mrks[mask_d], 3000, '17_d_')"
   ]
  },
  {
   "cell_type": "markdown",
   "metadata": {},
   "source": [
    "# 18. Flash Reflection on Lenses"
   ]
  },
  {
   "cell_type": "code",
   "execution_count": 21,
   "metadata": {},
   "outputs": [
    {
     "name": "stdout",
     "output_type": "stream",
     "text": [
      "478 84 9\n",
      "3000 of 3000\n",
      "3000 of 3000\n",
      "3000 of 3000\n"
     ]
    }
   ],
   "source": [
    "datagen = ImageDataGenerator(width_shift_range=0.2, \n",
    "                             height_shift_range=0.2, \n",
    "                             horizontal_flip=True, \n",
    "                             rotation_range=15, \n",
    "                             zoom_range=0.2)\n",
    "\n",
    "req_values = np.array([mrk.photo_reqs.flash_reflection_on_lenses.value for mrk in mrks])\n",
    "mask_c = (req_values == 1)\n",
    "mask_nc = (req_values == 0)\n",
    "mask_d = (req_values == -1)\n",
    "print(mask_c.sum(), mask_nc.sum(), mask_d.sum())\n",
    "\n",
    "output_folder = 'data/augmentation/18-flash_reflection_on_lenses/'\n",
    "\n",
    "data_augmentation(datagen, output_folder, images[mask_c], mrks[mask_c], 3000, '18_c_')\n",
    "data_augmentation(datagen, output_folder, images[mask_nc], mrks[mask_nc], 3000, '18_nc_')\n",
    "data_augmentation(datagen, output_folder, images[mask_d], mrks[mask_d], 3000, '18_d_')"
   ]
  },
  {
   "cell_type": "markdown",
   "metadata": {},
   "source": [
    "# ~~19. Frames Too Heavy~~"
   ]
  },
  {
   "cell_type": "code",
   "execution_count": 22,
   "metadata": {},
   "outputs": [
    {
     "name": "stdout",
     "output_type": "stream",
     "text": [
      "571 0 0\n"
     ]
    }
   ],
   "source": [
    "req_values = np.array([mrk.photo_reqs.frames_too_heavy.value for mrk in mrks])\n",
    "mask_c = (req_values == 1)\n",
    "mask_nc = (req_values == 0)\n",
    "mask_d = (req_values == -1)\n",
    "print(mask_c.sum(), mask_nc.sum(), mask_d.sum())"
   ]
  },
  {
   "cell_type": "markdown",
   "metadata": {},
   "source": [
    "# 20. Frame Covering Eyes "
   ]
  },
  {
   "cell_type": "code",
   "execution_count": 23,
   "metadata": {},
   "outputs": [
    {
     "name": "stdout",
     "output_type": "stream",
     "text": [
      "477 29 65\n",
      "3000 of 3000\n",
      "3000 of 3000\n",
      "3000 of 3000\n"
     ]
    }
   ],
   "source": [
    "datagen = ImageDataGenerator(width_shift_range=0.2, \n",
    "                             height_shift_range=0.2, \n",
    "                             horizontal_flip=True, \n",
    "                             rotation_range=15, \n",
    "                             brightness_range=[0.9, 1.1], \n",
    "                             zoom_range=0.2)\n",
    "\n",
    "req_values = np.array([mrk.photo_reqs.frame_covering_eyes.value for mrk in mrks])\n",
    "mask_c = (req_values == 1)\n",
    "mask_nc = (req_values == 0)\n",
    "mask_d = (req_values == -1)\n",
    "print(mask_c.sum(), mask_nc.sum(), mask_d.sum())\n",
    "\n",
    "output_folder = 'data/augmentation/20-frame_covering_eyes/'\n",
    "\n",
    "data_augmentation(datagen, output_folder, images[mask_c], mrks[mask_c], 3000, '20_c_')\n",
    "data_augmentation(datagen, output_folder, images[mask_nc], mrks[mask_nc], 3000, '20_nc_')\n",
    "data_augmentation(datagen, output_folder, images[mask_d], mrks[mask_d], 3000, '20_d_')"
   ]
  },
  {
   "cell_type": "markdown",
   "metadata": {},
   "source": [
    "# 21. Hat/cap "
   ]
  },
  {
   "cell_type": "code",
   "execution_count": 24,
   "metadata": {},
   "outputs": [
    {
     "name": "stdout",
     "output_type": "stream",
     "text": [
      "538 32 1\n",
      "3000 of 3000\n",
      "3000 of 3000\n",
      "3000 of 3000\n"
     ]
    }
   ],
   "source": [
    "datagen = ImageDataGenerator(width_shift_range=0.2, \n",
    "                             height_shift_range=0.2, \n",
    "                             horizontal_flip=True, \n",
    "                             rotation_range=15, \n",
    "                             brightness_range=[0.9, 1.1], \n",
    "                             zoom_range=0.2)\n",
    "\n",
    "req_values = np.array([mrk.photo_reqs.hat_cap.value for mrk in mrks])\n",
    "mask_c = (req_values == 1)\n",
    "mask_nc = (req_values == 0)\n",
    "mask_d = (req_values == -1)\n",
    "print(mask_c.sum(), mask_nc.sum(), mask_d.sum())\n",
    "\n",
    "output_folder = 'data/augmentation/21-hat_cap/'\n",
    "\n",
    "data_augmentation(datagen, output_folder, images[mask_c], mrks[mask_c], 3000, '21_c_')\n",
    "data_augmentation(datagen, output_folder, images[mask_nc], mrks[mask_nc], 3000, '21_nc_')\n",
    "data_augmentation(datagen, output_folder, images[mask_d], mrks[mask_d], 3000, '21_d_')"
   ]
  },
  {
   "cell_type": "markdown",
   "metadata": {},
   "source": [
    "# *22. Veil Over Face*"
   ]
  },
  {
   "cell_type": "code",
   "execution_count": 6,
   "metadata": {},
   "outputs": [
    {
     "name": "stdout",
     "output_type": "stream",
     "text": [
      "498 73 0\n",
      "3000 of 3000\n",
      "3000 of 3000\n"
     ]
    }
   ],
   "source": [
    "datagen = ImageDataGenerator(width_shift_range=0.2, \n",
    "                             height_shift_range=0.2, \n",
    "                             horizontal_flip=True, \n",
    "                             rotation_range=15, \n",
    "                             brightness_range=[0.9, 1.1], \n",
    "                             zoom_range=0.2)\n",
    "\n",
    "req_values = np.array([mrk.photo_reqs.veil_over_face.value for mrk in mrks])\n",
    "mask_c = (req_values == 1)\n",
    "mask_nc = (req_values == 0)\n",
    "mask_d = (req_values == -1)\n",
    "print(mask_c.sum(), mask_nc.sum(), mask_d.sum())\n",
    "\n",
    "output_folder = 'data/augmentation/22-veil_over_face/'\n",
    "\n",
    "data_augmentation(datagen, output_folder, images[mask_c], mrks[mask_c], 3000, '22_c_')\n",
    "data_augmentation(datagen, output_folder, images[mask_nc], mrks[mask_nc], 3000, '22_nc_')"
   ]
  },
  {
   "cell_type": "markdown",
   "metadata": {},
   "source": [
    "# 23. Mouth Open "
   ]
  },
  {
   "cell_type": "code",
   "execution_count": null,
   "metadata": {},
   "outputs": [],
   "source": [
    "datagen = ImageDataGenerator(rotation_range=15, \n",
    "                             width_shift_range=0.2, \n",
    "                             height_shift_range=0.2, \n",
    "                             horizontal_flip=True, \n",
    "                             zoom_range=0.1, \n",
    "                             brightness_range=[0.9, 1.1])\n",
    "\n",
    "req_values = np.array([mrk.photo_reqs.mouth_open.value for mrk in mrks])\n",
    "mask_c = (req_values == 1)\n",
    "mask_nc = (req_values == 0)\n",
    "mask_d = (req_values == -1)\n",
    "\n",
    "data_augmentation(datagen, 'data/augmentation/23-mouth_open/', images[mask_c], mrks[mask_c], 3000, '23_c_')\n",
    "data_augmentation(datagen, 'data/augmentation/23-mouth_open/', images[mask_nc], mrks[mask_nc], 3000, '23_nc_')\n",
    "data_augmentation(datagen, 'data/augmentation/23-mouth_open/', images[mask_d], mrks[mask_d], 3000, '23_d_')"
   ]
  },
  {
   "cell_type": "markdown",
   "metadata": {},
   "source": [
    "# *24. Presence of Other Faces or Toys too Close to Face*"
   ]
  },
  {
   "cell_type": "code",
   "execution_count": 7,
   "metadata": {},
   "outputs": [
    {
     "name": "stdout",
     "output_type": "stream",
     "text": [
      "561 0 10\n",
      "3000 of 3000\n",
      "3000 of 3000\n"
     ]
    }
   ],
   "source": [
    "datagen = ImageDataGenerator(width_shift_range=0.1, \n",
    "                             height_shift_range=0.1, \n",
    "                             horizontal_flip=True, \n",
    "                             rotation_range=15, \n",
    "                             brightness_range=[0.9, 1.1], \n",
    "                             zoom_range=0.2)\n",
    "\n",
    "req_values = np.array([mrk.photo_reqs.presence_of_other_faces_or_toys.value for mrk in mrks])\n",
    "mask_c = (req_values == 1)\n",
    "mask_nc = (req_values == 0)\n",
    "mask_d = (req_values == -1)\n",
    "print(mask_c.sum(), mask_nc.sum(), mask_d.sum())\n",
    "\n",
    "output_folder = 'data/augmentation/24-presence_of_other_faces_or_toys/'\n",
    "\n",
    "data_augmentation(datagen, output_folder, images[mask_c], mrks[mask_c], 3000, '24_c_')\n",
    "data_augmentation(datagen, output_folder, images[mask_d], mrks[mask_d], 3000, '24_d_')"
   ]
  }
 ],
 "metadata": {
  "kernelspec": {
   "display_name": "Python 3",
   "language": "python",
   "name": "python3"
  },
  "language_info": {
   "codemirror_mode": {
    "name": "ipython",
    "version": 3
   },
   "file_extension": ".py",
   "mimetype": "text/x-python",
   "name": "python",
   "nbconvert_exporter": "python",
   "pygments_lexer": "ipython3",
   "version": "3.6.8"
  }
 },
 "nbformat": 4,
 "nbformat_minor": 2
}
