{
 "cells": [
  {
   "cell_type": "markdown",
   "metadata": {},
   "source": [
    "# Setup "
   ]
  },
  {
   "cell_type": "code",
   "execution_count": 1,
   "metadata": {},
   "outputs": [
    {
     "name": "stderr",
     "output_type": "stream",
     "text": [
      "Using TensorFlow backend.\n"
     ]
    }
   ],
   "source": [
    "from sys import path\n",
    "path.append('src/')\n",
    "\n",
    "import cv2\n",
    "import numpy as np\n",
    "import pickle as pkl\n",
    "import matplotlib.pyplot as plt\n",
    "from keras.preprocessing.image import ImageDataGenerator\n",
    "\n",
    "%matplotlib inline"
   ]
  },
  {
   "cell_type": "code",
   "execution_count": 2,
   "metadata": {},
   "outputs": [],
   "source": [
    "def data_augmentation(datagen, output_folder, images, mrks, amount, prefix, seed=42):\n",
    "    for i, (img, mrk) in enumerate(datagen.flow(images, mrks, batch_size=1, seed=seed)):\n",
    "        if i >= amount: break        \n",
    "            \n",
    "        print('{} of {}'.format(i + 1, amount), end='\\r')\n",
    "        output_file = '{}{}{:04}'.format(output_folder, prefix, i)\n",
    "\n",
    "        cv2.imwrite('{}.png'.format(output_file), img[0])\n",
    "        mrk[0].save('{}.mrk'.format(output_file))\n",
    "    print()"
   ]
  },
  {
   "cell_type": "markdown",
   "metadata": {},
   "source": [
    "# Load Dump "
   ]
  },
  {
   "cell_type": "code",
   "execution_count": 3,
   "metadata": {},
   "outputs": [
    {
     "name": "stdout",
     "output_type": "stream",
     "text": [
      "(571, 224, 224, 3) float32\n",
      "(571,)\n"
     ]
    }
   ],
   "source": [
    "# _, images, mrks = pkl.load(open('data/train_dump.pkl', 'rb'))\n",
    "_, images, mrks = pkl.load(open('data/val_dump.pkl', 'rb'))\n",
    "\n",
    "print(images.shape, images.dtype)\n",
    "print(mrks.shape)"
   ]
  },
  {
   "cell_type": "markdown",
   "metadata": {},
   "source": [
    "# 2. Blurred"
   ]
  },
  {
   "cell_type": "code",
   "execution_count": 4,
   "metadata": {},
   "outputs": [
    {
     "name": "stdout",
     "output_type": "stream",
     "text": [
      "1000 of 1000\n",
      "1000 of 1000\n",
      "1000 of 1000\n"
     ]
    }
   ],
   "source": [
    "datagen = ImageDataGenerator(rotation_range=15, \n",
    "                             width_shift_range=0.2, \n",
    "                             height_shift_range=0.2, \n",
    "                             horizontal_flip=True, \n",
    "                             fill_mode='constant', \n",
    "                             cval=0)\n",
    "\n",
    "req_values = np.array([mrk.photo_reqs.blurred.value for mrk in mrks])\n",
    "mask_c = (req_values == 1)\n",
    "mask_nc = (req_values == 0)\n",
    "mask_d = (req_values == -1)\n",
    "\n",
    "data_augmentation(datagen, 'data/augmentation/blurred/', images[mask_c], mrks[mask_c], 1000, 'blurred_c_')\n",
    "data_augmentation(datagen, 'data/augmentation/blurred/', images[mask_nc], mrks[mask_nc], 1000, 'blurred_nc_')\n",
    "data_augmentation(datagen, 'data/augmentation/blurred/', images[mask_d], mrks[mask_d], 1000, 'blurred_d_')"
   ]
  },
  {
   "cell_type": "code",
   "execution_count": null,
   "metadata": {},
   "outputs": [],
   "source": []
  }
 ],
 "metadata": {
  "kernelspec": {
   "display_name": "Python 3",
   "language": "python",
   "name": "python3"
  },
  "language_info": {
   "codemirror_mode": {
    "name": "ipython",
    "version": 3
   },
   "file_extension": ".py",
   "mimetype": "text/x-python",
   "name": "python",
   "nbconvert_exporter": "python",
   "pygments_lexer": "ipython3",
   "version": "3.6.8"
  }
 },
 "nbformat": 4,
 "nbformat_minor": 2
}
