{
 "cells": [
  {
   "cell_type": "markdown",
   "metadata": {},
   "source": [
    "# Dependencies"
   ]
  },
  {
   "cell_type": "code",
   "execution_count": 1,
   "metadata": {},
   "outputs": [],
   "source": [
    "from sys import path\n",
    "path.append('src/')\n",
    "\n",
    "import cv2\n",
    "import numpy as np\n",
    "import matplotlib.pyplot as plt\n",
    "import pickle as pkl\n",
    "from os.path import basename, splitext\n",
    "from glob import glob\n",
    "from src.utils import load\n",
    "from src.mrk_file import MRKFile\n",
    "\n",
    "%matplotlib inline"
   ]
  },
  {
   "cell_type": "code",
   "execution_count": 2,
   "metadata": {},
   "outputs": [],
   "source": [
    "IMAGE_SIZE = (224, 224)"
   ]
  },
  {
   "cell_type": "code",
   "execution_count": 3,
   "metadata": {},
   "outputs": [],
   "source": [
    "def load_image_and_mrk_files(image_folder, mrk_folder):\n",
    "    image_files = glob(image_folder)\n",
    "    mrk_files = glob(mrk_folder)\n",
    "    assert(len(image_files) == len(mrk_files))\n",
    "\n",
    "    file_name = lambda f: splitext(basename(f))[0]    \n",
    "    for img, mrk in zip(image_files, mrk_files):\n",
    "        assert(file_name(img) == file_name(mrk))\n",
    "    return image_files, mrk_files\n",
    "\n",
    "def load_mrk_objects(list_mrk_files):\n",
    "    return np.array([MRKFile(mrk_file) for mrk_file in list_mrk_files])"
   ]
  },
  {
   "cell_type": "markdown",
   "metadata": {},
   "source": [
    "# Data Loading "
   ]
  },
  {
   "cell_type": "code",
   "execution_count": null,
   "metadata": {},
   "outputs": [],
   "source": [
    "train_image_files, train_mrk_files = load_image_and_mrk_files('data/train/images/*', 'data/train/ground_truth/*')\n",
    "\n",
    "print(len(train_image_files))\n",
    "print(len(train_mrk_files))"
   ]
  },
  {
   "cell_type": "code",
   "execution_count": null,
   "metadata": {},
   "outputs": [],
   "source": [
    "val_image_files, val_mrk_files = load_image_and_mrk_files('data/val/**/images/*', 'data/val/**/ground_truth/*')\n",
    "\n",
    "print(len(val_image_files))\n",
    "print(len(val_mrk_files))"
   ]
  },
  {
   "cell_type": "code",
   "execution_count": null,
   "metadata": {},
   "outputs": [],
   "source": [
    "x_train = load.images_from_list_files(train_image_files, output_size=IMAGE_SIZE, interpolation=cv2.INTER_AREA)\n",
    "train_mrks = load_mrk_objects(train_mrk_files)\n",
    "\n",
    "print(x_train.shape, x_train.dtype)\n",
    "pkl.dump((train_image_files, x_train, train_mrks), open('data/train_dump.pkl', 'wb'), protocol=-1)"
   ]
  },
  {
   "cell_type": "code",
   "execution_count": null,
   "metadata": {},
   "outputs": [],
   "source": [
    "x_val = load.images_from_list_files(val_image_files, output_size=IMAGE_SIZE, interpolation=cv2.INTER_AREA)\n",
    "val_mrks = load_mrk_objects(val_mrk_files)\n",
    "\n",
    "print(x_val.shape, x_val.dtype)\n",
    "pkl.dump((val_image_files, x_val, val_mrks), open('data/val_dump.pkl', 'wb'), protocol=-1)"
   ]
  },
  {
   "cell_type": "markdown",
   "metadata": {},
   "source": [
    "# Autoencoder "
   ]
  },
  {
   "cell_type": "code",
   "execution_count": 4,
   "metadata": {},
   "outputs": [
    {
     "name": "stdout",
     "output_type": "stream",
     "text": [
      "5211\n",
      "571\n"
     ]
    }
   ],
   "source": [
    "train_image_files, _ = load_image_and_mrk_files('data/train/images/*', 'data/train/ground_truth/*')\n",
    "val_image_files, _ = load_image_and_mrk_files('data/val/**/images/*', 'data/val/**/ground_truth/*')\n",
    "\n",
    "print(len(train_image_files))\n",
    "print(len(val_image_files))"
   ]
  },
  {
   "cell_type": "code",
   "execution_count": 5,
   "metadata": {},
   "outputs": [
    {
     "name": "stdout",
     "output_type": "stream",
     "text": [
      "5211 of 5211\n",
      "571 of 571\n",
      "(5211, 232, 232, 3) float32\n",
      "(571, 232, 232, 3) (571, 232, 232, 3)\n"
     ]
    }
   ],
   "source": [
    "x_train = load.images_from_list_files(train_image_files, output_size=(232, 232), interpolation=cv2.INTER_AREA)\n",
    "x_val = load.images_from_list_files(val_image_files, output_size=(232, 232), interpolation=cv2.INTER_AREA)\n",
    "\n",
    "print(x_train.shape, x_train.dtype)\n",
    "print(x_val.shape, x_val.shape)"
   ]
  },
  {
   "cell_type": "code",
   "execution_count": 6,
   "metadata": {},
   "outputs": [],
   "source": [
    "pkl.dump((x_train, x_val), open('data/autoencoder_samples.pkl', 'wb'), protocol=-1)"
   ]
  }
 ],
 "metadata": {
  "kernelspec": {
   "display_name": "Python 3",
   "language": "python",
   "name": "python3"
  },
  "language_info": {
   "codemirror_mode": {
    "name": "ipython",
    "version": 3
   },
   "file_extension": ".py",
   "mimetype": "text/x-python",
   "name": "python",
   "nbconvert_exporter": "python",
   "pygments_lexer": "ipython3",
   "version": "3.6.8"
  }
 },
 "nbformat": 4,
 "nbformat_minor": 2
}
