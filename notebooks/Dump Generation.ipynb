{
 "cells": [
  {
   "cell_type": "markdown",
   "metadata": {},
   "source": [
    "# Dependencies"
   ]
  },
  {
   "cell_type": "code",
   "execution_count": 1,
   "metadata": {},
   "outputs": [],
   "source": [
    "from sys import path\n",
    "path.append('../src/')\n",
    "\n",
    "import cv2\n",
    "import pickle as pkl\n",
    "from os.path import join, exists\n",
    "from glob import glob\n",
    "from sys import stdout\n",
    "\n",
    "import numpy as np\n",
    "import matplotlib.pyplot as plt\n",
    "import tensorflow as tf\n",
    "\n",
    "from icao_dataset import ICAODataset\n",
    "from utils import load\n",
    "from data_structures import Point, Eye, Rect\n",
    "from global_config import FOLDER_IMAGES, FOLDER_MRKS, FILE_DATASET"
   ]
  },
  {
   "cell_type": "code",
   "execution_count": 2,
   "metadata": {},
   "outputs": [
    {
     "name": "stdout",
     "output_type": "stream",
     "text": [
      "..\\data/cropped_faces_eyes/images/\n",
      "..\\data/cropped_faces_eyes/ground_truth/\n",
      "..\\data/cropped_faces_eyes/dataset_dlib.pkl\n"
     ]
    }
   ],
   "source": [
    "PATH_TO_ROOT = \"..\"\n",
    "\n",
    "FOLDER_IMAGES = join(PATH_TO_ROOT, FOLDER_IMAGES)\n",
    "FOLDER_MRKS = join(PATH_TO_ROOT, FOLDER_MRKS)\n",
    "FILE_DATASET = join(PATH_TO_ROOT, FILE_DATASET)\n",
    "\n",
    "print(FOLDER_IMAGES)\n",
    "print(FOLDER_MRKS)\n",
    "print(FILE_DATASET)"
   ]
  },
  {
   "cell_type": "markdown",
   "metadata": {},
   "source": [
    "# Preprocessing "
   ]
  },
  {
   "cell_type": "code",
   "execution_count": 3,
   "metadata": {},
   "outputs": [],
   "source": [
    "def normalize_eye_position(eye, width, height):\n",
    "    p = Point(width, height)\n",
    "    return Eye.from_left_and_right_corners(\n",
    "        left_corner=eye.left_corner / p,\n",
    "        right_corner=eye.right_corner / p,\n",
    "    )"
   ]
  },
  {
   "cell_type": "markdown",
   "metadata": {},
   "source": [
    "# Normalized Ground-Truth"
   ]
  },
  {
   "cell_type": "code",
   "execution_count": 4,
   "metadata": {},
   "outputs": [
    {
     "name": "stdout",
     "output_type": "stream",
     "text": [
      "Dataset found. Loading... Done.\n"
     ]
    }
   ],
   "source": [
    "if exists(FILE_DATASET):\n",
    "    print(\"Dataset found. Loading... \", end=\"\")\n",
    "    dataset = pkl.load(open(FILE_DATASET, \"rb\"))\n",
    "    print(\"Done.\")\n",
    "else:\n",
    "    print(\"Generating dataset...\")\n",
    "    dataset = ICAODataset()\n",
    "    dataset.load(FOLDER_IMAGES, FOLDER_MRKS, output_size=(160, 160))\n",
    "    pkl.dump(dataset, open(FILE_DATASET, \"wb\"))"
   ]
  },
  {
   "cell_type": "code",
   "execution_count": 5,
   "metadata": {},
   "outputs": [
    {
     "name": "stdout",
     "output_type": "stream",
     "text": [
      "5731 of 5731\r"
     ]
    }
   ],
   "source": [
    "N_FILES = len(dataset.image_files)\n",
    "\n",
    "for i, (file, img, mrk) in enumerate(dataset):\n",
    "    print(f\"{i + 1} of {N_FILES}\", end=\"\\r\")\n",
    "    stdout.flush()\n",
    "    \n",
    "    height, width, _ = img.shape\n",
    "    mrk.left_eye = normalize_eye_position(mrk.left_eye, width, height)\n",
    "    mrk.right_eye = normalize_eye_position(mrk.right_eye, width, height)"
   ]
  },
  {
   "cell_type": "code",
   "execution_count": 6,
   "metadata": {},
   "outputs": [],
   "source": [
    "FILE_NORMALIZED = FILE_DATASET.replace(\".pkl\", \"_normalized.pkl\")\n",
    "pkl.dump(dataset, open(FILE_NORMALIZED, \"wb\"))"
   ]
  },
  {
   "cell_type": "code",
   "execution_count": 7,
   "metadata": {},
   "outputs": [
    {
     "name": "stdout",
     "output_type": "stream",
     "text": [
      "..\\data/cropped_faces_eyes/dataset_dlib_normalized.pkl\n"
     ]
    }
   ],
   "source": [
    "print(FILE_NORMALIZED)"
   ]
  }
 ],
 "metadata": {
  "kernelspec": {
   "display_name": "Python 3 (ipykernel)",
   "language": "python",
   "name": "python3"
  },
  "language_info": {
   "codemirror_mode": {
    "name": "ipython",
    "version": 3
   },
   "file_extension": ".py",
   "mimetype": "text/x-python",
   "name": "python",
   "nbconvert_exporter": "python",
   "pygments_lexer": "ipython3",
   "version": "3.7.10"
  }
 },
 "nbformat": 4,
 "nbformat_minor": 2
}
