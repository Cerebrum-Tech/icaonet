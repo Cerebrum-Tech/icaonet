{
 "cells": [
  {
   "cell_type": "markdown",
   "metadata": {},
   "source": [
    "# Dependencies"
   ]
  },
  {
   "cell_type": "code",
   "execution_count": 1,
   "metadata": {},
   "outputs": [],
   "source": [
    "from sys import path\n",
    "path.append('../src/')\n",
    "\n",
    "import cv2\n",
    "import numpy as np\n",
    "import pickle as pkl\n",
    "from os.path import basename, splitext\n",
    "from glob import glob\n",
    "from utils import load\n",
    "from mrk_file import MRKFile\n",
    "from global_config import FOLDER_IMAGES, FOLDER_MRKS, FILE_DUMP_IMAGES, FILE_DUMP_MRKS, IMAGE_SIZE"
   ]
  },
  {
   "cell_type": "code",
   "execution_count": 2,
   "metadata": {},
   "outputs": [
    {
     "name": "stdout",
     "output_type": "stream",
     "text": [
      "../data/pybossa/images/\n",
      "../data/pybossa/ground_truth/1_2_3_5_6_weight_2/\n",
      "../data/pybossa/pybossa_images.pkl\n",
      "../data/pybossa/pybossa_mrks.pkl\n",
      "(224, 224)\n"
     ]
    }
   ],
   "source": [
    "print(FOLDER_IMAGES)\n",
    "print(FOLDER_MRKS)\n",
    "print(FILE_DUMP_IMAGES)\n",
    "print(FILE_DUMP_MRKS)\n",
    "print(IMAGE_SIZE)"
   ]
  },
  {
   "cell_type": "markdown",
   "metadata": {},
   "source": [
    "# Data Loading "
   ]
  },
  {
   "cell_type": "code",
   "execution_count": 3,
   "metadata": {},
   "outputs": [
    {
     "name": "stdout",
     "output_type": "stream",
     "text": [
      "5763\n",
      "5763\n"
     ]
    }
   ],
   "source": [
    "image_files = np.array(glob(FOLDER_IMAGES + '*'))\n",
    "mrk_files = np.array([f'{FOLDER_MRKS}{splitext(basename(path))[0]}.mrk' for path in image_files])\n",
    "\n",
    "print(len(image_files))\n",
    "print(len(mrk_files))\n",
    "assert(len(image_files) == len(mrk_files))\\"
   ]
  },
  {
   "cell_type": "code",
   "execution_count": 4,
   "metadata": {},
   "outputs": [
    {
     "name": "stdout",
     "output_type": "stream",
     "text": [
      "5763 of 5763\n",
      "(5763,) object\n"
     ]
    }
   ],
   "source": [
    "mrks = load.mrk_files_from_list_files(mrk_files)\n",
    "print(mrks.shape, mrks.dtype)\n",
    "\n",
    "pkl.dump((mrks, mrk_files), open(FILE_DUMP_MRKS, 'wb'), protocol=-1)"
   ]
  },
  {
   "cell_type": "code",
   "execution_count": 5,
   "metadata": {},
   "outputs": [
    {
     "name": "stdout",
     "output_type": "stream",
     "text": [
      "5763 of 5763\n",
      "(5763, 224, 224, 3) float32\n"
     ]
    }
   ],
   "source": [
    "x = load.images_from_list_files(image_files, output_size=IMAGE_SIZE, interpolation=cv2.INTER_AREA)\n",
    "print(x.shape, x.dtype)\n",
    "\n",
    "pkl.dump((x, image_files), open(FILE_DUMP_IMAGES, 'wb'), protocol=-1)"
   ]
  }
 ],
 "metadata": {
  "kernelspec": {
   "display_name": "Python 3",
   "language": "python",
   "name": "python3"
  },
  "language_info": {
   "codemirror_mode": {
    "name": "ipython",
    "version": 3
   },
   "file_extension": ".py",
   "mimetype": "text/x-python",
   "name": "python",
   "nbconvert_exporter": "python",
   "pygments_lexer": "ipython3",
   "version": "3.7.6"
  }
 },
 "nbformat": 4,
 "nbformat_minor": 2
}
