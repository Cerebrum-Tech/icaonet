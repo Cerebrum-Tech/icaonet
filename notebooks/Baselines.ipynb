{
 "cells": [
  {
   "cell_type": "code",
   "execution_count": 1,
   "id": "894d0a18",
   "metadata": {},
   "outputs": [
    {
     "name": "stderr",
     "output_type": "stream",
     "text": [
      "C:\\Users\\arnal\\Miniconda3\\envs\\dl-gpu\\lib\\site-packages\\tensorflow\\python\\util\\nest.py:823: DeprecationWarning: Using or importing the ABCs from 'collections' instead of from 'collections.abc' is deprecated since Python 3.3,and in 3.9 it will stop working\n",
      "  _pywrap_tensorflow.RegisterType(\"Mapping\", _collections.Mapping)\n",
      "C:\\Users\\arnal\\Miniconda3\\envs\\dl-gpu\\lib\\site-packages\\tensorflow\\python\\training\\checkpointable\\data_structures.py:312: DeprecationWarning: Using or importing the ABCs from 'collections' instead of from 'collections.abc' is deprecated since Python 3.3,and in 3.9 it will stop working\n",
      "  class _ListWrapper(List, collections.MutableSequence,\n",
      "C:\\Users\\arnal\\Miniconda3\\envs\\dl-gpu\\lib\\site-packages\\tensorflow\\python\\training\\checkpointable\\util.py:448: DeprecationWarning: Using or importing the ABCs from 'collections' instead of from 'collections.abc' is deprecated since Python 3.3,and in 3.9 it will stop working\n",
      "  class _ObjectIdentitySet(collections.MutableSet):\n",
      "Using TensorFlow backend.\n",
      "C:\\Users\\arnal\\Miniconda3\\envs\\dl-gpu\\lib\\site-packages\\keras\\callbacks\\callbacks.py:19: DeprecationWarning: Using or importing the ABCs from 'collections' instead of from 'collections.abc' is deprecated since Python 3.3,and in 3.9 it will stop working\n",
      "  from collections import Iterable\n"
     ]
    }
   ],
   "source": [
    "from sys import path\n",
    "path.append('..')\n",
    "path.append('../src/')\n",
    "\n",
    "import os\n",
    "import cv2\n",
    "import numpy as np\n",
    "import pickle as pkl\n",
    "import matplotlib.pyplot as plt\n",
    "import mlflow\n",
    "import mlflow.keras\n",
    "import random as rn\n",
    "import tensorflow as tf\n",
    "from os.path import basename, join\n",
    "\n",
    "from sklearn.metrics import accuracy_score\n",
    "\n",
    "from keras.applications import mobilenet\n",
    "from keras.applications.mobilenet import preprocess_input\n",
    "from keras.models import Model, Sequential, load_model\n",
    "from keras.layers import Input, Dense, Dropout, Flatten, GlobalAvgPool2D\n",
    "from keras.callbacks import EarlyStopping, ModelCheckpoint\n",
    "\n",
    "from skmultilearn.model_selection import iterative_train_test_split\n",
    "\n",
    "from global_config import RANDOM_SEED, IMAGE_SIZE, FILE_DUMP_IMAGES, FILE_DUMP_MRKS\n",
    "from custom_metrics import precision, recall, f1, specificity, fbeta\n",
    "from custom_metrics import negative_predictive_value as npv \n",
    "from custom_metrics import matthews_correlation_coefficient as mcc\n",
    "from utils import plot, load\n",
    "\n",
    "%matplotlib inline"
   ]
  },
  {
   "cell_type": "code",
   "execution_count": 2,
   "id": "d63a69b6",
   "metadata": {},
   "outputs": [
    {
     "name": "stdout",
     "output_type": "stream",
     "text": [
      "../data/baseline_samples.pkl\n",
      "../data/cropped_faces/cropped_faces_mrks_224x224.pkl\n",
      "../data/cropped_faces/cropped_faces_images_224x224.pkl\n",
      "../data/baseline_features_train.pkl\n",
      "../data/baseline_features_valid.pkl\n",
      "../models/baselines/\n"
     ]
    }
   ],
   "source": [
    "PATH_TO_ROOT = '../'\n",
    "FILE_SAMPLES = \"data/baseline_samples.pkl\"\n",
    "FOLDER_MODELS = \"models/baselines/\"\n",
    "\n",
    "FILE_SAMPLES = join(PATH_TO_ROOT, FILE_SAMPLES)\n",
    "FILE_DUMP_MRKS = join(PATH_TO_ROOT, FILE_DUMP_MRKS)\n",
    "FILE_DUMP_IMAGES = join(PATH_TO_ROOT, FILE_DUMP_IMAGES)\n",
    "FILE_FEATURES_TRAIN = join(PATH_TO_ROOT, \"data/baseline_features_train.pkl\")\n",
    "FILE_FEATURES_VALID = join(PATH_TO_ROOT, \"data/baseline_features_valid.pkl\")\n",
    "FOLDER_MODELS = join(PATH_TO_ROOT, FOLDER_MODELS)\n",
    "\n",
    "print(FILE_SAMPLES)\n",
    "print(FILE_DUMP_MRKS)\n",
    "print(FILE_DUMP_IMAGES)\n",
    "print(FILE_FEATURES_TRAIN)\n",
    "print(FILE_FEATURES_VALID)\n",
    "print(FOLDER_MODELS)"
   ]
  },
  {
   "cell_type": "code",
   "execution_count": 3,
   "id": "82260e46",
   "metadata": {},
   "outputs": [],
   "source": [
    "INPUT_SHAPE = (*IMAGE_SIZE, 3)\n",
    "N_REQS = 23\n",
    "TEST_SIZE = 0.1\n",
    "MLFLOW_EXPERIMENT_NAME = 'Baselines'"
   ]
  },
  {
   "cell_type": "code",
   "execution_count": 4,
   "id": "ecf5028e",
   "metadata": {},
   "outputs": [],
   "source": [
    "def timestamp_model_name(prefix='model_', suffix='', format='%Y_%m_%d-%H_%M_%S', ext='.h5'):\n",
    "    from datetime import datetime\n",
    "    timestamp = datetime.now().strftime(format)\n",
    "    return f'{prefix}{timestamp}{suffix}{ext}'\n",
    "\n",
    "\n",
    "def set_random_seeds():\n",
    "    os.environ['PYTHONHASHSEED'] = str(RANDOM_SEED)\n",
    "    rn.seed(RANDOM_SEED)\n",
    "    np.random.seed(RANDOM_SEED)\n",
    "    tf.set_random_seed(RANDOM_SEED)\n",
    "\n",
    "\n",
    "def save_bottleneck_features(model, x, output_file):\n",
    "    features = model.predict(x, verbose=1)\n",
    "    pkl.dump(features, open(output_file, 'wb'), protocol=-1)"
   ]
  },
  {
   "cell_type": "markdown",
   "id": "f15b4581",
   "metadata": {},
   "source": [
    "# Data Loading "
   ]
  },
  {
   "cell_type": "code",
   "execution_count": 5,
   "id": "8314b005",
   "metadata": {},
   "outputs": [
    {
     "name": "stdout",
     "output_type": "stream",
     "text": [
      "(5731, 224, 224, 3) float32\n",
      "(5731, 23) int32\n",
      "5731\n"
     ]
    }
   ],
   "source": [
    "x, _ = pkl.load(open(FILE_DUMP_IMAGES, 'rb'))\n",
    "mrks, _ = pkl.load(open(FILE_DUMP_MRKS, 'rb'))\n",
    "y = np.array([mrk_file.photo_reqs.values() for mrk_file in mrks])\n",
    "\n",
    "print(x.shape, x.dtype)\n",
    "print(y.shape, y.dtype)\n",
    "print(len(mrks))"
   ]
  },
  {
   "cell_type": "code",
   "execution_count": 6,
   "id": "53a01de9",
   "metadata": {},
   "outputs": [
    {
     "name": "stdout",
     "output_type": "stream",
     "text": [
      "(5151, 224, 224, 3) (5151, 23)\n",
      "(580, 224, 224, 3) (580, 23)\n"
     ]
    }
   ],
   "source": [
    "np.random.seed(RANDOM_SEED)\n",
    "x_train_idx, y_train, x_val_idx, y_val = iterative_train_test_split(\n",
    "    np.arange(x.shape[0]).reshape(-1, 1), \n",
    "    y, \n",
    "    test_size=TEST_SIZE\n",
    ")\n",
    "x_train_idx = x_train_idx.ravel()\n",
    "x_val_idx = x_val_idx.ravel()\n",
    "\n",
    "x_train = x[x_train_idx]\n",
    "x_val = x[x_val_idx]\n",
    "\n",
    "print(x_train.shape, y_train.shape)\n",
    "print(x_val.shape, y_val.shape)"
   ]
  },
  {
   "cell_type": "code",
   "execution_count": 7,
   "id": "86515a27",
   "metadata": {},
   "outputs": [],
   "source": [
    "train_mrks = mrks[x_train_idx]\n",
    "val_mrks = mrks[x_val_idx]\n",
    "\n",
    "# pkl.dump((x_train, y_train, x_val, y_val, train_mrks, val_mrks), open(FILE_SAMPLES, 'wb'), -1)"
   ]
  },
  {
   "cell_type": "code",
   "execution_count": 8,
   "id": "b06d1f2c",
   "metadata": {},
   "outputs": [
    {
     "name": "stdout",
     "output_type": "stream",
     "text": [
      "(5151, 224, 224, 3) float32 0.0 1.0\n",
      "(5151, 23) int32 0 1\n",
      "(580, 224, 224, 3) float32 0.0 1.0\n",
      "(580, 23) int32 0 1\n"
     ]
    }
   ],
   "source": [
    "x_train, y_train, x_val, y_val, _, _ = pkl.load(open(FILE_SAMPLES, \"rb\"))\n",
    "x_train /= 255.0\n",
    "x_val /= 255.0\n",
    "\n",
    "print(x_train.shape, x_train.dtype, x_train.min(), x_train.max())\n",
    "print(y_train.shape, y_train.dtype, y_train.min(), y_train.max())\n",
    "print(x_val.shape, x_val.dtype, x_val.min(), x_val.max())\n",
    "print(y_val.shape, y_val.dtype, y_val.min(), y_val.max())"
   ]
  },
  {
   "cell_type": "markdown",
   "id": "786e09d7",
   "metadata": {},
   "source": [
    "# Save Bottlenecks "
   ]
  },
  {
   "cell_type": "code",
   "execution_count": 10,
   "id": "0ff8fb04",
   "metadata": {},
   "outputs": [
    {
     "name": "stdout",
     "output_type": "stream",
     "text": [
      "WARNING:tensorflow:From C:\\Users\\arnal\\Miniconda3\\envs\\dl-gpu\\lib\\site-packages\\tensorflow\\python\\ops\\resource_variable_ops.py:435: colocate_with (from tensorflow.python.framework.ops) is deprecated and will be removed in a future version.\n",
      "Instructions for updating:\n",
      "Colocations handled automatically by placer.\n"
     ]
    },
    {
     "name": "stderr",
     "output_type": "stream",
     "text": [
      "C:\\Users\\arnal\\Miniconda3\\envs\\dl-gpu\\lib\\site-packages\\numpy\\lib\\type_check.py:546: DeprecationWarning: np.asscalar(a) is deprecated since NumPy v1.16, use a.item() instead\n",
      "  'a.item() instead', DeprecationWarning, stacklevel=1)\n"
     ]
    },
    {
     "name": "stdout",
     "output_type": "stream",
     "text": [
      "Downloading data from https://github.com/fchollet/deep-learning-models/releases/download/v0.6/mobilenet_1_0_224_tf_no_top.h5\n",
      "17227776/17225924 [==============================] - 1s 0us/step\n",
      "5151/5151 [==============================] - 21s 4ms/step\n",
      "580/580 [==============================] - 2s 4ms/step\n"
     ]
    }
   ],
   "source": [
    "base_model = mobilenet.MobileNet(input_shape=INPUT_SHAPE, weights=\"imagenet\", include_top=False)\n",
    "\n",
    "save_bottleneck_features(base_model, x_train, FILE_FEATURES_TRAIN)\n",
    "save_bottleneck_features(base_model, x_val, FILE_FEATURES_VALID)"
   ]
  },
  {
   "cell_type": "markdown",
   "id": "6d56393b",
   "metadata": {},
   "source": [
    "# Model Training "
   ]
  },
  {
   "cell_type": "code",
   "execution_count": 11,
   "id": "441b9079",
   "metadata": {},
   "outputs": [
    {
     "name": "stdout",
     "output_type": "stream",
     "text": [
      "(5151, 7, 7, 1024) float32\n",
      "(580, 7, 7, 1024) float32\n"
     ]
    }
   ],
   "source": [
    "features_train = pkl.load(open(FILE_FEATURES_TRAIN, \"rb\"))\n",
    "features_valid = pkl.load(open(FILE_FEATURES_VALID, \"rb\"))\n",
    "\n",
    "print(features_train.shape, features_train.dtype)\n",
    "print(features_valid.shape, features_valid.dtype)"
   ]
  },
  {
   "cell_type": "code",
   "execution_count": 12,
   "id": "937cebef",
   "metadata": {
    "scrolled": false
   },
   "outputs": [
    {
     "name": "stdout",
     "output_type": "stream",
     "text": [
      "Model: \"sequential_1\"\n",
      "_________________________________________________________________\n",
      "Layer (type)                 Output Shape              Param #   \n",
      "=================================================================\n",
      "global_average_pooling2d_1 ( (None, 1024)              0         \n",
      "_________________________________________________________________\n",
      "outputs (Dense)              (None, 23)                23575     \n",
      "=================================================================\n",
      "Total params: 23,575\n",
      "Trainable params: 23,575\n",
      "Non-trainable params: 0\n",
      "_________________________________________________________________\n",
      "WARNING:tensorflow:From C:\\Users\\arnal\\Miniconda3\\envs\\dl-gpu\\lib\\site-packages\\tensorflow\\python\\ops\\math_ops.py:3066: to_int32 (from tensorflow.python.ops.math_ops) is deprecated and will be removed in a future version.\n",
      "Instructions for updating:\n",
      "Use tf.cast instead.\n",
      "Train on 5151 samples, validate on 580 samples\n",
      "Epoch 1/100\n",
      "5151/5151 [==============================] - 2s 431us/step - loss: 0.3460 - accuracy: 0.8449 - precision: 0.8673 - recall: 0.9516 - f1: 0.9067 - fbeta: 0.9298 - specificity: 0.4201 - negative_predictive_value: 0.7009 - matthews_correlation_coefficient: 0.4577 - val_loss: 0.2480 - val_accuracy: 0.9025 - val_precision: 0.9074 - val_recall: 0.9638 - val_f1: 0.9342 - val_fbeta: 0.9514 - val_specificity: 0.6699 - val_negative_predictive_value: 0.8412 - val_matthews_correlation_coefficient: 0.6881\n",
      "\n",
      "Epoch 00001: val_fbeta improved from -inf to 0.95143, saving model to ../models/baselines/baseline_mobilenet_1.00_224_2023_01_07-15_04_44.h5\n",
      "Epoch 2/100\n",
      "5151/5151 [==============================] - 1s 261us/step - loss: 0.2737 - accuracy: 0.8830 - precision: 0.8968 - recall: 0.9646 - f1: 0.9293 - fbeta: 0.9477 - specificity: 0.5578 - negative_predictive_value: 0.7992 - matthews_correlation_coefficient: 0.6021 - val_loss: 0.2273 - val_accuracy: 0.9096 - val_precision: 0.9110 - val_recall: 0.9707 - val_f1: 0.9393 - val_fbeta: 0.9574 - val_specificity: 0.6798 - val_negative_predictive_value: 0.8703 - val_matthews_correlation_coefficient: 0.7122\n",
      "\n",
      "Epoch 00002: val_fbeta improved from 0.95143 to 0.95743, saving model to ../models/baselines/baseline_mobilenet_1.00_224_2023_01_07-15_04_44.h5\n",
      "Epoch 3/100\n",
      "5151/5151 [==============================] - 1s 260us/step - loss: 0.2506 - accuracy: 0.8934 - precision: 0.9067 - recall: 0.9660 - f1: 0.9353 - fbeta: 0.9513 - specificity: 0.6045 - negative_predictive_value: 0.8183 - matthews_correlation_coefficient: 0.6425 - val_loss: 0.2153 - val_accuracy: 0.9143 - val_precision: 0.9151 - val_recall: 0.9716 - val_f1: 0.9419 - val_fbeta: 0.9595 - val_specificity: 0.6983 - val_negative_predictive_value: 0.8769 - val_matthews_correlation_coefficient: 0.7276\n",
      "\n",
      "Epoch 00003: val_fbeta improved from 0.95743 to 0.95947, saving model to ../models/baselines/baseline_mobilenet_1.00_224_2023_01_07-15_04_44.h5\n",
      "Epoch 4/100\n",
      "5151/5151 [==============================] - 1s 256us/step - loss: 0.2362 - accuracy: 0.9002 - precision: 0.9128 - recall: 0.9675 - f1: 0.9393 - fbeta: 0.9539 - specificity: 0.6311 - negative_predictive_value: 0.8304 - matthews_correlation_coefficient: 0.6664 - val_loss: 0.2047 - val_accuracy: 0.9196 - val_precision: 0.9187 - val_recall: 0.9742 - val_f1: 0.9451 - val_fbeta: 0.9623 - val_specificity: 0.7127 - val_negative_predictive_value: 0.8878 - val_matthews_correlation_coefficient: 0.7437\n",
      "\n",
      "Epoch 00004: val_fbeta improved from 0.95947 to 0.96230, saving model to ../models/baselines/baseline_mobilenet_1.00_224_2023_01_07-15_04_44.h5\n",
      "Epoch 5/100\n",
      "5151/5151 [==============================] - 1s 263us/step - loss: 0.2257 - accuracy: 0.9052 - precision: 0.9176 - recall: 0.9684 - f1: 0.9422 - fbeta: 0.9557 - specificity: 0.6528 - negative_predictive_value: 0.8393 - matthews_correlation_coefficient: 0.6852 - val_loss: 0.2033 - val_accuracy: 0.9166 - val_precision: 0.9108 - val_recall: 0.9795 - val_f1: 0.9433 - val_fbeta: 0.9642 - val_specificity: 0.6762 - val_negative_predictive_value: 0.9084 - val_matthews_correlation_coefficient: 0.7321\n",
      "\n",
      "Epoch 00005: val_fbeta improved from 0.96230 to 0.96421, saving model to ../models/baselines/baseline_mobilenet_1.00_224_2023_01_07-15_04_44.h5\n",
      "Epoch 6/100\n",
      "5151/5151 [==============================] - 1s 254us/step - loss: 0.2174 - accuracy: 0.9091 - precision: 0.9214 - recall: 0.9689 - f1: 0.9444 - fbeta: 0.9571 - specificity: 0.6708 - negative_predictive_value: 0.8450 - matthews_correlation_coefficient: 0.6997 - val_loss: 0.1971 - val_accuracy: 0.9234 - val_precision: 0.9222 - val_recall: 0.9744 - val_f1: 0.9469 - val_fbeta: 0.9630 - val_specificity: 0.7305 - val_negative_predictive_value: 0.8896 - val_matthews_correlation_coefficient: 0.7557\n",
      "\n",
      "Epoch 00006: val_fbeta did not improve from 0.96421\n",
      "Epoch 7/100\n",
      "5151/5151 [==============================] - 1s 260us/step - loss: 0.2107 - accuracy: 0.9125 - precision: 0.9244 - recall: 0.9699 - f1: 0.9465 - fbeta: 0.9586 - specificity: 0.6836 - negative_predictive_value: 0.8515 - matthews_correlation_coefficient: 0.7116 - val_loss: 0.1893 - val_accuracy: 0.9294 - val_precision: 0.9284 - val_recall: 0.9757 - val_f1: 0.9509 - val_fbeta: 0.9655 - val_specificity: 0.7539 - val_negative_predictive_value: 0.8994 - val_matthews_correlation_coefficient: 0.7766\n",
      "\n",
      "Epoch 00007: val_fbeta improved from 0.96421 to 0.96554, saving model to ../models/baselines/baseline_mobilenet_1.00_224_2023_01_07-15_04_44.h5\n",
      "Epoch 8/100\n",
      "5151/5151 [==============================] - 1s 256us/step - loss: 0.2048 - accuracy: 0.9152 - precision: 0.9274 - recall: 0.9699 - f1: 0.9481 - fbeta: 0.9592 - specificity: 0.6977 - negative_predictive_value: 0.8538 - matthews_correlation_coefficient: 0.7217 - val_loss: 0.1927 - val_accuracy: 0.9259 - val_precision: 0.9274 - val_recall: 0.9729 - val_f1: 0.9489 - val_fbeta: 0.9629 - val_specificity: 0.7521 - val_negative_predictive_value: 0.8857 - val_matthews_correlation_coefficient: 0.7672\n",
      "\n",
      "Epoch 00008: val_fbeta did not improve from 0.96554\n",
      "Epoch 9/100\n",
      "5151/5151 [==============================] - 1s 255us/step - loss: 0.1997 - accuracy: 0.9179 - precision: 0.9298 - recall: 0.9705 - f1: 0.9496 - fbeta: 0.9603 - specificity: 0.7082 - negative_predictive_value: 0.8586 - matthews_correlation_coefficient: 0.7310 - val_loss: 0.1867 - val_accuracy: 0.9276 - val_precision: 0.9269 - val_recall: 0.9739 - val_f1: 0.9492 - val_fbeta: 0.9636 - val_specificity: 0.7505 - val_negative_predictive_value: 0.8912 - val_matthews_correlation_coefficient: 0.7694\n",
      "\n",
      "Epoch 00009: val_fbeta did not improve from 0.96554\n",
      "Epoch 10/100\n",
      "5151/5151 [==============================] - 1s 252us/step - loss: 0.1954 - accuracy: 0.9194 - precision: 0.9309 - recall: 0.9713 - f1: 0.9506 - fbeta: 0.9612 - specificity: 0.7124 - negative_predictive_value: 0.8619 - matthews_correlation_coefficient: 0.7359 - val_loss: 0.1867 - val_accuracy: 0.9296 - val_precision: 0.9300 - val_recall: 0.9731 - val_f1: 0.9505 - val_fbeta: 0.9638 - val_specificity: 0.7634 - val_negative_predictive_value: 0.8909 - val_matthews_correlation_coefficient: 0.7770\n",
      "\n",
      "Epoch 00010: val_fbeta did not improve from 0.96554\n",
      "Epoch 11/100\n",
      "5151/5151 [==============================] - 1s 253us/step - loss: 0.1916 - accuracy: 0.9218 - precision: 0.9334 - recall: 0.9715 - f1: 0.9520 - fbeta: 0.9620 - specificity: 0.7241 - negative_predictive_value: 0.8650 - matthews_correlation_coefficient: 0.7448 - val_loss: 0.1876 - val_accuracy: 0.9307 - val_precision: 0.9352 - val_recall: 0.9696 - val_f1: 0.9514 - val_fbeta: 0.9622 - val_specificity: 0.7859 - val_negative_predictive_value: 0.8786 - val_matthews_correlation_coefficient: 0.7835\n",
      "\n",
      "Epoch 00011: val_fbeta did not improve from 0.96554\n",
      "Epoch 12/100\n",
      "5151/5151 [==============================] - 1s 262us/step - loss: 0.1879 - accuracy: 0.9232 - precision: 0.9350 - recall: 0.9714 - f1: 0.9528 - fbeta: 0.9623 - specificity: 0.7308 - negative_predictive_value: 0.8656 - matthews_correlation_coefficient: 0.7495 - val_loss: 0.1851 - val_accuracy: 0.9332 - val_precision: 0.9332 - val_recall: 0.9733 - val_f1: 0.9523 - val_fbeta: 0.9647 - val_specificity: 0.7770 - val_negative_predictive_value: 0.8937 - val_matthews_correlation_coefficient: 0.7871\n",
      "\n",
      "Epoch 00012: val_fbeta did not improve from 0.96554\n",
      "Epoch 13/100\n"
     ]
    },
    {
     "name": "stdout",
     "output_type": "stream",
     "text": [
      "5151/5151 [==============================] - 1s 285us/step - loss: 0.1846 - accuracy: 0.9247 - precision: 0.9360 - recall: 0.9723 - f1: 0.9537 - fbeta: 0.9632 - specificity: 0.7351 - negative_predictive_value: 0.8693 - matthews_correlation_coefficient: 0.7544 - val_loss: 0.1875 - val_accuracy: 0.9312 - val_precision: 0.9347 - val_recall: 0.9686 - val_f1: 0.9508 - val_fbeta: 0.9613 - val_specificity: 0.7848 - val_negative_predictive_value: 0.8788 - val_matthews_correlation_coefficient: 0.7825\n",
      "\n",
      "Epoch 00013: val_fbeta did not improve from 0.96554\n",
      "Epoch 14/100\n",
      "5151/5151 [==============================] - 1s 275us/step - loss: 0.1818 - accuracy: 0.9259 - precision: 0.9371 - recall: 0.9725 - f1: 0.9544 - fbeta: 0.9637 - specificity: 0.7407 - negative_predictive_value: 0.8715 - matthews_correlation_coefficient: 0.7590 - val_loss: 0.1844 - val_accuracy: 0.9304 - val_precision: 0.9312 - val_recall: 0.9747 - val_f1: 0.9518 - val_fbeta: 0.9649 - val_specificity: 0.7666 - val_negative_predictive_value: 0.8948 - val_matthews_correlation_coefficient: 0.7820\n",
      "\n",
      "Epoch 00014: val_fbeta did not improve from 0.96554\n",
      "Epoch 15/100\n",
      "5151/5151 [==============================] - 1s 252us/step - loss: 0.1798 - accuracy: 0.9264 - precision: 0.9382 - recall: 0.9719 - f1: 0.9547 - fbeta: 0.9634 - specificity: 0.7450 - negative_predictive_value: 0.8694 - matthews_correlation_coefficient: 0.7607 - val_loss: 0.1850 - val_accuracy: 0.9311 - val_precision: 0.9336 - val_recall: 0.9736 - val_f1: 0.9528 - val_fbeta: 0.9648 - val_specificity: 0.7743 - val_negative_predictive_value: 0.8945 - val_matthews_correlation_coefficient: 0.7865\n",
      "\n",
      "Epoch 00015: val_fbeta did not improve from 0.96554\n",
      "Epoch 16/100\n",
      "5151/5151 [==============================] - 1s 254us/step - loss: 0.1768 - accuracy: 0.9280 - precision: 0.9394 - recall: 0.9727 - f1: 0.9557 - fbeta: 0.9643 - specificity: 0.7494 - negative_predictive_value: 0.8742 - matthews_correlation_coefficient: 0.7661 - val_loss: 0.1798 - val_accuracy: 0.9343 - val_precision: 0.9455 - val_recall: 0.9651 - val_f1: 0.9547 - val_fbeta: 0.9611 - val_specificity: 0.8233 - val_negative_predictive_value: 0.8674 - val_matthews_correlation_coefficient: 0.8000\n",
      "\n",
      "Epoch 00016: val_fbeta did not improve from 0.96554\n",
      "Epoch 17/100\n",
      "5151/5151 [==============================] - 1s 251us/step - loss: 0.1745 - accuracy: 0.9293 - precision: 0.9408 - recall: 0.9728 - f1: 0.9564 - fbeta: 0.9648 - specificity: 0.7550 - negative_predictive_value: 0.8754 - matthews_correlation_coefficient: 0.7703 - val_loss: 0.1781 - val_accuracy: 0.9337 - val_precision: 0.9374 - val_recall: 0.9750 - val_f1: 0.9553 - val_fbeta: 0.9666 - val_specificity: 0.7871 - val_negative_predictive_value: 0.8954 - val_matthews_correlation_coefficient: 0.7962\n",
      "\n",
      "Epoch 00017: val_fbeta improved from 0.96554 to 0.96664, saving model to ../models/baselines/baseline_mobilenet_1.00_224_2023_01_07-15_04_44.h5\n",
      "Epoch 18/100\n",
      "5151/5151 [==============================] - 1s 255us/step - loss: 0.1721 - accuracy: 0.9310 - precision: 0.9421 - recall: 0.9734 - f1: 0.9575 - fbeta: 0.9655 - specificity: 0.7617 - negative_predictive_value: 0.8786 - matthews_correlation_coefficient: 0.7765 - val_loss: 0.1813 - val_accuracy: 0.9331 - val_precision: 0.9346 - val_recall: 0.9754 - val_f1: 0.9541 - val_fbeta: 0.9663 - val_specificity: 0.7784 - val_negative_predictive_value: 0.8990 - val_matthews_correlation_coefficient: 0.7922\n",
      "\n",
      "Epoch 00018: val_fbeta did not improve from 0.96664\n",
      "Epoch 19/100\n",
      "5151/5151 [==============================] - 1s 255us/step - loss: 0.1702 - accuracy: 0.9309 - precision: 0.9421 - recall: 0.9734 - f1: 0.9574 - fbeta: 0.9655 - specificity: 0.7614 - negative_predictive_value: 0.8780 - matthews_correlation_coefficient: 0.7760 - val_loss: 0.1781 - val_accuracy: 0.9364 - val_precision: 0.9441 - val_recall: 0.9667 - val_f1: 0.9550 - val_fbeta: 0.9621 - val_specificity: 0.8188 - val_negative_predictive_value: 0.8784 - val_matthews_correlation_coefficient: 0.8034\n",
      "\n",
      "Epoch 00019: val_fbeta did not improve from 0.96664\n",
      "Epoch 20/100\n",
      "5151/5151 [==============================] - 1s 253us/step - loss: 0.1683 - accuracy: 0.9315 - precision: 0.9429 - recall: 0.9733 - f1: 0.9578 - fbeta: 0.9656 - specificity: 0.7652 - negative_predictive_value: 0.8781 - matthews_correlation_coefficient: 0.7783 - val_loss: 0.1833 - val_accuracy: 0.9312 - val_precision: 0.9386 - val_recall: 0.9685 - val_f1: 0.9527 - val_fbeta: 0.9618 - val_specificity: 0.7972 - val_negative_predictive_value: 0.8753 - val_matthews_correlation_coefficient: 0.7889\n",
      "\n",
      "Epoch 00020: val_fbeta did not improve from 0.96664\n",
      "Epoch 21/100\n",
      "5151/5151 [==============================] - 1s 247us/step - loss: 0.1663 - accuracy: 0.9332 - precision: 0.9439 - recall: 0.9743 - f1: 0.9588 - fbeta: 0.9666 - specificity: 0.7683 - negative_predictive_value: 0.8827 - matthews_correlation_coefficient: 0.7832 - val_loss: 0.1788 - val_accuracy: 0.9345 - val_precision: 0.9403 - val_recall: 0.9715 - val_f1: 0.9551 - val_fbeta: 0.9645 - val_specificity: 0.8022 - val_negative_predictive_value: 0.8855 - val_matthews_correlation_coefficient: 0.7989\n",
      "\n",
      "Epoch 00021: val_fbeta did not improve from 0.96664\n",
      "Epoch 22/100\n",
      "5151/5151 [==============================] - 1s 247us/step - loss: 0.1642 - accuracy: 0.9336 - precision: 0.9447 - recall: 0.9738 - f1: 0.9590 - fbeta: 0.9665 - specificity: 0.7727 - negative_predictive_value: 0.8811 - matthews_correlation_coefficient: 0.7849 - val_loss: 0.1787 - val_accuracy: 0.9335 - val_precision: 0.9396 - val_recall: 0.9679 - val_f1: 0.9532 - val_fbeta: 0.9614 - val_specificity: 0.8026 - val_negative_predictive_value: 0.8778 - val_matthews_correlation_coefficient: 0.7932\n",
      "\n",
      "Epoch 00022: val_fbeta did not improve from 0.96664\n",
      "Epoch 23/100\n",
      "5151/5151 [==============================] - 1s 249us/step - loss: 0.1631 - accuracy: 0.9342 - precision: 0.9456 - recall: 0.9737 - f1: 0.9594 - fbeta: 0.9666 - specificity: 0.7759 - negative_predictive_value: 0.8818 - matthews_correlation_coefficient: 0.7872 - val_loss: 0.1793 - val_accuracy: 0.9355 - val_precision: 0.9414 - val_recall: 0.9709 - val_f1: 0.9556 - val_fbeta: 0.9644 - val_specificity: 0.8050 - val_negative_predictive_value: 0.8882 - val_matthews_correlation_coefficient: 0.8019\n",
      "\n",
      "Epoch 00023: val_fbeta did not improve from 0.96664\n",
      "Epoch 24/100\n",
      "5151/5151 [==============================] - 1s 253us/step - loss: 0.1615 - accuracy: 0.9351 - precision: 0.9463 - recall: 0.9741 - f1: 0.9599 - fbeta: 0.9671 - specificity: 0.7789 - negative_predictive_value: 0.8832 - matthews_correlation_coefficient: 0.7900 - val_loss: 0.1832 - val_accuracy: 0.9343 - val_precision: 0.9373 - val_recall: 0.9711 - val_f1: 0.9534 - val_fbeta: 0.9638 - val_specificity: 0.7943 - val_negative_predictive_value: 0.8874 - val_matthews_correlation_coefficient: 0.7941\n",
      "\n",
      "Epoch 00024: val_fbeta did not improve from 0.96664\n",
      "Epoch 25/100\n",
      "5151/5151 [==============================] - 1s 255us/step - loss: 0.1603 - accuracy: 0.9357 - precision: 0.9468 - recall: 0.9743 - f1: 0.9603 - fbeta: 0.9674 - specificity: 0.7821 - negative_predictive_value: 0.8850 - matthews_correlation_coefficient: 0.7930 - val_loss: 0.1795 - val_accuracy: 0.9339 - val_precision: 0.9400 - val_recall: 0.9680 - val_f1: 0.9534 - val_fbeta: 0.9618 - val_specificity: 0.8034 - val_negative_predictive_value: 0.8784 - val_matthews_correlation_coefficient: 0.7942\n",
      "\n",
      "Epoch 00025: val_fbeta did not improve from 0.96664\n",
      "Epoch 26/100\n",
      "5151/5151 [==============================] - 1s 257us/step - loss: 0.1588 - accuracy: 0.9360 - precision: 0.9471 - recall: 0.9744 - f1: 0.9605 - fbeta: 0.9675 - specificity: 0.7835 - negative_predictive_value: 0.8841 - matthews_correlation_coefficient: 0.7934 - val_loss: 0.1811 - val_accuracy: 0.9345 - val_precision: 0.9428 - val_recall: 0.9669 - val_f1: 0.9544 - val_fbeta: 0.9616 - val_specificity: 0.8123 - val_negative_predictive_value: 0.8763 - val_matthews_correlation_coefficient: 0.7985\n",
      "\n",
      "Epoch 00026: val_fbeta did not improve from 0.96664\n",
      "Epoch 27/100\n"
     ]
    },
    {
     "name": "stdout",
     "output_type": "stream",
     "text": [
      "5151/5151 [==============================] - 1s 254us/step - loss: 0.1572 - accuracy: 0.9370 - precision: 0.9477 - recall: 0.9750 - f1: 0.9611 - fbeta: 0.9681 - specificity: 0.7855 - negative_predictive_value: 0.8874 - matthews_correlation_coefficient: 0.7966 - val_loss: 0.1809 - val_accuracy: 0.9349 - val_precision: 0.9399 - val_recall: 0.9693 - val_f1: 0.9540 - val_fbeta: 0.9629 - val_specificity: 0.8030 - val_negative_predictive_value: 0.8837 - val_matthews_correlation_coefficient: 0.7973\n",
      "\n",
      "Epoch 00027: val_fbeta did not improve from 0.96664\n",
      "Epoch 28/100\n",
      "5151/5151 [==============================] - 1s 257us/step - loss: 0.1558 - accuracy: 0.9371 - precision: 0.9484 - recall: 0.9743 - f1: 0.9612 - fbeta: 0.9677 - specificity: 0.7892 - negative_predictive_value: 0.8858 - matthews_correlation_coefficient: 0.7978 - val_loss: 0.1842 - val_accuracy: 0.9338 - val_precision: 0.9398 - val_recall: 0.9674 - val_f1: 0.9529 - val_fbeta: 0.9616 - val_specificity: 0.8049 - val_negative_predictive_value: 0.8776 - val_matthews_correlation_coefficient: 0.7940\n",
      "\n",
      "Epoch 00028: val_fbeta did not improve from 0.96664\n",
      "Epoch 29/100\n",
      "5151/5151 [==============================] - 1s 255us/step - loss: 0.1550 - accuracy: 0.9383 - precision: 0.9491 - recall: 0.9752 - f1: 0.9619 - fbeta: 0.9686 - specificity: 0.7911 - negative_predictive_value: 0.8890 - matthews_correlation_coefficient: 0.8011 - val_loss: 0.1823 - val_accuracy: 0.9351 - val_precision: 0.9407 - val_recall: 0.9680 - val_f1: 0.9537 - val_fbeta: 0.9622 - val_specificity: 0.8082 - val_negative_predictive_value: 0.8790 - val_matthews_correlation_coefficient: 0.7973\n",
      "\n",
      "Epoch 00029: val_fbeta did not improve from 0.96664\n",
      "Epoch 30/100\n",
      "5151/5151 [==============================] - 1s 253us/step - loss: 0.1534 - accuracy: 0.9382 - precision: 0.9493 - recall: 0.9748 - f1: 0.9618 - fbeta: 0.9683 - specificity: 0.7918 - negative_predictive_value: 0.8878 - matthews_correlation_coefficient: 0.8008 - val_loss: 0.1828 - val_accuracy: 0.9342 - val_precision: 0.9401 - val_recall: 0.9680 - val_f1: 0.9535 - val_fbeta: 0.9619 - val_specificity: 0.8038 - val_negative_predictive_value: 0.8803 - val_matthews_correlation_coefficient: 0.7954\n",
      "\n",
      "Epoch 00030: val_fbeta did not improve from 0.96664\n",
      "Epoch 31/100\n",
      "5151/5151 [==============================] - 1s 254us/step - loss: 0.1530 - accuracy: 0.9383 - precision: 0.9496 - recall: 0.9745 - f1: 0.9619 - fbeta: 0.9681 - specificity: 0.7944 - negative_predictive_value: 0.8864 - matthews_correlation_coefficient: 0.8016 - val_loss: 0.1894 - val_accuracy: 0.9334 - val_precision: 0.9378 - val_recall: 0.9687 - val_f1: 0.9524 - val_fbeta: 0.9620 - val_specificity: 0.7979 - val_negative_predictive_value: 0.8797 - val_matthews_correlation_coefficient: 0.7911\n",
      "\n",
      "Epoch 00031: val_fbeta did not improve from 0.96664\n",
      "Epoch 32/100\n",
      "5151/5151 [==============================] - 2s 295us/step - loss: 0.1517 - accuracy: 0.9397 - precision: 0.9506 - recall: 0.9752 - f1: 0.9627 - fbeta: 0.9689 - specificity: 0.7974 - negative_predictive_value: 0.8897 - matthews_correlation_coefficient: 0.8055 - val_loss: 0.1832 - val_accuracy: 0.9340 - val_precision: 0.9458 - val_recall: 0.9626 - val_f1: 0.9539 - val_fbeta: 0.9589 - val_specificity: 0.8248 - val_negative_predictive_value: 0.8646 - val_matthews_correlation_coefficient: 0.7984\n",
      "\n",
      "Epoch 00032: val_fbeta did not improve from 0.96664\n",
      "Epoch 33/100\n",
      "5151/5151 [==============================] - 1s 263us/step - loss: 0.1502 - accuracy: 0.9395 - precision: 0.9507 - recall: 0.9748 - f1: 0.9625 - fbeta: 0.9686 - specificity: 0.7988 - negative_predictive_value: 0.8884 - matthews_correlation_coefficient: 0.8055 - val_loss: 0.1830 - val_accuracy: 0.9341 - val_precision: 0.9408 - val_recall: 0.9644 - val_f1: 0.9521 - val_fbeta: 0.9591 - val_specificity: 0.8108 - val_negative_predictive_value: 0.8706 - val_matthews_correlation_coefficient: 0.7927\n",
      "\n",
      "Epoch 00033: val_fbeta did not improve from 0.96664\n",
      "Epoch 34/100\n",
      "5151/5151 [==============================] - 1s 253us/step - loss: 0.1492 - accuracy: 0.9406 - precision: 0.9516 - recall: 0.9752 - f1: 0.9632 - fbeta: 0.9692 - specificity: 0.8025 - negative_predictive_value: 0.8906 - matthews_correlation_coefficient: 0.8090 - val_loss: 0.1844 - val_accuracy: 0.9348 - val_precision: 0.9410 - val_recall: 0.9706 - val_f1: 0.9551 - val_fbeta: 0.9639 - val_specificity: 0.8058 - val_negative_predictive_value: 0.8861 - val_matthews_correlation_coefficient: 0.8010\n",
      "\n",
      "Epoch 00034: val_fbeta did not improve from 0.96664\n",
      "Epoch 35/100\n",
      "5151/5151 [==============================] - 1s 252us/step - loss: 0.1484 - accuracy: 0.9410 - precision: 0.9520 - recall: 0.9754 - f1: 0.9635 - fbeta: 0.9694 - specificity: 0.8040 - negative_predictive_value: 0.8916 - matthews_correlation_coefficient: 0.8106 - val_loss: 0.1858 - val_accuracy: 0.9349 - val_precision: 0.9427 - val_recall: 0.9644 - val_f1: 0.9530 - val_fbeta: 0.9595 - val_specificity: 0.8175 - val_negative_predictive_value: 0.8696 - val_matthews_correlation_coefficient: 0.7966\n",
      "\n",
      "Epoch 00035: val_fbeta did not improve from 0.96664\n",
      "Epoch 36/100\n",
      "5151/5151 [==============================] - 1s 253us/step - loss: 0.1476 - accuracy: 0.9410 - precision: 0.9521 - recall: 0.9753 - f1: 0.9635 - fbeta: 0.9694 - specificity: 0.8044 - negative_predictive_value: 0.8912 - matthews_correlation_coefficient: 0.8106 - val_loss: 0.1845 - val_accuracy: 0.9337 - val_precision: 0.9423 - val_recall: 0.9670 - val_f1: 0.9541 - val_fbeta: 0.9611 - val_specificity: 0.8111 - val_negative_predictive_value: 0.8735 - val_matthews_correlation_coefficient: 0.7963\n",
      "\n",
      "Epoch 00036: val_fbeta did not improve from 0.96664\n",
      "Epoch 37/100\n",
      "5151/5151 [==============================] - 1s 253us/step - loss: 0.1462 - accuracy: 0.9420 - precision: 0.9528 - recall: 0.9757 - f1: 0.9641 - fbeta: 0.9699 - specificity: 0.8071 - negative_predictive_value: 0.8929 - matthews_correlation_coefficient: 0.8134 - val_loss: 0.1913 - val_accuracy: 0.9334 - val_precision: 0.9374 - val_recall: 0.9715 - val_f1: 0.9537 - val_fbeta: 0.9641 - val_specificity: 0.7909 - val_negative_predictive_value: 0.8877 - val_matthews_correlation_coefficient: 0.7928\n",
      "\n",
      "Epoch 00037: val_fbeta did not improve from 0.96664\n",
      "Epoch 38/100\n",
      "5151/5151 [==============================] - 1s 255us/step - loss: 0.1456 - accuracy: 0.9422 - precision: 0.9529 - recall: 0.9759 - f1: 0.9642 - fbeta: 0.9700 - specificity: 0.8080 - negative_predictive_value: 0.8943 - matthews_correlation_coefficient: 0.8147 - val_loss: 0.1855 - val_accuracy: 0.9349 - val_precision: 0.9446 - val_recall: 0.9636 - val_f1: 0.9537 - val_fbeta: 0.9593 - val_specificity: 0.8228 - val_negative_predictive_value: 0.8687 - val_matthews_correlation_coefficient: 0.7994\n",
      "\n",
      "Epoch 00038: val_fbeta did not improve from 0.96664\n",
      "Epoch 39/100\n",
      "5151/5151 [==============================] - 1s 253us/step - loss: 0.1445 - accuracy: 0.9420 - precision: 0.9531 - recall: 0.9755 - f1: 0.9641 - fbeta: 0.9697 - specificity: 0.8086 - negative_predictive_value: 0.8924 - matthews_correlation_coefficient: 0.8140 - val_loss: 0.1910 - val_accuracy: 0.9325 - val_precision: 0.9371 - val_recall: 0.9712 - val_f1: 0.9533 - val_fbeta: 0.9635 - val_specificity: 0.7923 - val_negative_predictive_value: 0.8837 - val_matthews_correlation_coefficient: 0.7911\n",
      "\n",
      "Epoch 00039: val_fbeta did not improve from 0.96664\n",
      "Epoch 40/100\n",
      "5151/5151 [==============================] - 1s 269us/step - loss: 0.1439 - accuracy: 0.9426 - precision: 0.9536 - recall: 0.9756 - f1: 0.9644 - fbeta: 0.9700 - specificity: 0.8106 - negative_predictive_value: 0.8930 - matthews_correlation_coefficient: 0.8156 - val_loss: 0.1911 - val_accuracy: 0.9331 - val_precision: 0.9379 - val_recall: 0.9703 - val_f1: 0.9534 - val_fbeta: 0.9628 - val_specificity: 0.7936 - val_negative_predictive_value: 0.8848 - val_matthews_correlation_coefficient: 0.7924\n",
      "\n",
      "Epoch 00040: val_fbeta did not improve from 0.96664\n",
      "Epoch 41/100\n",
      "5151/5151 [==============================] - 1s 257us/step - loss: 0.1430 - accuracy: 0.9428 - precision: 0.9538 - recall: 0.9756 - f1: 0.9645 - fbeta: 0.9700 - specificity: 0.8114 - negative_predictive_value: 0.8936 - matthews_correlation_coefficient: 0.8164 - val_loss: 0.1845 - val_accuracy: 0.9352 - val_precision: 0.9455 - val_recall: 0.9629 - val_f1: 0.9538 - val_fbeta: 0.9587 - val_specificity: 0.8264 - val_negative_predictive_value: 0.8662 - val_matthews_correlation_coefficient: 0.8001\n"
     ]
    },
    {
     "name": "stdout",
     "output_type": "stream",
     "text": [
      "\n",
      "Epoch 00041: val_fbeta did not improve from 0.96664\n",
      "Epoch 42/100\n",
      "5151/5151 [==============================] - 1s 254us/step - loss: 0.1421 - accuracy: 0.9432 - precision: 0.9542 - recall: 0.9758 - f1: 0.9648 - fbeta: 0.9703 - specificity: 0.8133 - negative_predictive_value: 0.8945 - matthews_correlation_coefficient: 0.8181 - val_loss: 0.1861 - val_accuracy: 0.9323 - val_precision: 0.9435 - val_recall: 0.9644 - val_f1: 0.9535 - val_fbeta: 0.9594 - val_specificity: 0.8151 - val_negative_predictive_value: 0.8660 - val_matthews_correlation_coefficient: 0.7940\n",
      "\n",
      "Epoch 00042: val_fbeta did not improve from 0.96664\n",
      "Epoch 43/100\n",
      "5151/5151 [==============================] - 1s 255us/step - loss: 0.1422 - accuracy: 0.9426 - precision: 0.9537 - recall: 0.9754 - f1: 0.9644 - fbeta: 0.9698 - specificity: 0.8115 - negative_predictive_value: 0.8930 - matthews_correlation_coefficient: 0.8160 - val_loss: 0.1852 - val_accuracy: 0.9348 - val_precision: 0.9451 - val_recall: 0.9630 - val_f1: 0.9536 - val_fbeta: 0.9588 - val_specificity: 0.8241 - val_negative_predictive_value: 0.8659 - val_matthews_correlation_coefficient: 0.7985\n",
      "\n",
      "Epoch 00043: val_fbeta did not improve from 0.96664\n",
      "Epoch 44/100\n",
      "5151/5151 [==============================] - 1s 253us/step - loss: 0.1411 - accuracy: 0.9444 - precision: 0.9551 - recall: 0.9763 - f1: 0.9655 - fbeta: 0.9709 - specificity: 0.8162 - negative_predictive_value: 0.8964 - matthews_correlation_coefficient: 0.8212 - val_loss: 0.1894 - val_accuracy: 0.9335 - val_precision: 0.9449 - val_recall: 0.9633 - val_f1: 0.9537 - val_fbeta: 0.9589 - val_specificity: 0.8210 - val_negative_predictive_value: 0.8646 - val_matthews_correlation_coefficient: 0.7964\n",
      "\n",
      "Epoch 00044: val_fbeta did not improve from 0.96664\n",
      "Epoch 45/100\n",
      "5151/5151 [==============================] - 1s 268us/step - loss: 0.1399 - accuracy: 0.9446 - precision: 0.9550 - recall: 0.9767 - f1: 0.9657 - fbeta: 0.9712 - specificity: 0.8165 - negative_predictive_value: 0.8982 - matthews_correlation_coefficient: 0.8224 - val_loss: 0.1863 - val_accuracy: 0.9351 - val_precision: 0.9427 - val_recall: 0.9682 - val_f1: 0.9549 - val_fbeta: 0.9625 - val_specificity: 0.8131 - val_negative_predictive_value: 0.8787 - val_matthews_correlation_coefficient: 0.8007\n",
      "\n",
      "Epoch 00045: val_fbeta did not improve from 0.96664\n",
      "Epoch 46/100\n",
      "5151/5151 [==============================] - 1s 270us/step - loss: 0.1393 - accuracy: 0.9450 - precision: 0.9556 - recall: 0.9766 - f1: 0.9659 - fbeta: 0.9712 - specificity: 0.8184 - negative_predictive_value: 0.8977 - matthews_correlation_coefficient: 0.8235 - val_loss: 0.1912 - val_accuracy: 0.9350 - val_precision: 0.9424 - val_recall: 0.9674 - val_f1: 0.9544 - val_fbeta: 0.9620 - val_specificity: 0.8118 - val_negative_predictive_value: 0.8778 - val_matthews_correlation_coefficient: 0.7990\n",
      "\n",
      "Epoch 00046: val_fbeta did not improve from 0.96664\n",
      "Epoch 47/100\n",
      "5151/5151 [==============================] - 1s 266us/step - loss: 0.1390 - accuracy: 0.9447 - precision: 0.9556 - recall: 0.9762 - f1: 0.9657 - fbeta: 0.9710 - specificity: 0.8190 - negative_predictive_value: 0.8967 - matthews_correlation_coefficient: 0.8230 - val_loss: 0.1910 - val_accuracy: 0.9351 - val_precision: 0.9438 - val_recall: 0.9670 - val_f1: 0.9548 - val_fbeta: 0.9614 - val_specificity: 0.8182 - val_negative_predictive_value: 0.8748 - val_matthews_correlation_coefficient: 0.8013\n",
      "\n",
      "Epoch 00047: val_fbeta did not improve from 0.96664\n",
      "Restoring model weights from the end of the best epoch\n",
      "Epoch 00047: early stopping\n"
     ]
    },
    {
     "data": {
      "image/png": "[encoded data removed]",
      "text/plain": [
       "<Figure size 864x288 with 2 Axes>"
      ]
     },
     "metadata": {
      "needs_background": "light"
     },
     "output_type": "display_data"
    }
   ],
   "source": [
    "mlflow.set_experiment(MLFLOW_EXPERIMENT_NAME)\n",
    "mlflow.log_param(\"test_size\", TEST_SIZE)\n",
    "mlflow.log_param(\"seed\", RANDOM_SEED)\n",
    "mlflow.keras.autolog()\n",
    "\n",
    "set_random_seeds()\n",
    "\n",
    "metrics = [\"accuracy\", precision, recall, f1, fbeta, specificity, npv, mcc]\n",
    "METRIC_TO_MONITOR = \"val_fbeta\"\n",
    "\n",
    "model = Sequential([\n",
    "    GlobalAvgPool2D(input_shape=features_train.shape[1:]),\n",
    "    Dense(units=N_REQS, activation=\"sigmoid\", name=\"outputs\")\n",
    "])\n",
    "model.summary()\n",
    "\n",
    "model.compile(optimizer=\"adam\", loss=\"binary_crossentropy\", metrics=metrics)\n",
    "\n",
    "FILE_MODEL = FOLDER_MODELS + timestamp_model_name(prefix=f\"baseline_{base_model.name}_\")\n",
    "list_callbacks = [\n",
    "    ModelCheckpoint(FILE_MODEL, monitor=METRIC_TO_MONITOR, mode=\"max\", verbose=1, save_best_only=True), \n",
    "    EarlyStopping(monitor=METRIC_TO_MONITOR, mode=\"max\", patience=30, verbose=1, restore_best_weights=True)\n",
    "]\n",
    "\n",
    "hist = model.fit(\n",
    "    x=features_train,\n",
    "    y=y_train,\n",
    "    batch_size=32,\n",
    "    epochs=100,\n",
    "    validation_data=(features_valid, y_val),\n",
    "    callbacks=list_callbacks\n",
    ")\n",
    "\n",
    "plot.keras_hist(hist.history)\n",
    "mlflow.end_run()"
   ]
  },
  {
   "cell_type": "markdown",
   "id": "df5d7d78",
   "metadata": {},
   "source": [
    "# Final Model "
   ]
  },
  {
   "cell_type": "code",
   "execution_count": 13,
   "id": "964af48a",
   "metadata": {},
   "outputs": [
    {
     "name": "stdout",
     "output_type": "stream",
     "text": [
      "Model: \"model_1\"\n",
      "_________________________________________________________________\n",
      "Layer (type)                 Output Shape              Param #   \n",
      "=================================================================\n",
      "input_1 (InputLayer)         (None, 224, 224, 3)       0         \n",
      "_________________________________________________________________\n",
      "conv1_pad (ZeroPadding2D)    (None, 225, 225, 3)       0         \n",
      "_________________________________________________________________\n",
      "conv1 (Conv2D)               (None, 112, 112, 32)      864       \n",
      "_________________________________________________________________\n",
      "conv1_bn (BatchNormalization (None, 112, 112, 32)      128       \n",
      "_________________________________________________________________\n",
      "conv1_relu (ReLU)            (None, 112, 112, 32)      0         \n",
      "_________________________________________________________________\n",
      "conv_dw_1 (DepthwiseConv2D)  (None, 112, 112, 32)      288       \n",
      "_________________________________________________________________\n",
      "conv_dw_1_bn (BatchNormaliza (None, 112, 112, 32)      128       \n",
      "_________________________________________________________________\n",
      "conv_dw_1_relu (ReLU)        (None, 112, 112, 32)      0         \n",
      "_________________________________________________________________\n",
      "conv_pw_1 (Conv2D)           (None, 112, 112, 64)      2048      \n",
      "_________________________________________________________________\n",
      "conv_pw_1_bn (BatchNormaliza (None, 112, 112, 64)      256       \n",
      "_________________________________________________________________\n",
      "conv_pw_1_relu (ReLU)        (None, 112, 112, 64)      0         \n",
      "_________________________________________________________________\n",
      "conv_pad_2 (ZeroPadding2D)   (None, 113, 113, 64)      0         \n",
      "_________________________________________________________________\n",
      "conv_dw_2 (DepthwiseConv2D)  (None, 56, 56, 64)        576       \n",
      "_________________________________________________________________\n",
      "conv_dw_2_bn (BatchNormaliza (None, 56, 56, 64)        256       \n",
      "_________________________________________________________________\n",
      "conv_dw_2_relu (ReLU)        (None, 56, 56, 64)        0         \n",
      "_________________________________________________________________\n",
      "conv_pw_2 (Conv2D)           (None, 56, 56, 128)       8192      \n",
      "_________________________________________________________________\n",
      "conv_pw_2_bn (BatchNormaliza (None, 56, 56, 128)       512       \n",
      "_________________________________________________________________\n",
      "conv_pw_2_relu (ReLU)        (None, 56, 56, 128)       0         \n",
      "_________________________________________________________________\n",
      "conv_dw_3 (DepthwiseConv2D)  (None, 56, 56, 128)       1152      \n",
      "_________________________________________________________________\n",
      "conv_dw_3_bn (BatchNormaliza (None, 56, 56, 128)       512       \n",
      "_________________________________________________________________\n",
      "conv_dw_3_relu (ReLU)        (None, 56, 56, 128)       0         \n",
      "_________________________________________________________________\n",
      "conv_pw_3 (Conv2D)           (None, 56, 56, 128)       16384     \n",
      "_________________________________________________________________\n",
      "conv_pw_3_bn (BatchNormaliza (None, 56, 56, 128)       512       \n",
      "_________________________________________________________________\n",
      "conv_pw_3_relu (ReLU)        (None, 56, 56, 128)       0         \n",
      "_________________________________________________________________\n",
      "conv_pad_4 (ZeroPadding2D)   (None, 57, 57, 128)       0         \n",
      "_________________________________________________________________\n",
      "conv_dw_4 (DepthwiseConv2D)  (None, 28, 28, 128)       1152      \n",
      "_________________________________________________________________\n",
      "conv_dw_4_bn (BatchNormaliza (None, 28, 28, 128)       512       \n",
      "_________________________________________________________________\n",
      "conv_dw_4_relu (ReLU)        (None, 28, 28, 128)       0         \n",
      "_________________________________________________________________\n",
      "conv_pw_4 (Conv2D)           (None, 28, 28, 256)       32768     \n",
      "_________________________________________________________________\n",
      "conv_pw_4_bn (BatchNormaliza (None, 28, 28, 256)       1024      \n",
      "_________________________________________________________________\n",
      "conv_pw_4_relu (ReLU)        (None, 28, 28, 256)       0         \n",
      "_________________________________________________________________\n",
      "conv_dw_5 (DepthwiseConv2D)  (None, 28, 28, 256)       2304      \n",
      "_________________________________________________________________\n",
      "conv_dw_5_bn (BatchNormaliza (None, 28, 28, 256)       1024      \n",
      "_________________________________________________________________\n",
      "conv_dw_5_relu (ReLU)        (None, 28, 28, 256)       0         \n",
      "_________________________________________________________________\n",
      "conv_pw_5 (Conv2D)           (None, 28, 28, 256)       65536     \n",
      "_________________________________________________________________\n",
      "conv_pw_5_bn (BatchNormaliza (None, 28, 28, 256)       1024      \n",
      "_________________________________________________________________\n",
      "conv_pw_5_relu (ReLU)        (None, 28, 28, 256)       0         \n",
      "_________________________________________________________________\n",
      "conv_pad_6 (ZeroPadding2D)   (None, 29, 29, 256)       0         \n",
      "_________________________________________________________________\n",
      "conv_dw_6 (DepthwiseConv2D)  (None, 14, 14, 256)       2304      \n",
      "_________________________________________________________________\n",
      "conv_dw_6_bn (BatchNormaliza (None, 14, 14, 256)       1024      \n",
      "_________________________________________________________________\n",
      "conv_dw_6_relu (ReLU)        (None, 14, 14, 256)       0         \n",
      "_________________________________________________________________\n",
      "conv_pw_6 (Conv2D)           (None, 14, 14, 512)       131072    \n",
      "_________________________________________________________________\n",
      "conv_pw_6_bn (BatchNormaliza (None, 14, 14, 512)       2048      \n",
      "_________________________________________________________________\n",
      "conv_pw_6_relu (ReLU)        (None, 14, 14, 512)       0         \n",
      "_________________________________________________________________\n",
      "conv_dw_7 (DepthwiseConv2D)  (None, 14, 14, 512)       4608      \n",
      "_________________________________________________________________\n",
      "conv_dw_7_bn (BatchNormaliza (None, 14, 14, 512)       2048      \n",
      "_________________________________________________________________\n",
      "conv_dw_7_relu (ReLU)        (None, 14, 14, 512)       0         \n",
      "_________________________________________________________________\n",
      "conv_pw_7 (Conv2D)           (None, 14, 14, 512)       262144    \n",
      "_________________________________________________________________\n",
      "conv_pw_7_bn (BatchNormaliza (None, 14, 14, 512)       2048      \n",
      "_________________________________________________________________\n",
      "conv_pw_7_relu (ReLU)        (None, 14, 14, 512)       0         \n",
      "_________________________________________________________________\n",
      "conv_dw_8 (DepthwiseConv2D)  (None, 14, 14, 512)       4608      \n",
      "_________________________________________________________________\n",
      "conv_dw_8_bn (BatchNormaliza (None, 14, 14, 512)       2048      \n",
      "_________________________________________________________________\n",
      "conv_dw_8_relu (ReLU)        (None, 14, 14, 512)       0         \n",
      "_________________________________________________________________\n",
      "conv_pw_8 (Conv2D)           (None, 14, 14, 512)       262144    \n",
      "_________________________________________________________________\n",
      "conv_pw_8_bn (BatchNormaliza (None, 14, 14, 512)       2048      \n",
      "_________________________________________________________________\n",
      "conv_pw_8_relu (ReLU)        (None, 14, 14, 512)       0         \n",
      "_________________________________________________________________\n",
      "conv_dw_9 (DepthwiseConv2D)  (None, 14, 14, 512)       4608      \n",
      "_________________________________________________________________\n",
      "conv_dw_9_bn (BatchNormaliza (None, 14, 14, 512)       2048      \n",
      "_________________________________________________________________\n",
      "conv_dw_9_relu (ReLU)        (None, 14, 14, 512)       0         \n",
      "_________________________________________________________________\n",
      "conv_pw_9 (Conv2D)           (None, 14, 14, 512)       262144    \n",
      "_________________________________________________________________\n",
      "conv_pw_9_bn (BatchNormaliza (None, 14, 14, 512)       2048      \n",
      "_________________________________________________________________\n",
      "conv_pw_9_relu (ReLU)        (None, 14, 14, 512)       0         \n",
      "_________________________________________________________________\n",
      "conv_dw_10 (DepthwiseConv2D) (None, 14, 14, 512)       4608      \n",
      "_________________________________________________________________\n",
      "conv_dw_10_bn (BatchNormaliz (None, 14, 14, 512)       2048      \n",
      "_________________________________________________________________\n",
      "conv_dw_10_relu (ReLU)       (None, 14, 14, 512)       0         \n",
      "_________________________________________________________________\n",
      "conv_pw_10 (Conv2D)          (None, 14, 14, 512)       262144    \n",
      "_________________________________________________________________\n",
      "conv_pw_10_bn (BatchNormaliz (None, 14, 14, 512)       2048      \n",
      "_________________________________________________________________\n",
      "conv_pw_10_relu (ReLU)       (None, 14, 14, 512)       0         \n",
      "_________________________________________________________________\n",
      "conv_dw_11 (DepthwiseConv2D) (None, 14, 14, 512)       4608      \n",
      "_________________________________________________________________\n",
      "conv_dw_11_bn (BatchNormaliz (None, 14, 14, 512)       2048      \n",
      "_________________________________________________________________\n",
      "conv_dw_11_relu (ReLU)       (None, 14, 14, 512)       0         \n",
      "_________________________________________________________________\n",
      "conv_pw_11 (Conv2D)          (None, 14, 14, 512)       262144    \n",
      "_________________________________________________________________\n",
      "conv_pw_11_bn (BatchNormaliz (None, 14, 14, 512)       2048      \n",
      "_________________________________________________________________\n",
      "conv_pw_11_relu (ReLU)       (None, 14, 14, 512)       0         \n",
      "_________________________________________________________________\n",
      "conv_pad_12 (ZeroPadding2D)  (None, 15, 15, 512)       0         \n",
      "_________________________________________________________________\n",
      "conv_dw_12 (DepthwiseConv2D) (None, 7, 7, 512)         4608      \n",
      "_________________________________________________________________\n",
      "conv_dw_12_bn (BatchNormaliz (None, 7, 7, 512)         2048      \n",
      "_________________________________________________________________\n",
      "conv_dw_12_relu (ReLU)       (None, 7, 7, 512)         0         \n",
      "_________________________________________________________________\n",
      "conv_pw_12 (Conv2D)          (None, 7, 7, 1024)        524288    \n",
      "_________________________________________________________________\n",
      "conv_pw_12_bn (BatchNormaliz (None, 7, 7, 1024)        4096      \n",
      "_________________________________________________________________\n",
      "conv_pw_12_relu (ReLU)       (None, 7, 7, 1024)        0         \n",
      "_________________________________________________________________\n",
      "conv_dw_13 (DepthwiseConv2D) (None, 7, 7, 1024)        9216      \n",
      "_________________________________________________________________\n",
      "conv_dw_13_bn (BatchNormaliz (None, 7, 7, 1024)        4096      \n",
      "_________________________________________________________________\n",
      "conv_dw_13_relu (ReLU)       (None, 7, 7, 1024)        0         \n",
      "_________________________________________________________________\n",
      "conv_pw_13 (Conv2D)          (None, 7, 7, 1024)        1048576   \n",
      "_________________________________________________________________\n",
      "conv_pw_13_bn (BatchNormaliz (None, 7, 7, 1024)        4096      \n",
      "_________________________________________________________________\n",
      "conv_pw_13_relu (ReLU)       (None, 7, 7, 1024)        0         \n",
      "_________________________________________________________________\n",
      "global_average_pooling2d_2 ( (None, 1024)              0         \n",
      "_________________________________________________________________\n",
      "outputs (Dense)              (None, 23)                23575     \n",
      "=================================================================\n",
      "Total params: 3,252,439\n",
      "Trainable params: 3,230,551\n",
      "Non-trainable params: 21,888\n",
      "_________________________________________________________________\n"
     ]
    }
   ],
   "source": [
    "last_layer = model.layers[-1]\n",
    "\n",
    "x = GlobalAvgPool2D()(base_model.output)\n",
    "outputs = Dense(units=N_REQS, activation=\"sigmoid\", name=\"outputs\")(x)\n",
    "\n",
    "final_model = Model(inputs=base_model.input, outputs=outputs)\n",
    "final_model.layers[-1].set_weights(last_layer.get_weights())\n",
    "final_model.summary()\n",
    "\n",
    "final_model.compile(optimizer=\"adam\", loss=\"binary_crossentropy\", metrics=[\"accuracy\"])"
   ]
  },
  {
   "cell_type": "code",
   "execution_count": 14,
   "id": "d39beba8",
   "metadata": {},
   "outputs": [
    {
     "name": "stdout",
     "output_type": "stream",
     "text": [
      "[[0.8706144  0.9907242  0.999987   0.51908267 0.999415   0.99985933\n",
      "  0.9979738  0.67640543 0.9972893  0.14804208 0.17199469 0.854903\n",
      "  0.9920728  0.49518925 0.88650465 0.999984   0.8111315  0.99999964\n",
      "  0.9847443  0.99988747 0.99977213 0.8351315  0.9997788 ]]\n"
     ]
    }
   ],
   "source": [
    "features_sample = features_valid[0]\n",
    "features_sample = features_sample.reshape((1, *features_valid.shape[1:]))\n",
    "\n",
    "y_model = model.predict(features_sample)\n",
    "print(y_model)"
   ]
  },
  {
   "cell_type": "code",
   "execution_count": 15,
   "id": "fa781784",
   "metadata": {},
   "outputs": [
    {
     "name": "stdout",
     "output_type": "stream",
     "text": [
      "[[0.87061477 0.99072415 0.999987   0.51908255 0.9994149  0.99985933\n",
      "  0.9979738  0.67640555 0.9972893  0.14804304 0.17199612 0.85490257\n",
      "  0.99207276 0.49518842 0.88650507 0.999984   0.8111316  0.99999964\n",
      "  0.9847443  0.9998874  0.99977213 0.83513105 0.9997788 ]]\n"
     ]
    }
   ],
   "source": [
    "x_sample = x_val[0]\n",
    "x_sample = x_sample.reshape((1, *x_val.shape[1:]))\n",
    "\n",
    "y_final = final_model.predict(x_sample)\n",
    "print(y_final)"
   ]
  },
  {
   "cell_type": "code",
   "execution_count": 16,
   "id": "d5bda586",
   "metadata": {},
   "outputs": [],
   "source": [
    "assert np.allclose(y_model, y_final)"
   ]
  },
  {
   "cell_type": "code",
   "execution_count": 17,
   "id": "4d34f16e",
   "metadata": {},
   "outputs": [
    {
     "name": "stdout",
     "output_type": "stream",
     "text": [
      "580/580 [==============================] - 2s 4ms/step\n",
      "0.253448275862069\n",
      "0.253448275862069\n"
     ]
    }
   ],
   "source": [
    "y_model = model.predict(features_valid)\n",
    "y_model = np.where(y_model >= 0.5, 1, 0)\n",
    "\n",
    "y_final = final_model.predict(x_val, verbose=1)\n",
    "y_final = np.where(y_final >= 0.5, 1, 0)\n",
    "\n",
    "acc_model = accuracy_score(y_model, y_val)\n",
    "acc_final = accuracy_score(y_final, y_val)\n",
    "\n",
    "print(acc_model)\n",
    "print(acc_final)\n",
    "assert np.isclose(acc_model, acc_final)"
   ]
  },
  {
   "cell_type": "code",
   "execution_count": 18,
   "id": "d66d3157",
   "metadata": {},
   "outputs": [],
   "source": [
    "final_model.save(FILE_MODEL)"
   ]
  },
  {
   "cell_type": "code",
   "execution_count": 19,
   "id": "e3931c76",
   "metadata": {},
   "outputs": [
    {
     "name": "stdout",
     "output_type": "stream",
     "text": [
      "../models/baselines/baseline_mobilenet_1.00_224_2023_01_07-15_04_44.h5\n"
     ]
    }
   ],
   "source": [
    "print(FILE_MODEL)"
   ]
  },
  {
   "cell_type": "code",
   "execution_count": 20,
   "id": "2d98d5dc",
   "metadata": {},
   "outputs": [
    {
     "data": {
      "text/plain": [
       "'../data/cropped_faces/ground_truth/afwDB_0.mrk'"
      ]
     },
     "execution_count": 20,
     "metadata": {},
     "output_type": "execute_result"
    }
   ],
   "source": [
    "val_mrks[0].filepath"
   ]
  },
  {
   "cell_type": "code",
   "execution_count": null,
   "id": "7a1143db",
   "metadata": {},
   "outputs": [],
   "source": []
  }
 ],
 "metadata": {
  "kernelspec": {
   "display_name": "Python 3 (ipykernel)",
   "language": "python",
   "name": "python3"
  },
  "language_info": {
   "codemirror_mode": {
    "name": "ipython",
    "version": 3
   },
   "file_extension": ".py",
   "mimetype": "text/x-python",
   "name": "python",
   "nbconvert_exporter": "python",
   "pygments_lexer": "ipython3",
   "version": "3.7.10"
  }
 },
 "nbformat": 4,
 "nbformat_minor": 5
}
