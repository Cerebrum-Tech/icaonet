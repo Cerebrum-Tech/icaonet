{
 "cells": [
  {
   "cell_type": "code",
   "execution_count": 30,
   "id": "894d0a18",
   "metadata": {},
   "outputs": [],
   "source": [
    "from sys import path\n",
    "path.append('..')\n",
    "path.append('../src/')\n",
    "\n",
    "import os\n",
    "import cv2\n",
    "import numpy as np\n",
    "import pickle as pkl\n",
    "import matplotlib.pyplot as plt\n",
    "import mlflow\n",
    "import mlflow.keras\n",
    "import random as rn\n",
    "import tensorflow as tf\n",
    "from os.path import basename, join\n",
    "\n",
    "from sklearn.metrics import accuracy_score\n",
    "\n",
    "from keras.applications import MobileNet\n",
    "from keras.models import Model, Sequential, load_model\n",
    "from keras.layers import Input, Dense, Dropout, Flatten, GlobalAvgPool2D\n",
    "from keras.callbacks import EarlyStopping, ModelCheckpoint\n",
    "\n",
    "from skmultilearn.model_selection import iterative_train_test_split\n",
    "\n",
    "from global_config import RANDOM_SEED, IMAGE_SIZE, FILE_DUMP_IMAGES, FILE_DUMP_MRKS\n",
    "from custom_metrics import precision, recall, f1, specificity, fbeta\n",
    "from custom_metrics import negative_predictive_value as npv \n",
    "from custom_metrics import matthews_correlation_coefficient as mcc\n",
    "from utils import plot, load\n",
    "\n",
    "%matplotlib inline"
   ]
  },
  {
   "cell_type": "code",
   "execution_count": 2,
   "id": "d63a69b6",
   "metadata": {},
   "outputs": [
    {
     "name": "stdout",
     "output_type": "stream",
     "text": [
      "../data/baseline_samples.pkl\n",
      "../data/cropped_faces/cropped_faces_mrks.pkl\n",
      "../data/cropped_faces/cropped_faces_images.pkl\n",
      "../data/baseline_features_train.pkl\n",
      "../data/baseline_features_valid.pkl\n",
      "../models/baselines/\n"
     ]
    }
   ],
   "source": [
    "PATH_TO_ROOT = '../'\n",
    "FILE_SAMPLES = \"data/baseline_samples.pkl\"\n",
    "FOLDER_MODELS = \"models/baselines/\"\n",
    "\n",
    "FILE_SAMPLES = join(PATH_TO_ROOT, FILE_SAMPLES)\n",
    "FILE_DUMP_MRKS = join(PATH_TO_ROOT, FILE_DUMP_MRKS)\n",
    "FILE_DUMP_IMAGES = join(PATH_TO_ROOT, FILE_DUMP_IMAGES)\n",
    "FILE_FEATURES_TRAIN = join(PATH_TO_ROOT, \"data/baseline_features_train.pkl\")\n",
    "FILE_FEATURES_VALID = join(PATH_TO_ROOT, \"data/baseline_features_valid.pkl\")\n",
    "FOLDER_MODELS = join(PATH_TO_ROOT, FOLDER_MODELS)\n",
    "\n",
    "print(FILE_SAMPLES)\n",
    "print(FILE_DUMP_MRKS)\n",
    "print(FILE_DUMP_IMAGES)\n",
    "print(FILE_FEATURES_TRAIN)\n",
    "print(FILE_FEATURES_VALID)\n",
    "print(FOLDER_MODELS)"
   ]
  },
  {
   "cell_type": "code",
   "execution_count": 3,
   "id": "82260e46",
   "metadata": {},
   "outputs": [],
   "source": [
    "INPUT_SHAPE = (*IMAGE_SIZE, 3)\n",
    "N_REQS = 23\n",
    "TEST_SIZE = 0.1\n",
    "MLFLOW_EXPERIMENT_NAME = 'Baselines'"
   ]
  },
  {
   "cell_type": "code",
   "execution_count": 4,
   "id": "ecf5028e",
   "metadata": {},
   "outputs": [],
   "source": [
    "def timestamp_model_name(prefix='model_', suffix='', format='%Y_%m_%d-%H_%M_%S', ext='.h5'):\n",
    "    from datetime import datetime\n",
    "    timestamp = datetime.now().strftime(format)\n",
    "    return f'{prefix}{timestamp}{suffix}{ext}'\n",
    "\n",
    "\n",
    "def set_random_seeds():\n",
    "    os.environ['PYTHONHASHSEED'] = str(RANDOM_SEED)\n",
    "    rn.seed(RANDOM_SEED)\n",
    "    np.random.seed(RANDOM_SEED)\n",
    "    tf.set_random_seed(RANDOM_SEED)\n",
    "\n",
    "\n",
    "def save_bottleneck_features(model, x, output_file):\n",
    "    features = model.predict(x, verbose=1)\n",
    "    pkl.dump(features, open(output_file, 'wb'), protocol=-1)"
   ]
  },
  {
   "cell_type": "markdown",
   "id": "f15b4581",
   "metadata": {},
   "source": [
    "# Data Loading "
   ]
  },
  {
   "cell_type": "code",
   "execution_count": 5,
   "id": "8314b005",
   "metadata": {},
   "outputs": [
    {
     "name": "stdout",
     "output_type": "stream",
     "text": [
      "(5731, 160, 160, 3) float32\n",
      "(5731, 23) int32\n",
      "5731\n"
     ]
    }
   ],
   "source": [
    "x, _ = pkl.load(open(FILE_DUMP_IMAGES, 'rb'))\n",
    "mrks, _ = pkl.load(open(FILE_DUMP_MRKS, 'rb'))\n",
    "y = np.array([mrk_file.photo_reqs.values() for mrk_file in mrks])\n",
    "\n",
    "print(x.shape, x.dtype)\n",
    "print(y.shape, y.dtype)\n",
    "print(len(mrks))"
   ]
  },
  {
   "cell_type": "code",
   "execution_count": 6,
   "id": "53a01de9",
   "metadata": {},
   "outputs": [
    {
     "name": "stdout",
     "output_type": "stream",
     "text": [
      "(5151, 160, 160, 3) (5151, 23)\n",
      "(580, 160, 160, 3) (580, 23)\n"
     ]
    }
   ],
   "source": [
    "np.random.seed(RANDOM_SEED)\n",
    "x_train_idx, y_train, x_val_idx, y_val = iterative_train_test_split(\n",
    "    np.arange(x.shape[0]).reshape(-1, 1), \n",
    "    y, \n",
    "    test_size=TEST_SIZE\n",
    ")\n",
    "x_train_idx = x_train_idx.ravel()\n",
    "x_val_idx = x_val_idx.ravel()\n",
    "\n",
    "x_train = x[x_train_idx]\n",
    "x_val = x[x_val_idx]\n",
    "\n",
    "print(x_train.shape, y_train.shape)\n",
    "print(x_val.shape, y_val.shape)"
   ]
  },
  {
   "cell_type": "code",
   "execution_count": 7,
   "id": "86515a27",
   "metadata": {},
   "outputs": [],
   "source": [
    "train_mrks = mrks[x_train_idx]\n",
    "val_mrks = mrks[x_val_idx]\n",
    "\n",
    "# pkl.dump((x_train, y_train, x_val, y_val, train_mrks, val_mrks), open(FILE_SAMPLES, 'wb'), -1)"
   ]
  },
  {
   "cell_type": "code",
   "execution_count": 8,
   "id": "b06d1f2c",
   "metadata": {},
   "outputs": [
    {
     "name": "stdout",
     "output_type": "stream",
     "text": [
      "(5151, 160, 160, 3) float32 0.0 1.0\n",
      "(5151, 23) int32 0 1\n",
      "(580, 160, 160, 3) float32 0.0 1.0\n",
      "(580, 23) int32 0 1\n"
     ]
    }
   ],
   "source": [
    "x_train, y_train, x_val, y_val, _, _ = pkl.load(open(FILE_SAMPLES, \"rb\"))\n",
    "x_train /= 255.0\n",
    "x_val /= 255.0\n",
    "\n",
    "print(x_train.shape, x_train.dtype, x_train.min(), x_train.max())\n",
    "print(y_train.shape, y_train.dtype, y_train.min(), y_train.max())\n",
    "print(x_val.shape, x_val.dtype, x_val.min(), x_val.max())\n",
    "print(y_val.shape, y_val.dtype, y_val.min(), y_val.max())"
   ]
  },
  {
   "cell_type": "markdown",
   "id": "0b0ff36a",
   "metadata": {},
   "source": [
    "# Save Bottlenecks "
   ]
  },
  {
   "cell_type": "code",
   "execution_count": 9,
   "id": "0ff8fb04",
   "metadata": {},
   "outputs": [
    {
     "name": "stdout",
     "output_type": "stream",
     "text": [
      "WARNING:tensorflow:From C:\\Users\\arnal\\Miniconda3\\envs\\dl-gpu\\lib\\site-packages\\tensorflow\\python\\ops\\resource_variable_ops.py:435: colocate_with (from tensorflow.python.framework.ops) is deprecated and will be removed in a future version.\n",
      "Instructions for updating:\n",
      "Colocations handled automatically by placer.\n",
      "5151/5151 [==============================] - 199s 39ms/step\n",
      "580/580 [==============================] - 22s 38ms/step\n"
     ]
    }
   ],
   "source": [
    "base_model = MobileNet(input_shape=INPUT_SHAPE, weights=\"imagenet\", include_top=False)\n",
    "\n",
    "save_bottleneck_features(base_model, x_train, FILE_FEATURES_TRAIN)\n",
    "save_bottleneck_features(base_model, x_val, FILE_FEATURES_VALID)"
   ]
  },
  {
   "cell_type": "markdown",
   "id": "6d56393b",
   "metadata": {},
   "source": [
    "# Model Training "
   ]
  },
  {
   "cell_type": "code",
   "execution_count": 10,
   "id": "90cd437c",
   "metadata": {},
   "outputs": [
    {
     "name": "stdout",
     "output_type": "stream",
     "text": [
      "(5151, 5, 5, 1024) float32\n",
      "(580, 5, 5, 1024) float32\n"
     ]
    }
   ],
   "source": [
    "features_train = pkl.load(open(FILE_FEATURES_TRAIN, \"rb\"))\n",
    "features_valid = pkl.load(open(FILE_FEATURES_VALID, \"rb\"))\n",
    "\n",
    "print(features_train.shape, features_train.dtype)\n",
    "print(features_valid.shape, features_valid.dtype)"
   ]
  },
  {
   "cell_type": "code",
   "execution_count": 11,
   "id": "937cebef",
   "metadata": {},
   "outputs": [
    {
     "name": "stdout",
     "output_type": "stream",
     "text": [
      "Model: \"sequential_1\"\n",
      "_________________________________________________________________\n",
      "Layer (type)                 Output Shape              Param #   \n",
      "=================================================================\n",
      "global_average_pooling2d_2 ( (None, 1024)              0         \n",
      "_________________________________________________________________\n",
      "outputs (Dense)              (None, 23)                23575     \n",
      "=================================================================\n",
      "Total params: 23,575\n",
      "Trainable params: 23,575\n",
      "Non-trainable params: 0\n",
      "_________________________________________________________________\n",
      "WARNING:tensorflow:From C:\\Users\\arnal\\Miniconda3\\envs\\dl-gpu\\lib\\site-packages\\tensorflow\\python\\ops\\math_ops.py:3066: to_int32 (from tensorflow.python.ops.math_ops) is deprecated and will be removed in a future version.\n",
      "Instructions for updating:\n",
      "Use tf.cast instead.\n",
      "Train on 5151 samples, validate on 580 samples\n",
      "Epoch 1/100\n",
      "5151/5151 [==============================] - 1s 150us/step - loss: 0.3546 - accuracy: 0.8440 - precision: 0.8683 - recall: 0.9489 - f1: 0.9061 - fbeta: 0.9282 - specificity: 0.4265 - negative_predictive_value: 0.6885 - matthews_correlation_coefficient: 0.4558 - val_loss: 0.2561 - val_accuracy: 0.9004 - val_precision: 0.9057 - val_recall: 0.9617 - val_f1: 0.9320 - val_fbeta: 0.9485 - val_specificity: 0.6663 - val_negative_predictive_value: 0.8311 - val_matthews_correlation_coefficient: 0.6793\n",
      "\n",
      "Epoch 00001: val_fbeta improved from -inf to 0.94849, saving model to ../models/baselines/baseline_mobilenet_1.00_160_2021_06_26-23_43_51.h5\n",
      "Epoch 2/100\n",
      "5151/5151 [==============================] - 1s 102us/step - loss: 0.2751 - accuracy: 0.8836 - precision: 0.8980 - recall: 0.9638 - f1: 0.9296 - fbeta: 0.9475 - specificity: 0.5638 - negative_predictive_value: 0.7960 - matthews_correlation_coefficient: 0.6044 - val_loss: 0.2318 - val_accuracy: 0.9082 - val_precision: 0.9084 - val_recall: 0.9680 - val_f1: 0.9367 - val_fbeta: 0.9543 - val_specificity: 0.6724 - val_negative_predictive_value: 0.8646 - val_matthews_correlation_coefficient: 0.7028\n",
      "\n",
      "Epoch 00002: val_fbeta improved from 0.94849 to 0.95432, saving model to ../models/baselines/baseline_mobilenet_1.00_160_2021_06_26-23_43_51.h5\n",
      "Epoch 3/100\n",
      "5151/5151 [==============================] - 0s 93us/step - loss: 0.2510 - accuracy: 0.8937 - precision: 0.9074 - recall: 0.9655 - f1: 0.9354 - fbeta: 0.9512 - specificity: 0.6077 - negative_predictive_value: 0.8157 - matthews_correlation_coefficient: 0.6432 - val_loss: 0.2206 - val_accuracy: 0.9132 - val_precision: 0.9096 - val_recall: 0.9743 - val_f1: 0.9403 - val_fbeta: 0.9596 - val_specificity: 0.6760 - val_negative_predictive_value: 0.8879 - val_matthews_correlation_coefficient: 0.7195\n",
      "\n",
      "Epoch 00003: val_fbeta improved from 0.95432 to 0.95961, saving model to ../models/baselines/baseline_mobilenet_1.00_160_2021_06_26-23_43_51.h5\n",
      "Epoch 4/100\n",
      "5151/5151 [==============================] - 0s 94us/step - loss: 0.2365 - accuracy: 0.9010 - precision: 0.9139 - recall: 0.9673 - f1: 0.9398 - fbeta: 0.9542 - specificity: 0.6361 - negative_predictive_value: 0.8306 - matthews_correlation_coefficient: 0.6697 - val_loss: 0.2101 - val_accuracy: 0.9184 - val_precision: 0.9188 - val_recall: 0.9730 - val_f1: 0.9446 - val_fbeta: 0.9606 - val_specificity: 0.7136 - val_negative_predictive_value: 0.8839 - val_matthews_correlation_coefficient: 0.7417\n",
      "\n",
      "Epoch 00004: val_fbeta improved from 0.95961 to 0.96055, saving model to ../models/baselines/baseline_mobilenet_1.00_160_2021_06_26-23_43_51.h5\n",
      "Epoch 5/100\n",
      "5151/5151 [==============================] - 0s 91us/step - loss: 0.2256 - accuracy: 0.9060 - precision: 0.9187 - recall: 0.9679 - f1: 0.9426 - fbeta: 0.9558 - specificity: 0.6587 - negative_predictive_value: 0.8382 - matthews_correlation_coefficient: 0.6883 - val_loss: 0.2049 - val_accuracy: 0.9193 - val_precision: 0.9172 - val_recall: 0.9764 - val_f1: 0.9453 - val_fbeta: 0.9630 - val_specificity: 0.7059 - val_negative_predictive_value: 0.8980 - val_matthews_correlation_coefficient: 0.7451\n",
      "\n",
      "Epoch 00005: val_fbeta improved from 0.96055 to 0.96296, saving model to ../models/baselines/baseline_mobilenet_1.00_160_2021_06_26-23_43_51.h5\n",
      "Epoch 6/100\n",
      "5151/5151 [==============================] - 0s 92us/step - loss: 0.2172 - accuracy: 0.9108 - precision: 0.9228 - recall: 0.9696 - f1: 0.9455 - fbeta: 0.9581 - specificity: 0.6772 - negative_predictive_value: 0.8484 - matthews_correlation_coefficient: 0.7058 - val_loss: 0.1985 - val_accuracy: 0.9248 - val_precision: 0.9261 - val_recall: 0.9733 - val_f1: 0.9486 - val_fbeta: 0.9626 - val_specificity: 0.7462 - val_negative_predictive_value: 0.8885 - val_matthews_correlation_coefficient: 0.7648\n",
      "\n",
      "Epoch 00006: val_fbeta did not improve from 0.96296\n",
      "Epoch 7/100\n",
      "5151/5151 [==============================] - 0s 92us/step - loss: 0.2102 - accuracy: 0.9136 - precision: 0.9257 - recall: 0.9698 - f1: 0.9471 - fbeta: 0.9590 - specificity: 0.6890 - negative_predictive_value: 0.8518 - matthews_correlation_coefficient: 0.7152 - val_loss: 0.1930 - val_accuracy: 0.9277 - val_precision: 0.9303 - val_recall: 0.9709 - val_f1: 0.9497 - val_fbeta: 0.9613 - val_specificity: 0.7642 - val_negative_predictive_value: 0.8841 - val_matthews_correlation_coefficient: 0.7730\n",
      "\n",
      "Epoch 00007: val_fbeta did not improve from 0.96296\n",
      "Epoch 8/100\n",
      "5151/5151 [==============================] - 0s 90us/step - loss: 0.2048 - accuracy: 0.9158 - precision: 0.9280 - recall: 0.9699 - f1: 0.9484 - fbeta: 0.9596 - specificity: 0.7004 - negative_predictive_value: 0.8541 - matthews_correlation_coefficient: 0.7236 - val_loss: 0.1948 - val_accuracy: 0.9259 - val_precision: 0.9292 - val_recall: 0.9687 - val_f1: 0.9481 - val_fbeta: 0.9596 - val_specificity: 0.7622 - val_negative_predictive_value: 0.8764 - val_matthews_correlation_coefficient: 0.7667\n",
      "\n",
      "Epoch 00008: val_fbeta did not improve from 0.96296\n",
      "Epoch 9/100\n",
      "5151/5151 [==============================] - 0s 90us/step - loss: 0.1996 - accuracy: 0.9181 - precision: 0.9300 - recall: 0.9705 - f1: 0.9497 - fbeta: 0.9606 - specificity: 0.7088 - negative_predictive_value: 0.8578 - matthews_correlation_coefficient: 0.7312 - val_loss: 0.1919 - val_accuracy: 0.9279 - val_precision: 0.9287 - val_recall: 0.9734 - val_f1: 0.9500 - val_fbeta: 0.9632 - val_specificity: 0.7569 - val_negative_predictive_value: 0.8909 - val_matthews_correlation_coefficient: 0.7730\n",
      "\n",
      "Epoch 00009: val_fbeta improved from 0.96296 to 0.96319, saving model to ../models/baselines/baseline_mobilenet_1.00_160_2021_06_26-23_43_51.h5\n",
      "Epoch 10/100\n",
      "5151/5151 [==============================] - 0s 95us/step - loss: 0.1951 - accuracy: 0.9200 - precision: 0.9315 - recall: 0.9713 - f1: 0.9509 - fbeta: 0.9616 - specificity: 0.7150 - negative_predictive_value: 0.8626 - matthews_correlation_coefficient: 0.7379 - val_loss: 0.1880 - val_accuracy: 0.9283 - val_precision: 0.9306 - val_recall: 0.9717 - val_f1: 0.9501 - val_fbeta: 0.9622 - val_specificity: 0.7673 - val_negative_predictive_value: 0.8849 - val_matthews_correlation_coefficient: 0.7756\n",
      "\n",
      "Epoch 00010: val_fbeta did not improve from 0.96319\n",
      "Epoch 11/100\n",
      "5151/5151 [==============================] - 0s 92us/step - loss: 0.1915 - accuracy: 0.9220 - precision: 0.9338 - recall: 0.9713 - f1: 0.9521 - fbeta: 0.9622 - specificity: 0.7262 - negative_predictive_value: 0.8644 - matthews_correlation_coefficient: 0.7457 - val_loss: 0.1894 - val_accuracy: 0.9290 - val_precision: 0.9331 - val_recall: 0.9699 - val_f1: 0.9505 - val_fbeta: 0.9613 - val_specificity: 0.7787 - val_negative_predictive_value: 0.8790 - val_matthews_correlation_coefficient: 0.7789\n",
      "\n",
      "Epoch 00011: val_fbeta did not improve from 0.96319\n",
      "Epoch 12/100\n",
      "5151/5151 [==============================] - 0s 93us/step - loss: 0.1881 - accuracy: 0.9232 - precision: 0.9351 - recall: 0.9714 - f1: 0.9528 - fbeta: 0.9625 - specificity: 0.7307 - negative_predictive_value: 0.8658 - matthews_correlation_coefficient: 0.7495 - val_loss: 0.1884 - val_accuracy: 0.9284 - val_precision: 0.9287 - val_recall: 0.9727 - val_f1: 0.9495 - val_fbeta: 0.9624 - val_specificity: 0.7610 - val_negative_predictive_value: 0.8889 - val_matthews_correlation_coefficient: 0.7739\n",
      "\n",
      "Epoch 00012: val_fbeta did not improve from 0.96319\n",
      "Epoch 13/100\n"
     ]
    },
    {
     "name": "stdout",
     "output_type": "stream",
     "text": [
      "5151/5151 [==============================] - 0s 93us/step - loss: 0.1845 - accuracy: 0.9252 - precision: 0.9364 - recall: 0.9724 - f1: 0.9540 - fbeta: 0.9636 - specificity: 0.7374 - negative_predictive_value: 0.8702 - matthews_correlation_coefficient: 0.7563 - val_loss: 0.1900 - val_accuracy: 0.9292 - val_precision: 0.9310 - val_recall: 0.9723 - val_f1: 0.9506 - val_fbeta: 0.9629 - val_specificity: 0.7683 - val_negative_predictive_value: 0.8886 - val_matthews_correlation_coefficient: 0.7785\n",
      "\n",
      "Epoch 00013: val_fbeta did not improve from 0.96319\n",
      "Epoch 14/100\n",
      "5151/5151 [==============================] - 0s 95us/step - loss: 0.1818 - accuracy: 0.9263 - precision: 0.9379 - recall: 0.9722 - f1: 0.9547 - fbeta: 0.9638 - specificity: 0.7440 - negative_predictive_value: 0.8708 - matthews_correlation_coefficient: 0.7607 - val_loss: 0.1879 - val_accuracy: 0.9300 - val_precision: 0.9314 - val_recall: 0.9746 - val_f1: 0.9519 - val_fbeta: 0.9647 - val_specificity: 0.7672 - val_negative_predictive_value: 0.8947 - val_matthews_correlation_coefficient: 0.7822\n",
      "\n",
      "Epoch 00014: val_fbeta improved from 0.96319 to 0.96468, saving model to ../models/baselines/baseline_mobilenet_1.00_160_2021_06_26-23_43_51.h5\n",
      "Epoch 15/100\n",
      "5151/5151 [==============================] - 0s 90us/step - loss: 0.1793 - accuracy: 0.9271 - precision: 0.9386 - recall: 0.9724 - f1: 0.9551 - fbeta: 0.9641 - specificity: 0.7469 - negative_predictive_value: 0.8720 - matthews_correlation_coefficient: 0.7633 - val_loss: 0.1871 - val_accuracy: 0.9289 - val_precision: 0.9321 - val_recall: 0.9712 - val_f1: 0.9507 - val_fbeta: 0.9618 - val_specificity: 0.7729 - val_negative_predictive_value: 0.8855 - val_matthews_correlation_coefficient: 0.7794\n",
      "\n",
      "Epoch 00015: val_fbeta did not improve from 0.96468\n",
      "Epoch 16/100\n",
      "5151/5151 [==============================] - 0s 93us/step - loss: 0.1764 - accuracy: 0.9289 - precision: 0.9402 - recall: 0.9729 - f1: 0.9562 - fbeta: 0.9649 - specificity: 0.7529 - negative_predictive_value: 0.8748 - matthews_correlation_coefficient: 0.7689 - val_loss: 0.1837 - val_accuracy: 0.9325 - val_precision: 0.9380 - val_recall: 0.9685 - val_f1: 0.9524 - val_fbeta: 0.9615 - val_specificity: 0.7985 - val_negative_predictive_value: 0.8775 - val_matthews_correlation_coefficient: 0.7903\n",
      "\n",
      "Epoch 00016: val_fbeta did not improve from 0.96468\n",
      "Epoch 17/100\n",
      "5151/5151 [==============================] - 0s 95us/step - loss: 0.1742 - accuracy: 0.9300 - precision: 0.9412 - recall: 0.9733 - f1: 0.9569 - fbeta: 0.9654 - specificity: 0.7572 - negative_predictive_value: 0.8774 - matthews_correlation_coefficient: 0.7729 - val_loss: 0.1833 - val_accuracy: 0.9316 - val_precision: 0.9366 - val_recall: 0.9707 - val_f1: 0.9527 - val_fbeta: 0.9627 - val_specificity: 0.7899 - val_negative_predictive_value: 0.8825 - val_matthews_correlation_coefficient: 0.7886\n",
      "\n",
      "Epoch 00017: val_fbeta did not improve from 0.96468\n",
      "Epoch 18/100\n",
      "5151/5151 [==============================] - 0s 90us/step - loss: 0.1721 - accuracy: 0.9308 - precision: 0.9420 - recall: 0.9732 - f1: 0.9573 - fbeta: 0.9656 - specificity: 0.7615 - negative_predictive_value: 0.8778 - matthews_correlation_coefficient: 0.7758 - val_loss: 0.1844 - val_accuracy: 0.9317 - val_precision: 0.9316 - val_recall: 0.9755 - val_f1: 0.9523 - val_fbeta: 0.9653 - val_specificity: 0.7707 - val_negative_predictive_value: 0.8980 - val_matthews_correlation_coefficient: 0.7861\n",
      "\n",
      "Epoch 00018: val_fbeta improved from 0.96468 to 0.96527, saving model to ../models/baselines/baseline_mobilenet_1.00_160_2021_06_26-23_43_51.h5\n",
      "Epoch 19/100\n",
      "5151/5151 [==============================] - 0s 90us/step - loss: 0.1701 - accuracy: 0.9313 - precision: 0.9422 - recall: 0.9737 - f1: 0.9576 - fbeta: 0.9659 - specificity: 0.7617 - negative_predictive_value: 0.8791 - matthews_correlation_coefficient: 0.7769 - val_loss: 0.1829 - val_accuracy: 0.9310 - val_precision: 0.9376 - val_recall: 0.9663 - val_f1: 0.9512 - val_fbeta: 0.9594 - val_specificity: 0.7966 - val_negative_predictive_value: 0.8726 - val_matthews_correlation_coefficient: 0.7856\n",
      "\n",
      "Epoch 00019: val_fbeta did not improve from 0.96527\n",
      "Epoch 20/100\n",
      "5151/5151 [==============================] - 0s 93us/step - loss: 0.1682 - accuracy: 0.9321 - precision: 0.9434 - recall: 0.9734 - f1: 0.9581 - fbeta: 0.9659 - specificity: 0.7675 - negative_predictive_value: 0.8785 - matthews_correlation_coefficient: 0.7801 - val_loss: 0.1878 - val_accuracy: 0.9301 - val_precision: 0.9344 - val_recall: 0.9707 - val_f1: 0.9515 - val_fbeta: 0.9621 - val_specificity: 0.7834 - val_negative_predictive_value: 0.8813 - val_matthews_correlation_coefficient: 0.7836\n",
      "\n",
      "Epoch 00020: val_fbeta did not improve from 0.96527\n",
      "Epoch 21/100\n",
      "5151/5151 [==============================] - 0s 90us/step - loss: 0.1664 - accuracy: 0.9331 - precision: 0.9443 - recall: 0.9737 - f1: 0.9588 - fbeta: 0.9665 - specificity: 0.7704 - negative_predictive_value: 0.8802 - matthews_correlation_coefficient: 0.7830 - val_loss: 0.1862 - val_accuracy: 0.9310 - val_precision: 0.9334 - val_recall: 0.9729 - val_f1: 0.9521 - val_fbeta: 0.9638 - val_specificity: 0.7778 - val_negative_predictive_value: 0.8897 - val_matthews_correlation_coefficient: 0.7854\n",
      "\n",
      "Epoch 00021: val_fbeta did not improve from 0.96527\n",
      "Epoch 22/100\n",
      "5151/5151 [==============================] - 0s 91us/step - loss: 0.1647 - accuracy: 0.9336 - precision: 0.9447 - recall: 0.9739 - f1: 0.9590 - fbeta: 0.9667 - specificity: 0.7721 - negative_predictive_value: 0.8812 - matthews_correlation_coefficient: 0.7846 - val_loss: 0.1822 - val_accuracy: 0.9311 - val_precision: 0.9369 - val_recall: 0.9684 - val_f1: 0.9519 - val_fbeta: 0.9608 - val_specificity: 0.7933 - val_negative_predictive_value: 0.8770 - val_matthews_correlation_coefficient: 0.7868\n",
      "\n",
      "Epoch 00022: val_fbeta did not improve from 0.96527\n",
      "Epoch 23/100\n",
      "5151/5151 [==============================] - 0s 92us/step - loss: 0.1630 - accuracy: 0.9350 - precision: 0.9460 - recall: 0.9742 - f1: 0.9599 - fbeta: 0.9673 - specificity: 0.7773 - negative_predictive_value: 0.8839 - matthews_correlation_coefficient: 0.7895 - val_loss: 0.1830 - val_accuracy: 0.9328 - val_precision: 0.9368 - val_recall: 0.9699 - val_f1: 0.9525 - val_fbeta: 0.9620 - val_specificity: 0.7933 - val_negative_predictive_value: 0.8843 - val_matthews_correlation_coefficient: 0.7910\n",
      "\n",
      "Epoch 00023: val_fbeta did not improve from 0.96527\n",
      "Epoch 24/100\n",
      "5151/5151 [==============================] - 1s 104us/step - loss: 0.1615 - accuracy: 0.9354 - precision: 0.9466 - recall: 0.9743 - f1: 0.9602 - fbeta: 0.9673 - specificity: 0.7803 - negative_predictive_value: 0.8836 - matthews_correlation_coefficient: 0.7911 - val_loss: 0.1866 - val_accuracy: 0.9308 - val_precision: 0.9334 - val_recall: 0.9709 - val_f1: 0.9511 - val_fbeta: 0.9620 - val_specificity: 0.7817 - val_negative_predictive_value: 0.8840 - val_matthews_correlation_coefficient: 0.7837\n",
      "\n",
      "Epoch 00024: val_fbeta did not improve from 0.96527\n",
      "Epoch 25/100\n",
      "5151/5151 [==============================] - 0s 90us/step - loss: 0.1600 - accuracy: 0.9365 - precision: 0.9473 - recall: 0.9748 - f1: 0.9608 - fbeta: 0.9681 - specificity: 0.7840 - negative_predictive_value: 0.8867 - matthews_correlation_coefficient: 0.7953 - val_loss: 0.1838 - val_accuracy: 0.9323 - val_precision: 0.9374 - val_recall: 0.9678 - val_f1: 0.9518 - val_fbeta: 0.9607 - val_specificity: 0.7970 - val_negative_predictive_value: 0.8771 - val_matthews_correlation_coefficient: 0.7886\n",
      "\n",
      "Epoch 00025: val_fbeta did not improve from 0.96527\n",
      "Epoch 26/100\n",
      "5151/5151 [==============================] - 0s 92us/step - loss: 0.1590 - accuracy: 0.9358 - precision: 0.9468 - recall: 0.9744 - f1: 0.9604 - fbeta: 0.9675 - specificity: 0.7824 - negative_predictive_value: 0.8846 - matthews_correlation_coefficient: 0.7930 - val_loss: 0.1854 - val_accuracy: 0.9310 - val_precision: 0.9378 - val_recall: 0.9649 - val_f1: 0.9505 - val_fbeta: 0.9584 - val_specificity: 0.8003 - val_negative_predictive_value: 0.8681 - val_matthews_correlation_coefficient: 0.7846\n",
      "\n",
      "Epoch 00026: val_fbeta did not improve from 0.96527\n",
      "Epoch 27/100\n"
     ]
    },
    {
     "name": "stdout",
     "output_type": "stream",
     "text": [
      "5151/5151 [==============================] - 0s 97us/step - loss: 0.1575 - accuracy: 0.9369 - precision: 0.9477 - recall: 0.9749 - f1: 0.9610 - fbeta: 0.9682 - specificity: 0.7854 - negative_predictive_value: 0.8871 - matthews_correlation_coefficient: 0.7964 - val_loss: 0.1858 - val_accuracy: 0.9318 - val_precision: 0.9346 - val_recall: 0.9695 - val_f1: 0.9511 - val_fbeta: 0.9612 - val_specificity: 0.7865 - val_negative_predictive_value: 0.8828 - val_matthews_correlation_coefficient: 0.7855\n",
      "\n",
      "Epoch 00027: val_fbeta did not improve from 0.96527\n",
      "Epoch 28/100\n",
      "5151/5151 [==============================] - 1s 100us/step - loss: 0.1564 - accuracy: 0.9375 - precision: 0.9488 - recall: 0.9743 - f1: 0.9613 - fbeta: 0.9679 - specificity: 0.7912 - negative_predictive_value: 0.8853 - matthews_correlation_coefficient: 0.7988 - val_loss: 0.1888 - val_accuracy: 0.9306 - val_precision: 0.9367 - val_recall: 0.9662 - val_f1: 0.9507 - val_fbeta: 0.9593 - val_specificity: 0.7960 - val_negative_predictive_value: 0.8717 - val_matthews_correlation_coefficient: 0.7844\n",
      "\n",
      "Epoch 00028: val_fbeta did not improve from 0.96527\n",
      "Epoch 29/100\n",
      "5151/5151 [==============================] - 0s 91us/step - loss: 0.1552 - accuracy: 0.9382 - precision: 0.9487 - recall: 0.9754 - f1: 0.9618 - fbeta: 0.9689 - specificity: 0.7895 - negative_predictive_value: 0.8895 - matthews_correlation_coefficient: 0.8005 - val_loss: 0.1862 - val_accuracy: 0.9310 - val_precision: 0.9360 - val_recall: 0.9687 - val_f1: 0.9514 - val_fbeta: 0.9612 - val_specificity: 0.7923 - val_negative_predictive_value: 0.8780 - val_matthews_correlation_coefficient: 0.7863\n",
      "\n",
      "Epoch 00029: val_fbeta did not improve from 0.96527\n",
      "Epoch 30/100\n",
      "5151/5151 [==============================] - 0s 97us/step - loss: 0.1539 - accuracy: 0.9385 - precision: 0.9492 - recall: 0.9753 - f1: 0.9620 - fbeta: 0.9687 - specificity: 0.7914 - negative_predictive_value: 0.8894 - matthews_correlation_coefficient: 0.8015 - val_loss: 0.1899 - val_accuracy: 0.9292 - val_precision: 0.9349 - val_recall: 0.9669 - val_f1: 0.9499 - val_fbeta: 0.9595 - val_specificity: 0.7884 - val_negative_predictive_value: 0.8728 - val_matthews_correlation_coefficient: 0.7804\n",
      "\n",
      "Epoch 00030: val_fbeta did not improve from 0.96527\n",
      "Epoch 31/100\n",
      "5151/5151 [==============================] - ETA: 0s - loss: 0.1535 - accuracy: 0.9383 - precision: 0.9493 - recall: 0.9748 - f1: 0.9619 - fbeta: 0.9685 - specificity: 0.7927 - negative_predictive_value: 0.8875 - matthews_correlation_coefficient: 0.801 - 0s 91us/step - loss: 0.1534 - accuracy: 0.9385 - precision: 0.9496 - recall: 0.9748 - f1: 0.9620 - fbeta: 0.9685 - specificity: 0.7936 - negative_predictive_value: 0.8874 - matthews_correlation_coefficient: 0.8017 - val_loss: 0.1885 - val_accuracy: 0.9313 - val_precision: 0.9371 - val_recall: 0.9669 - val_f1: 0.9509 - val_fbeta: 0.9599 - val_specificity: 0.7991 - val_negative_predictive_value: 0.8714 - val_matthews_correlation_coefficient: 0.7862\n",
      "\n",
      "Epoch 00031: val_fbeta did not improve from 0.96527\n",
      "Epoch 32/100\n",
      "5151/5151 [==============================] - 0s 94us/step - loss: 0.1520 - accuracy: 0.9392 - precision: 0.9499 - recall: 0.9753 - f1: 0.9624 - fbeta: 0.9691 - specificity: 0.7946 - negative_predictive_value: 0.8899 - matthews_correlation_coefficient: 0.8038 - val_loss: 0.1863 - val_accuracy: 0.9304 - val_precision: 0.9378 - val_recall: 0.9658 - val_f1: 0.9509 - val_fbeta: 0.9593 - val_specificity: 0.7995 - val_negative_predictive_value: 0.8692 - val_matthews_correlation_coefficient: 0.7852\n",
      "\n",
      "Epoch 00032: val_fbeta did not improve from 0.96527\n",
      "Epoch 33/100\n",
      "5151/5151 [==============================] - 0s 90us/step - loss: 0.1506 - accuracy: 0.9404 - precision: 0.9513 - recall: 0.9754 - f1: 0.9631 - fbeta: 0.9694 - specificity: 0.8007 - negative_predictive_value: 0.8913 - matthews_correlation_coefficient: 0.8084 - val_loss: 0.1866 - val_accuracy: 0.9319 - val_precision: 0.9385 - val_recall: 0.9687 - val_f1: 0.9527 - val_fbeta: 0.9617 - val_specificity: 0.7998 - val_negative_predictive_value: 0.8776 - val_matthews_correlation_coefficient: 0.7914\n",
      "\n",
      "Epoch 00033: val_fbeta did not improve from 0.96527\n",
      "Epoch 34/100\n",
      "5151/5151 [==============================] - 0s 93us/step - loss: 0.1499 - accuracy: 0.9405 - precision: 0.9511 - recall: 0.9757 - f1: 0.9632 - fbeta: 0.9696 - specificity: 0.8002 - negative_predictive_value: 0.8919 - matthews_correlation_coefficient: 0.8086 - val_loss: 0.1909 - val_accuracy: 0.9316 - val_precision: 0.9355 - val_recall: 0.9695 - val_f1: 0.9515 - val_fbeta: 0.9617 - val_specificity: 0.7897 - val_negative_predictive_value: 0.8807 - val_matthews_correlation_coefficient: 0.7866\n",
      "\n",
      "Epoch 00034: val_fbeta did not improve from 0.96527\n",
      "Epoch 35/100\n",
      "5151/5151 [==============================] - 0s 93us/step - loss: 0.1488 - accuracy: 0.9410 - precision: 0.9516 - recall: 0.9758 - f1: 0.9635 - fbeta: 0.9698 - specificity: 0.8020 - negative_predictive_value: 0.8927 - matthews_correlation_coefficient: 0.8102 - val_loss: 0.1899 - val_accuracy: 0.9313 - val_precision: 0.9371 - val_recall: 0.9667 - val_f1: 0.9509 - val_fbeta: 0.9598 - val_specificity: 0.7980 - val_negative_predictive_value: 0.8720 - val_matthews_correlation_coefficient: 0.7860\n",
      "\n",
      "Epoch 00035: val_fbeta did not improve from 0.96527\n",
      "Epoch 36/100\n",
      "5151/5151 [==============================] - 1s 107us/step - loss: 0.1481 - accuracy: 0.9408 - precision: 0.9516 - recall: 0.9755 - f1: 0.9634 - fbeta: 0.9696 - specificity: 0.8025 - negative_predictive_value: 0.8917 - matthews_correlation_coefficient: 0.8098 - val_loss: 0.1894 - val_accuracy: 0.9304 - val_precision: 0.9331 - val_recall: 0.9701 - val_f1: 0.9505 - val_fbeta: 0.9612 - val_specificity: 0.7809 - val_negative_predictive_value: 0.8825 - val_matthews_correlation_coefficient: 0.7820\n",
      "\n",
      "Epoch 00036: val_fbeta did not improve from 0.96527\n",
      "Epoch 37/100\n",
      "5151/5151 [==============================] - 1s 105us/step - loss: 0.1468 - accuracy: 0.9417 - precision: 0.9523 - recall: 0.9759 - f1: 0.9639 - fbeta: 0.9701 - specificity: 0.8056 - negative_predictive_value: 0.8936 - matthews_correlation_coefficient: 0.8129 - val_loss: 0.1937 - val_accuracy: 0.9322 - val_precision: 0.9346 - val_recall: 0.9737 - val_f1: 0.9532 - val_fbeta: 0.9648 - val_specificity: 0.7816 - val_negative_predictive_value: 0.8928 - val_matthews_correlation_coefficient: 0.7900\n",
      "\n",
      "Epoch 00037: val_fbeta did not improve from 0.96527\n",
      "Epoch 38/100\n",
      "5151/5151 [==============================] - 0s 95us/step - loss: 0.1464 - accuracy: 0.9416 - precision: 0.9522 - recall: 0.9759 - f1: 0.9639 - fbeta: 0.9701 - specificity: 0.8055 - negative_predictive_value: 0.8939 - matthews_correlation_coefficient: 0.8128 - val_loss: 0.1893 - val_accuracy: 0.9310 - val_precision: 0.9421 - val_recall: 0.9605 - val_f1: 0.9506 - val_fbeta: 0.9558 - val_specificity: 0.8184 - val_negative_predictive_value: 0.8558 - val_matthews_correlation_coefficient: 0.7878\n",
      "\n",
      "Epoch 00038: val_fbeta did not improve from 0.96527\n",
      "Epoch 39/100\n",
      "5151/5151 [==============================] - 0s 94us/step - loss: 0.1454 - accuracy: 0.9423 - precision: 0.9533 - recall: 0.9756 - f1: 0.9643 - fbeta: 0.9700 - specificity: 0.8096 - negative_predictive_value: 0.8929 - matthews_correlation_coefficient: 0.8150 - val_loss: 0.1920 - val_accuracy: 0.9318 - val_precision: 0.9336 - val_recall: 0.9732 - val_f1: 0.9522 - val_fbeta: 0.9640 - val_specificity: 0.7807 - val_negative_predictive_value: 0.8905 - val_matthews_correlation_coefficient: 0.7875\n",
      "\n",
      "Epoch 00039: val_fbeta did not improve from 0.96527\n",
      "Epoch 40/100\n",
      "5151/5151 [==============================] - 0s 95us/step - loss: 0.1447 - accuracy: 0.9423 - precision: 0.9529 - recall: 0.9760 - f1: 0.9643 - fbeta: 0.9704 - specificity: 0.8079 - negative_predictive_value: 0.8946 - matthews_correlation_coefficient: 0.8149 - val_loss: 0.1951 - val_accuracy: 0.9305 - val_precision: 0.9303 - val_recall: 0.9728 - val_f1: 0.9503 - val_fbeta: 0.9628 - val_specificity: 0.7700 - val_negative_predictive_value: 0.8920 - val_matthews_correlation_coefficient: 0.7809\n",
      "\n",
      "Epoch 00040: val_fbeta did not improve from 0.96527\n",
      "Epoch 41/100\n"
     ]
    },
    {
     "name": "stdout",
     "output_type": "stream",
     "text": [
      "5151/5151 [==============================] - 0s 93us/step - loss: 0.1440 - accuracy: 0.9428 - precision: 0.9535 - recall: 0.9759 - f1: 0.9646 - fbeta: 0.9704 - specificity: 0.8097 - negative_predictive_value: 0.8943 - matthews_correlation_coefficient: 0.8159 - val_loss: 0.1901 - val_accuracy: 0.9310 - val_precision: 0.9391 - val_recall: 0.9643 - val_f1: 0.9508 - val_fbeta: 0.9580 - val_specificity: 0.8061 - val_negative_predictive_value: 0.8661 - val_matthews_correlation_coefficient: 0.7870\n",
      "\n",
      "Epoch 00041: val_fbeta did not improve from 0.96527\n",
      "Epoch 42/100\n",
      "5151/5151 [==============================] - 0s 96us/step - loss: 0.1431 - accuracy: 0.9435 - precision: 0.9537 - recall: 0.9768 - f1: 0.9650 - fbeta: 0.9711 - specificity: 0.8110 - negative_predictive_value: 0.8981 - matthews_correlation_coefficient: 0.8189 - val_loss: 0.1916 - val_accuracy: 0.9316 - val_precision: 0.9405 - val_recall: 0.9656 - val_f1: 0.9521 - val_fbeta: 0.9595 - val_specificity: 0.8102 - val_negative_predictive_value: 0.8678 - val_matthews_correlation_coefficient: 0.7911\n",
      "\n",
      "Epoch 00042: val_fbeta did not improve from 0.96527\n",
      "Epoch 43/100\n",
      "5151/5151 [==============================] - 0s 95us/step - loss: 0.1429 - accuracy: 0.9429 - precision: 0.9536 - recall: 0.9759 - f1: 0.9646 - fbeta: 0.9704 - specificity: 0.8114 - negative_predictive_value: 0.8945 - matthews_correlation_coefficient: 0.8170 - val_loss: 0.1930 - val_accuracy: 0.9310 - val_precision: 0.9397 - val_recall: 0.9633 - val_f1: 0.9505 - val_fbeta: 0.9578 - val_specificity: 0.8087 - val_negative_predictive_value: 0.8615 - val_matthews_correlation_coefficient: 0.7858\n",
      "\n",
      "Epoch 00043: val_fbeta did not improve from 0.96527\n",
      "Epoch 44/100\n",
      "5151/5151 [==============================] - 0s 94us/step - loss: 0.1418 - accuracy: 0.9439 - precision: 0.9545 - recall: 0.9763 - f1: 0.9652 - fbeta: 0.9710 - specificity: 0.8140 - negative_predictive_value: 0.8964 - matthews_correlation_coefficient: 0.8198 - val_loss: 0.1966 - val_accuracy: 0.9293 - val_precision: 0.9349 - val_recall: 0.9671 - val_f1: 0.9500 - val_fbeta: 0.9593 - val_specificity: 0.7881 - val_negative_predictive_value: 0.8719 - val_matthews_correlation_coefficient: 0.7800\n",
      "\n",
      "Epoch 00044: val_fbeta did not improve from 0.96527\n",
      "Epoch 45/100\n",
      "5151/5151 [==============================] - 0s 91us/step - loss: 0.1410 - accuracy: 0.9439 - precision: 0.9546 - recall: 0.9762 - f1: 0.9652 - fbeta: 0.9709 - specificity: 0.8150 - negative_predictive_value: 0.8963 - matthews_correlation_coefficient: 0.8204 - val_loss: 0.1902 - val_accuracy: 0.9325 - val_precision: 0.9394 - val_recall: 0.9669 - val_f1: 0.9523 - val_fbeta: 0.9601 - val_specificity: 0.8054 - val_negative_predictive_value: 0.8723 - val_matthews_correlation_coefficient: 0.7911\n",
      "\n",
      "Epoch 00045: val_fbeta did not improve from 0.96527\n",
      "Epoch 46/100\n",
      "5151/5151 [==============================] - 0s 94us/step - loss: 0.1403 - accuracy: 0.9442 - precision: 0.9548 - recall: 0.9764 - f1: 0.9654 - fbeta: 0.9710 - specificity: 0.8153 - negative_predictive_value: 0.8964 - matthews_correlation_coefficient: 0.8207 - val_loss: 0.1982 - val_accuracy: 0.9286 - val_precision: 0.9359 - val_recall: 0.9652 - val_f1: 0.9496 - val_fbeta: 0.9583 - val_specificity: 0.7931 - val_negative_predictive_value: 0.8651 - val_matthews_correlation_coefficient: 0.7787\n",
      "\n",
      "Epoch 00046: val_fbeta did not improve from 0.96527\n",
      "Epoch 47/100\n",
      "5151/5151 [==============================] - 0s 95us/step - loss: 0.1401 - accuracy: 0.9443 - precision: 0.9551 - recall: 0.9762 - f1: 0.9655 - fbeta: 0.9711 - specificity: 0.8168 - negative_predictive_value: 0.8967 - matthews_correlation_coefficient: 0.8216 - val_loss: 0.1978 - val_accuracy: 0.9291 - val_precision: 0.9397 - val_recall: 0.9586 - val_f1: 0.9484 - val_fbeta: 0.9540 - val_specificity: 0.8124 - val_negative_predictive_value: 0.8494 - val_matthews_correlation_coefficient: 0.7793\n",
      "\n",
      "Epoch 00047: val_fbeta did not improve from 0.96527\n",
      "Epoch 48/100\n",
      "5151/5151 [==============================] - 1s 100us/step - loss: 0.1391 - accuracy: 0.9447 - precision: 0.9555 - recall: 0.9763 - f1: 0.9657 - fbeta: 0.9711 - specificity: 0.8190 - negative_predictive_value: 0.8960 - matthews_correlation_coefficient: 0.8227 - val_loss: 0.1952 - val_accuracy: 0.9311 - val_precision: 0.9351 - val_recall: 0.9694 - val_f1: 0.9512 - val_fbeta: 0.9612 - val_specificity: 0.7893 - val_negative_predictive_value: 0.8792 - val_matthews_correlation_coefficient: 0.7853\n",
      "\n",
      "Epoch 00048: val_fbeta did not improve from 0.96527\n",
      "Restoring model weights from the end of the best epoch\n",
      "Epoch 00048: early stopping\n"
     ]
    },
    {
     "data": {
      "image/png": "[encoded data removed]",
      "text/plain": [
       "<Figure size 864x288 with 2 Axes>"
      ]
     },
     "metadata": {
      "needs_background": "light"
     },
     "output_type": "display_data"
    }
   ],
   "source": [
    "mlflow.set_experiment(MLFLOW_EXPERIMENT_NAME)\n",
    "mlflow.log_param(\"test_size\", TEST_SIZE)\n",
    "mlflow.log_param(\"seed\", RANDOM_SEED)\n",
    "mlflow.keras.autolog()\n",
    "\n",
    "set_random_seeds()\n",
    "\n",
    "metrics = [\"accuracy\", precision, recall, f1, fbeta, specificity, npv, mcc]\n",
    "METRIC_TO_MONITOR = \"val_fbeta\"\n",
    "\n",
    "model = Sequential([\n",
    "    GlobalAvgPool2D(input_shape=features_train.shape[1:]),\n",
    "    Dense(units=N_REQS, activation=\"sigmoid\", name=\"outputs\")\n",
    "])\n",
    "model.summary()\n",
    "\n",
    "model.compile(optimizer=\"adam\", loss=\"binary_crossentropy\", metrics=metrics)\n",
    "\n",
    "FILE_MODEL = FOLDER_MODELS + timestamp_model_name(prefix=f\"baseline_{base_model.name}_\")\n",
    "list_callbacks = [\n",
    "    ModelCheckpoint(FILE_MODEL, monitor=METRIC_TO_MONITOR, mode=\"max\", verbose=1, save_best_only=True), \n",
    "    EarlyStopping(monitor=METRIC_TO_MONITOR, mode=\"max\", patience=30, verbose=1, restore_best_weights=True)\n",
    "]\n",
    "\n",
    "hist = model.fit(\n",
    "    x=features_train,\n",
    "    y=y_train,\n",
    "    batch_size=32,\n",
    "    epochs=100,\n",
    "    validation_data=(features_valid, y_val),\n",
    "    callbacks=list_callbacks\n",
    ")\n",
    "\n",
    "plot.keras_hist(hist.history)\n",
    "mlflow.end_run()"
   ]
  },
  {
   "cell_type": "markdown",
   "id": "7c2d3afe",
   "metadata": {},
   "source": [
    "# Final Model "
   ]
  },
  {
   "cell_type": "code",
   "execution_count": 23,
   "id": "234baa40",
   "metadata": {},
   "outputs": [
    {
     "name": "stdout",
     "output_type": "stream",
     "text": [
      "Model: \"model_1\"\n",
      "_________________________________________________________________\n",
      "Layer (type)                 Output Shape              Param #   \n",
      "=================================================================\n",
      "input_3 (InputLayer)         (None, 160, 160, 3)       0         \n",
      "_________________________________________________________________\n",
      "conv1_pad (ZeroPadding2D)    (None, 161, 161, 3)       0         \n",
      "_________________________________________________________________\n",
      "conv1 (Conv2D)               (None, 80, 80, 32)        864       \n",
      "_________________________________________________________________\n",
      "conv1_bn (BatchNormalization (None, 80, 80, 32)        128       \n",
      "_________________________________________________________________\n",
      "conv1_relu (ReLU)            (None, 80, 80, 32)        0         \n",
      "_________________________________________________________________\n",
      "conv_dw_1 (DepthwiseConv2D)  (None, 80, 80, 32)        288       \n",
      "_________________________________________________________________\n",
      "conv_dw_1_bn (BatchNormaliza (None, 80, 80, 32)        128       \n",
      "_________________________________________________________________\n",
      "conv_dw_1_relu (ReLU)        (None, 80, 80, 32)        0         \n",
      "_________________________________________________________________\n",
      "conv_pw_1 (Conv2D)           (None, 80, 80, 64)        2048      \n",
      "_________________________________________________________________\n",
      "conv_pw_1_bn (BatchNormaliza (None, 80, 80, 64)        256       \n",
      "_________________________________________________________________\n",
      "conv_pw_1_relu (ReLU)        (None, 80, 80, 64)        0         \n",
      "_________________________________________________________________\n",
      "conv_pad_2 (ZeroPadding2D)   (None, 81, 81, 64)        0         \n",
      "_________________________________________________________________\n",
      "conv_dw_2 (DepthwiseConv2D)  (None, 40, 40, 64)        576       \n",
      "_________________________________________________________________\n",
      "conv_dw_2_bn (BatchNormaliza (None, 40, 40, 64)        256       \n",
      "_________________________________________________________________\n",
      "conv_dw_2_relu (ReLU)        (None, 40, 40, 64)        0         \n",
      "_________________________________________________________________\n",
      "conv_pw_2 (Conv2D)           (None, 40, 40, 128)       8192      \n",
      "_________________________________________________________________\n",
      "conv_pw_2_bn (BatchNormaliza (None, 40, 40, 128)       512       \n",
      "_________________________________________________________________\n",
      "conv_pw_2_relu (ReLU)        (None, 40, 40, 128)       0         \n",
      "_________________________________________________________________\n",
      "conv_dw_3 (DepthwiseConv2D)  (None, 40, 40, 128)       1152      \n",
      "_________________________________________________________________\n",
      "conv_dw_3_bn (BatchNormaliza (None, 40, 40, 128)       512       \n",
      "_________________________________________________________________\n",
      "conv_dw_3_relu (ReLU)        (None, 40, 40, 128)       0         \n",
      "_________________________________________________________________\n",
      "conv_pw_3 (Conv2D)           (None, 40, 40, 128)       16384     \n",
      "_________________________________________________________________\n",
      "conv_pw_3_bn (BatchNormaliza (None, 40, 40, 128)       512       \n",
      "_________________________________________________________________\n",
      "conv_pw_3_relu (ReLU)        (None, 40, 40, 128)       0         \n",
      "_________________________________________________________________\n",
      "conv_pad_4 (ZeroPadding2D)   (None, 41, 41, 128)       0         \n",
      "_________________________________________________________________\n",
      "conv_dw_4 (DepthwiseConv2D)  (None, 20, 20, 128)       1152      \n",
      "_________________________________________________________________\n",
      "conv_dw_4_bn (BatchNormaliza (None, 20, 20, 128)       512       \n",
      "_________________________________________________________________\n",
      "conv_dw_4_relu (ReLU)        (None, 20, 20, 128)       0         \n",
      "_________________________________________________________________\n",
      "conv_pw_4 (Conv2D)           (None, 20, 20, 256)       32768     \n",
      "_________________________________________________________________\n",
      "conv_pw_4_bn (BatchNormaliza (None, 20, 20, 256)       1024      \n",
      "_________________________________________________________________\n",
      "conv_pw_4_relu (ReLU)        (None, 20, 20, 256)       0         \n",
      "_________________________________________________________________\n",
      "conv_dw_5 (DepthwiseConv2D)  (None, 20, 20, 256)       2304      \n",
      "_________________________________________________________________\n",
      "conv_dw_5_bn (BatchNormaliza (None, 20, 20, 256)       1024      \n",
      "_________________________________________________________________\n",
      "conv_dw_5_relu (ReLU)        (None, 20, 20, 256)       0         \n",
      "_________________________________________________________________\n",
      "conv_pw_5 (Conv2D)           (None, 20, 20, 256)       65536     \n",
      "_________________________________________________________________\n",
      "conv_pw_5_bn (BatchNormaliza (None, 20, 20, 256)       1024      \n",
      "_________________________________________________________________\n",
      "conv_pw_5_relu (ReLU)        (None, 20, 20, 256)       0         \n",
      "_________________________________________________________________\n",
      "conv_pad_6 (ZeroPadding2D)   (None, 21, 21, 256)       0         \n",
      "_________________________________________________________________\n",
      "conv_dw_6 (DepthwiseConv2D)  (None, 10, 10, 256)       2304      \n",
      "_________________________________________________________________\n",
      "conv_dw_6_bn (BatchNormaliza (None, 10, 10, 256)       1024      \n",
      "_________________________________________________________________\n",
      "conv_dw_6_relu (ReLU)        (None, 10, 10, 256)       0         \n",
      "_________________________________________________________________\n",
      "conv_pw_6 (Conv2D)           (None, 10, 10, 512)       131072    \n",
      "_________________________________________________________________\n",
      "conv_pw_6_bn (BatchNormaliza (None, 10, 10, 512)       2048      \n",
      "_________________________________________________________________\n",
      "conv_pw_6_relu (ReLU)        (None, 10, 10, 512)       0         \n",
      "_________________________________________________________________\n",
      "conv_dw_7 (DepthwiseConv2D)  (None, 10, 10, 512)       4608      \n",
      "_________________________________________________________________\n",
      "conv_dw_7_bn (BatchNormaliza (None, 10, 10, 512)       2048      \n",
      "_________________________________________________________________\n",
      "conv_dw_7_relu (ReLU)        (None, 10, 10, 512)       0         \n",
      "_________________________________________________________________\n",
      "conv_pw_7 (Conv2D)           (None, 10, 10, 512)       262144    \n",
      "_________________________________________________________________\n",
      "conv_pw_7_bn (BatchNormaliza (None, 10, 10, 512)       2048      \n",
      "_________________________________________________________________\n",
      "conv_pw_7_relu (ReLU)        (None, 10, 10, 512)       0         \n",
      "_________________________________________________________________\n",
      "conv_dw_8 (DepthwiseConv2D)  (None, 10, 10, 512)       4608      \n",
      "_________________________________________________________________\n",
      "conv_dw_8_bn (BatchNormaliza (None, 10, 10, 512)       2048      \n",
      "_________________________________________________________________\n",
      "conv_dw_8_relu (ReLU)        (None, 10, 10, 512)       0         \n",
      "_________________________________________________________________\n",
      "conv_pw_8 (Conv2D)           (None, 10, 10, 512)       262144    \n",
      "_________________________________________________________________\n",
      "conv_pw_8_bn (BatchNormaliza (None, 10, 10, 512)       2048      \n",
      "_________________________________________________________________\n",
      "conv_pw_8_relu (ReLU)        (None, 10, 10, 512)       0         \n",
      "_________________________________________________________________\n",
      "conv_dw_9 (DepthwiseConv2D)  (None, 10, 10, 512)       4608      \n",
      "_________________________________________________________________\n",
      "conv_dw_9_bn (BatchNormaliza (None, 10, 10, 512)       2048      \n",
      "_________________________________________________________________\n",
      "conv_dw_9_relu (ReLU)        (None, 10, 10, 512)       0         \n",
      "_________________________________________________________________\n",
      "conv_pw_9 (Conv2D)           (None, 10, 10, 512)       262144    \n",
      "_________________________________________________________________\n",
      "conv_pw_9_bn (BatchNormaliza (None, 10, 10, 512)       2048      \n",
      "_________________________________________________________________\n",
      "conv_pw_9_relu (ReLU)        (None, 10, 10, 512)       0         \n",
      "_________________________________________________________________\n",
      "conv_dw_10 (DepthwiseConv2D) (None, 10, 10, 512)       4608      \n",
      "_________________________________________________________________\n",
      "conv_dw_10_bn (BatchNormaliz (None, 10, 10, 512)       2048      \n",
      "_________________________________________________________________\n",
      "conv_dw_10_relu (ReLU)       (None, 10, 10, 512)       0         \n",
      "_________________________________________________________________\n",
      "conv_pw_10 (Conv2D)          (None, 10, 10, 512)       262144    \n",
      "_________________________________________________________________\n",
      "conv_pw_10_bn (BatchNormaliz (None, 10, 10, 512)       2048      \n",
      "_________________________________________________________________\n",
      "conv_pw_10_relu (ReLU)       (None, 10, 10, 512)       0         \n",
      "_________________________________________________________________\n",
      "conv_dw_11 (DepthwiseConv2D) (None, 10, 10, 512)       4608      \n",
      "_________________________________________________________________\n",
      "conv_dw_11_bn (BatchNormaliz (None, 10, 10, 512)       2048      \n",
      "_________________________________________________________________\n",
      "conv_dw_11_relu (ReLU)       (None, 10, 10, 512)       0         \n",
      "_________________________________________________________________\n",
      "conv_pw_11 (Conv2D)          (None, 10, 10, 512)       262144    \n",
      "_________________________________________________________________\n",
      "conv_pw_11_bn (BatchNormaliz (None, 10, 10, 512)       2048      \n",
      "_________________________________________________________________\n",
      "conv_pw_11_relu (ReLU)       (None, 10, 10, 512)       0         \n",
      "_________________________________________________________________\n",
      "conv_pad_12 (ZeroPadding2D)  (None, 11, 11, 512)       0         \n",
      "_________________________________________________________________\n",
      "conv_dw_12 (DepthwiseConv2D) (None, 5, 5, 512)         4608      \n",
      "_________________________________________________________________\n",
      "conv_dw_12_bn (BatchNormaliz (None, 5, 5, 512)         2048      \n",
      "_________________________________________________________________\n",
      "conv_dw_12_relu (ReLU)       (None, 5, 5, 512)         0         \n",
      "_________________________________________________________________\n",
      "conv_pw_12 (Conv2D)          (None, 5, 5, 1024)        524288    \n",
      "_________________________________________________________________\n",
      "conv_pw_12_bn (BatchNormaliz (None, 5, 5, 1024)        4096      \n",
      "_________________________________________________________________\n",
      "conv_pw_12_relu (ReLU)       (None, 5, 5, 1024)        0         \n",
      "_________________________________________________________________\n",
      "conv_dw_13 (DepthwiseConv2D) (None, 5, 5, 1024)        9216      \n",
      "_________________________________________________________________\n",
      "conv_dw_13_bn (BatchNormaliz (None, 5, 5, 1024)        4096      \n",
      "_________________________________________________________________\n",
      "conv_dw_13_relu (ReLU)       (None, 5, 5, 1024)        0         \n",
      "_________________________________________________________________\n",
      "conv_pw_13 (Conv2D)          (None, 5, 5, 1024)        1048576   \n",
      "_________________________________________________________________\n",
      "conv_pw_13_bn (BatchNormaliz (None, 5, 5, 1024)        4096      \n",
      "_________________________________________________________________\n",
      "conv_pw_13_relu (ReLU)       (None, 5, 5, 1024)        0         \n",
      "_________________________________________________________________\n",
      "global_average_pooling2d_3 ( (None, 1024)              0         \n",
      "_________________________________________________________________\n",
      "outputs (Dense)              (None, 23)                23575     \n",
      "=================================================================\n",
      "Total params: 3,252,439\n",
      "Trainable params: 3,230,551\n",
      "Non-trainable params: 21,888\n",
      "_________________________________________________________________\n"
     ]
    }
   ],
   "source": [
    "base_model = MobileNet(input_shape=INPUT_SHAPE, weights=\"imagenet\", include_top=False)\n",
    "last_layer = model.layers[-1]\n",
    "\n",
    "x = GlobalAvgPool2D()(base_model.output)\n",
    "outputs = Dense(units=N_REQS, activation=\"sigmoid\", name=\"outputs\")(x)\n",
    "\n",
    "final_model = Model(inputs=base_model.input, outputs=outputs)\n",
    "final_model.layers[-1].set_weights(last_layer.get_weights())\n",
    "final_model.summary()\n",
    "\n",
    "final_model.compile(optimizer=\"adam\", loss=\"binary_crossentropy\", metrics=[\"accuracy\"])"
   ]
  },
  {
   "cell_type": "code",
   "execution_count": 34,
   "id": "0b7e3a51",
   "metadata": {},
   "outputs": [
    {
     "name": "stdout",
     "output_type": "stream",
     "text": [
      "[[0.9837128  0.98599946 0.9998938  0.09423116 0.99054134 0.9999987\n",
      "  0.9995118  0.9885322  0.9990405  0.05395192 0.18719178 0.19993332\n",
      "  0.99938494 0.55626994 0.70551354 0.9999993  0.8277309  0.9999995\n",
      "  0.96463025 0.99321437 0.9990238  0.92399687 0.9998416 ]]\n"
     ]
    }
   ],
   "source": [
    "features_sample = features_valid[0]\n",
    "features_sample = features_sample.reshape((1, *features_valid.shape[1:]))\n",
    "\n",
    "y_model = model.predict(features_sample)\n",
    "print(y_model)"
   ]
  },
  {
   "cell_type": "code",
   "execution_count": 35,
   "id": "a720af46",
   "metadata": {},
   "outputs": [
    {
     "name": "stdout",
     "output_type": "stream",
     "text": [
      "[[0.9837128  0.9859995  0.99989384 0.09423098 0.9905413  0.99999875\n",
      "  0.9995117  0.9885323  0.9990405  0.05395216 0.18719208 0.19993317\n",
      "  0.999385   0.5562714  0.7055142  0.9999993  0.8277305  0.9999995\n",
      "  0.96463037 0.99321425 0.9990238  0.92399687 0.9998416 ]]\n"
     ]
    }
   ],
   "source": [
    "x_sample = x_val[0]\n",
    "x_sample = x_sample.reshape((1, *x_val.shape[1:]))\n",
    "\n",
    "y_final = final_model.predict(x_sample)\n",
    "print(y_final)"
   ]
  },
  {
   "cell_type": "code",
   "execution_count": 38,
   "id": "6e0c3603",
   "metadata": {},
   "outputs": [],
   "source": [
    "assert np.allclose(y_model, y_final)"
   ]
  },
  {
   "cell_type": "code",
   "execution_count": 39,
   "id": "fbaafbfb",
   "metadata": {},
   "outputs": [
    {
     "name": "stdout",
     "output_type": "stream",
     "text": [
      "580/580 [==============================] - 19s 33ms/step\n",
      "0.25\n",
      "0.25\n"
     ]
    }
   ],
   "source": [
    "y_model = model.predict(features_valid)\n",
    "y_model = np.where(y_model >= 0.5, 1, 0)\n",
    "\n",
    "y_final = final_model.predict(x_val, verbose=1)\n",
    "y_final = np.where(y_final >= 0.5, 1, 0)\n",
    "\n",
    "acc_model = accuracy_score(y_model, y_val)\n",
    "acc_final = accuracy_score(y_final, y_val)\n",
    "\n",
    "print(acc_model)\n",
    "print(acc_final)\n",
    "assert np.isclose(acc_model, acc_final)"
   ]
  },
  {
   "cell_type": "code",
   "execution_count": 40,
   "id": "335f00f3",
   "metadata": {},
   "outputs": [],
   "source": [
    "final_model.save(FILE_MODEL)"
   ]
  },
  {
   "cell_type": "code",
   "execution_count": 41,
   "id": "350ca01b",
   "metadata": {},
   "outputs": [
    {
     "name": "stdout",
     "output_type": "stream",
     "text": [
      "../models/baselines/baseline_mobilenet_1.00_160_2021_06_26-23_43_51.h5\n"
     ]
    }
   ],
   "source": [
    "print(FILE_MODEL)"
   ]
  },
  {
   "cell_type": "code",
   "execution_count": 45,
   "id": "d30ace1d",
   "metadata": {},
   "outputs": [
    {
     "data": {
      "text/plain": [
       "'..\\\\data/cropped_faces/ground_truth/afwDB_0.mrk'"
      ]
     },
     "execution_count": 45,
     "metadata": {},
     "output_type": "execute_result"
    }
   ],
   "source": [
    "val_mrks[0].filepath"
   ]
  },
  {
   "cell_type": "code",
   "execution_count": null,
   "id": "17c2dc02",
   "metadata": {},
   "outputs": [],
   "source": []
  }
 ],
 "metadata": {
  "kernelspec": {
   "display_name": "Python 3",
   "language": "python",
   "name": "python3"
  },
  "language_info": {
   "codemirror_mode": {
    "name": "ipython",
    "version": 3
   },
   "file_extension": ".py",
   "mimetype": "text/x-python",
   "name": "python",
   "nbconvert_exporter": "python",
   "pygments_lexer": "ipython3",
   "version": "3.7.10"
  }
 },
 "nbformat": 4,
 "nbformat_minor": 5
}
