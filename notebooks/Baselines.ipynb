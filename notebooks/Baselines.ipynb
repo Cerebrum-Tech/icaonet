{
 "cells": [
  {
   "cell_type": "code",
   "execution_count": 1,
   "id": "894d0a18",
   "metadata": {},
   "outputs": [
    {
     "name": "stderr",
     "output_type": "stream",
     "text": [
      "C:\\Users\\arnal\\Miniconda3\\envs\\dl-gpu\\lib\\site-packages\\tensorflow\\python\\framework\\dtypes.py:526: FutureWarning: Passing (type, 1) or '1type' as a synonym of type is deprecated; in a future version of numpy, it will be understood as (type, (1,)) / '(1,)type'.\n",
      "  _np_qint8 = np.dtype([(\"qint8\", np.int8, 1)])\n",
      "C:\\Users\\arnal\\Miniconda3\\envs\\dl-gpu\\lib\\site-packages\\tensorflow\\python\\framework\\dtypes.py:527: FutureWarning: Passing (type, 1) or '1type' as a synonym of type is deprecated; in a future version of numpy, it will be understood as (type, (1,)) / '(1,)type'.\n",
      "  _np_quint8 = np.dtype([(\"quint8\", np.uint8, 1)])\n",
      "C:\\Users\\arnal\\Miniconda3\\envs\\dl-gpu\\lib\\site-packages\\tensorflow\\python\\framework\\dtypes.py:528: FutureWarning: Passing (type, 1) or '1type' as a synonym of type is deprecated; in a future version of numpy, it will be understood as (type, (1,)) / '(1,)type'.\n",
      "  _np_qint16 = np.dtype([(\"qint16\", np.int16, 1)])\n",
      "C:\\Users\\arnal\\Miniconda3\\envs\\dl-gpu\\lib\\site-packages\\tensorflow\\python\\framework\\dtypes.py:529: FutureWarning: Passing (type, 1) or '1type' as a synonym of type is deprecated; in a future version of numpy, it will be understood as (type, (1,)) / '(1,)type'.\n",
      "  _np_quint16 = np.dtype([(\"quint16\", np.uint16, 1)])\n",
      "C:\\Users\\arnal\\Miniconda3\\envs\\dl-gpu\\lib\\site-packages\\tensorflow\\python\\framework\\dtypes.py:530: FutureWarning: Passing (type, 1) or '1type' as a synonym of type is deprecated; in a future version of numpy, it will be understood as (type, (1,)) / '(1,)type'.\n",
      "  _np_qint32 = np.dtype([(\"qint32\", np.int32, 1)])\n",
      "C:\\Users\\arnal\\Miniconda3\\envs\\dl-gpu\\lib\\site-packages\\tensorflow\\python\\framework\\dtypes.py:535: FutureWarning: Passing (type, 1) or '1type' as a synonym of type is deprecated; in a future version of numpy, it will be understood as (type, (1,)) / '(1,)type'.\n",
      "  np_resource = np.dtype([(\"resource\", np.ubyte, 1)])\n",
      "Using TensorFlow backend.\n"
     ]
    }
   ],
   "source": [
    "from sys import path\n",
    "path.append('..')\n",
    "path.append('../src/')\n",
    "\n",
    "import os\n",
    "import cv2\n",
    "import numpy as np\n",
    "import pickle as pkl\n",
    "import matplotlib.pyplot as plt\n",
    "import mlflow\n",
    "import mlflow.keras\n",
    "import random as rn\n",
    "import tensorflow as tf\n",
    "from os.path import basename, join\n",
    "\n",
    "from sklearn.metrics import accuracy_score\n",
    "\n",
    "from keras.applications import MobileNet\n",
    "from keras.models import Model, Sequential, load_model\n",
    "from keras.layers import Input, Dense, Dropout, Flatten, GlobalAvgPool2D\n",
    "from keras.callbacks import EarlyStopping, ModelCheckpoint\n",
    "\n",
    "from skmultilearn.model_selection import iterative_train_test_split\n",
    "\n",
    "from global_config import RANDOM_SEED, IMAGE_SIZE, FILE_DUMP_IMAGES, FILE_DUMP_MRKS\n",
    "from custom_metrics import precision, recall, f1, specificity, fbeta\n",
    "from custom_metrics import negative_predictive_value as npv \n",
    "from custom_metrics import matthews_correlation_coefficient as mcc\n",
    "from utils import plot, load\n",
    "\n",
    "%matplotlib inline"
   ]
  },
  {
   "cell_type": "code",
   "execution_count": 2,
   "id": "d63a69b6",
   "metadata": {},
   "outputs": [
    {
     "name": "stdout",
     "output_type": "stream",
     "text": [
      "../data/baseline_samples.pkl\n",
      "../data/cropped_faces/cropped_faces_mrks.pkl\n",
      "../data/cropped_faces/cropped_faces_images.pkl\n",
      "../data/baseline_features_train.pkl\n",
      "../data/baseline_features_valid.pkl\n",
      "../models/baselines/\n"
     ]
    }
   ],
   "source": [
    "PATH_TO_ROOT = '../'\n",
    "FILE_SAMPLES = \"data/baseline_samples.pkl\"\n",
    "FOLDER_MODELS = \"models/baselines/\"\n",
    "\n",
    "FILE_SAMPLES = join(PATH_TO_ROOT, FILE_SAMPLES)\n",
    "FILE_DUMP_MRKS = join(PATH_TO_ROOT, FILE_DUMP_MRKS)\n",
    "FILE_DUMP_IMAGES = join(PATH_TO_ROOT, FILE_DUMP_IMAGES)\n",
    "FILE_FEATURES_TRAIN = join(PATH_TO_ROOT, \"data/baseline_features_train.pkl\")\n",
    "FILE_FEATURES_VALID = join(PATH_TO_ROOT, \"data/baseline_features_valid.pkl\")\n",
    "FOLDER_MODELS = join(PATH_TO_ROOT, FOLDER_MODELS)\n",
    "\n",
    "print(FILE_SAMPLES)\n",
    "print(FILE_DUMP_MRKS)\n",
    "print(FILE_DUMP_IMAGES)\n",
    "print(FILE_FEATURES_TRAIN)\n",
    "print(FILE_FEATURES_VALID)\n",
    "print(FOLDER_MODELS)"
   ]
  },
  {
   "cell_type": "code",
   "execution_count": 3,
   "id": "82260e46",
   "metadata": {},
   "outputs": [],
   "source": [
    "INPUT_SHAPE = (*IMAGE_SIZE, 3)\n",
    "N_REQS = 23\n",
    "TEST_SIZE = 0.1\n",
    "MLFLOW_EXPERIMENT_NAME = 'Baselines'"
   ]
  },
  {
   "cell_type": "code",
   "execution_count": 4,
   "id": "ecf5028e",
   "metadata": {},
   "outputs": [],
   "source": [
    "def timestamp_model_name(prefix='model_', suffix='', format='%Y_%m_%d-%H_%M_%S', ext='.h5'):\n",
    "    from datetime import datetime\n",
    "    timestamp = datetime.now().strftime(format)\n",
    "    return f'{prefix}{timestamp}{suffix}{ext}'\n",
    "\n",
    "\n",
    "def set_random_seeds():\n",
    "    os.environ['PYTHONHASHSEED'] = str(RANDOM_SEED)\n",
    "    rn.seed(RANDOM_SEED)\n",
    "    np.random.seed(RANDOM_SEED)\n",
    "    tf.set_random_seed(RANDOM_SEED)\n",
    "\n",
    "\n",
    "def save_bottleneck_features(model, x, output_file):\n",
    "    features = model.predict(x, verbose=1)\n",
    "    pkl.dump(features, open(output_file, 'wb'), protocol=-1)"
   ]
  },
  {
   "cell_type": "markdown",
   "id": "f15b4581",
   "metadata": {},
   "source": [
    "# Data Loading "
   ]
  },
  {
   "cell_type": "code",
   "execution_count": 5,
   "id": "8314b005",
   "metadata": {},
   "outputs": [
    {
     "name": "stdout",
     "output_type": "stream",
     "text": [
      "(5731, 160, 160, 3) float32\n",
      "(5731, 23) int32\n",
      "5731\n"
     ]
    }
   ],
   "source": [
    "x, _ = pkl.load(open(FILE_DUMP_IMAGES, 'rb'))\n",
    "mrks, _ = pkl.load(open(FILE_DUMP_MRKS, 'rb'))\n",
    "y = np.array([mrk_file.photo_reqs.values() for mrk_file in mrks])\n",
    "\n",
    "print(x.shape, x.dtype)\n",
    "print(y.shape, y.dtype)\n",
    "print(len(mrks))"
   ]
  },
  {
   "cell_type": "code",
   "execution_count": 6,
   "id": "53a01de9",
   "metadata": {},
   "outputs": [
    {
     "name": "stdout",
     "output_type": "stream",
     "text": [
      "(5151, 160, 160, 3) (5151, 23)\n",
      "(580, 160, 160, 3) (580, 23)\n"
     ]
    }
   ],
   "source": [
    "np.random.seed(RANDOM_SEED)\n",
    "x_train_idx, y_train, x_val_idx, y_val = iterative_train_test_split(\n",
    "    np.arange(x.shape[0]).reshape(-1, 1), \n",
    "    y, \n",
    "    test_size=TEST_SIZE\n",
    ")\n",
    "x_train_idx = x_train_idx.ravel()\n",
    "x_val_idx = x_val_idx.ravel()\n",
    "\n",
    "x_train = x[x_train_idx]\n",
    "x_val = x[x_val_idx]\n",
    "\n",
    "print(x_train.shape, y_train.shape)\n",
    "print(x_val.shape, y_val.shape)"
   ]
  },
  {
   "cell_type": "code",
   "execution_count": 7,
   "id": "86515a27",
   "metadata": {},
   "outputs": [],
   "source": [
    "train_mrks = mrks[x_train_idx]\n",
    "val_mrks = mrks[x_val_idx]\n",
    "\n",
    "# pkl.dump((x_train, y_train, x_val, y_val, train_mrks, val_mrks), open(FILE_SAMPLES, 'wb'), -1)"
   ]
  },
  {
   "cell_type": "code",
   "execution_count": 8,
   "id": "b06d1f2c",
   "metadata": {},
   "outputs": [
    {
     "name": "stdout",
     "output_type": "stream",
     "text": [
      "(5151, 160, 160, 3) float32 0.0 1.0\n",
      "(5151, 23) int32 0 1\n",
      "(580, 160, 160, 3) float32 0.0 1.0\n",
      "(580, 23) int32 0 1\n"
     ]
    }
   ],
   "source": [
    "x_train, y_train, x_val, y_val, _, _ = pkl.load(open(FILE_SAMPLES, \"rb\"))\n",
    "x_train /= 255.0\n",
    "x_val /= 255.0\n",
    "\n",
    "print(x_train.shape, x_train.dtype, x_train.min(), x_train.max())\n",
    "print(y_train.shape, y_train.dtype, y_train.min(), y_train.max())\n",
    "print(x_val.shape, x_val.dtype, x_val.min(), x_val.max())\n",
    "print(y_val.shape, y_val.dtype, y_val.min(), y_val.max())"
   ]
  },
  {
   "cell_type": "markdown",
   "id": "e88e2ebf",
   "metadata": {},
   "source": [
    "# Save Bottlenecks "
   ]
  },
  {
   "cell_type": "code",
   "execution_count": 9,
   "id": "0ff8fb04",
   "metadata": {},
   "outputs": [
    {
     "name": "stdout",
     "output_type": "stream",
     "text": [
      "WARNING:tensorflow:From C:\\Users\\arnal\\Miniconda3\\envs\\dl-gpu\\lib\\site-packages\\tensorflow\\python\\ops\\resource_variable_ops.py:435: colocate_with (from tensorflow.python.framework.ops) is deprecated and will be removed in a future version.\n",
      "Instructions for updating:\n",
      "Colocations handled automatically by placer.\n"
     ]
    }
   ],
   "source": [
    "base_model = MobileNet(input_shape=INPUT_SHAPE, weights=\"imagenet\", include_top=False)\n",
    "\n",
    "# save_bottleneck_features(base_model, x_train, FILE_FEATURES_TRAIN)\n",
    "# save_bottleneck_features(base_model, x_val, FILE_FEATURES_VALID)"
   ]
  },
  {
   "cell_type": "markdown",
   "id": "6d56393b",
   "metadata": {},
   "source": [
    "# Model Training "
   ]
  },
  {
   "cell_type": "code",
   "execution_count": 10,
   "id": "2bab38ab",
   "metadata": {},
   "outputs": [
    {
     "name": "stdout",
     "output_type": "stream",
     "text": [
      "(5151, 5, 5, 1024) float32\n",
      "(580, 5, 5, 1024) float32\n"
     ]
    }
   ],
   "source": [
    "features_train = pkl.load(open(FILE_FEATURES_TRAIN, \"rb\"))\n",
    "features_valid = pkl.load(open(FILE_FEATURES_VALID, \"rb\"))\n",
    "\n",
    "print(features_train.shape, features_train.dtype)\n",
    "print(features_valid.shape, features_valid.dtype)"
   ]
  },
  {
   "cell_type": "code",
   "execution_count": 11,
   "id": "937cebef",
   "metadata": {},
   "outputs": [
    {
     "name": "stdout",
     "output_type": "stream",
     "text": [
      "Model: \"sequential_1\"\n",
      "_________________________________________________________________\n",
      "Layer (type)                 Output Shape              Param #   \n",
      "=================================================================\n",
      "global_average_pooling2d_1 ( (None, 1024)              0         \n",
      "_________________________________________________________________\n",
      "dropout_1 (Dropout)          (None, 1024)              0         \n",
      "_________________________________________________________________\n",
      "outputs (Dense)              (None, 23)                23575     \n",
      "=================================================================\n",
      "Total params: 23,575\n",
      "Trainable params: 23,575\n",
      "Non-trainable params: 0\n",
      "_________________________________________________________________\n",
      "WARNING:tensorflow:From C:\\Users\\arnal\\Miniconda3\\envs\\dl-gpu\\lib\\site-packages\\tensorflow\\python\\ops\\math_ops.py:3066: to_int32 (from tensorflow.python.ops.math_ops) is deprecated and will be removed in a future version.\n",
      "Instructions for updating:\n",
      "Use tf.cast instead.\n",
      "Train on 5151 samples, validate on 580 samples\n",
      "Epoch 1/100\n",
      "5151/5151 [==============================] - 1s 190us/step - loss: 0.4282 - accuracy: 0.8116 - precision: 0.8583 - recall: 0.9150 - f1: 0.8850 - fbeta: 0.8997 - specificity: 0.4008 - negative_predictive_value: 0.5554 - matthews_correlation_coefficient: 0.3609 - val_loss: 0.2692 - val_accuracy: 0.8915 - val_precision: 0.8966 - val_recall: 0.9599 - val_f1: 0.9265 - val_fbeta: 0.9454 - val_specificity: 0.6283 - val_negative_predictive_value: 0.8172 - val_matthews_correlation_coefficient: 0.6473\n",
      "\n",
      "Epoch 00001: val_fbeta improved from -inf to 0.94538, saving model to ../models/baselines/baseline_mobilenet_1.00_160_2021_06_28-22_02_06.h5\n",
      "Epoch 2/100\n",
      "5151/5151 [==============================] - 1s 111us/step - loss: 0.3284 - accuracy: 0.8568 - precision: 0.8862 - recall: 0.9418 - f1: 0.9130 - fbeta: 0.9273 - specificity: 0.5185 - negative_predictive_value: 0.6905 - matthews_correlation_coefficient: 0.5146 - val_loss: 0.2421 - val_accuracy: 0.9005 - val_precision: 0.9022 - val_recall: 0.9671 - val_f1: 0.9327 - val_fbeta: 0.9520 - val_specificity: 0.6467 - val_negative_predictive_value: 0.8507 - val_matthews_correlation_coefficient: 0.6788\n",
      "\n",
      "Epoch 00002: val_fbeta improved from 0.94538 to 0.95204, saving model to ../models/baselines/baseline_mobilenet_1.00_160_2021_06_28-22_02_06.h5\n",
      "Epoch 3/100\n",
      "5151/5151 [==============================] - 1s 105us/step - loss: 0.3005 - accuracy: 0.8690 - precision: 0.8935 - recall: 0.9491 - f1: 0.9204 - fbeta: 0.9347 - specificity: 0.5500 - negative_predictive_value: 0.7315 - matthews_correlation_coefficient: 0.5581 - val_loss: 0.2370 - val_accuracy: 0.9043 - val_precision: 0.8996 - val_recall: 0.9742 - val_f1: 0.9348 - val_fbeta: 0.9574 - val_specificity: 0.6336 - val_negative_predictive_value: 0.8813 - val_matthews_correlation_coefficient: 0.6881\n",
      "\n",
      "Epoch 00003: val_fbeta improved from 0.95204 to 0.95735, saving model to ../models/baselines/baseline_mobilenet_1.00_160_2021_06_28-22_02_06.h5\n",
      "Epoch 4/100\n",
      "5151/5151 [==============================] - 0s 95us/step - loss: 0.2866 - accuracy: 0.8756 - precision: 0.8978 - recall: 0.9527 - f1: 0.9243 - fbeta: 0.9387 - specificity: 0.5672 - negative_predictive_value: 0.7515 - matthews_correlation_coefficient: 0.5804 - val_loss: 0.2249 - val_accuracy: 0.9106 - val_precision: 0.9060 - val_recall: 0.9776 - val_f1: 0.9399 - val_fbeta: 0.9614 - val_specificity: 0.6570 - val_negative_predictive_value: 0.8960 - val_matthews_correlation_coefficient: 0.7125\n",
      "\n",
      "Epoch 00004: val_fbeta improved from 0.95735 to 0.96139, saving model to ../models/baselines/baseline_mobilenet_1.00_160_2021_06_28-22_02_06.h5\n",
      "Epoch 5/100\n",
      "5151/5151 [==============================] - 0s 95us/step - loss: 0.2776 - accuracy: 0.8792 - precision: 0.9013 - recall: 0.9531 - f1: 0.9264 - fbeta: 0.9399 - specificity: 0.5842 - negative_predictive_value: 0.7580 - matthews_correlation_coefficient: 0.5947 - val_loss: 0.2253 - val_accuracy: 0.9049 - val_precision: 0.8984 - val_recall: 0.9783 - val_f1: 0.9361 - val_fbeta: 0.9603 - val_specificity: 0.6225 - val_negative_predictive_value: 0.8988 - val_matthews_correlation_coefficient: 0.6910\n",
      "\n",
      "Epoch 00005: val_fbeta did not improve from 0.96139\n",
      "Epoch 6/100\n",
      "5151/5151 [==============================] - 0s 96us/step - loss: 0.2716 - accuracy: 0.8814 - precision: 0.9026 - recall: 0.9547 - f1: 0.9278 - fbeta: 0.9415 - specificity: 0.5901 - negative_predictive_value: 0.7666 - matthews_correlation_coefficient: 0.6032 - val_loss: 0.2193 - val_accuracy: 0.9133 - val_precision: 0.9119 - val_recall: 0.9733 - val_f1: 0.9409 - val_fbeta: 0.9597 - val_specificity: 0.6874 - val_negative_predictive_value: 0.8789 - val_matthews_correlation_coefficient: 0.7220\n",
      "\n",
      "Epoch 00006: val_fbeta did not improve from 0.96139\n",
      "Epoch 7/100\n",
      "5151/5151 [==============================] - 0s 95us/step - loss: 0.2682 - accuracy: 0.8828 - precision: 0.9039 - recall: 0.9549 - f1: 0.9286 - fbeta: 0.9418 - specificity: 0.5956 - negative_predictive_value: 0.7686 - matthews_correlation_coefficient: 0.6078 - val_loss: 0.2106 - val_accuracy: 0.9226 - val_precision: 0.9200 - val_recall: 0.9751 - val_f1: 0.9461 - val_fbeta: 0.9628 - val_specificity: 0.7225 - val_negative_predictive_value: 0.8924 - val_matthews_correlation_coefficient: 0.7522\n",
      "\n",
      "Epoch 00007: val_fbeta improved from 0.96139 to 0.96275, saving model to ../models/baselines/baseline_mobilenet_1.00_160_2021_06_28-22_02_06.h5\n",
      "Epoch 8/100\n",
      "5151/5151 [==============================] - 0s 95us/step - loss: 0.2646 - accuracy: 0.8842 - precision: 0.9055 - recall: 0.9546 - f1: 0.9293 - fbeta: 0.9420 - specificity: 0.6040 - negative_predictive_value: 0.7701 - matthews_correlation_coefficient: 0.6138 - val_loss: 0.2135 - val_accuracy: 0.9174 - val_precision: 0.9119 - val_recall: 0.9790 - val_f1: 0.9434 - val_fbeta: 0.9637 - val_specificity: 0.6877 - val_negative_predictive_value: 0.9024 - val_matthews_correlation_coefficient: 0.7361\n",
      "\n",
      "Epoch 00008: val_fbeta improved from 0.96275 to 0.96374, saving model to ../models/baselines/baseline_mobilenet_1.00_160_2021_06_28-22_02_06.h5\n",
      "Epoch 9/100\n",
      "5151/5151 [==============================] - 0s 95us/step - loss: 0.2622 - accuracy: 0.8866 - precision: 0.9078 - recall: 0.9549 - f1: 0.9307 - fbeta: 0.9429 - specificity: 0.6141 - negative_predictive_value: 0.7738 - matthews_correlation_coefficient: 0.6223 - val_loss: 0.2078 - val_accuracy: 0.9185 - val_precision: 0.9171 - val_recall: 0.9754 - val_f1: 0.9448 - val_fbeta: 0.9624 - val_specificity: 0.7066 - val_negative_predictive_value: 0.8913 - val_matthews_correlation_coefficient: 0.7418\n",
      "\n",
      "Epoch 00009: val_fbeta did not improve from 0.96374\n",
      "Epoch 10/100\n",
      "5151/5151 [==============================] - 0s 95us/step - loss: 0.2600 - accuracy: 0.8867 - precision: 0.9075 - recall: 0.9557 - f1: 0.9309 - fbeta: 0.9436 - specificity: 0.6121 - negative_predictive_value: 0.7767 - matthews_correlation_coefficient: 0.6226 - val_loss: 0.2068 - val_accuracy: 0.9204 - val_precision: 0.9161 - val_recall: 0.9778 - val_f1: 0.9453 - val_fbeta: 0.9639 - val_specificity: 0.7047 - val_negative_predictive_value: 0.9018 - val_matthews_correlation_coefficient: 0.7463\n",
      "\n",
      "Epoch 00010: val_fbeta improved from 0.96374 to 0.96388, saving model to ../models/baselines/baseline_mobilenet_1.00_160_2021_06_28-22_02_06.h5\n",
      "Epoch 11/100\n",
      "5151/5151 [==============================] - 0s 92us/step - loss: 0.2590 - accuracy: 0.8868 - precision: 0.9078 - recall: 0.9555 - f1: 0.9309 - fbeta: 0.9434 - specificity: 0.6128 - negative_predictive_value: 0.7759 - matthews_correlation_coefficient: 0.6226 - val_loss: 0.2130 - val_accuracy: 0.9178 - val_precision: 0.9162 - val_recall: 0.9720 - val_f1: 0.9423 - val_fbeta: 0.9592 - val_specificity: 0.7116 - val_negative_predictive_value: 0.8780 - val_matthews_correlation_coefficient: 0.7360\n",
      "\n",
      "Epoch 00011: val_fbeta did not improve from 0.96388\n",
      "Epoch 12/100\n",
      "5151/5151 [==============================] - 0s 96us/step - loss: 0.2592 - accuracy: 0.8870 - precision: 0.9089 - recall: 0.9542 - f1: 0.9309 - fbeta: 0.9426 - specificity: 0.6194 - negative_predictive_value: 0.7726 - matthews_correlation_coefficient: 0.6248 - val_loss: 0.2091 - val_accuracy: 0.9206 - val_precision: 0.9158 - val_recall: 0.9778 - val_f1: 0.9451 - val_fbeta: 0.9638 - val_specificity: 0.7040 - val_negative_predictive_value: 0.9022 - val_matthews_correlation_coefficient: 0.7461\n"
     ]
    },
    {
     "name": "stdout",
     "output_type": "stream",
     "text": [
      "\n",
      "Epoch 00012: val_fbeta did not improve from 0.96388\n",
      "Epoch 13/100\n",
      "5151/5151 [==============================] - 0s 92us/step - loss: 0.2569 - accuracy: 0.8884 - precision: 0.9090 - recall: 0.9559 - f1: 0.9318 - fbeta: 0.9441 - specificity: 0.6196 - negative_predictive_value: 0.7791 - matthews_correlation_coefficient: 0.6288 - val_loss: 0.2108 - val_accuracy: 0.9199 - val_precision: 0.9181 - val_recall: 0.9710 - val_f1: 0.9432 - val_fbeta: 0.9592 - val_specificity: 0.7176 - val_negative_predictive_value: 0.8802 - val_matthews_correlation_coefficient: 0.7409\n",
      "\n",
      "Epoch 00013: val_fbeta did not improve from 0.96388\n",
      "Epoch 14/100\n",
      "5151/5151 [==============================] - 1s 102us/step - loss: 0.2546 - accuracy: 0.8891 - precision: 0.9104 - recall: 0.9552 - f1: 0.9322 - fbeta: 0.9436 - specificity: 0.6260 - negative_predictive_value: 0.7787 - matthews_correlation_coefficient: 0.6324 - val_loss: 0.2053 - val_accuracy: 0.9204 - val_precision: 0.9170 - val_recall: 0.9795 - val_f1: 0.9466 - val_fbeta: 0.9655 - val_specificity: 0.7045 - val_negative_predictive_value: 0.9049 - val_matthews_correlation_coefficient: 0.7491\n",
      "\n",
      "Epoch 00014: val_fbeta improved from 0.96388 to 0.96546, saving model to ../models/baselines/baseline_mobilenet_1.00_160_2021_06_28-22_02_06.h5\n",
      "Epoch 15/100\n",
      "5151/5151 [==============================] - 1s 105us/step - loss: 0.2569 - accuracy: 0.8874 - precision: 0.9094 - recall: 0.9542 - f1: 0.9312 - fbeta: 0.9427 - specificity: 0.6213 - negative_predictive_value: 0.7739 - matthews_correlation_coefficient: 0.6266 - val_loss: 0.2076 - val_accuracy: 0.9182 - val_precision: 0.9142 - val_recall: 0.9783 - val_f1: 0.9445 - val_fbeta: 0.9638 - val_specificity: 0.6967 - val_negative_predictive_value: 0.9014 - val_matthews_correlation_coefficient: 0.7412\n",
      "\n",
      "Epoch 00015: val_fbeta did not improve from 0.96546\n",
      "Epoch 16/100\n",
      "5151/5151 [==============================] - 1s 121us/step - loss: 0.2550 - accuracy: 0.8888 - precision: 0.9100 - recall: 0.9552 - f1: 0.9320 - fbeta: 0.9438 - specificity: 0.6236 - negative_predictive_value: 0.7783 - matthews_correlation_coefficient: 0.6307 - val_loss: 0.2029 - val_accuracy: 0.9224 - val_precision: 0.9223 - val_recall: 0.9721 - val_f1: 0.9458 - val_fbeta: 0.9609 - val_specificity: 0.7342 - val_negative_predictive_value: 0.8820 - val_matthews_correlation_coefficient: 0.7531\n",
      "\n",
      "Epoch 00016: val_fbeta did not improve from 0.96546\n",
      "Epoch 17/100\n",
      "5151/5151 [==============================] - 1s 115us/step - loss: 0.2559 - accuracy: 0.8884 - precision: 0.9106 - recall: 0.9539 - f1: 0.9317 - fbeta: 0.9428 - specificity: 0.6265 - negative_predictive_value: 0.7746 - matthews_correlation_coefficient: 0.6301 - val_loss: 0.2060 - val_accuracy: 0.9175 - val_precision: 0.9131 - val_recall: 0.9789 - val_f1: 0.9442 - val_fbeta: 0.9640 - val_specificity: 0.6885 - val_negative_predictive_value: 0.9024 - val_matthews_correlation_coefficient: 0.7371\n",
      "\n",
      "Epoch 00017: val_fbeta did not improve from 0.96546\n",
      "Epoch 18/100\n",
      "5151/5151 [==============================] - 1s 112us/step - loss: 0.2542 - accuracy: 0.8888 - precision: 0.9106 - recall: 0.9546 - f1: 0.9319 - fbeta: 0.9432 - specificity: 0.6267 - negative_predictive_value: 0.7766 - matthews_correlation_coefficient: 0.6315 - val_loss: 0.2051 - val_accuracy: 0.9223 - val_precision: 0.9178 - val_recall: 0.9788 - val_f1: 0.9465 - val_fbeta: 0.9651 - val_specificity: 0.7125 - val_negative_predictive_value: 0.9038 - val_matthews_correlation_coefficient: 0.7529\n",
      "\n",
      "Epoch 00018: val_fbeta did not improve from 0.96546\n",
      "Epoch 19/100\n",
      "5151/5151 [==============================] - 1s 107us/step - loss: 0.2527 - accuracy: 0.8893 - precision: 0.9111 - recall: 0.9547 - f1: 0.9323 - fbeta: 0.9436 - specificity: 0.6285 - negative_predictive_value: 0.7775 - matthews_correlation_coefficient: 0.6332 - val_loss: 0.2012 - val_accuracy: 0.9244 - val_precision: 0.9250 - val_recall: 0.9745 - val_f1: 0.9484 - val_fbeta: 0.9634 - val_specificity: 0.7415 - val_negative_predictive_value: 0.8902 - val_matthews_correlation_coefficient: 0.7633\n",
      "\n",
      "Epoch 00019: val_fbeta did not improve from 0.96546\n",
      "Epoch 20/100\n",
      "5151/5151 [==============================] - 0s 95us/step - loss: 0.2552 - accuracy: 0.8882 - precision: 0.9111 - recall: 0.9532 - f1: 0.9316 - fbeta: 0.9423 - specificity: 0.6294 - negative_predictive_value: 0.7722 - matthews_correlation_coefficient: 0.6304 - val_loss: 0.2051 - val_accuracy: 0.9214 - val_precision: 0.9217 - val_recall: 0.9746 - val_f1: 0.9465 - val_fbeta: 0.9624 - val_specificity: 0.7294 - val_negative_predictive_value: 0.8865 - val_matthews_correlation_coefficient: 0.7535\n",
      "\n",
      "Epoch 00020: val_fbeta did not improve from 0.96546\n",
      "Epoch 21/100\n",
      "5151/5151 [==============================] - 1s 108us/step - loss: 0.2516 - accuracy: 0.8902 - precision: 0.9119 - recall: 0.9548 - f1: 0.9328 - fbeta: 0.9437 - specificity: 0.6323 - negative_predictive_value: 0.7784 - matthews_correlation_coefficient: 0.6362 - val_loss: 0.2047 - val_accuracy: 0.9201 - val_precision: 0.9186 - val_recall: 0.9766 - val_f1: 0.9459 - val_fbeta: 0.9634 - val_specificity: 0.7149 - val_negative_predictive_value: 0.8931 - val_matthews_correlation_coefficient: 0.7484\n",
      "\n",
      "Epoch 00021: val_fbeta did not improve from 0.96546\n",
      "Epoch 22/100\n",
      "5151/5151 [==============================] - 1s 100us/step - loss: 0.2528 - accuracy: 0.8889 - precision: 0.9111 - recall: 0.9540 - f1: 0.9320 - fbeta: 0.9431 - specificity: 0.6289 - negative_predictive_value: 0.7752 - matthews_correlation_coefficient: 0.6320 - val_loss: 0.2033 - val_accuracy: 0.9226 - val_precision: 0.9216 - val_recall: 0.9768 - val_f1: 0.9477 - val_fbeta: 0.9641 - val_specificity: 0.7264 - val_negative_predictive_value: 0.8957 - val_matthews_correlation_coefficient: 0.7575\n",
      "\n",
      "Epoch 00022: val_fbeta did not improve from 0.96546\n",
      "Epoch 23/100\n",
      "5151/5151 [==============================] - 0s 94us/step - loss: 0.2515 - accuracy: 0.8903 - precision: 0.9122 - recall: 0.9545 - f1: 0.9328 - fbeta: 0.9436 - specificity: 0.6331 - negative_predictive_value: 0.7782 - matthews_correlation_coefficient: 0.6365 - val_loss: 0.2023 - val_accuracy: 0.9226 - val_precision: 0.9212 - val_recall: 0.9759 - val_f1: 0.9471 - val_fbeta: 0.9635 - val_specificity: 0.7257 - val_negative_predictive_value: 0.8962 - val_matthews_correlation_coefficient: 0.7566\n",
      "\n",
      "Epoch 00023: val_fbeta did not improve from 0.96546\n",
      "Epoch 24/100\n",
      "5151/5151 [==============================] - 0s 91us/step - loss: 0.2523 - accuracy: 0.8892 - precision: 0.9114 - recall: 0.9541 - f1: 0.9321 - fbeta: 0.9431 - specificity: 0.6304 - negative_predictive_value: 0.7748 - matthews_correlation_coefficient: 0.6329 - val_loss: 0.2074 - val_accuracy: 0.9206 - val_precision: 0.9154 - val_recall: 0.9775 - val_f1: 0.9447 - val_fbeta: 0.9635 - val_specificity: 0.7057 - val_negative_predictive_value: 0.9018 - val_matthews_correlation_coefficient: 0.7465\n",
      "\n",
      "Epoch 00024: val_fbeta did not improve from 0.96546\n",
      "Epoch 25/100\n",
      "5151/5151 [==============================] - 0s 93us/step - loss: 0.2516 - accuracy: 0.8903 - precision: 0.9122 - recall: 0.9546 - f1: 0.9328 - fbeta: 0.9436 - specificity: 0.6346 - negative_predictive_value: 0.7788 - matthews_correlation_coefficient: 0.6376 - val_loss: 0.2002 - val_accuracy: 0.9250 - val_precision: 0.9303 - val_recall: 0.9685 - val_f1: 0.9484 - val_fbeta: 0.9598 - val_specificity: 0.7646 - val_negative_predictive_value: 0.8721 - val_matthews_correlation_coefficient: 0.7663\n",
      "\n",
      "Epoch 00025: val_fbeta did not improve from 0.96546\n",
      "Epoch 26/100\n",
      "5151/5151 [==============================] - 0s 95us/step - loss: 0.2513 - accuracy: 0.8897 - precision: 0.9124 - recall: 0.9535 - f1: 0.9324 - fbeta: 0.9428 - specificity: 0.6361 - negative_predictive_value: 0.7747 - matthews_correlation_coefficient: 0.6361 - val_loss: 0.2036 - val_accuracy: 0.9202 - val_precision: 0.9192 - val_recall: 0.9744 - val_f1: 0.9454 - val_fbeta: 0.9620 - val_specificity: 0.7184 - val_negative_predictive_value: 0.8895 - val_matthews_correlation_coefficient: 0.7477\n",
      "\n",
      "Epoch 00026: val_fbeta did not improve from 0.96546\n",
      "Epoch 27/100\n"
     ]
    },
    {
     "name": "stdout",
     "output_type": "stream",
     "text": [
      "5151/5151 [==============================] - 0s 97us/step - loss: 0.2516 - accuracy: 0.8906 - precision: 0.9127 - recall: 0.9544 - f1: 0.9330 - fbeta: 0.9436 - specificity: 0.6363 - negative_predictive_value: 0.7786 - matthews_correlation_coefficient: 0.6385 - val_loss: 0.2012 - val_accuracy: 0.9238 - val_precision: 0.9192 - val_recall: 0.9782 - val_f1: 0.9469 - val_fbeta: 0.9646 - val_specificity: 0.7208 - val_negative_predictive_value: 0.9045 - val_matthews_correlation_coefficient: 0.7580\n",
      "\n",
      "Epoch 00027: val_fbeta did not improve from 0.96546\n",
      "Epoch 28/100\n",
      "5151/5151 [==============================] - 0s 91us/step - loss: 0.2515 - accuracy: 0.8891 - precision: 0.9124 - recall: 0.9527 - f1: 0.9320 - fbeta: 0.9423 - specificity: 0.6363 - negative_predictive_value: 0.7721 - matthews_correlation_coefficient: 0.6346 - val_loss: 0.2046 - val_accuracy: 0.9233 - val_precision: 0.9247 - val_recall: 0.9692 - val_f1: 0.9457 - val_fbeta: 0.9591 - val_specificity: 0.7481 - val_negative_predictive_value: 0.8745 - val_matthews_correlation_coefficient: 0.7565\n",
      "\n",
      "Epoch 00028: val_fbeta did not improve from 0.96546\n",
      "Epoch 29/100\n",
      "5151/5151 [==============================] - 1s 97us/step - loss: 0.2523 - accuracy: 0.8895 - precision: 0.9119 - recall: 0.9539 - f1: 0.9323 - fbeta: 0.9431 - specificity: 0.6324 - negative_predictive_value: 0.7754 - matthews_correlation_coefficient: 0.6343 - val_loss: 0.2048 - val_accuracy: 0.9211 - val_precision: 0.9187 - val_recall: 0.9730 - val_f1: 0.9443 - val_fbeta: 0.9609 - val_specificity: 0.7220 - val_negative_predictive_value: 0.8860 - val_matthews_correlation_coefficient: 0.7471\n",
      "\n",
      "Epoch 00029: val_fbeta did not improve from 0.96546\n",
      "Epoch 30/100\n",
      "5151/5151 [==============================] - 0s 95us/step - loss: 0.2531 - accuracy: 0.8896 - precision: 0.9123 - recall: 0.9535 - f1: 0.9324 - fbeta: 0.9429 - specificity: 0.6348 - negative_predictive_value: 0.7737 - matthews_correlation_coefficient: 0.6349 - val_loss: 0.2073 - val_accuracy: 0.9193 - val_precision: 0.9133 - val_recall: 0.9794 - val_f1: 0.9444 - val_fbeta: 0.9644 - val_specificity: 0.6941 - val_negative_predictive_value: 0.9070 - val_matthews_correlation_coefficient: 0.7426\n",
      "\n",
      "Epoch 00030: val_fbeta did not improve from 0.96546\n",
      "Epoch 31/100\n",
      "5151/5151 [==============================] - 1s 97us/step - loss: 0.2519 - accuracy: 0.8898 - precision: 0.9122 - recall: 0.9540 - f1: 0.9325 - fbeta: 0.9432 - specificity: 0.6342 - negative_predictive_value: 0.7756 - matthews_correlation_coefficient: 0.6356 - val_loss: 0.2079 - val_accuracy: 0.9199 - val_precision: 0.9215 - val_recall: 0.9672 - val_f1: 0.9428 - val_fbeta: 0.9566 - val_specificity: 0.7378 - val_negative_predictive_value: 0.8640 - val_matthews_correlation_coefficient: 0.7433\n",
      "\n",
      "Epoch 00031: val_fbeta did not improve from 0.96546\n",
      "Epoch 32/100\n",
      "5151/5151 [==============================] - 1s 98us/step - loss: 0.2492 - accuracy: 0.8916 - precision: 0.9131 - recall: 0.9551 - f1: 0.9336 - fbeta: 0.9444 - specificity: 0.6375 - negative_predictive_value: 0.7809 - matthews_correlation_coefficient: 0.6409 - val_loss: 0.2019 - val_accuracy: 0.9220 - val_precision: 0.9263 - val_recall: 0.9694 - val_f1: 0.9468 - val_fbeta: 0.9596 - val_specificity: 0.7486 - val_negative_predictive_value: 0.8735 - val_matthews_correlation_coefficient: 0.7571\n",
      "\n",
      "Epoch 00032: val_fbeta did not improve from 0.96546\n",
      "Epoch 33/100\n",
      "5151/5151 [==============================] - 1s 99us/step - loss: 0.2503 - accuracy: 0.8908 - precision: 0.9132 - recall: 0.9540 - f1: 0.9331 - fbeta: 0.9434 - specificity: 0.6391 - negative_predictive_value: 0.7781 - matthews_correlation_coefficient: 0.6400 - val_loss: 0.2017 - val_accuracy: 0.9220 - val_precision: 0.9240 - val_recall: 0.9714 - val_f1: 0.9463 - val_fbeta: 0.9604 - val_specificity: 0.7409 - val_negative_predictive_value: 0.8785 - val_matthews_correlation_coefficient: 0.7553\n",
      "\n",
      "Epoch 00033: val_fbeta did not improve from 0.96546\n",
      "Epoch 34/100\n",
      "5151/5151 [==============================] - 1s 104us/step - loss: 0.2504 - accuracy: 0.8905 - precision: 0.9130 - recall: 0.9539 - f1: 0.9329 - fbeta: 0.9432 - specificity: 0.6386 - negative_predictive_value: 0.7769 - matthews_correlation_coefficient: 0.6389 - val_loss: 0.2031 - val_accuracy: 0.9241 - val_precision: 0.9235 - val_recall: 0.9712 - val_f1: 0.9460 - val_fbeta: 0.9604 - val_specificity: 0.7428 - val_negative_predictive_value: 0.8820 - val_matthews_correlation_coefficient: 0.7576\n",
      "\n",
      "Epoch 00034: val_fbeta did not improve from 0.96546\n",
      "Epoch 35/100\n",
      "5151/5151 [==============================] - 1s 116us/step - loss: 0.2515 - accuracy: 0.8901 - precision: 0.9129 - recall: 0.9534 - f1: 0.9326 - fbeta: 0.9429 - specificity: 0.6379 - negative_predictive_value: 0.7742 - matthews_correlation_coefficient: 0.6370 - val_loss: 0.2050 - val_accuracy: 0.9223 - val_precision: 0.9198 - val_recall: 0.9732 - val_f1: 0.9451 - val_fbeta: 0.9613 - val_specificity: 0.7258 - val_negative_predictive_value: 0.8864 - val_matthews_correlation_coefficient: 0.7501\n",
      "\n",
      "Epoch 00035: val_fbeta did not improve from 0.96546\n",
      "Epoch 36/100\n",
      "5151/5151 [==============================] - 1s 108us/step - loss: 0.2506 - accuracy: 0.8906 - precision: 0.9129 - recall: 0.9541 - f1: 0.9330 - fbeta: 0.9436 - specificity: 0.6380 - negative_predictive_value: 0.7778 - matthews_correlation_coefficient: 0.6391 - val_loss: 0.2010 - val_accuracy: 0.9226 - val_precision: 0.9188 - val_recall: 0.9756 - val_f1: 0.9455 - val_fbeta: 0.9627 - val_specificity: 0.7193 - val_negative_predictive_value: 0.8932 - val_matthews_correlation_coefficient: 0.7505\n",
      "\n",
      "Epoch 00036: val_fbeta did not improve from 0.96546\n",
      "Epoch 37/100\n",
      "5151/5151 [==============================] - 1s 104us/step - loss: 0.2495 - accuracy: 0.8914 - precision: 0.9137 - recall: 0.9542 - f1: 0.9334 - fbeta: 0.9438 - specificity: 0.6412 - negative_predictive_value: 0.7784 - matthews_correlation_coefficient: 0.6416 - val_loss: 0.2040 - val_accuracy: 0.9210 - val_precision: 0.9166 - val_recall: 0.9784 - val_f1: 0.9460 - val_fbeta: 0.9646 - val_specificity: 0.7048 - val_negative_predictive_value: 0.9051 - val_matthews_correlation_coefficient: 0.7487\n",
      "\n",
      "Epoch 00037: val_fbeta did not improve from 0.96546\n",
      "Epoch 38/100\n",
      "5151/5151 [==============================] - 0s 94us/step - loss: 0.2510 - accuracy: 0.8897 - precision: 0.9123 - recall: 0.9537 - f1: 0.9324 - fbeta: 0.9429 - specificity: 0.6360 - negative_predictive_value: 0.7753 - matthews_correlation_coefficient: 0.6364 - val_loss: 0.1996 - val_accuracy: 0.9263 - val_precision: 0.9267 - val_recall: 0.9721 - val_f1: 0.9480 - val_fbeta: 0.9615 - val_specificity: 0.7535 - val_negative_predictive_value: 0.8835 - val_matthews_correlation_coefficient: 0.7660\n",
      "\n",
      "Epoch 00038: val_fbeta did not improve from 0.96546\n",
      "Epoch 39/100\n",
      "5151/5151 [==============================] - 0s 96us/step - loss: 0.2502 - accuracy: 0.8911 - precision: 0.9141 - recall: 0.9534 - f1: 0.9332 - fbeta: 0.9430 - specificity: 0.6433 - negative_predictive_value: 0.7768 - matthews_correlation_coefficient: 0.6416 - val_loss: 0.2058 - val_accuracy: 0.9225 - val_precision: 0.9205 - val_recall: 0.9740 - val_f1: 0.9457 - val_fbeta: 0.9619 - val_specificity: 0.7278 - val_negative_predictive_value: 0.8876 - val_matthews_correlation_coefficient: 0.7523\n",
      "\n",
      "Epoch 00039: val_fbeta did not improve from 0.96546\n",
      "Epoch 40/100\n",
      "5151/5151 [==============================] - 0s 94us/step - loss: 0.2508 - accuracy: 0.8905 - precision: 0.9134 - recall: 0.9535 - f1: 0.9329 - fbeta: 0.9429 - specificity: 0.6398 - negative_predictive_value: 0.7760 - matthews_correlation_coefficient: 0.6389 - val_loss: 0.2076 - val_accuracy: 0.9187 - val_precision: 0.9127 - val_recall: 0.9785 - val_f1: 0.9435 - val_fbeta: 0.9634 - val_specificity: 0.6939 - val_negative_predictive_value: 0.9018 - val_matthews_correlation_coefficient: 0.7393\n",
      "\n",
      "Epoch 00040: val_fbeta did not improve from 0.96546\n",
      "Epoch 41/100\n"
     ]
    },
    {
     "name": "stdout",
     "output_type": "stream",
     "text": [
      "5151/5151 [==============================] - 0s 94us/step - loss: 0.2518 - accuracy: 0.8894 - precision: 0.9125 - recall: 0.9529 - f1: 0.9322 - fbeta: 0.9424 - specificity: 0.6369 - negative_predictive_value: 0.7735 - matthews_correlation_coefficient: 0.6356 - val_loss: 0.2003 - val_accuracy: 0.9264 - val_precision: 0.9341 - val_recall: 0.9641 - val_f1: 0.9482 - val_fbeta: 0.9572 - val_specificity: 0.7845 - val_negative_predictive_value: 0.8610 - val_matthews_correlation_coefficient: 0.7708\n",
      "\n",
      "Epoch 00041: val_fbeta did not improve from 0.96546\n",
      "Epoch 42/100\n",
      "5151/5151 [==============================] - 0s 95us/step - loss: 0.2505 - accuracy: 0.8902 - precision: 0.9128 - recall: 0.9537 - f1: 0.9327 - fbeta: 0.9430 - specificity: 0.6376 - negative_predictive_value: 0.7764 - matthews_correlation_coefficient: 0.6379 - val_loss: 0.2017 - val_accuracy: 0.9220 - val_precision: 0.9223 - val_recall: 0.9748 - val_f1: 0.9469 - val_fbeta: 0.9626 - val_specificity: 0.7318 - val_negative_predictive_value: 0.8873 - val_matthews_correlation_coefficient: 0.7555\n",
      "\n",
      "Epoch 00042: val_fbeta did not improve from 0.96546\n",
      "Epoch 43/100\n",
      "5151/5151 [==============================] - 1s 100us/step - loss: 0.2493 - accuracy: 0.8912 - precision: 0.9138 - recall: 0.9537 - f1: 0.9332 - fbeta: 0.9433 - specificity: 0.6421 - negative_predictive_value: 0.7784 - matthews_correlation_coefficient: 0.6417 - val_loss: 0.2018 - val_accuracy: 0.9238 - val_precision: 0.9277 - val_recall: 0.9686 - val_f1: 0.9471 - val_fbeta: 0.9594 - val_specificity: 0.7557 - val_negative_predictive_value: 0.8713 - val_matthews_correlation_coefficient: 0.7602\n",
      "\n",
      "Epoch 00043: val_fbeta did not improve from 0.96546\n",
      "Epoch 44/100\n",
      "5151/5151 [==============================] - 0s 95us/step - loss: 0.2502 - accuracy: 0.8911 - precision: 0.9136 - recall: 0.9539 - f1: 0.9332 - fbeta: 0.9435 - specificity: 0.6403 - negative_predictive_value: 0.7772 - matthews_correlation_coefficient: 0.6403 - val_loss: 0.2067 - val_accuracy: 0.9207 - val_precision: 0.9182 - val_recall: 0.9756 - val_f1: 0.9454 - val_fbeta: 0.9628 - val_specificity: 0.7140 - val_negative_predictive_value: 0.8927 - val_matthews_correlation_coefficient: 0.7472\n",
      "\n",
      "Epoch 00044: val_fbeta did not improve from 0.96546\n",
      "Restoring model weights from the end of the best epoch\n",
      "Epoch 00044: early stopping\n"
     ]
    },
    {
     "data": {
      "image/png": "[encoded data removed]",
      "text/plain": [
       "<Figure size 864x288 with 2 Axes>"
      ]
     },
     "metadata": {
      "needs_background": "light"
     },
     "output_type": "display_data"
    }
   ],
   "source": [
    "mlflow.set_experiment(MLFLOW_EXPERIMENT_NAME)\n",
    "mlflow.log_param(\"test_size\", TEST_SIZE)\n",
    "mlflow.log_param(\"seed\", RANDOM_SEED)\n",
    "mlflow.keras.autolog()\n",
    "\n",
    "set_random_seeds()\n",
    "\n",
    "metrics = [\"accuracy\", precision, recall, f1, fbeta, specificity, npv, mcc]\n",
    "METRIC_TO_MONITOR = \"val_fbeta\"\n",
    "\n",
    "model = Sequential([\n",
    "    GlobalAvgPool2D(input_shape=features_train.shape[1:]),\n",
    "    Dropout(rate=0.5),\n",
    "    Dense(units=N_REQS, activation=\"sigmoid\", name=\"outputs\")\n",
    "])\n",
    "model.summary()\n",
    "\n",
    "model.compile(optimizer=\"adam\", loss=\"binary_crossentropy\", metrics=metrics)\n",
    "\n",
    "FILE_MODEL = FOLDER_MODELS + timestamp_model_name(prefix=f\"baseline_{base_model.name}_\")\n",
    "list_callbacks = [\n",
    "    ModelCheckpoint(FILE_MODEL, monitor=METRIC_TO_MONITOR, mode=\"max\", verbose=1, save_best_only=True), \n",
    "    EarlyStopping(monitor=METRIC_TO_MONITOR, mode=\"max\", patience=30, verbose=1, restore_best_weights=True)\n",
    "]\n",
    "\n",
    "hist = model.fit(\n",
    "    x=features_train,\n",
    "    y=y_train,\n",
    "    batch_size=32,\n",
    "    epochs=100,\n",
    "    validation_data=(features_valid, y_val),\n",
    "    callbacks=list_callbacks\n",
    ")\n",
    "\n",
    "plot.keras_hist(hist.history)\n",
    "mlflow.end_run()"
   ]
  },
  {
   "cell_type": "markdown",
   "id": "2466e718",
   "metadata": {},
   "source": [
    "# Final Model "
   ]
  },
  {
   "cell_type": "code",
   "execution_count": 12,
   "id": "be298947",
   "metadata": {},
   "outputs": [
    {
     "name": "stdout",
     "output_type": "stream",
     "text": [
      "Model: \"model_1\"\n",
      "_________________________________________________________________\n",
      "Layer (type)                 Output Shape              Param #   \n",
      "=================================================================\n",
      "input_1 (InputLayer)         (None, 160, 160, 3)       0         \n",
      "_________________________________________________________________\n",
      "conv1_pad (ZeroPadding2D)    (None, 161, 161, 3)       0         \n",
      "_________________________________________________________________\n",
      "conv1 (Conv2D)               (None, 80, 80, 32)        864       \n",
      "_________________________________________________________________\n",
      "conv1_bn (BatchNormalization (None, 80, 80, 32)        128       \n",
      "_________________________________________________________________\n",
      "conv1_relu (ReLU)            (None, 80, 80, 32)        0         \n",
      "_________________________________________________________________\n",
      "conv_dw_1 (DepthwiseConv2D)  (None, 80, 80, 32)        288       \n",
      "_________________________________________________________________\n",
      "conv_dw_1_bn (BatchNormaliza (None, 80, 80, 32)        128       \n",
      "_________________________________________________________________\n",
      "conv_dw_1_relu (ReLU)        (None, 80, 80, 32)        0         \n",
      "_________________________________________________________________\n",
      "conv_pw_1 (Conv2D)           (None, 80, 80, 64)        2048      \n",
      "_________________________________________________________________\n",
      "conv_pw_1_bn (BatchNormaliza (None, 80, 80, 64)        256       \n",
      "_________________________________________________________________\n",
      "conv_pw_1_relu (ReLU)        (None, 80, 80, 64)        0         \n",
      "_________________________________________________________________\n",
      "conv_pad_2 (ZeroPadding2D)   (None, 81, 81, 64)        0         \n",
      "_________________________________________________________________\n",
      "conv_dw_2 (DepthwiseConv2D)  (None, 40, 40, 64)        576       \n",
      "_________________________________________________________________\n",
      "conv_dw_2_bn (BatchNormaliza (None, 40, 40, 64)        256       \n",
      "_________________________________________________________________\n",
      "conv_dw_2_relu (ReLU)        (None, 40, 40, 64)        0         \n",
      "_________________________________________________________________\n",
      "conv_pw_2 (Conv2D)           (None, 40, 40, 128)       8192      \n",
      "_________________________________________________________________\n",
      "conv_pw_2_bn (BatchNormaliza (None, 40, 40, 128)       512       \n",
      "_________________________________________________________________\n",
      "conv_pw_2_relu (ReLU)        (None, 40, 40, 128)       0         \n",
      "_________________________________________________________________\n",
      "conv_dw_3 (DepthwiseConv2D)  (None, 40, 40, 128)       1152      \n",
      "_________________________________________________________________\n",
      "conv_dw_3_bn (BatchNormaliza (None, 40, 40, 128)       512       \n",
      "_________________________________________________________________\n",
      "conv_dw_3_relu (ReLU)        (None, 40, 40, 128)       0         \n",
      "_________________________________________________________________\n",
      "conv_pw_3 (Conv2D)           (None, 40, 40, 128)       16384     \n",
      "_________________________________________________________________\n",
      "conv_pw_3_bn (BatchNormaliza (None, 40, 40, 128)       512       \n",
      "_________________________________________________________________\n",
      "conv_pw_3_relu (ReLU)        (None, 40, 40, 128)       0         \n",
      "_________________________________________________________________\n",
      "conv_pad_4 (ZeroPadding2D)   (None, 41, 41, 128)       0         \n",
      "_________________________________________________________________\n",
      "conv_dw_4 (DepthwiseConv2D)  (None, 20, 20, 128)       1152      \n",
      "_________________________________________________________________\n",
      "conv_dw_4_bn (BatchNormaliza (None, 20, 20, 128)       512       \n",
      "_________________________________________________________________\n",
      "conv_dw_4_relu (ReLU)        (None, 20, 20, 128)       0         \n",
      "_________________________________________________________________\n",
      "conv_pw_4 (Conv2D)           (None, 20, 20, 256)       32768     \n",
      "_________________________________________________________________\n",
      "conv_pw_4_bn (BatchNormaliza (None, 20, 20, 256)       1024      \n",
      "_________________________________________________________________\n",
      "conv_pw_4_relu (ReLU)        (None, 20, 20, 256)       0         \n",
      "_________________________________________________________________\n",
      "conv_dw_5 (DepthwiseConv2D)  (None, 20, 20, 256)       2304      \n",
      "_________________________________________________________________\n",
      "conv_dw_5_bn (BatchNormaliza (None, 20, 20, 256)       1024      \n",
      "_________________________________________________________________\n",
      "conv_dw_5_relu (ReLU)        (None, 20, 20, 256)       0         \n",
      "_________________________________________________________________\n",
      "conv_pw_5 (Conv2D)           (None, 20, 20, 256)       65536     \n",
      "_________________________________________________________________\n",
      "conv_pw_5_bn (BatchNormaliza (None, 20, 20, 256)       1024      \n",
      "_________________________________________________________________\n",
      "conv_pw_5_relu (ReLU)        (None, 20, 20, 256)       0         \n",
      "_________________________________________________________________\n",
      "conv_pad_6 (ZeroPadding2D)   (None, 21, 21, 256)       0         \n",
      "_________________________________________________________________\n",
      "conv_dw_6 (DepthwiseConv2D)  (None, 10, 10, 256)       2304      \n",
      "_________________________________________________________________\n",
      "conv_dw_6_bn (BatchNormaliza (None, 10, 10, 256)       1024      \n",
      "_________________________________________________________________\n",
      "conv_dw_6_relu (ReLU)        (None, 10, 10, 256)       0         \n",
      "_________________________________________________________________\n",
      "conv_pw_6 (Conv2D)           (None, 10, 10, 512)       131072    \n",
      "_________________________________________________________________\n",
      "conv_pw_6_bn (BatchNormaliza (None, 10, 10, 512)       2048      \n",
      "_________________________________________________________________\n",
      "conv_pw_6_relu (ReLU)        (None, 10, 10, 512)       0         \n",
      "_________________________________________________________________\n",
      "conv_dw_7 (DepthwiseConv2D)  (None, 10, 10, 512)       4608      \n",
      "_________________________________________________________________\n",
      "conv_dw_7_bn (BatchNormaliza (None, 10, 10, 512)       2048      \n",
      "_________________________________________________________________\n",
      "conv_dw_7_relu (ReLU)        (None, 10, 10, 512)       0         \n",
      "_________________________________________________________________\n",
      "conv_pw_7 (Conv2D)           (None, 10, 10, 512)       262144    \n",
      "_________________________________________________________________\n",
      "conv_pw_7_bn (BatchNormaliza (None, 10, 10, 512)       2048      \n",
      "_________________________________________________________________\n",
      "conv_pw_7_relu (ReLU)        (None, 10, 10, 512)       0         \n",
      "_________________________________________________________________\n",
      "conv_dw_8 (DepthwiseConv2D)  (None, 10, 10, 512)       4608      \n",
      "_________________________________________________________________\n",
      "conv_dw_8_bn (BatchNormaliza (None, 10, 10, 512)       2048      \n",
      "_________________________________________________________________\n",
      "conv_dw_8_relu (ReLU)        (None, 10, 10, 512)       0         \n",
      "_________________________________________________________________\n",
      "conv_pw_8 (Conv2D)           (None, 10, 10, 512)       262144    \n",
      "_________________________________________________________________\n",
      "conv_pw_8_bn (BatchNormaliza (None, 10, 10, 512)       2048      \n",
      "_________________________________________________________________\n",
      "conv_pw_8_relu (ReLU)        (None, 10, 10, 512)       0         \n",
      "_________________________________________________________________\n",
      "conv_dw_9 (DepthwiseConv2D)  (None, 10, 10, 512)       4608      \n",
      "_________________________________________________________________\n",
      "conv_dw_9_bn (BatchNormaliza (None, 10, 10, 512)       2048      \n",
      "_________________________________________________________________\n",
      "conv_dw_9_relu (ReLU)        (None, 10, 10, 512)       0         \n",
      "_________________________________________________________________\n",
      "conv_pw_9 (Conv2D)           (None, 10, 10, 512)       262144    \n",
      "_________________________________________________________________\n",
      "conv_pw_9_bn (BatchNormaliza (None, 10, 10, 512)       2048      \n",
      "_________________________________________________________________\n",
      "conv_pw_9_relu (ReLU)        (None, 10, 10, 512)       0         \n",
      "_________________________________________________________________\n",
      "conv_dw_10 (DepthwiseConv2D) (None, 10, 10, 512)       4608      \n",
      "_________________________________________________________________\n",
      "conv_dw_10_bn (BatchNormaliz (None, 10, 10, 512)       2048      \n",
      "_________________________________________________________________\n",
      "conv_dw_10_relu (ReLU)       (None, 10, 10, 512)       0         \n",
      "_________________________________________________________________\n",
      "conv_pw_10 (Conv2D)          (None, 10, 10, 512)       262144    \n",
      "_________________________________________________________________\n",
      "conv_pw_10_bn (BatchNormaliz (None, 10, 10, 512)       2048      \n",
      "_________________________________________________________________\n",
      "conv_pw_10_relu (ReLU)       (None, 10, 10, 512)       0         \n",
      "_________________________________________________________________\n",
      "conv_dw_11 (DepthwiseConv2D) (None, 10, 10, 512)       4608      \n",
      "_________________________________________________________________\n",
      "conv_dw_11_bn (BatchNormaliz (None, 10, 10, 512)       2048      \n",
      "_________________________________________________________________\n",
      "conv_dw_11_relu (ReLU)       (None, 10, 10, 512)       0         \n",
      "_________________________________________________________________\n",
      "conv_pw_11 (Conv2D)          (None, 10, 10, 512)       262144    \n",
      "_________________________________________________________________\n",
      "conv_pw_11_bn (BatchNormaliz (None, 10, 10, 512)       2048      \n",
      "_________________________________________________________________\n",
      "conv_pw_11_relu (ReLU)       (None, 10, 10, 512)       0         \n",
      "_________________________________________________________________\n",
      "conv_pad_12 (ZeroPadding2D)  (None, 11, 11, 512)       0         \n",
      "_________________________________________________________________\n",
      "conv_dw_12 (DepthwiseConv2D) (None, 5, 5, 512)         4608      \n",
      "_________________________________________________________________\n",
      "conv_dw_12_bn (BatchNormaliz (None, 5, 5, 512)         2048      \n",
      "_________________________________________________________________\n",
      "conv_dw_12_relu (ReLU)       (None, 5, 5, 512)         0         \n",
      "_________________________________________________________________\n",
      "conv_pw_12 (Conv2D)          (None, 5, 5, 1024)        524288    \n",
      "_________________________________________________________________\n",
      "conv_pw_12_bn (BatchNormaliz (None, 5, 5, 1024)        4096      \n",
      "_________________________________________________________________\n",
      "conv_pw_12_relu (ReLU)       (None, 5, 5, 1024)        0         \n",
      "_________________________________________________________________\n",
      "conv_dw_13 (DepthwiseConv2D) (None, 5, 5, 1024)        9216      \n",
      "_________________________________________________________________\n",
      "conv_dw_13_bn (BatchNormaliz (None, 5, 5, 1024)        4096      \n",
      "_________________________________________________________________\n",
      "conv_dw_13_relu (ReLU)       (None, 5, 5, 1024)        0         \n",
      "_________________________________________________________________\n",
      "conv_pw_13 (Conv2D)          (None, 5, 5, 1024)        1048576   \n",
      "_________________________________________________________________\n",
      "conv_pw_13_bn (BatchNormaliz (None, 5, 5, 1024)        4096      \n",
      "_________________________________________________________________\n",
      "conv_pw_13_relu (ReLU)       (None, 5, 5, 1024)        0         \n",
      "_________________________________________________________________\n",
      "global_average_pooling2d_2 ( (None, 1024)              0         \n",
      "_________________________________________________________________\n",
      "outputs (Dense)              (None, 23)                23575     \n",
      "=================================================================\n",
      "Total params: 3,252,439\n",
      "Trainable params: 3,230,551\n",
      "Non-trainable params: 21,888\n",
      "_________________________________________________________________\n"
     ]
    }
   ],
   "source": [
    "last_layer = model.layers[-1]\n",
    "\n",
    "x = GlobalAvgPool2D()(base_model.output)\n",
    "outputs = Dense(units=N_REQS, activation=\"sigmoid\", name=\"outputs\")(x)\n",
    "\n",
    "final_model = Model(inputs=base_model.input, outputs=outputs)\n",
    "final_model.layers[-1].set_weights(last_layer.get_weights())\n",
    "final_model.summary()\n",
    "\n",
    "final_model.compile(optimizer=\"adam\", loss=\"binary_crossentropy\", metrics=[\"accuracy\"])"
   ]
  },
  {
   "cell_type": "code",
   "execution_count": 13,
   "id": "dd20cf6e",
   "metadata": {},
   "outputs": [
    {
     "name": "stdout",
     "output_type": "stream",
     "text": [
      "[[0.9726487  0.96349907 0.9997134  0.17400485 0.9904073  0.99997973\n",
      "  0.9979106  0.9062046  0.98998535 0.06015745 0.45889428 0.22464588\n",
      "  0.9906124  0.58381    0.74013597 0.9999868  0.7583221  0.9999982\n",
      "  0.82433164 0.99124545 0.9990896  0.87488925 0.9997054 ]]\n"
     ]
    }
   ],
   "source": [
    "features_sample = features_valid[0]\n",
    "features_sample = features_sample.reshape((1, *features_valid.shape[1:]))\n",
    "\n",
    "y_model = model.predict(features_sample)\n",
    "print(y_model)"
   ]
  },
  {
   "cell_type": "code",
   "execution_count": 14,
   "id": "878efa12",
   "metadata": {},
   "outputs": [
    {
     "name": "stdout",
     "output_type": "stream",
     "text": [
      "[[0.9726487  0.96349925 0.9997133  0.17400485 0.99040735 0.99997973\n",
      "  0.9979106  0.9062049  0.9899854  0.06015748 0.4588946  0.2246458\n",
      "  0.99061227 0.5838105  0.7401365  0.9999868  0.7583219  0.9999982\n",
      "  0.82433176 0.99124545 0.9990896  0.87488925 0.9997054 ]]\n"
     ]
    }
   ],
   "source": [
    "x_sample = x_val[0]\n",
    "x_sample = x_sample.reshape((1, *x_val.shape[1:]))\n",
    "\n",
    "y_final = final_model.predict(x_sample)\n",
    "print(y_final)"
   ]
  },
  {
   "cell_type": "code",
   "execution_count": 15,
   "id": "a7d93b56",
   "metadata": {},
   "outputs": [],
   "source": [
    "assert np.allclose(y_model, y_final)"
   ]
  },
  {
   "cell_type": "code",
   "execution_count": 16,
   "id": "b91a36f2",
   "metadata": {},
   "outputs": [
    {
     "name": "stdout",
     "output_type": "stream",
     "text": [
      "580/580 [==============================] - 21s 36ms/step\n",
      "0.2120689655172414\n",
      "0.2120689655172414\n"
     ]
    }
   ],
   "source": [
    "y_model = model.predict(features_valid)\n",
    "y_model = np.where(y_model >= 0.5, 1, 0)\n",
    "\n",
    "y_final = final_model.predict(x_val, verbose=1)\n",
    "y_final = np.where(y_final >= 0.5, 1, 0)\n",
    "\n",
    "acc_model = accuracy_score(y_model, y_val)\n",
    "acc_final = accuracy_score(y_final, y_val)\n",
    "\n",
    "print(acc_model)\n",
    "print(acc_final)\n",
    "assert np.isclose(acc_model, acc_final)"
   ]
  },
  {
   "cell_type": "code",
   "execution_count": 17,
   "id": "1a5e5ebd",
   "metadata": {},
   "outputs": [],
   "source": [
    "final_model.save(FILE_MODEL)"
   ]
  },
  {
   "cell_type": "code",
   "execution_count": 18,
   "id": "f3ca8e34",
   "metadata": {},
   "outputs": [
    {
     "name": "stdout",
     "output_type": "stream",
     "text": [
      "../models/baselines/baseline_mobilenet_1.00_160_2021_06_28-22_02_06.h5\n"
     ]
    }
   ],
   "source": [
    "print(FILE_MODEL)"
   ]
  },
  {
   "cell_type": "code",
   "execution_count": 19,
   "id": "a1df594c",
   "metadata": {},
   "outputs": [
    {
     "data": {
      "text/plain": [
       "'..\\\\data/cropped_faces/ground_truth/afwDB_0.mrk'"
      ]
     },
     "execution_count": 19,
     "metadata": {},
     "output_type": "execute_result"
    }
   ],
   "source": [
    "val_mrks[0].filepath"
   ]
  },
  {
   "cell_type": "code",
   "execution_count": null,
   "id": "540eee3e",
   "metadata": {},
   "outputs": [],
   "source": []
  }
 ],
 "metadata": {
  "kernelspec": {
   "display_name": "Python 3",
   "language": "python",
   "name": "python3"
  },
  "language_info": {
   "codemirror_mode": {
    "name": "ipython",
    "version": 3
   },
   "file_extension": ".py",
   "mimetype": "text/x-python",
   "name": "python",
   "nbconvert_exporter": "python",
   "pygments_lexer": "ipython3",
   "version": "3.7.10"
  }
 },
 "nbformat": 4,
 "nbformat_minor": 5
}
