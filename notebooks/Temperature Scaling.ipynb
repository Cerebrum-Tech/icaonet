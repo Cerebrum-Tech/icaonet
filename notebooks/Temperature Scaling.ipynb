{
 "cells": [
  {
   "cell_type": "code",
   "execution_count": 1,
   "id": "72d18e1d",
   "metadata": {},
   "outputs": [
    {
     "name": "stdout",
     "output_type": "stream",
     "text": [
      "1.13.1\n"
     ]
    },
    {
     "name": "stderr",
     "output_type": "stream",
     "text": [
      "Using TensorFlow backend.\n"
     ]
    }
   ],
   "source": [
    "from sys import path\n",
    "path.append('../src/')\n",
    "\n",
    "import numpy as np\n",
    "import pickle as pkl\n",
    "import tensorflow as tf\n",
    "\n",
    "from os.path import split, join\n",
    "from keras import backend as K\n",
    "from keras.models import load_model\n",
    "from keras.activations import linear, sigmoid\n",
    "from keras.utils import to_categorical\n",
    "from tensorflow.python.platform import gfile\n",
    "\n",
    "from custom_metrics import precision, recall, f1, specificity, fbeta\n",
    "from custom_metrics import negative_predictive_value as npv \n",
    "from custom_metrics import matthews_correlation_coefficient as mcc\n",
    "from custom_metrics import equal_error_rate as eer\n",
    "\n",
    "print(tf.__version__)"
   ]
  },
  {
   "cell_type": "code",
   "execution_count": 2,
   "id": "454c57ea",
   "metadata": {},
   "outputs": [
    {
     "name": "stdout",
     "output_type": "stream",
     "text": [
      "../models/unsupervised_supervised/multilearner_2020_07_12-02_22_54.h5\n",
      "../data/unsupervised_supervised_samples.pkl\n"
     ]
    }
   ],
   "source": [
    "TEST_SIZE = 0.1\n",
    "\n",
    "PATH_TO_ROOT = \"../\"\n",
    "\n",
    "FILE_MODEL = join(PATH_TO_ROOT, \"models/unsupervised_supervised/multilearner_2020_07_12-02_22_54.h5\")\n",
    "FILE_SAMPLES = join(PATH_TO_ROOT, \"data/unsupervised_supervised_samples.pkl\")\n",
    "\n",
    "print(FILE_MODEL)\n",
    "print(FILE_SAMPLES)"
   ]
  },
  {
   "cell_type": "markdown",
   "id": "8b3d2767",
   "metadata": {},
   "source": [
    "# Data Loading "
   ]
  },
  {
   "cell_type": "code",
   "execution_count": 3,
   "id": "9374b8eb",
   "metadata": {},
   "outputs": [
    {
     "name": "stdout",
     "output_type": "stream",
     "text": [
      "(5151, 160, 160, 3) float32\n",
      "(5151, 23) int32\n",
      "(580, 160, 160, 3) float32\n",
      "(580, 23) int32\n"
     ]
    }
   ],
   "source": [
    "x_train, x_val, train_mrks, val_mrks = pkl.load(open(FILE_SAMPLES, 'rb'))\n",
    "y_train = np.array([mrk_file.photo_reqs.values() for mrk_file in train_mrks])\n",
    "y_val = np.array([mrk_file.photo_reqs.values() for mrk_file in val_mrks])\n",
    "\n",
    "x_train /= 255\n",
    "x_val /= 255\n",
    "\n",
    "print(x_train.shape, x_train.dtype)\n",
    "print(y_train.shape, y_train.dtype)\n",
    "print(x_val.shape, x_val.dtype)\n",
    "print(y_val.shape, y_val.dtype)"
   ]
  },
  {
   "cell_type": "markdown",
   "id": "4d4f3a20",
   "metadata": {},
   "source": [
    "# Original Model "
   ]
  },
  {
   "cell_type": "code",
   "execution_count": 4,
   "id": "059642a0",
   "metadata": {},
   "outputs": [
    {
     "name": "stdout",
     "output_type": "stream",
     "text": [
      "WARNING:tensorflow:From C:\\Users\\arnal\\Miniconda3\\envs\\dl-gpu\\lib\\site-packages\\tensorflow\\python\\ops\\resource_variable_ops.py:435: colocate_with (from tensorflow.python.framework.ops) is deprecated and will be removed in a future version.\n",
      "Instructions for updating:\n",
      "Colocations handled automatically by placer.\n",
      "WARNING:tensorflow:From C:\\Users\\arnal\\Miniconda3\\envs\\dl-gpu\\lib\\site-packages\\tensorflow\\python\\ops\\math_ops.py:3066: to_int32 (from tensorflow.python.ops.math_ops) is deprecated and will be removed in a future version.\n",
      "Instructions for updating:\n",
      "Use tf.cast instead.\n",
      "Model: \"model_1\"\n",
      "__________________________________________________________________________________________________\n",
      "Layer (type)                    Output Shape         Param #     Connected to                     \n",
      "==================================================================================================\n",
      "input (InputLayer)              (None, 160, 160, 3)  0                                            \n",
      "__________________________________________________________________________________________________\n",
      "conv_1 (Conv2D)                 (None, 160, 160, 32) 896         input[0][0]                      \n",
      "__________________________________________________________________________________________________\n",
      "bn_1 (BatchNormalization)       (None, 160, 160, 32) 128         conv_1[0][0]                     \n",
      "__________________________________________________________________________________________________\n",
      "relu_1 (Activation)             (None, 160, 160, 32) 0           bn_1[0][0]                       \n",
      "__________________________________________________________________________________________________\n",
      "pool_1 (MaxPooling2D)           (None, 80, 80, 32)   0           relu_1[0][0]                     \n",
      "__________________________________________________________________________________________________\n",
      "conv_2 (Conv2D)                 (None, 80, 80, 64)   18496       pool_1[0][0]                     \n",
      "__________________________________________________________________________________________________\n",
      "bn_2 (BatchNormalization)       (None, 80, 80, 64)   256         conv_2[0][0]                     \n",
      "__________________________________________________________________________________________________\n",
      "relu_2 (Activation)             (None, 80, 80, 64)   0           bn_2[0][0]                       \n",
      "__________________________________________________________________________________________________\n",
      "pool_2 (MaxPooling2D)           (None, 40, 40, 64)   0           relu_2[0][0]                     \n",
      "__________________________________________________________________________________________________\n",
      "conv_3 (Conv2D)                 (None, 40, 40, 128)  73856       pool_2[0][0]                     \n",
      "__________________________________________________________________________________________________\n",
      "bn_3 (BatchNormalization)       (None, 40, 40, 128)  512         conv_3[0][0]                     \n",
      "__________________________________________________________________________________________________\n",
      "relu_3 (Activation)             (None, 40, 40, 128)  0           bn_3[0][0]                       \n",
      "__________________________________________________________________________________________________\n",
      "pool_3 (MaxPooling2D)           (None, 20, 20, 128)  0           relu_3[0][0]                     \n",
      "__________________________________________________________________________________________________\n",
      "conv_4 (Conv2D)                 (None, 20, 20, 256)  295168      pool_3[0][0]                     \n",
      "__________________________________________________________________________________________________\n",
      "bn_4 (BatchNormalization)       (None, 20, 20, 256)  1024        conv_4[0][0]                     \n",
      "__________________________________________________________________________________________________\n",
      "relu_4 (Activation)             (None, 20, 20, 256)  0           bn_4[0][0]                       \n",
      "__________________________________________________________________________________________________\n",
      "pool_4 (MaxPooling2D)           (None, 10, 10, 256)  0           relu_4[0][0]                     \n",
      "__________________________________________________________________________________________________\n",
      "conv_5 (Conv2D)                 (None, 10, 10, 256)  590080      pool_4[0][0]                     \n",
      "__________________________________________________________________________________________________\n",
      "bn_5 (BatchNormalization)       (None, 10, 10, 256)  1024        conv_5[0][0]                     \n",
      "__________________________________________________________________________________________________\n",
      "encoded (Activation)            (None, 10, 10, 256)  0           bn_5[0][0]                       \n",
      "__________________________________________________________________________________________________\n",
      "4_conv (Conv2DTranspose)        (None, 20, 20, 256)  590080      encoded[0][0]                    \n",
      "__________________________________________________________________________________________________\n",
      "4_bn (BatchNormalization)       (None, 20, 20, 256)  1024        4_conv[0][0]                     \n",
      "__________________________________________________________________________________________________\n",
      "4_relu (Activation)             (None, 20, 20, 256)  0           4_bn[0][0]                       \n",
      "__________________________________________________________________________________________________\n",
      "3_conv (Conv2DTranspose)        (None, 40, 40, 128)  295040      4_relu[0][0]                     \n",
      "__________________________________________________________________________________________________\n",
      "3_bn (BatchNormalization)       (None, 40, 40, 128)  512         3_conv[0][0]                     \n",
      "__________________________________________________________________________________________________\n",
      "3_relu (Activation)             (None, 40, 40, 128)  0           3_bn[0][0]                       \n",
      "__________________________________________________________________________________________________\n",
      "2_conv (Conv2DTranspose)        (None, 80, 80, 64)   73792       3_relu[0][0]                     \n",
      "__________________________________________________________________________________________________\n",
      "2_bn (BatchNormalization)       (None, 80, 80, 64)   256         2_conv[0][0]                     \n",
      "__________________________________________________________________________________________________\n",
      "global_average_pooling2d_1 (Glo (None, 256)          0           encoded[0][0]                    \n",
      "__________________________________________________________________________________________________\n",
      "2_relu (Activation)             (None, 80, 80, 64)   0           2_bn[0][0]                       \n",
      "__________________________________________________________________________________________________\n",
      "dropout_1 (Dropout)             (None, 256)          0           global_average_pooling2d_1[0][0] \n",
      "__________________________________________________________________________________________________\n",
      "1_conv (Conv2DTranspose)        (None, 160, 160, 32) 18464       2_relu[0][0]                     \n",
      "__________________________________________________________________________________________________\n",
      "dense_1 (Dense)                 (None, 64)           16448       dropout_1[0][0]                  \n",
      "__________________________________________________________________________________________________\n",
      "1_bn (BatchNormalization)       (None, 160, 160, 32) 128         1_conv[0][0]                     \n",
      "__________________________________________________________________________________________________\n",
      "dropout_2 (Dropout)             (None, 64)           0           dense_1[0][0]                    \n",
      "__________________________________________________________________________________________________\n",
      "1_relu (Activation)             (None, 160, 160, 32) 0           1_bn[0][0]                       \n",
      "__________________________________________________________________________________________________\n",
      "dense_2 (Dense)                 (None, 32)           2080        dropout_2[0][0]                  \n",
      "__________________________________________________________________________________________________\n",
      "decoded (Conv2D)                (None, 160, 160, 3)  867         1_relu[0][0]                     \n",
      "__________________________________________________________________________________________________\n",
      "outputs (Dense)                 (None, 23)           759         dense_2[0][0]                    \n",
      "==================================================================================================\n",
      "Total params: 1,980,890\n",
      "Trainable params: 1,978,458\n",
      "Non-trainable params: 2,432\n",
      "__________________________________________________________________________________________________\n"
     ]
    }
   ],
   "source": [
    "custom_objects = {\n",
    "    'recall': recall,\n",
    "    'precision': precision,\n",
    "    'f1': f1,\n",
    "    'fbeta': fbeta,\n",
    "    'specificity': specificity,\n",
    "    'negative_predictive_value': npv,\n",
    "    'matthews_correlation_coefficient': mcc,\n",
    "    'equal_error_rate': eer\n",
    "}\n",
    "\n",
    "model = load_model(FILE_MODEL, custom_objects=custom_objects)\n",
    "model.summary()"
   ]
  },
  {
   "cell_type": "code",
   "execution_count": 5,
   "id": "ab093bdd",
   "metadata": {},
   "outputs": [
    {
     "data": {
      "text/plain": [
       "array([0.6480917 , 0.9347415 , 0.9957387 , 0.08281669, 0.991169  ,\n",
       "       0.99987257, 0.97726715, 0.2788375 , 0.96358013, 0.05340791,\n",
       "       0.20580041, 0.14253011, 0.98283845, 0.471276  , 0.8292504 ,\n",
       "       0.9903073 , 0.7546122 , 0.9796298 , 0.8930521 , 0.6584908 ,\n",
       "       0.9751569 , 0.82795393, 0.9905076 ], dtype=float32)"
      ]
     },
     "execution_count": 5,
     "metadata": {},
     "output_type": "execute_result"
    }
   ],
   "source": [
    "y_pred_sigmoid = model.predict(x_val)[1]\n",
    "y_pred_sigmoid[0]"
   ]
  },
  {
   "cell_type": "code",
   "execution_count": 6,
   "id": "7369a0d2",
   "metadata": {},
   "outputs": [
    {
     "name": "stdout",
     "output_type": "stream",
     "text": [
      "[ 0.6106614   2.6619136   5.453908   -2.4046774   4.72062     8.967512\n",
      "  3.7609484  -0.95023555  3.2755404  -2.8749096  -1.3504281  -1.7944325\n",
      "  4.0477705  -0.11502278  1.5803238   4.626631    1.1233641   3.873102\n",
      "  2.1223032   0.656576    3.6700191   1.5711955   4.647724  ]\n",
      "[0.6480917  0.9347415  0.9957387  0.08281669 0.991169   0.99987257\n",
      " 0.97726715 0.2788375  0.96358013 0.05340791 0.20580041 0.14253011\n",
      " 0.98283845 0.471276   0.8292504  0.9903073  0.7546122  0.97962976\n",
      " 0.8930521  0.65849084 0.9751569  0.827954   0.9905076 ]\n"
     ]
    }
   ],
   "source": [
    "model.layers[-1].activation = linear\n",
    "model.compile(optimizer=\"adam\", loss=\"binary_crossentropy\", metrics=[])\n",
    "\n",
    "model.save(\"model_temperature_scaling.h5\")\n",
    "model = load_model(\"model_temperature_scaling.h5\")\n",
    "\n",
    "y_pred_linear = model.predict(x_val)[1]\n",
    "print(y_pred_linear[0])\n",
    "print(K.get_session().run(sigmoid(y_pred_linear[0])))"
   ]
  },
  {
   "cell_type": "markdown",
   "id": "5e9329d3",
   "metadata": {},
   "source": [
    "# Temperature Scaling "
   ]
  },
  {
   "cell_type": "code",
   "execution_count": 60,
   "id": "2c06818b",
   "metadata": {},
   "outputs": [],
   "source": [
    "def build_graph():\n",
    "    tf.reset_default_graph()\n",
    "    \n",
    "    graph = tf.Graph()\n",
    "    with graph.as_default():\n",
    "        temp = tf.Variable(initial_value=1.0, trainable=True, dtype=tf.float32, name=\"temp\") \n",
    "\n",
    "        y_pred = tf.placeholder(dtype=tf.float32, shape=(None, ), name=\"y_pred\")\n",
    "        y_req = tf.placeholder(dtype=tf.float32, shape=(None, ), name=\"y_req\")\n",
    "\n",
    "        y_temp = tf.math.divide(y_pred, temp)\n",
    "        cross_entropy = tf.nn.sigmoid_cross_entropy_with_logits(labels=y_req, logits=y_temp)\n",
    "        loss = tf.reduce_mean(cross_entropy, name=\"loss\")\n",
    "        optimizer = tf.train.AdamOptimizer(learning_rate=0.01).minimize(loss, name=\"optimizer\")\n",
    "    return graph"
   ]
  },
  {
   "cell_type": "code",
   "execution_count": 62,
   "id": "36cfc060",
   "metadata": {
    "scrolled": false
   },
   "outputs": [
    {
     "name": "stdout",
     "output_type": "stream",
     "text": [
      "Req: 1\n",
      "Temperature Initial value: 1.0\n",
      "Temperature   Final value: 0.7202396392822266\n",
      "       Loss   Final value: 0.10995595902204514\n",
      "\n",
      "Req: 2\n",
      "Temperature Initial value: 1.0\n",
      "Temperature   Final value: 1.6149886846542358\n",
      "       Loss   Final value: 0.20009152591228485\n",
      "\n",
      "Req: 3\n",
      "Temperature Initial value: 1.0\n",
      "Temperature   Final value: 1.2930761575698853\n",
      "       Loss   Final value: 0.0392523817718029\n",
      "\n",
      "Req: 4\n",
      "Temperature Initial value: 1.0\n",
      "Temperature   Final value: 1.2171709537506104\n",
      "       Loss   Final value: 0.22822286188602448\n",
      "\n",
      "Req: 5\n",
      "Temperature Initial value: 1.0\n",
      "Temperature   Final value: 0.9226481914520264\n",
      "       Loss   Final value: 0.10753940045833588\n",
      "\n",
      "Req: 6\n",
      "Temperature Initial value: 1.0\n",
      "Temperature   Final value: 0.8168065547943115\n",
      "       Loss   Final value: 0.010461423546075821\n",
      "\n",
      "Req: 7\n",
      "Temperature Initial value: 1.0\n",
      "Temperature   Final value: 0.7754143476486206\n",
      "       Loss   Final value: 0.1820015162229538\n",
      "\n",
      "Req: 8\n",
      "Temperature Initial value: 1.0\n",
      "Temperature   Final value: 1.4967334270477295\n",
      "       Loss   Final value: 0.22564226388931274\n",
      "\n",
      "Req: 9\n",
      "Temperature Initial value: 1.0\n",
      "Temperature   Final value: 1.7468732595443726\n",
      "       Loss   Final value: 0.15447326004505157\n",
      "\n",
      "Req: 10\n",
      "Temperature Initial value: 1.0\n",
      "Temperature   Final value: 1.5217108726501465\n",
      "       Loss   Final value: 0.5066859722137451\n",
      "\n",
      "Req: 11\n",
      "Temperature Initial value: 1.0\n",
      "Temperature   Final value: 1.1665096282958984\n",
      "       Loss   Final value: 0.22471334040164948\n",
      "\n",
      "Req: 12\n",
      "Temperature Initial value: 1.0\n",
      "Temperature   Final value: 1.3844512701034546\n",
      "       Loss   Final value: 0.16979238390922546\n",
      "\n",
      "Req: 13\n",
      "Temperature Initial value: 1.0\n",
      "Temperature   Final value: 1.8485000133514404\n",
      "       Loss   Final value: 0.1642807126045227\n",
      "\n",
      "Req: 14\n",
      "Temperature Initial value: 1.0\n",
      "Temperature   Final value: 1.0221234560012817\n",
      "       Loss   Final value: 0.13169054687023163\n",
      "\n",
      "Req: 15\n",
      "Temperature Initial value: 1.0\n",
      "Temperature   Final value: 0.7438691854476929\n",
      "       Loss   Final value: 0.1192510649561882\n",
      "\n",
      "Req: 16\n",
      "Temperature Initial value: 1.0\n",
      "Temperature   Final value: 1.126390814781189\n",
      "       Loss   Final value: 0.03440343961119652\n",
      "\n",
      "Req: 17\n",
      "Temperature Initial value: 1.0\n",
      "Temperature   Final value: 1.0265276432037354\n",
      "       Loss   Final value: 0.15555380284786224\n",
      "\n",
      "Req: 18\n",
      "Temperature Initial value: 1.0\n",
      "Temperature   Final value: 0.1654156744480133\n",
      "       Loss   Final value: 6.896758009133919e-08\n",
      "\n",
      "Req: 19\n",
      "Temperature Initial value: 1.0\n",
      "Temperature   Final value: 1.7934476137161255\n",
      "       Loss   Final value: 0.20747514069080353\n",
      "\n",
      "Req: 20\n",
      "Temperature Initial value: 1.0\n",
      "Temperature   Final value: 1.646397590637207\n",
      "       Loss   Final value: 0.15452328324317932\n",
      "\n",
      "Req: 21\n",
      "Temperature Initial value: 1.0\n",
      "Temperature   Final value: 0.4562452435493469\n",
      "       Loss   Final value: 0.020911555737257004\n",
      "\n",
      "Req: 22\n",
      "Temperature Initial value: 1.0\n",
      "Temperature   Final value: 1.2901064157485962\n",
      "       Loss   Final value: 0.31748032569885254\n",
      "\n",
      "Req: 23\n",
      "Temperature Initial value: 1.0\n",
      "Temperature   Final value: 1.1938468217849731\n",
      "       Loss   Final value: 0.050740331411361694\n",
      "\n"
     ]
    }
   ],
   "source": [
    "N_REQS = y_val.shape[1]\n",
    "N_EPOCHS = 500\n",
    "\n",
    "list_temperatures = []\n",
    "sess = K.get_session()\n",
    "for i in range(N_REQS):\n",
    "    print(f\"Req: {i + 1}\")\n",
    "    \n",
    "    graph = build_graph()\n",
    "    with tf.Session(graph=graph) as sess:\n",
    "        sess.run(tf.global_variables_initializer())\n",
    "        temp = graph.get_tensor_by_name(\"temp:0\")\n",
    "        print(f\"Temperature Initial value: {temp.eval()}\")\n",
    "        \n",
    "        y_pred = graph.get_tensor_by_name(\"y_pred:0\")\n",
    "        y_req = graph.get_tensor_by_name(\"y_req:0\")\n",
    "        feed_dict = {\n",
    "            y_pred: y_pred_linear[:, i],\n",
    "            y_req: y_val[:, i]\n",
    "        }\n",
    "        \n",
    "        loss = graph.get_tensor_by_name(\"loss:0\")\n",
    "        optimizer = graph.get_operation_by_name(\"optimizer\")\n",
    "        for epoch in range(N_EPOCHS):\n",
    "            _, cost = sess.run([optimizer, loss], feed_dict=feed_dict)\n",
    "        print(f\"Temperature   Final value: {temp.eval()}\")\n",
    "        print(f\"       Loss   Final value: {cost}\", end=\"\\n\\n\")\n",
    "        list_temperatures.append(temp.eval())"
   ]
  },
  {
   "cell_type": "code",
   "execution_count": 63,
   "id": "4437e14e",
   "metadata": {},
   "outputs": [
    {
     "name": "stdout",
     "output_type": "stream",
     "text": [
      "[0.72023964 1.6149887  1.2930762  1.217171   0.9226482  0.81680655\n",
      " 0.77541435 1.4967334  1.7468733  1.5217109  1.1665096  1.3844513\n",
      " 1.8485     1.0221235  0.7438692  1.1263908  1.0265276  0.16541567\n",
      " 1.7934476  1.6463976  0.45624524 1.2901064  1.1938468 ]\n"
     ]
    }
   ],
   "source": [
    "print(np.array(list_temperatures))"
   ]
  },
  {
   "cell_type": "code",
   "execution_count": 68,
   "id": "75f84750",
   "metadata": {},
   "outputs": [
    {
     "name": "stdout",
     "output_type": "stream",
     "text": [
      "[ 0.6106614   2.6619136   5.453908   -2.4046774   4.72062     8.967512\n",
      "  3.7609484  -0.95023555  3.2755404  -2.8749096  -1.3504281  -1.7944325\n",
      "  4.0477705  -0.11502278  1.5803238   4.626631    1.1233641   3.873102\n",
      "  2.1223032   0.656576    3.6700191   1.5711955   4.647724  ]\n",
      "[0.6480917  0.9347415  0.9957387  0.08281669 0.991169   0.99987257\n",
      " 0.97726715 0.2788375  0.96358013 0.05340791 0.20580041 0.14253011\n",
      " 0.98283845 0.471276   0.8292504  0.9903073  0.7546122  0.97962976\n",
      " 0.8930521  0.65849084 0.9751569  0.827954   0.9905076 ]\n"
     ]
    }
   ],
   "source": [
    "K.clear_session()\n",
    "\n",
    "model = load_model(\"model_temperature_scaling.h5\")\n",
    "y_pred_linear = model.predict(x_val)[1]\n",
    "print(y_pred_linear[0])\n",
    "print(K.get_session().run(sigmoid(y_pred_linear[0])))"
   ]
  },
  {
   "cell_type": "code",
   "execution_count": 69,
   "id": "5d5ef014",
   "metadata": {},
   "outputs": [
    {
     "name": "stdout",
     "output_type": "stream",
     "text": [
      "[0.7001177  0.8386551  0.9854826  0.12178564 0.9940381  0.99998295\n",
      " 0.99223435 0.34640646 0.8670459  0.13132873 0.23909172 0.2148166\n",
      " 0.8993261  0.47189635 0.8932584  0.98381704 0.7491969  1.\n",
      " 0.7655523  0.5983982  0.9996791  0.7716903  0.9800244 ]\n"
     ]
    }
   ],
   "source": [
    "print(K.get_session().run(sigmoid(y_pred_linear[0] / list_temperatures)))"
   ]
  },
  {
   "cell_type": "code",
   "execution_count": 72,
   "id": "7470ce73",
   "metadata": {},
   "outputs": [
    {
     "data": {
      "text/plain": [
       "'..\\\\data/cropped_faces/ground_truth/afwDB_0.mrk'"
      ]
     },
     "execution_count": 72,
     "metadata": {},
     "output_type": "execute_result"
    }
   ],
   "source": [
    "val_mrks[0].filepath"
   ]
  }
 ],
 "metadata": {
  "kernelspec": {
   "display_name": "Python 3",
   "language": "python",
   "name": "python3"
  },
  "language_info": {
   "codemirror_mode": {
    "name": "ipython",
    "version": 3
   },
   "file_extension": ".py",
   "mimetype": "text/x-python",
   "name": "python",
   "nbconvert_exporter": "python",
   "pygments_lexer": "ipython3",
   "version": "3.7.10"
  }
 },
 "nbformat": 4,
 "nbformat_minor": 5
}
