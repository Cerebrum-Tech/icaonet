{
 "cells": [
  {
   "cell_type": "markdown",
   "metadata": {},
   "source": [
    "# Setup "
   ]
  },
  {
   "cell_type": "code",
   "execution_count": 1,
   "metadata": {},
   "outputs": [
    {
     "name": "stderr",
     "output_type": "stream",
     "text": [
      "Using TensorFlow backend.\n",
      "C:\\Users\\arnal\\Miniconda3\\envs\\dl-gpu\\lib\\site-packages\\tensorflow\\python\\framework\\dtypes.py:526: FutureWarning: Passing (type, 1) or '1type' as a synonym of type is deprecated; in a future version of numpy, it will be understood as (type, (1,)) / '(1,)type'.\n",
      "  _np_qint8 = np.dtype([(\"qint8\", np.int8, 1)])\n",
      "C:\\Users\\arnal\\Miniconda3\\envs\\dl-gpu\\lib\\site-packages\\tensorflow\\python\\framework\\dtypes.py:527: FutureWarning: Passing (type, 1) or '1type' as a synonym of type is deprecated; in a future version of numpy, it will be understood as (type, (1,)) / '(1,)type'.\n",
      "  _np_quint8 = np.dtype([(\"quint8\", np.uint8, 1)])\n",
      "C:\\Users\\arnal\\Miniconda3\\envs\\dl-gpu\\lib\\site-packages\\tensorflow\\python\\framework\\dtypes.py:528: FutureWarning: Passing (type, 1) or '1type' as a synonym of type is deprecated; in a future version of numpy, it will be understood as (type, (1,)) / '(1,)type'.\n",
      "  _np_qint16 = np.dtype([(\"qint16\", np.int16, 1)])\n",
      "C:\\Users\\arnal\\Miniconda3\\envs\\dl-gpu\\lib\\site-packages\\tensorflow\\python\\framework\\dtypes.py:529: FutureWarning: Passing (type, 1) or '1type' as a synonym of type is deprecated; in a future version of numpy, it will be understood as (type, (1,)) / '(1,)type'.\n",
      "  _np_quint16 = np.dtype([(\"quint16\", np.uint16, 1)])\n",
      "C:\\Users\\arnal\\Miniconda3\\envs\\dl-gpu\\lib\\site-packages\\tensorflow\\python\\framework\\dtypes.py:530: FutureWarning: Passing (type, 1) or '1type' as a synonym of type is deprecated; in a future version of numpy, it will be understood as (type, (1,)) / '(1,)type'.\n",
      "  _np_qint32 = np.dtype([(\"qint32\", np.int32, 1)])\n",
      "C:\\Users\\arnal\\Miniconda3\\envs\\dl-gpu\\lib\\site-packages\\tensorflow\\python\\framework\\dtypes.py:535: FutureWarning: Passing (type, 1) or '1type' as a synonym of type is deprecated; in a future version of numpy, it will be understood as (type, (1,)) / '(1,)type'.\n",
      "  np_resource = np.dtype([(\"resource\", np.ubyte, 1)])\n"
     ]
    }
   ],
   "source": [
    "from sys import path\n",
    "path.append('../src/')\n",
    "\n",
    "import cv2\n",
    "import numpy as np\n",
    "import pickle as pkl\n",
    "import matplotlib.pyplot as plt\n",
    "from os import makedirs, path\n",
    "from glob import glob\n",
    "from global_config import FILE_DUMP, FOLDER_DATA_AUGMENTATION\n",
    "from mrk_file import MRKFile\n",
    "from keras.preprocessing.image import ImageDataGenerator\n",
    "\n",
    "%matplotlib inline"
   ]
  },
  {
   "cell_type": "code",
   "execution_count": 2,
   "metadata": {},
   "outputs": [],
   "source": [
    "def data_augmentation(datagen, output_folder, images, mrks, amount, prefix, seed=42):\n",
    "    if not path.exists(output_folder):\n",
    "        makedirs(output_folder, exist_ok=True)\n",
    "    \n",
    "    for i, (img, mrk) in enumerate(datagen.flow(images, mrks, batch_size=1, seed=seed)):\n",
    "        if i >= amount: break        \n",
    "            \n",
    "        print('{} of {}'.format(i + 1, amount), end='\\r')\n",
    "        output_file = '{}{}{:04}'.format(output_folder, prefix, i)\n",
    "\n",
    "        cv2.imwrite('{}.png'.format(output_file), img[0])\n",
    "        mrk[0].save('{}.mrk'.format(output_file))\n",
    "    print()"
   ]
  },
  {
   "cell_type": "markdown",
   "metadata": {},
   "source": [
    "# Load Dump "
   ]
  },
  {
   "cell_type": "code",
   "execution_count": 3,
   "metadata": {},
   "outputs": [
    {
     "name": "stdout",
     "output_type": "stream",
     "text": [
      "(5763, 224, 224, 3) float32\n",
      "(5763,)\n"
     ]
    }
   ],
   "source": [
    "_, images, mrks = pkl.load(open(FILE_DUMP, 'rb'))\n",
    "mrks = np.array(mrks)\n",
    "\n",
    "print(images.shape, images.dtype)\n",
    "print(mrks.shape)"
   ]
  },
  {
   "cell_type": "markdown",
   "metadata": {},
   "source": [
    "# 2. Blurred"
   ]
  },
  {
   "cell_type": "code",
   "execution_count": 4,
   "metadata": {},
   "outputs": [
    {
     "name": "stdout",
     "output_type": "stream",
     "text": [
      "4871 892 0\n",
      "5000 of 5000\n",
      "5000 of 5000\n"
     ]
    }
   ],
   "source": [
    "datagen = ImageDataGenerator(width_shift_range=0.2, \n",
    "                             height_shift_range=0.2, \n",
    "                             horizontal_flip=True, \n",
    "                             fill_mode='constant')\n",
    "\n",
    "req_values = np.array([mrk.photo_reqs.blurred.value for mrk in mrks])\n",
    "mask_c = (req_values == 1)\n",
    "mask_nc = (req_values == 0)\n",
    "mask_d = (req_values == -1)\n",
    "print(mask_c.sum(), mask_nc.sum(), mask_d.sum())\n",
    "\n",
    "output_folder = FOLDER_DATA_AUGMENTATION + '2-blurred/'\n",
    "\n",
    "data_augmentation(datagen, output_folder, images[mask_c], mrks[mask_c], 5000, '2_c_')\n",
    "data_augmentation(datagen, output_folder, images[mask_nc], mrks[mask_nc], 5000, '2_nc_')\n",
    "# data_augmentation(datagen, output_folder, images[mask_d], mrks[mask_d], 5000, '2_d_')"
   ]
  },
  {
   "cell_type": "markdown",
   "metadata": {},
   "source": [
    "# 3. Looking Away"
   ]
  },
  {
   "cell_type": "code",
   "execution_count": 5,
   "metadata": {},
   "outputs": [
    {
     "name": "stdout",
     "output_type": "stream",
     "text": [
      "3720 2043 0\n",
      "5000 of 5000\n",
      "5000 of 5000\n"
     ]
    }
   ],
   "source": [
    "datagen = ImageDataGenerator(width_shift_range=0.2, \n",
    "                             height_shift_range=0.2, \n",
    "                             horizontal_flip=True, \n",
    "                             brightness_range=[0.9, 1.1], \n",
    "                             rotation_range=15)\n",
    "\n",
    "req_values = np.array([mrk.photo_reqs.looking_away.value for mrk in mrks])\n",
    "mask_c = (req_values == 1)\n",
    "mask_nc = (req_values == 0)\n",
    "mask_d = (req_values == -1)\n",
    "print(mask_c.sum(), mask_nc.sum(), mask_d.sum())\n",
    "\n",
    "output_folder = FOLDER_DATA_AUGMENTATION + '3-looking_away/'\n",
    "\n",
    "data_augmentation(datagen, output_folder, images[mask_c], mrks[mask_c], 5000, '3_c_')\n",
    "data_augmentation(datagen, output_folder, images[mask_nc], mrks[mask_nc], 5000, '3_nc_')\n",
    "# data_augmentation(datagen, output_folder, images[mask_d], mrks[mask_d], 5000, '3_d_')"
   ]
  },
  {
   "cell_type": "markdown",
   "metadata": {},
   "source": [
    "# ~~4. Ink Marked/Creased~~"
   ]
  },
  {
   "cell_type": "code",
   "execution_count": 6,
   "metadata": {},
   "outputs": [
    {
     "name": "stdout",
     "output_type": "stream",
     "text": [
      "5763 0 0\n"
     ]
    }
   ],
   "source": [
    "req_values = np.array([mrk.photo_reqs.ink_marked_creased.value for mrk in mrks])\n",
    "mask_c = (req_values == 1)\n",
    "mask_nc = (req_values == 0)\n",
    "mask_d = (req_values == -1)\n",
    "print(mask_c.sum(), mask_nc.sum(), mask_d.sum())"
   ]
  },
  {
   "cell_type": "markdown",
   "metadata": {},
   "source": [
    "# 5. Unnatural Skin Tone "
   ]
  },
  {
   "cell_type": "code",
   "execution_count": 7,
   "metadata": {},
   "outputs": [
    {
     "name": "stdout",
     "output_type": "stream",
     "text": [
      "2540 3223 0\n",
      "5000 of 5000\n",
      "5000 of 5000\n"
     ]
    }
   ],
   "source": [
    "datagen = ImageDataGenerator(width_shift_range=0.2, \n",
    "                             height_shift_range=0.2, \n",
    "                             horizontal_flip=True, \n",
    "                             rotation_range=15, \n",
    "                             zoom_range=0.1)\n",
    "\n",
    "req_values = np.array([mrk.photo_reqs.unnatural_skin_tone.value for mrk in mrks])\n",
    "mask_c = (req_values == 1)\n",
    "mask_nc = (req_values == 0)\n",
    "mask_d = (req_values == -1)\n",
    "print(mask_c.sum(), mask_nc.sum(), mask_d.sum())\n",
    "\n",
    "output_folder = FOLDER_DATA_AUGMENTATION + '5-unnatural_skin_tone/'\n",
    "\n",
    "data_augmentation(datagen, output_folder, images[mask_c], mrks[mask_c], 5000, '5_c_')\n",
    "data_augmentation(datagen, output_folder, images[mask_nc], mrks[mask_nc], 5000, '5_nc_')\n",
    "# data_augmentation(datagen, output_folder, images[mask_d], mrks[mask_d], 5000, '5_d_')"
   ]
  },
  {
   "cell_type": "markdown",
   "metadata": {},
   "source": [
    "# 6. Too Dark/Light "
   ]
  },
  {
   "cell_type": "code",
   "execution_count": 8,
   "metadata": {},
   "outputs": [
    {
     "name": "stdout",
     "output_type": "stream",
     "text": [
      "4711 1052 0\n",
      "5000 of 5000\n",
      "5000 of 5000\n"
     ]
    }
   ],
   "source": [
    "datagen = ImageDataGenerator(width_shift_range=0.2, \n",
    "                             height_shift_range=0.2, \n",
    "                             horizontal_flip=True, \n",
    "                             rotation_range=15, \n",
    "                             zoom_range=0.1, \n",
    "                             fill_mode='nearest')\n",
    "\n",
    "req_values = np.array([mrk.photo_reqs.too_dark_light.value for mrk in mrks])\n",
    "mask_c = (req_values == 1)\n",
    "mask_nc = (req_values == 0)\n",
    "mask_d = (req_values == -1)\n",
    "print(mask_c.sum(), mask_nc.sum(), mask_d.sum())\n",
    "\n",
    "output_folder = FOLDER_DATA_AUGMENTATION + '6-too_dark_light/'\n",
    "\n",
    "data_augmentation(datagen, output_folder, images[mask_c], mrks[mask_c], 5000, '6_c_')\n",
    "data_augmentation(datagen, output_folder, images[mask_nc], mrks[mask_nc], 5000, '6_nc_')\n",
    "# data_augmentation(datagen, output_folder, images[mask_d], mrks[mask_d], 5000, '6_d_')"
   ]
  },
  {
   "cell_type": "markdown",
   "metadata": {},
   "source": [
    "# 7. Washed Out"
   ]
  },
  {
   "cell_type": "code",
   "execution_count": 9,
   "metadata": {},
   "outputs": [
    {
     "name": "stdout",
     "output_type": "stream",
     "text": [
      "5690 73 0\n",
      "5000 of 5000\n",
      "5000 of 5000\n"
     ]
    }
   ],
   "source": [
    "datagen = ImageDataGenerator(width_shift_range=0.2, \n",
    "                             height_shift_range=0.2, \n",
    "                             horizontal_flip=True, \n",
    "                             rotation_range=15)\n",
    "\n",
    "req_values = np.array([mrk.photo_reqs.washed_out.value for mrk in mrks])\n",
    "mask_c = (req_values == 1)\n",
    "mask_nc = (req_values == 0)\n",
    "mask_d = (req_values == -1)\n",
    "print(mask_c.sum(), mask_nc.sum(), mask_d.sum())\n",
    "\n",
    "output_folder = FOLDER_DATA_AUGMENTATION + '7-washed_out/'\n",
    "\n",
    "data_augmentation(datagen, output_folder, images[mask_c], mrks[mask_c], 5000, '7_c_')\n",
    "data_augmentation(datagen, output_folder, images[mask_nc], mrks[mask_nc], 5000, '7_nc_')\n",
    "# data_augmentation(datagen, output_folder, images[mask_d], mrks[mask_d], 5000, '7_d_')"
   ]
  },
  {
   "cell_type": "markdown",
   "metadata": {},
   "source": [
    "# *8. Pixelation*"
   ]
  },
  {
   "cell_type": "code",
   "execution_count": 10,
   "metadata": {},
   "outputs": [
    {
     "name": "stdout",
     "output_type": "stream",
     "text": [
      "5368 395 0\n",
      "5000 of 5000\n",
      "5000 of 5000\n"
     ]
    }
   ],
   "source": [
    "datagen = ImageDataGenerator(width_shift_range=0.2, \n",
    "                             height_shift_range=0.2, \n",
    "                             horizontal_flip=True, \n",
    "                             brightness_range=[0.9, 1.1])\n",
    "\n",
    "req_values = np.array([mrk.photo_reqs.pixelation.value for mrk in mrks])\n",
    "mask_c = (req_values == 1)\n",
    "mask_nc = (req_values == 0)\n",
    "mask_d = (req_values == -1)\n",
    "print(mask_c.sum(), mask_nc.sum(), mask_d.sum())\n",
    "\n",
    "output_folder = FOLDER_DATA_AUGMENTATION + '8-pixelation/'\n",
    "\n",
    "data_augmentation(datagen, output_folder, images[mask_c], mrks[mask_c], 5000, '8_c_')\n",
    "data_augmentation(datagen, output_folder, images[mask_nc], mrks[mask_nc], 5000, '8_nc_')"
   ]
  },
  {
   "cell_type": "markdown",
   "metadata": {},
   "source": [
    "# 9. Hair Across Eyes "
   ]
  },
  {
   "cell_type": "code",
   "execution_count": 11,
   "metadata": {},
   "outputs": [
    {
     "name": "stdout",
     "output_type": "stream",
     "text": [
      "4252 1511 0\n",
      "5000 of 5000\n",
      "5000 of 5000\n"
     ]
    }
   ],
   "source": [
    "datagen = ImageDataGenerator(width_shift_range=0.2, \n",
    "                             height_shift_range=0.2, \n",
    "                             horizontal_flip=True, \n",
    "                             rotation_range=15, \n",
    "                             brightness_range=[0.9, 1.1], \n",
    "                             zoom_range=0.2)\n",
    "\n",
    "req_values = np.array([mrk.photo_reqs.hair_across_eyes.value for mrk in mrks])\n",
    "mask_c = (req_values == 1)\n",
    "mask_nc = (req_values == 0)\n",
    "mask_d = (req_values == -1)\n",
    "print(mask_c.sum(), mask_nc.sum(), mask_d.sum())\n",
    "\n",
    "output_folder = FOLDER_DATA_AUGMENTATION + '9-hair_across_eyes/'\n",
    "\n",
    "data_augmentation(datagen, output_folder, images[mask_c], mrks[mask_c], 5000, '9_c_')\n",
    "data_augmentation(datagen, output_folder, images[mask_nc], mrks[mask_nc], 5000, '9_nc_')\n",
    "# data_augmentation(datagen, output_folder, images[mask_d], mrks[mask_d], 5000, '9_d_')"
   ]
  },
  {
   "cell_type": "markdown",
   "metadata": {},
   "source": [
    "# 10. Eyes Closed "
   ]
  },
  {
   "cell_type": "code",
   "execution_count": 12,
   "metadata": {},
   "outputs": [
    {
     "name": "stdout",
     "output_type": "stream",
     "text": [
      "4440 1323 0\n",
      "5000 of 5000\n",
      "5000 of 5000\n"
     ]
    }
   ],
   "source": [
    "datagen = ImageDataGenerator(width_shift_range=0.2, \n",
    "                             height_shift_range=0.2, \n",
    "                             horizontal_flip=True, \n",
    "                             rotation_range=15, \n",
    "                             brightness_range=[0.9, 1.1], \n",
    "                             zoom_range=0.2)\n",
    "\n",
    "req_values = np.array([mrk.photo_reqs.eyes_closed.value for mrk in mrks])\n",
    "mask_c = (req_values == 1)\n",
    "mask_nc = (req_values == 0)\n",
    "mask_d = (req_values == -1)\n",
    "print(mask_c.sum(), mask_nc.sum(), mask_d.sum())\n",
    "\n",
    "output_folder = FOLDER_DATA_AUGMENTATION + '10-eyes_closed/'\n",
    "\n",
    "data_augmentation(datagen, output_folder, images[mask_c], mrks[mask_c], 5000, '10_c_')\n",
    "data_augmentation(datagen, output_folder, images[mask_nc], mrks[mask_nc], 5000, '10_nc_')\n",
    "# data_augmentation(datagen, output_folder, images[mask_d], mrks[mask_d], 5000, '10_d_')"
   ]
  },
  {
   "cell_type": "markdown",
   "metadata": {},
   "source": [
    "# 11. Varied Background"
   ]
  },
  {
   "cell_type": "code",
   "execution_count": 13,
   "metadata": {},
   "outputs": [
    {
     "name": "stdout",
     "output_type": "stream",
     "text": [
      "2997 2766 0\n",
      "5000 of 5000\n",
      "5000 of 5000\n"
     ]
    }
   ],
   "source": [
    "datagen = ImageDataGenerator(horizontal_flip=True, brightness_range=[0.9, 1.1])\n",
    "\n",
    "req_values = np.array([mrk.photo_reqs.varied_background.value for mrk in mrks])\n",
    "mask_c = (req_values == 1)\n",
    "mask_nc = (req_values == 0)\n",
    "mask_d = (req_values == -1)\n",
    "print(mask_c.sum(), mask_nc.sum(), mask_d.sum())\n",
    "\n",
    "output_folder = FOLDER_DATA_AUGMENTATION + '11-varied_bgd/'\n",
    "\n",
    "data_augmentation(datagen, output_folder, images[mask_c], mrks[mask_c], 5000, '11_c_')\n",
    "data_augmentation(datagen, output_folder, images[mask_nc], mrks[mask_nc], 5000, '11_nc_')\n",
    "# data_augmentation(datagen, output_folder, images[mask_d], mrks[mask_d], 5000, '11_d_')"
   ]
  },
  {
   "cell_type": "markdown",
   "metadata": {},
   "source": [
    "# 12. Roll/pitch/yaw"
   ]
  },
  {
   "cell_type": "code",
   "execution_count": 14,
   "metadata": {},
   "outputs": [
    {
     "name": "stdout",
     "output_type": "stream",
     "text": [
      "4209 1554 0\n",
      "5000 of 5000\n",
      "5000 of 5000\n"
     ]
    }
   ],
   "source": [
    "datagen = ImageDataGenerator(width_shift_range=0.2, \n",
    "                             height_shift_range=0.2, \n",
    "                             horizontal_flip=True, \n",
    "                             brightness_range=[0.9, 1.1], \n",
    "                             zoom_range=0.2)\n",
    "\n",
    "req_values = np.array([mrk.photo_reqs.roll_pitch_yaw.value for mrk in mrks])\n",
    "mask_c = (req_values == 1)\n",
    "mask_nc = (req_values == 0)\n",
    "mask_d = (req_values == -1)\n",
    "print(mask_c.sum(), mask_nc.sum(), mask_d.sum())\n",
    "\n",
    "output_folder = FOLDER_DATA_AUGMENTATION + '12-roll_pitch_yaw/'\n",
    "\n",
    "data_augmentation(datagen, output_folder, images[mask_c], mrks[mask_c], 5000, '12_c_')\n",
    "data_augmentation(datagen, output_folder, images[mask_nc], mrks[mask_nc], 5000, '12_nc_')\n",
    "# data_augmentation(datagen, output_folder, images[mask_d], mrks[mask_d], 5000, '12_d_')"
   ]
  },
  {
   "cell_type": "markdown",
   "metadata": {},
   "source": [
    "# 13. Flash Reflection on Skin"
   ]
  },
  {
   "cell_type": "code",
   "execution_count": 15,
   "metadata": {},
   "outputs": [
    {
     "name": "stdout",
     "output_type": "stream",
     "text": [
      "2893 2870 0\n",
      "5000 of 5000\n",
      "5000 of 5000\n"
     ]
    }
   ],
   "source": [
    "datagen = ImageDataGenerator(width_shift_range=0.2, \n",
    "                             height_shift_range=0.2, \n",
    "                             horizontal_flip=True, \n",
    "                             rotation_range=15, \n",
    "                             zoom_range=0.2)\n",
    "\n",
    "req_values = np.array([mrk.photo_reqs.flash_reflection_on_skin.value for mrk in mrks])\n",
    "mask_c = (req_values == 1)\n",
    "mask_nc = (req_values == 0)\n",
    "mask_d = (req_values == -1)\n",
    "print(mask_c.sum(), mask_nc.sum(), mask_d.sum())\n",
    "\n",
    "output_folder = FOLDER_DATA_AUGMENTATION + '13-flash_reflection_on_skin/'\n",
    "\n",
    "data_augmentation(datagen, output_folder, images[mask_c], mrks[mask_c], 5000, '13_c_')\n",
    "data_augmentation(datagen, output_folder, images[mask_nc], mrks[mask_nc], 5000, '13_nc_')\n",
    "# data_augmentation(datagen, output_folder, images[mask_d], mrks[mask_d], 5000, '13_d_')"
   ]
  },
  {
   "cell_type": "markdown",
   "metadata": {},
   "source": [
    "# 14. Red Eyes "
   ]
  },
  {
   "cell_type": "code",
   "execution_count": 16,
   "metadata": {},
   "outputs": [
    {
     "name": "stdout",
     "output_type": "stream",
     "text": [
      "4385 1378 0\n",
      "5000 of 5000\n",
      "5000 of 5000\n"
     ]
    }
   ],
   "source": [
    "datagen = ImageDataGenerator(width_shift_range=0.2, \n",
    "                             height_shift_range=0.2, \n",
    "                             horizontal_flip=True, \n",
    "                             rotation_range=15, \n",
    "                             zoom_range=0.2)\n",
    "\n",
    "req_values = np.array([mrk.photo_reqs.red_eyes.value for mrk in mrks])\n",
    "mask_c = (req_values == 1)\n",
    "mask_nc = (req_values == 0)\n",
    "mask_d = (req_values == -1)\n",
    "print(mask_c.sum(), mask_nc.sum(), mask_d.sum())\n",
    "\n",
    "output_folder = FOLDER_DATA_AUGMENTATION + '14-red_eyes/'\n",
    "\n",
    "data_augmentation(datagen, output_folder, images[mask_c], mrks[mask_c], 5000, '14_c_')\n",
    "data_augmentation(datagen, output_folder, images[mask_nc], mrks[mask_nc], 5000, '14_nc_')\n",
    "# data_augmentation(datagen, output_folder, images[mask_d], mrks[mask_d], 5000, '14_d_')"
   ]
  },
  {
   "cell_type": "markdown",
   "metadata": {},
   "source": [
    "# 15. Shadows Behind Head "
   ]
  },
  {
   "cell_type": "code",
   "execution_count": 17,
   "metadata": {},
   "outputs": [
    {
     "name": "stdout",
     "output_type": "stream",
     "text": [
      "3768 1995 0\n",
      "5000 of 5000\n",
      "5000 of 5000\n"
     ]
    }
   ],
   "source": [
    "datagen = ImageDataGenerator(width_shift_range=0.2, \n",
    "                             height_shift_range=0.2, \n",
    "                             horizontal_flip=True, \n",
    "                             rotation_range=15, \n",
    "                             zoom_range=0.2)\n",
    "\n",
    "req_values = np.array([mrk.photo_reqs.shadows_behind_head.value for mrk in mrks])\n",
    "mask_c = (req_values == 1)\n",
    "mask_nc = (req_values == 0)\n",
    "mask_d = (req_values == -1)\n",
    "print(mask_c.sum(), mask_nc.sum(), mask_d.sum())\n",
    "\n",
    "output_folder = FOLDER_DATA_AUGMENTATION + '15-shadows_behind_head/'\n",
    "\n",
    "data_augmentation(datagen, output_folder, images[mask_c], mrks[mask_c], 5000, '15_c_')\n",
    "data_augmentation(datagen, output_folder, images[mask_nc], mrks[mask_nc], 5000, '15_nc_')\n",
    "# data_augmentation(datagen, output_folder, images[mask_d], mrks[mask_d], 5000, '15_d_')"
   ]
  },
  {
   "cell_type": "markdown",
   "metadata": {},
   "source": [
    "# 16. Shadows Across Face"
   ]
  },
  {
   "cell_type": "code",
   "execution_count": 18,
   "metadata": {},
   "outputs": [
    {
     "name": "stdout",
     "output_type": "stream",
     "text": [
      "3136 2627 0\n",
      "5000 of 5000\n",
      "5000 of 5000\n"
     ]
    }
   ],
   "source": [
    "datagen = ImageDataGenerator(width_shift_range=0.2, \n",
    "                             height_shift_range=0.2, \n",
    "                             horizontal_flip=True, \n",
    "                             rotation_range=15, \n",
    "                             zoom_range=0.2)\n",
    "\n",
    "req_values = np.array([mrk.photo_reqs.shadows_across_face.value for mrk in mrks])\n",
    "mask_c = (req_values == 1)\n",
    "mask_nc = (req_values == 0)\n",
    "mask_d = (req_values == -1)\n",
    "print(mask_c.sum(), mask_nc.sum(), mask_d.sum())\n",
    "\n",
    "output_folder = FOLDER_DATA_AUGMENTATION + '16-shadows_across_face/'\n",
    "\n",
    "data_augmentation(datagen, output_folder, images[mask_c], mrks[mask_c], 5000, '16_c_')\n",
    "data_augmentation(datagen, output_folder, images[mask_nc], mrks[mask_nc], 5000, '16_nc_')\n",
    "# data_augmentation(datagen, output_folder, images[mask_d], mrks[mask_d], 5000, '16_d_')"
   ]
  },
  {
   "cell_type": "markdown",
   "metadata": {},
   "source": [
    "# 17. Dark Tinted Lenses"
   ]
  },
  {
   "cell_type": "code",
   "execution_count": 19,
   "metadata": {},
   "outputs": [
    {
     "name": "stdout",
     "output_type": "stream",
     "text": [
      "5114 649 0\n",
      "5000 of 5000\n",
      "5000 of 5000\n"
     ]
    }
   ],
   "source": [
    "datagen = ImageDataGenerator(width_shift_range=0.2, \n",
    "                             height_shift_range=0.2, \n",
    "                             horizontal_flip=True, \n",
    "                             rotation_range=15, \n",
    "                             brightness_range=[0.9, 1.1], \n",
    "                             zoom_range=0.2)\n",
    "\n",
    "req_values = np.array([mrk.photo_reqs.dark_tinted_lenses.value for mrk in mrks])\n",
    "mask_c = (req_values == 1)\n",
    "mask_nc = (req_values == 0)\n",
    "mask_d = (req_values == -1)\n",
    "print(mask_c.sum(), mask_nc.sum(), mask_d.sum())\n",
    "\n",
    "output_folder = FOLDER_DATA_AUGMENTATION + '17-dark_tinted_lenses/'\n",
    "\n",
    "data_augmentation(datagen, output_folder, images[mask_c], mrks[mask_c], 5000, '17_c_')\n",
    "data_augmentation(datagen, output_folder, images[mask_nc], mrks[mask_nc], 5000, '17_nc_')\n",
    "# data_augmentation(datagen, output_folder, images[mask_d], mrks[mask_d], 5000, '17_d_')"
   ]
  },
  {
   "cell_type": "markdown",
   "metadata": {},
   "source": [
    "# 18. Flash Reflection on Lenses"
   ]
  },
  {
   "cell_type": "code",
   "execution_count": 20,
   "metadata": {},
   "outputs": [
    {
     "name": "stdout",
     "output_type": "stream",
     "text": [
      "4618 1145 0\n",
      "5000 of 5000\n",
      "5000 of 5000\n"
     ]
    }
   ],
   "source": [
    "datagen = ImageDataGenerator(width_shift_range=0.2, \n",
    "                             height_shift_range=0.2, \n",
    "                             horizontal_flip=True, \n",
    "                             rotation_range=15, \n",
    "                             zoom_range=0.2)\n",
    "\n",
    "req_values = np.array([mrk.photo_reqs.flash_reflection_on_lenses.value for mrk in mrks])\n",
    "mask_c = (req_values == 1)\n",
    "mask_nc = (req_values == 0)\n",
    "mask_d = (req_values == -1)\n",
    "print(mask_c.sum(), mask_nc.sum(), mask_d.sum())\n",
    "\n",
    "output_folder = FOLDER_DATA_AUGMENTATION + '18-flash_reflection_on_lenses/'\n",
    "\n",
    "data_augmentation(datagen, output_folder, images[mask_c], mrks[mask_c], 5000, '18_c_')\n",
    "data_augmentation(datagen, output_folder, images[mask_nc], mrks[mask_nc], 5000, '18_nc_')\n",
    "# data_augmentation(datagen, output_folder, images[mask_d], mrks[mask_d], 5000, '18_d_')"
   ]
  },
  {
   "cell_type": "markdown",
   "metadata": {},
   "source": [
    "# 19. Frames Too Heavy"
   ]
  },
  {
   "cell_type": "code",
   "execution_count": 21,
   "metadata": {},
   "outputs": [
    {
     "name": "stdout",
     "output_type": "stream",
     "text": [
      "5733 30 0\n",
      "5000 of 5000\n",
      "5000 of 5000\n"
     ]
    }
   ],
   "source": [
    "datagen = ImageDataGenerator(width_shift_range=0.2, \n",
    "                             height_shift_range=0.2, \n",
    "                             horizontal_flip=True, \n",
    "                             rotation_range=15, \n",
    "                             brightness_range=[0.9, 1.1], \n",
    "                             zoom_range=0.2)\n",
    "\n",
    "req_values = np.array([mrk.photo_reqs.frames_too_heavy.value for mrk in mrks])\n",
    "mask_c = (req_values == 1)\n",
    "mask_nc = (req_values == 0)\n",
    "mask_d = (req_values == -1)\n",
    "print(mask_c.sum(), mask_nc.sum(), mask_d.sum())\n",
    "\n",
    "output_folder = FOLDER_DATA_AUGMENTATION + '19-frames_too_heavy/'\n",
    "\n",
    "data_augmentation(datagen, output_folder, images[mask_c], mrks[mask_c], 5000, '19_c_')\n",
    "data_augmentation(datagen, output_folder, images[mask_nc], mrks[mask_nc], 5000, '19_nc_')\n",
    "# data_augmentation(datagen, output_folder, images[mask_d], mrks[mask_d], 5000, '20_d_')"
   ]
  },
  {
   "cell_type": "markdown",
   "metadata": {},
   "source": [
    "# 20. Frame Covering Eyes "
   ]
  },
  {
   "cell_type": "code",
   "execution_count": 22,
   "metadata": {},
   "outputs": [
    {
     "name": "stdout",
     "output_type": "stream",
     "text": [
      "4086 1677 0\n",
      "5000 of 5000\n",
      "5000 of 5000\n"
     ]
    }
   ],
   "source": [
    "datagen = ImageDataGenerator(width_shift_range=0.2, \n",
    "                             height_shift_range=0.2, \n",
    "                             horizontal_flip=True, \n",
    "                             rotation_range=15, \n",
    "                             brightness_range=[0.9, 1.1], \n",
    "                             zoom_range=0.2)\n",
    "\n",
    "req_values = np.array([mrk.photo_reqs.frame_covering_eyes.value for mrk in mrks])\n",
    "mask_c = (req_values == 1)\n",
    "mask_nc = (req_values == 0)\n",
    "mask_d = (req_values == -1)\n",
    "print(mask_c.sum(), mask_nc.sum(), mask_d.sum())\n",
    "\n",
    "output_folder = FOLDER_DATA_AUGMENTATION + '20-frame_covering_eyes/'\n",
    "\n",
    "data_augmentation(datagen, output_folder, images[mask_c], mrks[mask_c], 5000, '20_c_')\n",
    "data_augmentation(datagen, output_folder, images[mask_nc], mrks[mask_nc], 5000, '20_nc_')\n",
    "# data_augmentation(datagen, output_folder, images[mask_d], mrks[mask_d], 5000, '20_d_')"
   ]
  },
  {
   "cell_type": "markdown",
   "metadata": {},
   "source": [
    "# 21. Hat/cap "
   ]
  },
  {
   "cell_type": "code",
   "execution_count": 23,
   "metadata": {},
   "outputs": [
    {
     "name": "stdout",
     "output_type": "stream",
     "text": [
      "4927 836 0\n",
      "5000 of 5000\n",
      "5000 of 5000\n"
     ]
    }
   ],
   "source": [
    "datagen = ImageDataGenerator(width_shift_range=0.2, \n",
    "                             height_shift_range=0.2, \n",
    "                             horizontal_flip=True, \n",
    "                             rotation_range=15, \n",
    "                             brightness_range=[0.9, 1.1], \n",
    "                             zoom_range=0.2)\n",
    "\n",
    "req_values = np.array([mrk.photo_reqs.hat_cap.value for mrk in mrks])\n",
    "mask_c = (req_values == 1)\n",
    "mask_nc = (req_values == 0)\n",
    "mask_d = (req_values == -1)\n",
    "print(mask_c.sum(), mask_nc.sum(), mask_d.sum())\n",
    "\n",
    "output_folder = FOLDER_DATA_AUGMENTATION + '21-hat_cap/'\n",
    "\n",
    "data_augmentation(datagen, output_folder, images[mask_c], mrks[mask_c], 5000, '21_c_')\n",
    "data_augmentation(datagen, output_folder, images[mask_nc], mrks[mask_nc], 5000, '21_nc_')\n",
    "# data_augmentation(datagen, output_folder, images[mask_d], mrks[mask_d], 5000, '21_d_')"
   ]
  },
  {
   "cell_type": "markdown",
   "metadata": {},
   "source": [
    "# *22. Veil Over Face*"
   ]
  },
  {
   "cell_type": "code",
   "execution_count": 24,
   "metadata": {},
   "outputs": [
    {
     "name": "stdout",
     "output_type": "stream",
     "text": [
      "5400 363 0\n",
      "5000 of 5000\n",
      "5000 of 5000\n"
     ]
    }
   ],
   "source": [
    "datagen = ImageDataGenerator(width_shift_range=0.2, \n",
    "                             height_shift_range=0.2, \n",
    "                             horizontal_flip=True, \n",
    "                             rotation_range=15, \n",
    "                             brightness_range=[0.9, 1.1], \n",
    "                             zoom_range=0.2)\n",
    "\n",
    "req_values = np.array([mrk.photo_reqs.veil_over_face.value for mrk in mrks])\n",
    "mask_c = (req_values == 1)\n",
    "mask_nc = (req_values == 0)\n",
    "mask_d = (req_values == -1)\n",
    "print(mask_c.sum(), mask_nc.sum(), mask_d.sum())\n",
    "\n",
    "output_folder = FOLDER_DATA_AUGMENTATION + '22-veil_over_face/'\n",
    "\n",
    "data_augmentation(datagen, output_folder, images[mask_c], mrks[mask_c], 5000, '22_c_')\n",
    "data_augmentation(datagen, output_folder, images[mask_nc], mrks[mask_nc], 5000, '22_nc_')"
   ]
  },
  {
   "cell_type": "markdown",
   "metadata": {},
   "source": [
    "# 23. Mouth Open "
   ]
  },
  {
   "cell_type": "code",
   "execution_count": 25,
   "metadata": {},
   "outputs": [
    {
     "name": "stdout",
     "output_type": "stream",
     "text": [
      "4203 1560 0\n",
      "5000 of 5000\n",
      "5000 of 5000\n"
     ]
    }
   ],
   "source": [
    "datagen = ImageDataGenerator(rotation_range=15, \n",
    "                             width_shift_range=0.2, \n",
    "                             height_shift_range=0.2, \n",
    "                             horizontal_flip=True, \n",
    "                             zoom_range=0.1, \n",
    "                             brightness_range=[0.9, 1.1])\n",
    "\n",
    "req_values = np.array([mrk.photo_reqs.mouth_open.value for mrk in mrks])\n",
    "mask_c = (req_values == 1)\n",
    "mask_nc = (req_values == 0)\n",
    "mask_d = (req_values == -1)\n",
    "print(mask_c.sum(), mask_nc.sum(), mask_d.sum())\n",
    "\n",
    "output_folder = FOLDER_DATA_AUGMENTATION + '23-mouth_open/'\n",
    "\n",
    "data_augmentation(datagen, output_folder, images[mask_c], mrks[mask_c], 5000, '23_c_')\n",
    "data_augmentation(datagen, output_folder, images[mask_nc], mrks[mask_nc], 5000, '23_nc_')\n",
    "# data_augmentation(datagen, output_folder, images[mask_d], mrks[mask_d], 5000, '23_d_')"
   ]
  },
  {
   "cell_type": "markdown",
   "metadata": {},
   "source": [
    "# *24. Presence of Other Faces or Toys too Close to Face*"
   ]
  },
  {
   "cell_type": "code",
   "execution_count": 26,
   "metadata": {},
   "outputs": [
    {
     "name": "stdout",
     "output_type": "stream",
     "text": [
      "5656 107 0\n",
      "5000 of 5000\n",
      "5000 of 5000\n"
     ]
    }
   ],
   "source": [
    "datagen = ImageDataGenerator(width_shift_range=0.1, \n",
    "                             height_shift_range=0.1, \n",
    "                             horizontal_flip=True, \n",
    "                             rotation_range=15, \n",
    "                             brightness_range=[0.9, 1.1], \n",
    "                             zoom_range=0.2)\n",
    "\n",
    "req_values = np.array([mrk.photo_reqs.presence_of_other_faces_or_toys.value for mrk in mrks])\n",
    "mask_c = (req_values == 1)\n",
    "mask_nc = (req_values == 0)\n",
    "mask_d = (req_values == -1)\n",
    "print(mask_c.sum(), mask_nc.sum(), mask_d.sum())\n",
    "\n",
    "output_folder = FOLDER_DATA_AUGMENTATION + '24-presence_of_other_faces_or_toys/'\n",
    "\n",
    "data_augmentation(datagen, output_folder, images[mask_c], mrks[mask_c], 5000, '24_c_')\n",
    "data_augmentation(datagen, output_folder, images[mask_nc], mrks[mask_nc], 5000, '24_d_')"
   ]
  },
  {
   "cell_type": "code",
   "execution_count": null,
   "metadata": {},
   "outputs": [],
   "source": []
  }
 ],
 "metadata": {
  "kernelspec": {
   "display_name": "Python 3",
   "language": "python",
   "name": "python3"
  },
  "language_info": {
   "codemirror_mode": {
    "name": "ipython",
    "version": 3
   },
   "file_extension": ".py",
   "mimetype": "text/x-python",
   "name": "python",
   "nbconvert_exporter": "python",
   "pygments_lexer": "ipython3",
   "version": "3.7.6"
  }
 },
 "nbformat": 4,
 "nbformat_minor": 2
}
