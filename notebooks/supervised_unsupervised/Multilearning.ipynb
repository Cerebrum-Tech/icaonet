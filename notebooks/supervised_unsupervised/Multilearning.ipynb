{
 "cells": [
  {
   "cell_type": "code",
   "execution_count": 253,
   "metadata": {},
   "outputs": [],
   "source": [
    "from sys import path\n",
    "path.append('..')\n",
    "path.append('../../src/')\n",
    "\n",
    "import os\n",
    "import cv2\n",
    "import numpy as np\n",
    "import pickle as pkl\n",
    "import matplotlib.pyplot as plt\n",
    "import mlflow\n",
    "import mlflow.keras\n",
    "import random as rn\n",
    "import tensorflow as tf\n",
    "from os.path import basename, join, exists\n",
    "from sys import stdout\n",
    "\n",
    "from keras.models import Model, load_model\n",
    "from keras.layers import Input, Dense, Dropout, BatchNormalization, Activation\n",
    "from keras.layers import Conv2D, Conv2DTranspose, MaxPool2D, UpSampling2D, GlobalAvgPool2D\n",
    "from keras.preprocessing.image import ImageDataGenerator\n",
    "from keras.callbacks import EarlyStopping, ModelCheckpoint\n",
    "from keras.utils.data_utils import Sequence\n",
    "from keras.utils.vis_utils import plot_model\n",
    "\n",
    "import imgaug as ia\n",
    "import imgaug.augmenters as iaa\n",
    "\n",
    "from skmultilearn.model_selection import iterative_train_test_split\n",
    "\n",
    "from tensorflow.contrib.tensorboard.plugins import projector\n",
    "\n",
    "from global_config import RANDOM_SEED, IMAGE_SIZE, FOLDER_IMAGES, FOLDER_MRKS\n",
    "from local_config import FOLDER_MODELS, FILE_AUTOENCODER_SAMPLES, FILE_DATASET\n",
    "from custom_metrics import precision, recall, f1, specificity, fbeta\n",
    "from custom_metrics import negative_predictive_value as npv \n",
    "from custom_metrics import matthews_correlation_coefficient as mcc\n",
    "from icao_dataset import ICAODataset\n",
    "from data_structures import Point\n",
    "from utils import plot, load\n",
    "\n",
    "%matplotlib inline"
   ]
  },
  {
   "cell_type": "code",
   "execution_count": 2,
   "metadata": {},
   "outputs": [
    {
     "name": "stdout",
     "output_type": "stream",
     "text": [
      "../../logs\n",
      "../../models/unsupervised_supervised/\n",
      "../../data/cropped_faces_eyes/dataset_dlib.pkl\n",
      "../../data/unsupervised_supervised_samples.pkl\n"
     ]
    }
   ],
   "source": [
    "PATH_TO_ROOT = '../../'\n",
    "\n",
    "FOLDER_LOGS = join(PATH_TO_ROOT, 'logs')\n",
    "FOLDER_MODELS = join(PATH_TO_ROOT, FOLDER_MODELS)\n",
    "FILE_DATASET = join(PATH_TO_ROOT, FILE_DATASET)\n",
    "FILE_AUTOENCODER_SAMPLES = join(PATH_TO_ROOT, FILE_AUTOENCODER_SAMPLES)\n",
    "\n",
    "print(FOLDER_LOGS)\n",
    "print(FOLDER_MODELS)\n",
    "print(FILE_DATASET)\n",
    "print(FILE_AUTOENCODER_SAMPLES)"
   ]
  },
  {
   "cell_type": "code",
   "execution_count": 3,
   "metadata": {},
   "outputs": [],
   "source": [
    "TEST_SIZE = 0.1\n",
    "MLFLOW_EXPERIMENT_NAME = 'Unsupervised + Supervised'"
   ]
  },
  {
   "cell_type": "code",
   "execution_count": 4,
   "metadata": {},
   "outputs": [],
   "source": [
    "def timestamp_model_name(prefix='model_', suffix='', format='%Y_%m_%d-%H_%M_%S', ext='.h5'):\n",
    "    from datetime import datetime\n",
    "    timestamp = datetime.now().strftime(format)\n",
    "    return f'{prefix}{timestamp}{suffix}{ext}'\n",
    "\n",
    "\n",
    "def set_random_seeds():\n",
    "    os.environ['PYTHONHASHSEED'] = str(RANDOM_SEED)\n",
    "    rn.seed(RANDOM_SEED)\n",
    "    np.random.seed(RANDOM_SEED)\n",
    "    tf.set_random_seed(RANDOM_SEED)"
   ]
  },
  {
   "cell_type": "markdown",
   "metadata": {},
   "source": [
    "# Data Loading "
   ]
  },
  {
   "cell_type": "code",
   "execution_count": 5,
   "metadata": {},
   "outputs": [
    {
     "name": "stdout",
     "output_type": "stream",
     "text": [
      "Dataset found. Loading...\n"
     ]
    }
   ],
   "source": [
    "if exists(FILE_DATASET):\n",
    "    print(\"Dataset found. Loading...\")\n",
    "    dataset = pkl.load(open(FILE_DATASET, \"rb\"))\n",
    "else:\n",
    "    print(\"Generating dataset...\")\n",
    "    dataset = ICAODataset()\n",
    "    dataset.load(FOLDER_IMAGES, FOLDER_MRKS, output_size=(160, 160))\n",
    "    pkl.dump(dataset, open(FILE_DATASET, \"wb\"))"
   ]
  },
  {
   "cell_type": "code",
   "execution_count": 6,
   "metadata": {},
   "outputs": [
    {
     "name": "stdout",
     "output_type": "stream",
     "text": [
      "(5731, 160, 160, 3) float32\n",
      "(5731, 23) int32\n",
      "(5731, 4) float64\n",
      "5731\n"
     ]
    }
   ],
   "source": [
    "x = dataset.images\n",
    "mrks = dataset.mrks\n",
    "y_reqs = np.array([mrk_file.photo_reqs.values() for mrk_file in mrks])\n",
    "y_eyes = np.array([mrk_file.right_eye.center().as_list() + mrk_file.left_eye.center().as_list() for mrk_file in mrks])\n",
    "\n",
    "print(x.shape, x.dtype)\n",
    "print(y_reqs.shape, y_reqs.dtype)\n",
    "print(y_eyes.shape, y_eyes.dtype)\n",
    "print(len(mrks))"
   ]
  },
  {
   "cell_type": "code",
   "execution_count": 7,
   "metadata": {},
   "outputs": [
    {
     "data": {
      "text/plain": [
       "array([[ 76. ,  73.5, 100. ,  75. ],\n",
       "       [ 71.5,  73. ,  93.5,  77.5],\n",
       "       [ 65.5,  71.5,  91.5,  70.5],\n",
       "       ...,\n",
       "       [ 64.5,  64. ,  95.5,  65. ],\n",
       "       [ 67. ,  62.5,  95. ,  63.5],\n",
       "       [ 65. ,  57.5,  98. ,  58.5]])"
      ]
     },
     "execution_count": 7,
     "metadata": {},
     "output_type": "execute_result"
    }
   ],
   "source": [
    "y_eyes"
   ]
  },
  {
   "cell_type": "markdown",
   "metadata": {},
   "source": [
    "#### divide train and test"
   ]
  },
  {
   "cell_type": "code",
   "execution_count": 8,
   "metadata": {},
   "outputs": [
    {
     "name": "stdout",
     "output_type": "stream",
     "text": [
      "(5145, 160, 160, 3) (5145, 23) (5145, 4)\n",
      "(586, 160, 160, 3) (586, 23) (586, 4)\n"
     ]
    }
   ],
   "source": [
    "np.random.seed(RANDOM_SEED)\n",
    "x_train_idx, y_train_reqs, x_val_idx, y_val_reqs = iterative_train_test_split(\n",
    "    np.arange(x.shape[0]).reshape(-1, 1),\n",
    "    y_reqs,\n",
    "    test_size=TEST_SIZE\n",
    ")\n",
    "x_train_idx = x_train_idx.ravel()\n",
    "x_val_idx = x_val_idx.ravel()\n",
    "\n",
    "x_train = x[x_train_idx]\n",
    "x_val = x[x_val_idx]\n",
    "\n",
    "y_train_eyes = y_eyes[x_train_idx]\n",
    "y_val_eyes = y_eyes[x_val_idx]\n",
    "\n",
    "print(x_train.shape, y_train_reqs.shape, y_train_eyes.shape)\n",
    "print(x_val.shape, y_val_reqs.shape, y_val_eyes.shape)"
   ]
  },
  {
   "cell_type": "code",
   "execution_count": 9,
   "metadata": {},
   "outputs": [],
   "source": [
    "train_mrks = mrks[x_train_idx]\n",
    "val_mrks = mrks[x_val_idx]"
   ]
  },
  {
   "cell_type": "markdown",
   "metadata": {},
   "source": [
    "# Data Augmentation "
   ]
  },
  {
   "cell_type": "code",
   "execution_count": 355,
   "metadata": {},
   "outputs": [],
   "source": [
    "class ImageLandmarkGenerator(Sequence):\n",
    "    \"\"\"ImageDataGenerator + ImgAug\"\"\"\n",
    "    def __init__(self, x, y, batch_size=32, shuffle=True, **affine_kwargs):\n",
    "        self.x, self.y = x, y\n",
    "        self.batch_size = min(batch_size, x.shape[0])\n",
    "        self.shuffle = shuffle\n",
    "        self.aug = iaa.Affine(**affine_kwargs)\n",
    "        self.indexes = np.arange(self.x.shape[0])\n",
    "        if shuffle:\n",
    "            np.random.shuffle(self.indexes)\n",
    "        \n",
    "    def __len__(self):\n",
    "        return self.x.shape[0] // self.batch_size\n",
    "    \n",
    "    def on_epoch_end(self):\n",
    "        self.indexes = np.arange(self.x.shape[0])\n",
    "        if self.shuffle:\n",
    "            np.random.shuffle(self.indexes)\n",
    "\n",
    "    def __getitem__(self, idx):\n",
    "        indexes = self.indexes[idx * self.batch_size : (idx + 1) * self.batch_size]\n",
    "        images = self.x[indexes]\n",
    "        landmarks = self.y[indexes]\n",
    "        shape = self.x.shape[1:]\n",
    "        \n",
    "        keypoints = [ia.KeypointsOnImage.from_xy_array(landmark.reshape(-1, 2), shape=shape) for landmark in landmarks]\n",
    "        image_aug, keypoints_aug = self.aug(images=images, keypoints=keypoints)\n",
    "        landmarks_aug = [kp.to_xy_array().flatten() for kp in keypoints_aug]\n",
    "\n",
    "        return image_aug, np.array(landmarks_aug)"
   ]
  },
  {
   "cell_type": "code",
   "execution_count": 367,
   "metadata": {},
   "outputs": [
    {
     "name": "stdout",
     "output_type": "stream",
     "text": [
      "(3, 160, 160, 3) (3, 4)\n"
     ]
    },
    {
     "data": {
      "image/png": "[encoded data removed]",
      "text/plain": [
       "<Figure size 576x160 with 1 Axes>"
      ]
     },
     "metadata": {
      "needs_background": "light"
     },
     "output_type": "display_data"
    }
   ],
   "source": [
    "affine_params = dict(\n",
    "    translate_percent=[-0.1, 0.1],\n",
    "    rotate=[-10, 10],\n",
    "    scale=[0.9, 1.1],\n",
    "    order=0,\n",
    ")\n",
    "\n",
    "gen = ImageLandmarkGenerator(x_train, y_train_eyes, batch_size=3, **affine_params)\n",
    "images, landmarks = gen.__getitem__(0)\n",
    "print(images.shape, landmarks.shape)\n",
    "\n",
    "draw_list = []\n",
    "for im, landmark in zip(images, landmarks):\n",
    "    kp = ia.KeypointsOnImage.from_xy_array(landmark.reshape(-1, 2), shape=im.shape)\n",
    "    draw_list.append(kp.draw_on_image(im.astype(np.uint8)[:, :, ::-1], size=7))\n",
    "\n",
    "ia.imshow(np.hstack(draw_list))"
   ]
  },
  {
   "cell_type": "markdown",
   "metadata": {},
   "source": [
    "# Model Training "
   ]
  },
  {
   "cell_type": "code",
   "execution_count": null,
   "metadata": {},
   "outputs": [],
   "source": [
    "x_train /= 255.0\n",
    "x_val /= 255.0\n",
    "\n",
    "print(x_train.shape, x_train.dtype, x_train.min(), x_train.max())\n",
    "print(x_val.shape, x_val.dtype, x_val.min(), x_val.max())"
   ]
  },
  {
   "cell_type": "code",
   "execution_count": null,
   "metadata": {},
   "outputs": [],
   "source": [
    "def conv_bn(idx, prev_input, filters, activation='relu', name=None):\n",
    "    conv_name = 'conv_' + str(idx)\n",
    "    bn_name = 'bn_' + str(idx)\n",
    "    act_name = f'{activation}_' + str(idx) if name is None else name\n",
    "    \n",
    "    conv = Conv2D(filters, kernel_size=(3, 3), strides=(1, 1), padding='same', activation=None, name=conv_name)(prev_input)\n",
    "    conv = BatchNormalization(axis=-1, name=bn_name)(conv)\n",
    "    conv = Activation(activation, name=act_name)(conv)\n",
    "    return conv\n",
    "\n",
    "\n",
    "def conv_bn_maxpool(idx, prev_input, filters):\n",
    "    pool_name = 'pool_' + str(idx)\n",
    "    \n",
    "    conv = conv_bn(idx, prev_input, filters)\n",
    "    pool = MaxPool2D(pool_size=(2, 2), strides=(2, 2), padding='valid', name=pool_name)(conv)\n",
    "    return pool\n",
    "\n",
    "\n",
    "def deconv_bn(idx, prev_input, filters, activation='relu'):\n",
    "    bn_name = str(idx) + '_bn' \n",
    "    act_name = str(idx) + '_relu' \n",
    "    conv_name = str(idx) + '_conv' \n",
    "    \n",
    "    deconv = Conv2DTranspose(filters, kernel_size=(3, 3), strides=(2, 2), padding='same', activation=None, name=conv_name)(prev_input)\n",
    "    deconv = BatchNormalization(axis=-1, name=bn_name)(deconv)\n",
    "    deconv = Activation(activation, name=act_name)(deconv)\n",
    "    return deconv\n",
    "\n",
    "\n",
    "def dense_layer(idx, prev_input, units, dropout=True, rate=0.5, activation='relu'):\n",
    "    dense_name = f\"dense_{idx}\"\n",
    "    drop_name = f\"dropout_{idx}\"\n",
    "    \n",
    "    if dropout:\n",
    "        prev_input = Dropout(rate)(prev_input)\n",
    "    out = Dense(units, activation=activation)(prev_input)\n",
    "    return out"
   ]
  },
  {
   "cell_type": "code",
   "execution_count": null,
   "metadata": {},
   "outputs": [],
   "source": [
    "mlflow.set_experiment(MLFLOW_EXPERIMENT_NAME)\n",
    "mlflow.log_param(\"test_size\", TEST_SIZE)\n",
    "mlflow.log_param(\"seed\", RANDOM_SEED)\n",
    "mlflow.keras.autolog()\n",
    "\n",
    "set_random_seeds()\n",
    "N_REQS = y_train_reqs.shape[1]\n",
    "N_EYES = y_train_eyes.shape[1]\n",
    "\n",
    "inputs = Input(shape=x_train.shape[1:], name='input')\n",
    "pool_1 = conv_bn_maxpool(1, inputs, 32)\n",
    "pool_2 = conv_bn_maxpool(2, pool_1, 64)\n",
    "pool_3 = conv_bn_maxpool(3, pool_2, 128)\n",
    "pool_4 = conv_bn_maxpool(4, pool_3, 256)\n",
    "encode = conv_bn(5, pool_4, 256, activation='tanh', name='encoded')\n",
    "\n",
    "dec_4 = deconv_bn(4, encode, 256)\n",
    "dec_3 = deconv_bn(3, dec_4, 128)\n",
    "dec_2 = deconv_bn(2, dec_3, 64)\n",
    "dec_1 = deconv_bn(1, dec_2, 32)\n",
    "decoded = Conv2D(filters=3, kernel_size=(3, 3), strides=(1, 1), padding='same', activation='sigmoid', name='decoded')(dec_1)\n",
    "\n",
    "avg_pool = GlobalAvgPool2D()(encode)\n",
    "dense_1 = dense_layer(1, avg_pool, 64)\n",
    "dense_2 = dense_layer(2, dense_1, 32)\n",
    "classif = Dense(units=N_REQS, activation='sigmoid', name='output_reqs')(dense_2)\n",
    "\n",
    "dense_3 = dense_layer(3, avg_pool, 32)\n",
    "dense_4 = dense_layer(4, dense_3, 16)\n",
    "regress = Dense(units=N_EYES, activation='linear', name='output_eyes')(dense_4)\n",
    "\n",
    "model = Model(inputs=inputs, outputs=[decoded, classif, regress])\n",
    "model.summary()"
   ]
  },
  {
   "cell_type": "code",
   "execution_count": null,
   "metadata": {
    "scrolled": false
   },
   "outputs": [],
   "source": [
    "plot_model(model, show_shapes=True)"
   ]
  },
  {
   "cell_type": "code",
   "execution_count": null,
   "metadata": {
    "scrolled": false
   },
   "outputs": [],
   "source": [
    "DECODED_LOSS_WEIGHT = 2.0\n",
    "REQS_LOSS_WEIGHT = 1.0\n",
    "EYES_LOSS_WEIGHT = 4.0\n",
    "\n",
    "mlflow.log_param(\"decoded loss weight\", DECODED_LOSS_WEIGHT)\n",
    "mlflow.log_param(\"reqs loss weight\", REQS_LOSS_WEIGHT)\n",
    "mlflow.log_param(\"eyes loss weight\", EYES_LOSS_WEIGHT)\n",
    "\n",
    "losses = {\n",
    "    \"decoded\": \"mean_squared_error\",\n",
    "    \"output_reqs\": \"binary_crossentropy\",\n",
    "    \"output_eyes\": \"mean_squared_error\"\n",
    "}\n",
    "\n",
    "loss_weights = {\n",
    "    \"decoded\": DECODED_LOSS_WEIGHT,\n",
    "    \"output_reqs\": REQS_LOSS_WEIGHT,\n",
    "    \"output_eyes\": EYES_LOSS_WEIGHT,\n",
    "}\n",
    "\n",
    "metrics = {\n",
    "    \"output_reqs\": [\"accuracy\", precision, recall, f1, fbeta, specificity, npv, mcc],\n",
    "    \"output_eyes\": [\"mae\"]\n",
    "}\n",
    "METRIC_TO_MONITOR = \"val_output_reqs_fbeta\"\n",
    "\n",
    "outputs_train = {\n",
    "    \"decoded\": x_train,\n",
    "    \"output_reqs\": y_train_reqs,\n",
    "    \"output_eyes\": y_train_eyes,\n",
    "}\n",
    "\n",
    "outputs_valid = {\n",
    "    \"decoded\": x_val,\n",
    "    \"output_reqs\": y_val_reqs,\n",
    "    \"output_eyes\": y_val_eyes,\n",
    "}\n",
    "\n",
    "model.compile(optimizer='adam', loss=losses, loss_weights=loss_weights, metrics=metrics)\n",
    "\n",
    "FILE_MODEL = FOLDER_MODELS + timestamp_model_name(prefix=\"multilearner_\")\n",
    "list_callbacks = [\n",
    "    ModelCheckpoint(FILE_MODEL, monitor=METRIC_TO_MONITOR, mode=\"max\", verbose=1, save_best_only=True), \n",
    "    EarlyStopping(monitor=METRIC_TO_MONITOR, mode=\"max\", patience=30, verbose=1, restore_best_weights=True)\n",
    "]\n",
    "\n",
    "hist = model.fit(\n",
    "    x=x_train,\n",
    "    y=outputs_train,\n",
    "    batch_size=32,\n",
    "    epochs=100,\n",
    "    validation_data=(x_val, outputs_valid),\n",
    "    callbacks=list_callbacks\n",
    ")\n",
    "\n",
    "plot.keras_hist(hist.history)"
   ]
  },
  {
   "cell_type": "code",
   "execution_count": null,
   "metadata": {},
   "outputs": [],
   "source": [
    "history = hist.history\n",
    "\n",
    "\n",
    "plt.figure(figsize=(16, 4))\n",
    "plt.subplot(1, 3, 1)\n",
    "plt.plot(history['output_reqs_matthews_correlation_coefficient'], label='train')\n",
    "plt.plot(history['val_output_reqs_matthews_correlation_coefficient'], label='val')\n",
    "plt.ylim(0, 1)\n",
    "plt.legend(loc='lower right')\n",
    "\n",
    "plt.subplot(1, 3, 2)\n",
    "plt.plot(history['output_reqs_fbeta'], label='train')\n",
    "plt.plot(history['val_output_reqs_fbeta'], label='val')\n",
    "plt.ylim(0, 1)\n",
    "plt.legend(loc='lower right')\n",
    "\n",
    "plt.subplot(1, 3, 3)\n",
    "plt.plot(history['output_eyes_loss'], label='train')\n",
    "plt.plot(history['val_output_eyes_loss'], label='val')\n",
    "plt.legend(loc='upper left')"
   ]
  },
  {
   "cell_type": "markdown",
   "metadata": {},
   "source": [
    "# Test Model"
   ]
  },
  {
   "cell_type": "code",
   "execution_count": null,
   "metadata": {},
   "outputs": [],
   "source": [
    "random_idx = np.random.choice(x_val.shape[0])\n",
    "im = np.expand_dims(x_val[random_idx], axis=0)\n",
    "y_true_reqs = y_val_reqs[random_idx]\n",
    "y_true_eyes = y_val_eyes[random_idx]\n",
    "\n",
    "y_pred_decoded, y_pred_reqs, y_pred_eyes = model.predict(im)\n",
    "y_pred_reqs = np.where(y_pred_reqs > 0.5, 1, 0)\n",
    "\n",
    "print(y_true_reqs, y_pred_reqs[0], sep='\\n')\n",
    "print(y_true_eyes, y_pred_eyes[0], sep='\\n')\n",
    "\n",
    "plt.figure(figsize=(10, 4))\n",
    "plt.subplot(1, 2, 1)\n",
    "plt.imshow(im.squeeze()[:, :, ::-1])\n",
    "plt.title('original image')\n",
    "\n",
    "plt.subplot(1, 2, 2)\n",
    "plt.imshow(y_pred_decoded.squeeze()[:, :, ::-1])\n",
    "plt.title('decoded image')"
   ]
  },
  {
   "cell_type": "markdown",
   "metadata": {},
   "source": [
    "# Save Classification Model "
   ]
  },
  {
   "cell_type": "code",
   "execution_count": null,
   "metadata": {},
   "outputs": [],
   "source": [
    "FILE_MODEL_CLF = FILE_MODEL.replace('multilearner', 'model')\n",
    "print(FILE_MODEL_CLF)\n",
    "\n",
    "model_clf = Model(\n",
    "    inputs=model.inputs,\n",
    "    outputs=[model.get_layer('output_reqs').output, model.get_layer('output_eyes').output],\n",
    "    name=\"ICAOnet\"\n",
    ")\n",
    "model_clf.summary()\n",
    "\n",
    "model_clf.save(FILE_MODEL_CLF)"
   ]
  },
  {
   "cell_type": "code",
   "execution_count": null,
   "metadata": {},
   "outputs": [],
   "source": [
    "import cv2\n",
    "from glob import glob\n",
    "\n",
    "model_clf = load_model(FILE_MODEL_CLF)\n",
    "\n",
    "list_files = [PATH_TO_ROOT + 'data/cropped_faces/images/afwDB_0.png']\n",
    "random_file = np.random.choice(list_files)\n",
    "print(random_file)\n",
    "\n",
    "im = load.images_from_list_files([random_file], output_size=IMAGE_SIZE, interpolation=cv2.INTER_AREA)\n",
    "im /= 255\n",
    "\n",
    "y_pred_ori = model.predict(im)\n",
    "y_pred_clf, y_pred_reg = model_clf.predict(im)\n",
    "assert(np.allclose(y_pred_ori[1], y_pred_clf))\n",
    "assert(np.allclose(y_pred_ori[2], y_pred_reg))\n",
    "\n",
    "print(\"Reqs:\")\n",
    "for y_pred in y_pred_clf[0]:\n",
    "    print(y_pred)\n",
    "\n",
    "print(\"\\nEyes:\")\n",
    "for y_pred in y_pred_reg[0]:\n",
    "    print(y_pred)"
   ]
  },
  {
   "cell_type": "markdown",
   "metadata": {},
   "source": [
    "# Embeddings Visualization "
   ]
  },
  {
   "cell_type": "code",
   "execution_count": null,
   "metadata": {},
   "outputs": [],
   "source": [
    "FOLDER_LOGS = '../../logs/unsupervised_supervised/'"
   ]
  },
  {
   "cell_type": "markdown",
   "metadata": {},
   "source": [
    "### Metadata "
   ]
  },
  {
   "cell_type": "code",
   "execution_count": null,
   "metadata": {},
   "outputs": [],
   "source": [
    "image_files = np.array(dataset.image_files)[x_val_idx]\n",
    "data = dataset.images[x_val_idx]\n",
    "mrks = dataset.mrks[x_val_idx]\n",
    "\n",
    "image_files = [basename(filepath) for filepath in image_files]\n",
    "print(len(image_files))\n",
    "print(data.shape)"
   ]
  },
  {
   "cell_type": "code",
   "execution_count": null,
   "metadata": {},
   "outputs": [],
   "source": [
    "with open(f'{FOLDER_LOGS}/metadata.tsv', 'w') as metadata_file:\n",
    "    for file in image_files:\n",
    "        metadata_file.write(file+'\\n')\n",
    "\n",
    "mlflow.log_artifact(f'{FOLDER_LOGS}/metadata.tsv')"
   ]
  },
  {
   "cell_type": "markdown",
   "metadata": {},
   "source": [
    "### Image Sprite"
   ]
  },
  {
   "cell_type": "code",
   "execution_count": null,
   "metadata": {},
   "outputs": [],
   "source": [
    "def images_to_sprite(data):\n",
    "    \"\"\"Creates the sprite image along with any necessary padding\n",
    "    Args:\n",
    "      data: NxHxW[x3] tensor containing the images.\n",
    "    Returns:\n",
    "      data: Properly shaped HxWx3 image with any necessary padding.\n",
    "    \"\"\"\n",
    "    if len(data.shape) == 3:\n",
    "        data = np.tile(data[...,np.newaxis], (1,1,1,3))\n",
    "    data = data.astype(np.float32)\n",
    "    min_data = np.min(data.reshape((data.shape[0], -1)), axis=1)\n",
    "    data = (data.transpose(1,2,3,0) - min_data).transpose(3,0,1,2)\n",
    "    max_data = np.max(data.reshape((data.shape[0], -1)), axis=1)\n",
    "    data = (data.transpose(1,2,3,0) / max_data).transpose(3,0,1,2)\n",
    "\n",
    "    n = int(np.ceil(np.sqrt(data.shape[0])))\n",
    "    padding = ((0, n ** 2 - data.shape[0]), (0, 0), (0, 0)) + ((0, 0),) * (data.ndim - 3)\n",
    "    data = np.pad(data, padding, mode='constant', constant_values=0)\n",
    "    \n",
    "    # Tile the individual thumbnails into an image.\n",
    "    data = data.reshape((n, n) + data.shape[1:]).transpose((0, 2, 1, 3) + tuple(range(4, data.ndim + 1)))\n",
    "    data = data.reshape((n * data.shape[1], n * data.shape[3]) + data.shape[4:])\n",
    "    data = (data * 255).astype(np.uint8)\n",
    "    return data### Embeddings "
   ]
  },
  {
   "cell_type": "code",
   "execution_count": null,
   "metadata": {},
   "outputs": [],
   "source": [
    "im_sprite = images_to_sprite(data)\n",
    "print(im_sprite.shape)\n",
    "\n",
    "cv2.imwrite(f'{FOLDER_LOGS}/sprites.png', im_sprite)\n",
    "mlflow.log_artifact(f'{FOLDER_LOGS}/sprites.png')"
   ]
  },
  {
   "cell_type": "markdown",
   "metadata": {},
   "source": [
    "### Embeddings "
   ]
  },
  {
   "cell_type": "code",
   "execution_count": null,
   "metadata": {},
   "outputs": [],
   "source": [
    "model = load_model(FILE_MODEL_CLF)\n",
    "\n",
    "embeddings = GlobalAvgPool2D(name='embeddings')(model.get_layer(name='encoded').output)\n",
    "\n",
    "model_emb = Model(inputs=model.inputs, outputs=embeddings)\n",
    "model_emb.summary()"
   ]
  },
  {
   "cell_type": "code",
   "execution_count": null,
   "metadata": {},
   "outputs": [],
   "source": [
    "emb_vectors = model_emb.predict(data)\n",
    "print(emb_vectors.shape)"
   ]
  },
  {
   "cell_type": "markdown",
   "metadata": {},
   "source": [
    "### Tensorboard "
   ]
  },
  {
   "cell_type": "code",
   "execution_count": null,
   "metadata": {},
   "outputs": [],
   "source": [
    "sess = tf.InteractiveSession()\n",
    "\n",
    "tf_embeddings = tf.Variable(emb_vectors, name='embeddings')\n",
    "summary_writer = tf.summary.FileWriter(f'{FOLDER_LOGS}')\n",
    "\n",
    "config = projector.ProjectorConfig()\n",
    "embedding = config.embeddings.add()\n",
    "embedding.tensor_name = tf_embeddings.name\n",
    "embedding.metadata_path = 'metadata.tsv'\n",
    "embedding.sprite.image_path = 'sprites.png'\n",
    "embedding.sprite.single_image_dim.extend(IMAGE_SIZE)\n",
    "\n",
    "projector.visualize_embeddings(summary_writer, config)\n",
    "\n",
    "saver = tf.train.Saver([tf_embeddings])\n",
    "sess.run(tf_embeddings.initializer)\n",
    "saver.save(sess, f'{FOLDER_LOGS}/embeddings.ckpt')\n",
    "\n",
    "sess.close()"
   ]
  },
  {
   "cell_type": "code",
   "execution_count": null,
   "metadata": {},
   "outputs": [],
   "source": [
    "mlflow.end_run()"
   ]
  },
  {
   "cell_type": "code",
   "execution_count": null,
   "metadata": {},
   "outputs": [],
   "source": []
  }
 ],
 "metadata": {
  "kernelspec": {
   "display_name": "Python 3 (ipykernel)",
   "language": "python",
   "name": "python3"
  },
  "language_info": {
   "codemirror_mode": {
    "name": "ipython",
    "version": 3
   },
   "file_extension": ".py",
   "mimetype": "text/x-python",
   "name": "python",
   "nbconvert_exporter": "python",
   "pygments_lexer": "ipython3",
   "version": "3.7.10"
  }
 },
 "nbformat": 4,
 "nbformat_minor": 4
}
