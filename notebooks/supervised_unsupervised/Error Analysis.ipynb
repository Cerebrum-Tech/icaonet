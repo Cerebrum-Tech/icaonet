{
 "cells": [
  {
   "cell_type": "code",
   "execution_count": 1,
   "id": "5448ff74",
   "metadata": {},
   "outputs": [
    {
     "name": "stderr",
     "output_type": "stream",
     "text": [
      "Using TensorFlow backend.\n"
     ]
    }
   ],
   "source": [
    "from sys import path\n",
    "path.append('..')\n",
    "path.append('../../src/')\n",
    "\n",
    "import cv2\n",
    "import numpy as np\n",
    "import pickle as pkl\n",
    "import matplotlib.pyplot as plt\n",
    "from os.path import join, basename\n",
    "from glob import glob\n",
    "\n",
    "from global_config import RANDOM_SEED, IMAGE_SIZE, FOLDER_IMAGES, FOLDER_MRKS\n",
    "from local_config import FOLDER_MODELS, FILE_DATASET\n",
    "\n",
    "from skmultilearn.model_selection import iterative_train_test_split\n",
    "\n",
    "from keras import backend as K\n",
    "from keras.models import load_model\n",
    "from custom_metrics import eye_localization_fvc, eye_localization_accuracy\n",
    "from icao_dataset import ICAODataset\n",
    "from utils import plot, load\n",
    "\n",
    "%matplotlib inline"
   ]
  },
  {
   "cell_type": "code",
   "execution_count": 2,
   "id": "287425ef",
   "metadata": {},
   "outputs": [
    {
     "name": "stdout",
     "output_type": "stream",
     "text": [
      "../../models/unsupervised_supervised/\n",
      "../../data/cropped_faces_eyes/dataset_dlib.pkl\n",
      "../../models/unsupervised_supervised/model_2022_07_13-21_29_34.h5\n"
     ]
    }
   ],
   "source": [
    "PATH_TO_ROOT = '../../'\n",
    "\n",
    "FOLDER_MODELS = join(PATH_TO_ROOT, FOLDER_MODELS)\n",
    "FILE_DATASET = join(PATH_TO_ROOT, FILE_DATASET)\n",
    "FILE_MODEL = join(FOLDER_MODELS, 'model_2022_07_13-21_29_34.h5')\n",
    "\n",
    "print(FOLDER_MODELS)\n",
    "print(FILE_DATASET)\n",
    "print(FILE_MODEL)"
   ]
  },
  {
   "cell_type": "code",
   "execution_count": 3,
   "id": "1ea362c4",
   "metadata": {},
   "outputs": [],
   "source": [
    "sess = K.get_session()"
   ]
  },
  {
   "cell_type": "markdown",
   "id": "640afc32",
   "metadata": {},
   "source": [
    "# Data Loading "
   ]
  },
  {
   "cell_type": "code",
   "execution_count": 4,
   "id": "4a2f4fd2",
   "metadata": {},
   "outputs": [],
   "source": [
    "dataset = pkl.load(open(FILE_DATASET, \"rb\"))"
   ]
  },
  {
   "cell_type": "code",
   "execution_count": 5,
   "id": "ca6e2db5",
   "metadata": {},
   "outputs": [
    {
     "name": "stdout",
     "output_type": "stream",
     "text": [
      "(4999, 160, 160, 3) float32\n",
      "(4999, 23) int32\n",
      "(4999, 4) float64\n",
      "4999\n"
     ]
    }
   ],
   "source": [
    "x = np.array(dataset.images)\n",
    "mrks = np.array(dataset.mrks)\n",
    "y_reqs = np.array([mrk_file.photo_reqs.values() for mrk_file in mrks])\n",
    "y_eyes = np.array([mrk_file.right_eye.center().as_list() + mrk_file.left_eye.center().as_list() for mrk_file in mrks])\n",
    "\n",
    "print(x.shape, x.dtype)\n",
    "print(y_reqs.shape, y_reqs.dtype)\n",
    "print(y_eyes.shape, y_eyes.dtype)\n",
    "print(len(mrks))"
   ]
  },
  {
   "cell_type": "code",
   "execution_count": 6,
   "id": "83d2d81b",
   "metadata": {},
   "outputs": [],
   "source": [
    "x /= 255\n",
    "y_eyes /= x.shape[1]"
   ]
  },
  {
   "cell_type": "code",
   "execution_count": 7,
   "id": "b0a60673",
   "metadata": {},
   "outputs": [
    {
     "name": "stdout",
     "output_type": "stream",
     "text": [
      "(509, 160, 160, 3) (509, 23) (509, 4)\n"
     ]
    }
   ],
   "source": [
    "np.random.seed(RANDOM_SEED)\n",
    "TEST_SIZE = 0.1\n",
    "\n",
    "_, _, x_val_idx, y_val_reqs = iterative_train_test_split(\n",
    "    np.arange(x.shape[0]).reshape(-1, 1),\n",
    "    y_reqs,\n",
    "    test_size=TEST_SIZE\n",
    ")\n",
    "x_val_idx = x_val_idx.ravel()\n",
    "x_val = x[x_val_idx]\n",
    "y_val_eyes = y_eyes[x_val_idx]\n",
    "\n",
    "print(x_val.shape, y_val_reqs.shape, y_val_eyes.shape)"
   ]
  },
  {
   "cell_type": "code",
   "execution_count": 8,
   "id": "f3e0321b",
   "metadata": {},
   "outputs": [
    {
     "name": "stdout",
     "output_type": "stream",
     "text": [
      "WARNING:tensorflow:From C:\\Users\\arnal\\Miniconda3\\envs\\dl-gpu\\lib\\site-packages\\tensorflow\\python\\ops\\resource_variable_ops.py:435: colocate_with (from tensorflow.python.framework.ops) is deprecated and will be removed in a future version.\n",
      "Instructions for updating:\n",
      "Colocations handled automatically by placer.\n",
      "../../data/cropped_faces/images/afwDB_0.png\n",
      "1 of 1\r"
     ]
    },
    {
     "name": "stderr",
     "output_type": "stream",
     "text": [
      "C:\\Users\\arnal\\Miniconda3\\envs\\dl-gpu\\lib\\site-packages\\keras\\engine\\saving.py:341: UserWarning: No training configuration found in save file: the model was *not* compiled. Compile it manually.\n",
      "  warnings.warn('No training configuration found in save file: '\n"
     ]
    },
    {
     "name": "stdout",
     "output_type": "stream",
     "text": [
      "\n",
      "Reqs:\n",
      "0.6480921\n",
      "0.9347415\n",
      "0.9957387\n",
      "0.08281675\n",
      "0.991169\n",
      "0.9998725\n",
      "0.97726715\n",
      "0.27883765\n",
      "0.96358013\n",
      "0.053408027\n",
      "0.20580027\n",
      "0.14253017\n",
      "0.9828384\n",
      "0.471276\n",
      "0.8292505\n",
      "0.99030715\n",
      "0.7546116\n",
      "0.9796297\n",
      "0.89305204\n",
      "0.6584904\n",
      "0.9751569\n",
      "0.827954\n",
      "0.9905076\n",
      "\n",
      "Eyes:\n",
      "0.42364126\n",
      "0.449199\n",
      "0.578478\n",
      "0.44857737\n"
     ]
    }
   ],
   "source": [
    "model = load_model(FILE_MODEL)\n",
    "\n",
    "list_files = [PATH_TO_ROOT + 'data/cropped_faces/images/afwDB_0.png']\n",
    "random_file = np.random.choice(list_files)\n",
    "print(random_file)\n",
    "\n",
    "im = load.images_from_list_files([random_file], output_size=IMAGE_SIZE, interpolation=cv2.INTER_AREA)\n",
    "im /= 255\n",
    "\n",
    "y_pred_clf, y_pred_reg = model.predict(im)\n",
    "\n",
    "print(\"Reqs:\")\n",
    "for y_pred in y_pred_clf[0]:\n",
    "    print(y_pred)\n",
    "\n",
    "print(\"\\nEyes:\")\n",
    "for y_pred in y_pred_reg[0]:\n",
    "    print(y_pred)"
   ]
  },
  {
   "cell_type": "code",
   "execution_count": 9,
   "id": "fdaf6a47",
   "metadata": {},
   "outputs": [],
   "source": [
    "_, y_pred_eyes = model.predict(x_val)"
   ]
  },
  {
   "cell_type": "code",
   "execution_count": 10,
   "id": "67c66e95",
   "metadata": {},
   "outputs": [
    {
     "name": "stdout",
     "output_type": "stream",
     "text": [
      "0.4263261296660118\n",
      "0.48722986247544203\n",
      "0.07072691552062868\n",
      "0.0\n"
     ]
    }
   ],
   "source": [
    "d_eye_1 = eye_localization_accuracy(y_val_eyes, y_pred_eyes, max_threshold=0.1)\n",
    "d_eye_1_2 = eye_localization_accuracy(y_val_eyes, y_pred_eyes, min_threshold=0.1, max_threshold=0.2)\n",
    "d_eye_2_3 = eye_localization_accuracy(y_val_eyes, y_pred_eyes, min_threshold=0.2, max_threshold=0.3)\n",
    "d_eye_3 = eye_localization_accuracy(y_val_eyes, y_pred_eyes, min_threshold=0.3)\n",
    "\n",
    "print(d_eye_1.eval(session=sess))\n",
    "print(d_eye_1_2.eval(session=sess))\n",
    "print(d_eye_2_3.eval(session=sess))\n",
    "print(d_eye_3.eval(session=sess))"
   ]
  },
  {
   "cell_type": "markdown",
   "id": "97b6c77e",
   "metadata": {},
   "source": [
    "#  Error Analysis"
   ]
  },
  {
   "cell_type": "markdown",
   "id": "70465cc1",
   "metadata": {},
   "source": [
    "### Images with worst `d_eyes`"
   ]
  },
  {
   "cell_type": "code",
   "execution_count": 11,
   "id": "1ba68b86",
   "metadata": {},
   "outputs": [],
   "source": [
    "FOLDER_OUTPUT = \"error_analysis\""
   ]
  },
  {
   "cell_type": "code",
   "execution_count": 12,
   "id": "421c19be",
   "metadata": {},
   "outputs": [
    {
     "name": "stdout",
     "output_type": "stream",
     "text": [
      "0.01748566682929265 0.4645883515093726\n"
     ]
    }
   ],
   "source": [
    "d_eyes = eye_localization_fvc(y_val_eyes, y_pred_eyes).eval(session=sess)\n",
    "print(d_eyes.min(), d_eyes.max())"
   ]
  },
  {
   "cell_type": "code",
   "execution_count": 13,
   "id": "2c504a32",
   "metadata": {},
   "outputs": [],
   "source": [
    "d_eyes_argsort = np.argsort(d_eyes)\n",
    "\n",
    "worst_indices = d_eyes_argsort[-30:]\n",
    "filenames = np.array(dataset.image_files)[x_val_idx]\n",
    "\n",
    "for index in worst_indices:\n",
    "    im = (x_val[index] * 255).astype(np.uint8)\n",
    "    y_true = y_val_eyes[index] * IMAGE_SIZE[0]\n",
    "    y_pred = y_pred_eyes[index] * IMAGE_SIZE[0]\n",
    "    d_eye = d_eyes[index]\n",
    "    \n",
    "    true_r = tuple(y_true[:2].astype(np.int))\n",
    "    true_l = tuple(y_true[2:].astype(np.int))\n",
    "    pred_r = tuple(y_pred[:2].astype(np.int))\n",
    "    pred_l = tuple(y_pred[2:].astype(np.int))\n",
    "    cv2.circle(im, true_r, radius=0, color=(0, 255, 0))\n",
    "    cv2.circle(im, true_l, radius=0, color=(0, 255, 0))\n",
    "    cv2.circle(im, pred_r, radius=0, color=(255, 255, 0))\n",
    "    cv2.circle(im, pred_l, radius=0, color=(255, 255, 0))\n",
    "    \n",
    "    cv2.imwrite(join(FOLDER_OUTPUT, f\"{np.round(d_eye, 3):.3f}.png\"), im)"
   ]
  },
  {
   "cell_type": "markdown",
   "id": "6503bf45",
   "metadata": {},
   "source": [
    "# Heatmap of Eye's predictions "
   ]
  },
  {
   "cell_type": "code",
   "execution_count": 89,
   "id": "1f8af158",
   "metadata": {},
   "outputs": [],
   "source": [
    "def heatmap(y_pred):\n",
    "    y_pred = (y_pred * IMAGE_SIZE[0]).astype(np.uint)\n",
    "    im = np.zeros(IMAGE_SIZE)\n",
    "    \n",
    "    for xl, yl, xr, yr in y_pred:\n",
    "        im[yl, xl] += 1\n",
    "        im[yr, xr] += 1\n",
    "    return im"
   ]
  },
  {
   "cell_type": "code",
   "execution_count": 95,
   "id": "4eea3702",
   "metadata": {},
   "outputs": [
    {
     "name": "stderr",
     "output_type": "stream",
     "text": [
      "C:\\Users\\arnal\\Miniconda3\\envs\\dl-gpu\\lib\\site-packages\\keras\\engine\\saving.py:341: UserWarning: No training configuration found in save file: the model was *not* compiled. Compile it manually.\n",
      "  warnings.warn('No training configuration found in save file: '\n"
     ]
    }
   ],
   "source": [
    "FILE_MODEL = FILE_MODEL = join(FOLDER_MODELS, 'model_2022_08_06-11_38_47.h5')\n",
    "\n",
    "model = load_model(FILE_MODEL)"
   ]
  },
  {
   "cell_type": "code",
   "execution_count": 96,
   "id": "b0cf934b",
   "metadata": {},
   "outputs": [
    {
     "data": {
      "text/plain": [
       "array([[0.42533278, 0.45768124, 0.5762939 , 0.45392954],\n",
       "       [0.42573524, 0.45227724, 0.5744512 , 0.44815603],\n",
       "       [0.42006063, 0.45833614, 0.56966835, 0.45283583],\n",
       "       ...,\n",
       "       [0.42096362, 0.45062664, 0.5702216 , 0.4467097 ],\n",
       "       [0.41828883, 0.4406848 , 0.5740653 , 0.43589523],\n",
       "       [0.42004097, 0.44625118, 0.5771619 , 0.44308105]], dtype=float32)"
      ]
     },
     "execution_count": 96,
     "metadata": {},
     "output_type": "execute_result"
    }
   ],
   "source": [
    "_, y_pred_eyes = model.predict(x_val)\n",
    "y_pred_eyes"
   ]
  },
  {
   "cell_type": "code",
   "execution_count": 97,
   "id": "56463364",
   "metadata": {},
   "outputs": [
    {
     "data": {
      "text/plain": [
       "<matplotlib.image.AxesImage at 0x159754d3908>"
      ]
     },
     "execution_count": 97,
     "metadata": {},
     "output_type": "execute_result"
    },
    {
     "data": {
      "image/png": "[encoded data removed]",
      "text/plain": [
       "<Figure size 720x720 with 1 Axes>"
      ]
     },
     "metadata": {
      "needs_background": "light"
     },
     "output_type": "display_data"
    }
   ],
   "source": [
    "im_heatmap = heatmap(y_pred_eyes)\n",
    "\n",
    "plt.figure(figsize=(10, 10))\n",
    "plt.imshow(im_heatmap, cmap=\"Blues\")"
   ]
  },
  {
   "cell_type": "code",
   "execution_count": 98,
   "id": "dc6692e1",
   "metadata": {},
   "outputs": [
    {
     "name": "stdout",
     "output_type": "stream",
     "text": [
      "[67.16502947 73.26522593]\n",
      "[92.77013752 72.81335953]\n"
     ]
    }
   ],
   "source": [
    "y_pred = (y_pred_eyes * IMAGE_SIZE[0]).astype(np.uint)\n",
    "print(y_pred[:, :2].mean(axis=0))\n",
    "print(y_pred[:, 2:].mean(axis=0))"
   ]
  },
  {
   "cell_type": "code",
   "execution_count": 99,
   "id": "d546679d",
   "metadata": {},
   "outputs": [
    {
     "data": {
      "text/html": [
       "<div>\n",
       "<style scoped>\n",
       "    .dataframe tbody tr th:only-of-type {\n",
       "        vertical-align: middle;\n",
       "    }\n",
       "\n",
       "    .dataframe tbody tr th {\n",
       "        vertical-align: top;\n",
       "    }\n",
       "\n",
       "    .dataframe thead th {\n",
       "        text-align: right;\n",
       "    }\n",
       "</style>\n",
       "<table border=\"1\" class=\"dataframe\">\n",
       "  <thead>\n",
       "    <tr style=\"text-align: right;\">\n",
       "      <th></th>\n",
       "      <th>pixel_left</th>\n",
       "      <th>n_left</th>\n",
       "      <th>pixel_right</th>\n",
       "      <th>n_right</th>\n",
       "    </tr>\n",
       "  </thead>\n",
       "  <tbody>\n",
       "    <tr>\n",
       "      <th>0</th>\n",
       "      <td>(67, 72)</td>\n",
       "      <td>138</td>\n",
       "      <td>(92, 72)</td>\n",
       "      <td>144</td>\n",
       "    </tr>\n",
       "    <tr>\n",
       "      <th>1</th>\n",
       "      <td>(68, 72)</td>\n",
       "      <td>92</td>\n",
       "      <td>(92, 71)</td>\n",
       "      <td>71</td>\n",
       "    </tr>\n",
       "    <tr>\n",
       "      <th>2</th>\n",
       "      <td>(66, 78)</td>\n",
       "      <td>69</td>\n",
       "      <td>(96, 78)</td>\n",
       "      <td>64</td>\n",
       "    </tr>\n",
       "    <tr>\n",
       "      <th>3</th>\n",
       "      <td>(68, 73)</td>\n",
       "      <td>50</td>\n",
       "      <td>(93, 72)</td>\n",
       "      <td>34</td>\n",
       "    </tr>\n",
       "    <tr>\n",
       "      <th>4</th>\n",
       "      <td>(67, 73)</td>\n",
       "      <td>35</td>\n",
       "      <td>(91, 72)</td>\n",
       "      <td>28</td>\n",
       "    </tr>\n",
       "    <tr>\n",
       "      <th>5</th>\n",
       "      <td>(67, 71)</td>\n",
       "      <td>32</td>\n",
       "      <td>(93, 71)</td>\n",
       "      <td>19</td>\n",
       "    </tr>\n",
       "    <tr>\n",
       "      <th>6</th>\n",
       "      <td>(66, 79)</td>\n",
       "      <td>15</td>\n",
       "      <td>(96, 77)</td>\n",
       "      <td>18</td>\n",
       "    </tr>\n",
       "    <tr>\n",
       "      <th>7</th>\n",
       "      <td>(68, 71)</td>\n",
       "      <td>12</td>\n",
       "      <td>(92, 73)</td>\n",
       "      <td>17</td>\n",
       "    </tr>\n",
       "    <tr>\n",
       "      <th>8</th>\n",
       "      <td>(68, 74)</td>\n",
       "      <td>12</td>\n",
       "      <td>(91, 71)</td>\n",
       "      <td>16</td>\n",
       "    </tr>\n",
       "    <tr>\n",
       "      <th>9</th>\n",
       "      <td>(66, 72)</td>\n",
       "      <td>10</td>\n",
       "      <td>(90, 71)</td>\n",
       "      <td>14</td>\n",
       "    </tr>\n",
       "  </tbody>\n",
       "</table>\n",
       "</div>"
      ],
      "text/plain": [
       "  pixel_left  n_left pixel_right  n_right\n",
       "0   (67, 72)     138    (92, 72)      144\n",
       "1   (68, 72)      92    (92, 71)       71\n",
       "2   (66, 78)      69    (96, 78)       64\n",
       "3   (68, 73)      50    (93, 72)       34\n",
       "4   (67, 73)      35    (91, 72)       28\n",
       "5   (67, 71)      32    (93, 71)       19\n",
       "6   (66, 79)      15    (96, 77)       18\n",
       "7   (68, 71)      12    (92, 73)       17\n",
       "8   (68, 74)      12    (91, 71)       16\n",
       "9   (66, 72)      10    (90, 71)       14"
      ]
     },
     "execution_count": 99,
     "metadata": {},
     "output_type": "execute_result"
    }
   ],
   "source": [
    "import pandas as pd\n",
    "from collections import Counter, defaultdict\n",
    "\n",
    "count_left = defaultdict(int)\n",
    "count_right = defaultdict(int)\n",
    "for xl, yl, xr, yr in y_pred:\n",
    "    count_left[(xl, yl)] += 1\n",
    "    count_right[(xr, yr)] += 1\n",
    "    \n",
    "df_left = pd.DataFrame(Counter(count_left).most_common(n=10), columns=[\"pixel_left\", \"n_left\"])\n",
    "df_right = pd.DataFrame(Counter(count_right).most_common(n=10), columns=[\"pixel_right\", \"n_right\"])\n",
    "pd.concat([df_left, df_right], axis=1)"
   ]
  },
  {
   "cell_type": "code",
   "execution_count": null,
   "id": "b9e988c3",
   "metadata": {},
   "outputs": [],
   "source": []
  }
 ],
 "metadata": {
  "kernelspec": {
   "display_name": "Python 3 (ipykernel)",
   "language": "python",
   "name": "python3"
  },
  "language_info": {
   "codemirror_mode": {
    "name": "ipython",
    "version": 3
   },
   "file_extension": ".py",
   "mimetype": "text/x-python",
   "name": "python",
   "nbconvert_exporter": "python",
   "pygments_lexer": "ipython3",
   "version": "3.7.10"
  }
 },
 "nbformat": 4,
 "nbformat_minor": 5
}
