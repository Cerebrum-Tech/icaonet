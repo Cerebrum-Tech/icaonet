{
 "cells": [
  {
   "cell_type": "markdown",
   "id": "bf127dbf",
   "metadata": {},
   "source": [
    "# Dependencies"
   ]
  },
  {
   "cell_type": "code",
   "execution_count": 1,
   "id": "4f3634f3",
   "metadata": {},
   "outputs": [],
   "source": [
    "from sys import path\n",
    "path.append('../../src/')\n",
    "\n",
    "import cv2\n",
    "import pickle as pkl\n",
    "from os.path import join, exists\n",
    "from sys import stdout\n",
    "\n",
    "import numpy as np\n",
    "import matplotlib.pyplot as plt\n",
    "import tensorflow as tf\n",
    "\n",
    "from icao_dataset import ICAODataset\n",
    "from utils import load\n",
    "from data_structures import Point, Rect"
   ]
  },
  {
   "cell_type": "code",
   "execution_count": 2,
   "id": "a4fccd2e",
   "metadata": {},
   "outputs": [
    {
     "name": "stdout",
     "output_type": "stream",
     "text": [
      "../..\\data/cropped_faces/dataset.pkl\n"
     ]
    }
   ],
   "source": [
    "PATH_TO_ROOT = \"../..\"\n",
    "\n",
    "FILE_DATASET = join(PATH_TO_ROOT, 'data/cropped_faces/dataset.pkl')\n",
    "\n",
    "print(FILE_DATASET)"
   ]
  },
  {
   "cell_type": "markdown",
   "id": "710643fa",
   "metadata": {},
   "source": [
    "# Data Loading "
   ]
  },
  {
   "cell_type": "code",
   "execution_count": 3,
   "id": "9cc457bc",
   "metadata": {},
   "outputs": [],
   "source": [
    "dataset = pkl.load(open(FILE_DATASET, \"rb\"))"
   ]
  },
  {
   "cell_type": "code",
   "execution_count": 4,
   "id": "746cfe23",
   "metadata": {},
   "outputs": [],
   "source": [
    "def get_patch(im, size=160):\n",
    "    half_size = size // 2\n",
    "    im_h, im_w = im.shape[:2]\n",
    "    center_face = Point(im_w // 2, im_h // 2)\n",
    "    \n",
    "    left = abs(min(0, center_face.x - half_size))\n",
    "    top = abs(min(0, center_face.y - half_size))\n",
    "    right = max(0, (center_face.x + half_size) - im_w)\n",
    "    bottom = max(0, (center_face.y + half_size) - im_h)\n",
    "    \n",
    "    im_res = cv2.copyMakeBorder(im, top, bottom, left, right, cv2.BORDER_CONSTANT, value=0)\n",
    "    return im_res[\n",
    "        center_face.y - half_size:center_face.y + half_size,\n",
    "        center_face.x - half_size:center_face.x + half_size,\n",
    "    ]"
   ]
  },
  {
   "cell_type": "code",
   "execution_count": 5,
   "id": "113d2a43",
   "metadata": {},
   "outputs": [
    {
     "name": "stdout",
     "output_type": "stream",
     "text": [
      "5731 of 5731\r"
     ]
    }
   ],
   "source": [
    "N_FILES = len(dataset.image_files)\n",
    "\n",
    "new_dataset = ICAODataset()\n",
    "for i, (file, _, mrk) in enumerate(dataset):\n",
    "    print(f\"{i + 1} of {N_FILES}\", end=\"\\r\")\n",
    "    stdout.flush()\n",
    "    \n",
    "    im = cv2.imread(join(\"..\", file), cv2.IMREAD_COLOR)\n",
    "    im = get_patch(im)\n",
    "    \n",
    "    if len(im) == 0:\n",
    "        continue\n",
    "\n",
    "    new_dataset.image_files.append(file)\n",
    "    new_dataset.images.append(im)\n",
    "    new_dataset.mrks.append(mrk)"
   ]
  },
  {
   "cell_type": "code",
   "execution_count": 6,
   "id": "1cb576a6",
   "metadata": {},
   "outputs": [],
   "source": [
    "FILE_DATASET = join(PATH_TO_ROOT, \"data/pixelation/dataset.pkl\")\n",
    "pkl.dump(dataset, open(FILE_DATASET, \"wb\"), protocol=4)"
   ]
  },
  {
   "cell_type": "code",
   "execution_count": 7,
   "id": "0c755352",
   "metadata": {},
   "outputs": [
    {
     "name": "stdout",
     "output_type": "stream",
     "text": [
      "5730 of 5730\r"
     ]
    }
   ],
   "source": [
    "new_dataset.save(\n",
    "    folder_images=join(PATH_TO_ROOT, \"data/pixelation/images\"),\n",
    "    folder_mrks=join(PATH_TO_ROOT, \"data/pixelation/ground_truth\"),\n",
    ")"
   ]
  }
 ],
 "metadata": {
  "kernelspec": {
   "display_name": "Python 3 (ipykernel)",
   "language": "python",
   "name": "python3"
  },
  "language_info": {
   "codemirror_mode": {
    "name": "ipython",
    "version": 3
   },
   "file_extension": ".py",
   "mimetype": "text/x-python",
   "name": "python",
   "nbconvert_exporter": "python",
   "pygments_lexer": "ipython3",
   "version": "3.7.10"
  }
 },
 "nbformat": 4,
 "nbformat_minor": 5
}
