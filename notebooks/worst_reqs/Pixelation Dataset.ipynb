{
 "cells": [
  {
   "cell_type": "markdown",
   "id": "bf127dbf",
   "metadata": {},
   "source": [
    "# Dependencies"
   ]
  },
  {
   "cell_type": "code",
   "execution_count": 1,
   "id": "4f3634f3",
   "metadata": {},
   "outputs": [],
   "source": [
    "from sys import path\n",
    "path.append('../../src/')\n",
    "\n",
    "import cv2\n",
    "import pickle as pkl\n",
    "from os.path import join, exists\n",
    "from sys import stdout\n",
    "\n",
    "import numpy as np\n",
    "import matplotlib.pyplot as plt\n",
    "import tensorflow as tf\n",
    "\n",
    "from icao_dataset import ICAODataset\n",
    "from utils import load\n",
    "from data_structures import Point, Rect"
   ]
  },
  {
   "cell_type": "code",
   "execution_count": 2,
   "id": "a4fccd2e",
   "metadata": {},
   "outputs": [
    {
     "name": "stdout",
     "output_type": "stream",
     "text": [
      "../..\\data/cropped_faces/dataset.pkl\n"
     ]
    }
   ],
   "source": [
    "PATH_TO_ROOT = \"../..\"\n",
    "\n",
    "FILE_DATASET = join(PATH_TO_ROOT, 'data/cropped_faces/dataset.pkl')\n",
    "\n",
    "print(FILE_DATASET)"
   ]
  },
  {
   "cell_type": "markdown",
   "id": "710643fa",
   "metadata": {},
   "source": [
    "# Data Loading "
   ]
  },
  {
   "cell_type": "code",
   "execution_count": 3,
   "id": "9cc457bc",
   "metadata": {},
   "outputs": [],
   "source": [
    "dataset = pkl.load(open(FILE_DATASET, \"rb\"))"
   ]
  },
  {
   "cell_type": "code",
   "execution_count": 4,
   "id": "746cfe23",
   "metadata": {},
   "outputs": [],
   "source": [
    "def get_patch(im, size=160):\n",
    "    half_size = size // 2\n",
    "    im_h, im_w = im.shape[:2]\n",
    "    center_face = Point(im_w // 2, im_h // 2)\n",
    "    \n",
    "    left = abs(min(0, center_face.x - half_size))\n",
    "    top = abs(min(0, center_face.y - half_size))\n",
    "    right = max(0, (center_face.x + half_size) - im_w)\n",
    "    bottom = max(0, (center_face.y + half_size) - im_h)\n",
    "    \n",
    "    im_res = cv2.copyMakeBorder(im, top, bottom, left, right, cv2.BORDER_CONSTANT, value=0)\n",
    "\n",
    "    random = lambda: np.random.choice(half_size)\n",
    "    left = max(0, center_face.x - random())\n",
    "    top = max(0, center_face.y - random())\n",
    "    right = left + size\n",
    "    bottom = top + size\n",
    "    \n",
    "    return im_res[top:bottom, left:right]"
   ]
  },
  {
   "cell_type": "code",
   "execution_count": 5,
   "id": "113d2a43",
   "metadata": {},
   "outputs": [
    {
     "name": "stdout",
     "output_type": "stream",
     "text": [
      "5731 of 5731\r"
     ]
    }
   ],
   "source": [
    "N_FILES = len(dataset.image_files)\n",
    "N_PATCH_NON_COMPLIANT = 10\n",
    "\n",
    "new_dataset = ICAODataset()\n",
    "for i, (file, _, mrk) in enumerate(dataset):\n",
    "    print(f\"{i + 1} of {N_FILES}\", end=\"\\r\")\n",
    "    stdout.flush()\n",
    "    \n",
    "    im = cv2.imread(join(\"..\", file), cv2.IMREAD_COLOR)\n",
    "    if len(im) == 0:\n",
    "        continue\n",
    "\n",
    "    is_compliant = mrk.photo_reqs.pixelation.is_compliant()\n",
    "    n_patches = 1 if is_compliant else N_PATCH_NON_COMPLIANT\n",
    "    list_patches = [get_patch(im) for _ in range(n_patches)]\n",
    "\n",
    "    for patch in list_patches:\n",
    "        if len(patch) == 0 or patch.shape != (160, 160, 3):\n",
    "            continue\n",
    "        new_dataset.image_files.append(file)\n",
    "        new_dataset.images.append(patch)\n",
    "        new_dataset.mrks.append(mrk)"
   ]
  },
  {
   "cell_type": "code",
   "execution_count": 6,
   "id": "d6c5bf13",
   "metadata": {},
   "outputs": [
    {
     "data": {
      "text/plain": [
       "(array([0, 1]), array([3700, 5360], dtype=int64))"
      ]
     },
     "execution_count": 6,
     "metadata": {},
     "output_type": "execute_result"
    }
   ],
   "source": [
    "dist = [mrk.photo_reqs.pixelation.value for _, _, mrk in new_dataset]\n",
    "np.unique(dist, return_counts=True)"
   ]
  },
  {
   "cell_type": "code",
   "execution_count": 7,
   "id": "1cb576a6",
   "metadata": {},
   "outputs": [],
   "source": [
    "FILE_DATASET = join(PATH_TO_ROOT, \"data/pixelation/dataset.pkl\")\n",
    "pkl.dump(new_dataset, open(FILE_DATASET, \"wb\"), protocol=4)"
   ]
  },
  {
   "cell_type": "code",
   "execution_count": null,
   "id": "0c755352",
   "metadata": {},
   "outputs": [],
   "source": [
    "new_dataset.save(\n",
    "    folder_images=join(PATH_TO_ROOT, \"data/pixelation/images\"),\n",
    "    folder_mrks=join(PATH_TO_ROOT, \"data/pixelation/ground_truth\"),\n",
    ")"
   ]
  }
 ],
 "metadata": {
  "kernelspec": {
   "display_name": "Python 3 (ipykernel)",
   "language": "python",
   "name": "python3"
  },
  "language_info": {
   "codemirror_mode": {
    "name": "ipython",
    "version": 3
   },
   "file_extension": ".py",
   "mimetype": "text/x-python",
   "name": "python",
   "nbconvert_exporter": "python",
   "pygments_lexer": "ipython3",
   "version": "3.7.10"
  }
 },
 "nbformat": 4,
 "nbformat_minor": 5
}
