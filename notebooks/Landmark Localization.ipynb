{
 "cells": [
  {
   "cell_type": "code",
   "execution_count": 41,
   "id": "614180d5",
   "metadata": {},
   "outputs": [],
   "source": [
    "import sys\n",
    "sys.path.append(\"../src\")\n",
    "\n",
    "import cv2\n",
    "import numpy as np\n",
    "import pickle as pkl\n",
    "import matplotlib.pyplot as plt\n",
    "from os.path import join\n",
    "\n",
    "from keras.models import Sequential\n",
    "from keras.layers import Conv2D, MaxPool2D, Dense, Dropout, GlobalAvgPool2D\n",
    "from keras.callbacks import EarlyStopping, ModelCheckpoint\n",
    "from sklearn.model_selection import train_test_split\n",
    "\n",
    "from icao_dataset import ICAODataset\n",
    "from utils import plot, load\n",
    "\n",
    "from global_config import FILE_DATASET, IMAGE_SIZE, RANDOM_SEED\n",
    "\n",
    "%matplotlib inline"
   ]
  },
  {
   "cell_type": "code",
   "execution_count": 2,
   "id": "6e6690a3",
   "metadata": {},
   "outputs": [
    {
     "name": "stdout",
     "output_type": "stream",
     "text": [
      "..\\data/cropped_faces_eyes/dataset_dlib.pkl\n",
      "..\\models/landmarks/\n"
     ]
    }
   ],
   "source": [
    "PATH_TO_ROOT = \"..\"\n",
    "\n",
    "FILE_DATASET = join(PATH_TO_ROOT, FILE_DATASET)\n",
    "FOLDER_MODELS = join(PATH_TO_ROOT, \"models/landmarks/\")\n",
    "\n",
    "print(FILE_DATASET)\n",
    "print(FOLDER_MODELS)"
   ]
  },
  {
   "cell_type": "code",
   "execution_count": 3,
   "id": "23f34995",
   "metadata": {},
   "outputs": [],
   "source": [
    "TEST_SIZE = 0.1"
   ]
  },
  {
   "cell_type": "code",
   "execution_count": 4,
   "id": "293ab902",
   "metadata": {},
   "outputs": [],
   "source": [
    "def timestamp_model_name(prefix='model_', suffix='', format='%Y_%m_%d-%H_%M_%S', ext='.h5'):\n",
    "    from datetime import datetime\n",
    "    timestamp = datetime.now().strftime(format)\n",
    "    return f'{prefix}{timestamp}{suffix}{ext}'\n",
    "\n",
    "\n",
    "def set_random_seeds():\n",
    "    os.environ['PYTHONHASHSEED'] = str(RANDOM_SEED)\n",
    "    rn.seed(RANDOM_SEED)\n",
    "    np.random.seed(RANDOM_SEED)\n",
    "    tf.set_random_seed(RANDOM_SEED)"
   ]
  },
  {
   "cell_type": "markdown",
   "id": "a22cfd8e",
   "metadata": {},
   "source": [
    "# Data Loading "
   ]
  },
  {
   "cell_type": "code",
   "execution_count": 5,
   "id": "9ad3e061",
   "metadata": {
    "scrolled": true
   },
   "outputs": [
    {
     "name": "stdout",
     "output_type": "stream",
     "text": [
      "5572\n"
     ]
    }
   ],
   "source": [
    "dataset = pkl.load(open(FILE_DATASET, \"rb\"))\n",
    "print(len(dataset.images))"
   ]
  },
  {
   "cell_type": "code",
   "execution_count": 6,
   "id": "b203daf6",
   "metadata": {},
   "outputs": [
    {
     "name": "stdout",
     "output_type": "stream",
     "text": [
      "(5572, 160, 160, 3) float32\n",
      "(5572, 4) float64\n",
      "5572\n"
     ]
    }
   ],
   "source": [
    "x = np.array(dataset.images)\n",
    "mrks = dataset.mrks\n",
    "y = np.array([mrk_file.right_eye.center().as_list() + mrk_file.left_eye.center().as_list() for mrk_file in mrks])\n",
    "\n",
    "print(x.shape, x.dtype)\n",
    "print(y.shape, y.dtype)\n",
    "print(len(mrks))"
   ]
  },
  {
   "cell_type": "code",
   "execution_count": 7,
   "id": "003d109c",
   "metadata": {},
   "outputs": [
    {
     "name": "stdout",
     "output_type": "stream",
     "text": [
      "(5014, 160, 160, 3) float32\n",
      "(558, 160, 160, 3) float32\n",
      "(5014, 4) float64\n",
      "(558, 4) float64\n"
     ]
    }
   ],
   "source": [
    "x_train, x_test, y_train, y_test = train_test_split(x, y, test_size=0.1, random_state=RANDOM_SEED)\n",
    "\n",
    "print(x_train.shape, x_train.dtype)\n",
    "print(x_test.shape, x_test.dtype)\n",
    "print(y_train.shape, y_train.dtype)\n",
    "print(y_test.shape, y_test.dtype)"
   ]
  },
  {
   "cell_type": "code",
   "execution_count": 10,
   "id": "36088402",
   "metadata": {
    "scrolled": false
   },
   "outputs": [
    {
     "name": "stdout",
     "output_type": "stream",
     "text": [
      "Model: \"sequential_3\"\n",
      "_________________________________________________________________\n",
      "Layer (type)                 Output Shape              Param #   \n",
      "=================================================================\n",
      "conv2d_9 (Conv2D)            (None, 160, 160, 16)      448       \n",
      "_________________________________________________________________\n",
      "max_pooling2d_9 (MaxPooling2 (None, 80, 80, 16)        0         \n",
      "_________________________________________________________________\n",
      "conv2d_10 (Conv2D)           (None, 80, 80, 32)        4640      \n",
      "_________________________________________________________________\n",
      "max_pooling2d_10 (MaxPooling (None, 40, 40, 32)        0         \n",
      "_________________________________________________________________\n",
      "conv2d_11 (Conv2D)           (None, 40, 40, 64)        18496     \n",
      "_________________________________________________________________\n",
      "max_pooling2d_11 (MaxPooling (None, 20, 20, 64)        0         \n",
      "_________________________________________________________________\n",
      "conv2d_12 (Conv2D)           (None, 20, 20, 128)       73856     \n",
      "_________________________________________________________________\n",
      "max_pooling2d_12 (MaxPooling (None, 10, 10, 128)       0         \n",
      "_________________________________________________________________\n",
      "global_average_pooling2d_3 ( (None, 128)               0         \n",
      "_________________________________________________________________\n",
      "dropout_5 (Dropout)          (None, 128)               0         \n",
      "_________________________________________________________________\n",
      "dense_7 (Dense)              (None, 64)                8256      \n",
      "_________________________________________________________________\n",
      "dropout_6 (Dropout)          (None, 64)                0         \n",
      "_________________________________________________________________\n",
      "dense_8 (Dense)              (None, 64)                4160      \n",
      "_________________________________________________________________\n",
      "output_eyes (Dense)          (None, 4)                 260       \n",
      "=================================================================\n",
      "Total params: 110,116\n",
      "Trainable params: 110,116\n",
      "Non-trainable params: 0\n",
      "_________________________________________________________________\n",
      "Train on 5014 samples, validate on 558 samples\n",
      "Epoch 1/100\n",
      "5014/5014 [==============================] - 8s 1ms/step - loss: 6.8022e-04 - val_loss: 3.6672e-04\n",
      "\n",
      "Epoch 00001: val_loss improved from inf to 0.00037, saving model to ..\\models/landmarks/landmarks_2022_06_04-15_18_46.h5\n",
      "Epoch 2/100\n",
      "5014/5014 [==============================] - 7s 1ms/step - loss: 3.5765e-04 - val_loss: 3.4213e-04\n",
      "\n",
      "Epoch 00002: val_loss improved from 0.00037 to 0.00034, saving model to ..\\models/landmarks/landmarks_2022_06_04-15_18_46.h5\n",
      "Epoch 3/100\n",
      "5014/5014 [==============================] - 7s 1ms/step - loss: 3.2917e-04 - val_loss: 3.2438e-04\n",
      "\n",
      "Epoch 00003: val_loss improved from 0.00034 to 0.00032, saving model to ..\\models/landmarks/landmarks_2022_06_04-15_18_46.h5\n",
      "Epoch 4/100\n",
      "5014/5014 [==============================] - 7s 1ms/step - loss: 3.2301e-04 - val_loss: 3.1950e-04\n",
      "\n",
      "Epoch 00004: val_loss improved from 0.00032 to 0.00032, saving model to ..\\models/landmarks/landmarks_2022_06_04-15_18_46.h5\n",
      "Epoch 5/100\n",
      "5014/5014 [==============================] - 7s 1ms/step - loss: 3.2172e-04 - val_loss: 3.1969e-04\n",
      "\n",
      "Epoch 00005: val_loss did not improve from 0.00032\n",
      "Epoch 6/100\n",
      "5014/5014 [==============================] - 7s 1ms/step - loss: 3.1671e-04 - val_loss: 3.1770e-04\n",
      "\n",
      "Epoch 00006: val_loss improved from 0.00032 to 0.00032, saving model to ..\\models/landmarks/landmarks_2022_06_04-15_18_46.h5\n",
      "Epoch 7/100\n",
      "5014/5014 [==============================] - 7s 1ms/step - loss: 3.1763e-04 - val_loss: 3.1773e-04\n",
      "\n",
      "Epoch 00007: val_loss did not improve from 0.00032\n",
      "Epoch 8/100\n",
      "5014/5014 [==============================] - 7s 1ms/step - loss: 3.1507e-04 - val_loss: 3.1601e-04\n",
      "\n",
      "Epoch 00008: val_loss improved from 0.00032 to 0.00032, saving model to ..\\models/landmarks/landmarks_2022_06_04-15_18_46.h5\n",
      "Epoch 9/100\n",
      "5014/5014 [==============================] - 7s 1ms/step - loss: 3.1266e-04 - val_loss: 3.0816e-04\n",
      "\n",
      "Epoch 00009: val_loss improved from 0.00032 to 0.00031, saving model to ..\\models/landmarks/landmarks_2022_06_04-15_18_46.h5\n",
      "Epoch 10/100\n",
      "5014/5014 [==============================] - 7s 1ms/step - loss: 3.0857e-04 - val_loss: 3.1251e-04\n",
      "\n",
      "Epoch 00010: val_loss did not improve from 0.00031\n",
      "Epoch 11/100\n",
      "5014/5014 [==============================] - 7s 1ms/step - loss: 3.0759e-04 - val_loss: 3.1150e-04\n",
      "\n",
      "Epoch 00011: val_loss did not improve from 0.00031\n",
      "Epoch 12/100\n",
      "5014/5014 [==============================] - 7s 1ms/step - loss: 3.0615e-04 - val_loss: 3.1008e-04\n",
      "\n",
      "Epoch 00012: val_loss did not improve from 0.00031\n",
      "Epoch 13/100\n",
      "5014/5014 [==============================] - 7s 1ms/step - loss: 3.0710e-04 - val_loss: 3.0772e-04\n",
      "\n",
      "Epoch 00013: val_loss improved from 0.00031 to 0.00031, saving model to ..\\models/landmarks/landmarks_2022_06_04-15_18_46.h5\n",
      "Epoch 14/100\n",
      "5014/5014 [==============================] - 7s 1ms/step - loss: 3.0602e-04 - val_loss: 3.0578e-04\n",
      "\n",
      "Epoch 00014: val_loss improved from 0.00031 to 0.00031, saving model to ..\\models/landmarks/landmarks_2022_06_04-15_18_46.h5\n",
      "Epoch 15/100\n",
      "5014/5014 [==============================] - 7s 1ms/step - loss: 3.0455e-04 - val_loss: 3.0027e-04\n",
      "\n",
      "Epoch 00015: val_loss improved from 0.00031 to 0.00030, saving model to ..\\models/landmarks/landmarks_2022_06_04-15_18_46.h5\n",
      "Epoch 16/100\n",
      "5014/5014 [==============================] - 7s 1ms/step - loss: 3.0394e-04 - val_loss: 3.0238e-04\n",
      "\n",
      "Epoch 00016: val_loss did not improve from 0.00030\n",
      "Epoch 17/100\n",
      "5014/5014 [==============================] - 7s 1ms/step - loss: 3.0484e-04 - val_loss: 3.0328e-04\n",
      "\n",
      "Epoch 00017: val_loss did not improve from 0.00030\n",
      "Epoch 18/100\n",
      "5014/5014 [==============================] - 7s 1ms/step - loss: 3.0059e-04 - val_loss: 3.0577e-04\n",
      "\n",
      "Epoch 00018: val_loss did not improve from 0.00030\n",
      "Epoch 19/100\n",
      "5014/5014 [==============================] - 7s 1ms/step - loss: 2.9871e-04 - val_loss: 3.0062e-04\n",
      "\n",
      "Epoch 00019: val_loss did not improve from 0.00030\n",
      "Epoch 20/100\n",
      "5014/5014 [==============================] - 7s 1ms/step - loss: 2.9713e-04 - val_loss: 3.0330e-04\n",
      "\n",
      "Epoch 00020: val_loss did not improve from 0.00030\n",
      "Epoch 21/100\n",
      "5014/5014 [==============================] - 7s 1ms/step - loss: 2.9643e-04 - val_loss: 3.1311e-04\n",
      "\n",
      "Epoch 00021: val_loss did not improve from 0.00030\n",
      "Epoch 22/100\n",
      "5014/5014 [==============================] - 7s 1ms/step - loss: 2.9703e-04 - val_loss: 3.0703e-04\n",
      "\n",
      "Epoch 00022: val_loss did not improve from 0.00030\n",
      "Epoch 23/100\n",
      "5014/5014 [==============================] - 7s 1ms/step - loss: 2.9354e-04 - val_loss: 2.9969e-04\n",
      "\n",
      "Epoch 00023: val_loss improved from 0.00030 to 0.00030, saving model to ..\\models/landmarks/landmarks_2022_06_04-15_18_46.h5\n",
      "Epoch 24/100\n",
      "5014/5014 [==============================] - 7s 1ms/step - loss: 2.9269e-04 - val_loss: 2.9743e-04\n",
      "\n",
      "Epoch 00024: val_loss improved from 0.00030 to 0.00030, saving model to ..\\models/landmarks/landmarks_2022_06_04-15_18_46.h5\n",
      "Epoch 25/100\n",
      "5014/5014 [==============================] - 7s 1ms/step - loss: 2.9265e-04 - val_loss: 2.9787e-04\n",
      "\n",
      "Epoch 00025: val_loss did not improve from 0.00030\n",
      "Epoch 26/100\n",
      "5014/5014 [==============================] - 7s 1ms/step - loss: 2.9278e-04 - val_loss: 2.9828e-04\n",
      "\n",
      "Epoch 00026: val_loss did not improve from 0.00030\n",
      "Epoch 27/100\n",
      "5014/5014 [==============================] - 7s 1ms/step - loss: 2.9086e-04 - val_loss: 3.1266e-04\n",
      "\n",
      "Epoch 00027: val_loss did not improve from 0.00030\n",
      "Epoch 28/100\n",
      "5014/5014 [==============================] - 7s 1ms/step - loss: 2.8888e-04 - val_loss: 2.9673e-04\n",
      "\n",
      "Epoch 00028: val_loss improved from 0.00030 to 0.00030, saving model to ..\\models/landmarks/landmarks_2022_06_04-15_18_46.h5\n",
      "Epoch 29/100\n",
      "5014/5014 [==============================] - 7s 1ms/step - loss: 2.9047e-04 - val_loss: 2.9769e-04\n",
      "\n",
      "Epoch 00029: val_loss did not improve from 0.00030\n",
      "Epoch 30/100\n",
      "5014/5014 [==============================] - 7s 1ms/step - loss: 2.8826e-04 - val_loss: 2.9902e-04\n",
      "\n",
      "Epoch 00030: val_loss did not improve from 0.00030\n",
      "Epoch 31/100\n"
     ]
    },
    {
     "name": "stdout",
     "output_type": "stream",
     "text": [
      "5014/5014 [==============================] - 7s 1ms/step - loss: 2.8688e-04 - val_loss: 2.9251e-04\n",
      "\n",
      "Epoch 00031: val_loss improved from 0.00030 to 0.00029, saving model to ..\\models/landmarks/landmarks_2022_06_04-15_18_46.h5\n",
      "Epoch 32/100\n",
      "5014/5014 [==============================] - 7s 1ms/step - loss: 2.8622e-04 - val_loss: 2.9151e-04\n",
      "\n",
      "Epoch 00032: val_loss improved from 0.00029 to 0.00029, saving model to ..\\models/landmarks/landmarks_2022_06_04-15_18_46.h5\n",
      "Epoch 33/100\n",
      "5014/5014 [==============================] - 7s 1ms/step - loss: 2.8726e-04 - val_loss: 2.9072e-04\n",
      "\n",
      "Epoch 00033: val_loss improved from 0.00029 to 0.00029, saving model to ..\\models/landmarks/landmarks_2022_06_04-15_18_46.h5\n",
      "Epoch 34/100\n",
      "5014/5014 [==============================] - 7s 1ms/step - loss: 2.8524e-04 - val_loss: 2.8926e-04\n",
      "\n",
      "Epoch 00034: val_loss improved from 0.00029 to 0.00029, saving model to ..\\models/landmarks/landmarks_2022_06_04-15_18_46.h5\n",
      "Epoch 35/100\n",
      "5014/5014 [==============================] - 7s 1ms/step - loss: 2.8291e-04 - val_loss: 2.9279e-04\n",
      "\n",
      "Epoch 00035: val_loss did not improve from 0.00029\n",
      "Epoch 36/100\n",
      "5014/5014 [==============================] - 7s 1ms/step - loss: 2.7858e-04 - val_loss: 2.8578e-04\n",
      "\n",
      "Epoch 00036: val_loss improved from 0.00029 to 0.00029, saving model to ..\\models/landmarks/landmarks_2022_06_04-15_18_46.h5\n",
      "Epoch 37/100\n",
      "5014/5014 [==============================] - 7s 1ms/step - loss: 2.8068e-04 - val_loss: 2.8648e-04\n",
      "\n",
      "Epoch 00037: val_loss did not improve from 0.00029\n",
      "Epoch 38/100\n",
      "5014/5014 [==============================] - 7s 1ms/step - loss: 2.7997e-04 - val_loss: 2.8636e-04\n",
      "\n",
      "Epoch 00038: val_loss did not improve from 0.00029\n",
      "Epoch 39/100\n",
      "5014/5014 [==============================] - 7s 1ms/step - loss: 2.7527e-04 - val_loss: 2.7829e-04\n",
      "\n",
      "Epoch 00039: val_loss improved from 0.00029 to 0.00028, saving model to ..\\models/landmarks/landmarks_2022_06_04-15_18_46.h5\n",
      "Epoch 40/100\n",
      "5014/5014 [==============================] - 7s 1ms/step - loss: 2.7433e-04 - val_loss: 2.8138e-04\n",
      "\n",
      "Epoch 00040: val_loss did not improve from 0.00028\n",
      "Epoch 41/100\n",
      "5014/5014 [==============================] - 7s 1ms/step - loss: 2.7109e-04 - val_loss: 2.7435e-04\n",
      "\n",
      "Epoch 00041: val_loss improved from 0.00028 to 0.00027, saving model to ..\\models/landmarks/landmarks_2022_06_04-15_18_46.h5\n",
      "Epoch 42/100\n",
      "5014/5014 [==============================] - 7s 1ms/step - loss: 2.6965e-04 - val_loss: 2.8382e-04\n",
      "\n",
      "Epoch 00042: val_loss did not improve from 0.00027\n",
      "Epoch 43/100\n",
      "5014/5014 [==============================] - 7s 1ms/step - loss: 2.6963e-04 - val_loss: 2.7835e-04\n",
      "\n",
      "Epoch 00043: val_loss did not improve from 0.00027\n",
      "Epoch 44/100\n",
      "5014/5014 [==============================] - 7s 1ms/step - loss: 2.6857e-04 - val_loss: 2.7561e-04\n",
      "\n",
      "Epoch 00044: val_loss did not improve from 0.00027\n",
      "Epoch 45/100\n",
      "5014/5014 [==============================] - 7s 1ms/step - loss: 2.6477e-04 - val_loss: 2.7063e-04\n",
      "\n",
      "Epoch 00045: val_loss improved from 0.00027 to 0.00027, saving model to ..\\models/landmarks/landmarks_2022_06_04-15_18_46.h5\n",
      "Epoch 46/100\n",
      "5014/5014 [==============================] - 7s 1ms/step - loss: 2.6010e-04 - val_loss: 2.7088e-04\n",
      "\n",
      "Epoch 00046: val_loss did not improve from 0.00027\n",
      "Epoch 47/100\n",
      "5014/5014 [==============================] - 7s 1ms/step - loss: 2.6083e-04 - val_loss: 2.6763e-04\n",
      "\n",
      "Epoch 00047: val_loss improved from 0.00027 to 0.00027, saving model to ..\\models/landmarks/landmarks_2022_06_04-15_18_46.h5\n",
      "Epoch 48/100\n",
      "5014/5014 [==============================] - 7s 1ms/step - loss: 2.5555e-04 - val_loss: 2.5834e-04\n",
      "\n",
      "Epoch 00048: val_loss improved from 0.00027 to 0.00026, saving model to ..\\models/landmarks/landmarks_2022_06_04-15_18_46.h5\n",
      "Epoch 49/100\n",
      "5014/5014 [==============================] - 7s 1ms/step - loss: 2.5249e-04 - val_loss: 2.5970e-04\n",
      "\n",
      "Epoch 00049: val_loss did not improve from 0.00026\n",
      "Epoch 50/100\n",
      "5014/5014 [==============================] - 7s 1ms/step - loss: 2.5163e-04 - val_loss: 2.7176e-04\n",
      "\n",
      "Epoch 00050: val_loss did not improve from 0.00026\n",
      "Epoch 51/100\n",
      "5014/5014 [==============================] - 7s 1ms/step - loss: 2.5218e-04 - val_loss: 2.5840e-04\n",
      "\n",
      "Epoch 00051: val_loss did not improve from 0.00026\n",
      "Epoch 52/100\n",
      "5014/5014 [==============================] - 7s 1ms/step - loss: 2.5153e-04 - val_loss: 2.5115e-04\n",
      "\n",
      "Epoch 00052: val_loss improved from 0.00026 to 0.00025, saving model to ..\\models/landmarks/landmarks_2022_06_04-15_18_46.h5\n",
      "Epoch 53/100\n",
      "5014/5014 [==============================] - 7s 1ms/step - loss: 2.4734e-04 - val_loss: 2.5974e-04\n",
      "\n",
      "Epoch 00053: val_loss did not improve from 0.00025\n",
      "Epoch 54/100\n",
      "5014/5014 [==============================] - 7s 1ms/step - loss: 2.4487e-04 - val_loss: 2.5850e-04\n",
      "\n",
      "Epoch 00054: val_loss did not improve from 0.00025\n",
      "Epoch 55/100\n",
      "5014/5014 [==============================] - 7s 1ms/step - loss: 2.4811e-04 - val_loss: 2.5922e-04\n",
      "\n",
      "Epoch 00055: val_loss did not improve from 0.00025\n",
      "Epoch 56/100\n",
      "5014/5014 [==============================] - 7s 1ms/step - loss: 2.4523e-04 - val_loss: 2.6385e-04\n",
      "\n",
      "Epoch 00056: val_loss did not improve from 0.00025\n",
      "Epoch 57/100\n",
      "5014/5014 [==============================] - 7s 1ms/step - loss: 2.4375e-04 - val_loss: 2.5273e-04\n",
      "\n",
      "Epoch 00057: val_loss did not improve from 0.00025\n",
      "Epoch 58/100\n",
      "5014/5014 [==============================] - 7s 1ms/step - loss: 2.4427e-04 - val_loss: 2.5486e-04\n",
      "\n",
      "Epoch 00058: val_loss did not improve from 0.00025\n",
      "Epoch 59/100\n",
      "5014/5014 [==============================] - 7s 1ms/step - loss: 2.4361e-04 - val_loss: 2.4904e-04\n",
      "\n",
      "Epoch 00059: val_loss improved from 0.00025 to 0.00025, saving model to ..\\models/landmarks/landmarks_2022_06_04-15_18_46.h5\n",
      "Epoch 60/100\n",
      "5014/5014 [==============================] - 7s 1ms/step - loss: 2.4246e-04 - val_loss: 2.4650e-04\n",
      "\n",
      "Epoch 00060: val_loss improved from 0.00025 to 0.00025, saving model to ..\\models/landmarks/landmarks_2022_06_04-15_18_46.h5\n",
      "Epoch 61/100\n",
      "5014/5014 [==============================] - 7s 1ms/step - loss: 2.3704e-04 - val_loss: 2.4886e-04\n",
      "\n",
      "Epoch 00061: val_loss did not improve from 0.00025\n",
      "Epoch 62/100\n",
      "5014/5014 [==============================] - 7s 1ms/step - loss: 2.3667e-04 - val_loss: 2.6603e-04\n",
      "\n",
      "Epoch 00062: val_loss did not improve from 0.00025\n",
      "Epoch 63/100\n",
      "5014/5014 [==============================] - 7s 1ms/step - loss: 2.3715e-04 - val_loss: 2.5357e-04\n",
      "\n",
      "Epoch 00063: val_loss did not improve from 0.00025\n",
      "Epoch 64/100\n",
      "5014/5014 [==============================] - 7s 1ms/step - loss: 2.3439e-04 - val_loss: 2.5009e-04\n",
      "\n",
      "Epoch 00064: val_loss did not improve from 0.00025\n",
      "Epoch 65/100\n",
      "5014/5014 [==============================] - 7s 1ms/step - loss: 2.3470e-04 - val_loss: 2.5673e-04\n",
      "\n",
      "Epoch 00065: val_loss did not improve from 0.00025\n",
      "Epoch 66/100\n",
      "5014/5014 [==============================] - 7s 1ms/step - loss: 2.3359e-04 - val_loss: 2.4784e-04\n",
      "\n",
      "Epoch 00066: val_loss did not improve from 0.00025\n",
      "Epoch 67/100\n",
      "5014/5014 [==============================] - 7s 1ms/step - loss: 2.2952e-04 - val_loss: 2.5206e-04\n",
      "\n",
      "Epoch 00067: val_loss did not improve from 0.00025\n",
      "Epoch 68/100\n",
      "5014/5014 [==============================] - 7s 1ms/step - loss: 2.3169e-04 - val_loss: 2.4612e-04\n",
      "\n",
      "Epoch 00068: val_loss improved from 0.00025 to 0.00025, saving model to ..\\models/landmarks/landmarks_2022_06_04-15_18_46.h5\n",
      "Epoch 69/100\n",
      "5014/5014 [==============================] - 7s 1ms/step - loss: 2.3043e-04 - val_loss: 2.4733e-04\n",
      "\n",
      "Epoch 00069: val_loss did not improve from 0.00025\n",
      "Epoch 70/100\n",
      "5014/5014 [==============================] - 7s 1ms/step - loss: 2.2830e-04 - val_loss: 2.4559e-04\n",
      "\n",
      "Epoch 00070: val_loss improved from 0.00025 to 0.00025, saving model to ..\\models/landmarks/landmarks_2022_06_04-15_18_46.h5\n",
      "Epoch 71/100\n",
      "5014/5014 [==============================] - 7s 1ms/step - loss: 2.2541e-04 - val_loss: 2.3628e-04\n",
      "\n",
      "Epoch 00071: val_loss improved from 0.00025 to 0.00024, saving model to ..\\models/landmarks/landmarks_2022_06_04-15_18_46.h5\n",
      "Epoch 72/100\n",
      "5014/5014 [==============================] - 7s 1ms/step - loss: 2.2454e-04 - val_loss: 2.4267e-04\n",
      "\n",
      "Epoch 00072: val_loss did not improve from 0.00024\n",
      "Epoch 73/100\n",
      "5014/5014 [==============================] - 7s 1ms/step - loss: 2.2348e-04 - val_loss: 2.4132e-04\n",
      "\n",
      "Epoch 00073: val_loss did not improve from 0.00024\n",
      "Epoch 74/100\n"
     ]
    },
    {
     "name": "stdout",
     "output_type": "stream",
     "text": [
      "5014/5014 [==============================] - 7s 1ms/step - loss: 2.2207e-04 - val_loss: 2.5545e-04\n",
      "\n",
      "Epoch 00074: val_loss did not improve from 0.00024\n",
      "Epoch 75/100\n",
      "5014/5014 [==============================] - 7s 1ms/step - loss: 2.2169e-04 - val_loss: 2.4236e-04\n",
      "\n",
      "Epoch 00075: val_loss did not improve from 0.00024\n",
      "Epoch 76/100\n",
      "5014/5014 [==============================] - 7s 1ms/step - loss: 2.1681e-04 - val_loss: 2.4172e-04\n",
      "\n",
      "Epoch 00076: val_loss did not improve from 0.00024\n",
      "Epoch 77/100\n",
      "5014/5014 [==============================] - 7s 1ms/step - loss: 2.1521e-04 - val_loss: 2.4166e-04\n",
      "\n",
      "Epoch 00077: val_loss did not improve from 0.00024\n",
      "Epoch 78/100\n",
      "5014/5014 [==============================] - 7s 1ms/step - loss: 2.1398e-04 - val_loss: 2.3308e-04\n",
      "\n",
      "Epoch 00078: val_loss improved from 0.00024 to 0.00023, saving model to ..\\models/landmarks/landmarks_2022_06_04-15_18_46.h5\n",
      "Epoch 79/100\n",
      "5014/5014 [==============================] - 7s 1ms/step - loss: 2.1273e-04 - val_loss: 2.3752e-04\n",
      "\n",
      "Epoch 00079: val_loss did not improve from 0.00023\n",
      "Epoch 80/100\n",
      "5014/5014 [==============================] - 7s 1ms/step - loss: 2.0789e-04 - val_loss: 2.4009e-04\n",
      "\n",
      "Epoch 00080: val_loss did not improve from 0.00023\n",
      "Epoch 81/100\n",
      "5014/5014 [==============================] - 7s 1ms/step - loss: 2.0386e-04 - val_loss: 2.4597e-04\n",
      "\n",
      "Epoch 00081: val_loss did not improve from 0.00023\n",
      "Epoch 82/100\n",
      "5014/5014 [==============================] - 7s 1ms/step - loss: 2.0362e-04 - val_loss: 2.3272e-04\n",
      "\n",
      "Epoch 00082: val_loss improved from 0.00023 to 0.00023, saving model to ..\\models/landmarks/landmarks_2022_06_04-15_18_46.h5\n",
      "Epoch 83/100\n",
      "5014/5014 [==============================] - 7s 1ms/step - loss: 2.0054e-04 - val_loss: 2.3060e-04\n",
      "\n",
      "Epoch 00083: val_loss improved from 0.00023 to 0.00023, saving model to ..\\models/landmarks/landmarks_2022_06_04-15_18_46.h5\n",
      "Epoch 84/100\n",
      "5014/5014 [==============================] - 7s 1ms/step - loss: 1.9944e-04 - val_loss: 2.2940e-04\n",
      "\n",
      "Epoch 00084: val_loss improved from 0.00023 to 0.00023, saving model to ..\\models/landmarks/landmarks_2022_06_04-15_18_46.h5\n",
      "Epoch 85/100\n",
      "5014/5014 [==============================] - 7s 1ms/step - loss: 1.9354e-04 - val_loss: 2.2967e-04\n",
      "\n",
      "Epoch 00085: val_loss did not improve from 0.00023\n",
      "Epoch 86/100\n",
      "5014/5014 [==============================] - 7s 1ms/step - loss: 1.9006e-04 - val_loss: 2.1967e-04\n",
      "\n",
      "Epoch 00086: val_loss improved from 0.00023 to 0.00022, saving model to ..\\models/landmarks/landmarks_2022_06_04-15_18_46.h5\n",
      "Epoch 87/100\n",
      "5014/5014 [==============================] - 7s 1ms/step - loss: 1.9308e-04 - val_loss: 2.3187e-04\n",
      "\n",
      "Epoch 00087: val_loss did not improve from 0.00022\n",
      "Epoch 88/100\n",
      "5014/5014 [==============================] - 7s 1ms/step - loss: 1.8582e-04 - val_loss: 2.2019e-04\n",
      "\n",
      "Epoch 00088: val_loss did not improve from 0.00022\n",
      "Epoch 89/100\n",
      "5014/5014 [==============================] - 7s 1ms/step - loss: 1.8421e-04 - val_loss: 2.1385e-04\n",
      "\n",
      "Epoch 00089: val_loss improved from 0.00022 to 0.00021, saving model to ..\\models/landmarks/landmarks_2022_06_04-15_18_46.h5\n",
      "Epoch 90/100\n",
      "5014/5014 [==============================] - 7s 1ms/step - loss: 1.8316e-04 - val_loss: 2.1616e-04\n",
      "\n",
      "Epoch 00090: val_loss did not improve from 0.00021\n",
      "Epoch 91/100\n",
      "5014/5014 [==============================] - 7s 1ms/step - loss: 1.7819e-04 - val_loss: 2.1130e-04\n",
      "\n",
      "Epoch 00091: val_loss improved from 0.00021 to 0.00021, saving model to ..\\models/landmarks/landmarks_2022_06_04-15_18_46.h5\n",
      "Epoch 92/100\n",
      "5014/5014 [==============================] - 7s 1ms/step - loss: 1.7801e-04 - val_loss: 2.0942e-04\n",
      "\n",
      "Epoch 00092: val_loss improved from 0.00021 to 0.00021, saving model to ..\\models/landmarks/landmarks_2022_06_04-15_18_46.h5\n",
      "Epoch 93/100\n",
      "5014/5014 [==============================] - 7s 1ms/step - loss: 1.7511e-04 - val_loss: 2.2432e-04\n",
      "\n",
      "Epoch 00093: val_loss did not improve from 0.00021\n",
      "Epoch 94/100\n",
      "5014/5014 [==============================] - 7s 1ms/step - loss: 1.7110e-04 - val_loss: 2.0772e-04\n",
      "\n",
      "Epoch 00094: val_loss improved from 0.00021 to 0.00021, saving model to ..\\models/landmarks/landmarks_2022_06_04-15_18_46.h5\n",
      "Epoch 95/100\n",
      "5014/5014 [==============================] - 7s 1ms/step - loss: 1.7026e-04 - val_loss: 2.0660e-04\n",
      "\n",
      "Epoch 00095: val_loss improved from 0.00021 to 0.00021, saving model to ..\\models/landmarks/landmarks_2022_06_04-15_18_46.h5\n",
      "Epoch 96/100\n",
      "5014/5014 [==============================] - 7s 1ms/step - loss: 1.6489e-04 - val_loss: 2.0725e-04\n",
      "\n",
      "Epoch 00096: val_loss did not improve from 0.00021\n",
      "Epoch 97/100\n",
      "5014/5014 [==============================] - 7s 1ms/step - loss: 1.6576e-04 - val_loss: 2.0833e-04\n",
      "\n",
      "Epoch 00097: val_loss did not improve from 0.00021\n",
      "Epoch 98/100\n",
      "5014/5014 [==============================] - 7s 1ms/step - loss: 1.6450e-04 - val_loss: 2.1385e-04\n",
      "\n",
      "Epoch 00098: val_loss did not improve from 0.00021\n",
      "Epoch 99/100\n",
      "5014/5014 [==============================] - 7s 1ms/step - loss: 1.6224e-04 - val_loss: 2.0642e-04\n",
      "\n",
      "Epoch 00099: val_loss improved from 0.00021 to 0.00021, saving model to ..\\models/landmarks/landmarks_2022_06_04-15_18_46.h5\n",
      "Epoch 100/100\n",
      "5014/5014 [==============================] - 7s 1ms/step - loss: 1.5672e-04 - val_loss: 2.0964e-04\n",
      "\n",
      "Epoch 00100: val_loss did not improve from 0.00021\n"
     ]
    }
   ],
   "source": [
    "model = Sequential([\n",
    "    Conv2D(16, (3, 3), padding=\"same\", activation=\"relu\", input_shape=x_train.shape[1:]), # name=\"input\"\n",
    "    MaxPool2D(),\n",
    "    Conv2D(32, (3, 3), padding=\"same\", activation=\"relu\"),\n",
    "    MaxPool2D(),\n",
    "    Conv2D(64, (3, 3), padding=\"same\", activation=\"relu\"),\n",
    "    MaxPool2D(),\n",
    "    Conv2D(128, (3, 3), padding=\"same\", activation=\"relu\"),\n",
    "    MaxPool2D(),\n",
    "    GlobalAvgPool2D(),\n",
    "    Dropout(rate=0.5),\n",
    "    Dense(units=64, activation=\"relu\"),\n",
    "    Dropout(rate=0.5),\n",
    "    Dense(units=64, activation=\"relu\"),\n",
    "    Dense(units=4, activation=\"sigmoid\", name=\"output_eyes\"),\n",
    "])\n",
    "model.summary()\n",
    "\n",
    "model.compile(optimizer=\"adam\", loss=\"mean_squared_error\")\n",
    "\n",
    "FILE_MODEL = FOLDER_MODELS + timestamp_model_name(prefix=\"landmarks_\")\n",
    "list_callbacks = [\n",
    "    ModelCheckpoint(FILE_MODEL, monitor=\"val_loss\", mode=\"min\", verbose=1, save_best_only=True), \n",
    "    EarlyStopping(monitor=\"val_loss\", mode=\"min\", patience=30, verbose=1, restore_best_weights=True)\n",
    "]\n",
    "\n",
    "hist = model.fit(\n",
    "    x=x_train / 255,\n",
    "    y=y_train / IMAGE_SIZE[0],\n",
    "    validation_data=(x_test / 255, y_test / IMAGE_SIZE[0]),\n",
    "    batch_size=32,\n",
    "    epochs=100,\n",
    "    callbacks=list_callbacks,\n",
    ")"
   ]
  },
  {
   "cell_type": "code",
   "execution_count": 12,
   "id": "fdf4cb47",
   "metadata": {},
   "outputs": [
    {
     "data": {
      "image/png": "[encoded data removed]",
      "text/plain": [
       "<Figure size 864x288 with 1 Axes>"
      ]
     },
     "metadata": {
      "needs_background": "light"
     },
     "output_type": "display_data"
    }
   ],
   "source": [
    "plot.keras_hist(hist.history)"
   ]
  },
  {
   "cell_type": "code",
   "execution_count": 14,
   "id": "3b4ff401",
   "metadata": {},
   "outputs": [],
   "source": [
    "y_pred = model.predict(x_test / 255)"
   ]
  },
  {
   "cell_type": "code",
   "execution_count": 15,
   "id": "c321503a",
   "metadata": {},
   "outputs": [
    {
     "data": {
      "text/plain": [
       "array([[0.42519692, 0.4449388 , 0.5840342 , 0.44299522],\n",
       "       [0.4199348 , 0.48820087, 0.60437655, 0.48668477],\n",
       "       [0.420547  , 0.47893998, 0.59783876, 0.47634095],\n",
       "       ...,\n",
       "       [0.4259341 , 0.44852328, 0.58162427, 0.4464519 ],\n",
       "       [0.42588946, 0.46475297, 0.5743954 , 0.46032056],\n",
       "       [0.4185085 , 0.43851495, 0.5783862 , 0.4354308 ]], dtype=float32)"
      ]
     },
     "execution_count": 15,
     "metadata": {},
     "output_type": "execute_result"
    }
   ],
   "source": [
    "y_pred"
   ]
  },
  {
   "cell_type": "code",
   "execution_count": 17,
   "id": "edf2a7fa",
   "metadata": {},
   "outputs": [
    {
     "data": {
      "text/plain": [
       "array([[0.40625 , 0.4625  , 0.56875 , 0.459375],\n",
       "       [0.428125, 0.509375, 0.609375, 0.509375],\n",
       "       [0.4125  , 0.484375, 0.59375 , 0.484375],\n",
       "       ...,\n",
       "       [0.434375, 0.415625, 0.6     , 0.434375],\n",
       "       [0.440625, 0.471875, 0.578125, 0.459375],\n",
       "       [0.4375  , 0.453125, 0.6     , 0.44375 ]])"
      ]
     },
     "execution_count": 17,
     "metadata": {},
     "output_type": "execute_result"
    }
   ],
   "source": [
    "y_test / IMAGE_SIZE[0]"
   ]
  },
  {
   "cell_type": "code",
   "execution_count": 18,
   "id": "29daa6cb",
   "metadata": {},
   "outputs": [
    {
     "data": {
      "text/plain": [
       "array([[68.03151 , 71.19021 , 93.44547 , 70.879234],\n",
       "       [67.18957 , 78.11214 , 96.70025 , 77.86956 ],\n",
       "       [67.28752 , 76.630394, 95.654205, 76.214554],\n",
       "       ...,\n",
       "       [68.14946 , 71.763725, 93.05988 , 71.432304],\n",
       "       [68.14231 , 74.36047 , 91.90327 , 73.65129 ],\n",
       "       [66.96136 , 70.16239 , 92.541794, 69.66893 ]], dtype=float32)"
      ]
     },
     "execution_count": 18,
     "metadata": {},
     "output_type": "execute_result"
    }
   ],
   "source": [
    "y_pred * IMAGE_SIZE[0]"
   ]
  },
  {
   "cell_type": "code",
   "execution_count": 20,
   "id": "85a2d474",
   "metadata": {},
   "outputs": [
    {
     "data": {
      "text/plain": [
       "array([[65. , 74. , 91. , 73.5],\n",
       "       [68.5, 81.5, 97.5, 81.5],\n",
       "       [66. , 77.5, 95. , 77.5],\n",
       "       ...,\n",
       "       [69.5, 66.5, 96. , 69.5],\n",
       "       [70.5, 75.5, 92.5, 73.5],\n",
       "       [70. , 72.5, 96. , 71. ]])"
      ]
     },
     "execution_count": 20,
     "metadata": {},
     "output_type": "execute_result"
    }
   ],
   "source": [
    "y_test"
   ]
  },
  {
   "cell_type": "code",
   "execution_count": 21,
   "id": "80bf228e",
   "metadata": {},
   "outputs": [
    {
     "data": {
      "text/plain": [
       "array([67.92452 , 72.16027 , 93.094025, 71.78851 ], dtype=float32)"
      ]
     },
     "execution_count": 21,
     "metadata": {},
     "output_type": "execute_result"
    }
   ],
   "source": [
    "(y_pred * IMAGE_SIZE[0]).mean(axis=0)"
   ]
  },
  {
   "cell_type": "code",
   "execution_count": 22,
   "id": "8c4da964",
   "metadata": {},
   "outputs": [
    {
     "data": {
      "text/plain": [
       "array([68.23476703, 72.49193548, 92.77150538, 72.23655914])"
      ]
     },
     "execution_count": 22,
     "metadata": {},
     "output_type": "execute_result"
    }
   ],
   "source": [
    "y_test.mean(axis=0)"
   ]
  },
  {
   "cell_type": "code",
   "execution_count": 39,
   "id": "5590c2bc",
   "metadata": {},
   "outputs": [
    {
     "name": "stdout",
     "output_type": "stream",
     "text": [
      "[69.5 66.5 93.  68.5]\n",
      "[66.1947   65.2036   92.889336 65.039406]\n"
     ]
    },
    {
     "data": {
      "text/plain": [
       "Text(0.5, 1.0, 'original image')"
      ]
     },
     "execution_count": 39,
     "metadata": {},
     "output_type": "execute_result"
    },
    {
     "data": {
      "image/png": "[encoded data removed]",
      "text/plain": [
       "<Figure size 720x288 with 1 Axes>"
      ]
     },
     "metadata": {
      "needs_background": "light"
     },
     "output_type": "display_data"
    }
   ],
   "source": [
    "random_idx = np.random.choice(x_test.shape[0])\n",
    "im = np.expand_dims(x_test[random_idx], axis=0)\n",
    "y_true_eyes = y_test[random_idx]\n",
    "\n",
    "y_pred_eyes = model.predict(im / 255)\n",
    "y_pred_eyes = (y_pred_eyes * im.shape[1]).flatten()\n",
    "\n",
    "print(y_true_eyes, y_pred_eyes, sep='\\n')\n",
    "\n",
    "im = im.squeeze()[:, :, ::-1].astype(np.uint8)\n",
    "true_r = tuple(y_true_eyes[:2].astype(np.int))\n",
    "true_l = tuple(y_true_eyes[2:].astype(np.int))\n",
    "pred_r = tuple(y_pred_eyes[:2].astype(np.int))\n",
    "pred_l = tuple(y_pred_eyes[2:].astype(np.int))\n",
    "cv2.circle(im, true_r, radius=1, color=(0, 255, 0), thickness=2)\n",
    "cv2.circle(im, true_l, radius=1, color=(0, 255, 0), thickness=2)\n",
    "cv2.circle(im, pred_r, radius=1, color=(255, 255, 0), thickness=2)\n",
    "cv2.circle(im, pred_l, radius=1, color=(255, 255, 0), thickness=2)\n",
    "\n",
    "plt.figure(figsize=(10, 4))\n",
    "plt.imshow(im)\n",
    "plt.title('original image')"
   ]
  },
  {
   "cell_type": "code",
   "execution_count": 40,
   "id": "f237b56d",
   "metadata": {},
   "outputs": [
    {
     "data": {
      "text/plain": [
       "'..\\\\models/landmarks/landmarks_2022_06_04-15_18_46.h5'"
      ]
     },
     "execution_count": 40,
     "metadata": {},
     "output_type": "execute_result"
    }
   ],
   "source": [
    "FILE_MODEL"
   ]
  },
  {
   "cell_type": "code",
   "execution_count": 48,
   "id": "eb0bdf02",
   "metadata": {},
   "outputs": [
    {
     "name": "stdout",
     "output_type": "stream",
     "text": [
      "1 of 1\n"
     ]
    },
    {
     "data": {
      "text/plain": [
       "array([[0.44194162, 0.44742066, 0.5984565 , 0.44950888]], dtype=float32)"
      ]
     },
     "execution_count": 48,
     "metadata": {},
     "output_type": "execute_result"
    }
   ],
   "source": [
    "list_files = [PATH_TO_ROOT + '/data/cropped_faces_eyes/images/afwDB_0.png']\n",
    "\n",
    "im = load.images_from_list_files(list_files, output_size=IMAGE_SIZE, interpolation=cv2.INTER_AREA)\n",
    "\n",
    "model.predict(im / 255)"
   ]
  },
  {
   "cell_type": "code",
   "execution_count": 49,
   "id": "7bf06497",
   "metadata": {},
   "outputs": [
    {
     "name": "stdout",
     "output_type": "stream",
     "text": [
      "1 of 1\n"
     ]
    },
    {
     "data": {
      "text/plain": [
       "array([[0.44211754, 0.4474577 , 0.59861106, 0.4495935 ]], dtype=float32)"
      ]
     },
     "execution_count": 49,
     "metadata": {},
     "output_type": "execute_result"
    }
   ],
   "source": [
    "list_files = [PATH_TO_ROOT + '/data/cropped_faces/images/afwDB_0.png']\n",
    "\n",
    "im = load.images_from_list_files(list_files, output_size=IMAGE_SIZE, interpolation=cv2.INTER_AREA)\n",
    "\n",
    "model.predict(im / 255)"
   ]
  },
  {
   "cell_type": "code",
   "execution_count": null,
   "id": "d9f03d23",
   "metadata": {},
   "outputs": [],
   "source": []
  }
 ],
 "metadata": {
  "kernelspec": {
   "display_name": "Python 3 (ipykernel)",
   "language": "python",
   "name": "python3"
  },
  "language_info": {
   "codemirror_mode": {
    "name": "ipython",
    "version": 3
   },
   "file_extension": ".py",
   "mimetype": "text/x-python",
   "name": "python",
   "nbconvert_exporter": "python",
   "pygments_lexer": "ipython3",
   "version": "3.7.10"
  }
 },
 "nbformat": 4,
 "nbformat_minor": 5
}
