{
 "cells": [
  {
   "cell_type": "markdown",
   "metadata": {},
   "source": [
    "# Dependencies "
   ]
  },
  {
   "cell_type": "code",
   "execution_count": 1,
   "metadata": {},
   "outputs": [
    {
     "name": "stderr",
     "output_type": "stream",
     "text": [
      "C:\\Users\\arnal\\Miniconda3\\envs\\dl-gpu\\lib\\site-packages\\tensorflow\\python\\util\\nest.py:823: DeprecationWarning: Using or importing the ABCs from 'collections' instead of from 'collections.abc' is deprecated since Python 3.3,and in 3.9 it will stop working\n",
      "  _pywrap_tensorflow.RegisterType(\"Mapping\", _collections.Mapping)\n",
      "C:\\Users\\arnal\\Miniconda3\\envs\\dl-gpu\\lib\\site-packages\\tensorflow\\python\\training\\checkpointable\\data_structures.py:312: DeprecationWarning: Using or importing the ABCs from 'collections' instead of from 'collections.abc' is deprecated since Python 3.3,and in 3.9 it will stop working\n",
      "  class _ListWrapper(List, collections.MutableSequence,\n",
      "C:\\Users\\arnal\\Miniconda3\\envs\\dl-gpu\\lib\\site-packages\\tensorflow\\python\\training\\checkpointable\\util.py:448: DeprecationWarning: Using or importing the ABCs from 'collections' instead of from 'collections.abc' is deprecated since Python 3.3,and in 3.9 it will stop working\n",
      "  class _ObjectIdentitySet(collections.MutableSet):\n",
      "Using TensorFlow backend.\n",
      "C:\\Users\\arnal\\Miniconda3\\envs\\dl-gpu\\lib\\site-packages\\keras\\callbacks\\callbacks.py:19: DeprecationWarning: Using or importing the ABCs from 'collections' instead of from 'collections.abc' is deprecated since Python 3.3,and in 3.9 it will stop working\n",
      "  from collections import Iterable\n",
      "C:\\Users\\arnal\\Miniconda3\\envs\\dl-gpu\\lib\\site-packages\\tensorflow\\contrib\\learn\\python\\learn\\learn_io\\generator_io.py:26: DeprecationWarning: Using or importing the ABCs from 'collections' instead of from 'collections.abc' is deprecated since Python 3.3,and in 3.9 it will stop working\n",
      "  from collections import Container\n",
      "C:\\Users\\arnal\\Miniconda3\\envs\\dl-gpu\\lib\\site-packages\\tensorflow\\contrib\\labeled_tensor\\python\\ops\\core.py:724: DeprecationWarning: Using or importing the ABCs from 'collections' instead of from 'collections.abc' is deprecated since Python 3.3,and in 3.9 it will stop working\n",
      "  tc.Union(string_types, tc.Tuple(string_types, collections.Hashable))),\n"
     ]
    }
   ],
   "source": [
    "from sys import path\n",
    "path.append('..')\n",
    "path.append('../../src/')\n",
    "\n",
    "import os\n",
    "import cv2\n",
    "import numpy as np\n",
    "import pickle as pkl\n",
    "import matplotlib.pyplot as plt\n",
    "import mlflow\n",
    "import mlflow.keras\n",
    "import random as rn\n",
    "import tensorflow as tf\n",
    "from os.path import basename\n",
    "from keras.models import Model, load_model\n",
    "from keras.layers import Input, Dense, Dropout, BatchNormalization, Activation\n",
    "from keras.layers import Conv2D, Conv2DTranspose, MaxPool2D, UpSampling2D, GlobalAvgPool2D\n",
    "from keras.callbacks import EarlyStopping, ModelCheckpoint\n",
    "from skmultilearn.model_selection import iterative_train_test_split\n",
    "from tensorflow.contrib.tensorboard.plugins import projector\n",
    "from global_config import RANDOM_SEED, IMAGE_SIZE\n",
    "from local_config import FILE_DUMP_IMAGES, FILE_DUMP_MRKS, FOLDER_MODELS, FILE_AUTOENCODER_SAMPLES\n",
    "from utils import plot\n",
    "\n",
    "%matplotlib inline"
   ]
  },
  {
   "cell_type": "code",
   "execution_count": 2,
   "metadata": {},
   "outputs": [],
   "source": [
    "TEST_SIZE = 0.1\n",
    "MLFLOW_EXPERIMENT_NAME = 'Autoencoder Unsupervised'\n",
    "FOLDER_LOGS = '../../logs'"
   ]
  },
  {
   "cell_type": "code",
   "execution_count": 3,
   "metadata": {},
   "outputs": [],
   "source": [
    "def timestamp_model_name(prefix='model_', suffix='', format='%Y_%m_%d-%H_%M_%S', ext='.h5'):\n",
    "    from datetime import datetime\n",
    "    timestamp = datetime.now().strftime(format)\n",
    "    return f'{prefix}{timestamp}{suffix}{ext}'\n",
    "\n",
    "\n",
    "def set_random_seeds():\n",
    "    os.environ['PYTHONHASHSEED'] = str(RANDOM_SEED)\n",
    "    rn.seed(RANDOM_SEED)\n",
    "    np.random.seed(RANDOM_SEED)\n",
    "    tf.set_random_seed(RANDOM_SEED)"
   ]
  },
  {
   "cell_type": "markdown",
   "metadata": {},
   "source": [
    "# Data Loading "
   ]
  },
  {
   "cell_type": "code",
   "execution_count": 4,
   "metadata": {},
   "outputs": [
    {
     "name": "stdout",
     "output_type": "stream",
     "text": [
      "(5731, 160, 160, 3) float32\n",
      "(5731, 23) int32\n",
      "5731\n"
     ]
    }
   ],
   "source": [
    "x, _ = pkl.load(open(FILE_DUMP_IMAGES, 'rb'))\n",
    "mrks, _ = pkl.load(open(FILE_DUMP_MRKS, 'rb'))\n",
    "y = np.array([mrk_file.photo_reqs.values() for mrk_file in mrks])\n",
    "\n",
    "\n",
    "print(x.shape, x.dtype)\n",
    "print(y.shape, y.dtype)\n",
    "print(len(mrks))"
   ]
  },
  {
   "cell_type": "code",
   "execution_count": 5,
   "metadata": {},
   "outputs": [
    {
     "name": "stdout",
     "output_type": "stream",
     "text": [
      "(5151, 160, 160, 3) (5151, 23)\n",
      "(580, 160, 160, 3) (580, 23)\n"
     ]
    }
   ],
   "source": [
    "np.random.seed(RANDOM_SEED)\n",
    "x_train_idx, y_train, x_val_idx, y_val = iterative_train_test_split(np.arange(x.shape[0]).reshape(-1, 1), y, test_size=TEST_SIZE)\n",
    "x_train_idx = x_train_idx.ravel()\n",
    "x_val_idx = x_val_idx.ravel()\n",
    "\n",
    "x_train = x[x_train_idx]\n",
    "x_val = x[x_val_idx]\n",
    "\n",
    "print(x_train.shape, y_train.shape)\n",
    "print(x_val.shape, y_val.shape)"
   ]
  },
  {
   "cell_type": "code",
   "execution_count": 6,
   "metadata": {},
   "outputs": [],
   "source": [
    "train_mrks = mrks[x_train_idx]\n",
    "val_mrks = mrks[x_val_idx]\n",
    "\n",
    "pkl.dump((x_train, x_val, train_mrks, val_mrks), open(FILE_AUTOENCODER_SAMPLES, 'wb'), -1)"
   ]
  },
  {
   "cell_type": "markdown",
   "metadata": {},
   "source": [
    "# Model Training "
   ]
  },
  {
   "cell_type": "code",
   "execution_count": 7,
   "metadata": {},
   "outputs": [
    {
     "name": "stdout",
     "output_type": "stream",
     "text": [
      "(5151, 160, 160, 3) float32 0.0 1.0\n",
      "(580, 160, 160, 3) float32 0.0 1.0\n"
     ]
    }
   ],
   "source": [
    "x_train, x_val, _, _ = pkl.load(open(FILE_AUTOENCODER_SAMPLES, 'rb'))\n",
    "x_train /= 255.0\n",
    "x_val /= 255.0\n",
    "\n",
    "print(x_train.shape, x_train.dtype, x_train.min(), x_train.max())\n",
    "print(x_val.shape, x_val.dtype, x_val.min(), x_val.max())"
   ]
  },
  {
   "cell_type": "code",
   "execution_count": 8,
   "metadata": {},
   "outputs": [],
   "source": [
    "def conv_bn(idx, prev_input, filters, activation='relu', name=None):\n",
    "    conv_name = 'conv_' + str(idx)\n",
    "    bn_name = 'bn_' + str(idx)\n",
    "    act_name = f'{activation}_' + str(idx) if name is None else name\n",
    "    \n",
    "    conv = Conv2D(filters, kernel_size=(3, 3), strides=(1, 1), padding='same', activation=None, name=conv_name)(prev_input)\n",
    "    conv = BatchNormalization(axis=-1, name=bn_name)(conv)\n",
    "    conv = Activation(activation, name=act_name)(conv)\n",
    "    return conv\n",
    "\n",
    "def conv_bn_maxpool(idx, prev_input, filters):\n",
    "    pool_name = 'pool_' + str(idx)\n",
    "    \n",
    "    conv = conv_bn(idx, prev_input, filters)\n",
    "    pool = MaxPool2D(pool_size=(2, 2), strides=(2, 2), padding='valid', name=pool_name)(conv)\n",
    "    return pool\n",
    "\n",
    "def deconv_bn(idx, prev_input, filters, activation='relu'):\n",
    "    bn_name = str(idx) + '_bn' \n",
    "    act_name = str(idx) + '_relu' \n",
    "    conv_name = str(idx) + '_conv' \n",
    "    \n",
    "    deconv = Conv2DTranspose(filters, kernel_size=(3, 3), strides=(2, 2), padding='same', activation=None, name=conv_name)(prev_input)\n",
    "    deconv = BatchNormalization(axis=-1, name=bn_name)(deconv)\n",
    "    deconv = Activation(activation, name=act_name)(deconv)\n",
    "    return deconv"
   ]
  },
  {
   "cell_type": "code",
   "execution_count": 9,
   "metadata": {
    "scrolled": false
   },
   "outputs": [
    {
     "name": "stdout",
     "output_type": "stream",
     "text": [
      "WARNING:tensorflow:From C:\\Users\\arnal\\Miniconda3\\envs\\dl-gpu\\lib\\site-packages\\tensorflow\\python\\ops\\resource_variable_ops.py:435: colocate_with (from tensorflow.python.framework.ops) is deprecated and will be removed in a future version.\n",
      "Instructions for updating:\n",
      "Colocations handled automatically by placer.\n"
     ]
    },
    {
     "name": "stderr",
     "output_type": "stream",
     "text": [
      "C:\\Users\\arnal\\Miniconda3\\envs\\dl-gpu\\lib\\site-packages\\numpy\\lib\\type_check.py:546: DeprecationWarning: np.asscalar(a) is deprecated since NumPy v1.16, use a.item() instead\n",
      "  'a.item() instead', DeprecationWarning, stacklevel=1)\n"
     ]
    },
    {
     "name": "stdout",
     "output_type": "stream",
     "text": [
      "Model: \"model_1\"\n",
      "_________________________________________________________________\n",
      "Layer (type)                 Output Shape              Param #   \n",
      "=================================================================\n",
      "input (InputLayer)           (None, 160, 160, 3)       0         \n",
      "_________________________________________________________________\n",
      "conv_1 (Conv2D)              (None, 160, 160, 32)      896       \n",
      "_________________________________________________________________\n",
      "bn_1 (BatchNormalization)    (None, 160, 160, 32)      128       \n",
      "_________________________________________________________________\n",
      "relu_1 (Activation)          (None, 160, 160, 32)      0         \n",
      "_________________________________________________________________\n",
      "pool_1 (MaxPooling2D)        (None, 80, 80, 32)        0         \n",
      "_________________________________________________________________\n",
      "conv_2 (Conv2D)              (None, 80, 80, 64)        18496     \n",
      "_________________________________________________________________\n",
      "bn_2 (BatchNormalization)    (None, 80, 80, 64)        256       \n",
      "_________________________________________________________________\n",
      "relu_2 (Activation)          (None, 80, 80, 64)        0         \n",
      "_________________________________________________________________\n",
      "pool_2 (MaxPooling2D)        (None, 40, 40, 64)        0         \n",
      "_________________________________________________________________\n",
      "conv_3 (Conv2D)              (None, 40, 40, 128)       73856     \n",
      "_________________________________________________________________\n",
      "bn_3 (BatchNormalization)    (None, 40, 40, 128)       512       \n",
      "_________________________________________________________________\n",
      "relu_3 (Activation)          (None, 40, 40, 128)       0         \n",
      "_________________________________________________________________\n",
      "pool_3 (MaxPooling2D)        (None, 20, 20, 128)       0         \n",
      "_________________________________________________________________\n",
      "conv_4 (Conv2D)              (None, 20, 20, 256)       295168    \n",
      "_________________________________________________________________\n",
      "bn_4 (BatchNormalization)    (None, 20, 20, 256)       1024      \n",
      "_________________________________________________________________\n",
      "relu_4 (Activation)          (None, 20, 20, 256)       0         \n",
      "_________________________________________________________________\n",
      "pool_4 (MaxPooling2D)        (None, 10, 10, 256)       0         \n",
      "_________________________________________________________________\n",
      "conv_5 (Conv2D)              (None, 10, 10, 256)       590080    \n",
      "_________________________________________________________________\n",
      "bn_5 (BatchNormalization)    (None, 10, 10, 256)       1024      \n",
      "_________________________________________________________________\n",
      "relu_5 (Activation)          (None, 10, 10, 256)       0         \n",
      "_________________________________________________________________\n",
      "pool_5 (MaxPooling2D)        (None, 5, 5, 256)         0         \n",
      "_________________________________________________________________\n",
      "conv_6 (Conv2D)              (None, 5, 5, 512)         1180160   \n",
      "_________________________________________________________________\n",
      "bn_6 (BatchNormalization)    (None, 5, 5, 512)         2048      \n",
      "_________________________________________________________________\n",
      "encoded (Activation)         (None, 5, 5, 512)         0         \n",
      "_________________________________________________________________\n",
      "5_conv (Conv2DTranspose)     (None, 10, 10, 256)       1179904   \n",
      "_________________________________________________________________\n",
      "5_bn (BatchNormalization)    (None, 10, 10, 256)       1024      \n",
      "_________________________________________________________________\n",
      "5_relu (Activation)          (None, 10, 10, 256)       0         \n",
      "_________________________________________________________________\n",
      "4_conv (Conv2DTranspose)     (None, 20, 20, 256)       590080    \n",
      "_________________________________________________________________\n",
      "4_bn (BatchNormalization)    (None, 20, 20, 256)       1024      \n",
      "_________________________________________________________________\n",
      "4_relu (Activation)          (None, 20, 20, 256)       0         \n",
      "_________________________________________________________________\n",
      "3_conv (Conv2DTranspose)     (None, 40, 40, 128)       295040    \n",
      "_________________________________________________________________\n",
      "3_bn (BatchNormalization)    (None, 40, 40, 128)       512       \n",
      "_________________________________________________________________\n",
      "3_relu (Activation)          (None, 40, 40, 128)       0         \n",
      "_________________________________________________________________\n",
      "2_conv (Conv2DTranspose)     (None, 80, 80, 64)        73792     \n",
      "_________________________________________________________________\n",
      "2_bn (BatchNormalization)    (None, 80, 80, 64)        256       \n",
      "_________________________________________________________________\n",
      "2_relu (Activation)          (None, 80, 80, 64)        0         \n",
      "_________________________________________________________________\n",
      "1_conv (Conv2DTranspose)     (None, 160, 160, 32)      18464     \n",
      "_________________________________________________________________\n",
      "1_bn (BatchNormalization)    (None, 160, 160, 32)      128       \n",
      "_________________________________________________________________\n",
      "1_relu (Activation)          (None, 160, 160, 32)      0         \n",
      "_________________________________________________________________\n",
      "decoded (Conv2D)             (None, 160, 160, 3)       867       \n",
      "=================================================================\n",
      "Total params: 4,324,739\n",
      "Trainable params: 4,320,771\n",
      "Non-trainable params: 3,968\n",
      "_________________________________________________________________\n",
      "WARNING:tensorflow:From C:\\Users\\arnal\\Miniconda3\\envs\\dl-gpu\\lib\\site-packages\\tensorflow\\python\\ops\\math_ops.py:3066: to_int32 (from tensorflow.python.ops.math_ops) is deprecated and will be removed in a future version.\n",
      "Instructions for updating:\n",
      "Use tf.cast instead.\n"
     ]
    },
    {
     "name": "stderr",
     "output_type": "stream",
     "text": [
      "C:\\Users\\arnal\\Miniconda3\\envs\\dl-gpu\\lib\\site-packages\\mlflow\\utils\\autologging_utils.py:60: DeprecationWarning: inspect.getargspec() is deprecated since Python 3.0, use inspect.signature() or inspect.getfullargspec()\n",
      "  all_param_names, _, _, all_default_values = inspect.getargspec(fn)  # pylint: disable=W1505\n"
     ]
    },
    {
     "name": "stdout",
     "output_type": "stream",
     "text": [
      "Train on 5151 samples, validate on 580 samples\n",
      "Epoch 1/100\n",
      "5151/5151 [==============================] - 61s 12ms/step - loss: 0.0218 - val_loss: 0.0538\n",
      "\n",
      "Epoch 00001: val_loss improved from inf to 0.05377, saving model to ../../models/siamese_networks/model_2020_05_23-16_43_01.h5\n",
      "Epoch 2/100\n",
      "5151/5151 [==============================] - 56s 11ms/step - loss: 0.0099 - val_loss: 0.0191\n",
      "\n",
      "Epoch 00002: val_loss improved from 0.05377 to 0.01910, saving model to ../../models/siamese_networks/model_2020_05_23-16_43_01.h5\n",
      "Epoch 3/100\n",
      "5151/5151 [==============================] - 56s 11ms/step - loss: 0.0082 - val_loss: 0.0109\n",
      "\n",
      "Epoch 00003: val_loss improved from 0.01910 to 0.01094, saving model to ../../models/siamese_networks/model_2020_05_23-16_43_01.h5\n",
      "Epoch 4/100\n",
      "5151/5151 [==============================] - 56s 11ms/step - loss: 0.0071 - val_loss: 0.0092\n",
      "\n",
      "Epoch 00004: val_loss improved from 0.01094 to 0.00922, saving model to ../../models/siamese_networks/model_2020_05_23-16_43_01.h5\n",
      "Epoch 5/100\n",
      "5151/5151 [==============================] - 56s 11ms/step - loss: 0.0065 - val_loss: 0.0088\n",
      "\n",
      "Epoch 00005: val_loss improved from 0.00922 to 0.00880, saving model to ../../models/siamese_networks/model_2020_05_23-16_43_01.h5\n",
      "Epoch 6/100\n",
      "5151/5151 [==============================] - 56s 11ms/step - loss: 0.0059 - val_loss: 0.0075\n",
      "\n",
      "Epoch 00006: val_loss improved from 0.00880 to 0.00746, saving model to ../../models/siamese_networks/model_2020_05_23-16_43_01.h5\n",
      "Epoch 7/100\n",
      "5151/5151 [==============================] - 56s 11ms/step - loss: 0.0057 - val_loss: 0.0079\n",
      "\n",
      "Epoch 00007: val_loss did not improve from 0.00746\n",
      "Epoch 8/100\n",
      "5151/5151 [==============================] - 56s 11ms/step - loss: 0.0053 - val_loss: 0.0077\n",
      "\n",
      "Epoch 00008: val_loss did not improve from 0.00746\n",
      "Epoch 9/100\n",
      "5151/5151 [==============================] - 56s 11ms/step - loss: 0.0053 - val_loss: 0.0090\n",
      "\n",
      "Epoch 00009: val_loss did not improve from 0.00746\n",
      "Epoch 10/100\n",
      "5151/5151 [==============================] - 56s 11ms/step - loss: 0.0049 - val_loss: 0.0086\n",
      "\n",
      "Epoch 00010: val_loss did not improve from 0.00746\n",
      "Epoch 11/100\n",
      "5151/5151 [==============================] - 56s 11ms/step - loss: 0.0046 - val_loss: 0.0060\n",
      "\n",
      "Epoch 00011: val_loss improved from 0.00746 to 0.00598, saving model to ../../models/siamese_networks/model_2020_05_23-16_43_01.h5\n",
      "Epoch 12/100\n",
      "5151/5151 [==============================] - 56s 11ms/step - loss: 0.0042 - val_loss: 0.0048\n",
      "\n",
      "Epoch 00012: val_loss improved from 0.00598 to 0.00476, saving model to ../../models/siamese_networks/model_2020_05_23-16_43_01.h5\n",
      "Epoch 13/100\n",
      "5151/5151 [==============================] - 56s 11ms/step - loss: 0.0041 - val_loss: 0.0053\n",
      "\n",
      "Epoch 00013: val_loss did not improve from 0.00476\n",
      "Epoch 14/100\n",
      "5151/5151 [==============================] - 56s 11ms/step - loss: 0.0040 - val_loss: 0.0057\n",
      "\n",
      "Epoch 00014: val_loss did not improve from 0.00476\n",
      "Epoch 15/100\n",
      "5151/5151 [==============================] - 56s 11ms/step - loss: 0.0041 - val_loss: 0.0056\n",
      "\n",
      "Epoch 00015: val_loss did not improve from 0.00476\n",
      "Epoch 16/100\n",
      "5151/5151 [==============================] - 56s 11ms/step - loss: 0.0039 - val_loss: 0.0059\n",
      "\n",
      "Epoch 00016: val_loss did not improve from 0.00476\n",
      "Epoch 17/100\n",
      "5151/5151 [==============================] - 56s 11ms/step - loss: 0.0039 - val_loss: 0.0045\n",
      "\n",
      "Epoch 00017: val_loss improved from 0.00476 to 0.00451, saving model to ../../models/siamese_networks/model_2020_05_23-16_43_01.h5\n",
      "Epoch 18/100\n",
      "5151/5151 [==============================] - 56s 11ms/step - loss: 0.0036 - val_loss: 0.0058\n",
      "\n",
      "Epoch 00018: val_loss did not improve from 0.00451\n",
      "Epoch 19/100\n",
      "5151/5151 [==============================] - 56s 11ms/step - loss: 0.0043 - val_loss: 0.0051\n",
      "\n",
      "Epoch 00019: val_loss did not improve from 0.00451\n",
      "Epoch 20/100\n",
      "5151/5151 [==============================] - 56s 11ms/step - loss: 0.0035 - val_loss: 0.0052\n",
      "\n",
      "Epoch 00020: val_loss did not improve from 0.00451\n",
      "Epoch 21/100\n",
      "5151/5151 [==============================] - 56s 11ms/step - loss: 0.0034 - val_loss: 0.0050\n",
      "\n",
      "Epoch 00021: val_loss did not improve from 0.00451\n",
      "Epoch 22/100\n",
      "5151/5151 [==============================] - 56s 11ms/step - loss: 0.0032 - val_loss: 0.0056\n",
      "\n",
      "Epoch 00022: val_loss did not improve from 0.00451\n",
      "Epoch 23/100\n",
      "5151/5151 [==============================] - 56s 11ms/step - loss: 0.0035 - val_loss: 0.0047\n",
      "\n",
      "Epoch 00023: val_loss did not improve from 0.00451\n",
      "Epoch 24/100\n",
      "5151/5151 [==============================] - 56s 11ms/step - loss: 0.0031 - val_loss: 0.0039\n",
      "\n",
      "Epoch 00024: val_loss improved from 0.00451 to 0.00388, saving model to ../../models/siamese_networks/model_2020_05_23-16_43_01.h5\n",
      "Epoch 25/100\n",
      "5151/5151 [==============================] - 56s 11ms/step - loss: 0.0032 - val_loss: 0.0047\n",
      "\n",
      "Epoch 00025: val_loss did not improve from 0.00388\n",
      "Epoch 26/100\n",
      "5151/5151 [==============================] - 56s 11ms/step - loss: 0.0034 - val_loss: 0.0044\n",
      "\n",
      "Epoch 00026: val_loss did not improve from 0.00388\n",
      "Epoch 27/100\n",
      "5151/5151 [==============================] - 56s 11ms/step - loss: 0.0031 - val_loss: 0.0037\n",
      "\n",
      "Epoch 00027: val_loss improved from 0.00388 to 0.00369, saving model to ../../models/siamese_networks/model_2020_05_23-16_43_01.h5\n",
      "Epoch 28/100\n",
      "5151/5151 [==============================] - 56s 11ms/step - loss: 0.0029 - val_loss: 0.0036\n",
      "\n",
      "Epoch 00028: val_loss improved from 0.00369 to 0.00359, saving model to ../../models/siamese_networks/model_2020_05_23-16_43_01.h5\n",
      "Epoch 29/100\n",
      "5151/5151 [==============================] - 56s 11ms/step - loss: 0.0029 - val_loss: 0.0038\n",
      "\n",
      "Epoch 00029: val_loss did not improve from 0.00359\n",
      "Epoch 30/100\n",
      "5151/5151 [==============================] - 56s 11ms/step - loss: 0.0030 - val_loss: 0.0055\n",
      "\n",
      "Epoch 00030: val_loss did not improve from 0.00359\n",
      "Epoch 31/100\n",
      "5151/5151 [==============================] - 56s 11ms/step - loss: 0.0029 - val_loss: 0.0046\n",
      "\n",
      "Epoch 00031: val_loss did not improve from 0.00359\n",
      "Epoch 32/100\n",
      "5151/5151 [==============================] - 56s 11ms/step - loss: 0.0027 - val_loss: 0.0049\n",
      "\n",
      "Epoch 00032: val_loss did not improve from 0.00359\n",
      "Epoch 33/100\n",
      "5151/5151 [==============================] - 56s 11ms/step - loss: 0.0028 - val_loss: 0.0038\n",
      "\n",
      "Epoch 00033: val_loss did not improve from 0.00359\n",
      "Epoch 34/100\n",
      "5151/5151 [==============================] - 56s 11ms/step - loss: 0.0027 - val_loss: 0.0036\n",
      "\n",
      "Epoch 00034: val_loss did not improve from 0.00359\n",
      "Epoch 35/100\n",
      "5151/5151 [==============================] - 56s 11ms/step - loss: 0.0026 - val_loss: 0.0035\n",
      "\n",
      "Epoch 00035: val_loss improved from 0.00359 to 0.00346, saving model to ../../models/siamese_networks/model_2020_05_23-16_43_01.h5\n",
      "Epoch 36/100\n",
      "5151/5151 [==============================] - 56s 11ms/step - loss: 0.0026 - val_loss: 0.0036\n",
      "\n",
      "Epoch 00036: val_loss did not improve from 0.00346\n",
      "Epoch 37/100\n",
      "5151/5151 [==============================] - 56s 11ms/step - loss: 0.0027 - val_loss: 0.0059\n",
      "\n",
      "Epoch 00037: val_loss did not improve from 0.00346\n",
      "Epoch 38/100\n",
      "5151/5151 [==============================] - 56s 11ms/step - loss: 0.0027 - val_loss: 0.0035\n",
      "\n",
      "Epoch 00038: val_loss did not improve from 0.00346\n",
      "Epoch 39/100\n",
      "5151/5151 [==============================] - 56s 11ms/step - loss: 0.0025 - val_loss: 0.0037\n",
      "\n",
      "Epoch 00039: val_loss did not improve from 0.00346\n",
      "Epoch 40/100\n",
      "5151/5151 [==============================] - 56s 11ms/step - loss: 0.0026 - val_loss: 0.0034\n",
      "\n",
      "Epoch 00040: val_loss improved from 0.00346 to 0.00339, saving model to ../../models/siamese_networks/model_2020_05_23-16_43_01.h5\n",
      "Epoch 41/100\n",
      "5151/5151 [==============================] - 56s 11ms/step - loss: 0.0025 - val_loss: 0.0036\n",
      "\n",
      "Epoch 00041: val_loss did not improve from 0.00339\n",
      "Epoch 42/100\n",
      "5151/5151 [==============================] - 56s 11ms/step - loss: 0.0025 - val_loss: 0.0035\n",
      "\n",
      "Epoch 00042: val_loss did not improve from 0.00339\n",
      "Epoch 43/100\n",
      "5151/5151 [==============================] - 56s 11ms/step - loss: 0.0024 - val_loss: 0.0039\n",
      "\n",
      "Epoch 00043: val_loss did not improve from 0.00339\n",
      "Epoch 44/100\n",
      "5151/5151 [==============================] - 56s 11ms/step - loss: 0.0025 - val_loss: 0.0035\n",
      "\n",
      "Epoch 00044: val_loss did not improve from 0.00339\n",
      "Epoch 45/100\n",
      "5151/5151 [==============================] - 56s 11ms/step - loss: 0.0023 - val_loss: 0.0032\n"
     ]
    },
    {
     "name": "stdout",
     "output_type": "stream",
     "text": [
      "\n",
      "Epoch 00045: val_loss improved from 0.00339 to 0.00323, saving model to ../../models/siamese_networks/model_2020_05_23-16_43_01.h5\n",
      "Epoch 46/100\n",
      "5151/5151 [==============================] - 56s 11ms/step - loss: 0.0023 - val_loss: 0.0033\n",
      "\n",
      "Epoch 00046: val_loss did not improve from 0.00323\n",
      "Epoch 47/100\n",
      "5151/5151 [==============================] - 56s 11ms/step - loss: 0.0023 - val_loss: 0.0032\n",
      "\n",
      "Epoch 00047: val_loss did not improve from 0.00323\n",
      "Epoch 48/100\n",
      "5151/5151 [==============================] - 56s 11ms/step - loss: 0.0023 - val_loss: 0.0035\n",
      "\n",
      "Epoch 00048: val_loss did not improve from 0.00323\n",
      "Epoch 49/100\n",
      "5151/5151 [==============================] - 56s 11ms/step - loss: 0.0023 - val_loss: 0.0038\n",
      "\n",
      "Epoch 00049: val_loss did not improve from 0.00323\n",
      "Epoch 50/100\n",
      "5151/5151 [==============================] - 56s 11ms/step - loss: 0.0022 - val_loss: 0.0032\n",
      "\n",
      "Epoch 00050: val_loss improved from 0.00323 to 0.00321, saving model to ../../models/siamese_networks/model_2020_05_23-16_43_01.h5\n",
      "Epoch 51/100\n",
      "5151/5151 [==============================] - 56s 11ms/step - loss: 0.0024 - val_loss: 0.0038\n",
      "\n",
      "Epoch 00051: val_loss did not improve from 0.00321\n",
      "Epoch 52/100\n",
      "5151/5151 [==============================] - 56s 11ms/step - loss: 0.0023 - val_loss: 0.0032\n",
      "\n",
      "Epoch 00052: val_loss did not improve from 0.00321\n",
      "Epoch 53/100\n",
      "5151/5151 [==============================] - 56s 11ms/step - loss: 0.0021 - val_loss: 0.0033\n",
      "\n",
      "Epoch 00053: val_loss did not improve from 0.00321\n",
      "Epoch 54/100\n",
      "5151/5151 [==============================] - 56s 11ms/step - loss: 0.0022 - val_loss: 0.0032\n",
      "\n",
      "Epoch 00054: val_loss improved from 0.00321 to 0.00316, saving model to ../../models/siamese_networks/model_2020_05_23-16_43_01.h5\n",
      "Epoch 55/100\n",
      "5151/5151 [==============================] - 56s 11ms/step - loss: 0.0022 - val_loss: 0.0051\n",
      "\n",
      "Epoch 00055: val_loss did not improve from 0.00316\n",
      "Epoch 56/100\n",
      "5151/5151 [==============================] - 56s 11ms/step - loss: 0.0023 - val_loss: 0.0033\n",
      "\n",
      "Epoch 00056: val_loss did not improve from 0.00316\n",
      "Epoch 57/100\n",
      "5151/5151 [==============================] - 56s 11ms/step - loss: 0.0021 - val_loss: 0.0032\n",
      "\n",
      "Epoch 00057: val_loss did not improve from 0.00316\n",
      "Epoch 58/100\n",
      "5151/5151 [==============================] - 56s 11ms/step - loss: 0.0022 - val_loss: 0.0034\n",
      "\n",
      "Epoch 00058: val_loss did not improve from 0.00316\n",
      "Epoch 59/100\n",
      "5151/5151 [==============================] - 56s 11ms/step - loss: 0.0021 - val_loss: 0.0031\n",
      "\n",
      "Epoch 00059: val_loss improved from 0.00316 to 0.00309, saving model to ../../models/siamese_networks/model_2020_05_23-16_43_01.h5\n",
      "Epoch 60/100\n",
      "5151/5151 [==============================] - 56s 11ms/step - loss: 0.0021 - val_loss: 0.0036\n",
      "\n",
      "Epoch 00060: val_loss did not improve from 0.00309\n",
      "Epoch 61/100\n",
      "5151/5151 [==============================] - 56s 11ms/step - loss: 0.0023 - val_loss: 0.0038\n",
      "\n",
      "Epoch 00061: val_loss did not improve from 0.00309\n",
      "Epoch 62/100\n",
      "5151/5151 [==============================] - 56s 11ms/step - loss: 0.0021 - val_loss: 0.0031\n",
      "\n",
      "Epoch 00062: val_loss did not improve from 0.00309\n",
      "Epoch 63/100\n",
      "5151/5151 [==============================] - 56s 11ms/step - loss: 0.0020 - val_loss: 0.0031\n",
      "\n",
      "Epoch 00063: val_loss did not improve from 0.00309\n",
      "Epoch 64/100\n",
      "5151/5151 [==============================] - 56s 11ms/step - loss: 0.0021 - val_loss: 0.0031\n",
      "\n",
      "Epoch 00064: val_loss improved from 0.00309 to 0.00308, saving model to ../../models/siamese_networks/model_2020_05_23-16_43_01.h5\n",
      "Epoch 65/100\n",
      "5151/5151 [==============================] - 56s 11ms/step - loss: 0.0020 - val_loss: 0.0033\n",
      "\n",
      "Epoch 00065: val_loss did not improve from 0.00308\n",
      "Epoch 66/100\n",
      "5151/5151 [==============================] - 56s 11ms/step - loss: 0.0020 - val_loss: 0.0031\n",
      "\n",
      "Epoch 00066: val_loss improved from 0.00308 to 0.00307, saving model to ../../models/siamese_networks/model_2020_05_23-16_43_01.h5\n",
      "Epoch 67/100\n",
      "5151/5151 [==============================] - 56s 11ms/step - loss: 0.0020 - val_loss: 0.0038\n",
      "\n",
      "Epoch 00067: val_loss did not improve from 0.00307\n",
      "Epoch 68/100\n",
      "5151/5151 [==============================] - 56s 11ms/step - loss: 0.0020 - val_loss: 0.0033\n",
      "\n",
      "Epoch 00068: val_loss did not improve from 0.00307\n",
      "Epoch 69/100\n",
      "5151/5151 [==============================] - 56s 11ms/step - loss: 0.0020 - val_loss: 0.0032\n",
      "\n",
      "Epoch 00069: val_loss did not improve from 0.00307\n",
      "Epoch 70/100\n",
      "5151/5151 [==============================] - 56s 11ms/step - loss: 0.0019 - val_loss: 0.0033\n",
      "\n",
      "Epoch 00070: val_loss did not improve from 0.00307\n",
      "Epoch 71/100\n",
      "5151/5151 [==============================] - 56s 11ms/step - loss: 0.0019 - val_loss: 0.0032\n",
      "\n",
      "Epoch 00071: val_loss did not improve from 0.00307\n",
      "Epoch 72/100\n",
      "5151/5151 [==============================] - 56s 11ms/step - loss: 0.0019 - val_loss: 0.0031\n",
      "\n",
      "Epoch 00072: val_loss did not improve from 0.00307\n",
      "Epoch 73/100\n",
      "5151/5151 [==============================] - 56s 11ms/step - loss: 0.0019 - val_loss: 0.0031\n",
      "\n",
      "Epoch 00073: val_loss improved from 0.00307 to 0.00307, saving model to ../../models/siamese_networks/model_2020_05_23-16_43_01.h5\n",
      "Epoch 74/100\n",
      "5151/5151 [==============================] - 56s 11ms/step - loss: 0.0019 - val_loss: 0.0031\n",
      "\n",
      "Epoch 00074: val_loss did not improve from 0.00307\n",
      "Epoch 75/100\n",
      "5151/5151 [==============================] - 56s 11ms/step - loss: 0.0020 - val_loss: 0.0031\n",
      "\n",
      "Epoch 00075: val_loss did not improve from 0.00307\n",
      "Epoch 76/100\n",
      "5151/5151 [==============================] - 56s 11ms/step - loss: 0.0018 - val_loss: 0.0030\n",
      "\n",
      "Epoch 00076: val_loss improved from 0.00307 to 0.00297, saving model to ../../models/siamese_networks/model_2020_05_23-16_43_01.h5\n",
      "Epoch 77/100\n",
      "5151/5151 [==============================] - 56s 11ms/step - loss: 0.0018 - val_loss: 0.0030\n",
      "\n",
      "Epoch 00077: val_loss did not improve from 0.00297\n",
      "Epoch 78/100\n",
      "5151/5151 [==============================] - 56s 11ms/step - loss: 0.0018 - val_loss: 0.0030\n",
      "\n",
      "Epoch 00078: val_loss did not improve from 0.00297\n",
      "Epoch 79/100\n",
      "5151/5151 [==============================] - 56s 11ms/step - loss: 0.0018 - val_loss: 0.0029\n",
      "\n",
      "Epoch 00079: val_loss improved from 0.00297 to 0.00291, saving model to ../../models/siamese_networks/model_2020_05_23-16_43_01.h5\n",
      "Epoch 80/100\n",
      "5151/5151 [==============================] - 56s 11ms/step - loss: 0.0019 - val_loss: 0.0033\n",
      "\n",
      "Epoch 00080: val_loss did not improve from 0.00291\n",
      "Epoch 81/100\n",
      "5151/5151 [==============================] - 56s 11ms/step - loss: 0.0019 - val_loss: 0.0035\n",
      "\n",
      "Epoch 00081: val_loss did not improve from 0.00291\n",
      "Epoch 82/100\n",
      "5151/5151 [==============================] - 56s 11ms/step - loss: 0.0019 - val_loss: 0.0030\n",
      "\n",
      "Epoch 00082: val_loss did not improve from 0.00291\n",
      "Epoch 83/100\n",
      "5151/5151 [==============================] - 56s 11ms/step - loss: 0.0018 - val_loss: 0.0029\n",
      "\n",
      "Epoch 00083: val_loss improved from 0.00291 to 0.00290, saving model to ../../models/siamese_networks/model_2020_05_23-16_43_01.h5\n",
      "Epoch 84/100\n",
      "5151/5151 [==============================] - 56s 11ms/step - loss: 0.0017 - val_loss: 0.0031\n",
      "\n",
      "Epoch 00084: val_loss did not improve from 0.00290\n",
      "Epoch 85/100\n",
      "5151/5151 [==============================] - 56s 11ms/step - loss: 0.0018 - val_loss: 0.0032\n",
      "\n",
      "Epoch 00085: val_loss did not improve from 0.00290\n",
      "Epoch 86/100\n",
      "5151/5151 [==============================] - 56s 11ms/step - loss: 0.0017 - val_loss: 0.0030\n",
      "\n",
      "Epoch 00086: val_loss did not improve from 0.00290\n",
      "Epoch 87/100\n",
      "5151/5151 [==============================] - 56s 11ms/step - loss: 0.0017 - val_loss: 0.0029\n",
      "\n",
      "Epoch 00087: val_loss did not improve from 0.00290\n",
      "Epoch 88/100\n",
      "5151/5151 [==============================] - 56s 11ms/step - loss: 0.0018 - val_loss: 0.0037\n",
      "\n",
      "Epoch 00088: val_loss did not improve from 0.00290\n",
      "Epoch 89/100\n",
      "5151/5151 [==============================] - 56s 11ms/step - loss: 0.0017 - val_loss: 0.0029\n",
      "\n",
      "Epoch 00089: val_loss did not improve from 0.00290\n",
      "Epoch 90/100\n",
      "5151/5151 [==============================] - 56s 11ms/step - loss: 0.0017 - val_loss: 0.0029\n",
      "\n",
      "Epoch 00090: val_loss improved from 0.00290 to 0.00288, saving model to ../../models/siamese_networks/model_2020_05_23-16_43_01.h5\n",
      "Epoch 91/100\n",
      "5151/5151 [==============================] - 56s 11ms/step - loss: 0.0017 - val_loss: 0.0031\n",
      "\n",
      "Epoch 00091: val_loss did not improve from 0.00288\n",
      "Epoch 92/100\n"
     ]
    },
    {
     "name": "stdout",
     "output_type": "stream",
     "text": [
      "5151/5151 [==============================] - 56s 11ms/step - loss: 0.0019 - val_loss: 0.0032\n",
      "\n",
      "Epoch 00092: val_loss did not improve from 0.00288\n",
      "Epoch 93/100\n",
      "5151/5151 [==============================] - 56s 11ms/step - loss: 0.0017 - val_loss: 0.0032\n",
      "\n",
      "Epoch 00093: val_loss did not improve from 0.00288\n",
      "Epoch 94/100\n",
      "5151/5151 [==============================] - 56s 11ms/step - loss: 0.0017 - val_loss: 0.0031\n",
      "\n",
      "Epoch 00094: val_loss did not improve from 0.00288\n",
      "Epoch 95/100\n",
      "5151/5151 [==============================] - 56s 11ms/step - loss: 0.0016 - val_loss: 0.0029\n",
      "\n",
      "Epoch 00095: val_loss improved from 0.00288 to 0.00286, saving model to ../../models/siamese_networks/model_2020_05_23-16_43_01.h5\n",
      "Epoch 96/100\n",
      "5151/5151 [==============================] - 56s 11ms/step - loss: 0.0017 - val_loss: 0.0030\n",
      "\n",
      "Epoch 00096: val_loss did not improve from 0.00286\n",
      "Epoch 97/100\n",
      "5151/5151 [==============================] - 56s 11ms/step - loss: 0.0017 - val_loss: 0.0033\n",
      "\n",
      "Epoch 00097: val_loss did not improve from 0.00286\n",
      "Epoch 98/100\n",
      "5151/5151 [==============================] - 56s 11ms/step - loss: 0.0017 - val_loss: 0.0032\n",
      "\n",
      "Epoch 00098: val_loss did not improve from 0.00286\n",
      "Epoch 99/100\n",
      "5151/5151 [==============================] - 56s 11ms/step - loss: 0.0016 - val_loss: 0.0029\n",
      "\n",
      "Epoch 00099: val_loss did not improve from 0.00286\n",
      "Epoch 100/100\n",
      "5151/5151 [==============================] - 56s 11ms/step - loss: 0.0016 - val_loss: 0.0030\n",
      "\n",
      "Epoch 00100: val_loss did not improve from 0.00286\n"
     ]
    },
    {
     "data": {
      "image/png": "[encoded data removed]",
      "text/plain": [
       "<Figure size 864x288 with 1 Axes>"
      ]
     },
     "metadata": {
      "needs_background": "light"
     },
     "output_type": "display_data"
    }
   ],
   "source": [
    "mlflow.set_experiment(MLFLOW_EXPERIMENT_NAME)\n",
    "mlflow.log_param(\"test_size\", TEST_SIZE)\n",
    "mlflow.log_param(\"seed\", RANDOM_SEED)\n",
    "mlflow.keras.autolog()\n",
    "\n",
    "set_random_seeds()\n",
    "\n",
    "inputs = Input(shape=x_train.shape[1:], name='input')\n",
    "pool_1 = conv_bn_maxpool(1, inputs, 32)\n",
    "pool_2 = conv_bn_maxpool(2, pool_1, 64)\n",
    "pool_3 = conv_bn_maxpool(3, pool_2, 128)\n",
    "pool_4 = conv_bn_maxpool(4, pool_3, 256)\n",
    "pool_5 = conv_bn_maxpool(5, pool_4, 256)\n",
    "encode = conv_bn(6, pool_5, 512, activation='tanh', name='encoded')\n",
    "\n",
    "dec_5 = deconv_bn(5, encode, 256)\n",
    "dec_4 = deconv_bn(4, dec_5, 256)\n",
    "dec_3 = deconv_bn(3, dec_4, 128)\n",
    "dec_2 = deconv_bn(2, dec_3, 64)\n",
    "dec_1 = deconv_bn(1, dec_2, 32)\n",
    "decoded = Conv2D(filters=3, kernel_size=(3, 3), strides=(1, 1), padding='same', activation='sigmoid', name='decoded')(dec_1)\n",
    "\n",
    "model = Model(inputs=inputs, outputs=decoded)\n",
    "model.summary()\n",
    "\n",
    "model.compile(optimizer='adam', loss='mean_squared_error')\n",
    "\n",
    "FILE_MODEL = FOLDER_MODELS + timestamp_model_name()\n",
    "list_callbacks = [\n",
    "    ModelCheckpoint(FILE_MODEL, monitor='val_loss', verbose=1, save_best_only=True), \n",
    "    EarlyStopping(monitor='val_loss', patience=30, verbose=1, restore_best_weights=True)\n",
    "]\n",
    "\n",
    "hist = model.fit(x_train, x_train, batch_size=32, epochs=100, validation_data=(x_val, x_val), callbacks=list_callbacks)\n",
    "plot.keras_hist(hist.history)"
   ]
  },
  {
   "cell_type": "code",
   "execution_count": 10,
   "metadata": {},
   "outputs": [
    {
     "name": "stderr",
     "output_type": "stream",
     "text": [
      "C:\\Users\\arnal\\Miniconda3\\envs\\dl-gpu\\lib\\site-packages\\numpy\\lib\\type_check.py:546: DeprecationWarning: np.asscalar(a) is deprecated since NumPy v1.16, use a.item() instead\n",
      "  'a.item() instead', DeprecationWarning, stacklevel=1)\n"
     ]
    },
    {
     "name": "stdout",
     "output_type": "stream",
     "text": [
      "(580, 160, 160, 3) float32 0.0 0.99999785\n"
     ]
    }
   ],
   "source": [
    "model = load_model(FILE_MODEL)\n",
    "y_pred = model.predict(x_val)\n",
    "\n",
    "print(y_pred.shape, y_pred.dtype, y_pred.min(), y_pred.max())"
   ]
  },
  {
   "cell_type": "code",
   "execution_count": 11,
   "metadata": {},
   "outputs": [
    {
     "data": {
      "text/plain": [
       "<matplotlib.image.AxesImage at 0x23380c17288>"
      ]
     },
     "execution_count": 11,
     "metadata": {},
     "output_type": "execute_result"
    },
    {
     "data": {
      "image/png": "[encoded data removed]",
      "text/plain": [
       "<Figure size 720x432 with 2 Axes>"
      ]
     },
     "metadata": {
      "needs_background": "light"
     },
     "output_type": "display_data"
    }
   ],
   "source": [
    "n_images = x_val.shape[0]\n",
    "index = np.random.choice(range(n_images))\n",
    "\n",
    "im_orig = x_val[index]\n",
    "im_pred = y_pred[index]\n",
    "\n",
    "plt.figure(figsize=(10, 6))\n",
    "plt.subplot(1, 2, 1)\n",
    "plt.imshow(im_orig[:, :, ::-1])\n",
    "\n",
    "plt.subplot(1, 2, 2)\n",
    "plt.imshow(im_pred[:, :, ::-1])"
   ]
  },
  {
   "cell_type": "markdown",
   "metadata": {},
   "source": [
    "# Embeddings Visualization "
   ]
  },
  {
   "cell_type": "markdown",
   "metadata": {},
   "source": [
    "### Metadata "
   ]
  },
  {
   "cell_type": "code",
   "execution_count": 12,
   "metadata": {},
   "outputs": [
    {
     "name": "stdout",
     "output_type": "stream",
     "text": [
      "580\n",
      "(580, 160, 160, 3)\n"
     ]
    }
   ],
   "source": [
    "_, image_files = pkl.load(open(FILE_DUMP_IMAGES, 'rb'))\n",
    "_, data, _, mrks = pkl.load(open(FILE_AUTOENCODER_SAMPLES, 'rb'))\n",
    "\n",
    "image_files = [basename(filepath) for filepath in np.array(image_files)[x_val_idx]]\n",
    "print(len(image_files))\n",
    "print(data.shape)"
   ]
  },
  {
   "cell_type": "code",
   "execution_count": 13,
   "metadata": {},
   "outputs": [],
   "source": [
    "with open(f'{FOLDER_LOGS}/metadata.tsv', 'w') as metadata_file:\n",
    "    for file in image_files:\n",
    "        metadata_file.write(file+'\\n')\n",
    "\n",
    "mlflow.log_artifact(f'{FOLDER_LOGS}/metadata.tsv')"
   ]
  },
  {
   "cell_type": "markdown",
   "metadata": {},
   "source": [
    "### Image Sprite"
   ]
  },
  {
   "cell_type": "code",
   "execution_count": 14,
   "metadata": {},
   "outputs": [],
   "source": [
    "def images_to_sprite(data):\n",
    "    \"\"\"Creates the sprite image along with any necessary padding\n",
    "    Args:\n",
    "      data: NxHxW[x3] tensor containing the images.\n",
    "    Returns:\n",
    "      data: Properly shaped HxWx3 image with any necessary padding.\n",
    "    \"\"\"\n",
    "    if len(data.shape) == 3:\n",
    "        data = np.tile(data[...,np.newaxis], (1,1,1,3))\n",
    "    data = data.astype(np.float32)\n",
    "    min_data = np.min(data.reshape((data.shape[0], -1)), axis=1)\n",
    "    data = (data.transpose(1,2,3,0) - min_data).transpose(3,0,1,2)\n",
    "    max_data = np.max(data.reshape((data.shape[0], -1)), axis=1)\n",
    "    data = (data.transpose(1,2,3,0) / max_data).transpose(3,0,1,2)\n",
    "\n",
    "    n = int(np.ceil(np.sqrt(data.shape[0])))\n",
    "    padding = ((0, n ** 2 - data.shape[0]), (0, 0), (0, 0)) + ((0, 0),) * (data.ndim - 3)\n",
    "    data = np.pad(data, padding, mode='constant', constant_values=0)\n",
    "    \n",
    "    # Tile the individual thumbnails into an image.\n",
    "    data = data.reshape((n, n) + data.shape[1:]).transpose((0, 2, 1, 3) + tuple(range(4, data.ndim + 1)))\n",
    "    data = data.reshape((n * data.shape[1], n * data.shape[3]) + data.shape[4:])\n",
    "    data = (data * 255).astype(np.uint8)\n",
    "    return data"
   ]
  },
  {
   "cell_type": "code",
   "execution_count": 15,
   "metadata": {},
   "outputs": [
    {
     "name": "stdout",
     "output_type": "stream",
     "text": [
      "(4000, 4000, 3)\n"
     ]
    }
   ],
   "source": [
    "im_sprite = images_to_sprite(data)\n",
    "print(im_sprite.shape)\n",
    "\n",
    "cv2.imwrite(f'{FOLDER_LOGS}/sprites.png', im_sprite)\n",
    "mlflow.log_artifact(f'{FOLDER_LOGS}/sprites.png')"
   ]
  },
  {
   "cell_type": "markdown",
   "metadata": {},
   "source": [
    "### Embeddings "
   ]
  },
  {
   "cell_type": "code",
   "execution_count": 16,
   "metadata": {
    "scrolled": false
   },
   "outputs": [
    {
     "name": "stdout",
     "output_type": "stream",
     "text": [
      "Model: \"model_2\"\n",
      "_________________________________________________________________\n",
      "Layer (type)                 Output Shape              Param #   \n",
      "=================================================================\n",
      "input (InputLayer)           (None, 160, 160, 3)       0         \n",
      "_________________________________________________________________\n",
      "conv_1 (Conv2D)              (None, 160, 160, 32)      896       \n",
      "_________________________________________________________________\n",
      "bn_1 (BatchNormalization)    (None, 160, 160, 32)      128       \n",
      "_________________________________________________________________\n",
      "relu_1 (Activation)          (None, 160, 160, 32)      0         \n",
      "_________________________________________________________________\n",
      "pool_1 (MaxPooling2D)        (None, 80, 80, 32)        0         \n",
      "_________________________________________________________________\n",
      "conv_2 (Conv2D)              (None, 80, 80, 64)        18496     \n",
      "_________________________________________________________________\n",
      "bn_2 (BatchNormalization)    (None, 80, 80, 64)        256       \n",
      "_________________________________________________________________\n",
      "relu_2 (Activation)          (None, 80, 80, 64)        0         \n",
      "_________________________________________________________________\n",
      "pool_2 (MaxPooling2D)        (None, 40, 40, 64)        0         \n",
      "_________________________________________________________________\n",
      "conv_3 (Conv2D)              (None, 40, 40, 128)       73856     \n",
      "_________________________________________________________________\n",
      "bn_3 (BatchNormalization)    (None, 40, 40, 128)       512       \n",
      "_________________________________________________________________\n",
      "relu_3 (Activation)          (None, 40, 40, 128)       0         \n",
      "_________________________________________________________________\n",
      "pool_3 (MaxPooling2D)        (None, 20, 20, 128)       0         \n",
      "_________________________________________________________________\n",
      "conv_4 (Conv2D)              (None, 20, 20, 256)       295168    \n",
      "_________________________________________________________________\n",
      "bn_4 (BatchNormalization)    (None, 20, 20, 256)       1024      \n",
      "_________________________________________________________________\n",
      "relu_4 (Activation)          (None, 20, 20, 256)       0         \n",
      "_________________________________________________________________\n",
      "pool_4 (MaxPooling2D)        (None, 10, 10, 256)       0         \n",
      "_________________________________________________________________\n",
      "conv_5 (Conv2D)              (None, 10, 10, 256)       590080    \n",
      "_________________________________________________________________\n",
      "bn_5 (BatchNormalization)    (None, 10, 10, 256)       1024      \n",
      "_________________________________________________________________\n",
      "relu_5 (Activation)          (None, 10, 10, 256)       0         \n",
      "_________________________________________________________________\n",
      "pool_5 (MaxPooling2D)        (None, 5, 5, 256)         0         \n",
      "_________________________________________________________________\n",
      "conv_6 (Conv2D)              (None, 5, 5, 512)         1180160   \n",
      "_________________________________________________________________\n",
      "bn_6 (BatchNormalization)    (None, 5, 5, 512)         2048      \n",
      "_________________________________________________________________\n",
      "encoded (Activation)         (None, 5, 5, 512)         0         \n",
      "_________________________________________________________________\n",
      "embeddings (GlobalAveragePoo (None, 512)               0         \n",
      "=================================================================\n",
      "Total params: 2,163,648\n",
      "Trainable params: 2,161,152\n",
      "Non-trainable params: 2,496\n",
      "_________________________________________________________________\n"
     ]
    }
   ],
   "source": [
    "model = load_model(FILE_MODEL)\n",
    "\n",
    "\n",
    "embeddings = GlobalAvgPool2D(name='embeddings')(model.get_layer(name='encoded').output)\n",
    "\n",
    "model_emb = Model(inputs=model.inputs, outputs=embeddings)\n",
    "model_emb.summary()"
   ]
  },
  {
   "cell_type": "code",
   "execution_count": 17,
   "metadata": {},
   "outputs": [
    {
     "name": "stdout",
     "output_type": "stream",
     "text": [
      "(580, 512)\n"
     ]
    }
   ],
   "source": [
    "emb_vectors = model_emb.predict(data)\n",
    "print(emb_vectors.shape)"
   ]
  },
  {
   "cell_type": "markdown",
   "metadata": {},
   "source": [
    "### Tensorboard "
   ]
  },
  {
   "cell_type": "code",
   "execution_count": 18,
   "metadata": {},
   "outputs": [],
   "source": [
    "sess = tf.InteractiveSession()\n",
    "\n",
    "tf_embeddings = tf.Variable(emb_vectors, name='embeddings')\n",
    "summary_writer = tf.summary.FileWriter(f'{FOLDER_LOGS}')\n",
    "\n",
    "config = projector.ProjectorConfig()\n",
    "embedding = config.embeddings.add()\n",
    "embedding.tensor_name = tf_embeddings.name\n",
    "embedding.metadata_path = 'metadata.tsv'\n",
    "embedding.sprite.image_path = 'sprites.png'\n",
    "embedding.sprite.single_image_dim.extend(IMAGE_SIZE)\n",
    "\n",
    "projector.visualize_embeddings(summary_writer, config)\n",
    "\n",
    "saver = tf.train.Saver([tf_embeddings])\n",
    "sess.run(tf_embeddings.initializer)\n",
    "saver.save(sess, f'{FOLDER_LOGS}/embeddings.ckpt')\n",
    "\n",
    "sess.close()"
   ]
  },
  {
   "cell_type": "code",
   "execution_count": 19,
   "metadata": {},
   "outputs": [],
   "source": [
    "mlflow.end_run()"
   ]
  },
  {
   "cell_type": "code",
   "execution_count": null,
   "metadata": {},
   "outputs": [],
   "source": []
  }
 ],
 "metadata": {
  "kernelspec": {
   "display_name": "Python 3",
   "language": "python",
   "name": "python3"
  },
  "language_info": {
   "codemirror_mode": {
    "name": "ipython",
    "version": 3
   },
   "file_extension": ".py",
   "mimetype": "text/x-python",
   "name": "python",
   "nbconvert_exporter": "python",
   "pygments_lexer": "ipython3",
   "version": "3.7.6"
  }
 },
 "nbformat": 4,
 "nbformat_minor": 2
}
