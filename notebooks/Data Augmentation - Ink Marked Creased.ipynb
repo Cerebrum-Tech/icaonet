{
 "cells": [
  {
   "cell_type": "code",
   "execution_count": 2,
   "id": "36a89801",
   "metadata": {},
   "outputs": [],
   "source": [
    "import sys\n",
    "sys.path.append(\"../src/\")\n",
    "\n",
    "from glob import glob\n",
    "from os.path import join, splitext, basename\n",
    "\n",
    "import cv2\n",
    "import numpy as np\n",
    "import matplotlib.pyplot as plt\n",
    "from keras.preprocessing.image import ImageDataGenerator\n",
    "\n",
    "from global_config import FOLDER_IMAGES, FOLDER_MRKS, IMAGE_SIZE, RANDOM_SEED\n",
    "from mrk_file import MRKFile\n",
    "from utils import load, plot\n",
    "\n",
    "%matplotlib inline"
   ]
  },
  {
   "cell_type": "code",
   "execution_count": 3,
   "id": "b2e6794f",
   "metadata": {},
   "outputs": [
    {
     "name": "stdout",
     "output_type": "stream",
     "text": [
      "../data\n",
      "../data/cropped_faces/images/\n",
      "../data/cropped_faces/ground_truth/\n"
     ]
    }
   ],
   "source": [
    "STAMP_SIZE = (50, 50)\n",
    "BATCH_SIZE = 32\n",
    "\n",
    "PATH_TO_ROOT = \"../\"\n",
    "FOLDER_DATA = join(PATH_TO_ROOT, \"data\")\n",
    "FOLDER_MRKS = join(PATH_TO_ROOT, FOLDER_MRKS)\n",
    "FOLDER_IMAGES = join(PATH_TO_ROOT, FOLDER_IMAGES)\n",
    "\n",
    "print(FOLDER_DATA)\n",
    "print(FOLDER_IMAGES)\n",
    "print(FOLDER_MRKS)"
   ]
  },
  {
   "cell_type": "markdown",
   "id": "dcc78edf",
   "metadata": {},
   "source": [
    "# Data Loading "
   ]
  },
  {
   "cell_type": "code",
   "execution_count": 4,
   "id": "6d05742d",
   "metadata": {},
   "outputs": [
    {
     "name": "stdout",
     "output_type": "stream",
     "text": [
      "5731\n",
      "5731\n"
     ]
    }
   ],
   "source": [
    "mrk_path = lambda filepath: join(FOLDER_MRKS, splitext(basename(filepath))[0]) + \".mrk\"\n",
    "\n",
    "image_files = glob(FOLDER_IMAGES + '*')\n",
    "mrk_files = np.array([mrk_path(path) for path in image_files])\n",
    "\n",
    "print(len(image_files))\n",
    "print(len(mrk_files))\n",
    "assert(len(image_files) == len(mrk_files))"
   ]
  },
  {
   "cell_type": "code",
   "execution_count": 5,
   "id": "a4753735",
   "metadata": {},
   "outputs": [
    {
     "name": "stdout",
     "output_type": "stream",
     "text": [
      "5731 of 5731\n",
      "5731 of 5731\n",
      "(5731,) object\n"
     ]
    }
   ],
   "source": [
    "images = load.images_from_list_files(image_files, output_size=IMAGE_SIZE)\n",
    "mrks = load.mrk_files_from_list_files(mrk_files)\n",
    "print(mrks.shape, mrks.dtype)"
   ]
  },
  {
   "cell_type": "markdown",
   "id": "e8732efe",
   "metadata": {},
   "source": [
    "# Image Data Generation"
   ]
  },
  {
   "cell_type": "code",
   "execution_count": 22,
   "id": "6f208c03",
   "metadata": {},
   "outputs": [],
   "source": [
    "datagen = ImageDataGenerator(\n",
    "    rotation_range=90,\n",
    "    zoom_range=0.1,\n",
    "    horizontal_flip=True,\n",
    "    vertical_flip=True,\n",
    ")"
   ]
  },
  {
   "cell_type": "code",
   "execution_count": 40,
   "id": "6b185e31",
   "metadata": {},
   "outputs": [
    {
     "name": "stdout",
     "output_type": "stream",
     "text": [
      "Found 32 images belonging to 1 classes.\n"
     ]
    }
   ],
   "source": [
    "flow = datagen.flow_from_directory(\n",
    "    FOLDER_DATA,\n",
    "    target_size=STAMP_SIZE,\n",
    "    color_mode=\"rgba\",\n",
    "    classes=[\"stamps\"],\n",
    "    batch_size=BATCH_SIZE,\n",
    "    seed=RANDOM_SEED,\n",
    "    interpolation=\"bicubic\",\n",
    ")"
   ]
  },
  {
   "cell_type": "code",
   "execution_count": 47,
   "id": "f0d3187d",
   "metadata": {},
   "outputs": [],
   "source": [
    "def rect_contains(rect, point):\n",
    "    top, left, bottom, right = rect\n",
    "    x, y = point\n",
    "    return top < y < (top + bottom) and left < x < (left + right)\n",
    "\n",
    "\n",
    "def random_point_out_of_rect(rect, max_x, max_y):\n",
    "    random_x, random_y = rect[0] + 1, rect[1] + 1\n",
    "    while rect_contains(rect, (random_x, random_y)):\n",
    "        random_x = np.random.choice(max_x)\n",
    "        random_y = np.random.choice(max_y)\n",
    "    return random_x, random_y\n",
    "\n",
    "\n",
    "def create_foreground_image(stamp, height, width, inner_rect):\n",
    "    im_fgd = np.zeros((height, width, 4))\n",
    "    stamp_height, stamp_width = stamp.shape[0], stamp.shape[1]\n",
    "    \n",
    "    random_x, random_y = random_point_out_of_rect(\n",
    "        inner_rect,\n",
    "        width - stamp_width - 1, \n",
    "        height - stamp_height - 1,\n",
    "    )\n",
    "    \n",
    "    top, left = random_y, random_x\n",
    "    bottom, right = top + stamp_height, left + stamp_width\n",
    "    im_fgd[top:bottom, left:right, :] = stamp\n",
    "    return im_fgd\n",
    "\n",
    "\n",
    "def alpha_blending(im_foreground, im_background):\n",
    "    c1, c2, c3, ca = cv2.split(im_foreground)\n",
    "    im_fgd = cv2.merge((c1, c2, c3)).astype(np.float)\n",
    "    im_bgd = im_background.astype(np.float)\n",
    "    alpha = cv2.merge((ca, ca, ca)).astype(np.float) / 255\n",
    "\n",
    "    im_fgd = cv2.multiply(alpha, im_fgd)\n",
    "    im_bgd = cv2.multiply(1.0 - alpha, im_bgd)\n",
    "    im_out = cv2.add(im_fgd, im_bgd)\n",
    "    return im_out\n",
    "\n",
    "\n",
    "def add_stamp_to_image(image, stamp, inner_rect, border_size=25):\n",
    "    im_bgd = cv2.copyMakeBorder(\n",
    "        image,\n",
    "        top=border_size,\n",
    "        bottom=border_size,\n",
    "        left=border_size,\n",
    "        right=border_size,\n",
    "        borderType=cv2.BORDER_CONSTANT,\n",
    "        value=0,\n",
    "    )\n",
    "    \n",
    "    im_fgd = create_foreground_image(stamp, im_bgd.shape[0], im_bgd.shape[1], inner_rect)\n",
    "    im_out = alpha_blending(im_fgd, im_bgd)\n",
    "    \n",
    "    top = left = border_size\n",
    "    bottom = top + image.shape[0]\n",
    "    right = left + image.shape[1]\n",
    "    \n",
    "    return im_out[top:bottom, left:right]"
   ]
  },
  {
   "cell_type": "code",
   "execution_count": 52,
   "id": "4360110d",
   "metadata": {},
   "outputs": [
    {
     "data": {
      "text/plain": [
       "True"
      ]
     },
     "execution_count": 52,
     "metadata": {},
     "output_type": "execute_result"
    }
   ],
   "source": [
    "im = images[np.random.choice(images.shape[0])]\n",
    "stamp = flow.next()[0][np.random.choice(32)]\n",
    "im = add_stamp_to_image(im, stamp, (40, 40, 120, 120))\n",
    "cv2.imwrite(\"stamp.png\", stamp)\n",
    "cv2.imwrite(\"out.png\", im)"
   ]
  },
  {
   "cell_type": "code",
   "execution_count": null,
   "id": "a6df3094",
   "metadata": {},
   "outputs": [],
   "source": [
    "N_IMAGES = images.shape[0]\n",
    "batch_idxs = np.split(range(N_IMAGES), range(BATCH_SIZE, N_IMAGES, BATCH_SIZE))\n",
    "\n",
    "for idxs in batch_idxs:\n",
    "    half_size = len(idxs) // 2\n",
    "    random_idxs = np.random.choice(idxs, size=half_size, replace=False)\n",
    "    random_stamps = np.random.choice(BATCH_SIZE, size=half_size, replace=False)\n",
    "    \n",
    "    current_images = images[random_idxs]\n",
    "    current_mrks = mrks[random_idxs]\n",
    "    gen_stamps = flow.next()[0][random_stamps]\n",
    "    print(random_idxs)\n",
    "    print(current_images.shape)\n",
    "    print(gen_stamps.shape)\n",
    "    break"
   ]
  },
  {
   "cell_type": "code",
   "execution_count": null,
   "id": "69c536e8",
   "metadata": {},
   "outputs": [],
   "source": []
  }
 ],
 "metadata": {
  "kernelspec": {
   "display_name": "Python 3 (ipykernel)",
   "language": "python",
   "name": "python3"
  },
  "language_info": {
   "codemirror_mode": {
    "name": "ipython",
    "version": 3
   },
   "file_extension": ".py",
   "mimetype": "text/x-python",
   "name": "python",
   "nbconvert_exporter": "python",
   "pygments_lexer": "ipython3",
   "version": "3.7.10"
  }
 },
 "nbformat": 4,
 "nbformat_minor": 5
}
