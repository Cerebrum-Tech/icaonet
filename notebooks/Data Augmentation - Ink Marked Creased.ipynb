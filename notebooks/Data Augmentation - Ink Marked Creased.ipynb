{
 "cells": [
  {
   "cell_type": "code",
   "execution_count": 1,
   "id": "36a89801",
   "metadata": {},
   "outputs": [
    {
     "name": "stderr",
     "output_type": "stream",
     "text": [
      "Using TensorFlow backend.\n"
     ]
    }
   ],
   "source": [
    "import sys\n",
    "sys.path.append(\"../src/\")\n",
    "\n",
    "import cv2\n",
    "import numpy as np\n",
    "import matplotlib.pyplot as plt\n",
    "import pickle as pkl\n",
    "from os.path import join, exists\n",
    "from sys import stdout\n",
    "from keras.preprocessing.image import ImageDataGenerator\n",
    "\n",
    "from global_config import FOLDER_IMAGES, FOLDER_MRKS, FILE_DATASET, IMAGE_SIZE, RANDOM_SEED\n",
    "from icao_dataset import ICAODataset\n",
    "\n",
    "%matplotlib inline"
   ]
  },
  {
   "cell_type": "code",
   "execution_count": 2,
   "id": "b2e6794f",
   "metadata": {},
   "outputs": [
    {
     "name": "stdout",
     "output_type": "stream",
     "text": [
      "../data/inkmarked_creased/dataset.pkl\n",
      "../data\n",
      "../data/cropped_faces/images/\n",
      "../data/cropped_faces/ground_truth/\n",
      "../data\\inkmarked_creased\\images\n",
      "../data\\inkmarked_creased\\ground_truth\n"
     ]
    }
   ],
   "source": [
    "STAMP_SIZE = (50, 50)\n",
    "BATCH_SIZE = 32\n",
    "\n",
    "PATH_TO_ROOT = \"../\"\n",
    "FILE_DATASET = join(PATH_TO_ROOT, FILE_DATASET)\n",
    "FOLDER_DATA = join(PATH_TO_ROOT, \"data\")\n",
    "FOLDER_MRKS = join(PATH_TO_ROOT, FOLDER_MRKS)\n",
    "FOLDER_IMAGES = join(PATH_TO_ROOT, FOLDER_IMAGES)\n",
    "FOLDER_INKMARKED = join(FOLDER_DATA, \"inkmarked_creased\")\n",
    "FOLDER_INKMARKED_IMAGES = join(FOLDER_INKMARKED, \"images\")\n",
    "FOLDER_INKMARKED_MRKS = join(FOLDER_INKMARKED, \"ground_truth\")\n",
    "\n",
    "print(FILE_DATASET)\n",
    "print(FOLDER_DATA)\n",
    "print(FOLDER_IMAGES)\n",
    "print(FOLDER_MRKS)\n",
    "print(FOLDER_INKMARKED_IMAGES)\n",
    "print(FOLDER_INKMARKED_MRKS)"
   ]
  },
  {
   "cell_type": "markdown",
   "id": "dcc78edf",
   "metadata": {},
   "source": [
    "# Data Loading "
   ]
  },
  {
   "cell_type": "code",
   "execution_count": 3,
   "id": "5f50be6f",
   "metadata": {},
   "outputs": [
    {
     "name": "stdout",
     "output_type": "stream",
     "text": [
      "5731 of 5731\n",
      "5731 of 5731\n"
     ]
    }
   ],
   "source": [
    "if exists(FILE_DATASET):\n",
    "    dataset = pkl.load(open(FILE_DATASET, \"rb\"))\n",
    "else:\n",
    "    dataset = ICAODataset()\n",
    "    dataset.load(FOLDER_IMAGES, FOLDER_MRKS, output_size=IMAGE_SIZE)\n",
    "    pkl.dump(dataset, open(FILE_DATASET, \"wb\"))"
   ]
  },
  {
   "cell_type": "code",
   "execution_count": 4,
   "id": "3b716f10",
   "metadata": {},
   "outputs": [
    {
     "name": "stdout",
     "output_type": "stream",
     "text": [
      "5731\n",
      "5731\n"
     ]
    }
   ],
   "source": [
    "N_IMAGES = len(dataset.images)\n",
    "N_MRKS = len(dataset.mrks)\n",
    "\n",
    "print(N_IMAGES)\n",
    "print(N_MRKS)\n",
    "assert N_IMAGES == N_MRKS "
   ]
  },
  {
   "cell_type": "markdown",
   "id": "e8732efe",
   "metadata": {},
   "source": [
    "# Image Data Generation"
   ]
  },
  {
   "cell_type": "code",
   "execution_count": 5,
   "id": "6f208c03",
   "metadata": {},
   "outputs": [],
   "source": [
    "datagen = ImageDataGenerator(\n",
    "    rotation_range=90,\n",
    "    zoom_range=0.1,\n",
    "    horizontal_flip=True,\n",
    "    vertical_flip=True,\n",
    ")"
   ]
  },
  {
   "cell_type": "code",
   "execution_count": 6,
   "id": "6b185e31",
   "metadata": {},
   "outputs": [
    {
     "name": "stdout",
     "output_type": "stream",
     "text": [
      "Found 32 images belonging to 1 classes.\n"
     ]
    }
   ],
   "source": [
    "flow = datagen.flow_from_directory(\n",
    "    FOLDER_DATA,\n",
    "    target_size=STAMP_SIZE,\n",
    "    color_mode=\"rgba\",\n",
    "    classes=[\"stamps\"],\n",
    "    batch_size=BATCH_SIZE,\n",
    "    seed=RANDOM_SEED,\n",
    "    interpolation=\"bicubic\",\n",
    ")"
   ]
  },
  {
   "cell_type": "code",
   "execution_count": 7,
   "id": "f0d3187d",
   "metadata": {},
   "outputs": [],
   "source": [
    "def rect_contains(rect, point):\n",
    "    top, left, bottom, right = rect\n",
    "    x, y = point\n",
    "    return top < y < (top + bottom) and left < x < (left + right)\n",
    "\n",
    "\n",
    "def random_point_out_of_rect(rect, max_x, max_y):\n",
    "    random_x, random_y = rect[0] + 1, rect[1] + 1\n",
    "    while rect_contains(rect, (random_x, random_y)):\n",
    "        random_x = np.random.choice(max_x)\n",
    "        random_y = np.random.choice(max_y)\n",
    "    return random_x, random_y\n",
    "\n",
    "\n",
    "def create_foreground_image(stamp, height, width, inner_rect):\n",
    "    im_fgd = np.zeros((height, width, 4))\n",
    "    stamp_height, stamp_width = stamp.shape[0], stamp.shape[1]\n",
    "    \n",
    "    random_x, random_y = random_point_out_of_rect(\n",
    "        inner_rect,\n",
    "        width - stamp_width - 1, \n",
    "        height - stamp_height - 1,\n",
    "    )\n",
    "    \n",
    "    top, left = random_y, random_x\n",
    "    bottom, right = top + stamp_height, left + stamp_width\n",
    "    im_fgd[top:bottom, left:right, :] = stamp\n",
    "    return im_fgd\n",
    "\n",
    "\n",
    "def alpha_blending(im_foreground, im_background):\n",
    "    c1, c2, c3, ca = cv2.split(im_foreground)\n",
    "    im_fgd = cv2.merge((c1, c2, c3)).astype(np.float)\n",
    "    im_bgd = im_background.astype(np.float)\n",
    "    alpha = cv2.merge((ca, ca, ca)).astype(np.float) / 255\n",
    "\n",
    "    im_fgd = cv2.multiply(alpha, im_fgd)\n",
    "    im_bgd = cv2.multiply(1.0 - alpha, im_bgd)\n",
    "    im_out = cv2.add(im_fgd, im_bgd)\n",
    "    return im_out\n",
    "\n",
    "\n",
    "def add_stamp_to_image(image, stamp, inner_rect, border_size=25):\n",
    "    im_bgd = cv2.copyMakeBorder(\n",
    "        image,\n",
    "        top=border_size,\n",
    "        bottom=border_size,\n",
    "        left=border_size,\n",
    "        right=border_size,\n",
    "        borderType=cv2.BORDER_CONSTANT,\n",
    "        value=0,\n",
    "    )\n",
    "    \n",
    "    im_fgd = create_foreground_image(stamp, im_bgd.shape[0], im_bgd.shape[1], inner_rect)\n",
    "    im_out = alpha_blending(im_fgd, im_bgd)\n",
    "    \n",
    "    top = left = border_size\n",
    "    bottom = top + image.shape[0]\n",
    "    right = left + image.shape[1]\n",
    "    \n",
    "    return im_out[top:bottom, left:right]"
   ]
  },
  {
   "cell_type": "code",
   "execution_count": 8,
   "id": "a6df3094",
   "metadata": {
    "scrolled": false
   },
   "outputs": [
    {
     "name": "stdout",
     "output_type": "stream",
     "text": [
      "180 of 180\r"
     ]
    }
   ],
   "source": [
    "INNER_RECT = (40, 40, 120, 120) # stamps will not be overlayed inside this rect\n",
    "batch_idxs = np.split(range(N_IMAGES), range(BATCH_SIZE, N_IMAGES, BATCH_SIZE))\n",
    "N_BATCHES = len(batch_idxs)\n",
    "\n",
    "for i, idxs in enumerate(batch_idxs, start=1):\n",
    "    print(f\"{i} of {N_BATCHES}\", end='\\r')\n",
    "    stdout.flush()\n",
    "    \n",
    "    half_size = len(idxs) // 2\n",
    "    random_idxs_images = np.random.choice(idxs, size=half_size, replace=False)\n",
    "    random_idxs_stamps = np.random.choice(BATCH_SIZE, size=half_size, replace=False)\n",
    "    gen_stamps = flow.next()[0][random_idxs_stamps]\n",
    "    \n",
    "    for idx_img, stamp in zip(random_idxs_images, gen_stamps):\n",
    "        dataset.images[idx_img] = add_stamp_to_image(dataset.images[idx_img], stamp, INNER_RECT)\n",
    "        dataset.mrks[idx_img].photo_reqs.ink_marked_creased.value = 0"
   ]
  },
  {
   "cell_type": "code",
   "execution_count": 9,
   "id": "e5fe67fa",
   "metadata": {},
   "outputs": [
    {
     "name": "stdout",
     "output_type": "stream",
     "text": [
      "5731 of 5731\r"
     ]
    }
   ],
   "source": [
    "dataset.save(\n",
    "    folder_images=FOLDER_INKMARKED_IMAGES,\n",
    "    folder_mrks=FOLDER_INKMARKED_MRKS\n",
    ")"
   ]
  }
 ],
 "metadata": {
  "kernelspec": {
   "display_name": "Python 3 (ipykernel)",
   "language": "python",
   "name": "python3"
  },
  "language_info": {
   "codemirror_mode": {
    "name": "ipython",
    "version": 3
   },
   "file_extension": ".py",
   "mimetype": "text/x-python",
   "name": "python",
   "nbconvert_exporter": "python",
   "pygments_lexer": "ipython3",
   "version": "3.7.10"
  }
 },
 "nbformat": 4,
 "nbformat_minor": 5
}
