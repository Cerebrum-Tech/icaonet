{
 "cells": [
  {
   "cell_type": "code",
   "execution_count": 1,
   "metadata": {},
   "outputs": [
    {
     "name": "stderr",
     "output_type": "stream",
     "text": [
      "C:\\Users\\arnal\\Miniconda3\\envs\\dl-gpu\\lib\\site-packages\\tensorflow\\python\\util\\nest.py:823: DeprecationWarning: Using or importing the ABCs from 'collections' instead of from 'collections.abc' is deprecated since Python 3.3,and in 3.9 it will stop working\n",
      "  _pywrap_tensorflow.RegisterType(\"Mapping\", _collections.Mapping)\n",
      "C:\\Users\\arnal\\Miniconda3\\envs\\dl-gpu\\lib\\site-packages\\tensorflow\\python\\training\\checkpointable\\data_structures.py:312: DeprecationWarning: Using or importing the ABCs from 'collections' instead of from 'collections.abc' is deprecated since Python 3.3,and in 3.9 it will stop working\n",
      "  class _ListWrapper(List, collections.MutableSequence,\n",
      "C:\\Users\\arnal\\Miniconda3\\envs\\dl-gpu\\lib\\site-packages\\tensorflow\\python\\training\\checkpointable\\util.py:448: DeprecationWarning: Using or importing the ABCs from 'collections' instead of from 'collections.abc' is deprecated since Python 3.3,and in 3.9 it will stop working\n",
      "  class _ObjectIdentitySet(collections.MutableSet):\n",
      "Using TensorFlow backend.\n",
      "C:\\Users\\arnal\\Miniconda3\\envs\\dl-gpu\\lib\\site-packages\\keras\\callbacks\\callbacks.py:19: DeprecationWarning: Using or importing the ABCs from 'collections' instead of from 'collections.abc' is deprecated since Python 3.3,and in 3.9 it will stop working\n",
      "  from collections import Iterable\n"
     ]
    }
   ],
   "source": [
    "import sys\n",
    "sys.path.append('..')\n",
    "sys.path.append('../../src/')\n",
    "\n",
    "import os\n",
    "import cv2\n",
    "import numpy as np\n",
    "import matplotlib.pyplot as plt\n",
    "import mlflow\n",
    "import mlflow.keras\n",
    "import pickle as pkl\n",
    "import random as rn\n",
    "import tensorflow as tf\n",
    "\n",
    "from os import path\n",
    "from glob import glob\n",
    "\n",
    "import keras.backend as K\n",
    "from keras.callbacks import EarlyStopping, ModelCheckpoint\n",
    "from keras.layers import Input, Conv2D, GlobalAvgPool2D\n",
    "from keras.layers import Dense, Dropout, Concatenate\n",
    "from keras.models import load_model, Model\n",
    "from keras.preprocessing.image import ImageDataGenerator\n",
    "from keras.utils.data_utils import Sequence\n",
    "\n",
    "from imblearn.over_sampling import RandomOverSampler\n",
    "from imblearn.keras import balanced_batch_generator\n",
    "\n",
    "from sklearn.metrics import accuracy_score, precision_score, recall_score, f1_score\n",
    "from sklearn.metrics import confusion_matrix, classification_report\n",
    "from sklearn.model_selection import train_test_split\n",
    "\n",
    "from utils import load, plot\n",
    "from local_config import FOLDER_IMAGES, FOLDER_MODELS\n",
    "from global_config import RANDOM_SEED, IMAGE_SIZE\n",
    "from custom_metrics import precision, recall, f1, specificity \n",
    "from custom_metrics import negative_predictive_value as npv \n",
    "from custom_metrics import matthews_correlation_coefficient as mcc\n",
    "from custom_metrics import equal_error_rate as eer"
   ]
  },
  {
   "cell_type": "code",
   "execution_count": 2,
   "metadata": {},
   "outputs": [
    {
     "name": "stdout",
     "output_type": "stream",
     "text": [
      "../../models/siamese_networks/model_2020_05_23-16_43_01.h5\n",
      "../../data/siamese_networks\n",
      "../../models/siamese_networks\n"
     ]
    }
   ],
   "source": [
    "FILE_BASE_MODEL = '../../models/siamese_networks/model_2020_05_23-16_43_01.h5'\n",
    "\n",
    "TEST_SIZE = 0.2\n",
    "BATCH_SIZE = 32\n",
    "ALPHA = 100.0\n",
    "MLFLOW_EXPERIMENT_NAME = 'Siamese Networks'\n",
    "\n",
    "print(FILE_BASE_MODEL)\n",
    "print(FOLDER_IMAGES)\n",
    "print(FOLDER_MODELS)"
   ]
  },
  {
   "cell_type": "code",
   "execution_count": 3,
   "metadata": {},
   "outputs": [],
   "source": [
    "def timestamp_model_name(prefix='model_', suffix='', format='%Y_%m_%d-%H_%M_%S', ext='.h5'):\n",
    "    from datetime import datetime\n",
    "    timestamp = datetime.now().strftime(format)\n",
    "    return f'{prefix}{timestamp}{suffix}{ext}'\n",
    "\n",
    "\n",
    "def set_random_seeds():\n",
    "    os.environ['PYTHONHASHSEED'] = str(RANDOM_SEED)\n",
    "    rn.seed(RANDOM_SEED)\n",
    "    np.random.seed(RANDOM_SEED)\n",
    "    tf.set_random_seed(RANDOM_SEED)    "
   ]
  },
  {
   "cell_type": "code",
   "execution_count": 4,
   "metadata": {},
   "outputs": [],
   "source": [
    "def load_pos_and_neg_images(req_name):\n",
    "    pos_files = glob(f\"{FOLDER_IMAGES}/{req_name}/positives/*\")\n",
    "    neg_files = glob(f\"{FOLDER_IMAGES}/{req_name}/negatives/*\")\n",
    "    \n",
    "    x_pos = load.images_from_list_files(pos_files, IMAGE_SIZE, interpolation=cv2.INTER_AREA)\n",
    "    x_neg = load.images_from_list_files(neg_files, IMAGE_SIZE, interpolation=cv2.INTER_AREA)\n",
    "    \n",
    "    x_pos_train, x_pos_valid = train_test_split(x_pos, test_size=TEST_SIZE, random_state=RANDOM_SEED)\n",
    "    x_neg_train, x_neg_valid = train_test_split(x_neg, test_size=TEST_SIZE, random_state=RANDOM_SEED)\n",
    "    \n",
    "    return x_pos_train, x_pos_valid, x_neg_train, x_neg_valid\n",
    "\n",
    "\n",
    "def setup_train_and_valid_sets(x_pos_train, x_pos_valid, x_neg_train, x_neg_valid):\n",
    "    x_train = np.concatenate((x_pos_train, x_neg_train), axis=0)\n",
    "    y_train = np.array([1]*x_pos_train.shape[0] + [0]*x_neg_train.shape[0])\n",
    "    \n",
    "    x_valid = np.concatenate((x_pos_valid, x_neg_valid), axis=0)\n",
    "    y_valid = np.array([1]*x_pos_valid.shape[0] + [0]*x_neg_valid.shape[0])\n",
    "    \n",
    "    return x_train, y_train, x_valid, y_valid"
   ]
  },
  {
   "cell_type": "code",
   "execution_count": 101,
   "metadata": {},
   "outputs": [],
   "source": [
    "def print_metrics(y_true, y_pred):\n",
    "    conf_matrix = confusion_matrix(y_true, y_pred) \n",
    "    tn, fp, fn, tp = conf_matrix.ravel()\n",
    "    \n",
    "    accuracy_sk = accuracy_score(y_true, y_pred)\n",
    "    precision_sk = precision_score(y_true, y_pred)\n",
    "    recall_sk = recall_score(y_true, y_pred)\n",
    "    f_measure = f1_score(y_true, y_pred)\n",
    "    specificity_sk = tn / (tn + fp + 1e-7)\n",
    "    npv_sk = tn / (tn + fn + 1e-7)\n",
    "    \n",
    "    num = tp * tn - fp * fn\n",
    "    den = (tp + fp) * (tp + fn) * (tn + fp) * (tn + fn)\n",
    "    mcc_sk = num / np.sqrt(den + 1e-7)\n",
    "    \n",
    "    print()\n",
    "    print('   Final Accuracy: {:=6.2f}%'.format(accuracy_sk * 100))\n",
    "    print('  Final Precision: {:=6.2f}%'.format(precision_sk * 100))\n",
    "    print('     Final Recall: {:=6.2f}%'.format(recall_sk * 100))\n",
    "    print('  Final F-measure: {:=6.2f}%'.format(f_measure * 100))\n",
    "    print('Final Specificity: {:=6.2f}%'.format(specificity_sk * 100))\n",
    "    print('        Final NPV: {:=6.2f}%'.format(npv_sk * 100))\n",
    "    print('        Final MCC: {:=6.2f}%'.format(mcc_sk * 100))\n",
    "    print()\n",
    "\n",
    "    print(confusion_matrix(y_true, y_pred))\n",
    "    print(classification_report(y_true, y_pred))"
   ]
  },
  {
   "cell_type": "markdown",
   "metadata": {},
   "source": [
    "# Triplet Generator "
   ]
  },
  {
   "cell_type": "code",
   "execution_count": 6,
   "metadata": {},
   "outputs": [],
   "source": [
    "class RandomTripletGenerator(Sequence):\n",
    "    \"\"\"Generate Random Triplets (A, P, N) for Siamese Networks on the fly\"\"\"\n",
    "\n",
    "    def __init__(self, pos_images, neg_images, emb_dim, batch_size=1, datagen=ImageDataGenerator(), random_seed=None):\n",
    "        self.pos_images = pos_images\n",
    "        self.neg_images = neg_images\n",
    "        self.emb_dim = emb_dim\n",
    "        self.batch_size = batch_size\n",
    "        self.datagen = datagen\n",
    "        np.random.seed(random_seed)\n",
    "        \n",
    "    def __len__(self):\n",
    "        n_pos = self.pos_images.shape[0]\n",
    "        n_neg = self.neg_images.shape[0]\n",
    "        return min(n_pos, n_neg) // self.batch_size\n",
    "        \n",
    "    def __getitem__(self, idx):\n",
    "        anc_batch = self.datagen.flow(self.neg_images, batch_size=self.batch_size).next()\n",
    "        pos_batch = self.datagen.flow(self.pos_images, batch_size=self.batch_size).next()\n",
    "        neg_batch = self.datagen.flow(self.neg_images, batch_size=self.batch_size).next()\n",
    "        \n",
    "        x = [anc_batch, neg_batch, pos_batch]\n",
    "        y = np.zeros(shape=(self.batch_size, 3 * self.emb_dim))\n",
    "        return x, y\n",
    "\n",
    "\n",
    "class DeterministicTripletGenerator(Sequence):\n",
    "    def __init__(self, triplet_gen, steps_per_epoch):\n",
    "        self.steps_per_epoch = steps_per_epoch\n",
    "        self.anc_gen = []\n",
    "        self.pos_gen = []\n",
    "        self.neg_gen = []\n",
    "        self.y_gen = []\n",
    "        \n",
    "        for i in range(steps_per_epoch):\n",
    "            (anc, neg, pos), y = triplet_gen.__getitem__(None)\n",
    "            self.anc_gen.append(anc)\n",
    "            self.neg_gen.append(neg)\n",
    "            self.pos_gen.append(pos)\n",
    "            self.y_gen.append(y)\n",
    "            \n",
    "    def __len__(self):\n",
    "        return self.steps_per_epoch\n",
    "        \n",
    "    def __getitem__(self, idx):\n",
    "        anc_batch = self.anc_gen[idx]\n",
    "        neg_batch = self.neg_gen[idx]\n",
    "        pos_batch = self.pos_gen[idx]\n",
    "        y_batch = self.y_gen[idx]\n",
    "        \n",
    "        return [anc_batch, neg_batch, pos_batch], y_batch"
   ]
  },
  {
   "cell_type": "markdown",
   "metadata": {},
   "source": [
    "# Classification Generator "
   ]
  },
  {
   "cell_type": "code",
   "execution_count": 60,
   "metadata": {},
   "outputs": [],
   "source": [
    "class RandomBalancedDataGenerator(Sequence):\n",
    "    \"\"\"ImageDataGenerator + RandomOversampling\"\"\"\n",
    "    def __init__(self, x, y, datagen=ImageDataGenerator(), batch_size=1):\n",
    "        self.datagen = datagen\n",
    "        self.batch_size = batch_size\n",
    "        self._shape = x.shape   \n",
    "        \n",
    "        self.datagen.fit(x)\n",
    "        self.gen, self.steps_per_epoch = balanced_batch_generator(x.reshape(x.shape[0], -1), y, sampler=RandomOverSampler(), batch_size=self.batch_size, keep_sparse=True)\n",
    "        \n",
    "    def __len__(self):\n",
    "        return self.steps_per_epoch   \n",
    "    \n",
    "    def __getitem__(self, idx):\n",
    "        x_batch, y_batch = self.gen.__next__()\n",
    "        x_batch = x_batch.reshape(-1, *self._shape[1:])\n",
    "        return self.datagen.flow(x_batch, y_batch, batch_size=self.batch_size).next()\n",
    "\n",
    "\n",
    "class DeterministicBalancedGenerator(Sequence):\n",
    "    def __init__(self, balanced_gen):\n",
    "        self.x_gen = []\n",
    "        self.y_gen = []\n",
    "        self.steps_per_epoch = balanced_gen.steps_per_epoch\n",
    "        \n",
    "        for i in range(balanced_gen.steps_per_epoch):\n",
    "            x, y = balanced_gen.__getitem__(None)\n",
    "            self.x_gen.append(x)\n",
    "            self.y_gen.append(y)\n",
    "        \n",
    "    def __len__(self):\n",
    "        return self.steps_per_epoch\n",
    "        \n",
    "    def __getitem__(self, idx):\n",
    "        return self.x_gen[idx], self.y_gen[idx]"
   ]
  },
  {
   "cell_type": "markdown",
   "metadata": {},
   "source": [
    "# Triplet Loss "
   ]
  },
  {
   "cell_type": "code",
   "execution_count": 8,
   "metadata": {},
   "outputs": [],
   "source": [
    "def triplet_loss(alpha=0.2):\n",
    "    \"\"\"\n",
    "    Implementation of the triplet loss function\n",
    "    Arguments:\n",
    "    y_true -- true labels, required when you define a loss in Keras, you don't need it in this function.\n",
    "    y_pred -- python list containing three objects:\n",
    "        anc -- the encodings for the anchor data\n",
    "        pos -- the encodings for the positive data\n",
    "        neg -- the encodings for the negative data\n",
    "    Returns:\n",
    "    loss -- real number, value of the loss\n",
    "    \"\"\"\n",
    "    def loss_func(y_true, y_pred):\n",
    "        total_length = y_pred.shape.as_list()[-1]\n",
    "\n",
    "        anc = y_pred[:, 0:int(total_length * 1/3)]\n",
    "        pos = y_pred[:, int(total_length * 1/3):int(total_length * 2/3)]\n",
    "        neg = y_pred[:, int(total_length * 2/3):int(total_length * 3/3)]\n",
    "        \n",
    "        pos_dist = K.sum(K.square(anc - pos), axis=1)\n",
    "        neg_dist = K.sum(K.square(anc - neg), axis=1)\n",
    "\n",
    "        loss = K.maximum(pos_dist - neg_dist + alpha, 0.0)\n",
    "        return loss\n",
    " \n",
    "    return loss_func"
   ]
  },
  {
   "cell_type": "markdown",
   "metadata": {},
   "source": [
    "# Training Functions "
   ]
  },
  {
   "cell_type": "code",
   "execution_count": 34,
   "metadata": {},
   "outputs": [],
   "source": [
    "def load_encoder(file_encoder):\n",
    "    autoencoder = load_model(file_encoder)\n",
    "    encoder = Model(inputs=autoencoder.inputs, outputs=autoencoder.get_layer(name='encoded').output)\n",
    "    return encoder\n",
    "\n",
    "\n",
    "def build_shared_model(base_model, name):\n",
    "    set_random_seeds()\n",
    "    \n",
    "    req_emb = GlobalAvgPool2D()(base_model.output)\n",
    "    req_emb = Dropout(rate=0.5)(req_emb)\n",
    "    req_emb = Dense(units=128, activation='tanh', name=f'{name}_embeddings')(req_emb)\n",
    "    req_model = Model(inputs=base_model.inputs, outputs=req_emb)\n",
    "\n",
    "    for layer in req_model.layers:\n",
    "        layer.trainable = (name in layer.name)\n",
    "    return req_model\n",
    "\n",
    "\n",
    "def build_siamese_model(base_model):\n",
    "    set_random_seeds()\n",
    "\n",
    "    input_anc = Input(shape=(*IMAGE_SIZE, 3))\n",
    "    input_pos = Input(shape=(*IMAGE_SIZE, 3))\n",
    "    input_neg = Input(shape=(*IMAGE_SIZE, 3))\n",
    "\n",
    "    output_anc = base_model(input_anc)\n",
    "    output_pos = base_model(input_pos)\n",
    "    output_neg = base_model(input_neg)\n",
    "\n",
    "    inputs = [input_anc, input_pos, input_neg]\n",
    "    outputs = Concatenate(axis=-1)([output_anc, output_pos, output_neg])\n",
    "\n",
    "    triplet_model = Model(inputs, outputs)\n",
    "    triplet_model.compile(optimizer='adam', loss=triplet_loss(ALPHA))\n",
    "    return triplet_model\n",
    "\n",
    "\n",
    "def build_classification_model(base_model, name):\n",
    "    set_random_seeds()\n",
    "    \n",
    "    output_name = f'{name}_embeddings'\n",
    "    outputs = Dropout(rate=0.5)(base_model.get_layer(output_name).output)\n",
    "    outputs = Dense(units=1, activation='sigmoid', name=f'{name}')(outputs)\n",
    "    model = Model(inputs=base_model.inputs, outputs=outputs)\n",
    "\n",
    "    for layer in model.layers:\n",
    "        layer.trainable = name.endswith(layer.name)\n",
    "        \n",
    "    model.compile(\n",
    "        optimizer='adam', \n",
    "        loss='binary_crossentropy', \n",
    "        metrics=['accuracy', precision, recall, f1, specificity, npv, mcc, eer]\n",
    "    )\n",
    "    \n",
    "    return model"
   ]
  },
  {
   "cell_type": "code",
   "execution_count": 53,
   "metadata": {},
   "outputs": [],
   "source": [
    "def train_siamese_model(model, train_gen, valid_gen):\n",
    "    list_callbacks = [\n",
    "        EarlyStopping(monitor='val_loss', patience=30, verbose=1, restore_best_weights=True),\n",
    "    ]\n",
    "    \n",
    "#     mlflow.set_experiment(MLFLOW_EXPERIMENT_NAME)\n",
    "#     mlflow.log_param(\"seed\", RANDOM_SEED)\n",
    "#     mlflow.log_param(\"alpha\", ALPHA)\n",
    "#     mlflow.log_param(\"batch_size\", BATCH_SIZE)\n",
    "#     mlflow.log_param(\"file_model\", FILE_MODEL)\n",
    "#     mlflow.set_tag(\"requirement\", name)\n",
    "#     mlflow.set_tag(\"type\", \"embeddings\")\n",
    "#     mlflow.keras.autolog()\n",
    "    \n",
    "    hist = model.fit_generator(\n",
    "        train_gen, \n",
    "        steps_per_epoch=100,\n",
    "        epochs=1,\n",
    "        validation_data=valid_gen,\n",
    "        validation_steps=valid_gen.steps_per_epoch,\n",
    "        callbacks=list_callbacks\n",
    "    )\n",
    "    \n",
    "    plot.keras_hist(hist.history)\n",
    "    mlflow.end_run()\n",
    "\n",
    "\n",
    "def train_classification_model(model, train_gen, valid_gen, name):\n",
    "    FILE_MODEL = FOLDER_MODELS + '/' + timestamp_model_name(prefix=f'{name}_')\n",
    "    metric_to_monitor = 'val_matthews_correlation_coefficient'\n",
    "    \n",
    "    list_callbacks = [\n",
    "        EarlyStopping(monitor=metric_to_monitor, mode='max', patience=50, verbose=1, restore_best_weights=True),\n",
    "#         ModelCheckpoint(FILE_MODEL, monitor=metric_to_monitor, mode='max', verbose=1, save_best_only=True)\n",
    "    ]\n",
    "    \n",
    "#     mlflow.set_experiment(MLFLOW_EXPERIMENT_NAME)\n",
    "#     mlflow.log_param(\"seed\", RANDOM_SEED)\n",
    "#     mlflow.log_param(\"batch_size\", BATCH_SIZE)\n",
    "#     mlflow.log_param(\"file_model\", FILE_MODEL)\n",
    "#     mlflow.set_tag(\"requirement\", name)\n",
    "#     mlflow.set_tag(\"type\", \"classification\")\n",
    "#     mlflow.keras.autolog()\n",
    "\n",
    "    hist = model.fit_generator(\n",
    "        train_gen, \n",
    "        steps_per_epoch=train_gen.steps_per_epoch,\n",
    "        epochs=1,\n",
    "        validation_data=valid_gen,\n",
    "        validation_steps=valid_gen.steps_per_epoch,\n",
    "        callbacks=list_callbacks\n",
    "    )\n",
    "    \n",
    "    plot.keras_hist(hist.history)\n",
    "    mlflow.end_run()\n",
    "    \n",
    "    return FILE_MODEL"
   ]
  },
  {
   "cell_type": "code",
   "execution_count": 98,
   "metadata": {},
   "outputs": [],
   "source": [
    "def run_siamese_training(file_encoder, train_data, valid_data, train_gen, valid_gen, name):\n",
    "    model_encoder = load_encoder(file_encoder)\n",
    "    model_shared = build_shared_model(model_encoder, name)\n",
    "    model_siamese = build_siamese_model(model_shared)\n",
    "    \n",
    "    emb_dim = model_siamese.output_shape[-1] // 3\n",
    "    \n",
    "    x_pos_train, x_neg_train = train_data\n",
    "    x_pos_valid, x_neg_valid = valid_data\n",
    "    seed_triplet = RandomTripletGenerator(x_pos_valid, x_neg_valid, emb_dim, BATCH_SIZE, valid_gen, RANDOM_SEED)\n",
    "    train_gen_triplet = RandomTripletGenerator(x_pos_train, x_neg_train, emb_dim, BATCH_SIZE, train_gen)\n",
    "    valid_gen_triplet = DeterministicTripletGenerator(seed_triplet, steps_per_epoch=100)\n",
    "    \n",
    "    train_siamese_model(model_siamese, train_gen_triplet, valid_gen_triplet)\n",
    "\n",
    "    return model_shared\n",
    "    \n",
    "def run_classification_training(model_shared, train_data, valid_data, train_gen, valid_gen, name):\n",
    "    x_train, y_train = train_data\n",
    "    x_valid, y_valid = valid_data\n",
    "    \n",
    "    valid_bal = RandomBalancedDataGenerator(x_valid, y_valid, valid_gen, BATCH_SIZE)\n",
    "    train_gen_bal = RandomBalancedDataGenerator(x_train, y_train, train_gen, BATCH_SIZE)\n",
    "    valid_gen_bal = DeterministicBalancedGenerator(valid_bal)\n",
    "    \n",
    "    model_classification = build_classification_model(model_shared, name)\n",
    "    file_model = train_classification_model(model_classification, train_gen_bal, valid_gen_bal, name)\n",
    "\n",
    "    x_gen = valid_gen.flow(x_valid, batch_size=len(y_valid), shuffle=False).next()\n",
    "    y_pred = model_classification.predict(x_gen).flatten()\n",
    "    y_pred = np.where(y_pred > 0.5, 1, 0)\n",
    "    print_metrics(y_valid, y_pred)\n",
    "    \n",
    "    return model_classification, file_model"
   ]
  },
  {
   "cell_type": "code",
   "execution_count": 13,
   "metadata": {},
   "outputs": [
    {
     "name": "stdout",
     "output_type": "stream",
     "text": [
      "900 of 900\n",
      "846 of 846\n",
      "(1396, 160, 160, 3) float32\n",
      "(1396,) int32\n",
      "(350, 160, 160, 3) float32\n",
      "(350,) int32\n"
     ]
    }
   ],
   "source": [
    "REQ_NAME = 'hat_cap'\n",
    "\n",
    "x_pos_train, x_pos_valid, x_neg_train, x_neg_valid = load_pos_and_neg_images(REQ_NAME)\n",
    "x_train, y_train, x_valid, y_valid = setup_train_and_valid_sets(x_pos_train, x_pos_valid, x_neg_train, x_neg_valid)\n",
    "\n",
    "print(x_train.shape, x_train.dtype)\n",
    "print(y_train.shape, y_train.dtype)\n",
    "print(x_valid.shape, x_valid.dtype)\n",
    "print(y_valid.shape, y_valid.dtype)"
   ]
  },
  {
   "cell_type": "code",
   "execution_count": 14,
   "metadata": {},
   "outputs": [
    {
     "name": "stdout",
     "output_type": "stream",
     "text": [
      "WARNING:tensorflow:From C:\\Users\\arnal\\Miniconda3\\envs\\dl-gpu\\lib\\site-packages\\tensorflow\\python\\ops\\resource_variable_ops.py:435: colocate_with (from tensorflow.python.framework.ops) is deprecated and will be removed in a future version.\n",
      "Instructions for updating:\n",
      "Colocations handled automatically by placer.\n"
     ]
    },
    {
     "name": "stderr",
     "output_type": "stream",
     "text": [
      "C:\\Users\\arnal\\Miniconda3\\envs\\dl-gpu\\lib\\site-packages\\numpy\\lib\\type_check.py:546: DeprecationWarning: np.asscalar(a) is deprecated since NumPy v1.16, use a.item() instead\n",
      "  'a.item() instead', DeprecationWarning, stacklevel=1)\n"
     ]
    },
    {
     "name": "stdout",
     "output_type": "stream",
     "text": [
      "WARNING:tensorflow:From C:\\Users\\arnal\\Miniconda3\\envs\\dl-gpu\\lib\\site-packages\\tensorflow\\python\\ops\\math_ops.py:3066: to_int32 (from tensorflow.python.ops.math_ops) is deprecated and will be removed in a future version.\n",
      "Instructions for updating:\n",
      "Use tf.cast instead.\n",
      "Epoch 1/1\n",
      "100/100 [==============================] - 38s 376ms/step - loss: 93.6626 - val_loss: 79.0715\n"
     ]
    },
    {
     "data": {
      "image/png": "[encoded data removed]",
      "text/plain": [
       "<Figure size 864x288 with 1 Axes>"
      ]
     },
     "metadata": {
      "needs_background": "light"
     },
     "output_type": "display_data"
    }
   ],
   "source": [
    "train_gen = ImageDataGenerator(rescale=1 / 255)\n",
    "valid_gen = ImageDataGenerator(rescale=1 / 255)\n",
    "\n",
    "model_shared = run_siamese_training(\n",
    "    file_encoder=FILE_BASE_MODEL, \n",
    "    train_data=(x_pos_train, x_neg_train), \n",
    "    valid_data=(x_pos_valid, x_neg_valid), \n",
    "    train_gen=train_gen, \n",
    "    valid_gen=valid_gen,\n",
    "    name=REQ_NAME\n",
    ")"
   ]
  },
  {
   "cell_type": "code",
   "execution_count": 99,
   "metadata": {
    "scrolled": false
   },
   "outputs": [
    {
     "name": "stderr",
     "output_type": "stream",
     "text": [
      "C:\\Users\\arnal\\Miniconda3\\envs\\dl-gpu\\lib\\site-packages\\numpy\\lib\\type_check.py:546: DeprecationWarning: np.asscalar(a) is deprecated since NumPy v1.16, use a.item() instead\n",
      "  'a.item() instead', DeprecationWarning, stacklevel=1)\n"
     ]
    },
    {
     "name": "stdout",
     "output_type": "stream",
     "text": [
      "Epoch 1/1\n",
      "45/45 [==============================] - 8s 167ms/step - loss: 0.7364 - accuracy: 0.5854 - precision: 0.6256 - recall: 0.4282 - f1: 0.4986 - specificity: 0.7470 - negative_predictive_value: 0.5686 - matthews_correlation_coefficient: 0.1840 - equal_error_rate: 0.4273 - val_loss: 0.6104 - val_accuracy: 0.6392 - val_precision: 0.9318 - val_recall: 0.2898 - val_f1: 0.4341 - val_specificity: 0.9788 - val_negative_predictive_value: 0.5804 - val_matthews_correlation_coefficient: 0.3642 - val_equal_error_rate: 0.4004\n",
      "(350, 1) (350,)\n",
      "\n",
      "   Final Accuracy:  62.57%\n",
      "  Final Precision:  94.55%\n",
      "     Final Recall:  28.89%\n",
      "  Final F-measure:  44.26%\n",
      "Final Specificity:  98.24%\n",
      "        Final NPV:  56.61%\n",
      "        Final MCC:  37.25%\n",
      "\n",
      "[[167   3]\n",
      " [128  52]]\n",
      "              precision    recall  f1-score   support\n",
      "\n",
      "           0       0.57      0.98      0.72       170\n",
      "           1       0.95      0.29      0.44       180\n",
      "\n",
      "    accuracy                           0.63       350\n",
      "   macro avg       0.76      0.64      0.58       350\n",
      "weighted avg       0.76      0.63      0.58       350\n",
      "\n"
     ]
    },
    {
     "data": {
      "image/png": "[encoded data removed]",
      "text/plain": [
       "<Figure size 864x288 with 2 Axes>"
      ]
     },
     "metadata": {
      "needs_background": "light"
     },
     "output_type": "display_data"
    }
   ],
   "source": [
    "model_clf, file_model = run_classification_training(\n",
    "    model_shared=model_shared,\n",
    "    train_data=(x_train, y_train),\n",
    "    valid_data=(x_valid, y_valid),\n",
    "    train_gen=train_gen,\n",
    "    valid_gen=valid_gen,\n",
    "    name=REQ_NAME\n",
    ")"
   ]
  },
  {
   "cell_type": "code",
   "execution_count": null,
   "metadata": {},
   "outputs": [],
   "source": [
    "random_gen = RandomTripletGenerator(x_pos_valid, x_neg_valid, 128, random_seed=42)\n",
    "det_gen = DeterministicTripletGenerator(random_gen, steps_per_epoch=100)"
   ]
  },
  {
   "cell_type": "code",
   "execution_count": null,
   "metadata": {},
   "outputs": [],
   "source": [
    "(anc, pos, neg), _ = det_gen.__getitem__(10)\n",
    "print(anc.shape, pos.shape, neg.shape)\n",
    "\n",
    "plt.figure(figsize=(20, 6))\n",
    "plt.subplot(1, 3, 1)\n",
    "plt.imshow((anc.squeeze()).astype(np.uint8)[:, :, ::-1])\n",
    "\n",
    "plt.subplot(1, 3, 2)\n",
    "plt.imshow((pos.squeeze()).astype(np.uint8)[:, :, ::-1])\n",
    "\n",
    "plt.subplot(1, 3, 3)\n",
    "plt.imshow((neg.squeeze()).astype(np.uint8)[:, :, ::-1])"
   ]
  },
  {
   "cell_type": "code",
   "execution_count": null,
   "metadata": {},
   "outputs": [],
   "source": []
  },
  {
   "cell_type": "code",
   "execution_count": null,
   "metadata": {},
   "outputs": [],
   "source": []
  },
  {
   "cell_type": "code",
   "execution_count": null,
   "metadata": {},
   "outputs": [],
   "source": []
  },
  {
   "cell_type": "code",
   "execution_count": null,
   "metadata": {},
   "outputs": [],
   "source": [
    "random_gen = RandomBalancedDataGenerator(x_valid, y_valid)\n",
    "det_gen = DeterministicBalancedGenerator(random_gen)"
   ]
  },
  {
   "cell_type": "code",
   "execution_count": null,
   "metadata": {},
   "outputs": [],
   "source": [
    "x, y = det_gen.__getitem__(20)\n",
    "print(x.shape, y.shape)\n",
    "\n",
    "print(y)\n",
    "plt.figure(figsize=(20, 6))\n",
    "plt.imshow((x.squeeze()).astype(np.uint8)[:, :, ::-1])"
   ]
  },
  {
   "cell_type": "code",
   "execution_count": null,
   "metadata": {},
   "outputs": [],
   "source": []
  }
 ],
 "metadata": {
  "kernelspec": {
   "display_name": "Python 3",
   "language": "python",
   "name": "python3"
  },
  "language_info": {
   "codemirror_mode": {
    "name": "ipython",
    "version": 3
   },
   "file_extension": ".py",
   "mimetype": "text/x-python",
   "name": "python",
   "nbconvert_exporter": "python",
   "pygments_lexer": "ipython3",
   "version": "3.7.6"
  }
 },
 "nbformat": 4,
 "nbformat_minor": 4
}
