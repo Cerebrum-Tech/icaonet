{
 "cells": [
  {
   "cell_type": "markdown",
   "id": "e397db07",
   "metadata": {},
   "source": [
    "# Imports and Settings "
   ]
  },
  {
   "cell_type": "code",
   "execution_count": 1,
   "id": "a3fe35ce",
   "metadata": {},
   "outputs": [],
   "source": [
    "import sys\n",
    "sys.path.append(\"../src\")\n",
    "\n",
    "import cv2\n",
    "import dlib\n",
    "import numpy as np\n",
    "import pickle as pkl\n",
    "from os.path import join\n",
    "from icao_dataset import ICAODataset\n",
    "from data_structures import Eye"
   ]
  },
  {
   "cell_type": "code",
   "execution_count": 2,
   "id": "7d9bc900",
   "metadata": {},
   "outputs": [
    {
     "name": "stdout",
     "output_type": "stream",
     "text": [
      "..\\data/cropped_faces_eyes/dataset.pkl\n"
     ]
    }
   ],
   "source": [
    "PATH_TO_ROOT = \"..\"\n",
    "EYE_INDEXES = [36, 39, 42, 45]\n",
    "\n",
    "FILE_SHAPE_PREDICTOR = \"shape_predictor_68_face_landmarks.dat\"\n",
    "FILE_DATASET = join(PATH_TO_ROOT, \"data/cropped_faces_eyes/dataset.pkl\")\n",
    "\n",
    "print(FILE_DATASET)"
   ]
  },
  {
   "cell_type": "code",
   "execution_count": 3,
   "id": "d1e75be9",
   "metadata": {},
   "outputs": [],
   "source": [
    "detector = dlib.get_frontal_face_detector()\n",
    "predictor = dlib.shape_predictor(FILE_SHAPE_PREDICTOR)"
   ]
  },
  {
   "cell_type": "markdown",
   "id": "9bf3838b",
   "metadata": {},
   "source": [
    "# Load Dataset "
   ]
  },
  {
   "cell_type": "code",
   "execution_count": 4,
   "id": "4450e042",
   "metadata": {},
   "outputs": [],
   "source": [
    "dataset = pkl.load(open(FILE_DATASET, \"rb\"))"
   ]
  },
  {
   "cell_type": "code",
   "execution_count": 5,
   "id": "7169075a",
   "metadata": {},
   "outputs": [],
   "source": [
    "for _, im, mrk in dataset:\n",
    "    image = im.astype(np.uint8)\n",
    "    rects = detector(image, 1)\n",
    "    \n",
    "    if len(rects) > 0:\n",
    "        shape = predictor(image, rects[0])\n",
    "        coordinates = np.array([(shape.part(i).x, shape.part(i).y) for i in EYE_INDEXES]).flatten()\n",
    "    else:\n",
    "        coordinates = np.zeros(8, dtype=np.int)\n",
    "    \n",
    "    mrk.right_eye = Eye(*coordinates[:4])\n",
    "    mrk.left_eye = Eye(*coordinates[4:])"
   ]
  },
  {
   "cell_type": "code",
   "execution_count": 6,
   "id": "94e838a6",
   "metadata": {},
   "outputs": [],
   "source": [
    "FILE_OUTPUT = FILE_DATASET.replace(\".pkl\", \"_dlib.pkl\")\n",
    "\n",
    "pkl.dump(dataset, open(FILE_OUTPUT, \"wb\"))"
   ]
  },
  {
   "cell_type": "code",
   "execution_count": null,
   "id": "51d460a1",
   "metadata": {},
   "outputs": [],
   "source": []
  }
 ],
 "metadata": {
  "kernelspec": {
   "display_name": "Python 3 (ipykernel)",
   "language": "python",
   "name": "python3"
  },
  "language_info": {
   "codemirror_mode": {
    "name": "ipython",
    "version": 3
   },
   "file_extension": ".py",
   "mimetype": "text/x-python",
   "name": "python",
   "nbconvert_exporter": "python",
   "pygments_lexer": "ipython3",
   "version": "3.7.10"
  }
 },
 "nbformat": 4,
 "nbformat_minor": 5
}
