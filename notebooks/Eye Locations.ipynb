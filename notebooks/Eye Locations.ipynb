{
 "cells": [
  {
   "cell_type": "markdown",
   "id": "e397db07",
   "metadata": {},
   "source": [
    "# Imports and Settings "
   ]
  },
  {
   "cell_type": "code",
   "execution_count": 1,
   "id": "a3fe35ce",
   "metadata": {},
   "outputs": [],
   "source": [
    "import sys\n",
    "sys.path.append(\"../src\")\n",
    "\n",
    "import cv2\n",
    "import dlib\n",
    "import numpy as np\n",
    "import pickle as pkl\n",
    "from os.path import join\n",
    "from icao_dataset import ICAODataset\n",
    "from data_structures import Eye\n",
    "from global_config import FOLDER_IMAGES, FOLDER_MRKS, IMAGE_SIZE"
   ]
  },
  {
   "cell_type": "code",
   "execution_count": 2,
   "id": "7d9bc900",
   "metadata": {},
   "outputs": [
    {
     "name": "stdout",
     "output_type": "stream",
     "text": [
      "..\\data/cropped_faces_eyes/dataset.pkl\n",
      "..\\data/cropped_faces_eyes/images/\n",
      "..\\data/cropped_faces_eyes/ground_truth/\n"
     ]
    }
   ],
   "source": [
    "PATH_TO_ROOT = \"..\"\n",
    "EYE_INDEXES = [36, 39, 42, 45]\n",
    "\n",
    "FILE_SHAPE_PREDICTOR = \"shape_predictor_68_face_landmarks.dat\"\n",
    "FILE_DATASET = join(PATH_TO_ROOT, \"data/cropped_faces_eyes/dataset.pkl\")\n",
    "FOLDER_IMAGES = join(PATH_TO_ROOT, FOLDER_IMAGES)\n",
    "FOLDER_MRKS = join(PATH_TO_ROOT, FOLDER_MRKS)\n",
    "\n",
    "print(FILE_DATASET)\n",
    "print(FOLDER_IMAGES)\n",
    "print(FOLDER_MRKS)"
   ]
  },
  {
   "cell_type": "code",
   "execution_count": 3,
   "id": "d1e75be9",
   "metadata": {},
   "outputs": [],
   "source": [
    "detector = dlib.get_frontal_face_detector()\n",
    "predictor = dlib.shape_predictor(FILE_SHAPE_PREDICTOR)"
   ]
  },
  {
   "cell_type": "markdown",
   "id": "9bf3838b",
   "metadata": {},
   "source": [
    "# Load Dataset "
   ]
  },
  {
   "cell_type": "code",
   "execution_count": 4,
   "id": "4450e042",
   "metadata": {},
   "outputs": [
    {
     "name": "stdout",
     "output_type": "stream",
     "text": [
      "5731 of 5731\n",
      "5731 of 5731\n"
     ]
    }
   ],
   "source": [
    "dataset = ICAODataset()\n",
    "dataset.load(FOLDER_IMAGES, FOLDER_MRKS, output_size=IMAGE_SIZE, interpolation=cv2.INTER_AREA)"
   ]
  },
  {
   "cell_type": "code",
   "execution_count": 5,
   "id": "7169075a",
   "metadata": {},
   "outputs": [
    {
     "name": "stdout",
     "output_type": "stream",
     "text": [
      "Wall time: 1min 37s\n"
     ]
    }
   ],
   "source": [
    "%%time\n",
    "\n",
    "new_dataset = ICAODataset()\n",
    "n_files = len(dataset.image_files)\n",
    "\n",
    "for i, (file, im, mrk) in enumerate(dataset):\n",
    "    print(f\"{i + 1} of {n_files}\", end=\"\\r\")\n",
    "    image = im.astype(np.uint8)\n",
    "    rects = detector(image, 1)\n",
    "    \n",
    "    if len(rects) == 0:\n",
    "        continue\n",
    "\n",
    "    shape = predictor(image, rects[0])\n",
    "    coordinates = np.array([(shape.part(i).x, shape.part(i).y) for i in EYE_INDEXES]).flatten()\n",
    "    mrk.right_eye = Eye(*coordinates[:4])\n",
    "    mrk.left_eye = Eye(*coordinates[4:])\n",
    "\n",
    "    new_dataset.image_files.append(file)\n",
    "    new_dataset.images.append(im)\n",
    "    new_dataset.mrks.append(mrk)"
   ]
  },
  {
   "cell_type": "code",
   "execution_count": 6,
   "id": "94e838a6",
   "metadata": {},
   "outputs": [],
   "source": [
    "FILE_OUTPUT = FILE_DATASET.replace(\".pkl\", \"_dlib.pkl\")\n",
    "\n",
    "pkl.dump(new_dataset, open(FILE_OUTPUT, \"wb\"), protocol=4)"
   ]
  },
  {
   "cell_type": "code",
   "execution_count": null,
   "id": "5cdc8913",
   "metadata": {},
   "outputs": [],
   "source": []
  }
 ],
 "metadata": {
  "kernelspec": {
   "display_name": "Python 3 (ipykernel)",
   "language": "python",
   "name": "python3"
  },
  "language_info": {
   "codemirror_mode": {
    "name": "ipython",
    "version": 3
   },
   "file_extension": ".py",
   "mimetype": "text/x-python",
   "name": "python",
   "nbconvert_exporter": "python",
   "pygments_lexer": "ipython3",
   "version": "3.7.10"
  }
 },
 "nbformat": 4,
 "nbformat_minor": 5
}
