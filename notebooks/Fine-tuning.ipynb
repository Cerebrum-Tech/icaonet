{
 "cells": [
  {
   "cell_type": "code",
   "execution_count": 1,
   "metadata": {},
   "outputs": [
    {
     "name": "stderr",
     "output_type": "stream",
     "text": [
      "C:\\Users\\arnal\\Miniconda3\\envs\\dl-gpu\\lib\\site-packages\\tensorflow\\python\\util\\nest.py:823: DeprecationWarning: Using or importing the ABCs from 'collections' instead of from 'collections.abc' is deprecated since Python 3.3,and in 3.9 it will stop working\n",
      "  _pywrap_tensorflow.RegisterType(\"Mapping\", _collections.Mapping)\n",
      "C:\\Users\\arnal\\Miniconda3\\envs\\dl-gpu\\lib\\site-packages\\tensorflow\\python\\training\\checkpointable\\data_structures.py:312: DeprecationWarning: Using or importing the ABCs from 'collections' instead of from 'collections.abc' is deprecated since Python 3.3,and in 3.9 it will stop working\n",
      "  class _ListWrapper(List, collections.MutableSequence,\n",
      "C:\\Users\\arnal\\Miniconda3\\envs\\dl-gpu\\lib\\site-packages\\tensorflow\\python\\training\\checkpointable\\util.py:448: DeprecationWarning: Using or importing the ABCs from 'collections' instead of from 'collections.abc' is deprecated since Python 3.3,and in 3.9 it will stop working\n",
      "  class _ObjectIdentitySet(collections.MutableSet):\n",
      "Using TensorFlow backend.\n",
      "C:\\Users\\arnal\\Miniconda3\\envs\\dl-gpu\\lib\\site-packages\\keras\\callbacks\\callbacks.py:19: DeprecationWarning: Using or importing the ABCs from 'collections' instead of from 'collections.abc' is deprecated since Python 3.3,and in 3.9 it will stop working\n",
      "  from collections import Iterable\n"
     ]
    }
   ],
   "source": [
    "from sys import path\n",
    "path.append('../src/')\n",
    "\n",
    "import os\n",
    "import mlflow\n",
    "import mlflow.keras\n",
    "import numpy as np\n",
    "import pickle as pkl\n",
    "import random as rn\n",
    "import tensorflow as tf\n",
    "import matplotlib.pyplot as plt\n",
    "from os.path import join\n",
    "from keras.callbacks import EarlyStopping, ModelCheckpoint\n",
    "from keras.models import load_model, Model\n",
    "from keras.optimizers import Adam\n",
    "from sklearn.metrics import accuracy_score, precision_score, recall_score, f1_score\n",
    "from sklearn.metrics import confusion_matrix, classification_report\n",
    "from sklearn.utils import compute_class_weight\n",
    "from skmultilearn.model_selection import iterative_train_test_split\n",
    "\n",
    "from global_config import FILE_DUMP_IMAGES, FILE_DUMP_MRKS\n",
    "from global_config import RANDOM_SEED, IMAGE_SIZE\n",
    "from custom_metrics import matthews_correlation_coefficient as mcc\n",
    "from utils import plot, load\n",
    "\n",
    "%matplotlib inline"
   ]
  },
  {
   "cell_type": "code",
   "execution_count": 2,
   "metadata": {},
   "outputs": [],
   "source": [
    "TEST_SIZE = 0.2\n",
    "\n",
    "MLFLOW_EXPERIMENT_NAME = 'Fine-tuning'"
   ]
  },
  {
   "cell_type": "code",
   "execution_count": 3,
   "metadata": {},
   "outputs": [
    {
     "name": "stdout",
     "output_type": "stream",
     "text": [
      "..\\models/unsupervised_supervised/\n",
      "..\\models/unsupervised_supervised/model_2020_07_12-02_22_54.h5\n",
      "..\\data/cropped_faces/cropped_faces_images.pkl\n",
      "..\\data/cropped_faces/cropped_faces_mrks.pkl\n"
     ]
    }
   ],
   "source": [
    "PATH_TO_ROOT = '..'\n",
    "\n",
    "FOLDER_MODELS = join(PATH_TO_ROOT, 'models/unsupervised_supervised/')\n",
    "FILE_BASE_MODEL = join(FOLDER_MODELS, 'model_2020_07_12-02_22_54.h5')\n",
    "FILE_DUMP_IMAGES = join(PATH_TO_ROOT, FILE_DUMP_IMAGES)\n",
    "FILE_DUMP_MRKS = join(PATH_TO_ROOT, FILE_DUMP_MRKS)\n",
    "\n",
    "print(FOLDER_MODELS)\n",
    "print(FILE_BASE_MODEL)\n",
    "print(FILE_DUMP_IMAGES)\n",
    "print(FILE_DUMP_MRKS)"
   ]
  },
  {
   "cell_type": "code",
   "execution_count": 4,
   "metadata": {},
   "outputs": [],
   "source": [
    "def timestamp_model_name(prefix='model_', suffix='', format='%Y_%m_%d-%H_%M_%S', ext='.h5'):\n",
    "    from datetime import datetime\n",
    "    timestamp = datetime.now().strftime(format)\n",
    "    return f'{prefix}{timestamp}{suffix}{ext}'\n",
    "\n",
    "def set_random_seeds():\n",
    "    os.environ['PYTHONHASHSEED'] = str(RANDOM_SEED)\n",
    "    rn.seed(RANDOM_SEED)\n",
    "    np.random.seed(RANDOM_SEED)\n",
    "    tf.set_random_seed(RANDOM_SEED)\n",
    "    \n",
    "def compute_class_weights(y):\n",
    "    classes = np.unique(y)\n",
    "    weights = compute_class_weight('balanced', classes, y)\n",
    "    class_weights = dict(zip(classes, weights))\n",
    "    return class_weights\n",
    "\n",
    "def get_output_counts(output_names, y):\n",
    "    output_counts = [np.unique(y[:, i], return_counts=True) for i in range(y.shape[1])]\n",
    "    output_prop = [(unique, counts / counts.sum()) for unique, counts in output_counts]\n",
    "\n",
    "    dict_counts = {name: dict(zip(unique, counts)) for name, (unique, counts) in zip(output_names, output_counts)}\n",
    "    dict_props = {name: dict(zip(unique, counts)) for name, (unique, counts) in zip(output_names, output_prop)}\n",
    "    return dict_counts, dict_props"
   ]
  },
  {
   "cell_type": "markdown",
   "metadata": {},
   "source": [
    "# Load Data"
   ]
  },
  {
   "cell_type": "code",
   "execution_count": 5,
   "metadata": {},
   "outputs": [
    {
     "name": "stdout",
     "output_type": "stream",
     "text": [
      "(5731, 160, 160, 3) float32\n",
      "(5731,) object\n",
      "(5731, 23) int32\n"
     ]
    }
   ],
   "source": [
    "x, _ = pkl.load(open(FILE_DUMP_IMAGES, 'rb'))\n",
    "mrks, _ = pkl.load(open(FILE_DUMP_MRKS, 'rb'))\n",
    "\n",
    "y = np.array([mrk.photo_reqs.values() for mrk in mrks])\n",
    "\n",
    "print(x.shape, x.dtype)\n",
    "print(mrks.shape, mrks.dtype)\n",
    "print(y.shape, y.dtype)"
   ]
  },
  {
   "cell_type": "markdown",
   "metadata": {},
   "source": [
    "# Load Model"
   ]
  },
  {
   "cell_type": "code",
   "execution_count": 6,
   "metadata": {},
   "outputs": [
    {
     "name": "stdout",
     "output_type": "stream",
     "text": [
      "WARNING:tensorflow:From C:\\Users\\arnal\\Miniconda3\\envs\\dl-gpu\\lib\\site-packages\\tensorflow\\python\\ops\\resource_variable_ops.py:435: colocate_with (from tensorflow.python.framework.ops) is deprecated and will be removed in a future version.\n",
      "Instructions for updating:\n",
      "Colocations handled automatically by placer.\n"
     ]
    },
    {
     "name": "stderr",
     "output_type": "stream",
     "text": [
      "C:\\Users\\arnal\\Miniconda3\\envs\\dl-gpu\\lib\\site-packages\\numpy\\lib\\type_check.py:546: DeprecationWarning: np.asscalar(a) is deprecated since NumPy v1.16, use a.item() instead\n",
      "  'a.item() instead', DeprecationWarning, stacklevel=1)\n"
     ]
    },
    {
     "name": "stdout",
     "output_type": "stream",
     "text": [
      "Model: \"ICAOnet\"\n",
      "_________________________________________________________________\n",
      "Layer (type)                 Output Shape              Param #   \n",
      "=================================================================\n",
      "input (InputLayer)           (None, 160, 160, 3)       0         \n",
      "_________________________________________________________________\n",
      "conv_1 (Conv2D)              (None, 160, 160, 32)      896       \n",
      "_________________________________________________________________\n",
      "bn_1 (BatchNormalization)    (None, 160, 160, 32)      128       \n",
      "_________________________________________________________________\n",
      "relu_1 (Activation)          (None, 160, 160, 32)      0         \n",
      "_________________________________________________________________\n",
      "pool_1 (MaxPooling2D)        (None, 80, 80, 32)        0         \n",
      "_________________________________________________________________\n",
      "conv_2 (Conv2D)              (None, 80, 80, 64)        18496     \n",
      "_________________________________________________________________\n",
      "bn_2 (BatchNormalization)    (None, 80, 80, 64)        256       \n",
      "_________________________________________________________________\n",
      "relu_2 (Activation)          (None, 80, 80, 64)        0         \n",
      "_________________________________________________________________\n",
      "pool_2 (MaxPooling2D)        (None, 40, 40, 64)        0         \n",
      "_________________________________________________________________\n",
      "conv_3 (Conv2D)              (None, 40, 40, 128)       73856     \n",
      "_________________________________________________________________\n",
      "bn_3 (BatchNormalization)    (None, 40, 40, 128)       512       \n",
      "_________________________________________________________________\n",
      "relu_3 (Activation)          (None, 40, 40, 128)       0         \n",
      "_________________________________________________________________\n",
      "pool_3 (MaxPooling2D)        (None, 20, 20, 128)       0         \n",
      "_________________________________________________________________\n",
      "conv_4 (Conv2D)              (None, 20, 20, 256)       295168    \n",
      "_________________________________________________________________\n",
      "bn_4 (BatchNormalization)    (None, 20, 20, 256)       1024      \n",
      "_________________________________________________________________\n",
      "relu_4 (Activation)          (None, 20, 20, 256)       0         \n",
      "_________________________________________________________________\n",
      "pool_4 (MaxPooling2D)        (None, 10, 10, 256)       0         \n",
      "_________________________________________________________________\n",
      "conv_5 (Conv2D)              (None, 10, 10, 256)       590080    \n",
      "_________________________________________________________________\n",
      "bn_5 (BatchNormalization)    (None, 10, 10, 256)       1024      \n",
      "_________________________________________________________________\n",
      "encoded (Activation)         (None, 10, 10, 256)       0         \n",
      "_________________________________________________________________\n",
      "global_average_pooling2d_1 ( (None, 256)               0         \n",
      "_________________________________________________________________\n",
      "dropout_1 (Dropout)          (None, 256)               0         \n",
      "_________________________________________________________________\n",
      "dense_1 (Dense)              (None, 64)                16448     \n",
      "_________________________________________________________________\n",
      "dropout_2 (Dropout)          (None, 64)                0         \n",
      "_________________________________________________________________\n",
      "dense_2 (Dense)              (None, 32)                2080      \n",
      "_________________________________________________________________\n",
      "outputs (Dense)              (None, 23)                759       \n",
      "=================================================================\n",
      "Total params: 1,000,727\n",
      "Trainable params: 999,255\n",
      "Non-trainable params: 1,472\n",
      "_________________________________________________________________\n"
     ]
    },
    {
     "name": "stderr",
     "output_type": "stream",
     "text": [
      "C:\\Users\\arnal\\Miniconda3\\envs\\dl-gpu\\lib\\site-packages\\keras\\engine\\saving.py:341: UserWarning: No training configuration found in save file: the model was *not* compiled. Compile it manually.\n",
      "  warnings.warn('No training configuration found in save file: '\n"
     ]
    }
   ],
   "source": [
    "model = load_model(FILE_BASE_MODEL)\n",
    "model.summary()"
   ]
  },
  {
   "cell_type": "markdown",
   "metadata": {},
   "source": [
    "# Fine-tuning "
   ]
  },
  {
   "cell_type": "code",
   "execution_count": 7,
   "metadata": {},
   "outputs": [
    {
     "name": "stdout",
     "output_type": "stream",
     "text": [
      "(4573, 160, 160, 3) float32\n",
      "(4573, 23) int32\n",
      "(1158, 160, 160, 3) float32\n",
      "(1158, 23) int32\n"
     ]
    }
   ],
   "source": [
    "np.random.seed(RANDOM_SEED)\n",
    "x_train_idx, y_train, x_val_idx, y_val = iterative_train_test_split(np.arange(x.shape[0]).reshape(-1, 1), y, test_size=TEST_SIZE)\n",
    "x_train_idx = x_train_idx.ravel()\n",
    "x_val_idx = x_val_idx.ravel()\n",
    "\n",
    "x_train = x[x_train_idx] / 255\n",
    "x_val = x[x_val_idx] / 255\n",
    "\n",
    "print(x_train.shape, x_train.dtype)\n",
    "print(y_train.shape, y_train.dtype)\n",
    "print(x_val.shape, x_val.dtype)\n",
    "print(y_val.shape, y_val.dtype)"
   ]
  },
  {
   "cell_type": "code",
   "execution_count": 8,
   "metadata": {
    "scrolled": false
   },
   "outputs": [
    {
     "name": "stderr",
     "output_type": "stream",
     "text": [
      "C:\\Users\\arnal\\Miniconda3\\envs\\dl-gpu\\lib\\site-packages\\numpy\\lib\\type_check.py:546: DeprecationWarning: np.asscalar(a) is deprecated since NumPy v1.16, use a.item() instead\n",
      "  'a.item() instead', DeprecationWarning, stacklevel=1)\n"
     ]
    },
    {
     "name": "stdout",
     "output_type": "stream",
     "text": [
      "WARNING:tensorflow:From C:\\Users\\arnal\\Miniconda3\\envs\\dl-gpu\\lib\\site-packages\\tensorflow\\python\\ops\\math_ops.py:3066: to_int32 (from tensorflow.python.ops.math_ops) is deprecated and will be removed in a future version.\n",
      "Instructions for updating:\n",
      "Use tf.cast instead.\n"
     ]
    },
    {
     "name": "stderr",
     "output_type": "stream",
     "text": [
      "C:\\Users\\arnal\\Miniconda3\\envs\\dl-gpu\\lib\\site-packages\\mlflow\\utils\\autologging_utils.py:60: DeprecationWarning: inspect.getargspec() is deprecated since Python 3.0, use inspect.signature() or inspect.getfullargspec()\n",
      "  all_param_names, _, _, all_default_values = inspect.getargspec(fn)  # pylint: disable=W1505\n"
     ]
    },
    {
     "name": "stdout",
     "output_type": "stream",
     "text": [
      "Train on 4573 samples, validate on 1158 samples\n",
      "Epoch 1/100\n",
      "4573/4573 [==============================] - 21s 5ms/step - loss: 0.1616 - accuracy: 0.9337 - matthews_correlation_coefficient: 0.7881 - val_loss: 0.1244 - val_accuracy: 0.9525 - val_matthews_correlation_coefficient: 0.8337\n",
      "\n",
      "Epoch 00001: val_matthews_correlation_coefficient improved from -inf to 0.83368, saving model to ..\\models/unsupervised_supervised/fine_tuning_2020_08_09-12_38_30.h5\n",
      "Epoch 2/100\n",
      "4573/4573 [==============================] - 18s 4ms/step - loss: 0.1590 - accuracy: 0.9350 - matthews_correlation_coefficient: 0.7922 - val_loss: 0.1233 - val_accuracy: 0.9522 - val_matthews_correlation_coefficient: 0.8322\n",
      "\n",
      "Epoch 00002: val_matthews_correlation_coefficient did not improve from 0.83368\n",
      "Epoch 3/100\n",
      "4573/4573 [==============================] - 18s 4ms/step - loss: 0.1558 - accuracy: 0.9363 - matthews_correlation_coefficient: 0.7967 - val_loss: 0.1293 - val_accuracy: 0.9497 - val_matthews_correlation_coefficient: 0.8227\n",
      "\n",
      "Epoch 00003: val_matthews_correlation_coefficient did not improve from 0.83368\n",
      "Epoch 4/100\n",
      "4573/4573 [==============================] - 18s 4ms/step - loss: 0.1548 - accuracy: 0.9362 - matthews_correlation_coefficient: 0.7964 - val_loss: 0.1265 - val_accuracy: 0.9514 - val_matthews_correlation_coefficient: 0.8301\n",
      "\n",
      "Epoch 00004: val_matthews_correlation_coefficient did not improve from 0.83368\n",
      "Epoch 5/100\n",
      "4573/4573 [==============================] - 18s 4ms/step - loss: 0.1546 - accuracy: 0.9356 - matthews_correlation_coefficient: 0.7943 - val_loss: 0.1220 - val_accuracy: 0.9528 - val_matthews_correlation_coefficient: 0.8356\n",
      "\n",
      "Epoch 00005: val_matthews_correlation_coefficient improved from 0.83368 to 0.83562, saving model to ..\\models/unsupervised_supervised/fine_tuning_2020_08_09-12_38_30.h5\n",
      "Epoch 6/100\n",
      "4573/4573 [==============================] - 18s 4ms/step - loss: 0.1515 - accuracy: 0.9378 - matthews_correlation_coefficient: 0.8023 - val_loss: 0.1266 - val_accuracy: 0.9515 - val_matthews_correlation_coefficient: 0.8334\n",
      "\n",
      "Epoch 00006: val_matthews_correlation_coefficient did not improve from 0.83562\n",
      "Epoch 7/100\n",
      "4573/4573 [==============================] - 18s 4ms/step - loss: 0.1505 - accuracy: 0.9376 - matthews_correlation_coefficient: 0.8012 - val_loss: 0.1219 - val_accuracy: 0.9535 - val_matthews_correlation_coefficient: 0.8372\n",
      "\n",
      "Epoch 00007: val_matthews_correlation_coefficient improved from 0.83562 to 0.83724, saving model to ..\\models/unsupervised_supervised/fine_tuning_2020_08_09-12_38_30.h5\n",
      "Epoch 8/100\n",
      "4573/4573 [==============================] - 18s 4ms/step - loss: 0.1502 - accuracy: 0.9375 - matthews_correlation_coefficient: 0.8010 - val_loss: 0.1222 - val_accuracy: 0.9537 - val_matthews_correlation_coefficient: 0.8388\n",
      "\n",
      "Epoch 00008: val_matthews_correlation_coefficient improved from 0.83724 to 0.83878, saving model to ..\\models/unsupervised_supervised/fine_tuning_2020_08_09-12_38_30.h5\n",
      "Epoch 9/100\n",
      "4573/4573 [==============================] - 18s 4ms/step - loss: 0.1479 - accuracy: 0.9396 - matthews_correlation_coefficient: 0.8080 - val_loss: 0.1224 - val_accuracy: 0.9540 - val_matthews_correlation_coefficient: 0.8392\n",
      "\n",
      "Epoch 00009: val_matthews_correlation_coefficient improved from 0.83878 to 0.83920, saving model to ..\\models/unsupervised_supervised/fine_tuning_2020_08_09-12_38_30.h5\n",
      "Epoch 10/100\n",
      "4573/4573 [==============================] - 18s 4ms/step - loss: 0.1497 - accuracy: 0.9379 - matthews_correlation_coefficient: 0.8021 - val_loss: 0.1249 - val_accuracy: 0.9505 - val_matthews_correlation_coefficient: 0.8275\n",
      "\n",
      "Epoch 00010: val_matthews_correlation_coefficient did not improve from 0.83920\n",
      "Epoch 11/100\n",
      "4573/4573 [==============================] - 18s 4ms/step - loss: 0.1490 - accuracy: 0.9385 - matthews_correlation_coefficient: 0.8045 - val_loss: 0.1222 - val_accuracy: 0.9532 - val_matthews_correlation_coefficient: 0.8371\n",
      "\n",
      "Epoch 00011: val_matthews_correlation_coefficient did not improve from 0.83920\n",
      "Epoch 12/100\n",
      "4573/4573 [==============================] - 18s 4ms/step - loss: 0.1499 - accuracy: 0.9378 - matthews_correlation_coefficient: 0.8023 - val_loss: 0.1250 - val_accuracy: 0.9512 - val_matthews_correlation_coefficient: 0.8307\n",
      "\n",
      "Epoch 00012: val_matthews_correlation_coefficient did not improve from 0.83920\n",
      "Epoch 13/100\n",
      "4573/4573 [==============================] - 18s 4ms/step - loss: 0.1483 - accuracy: 0.9392 - matthews_correlation_coefficient: 0.8061 - val_loss: 0.1248 - val_accuracy: 0.9523 - val_matthews_correlation_coefficient: 0.8329\n",
      "\n",
      "Epoch 00013: val_matthews_correlation_coefficient did not improve from 0.83920\n",
      "Epoch 14/100\n",
      "4573/4573 [==============================] - 18s 4ms/step - loss: 0.1468 - accuracy: 0.9390 - matthews_correlation_coefficient: 0.8060 - val_loss: 0.1226 - val_accuracy: 0.9535 - val_matthews_correlation_coefficient: 0.8383\n",
      "\n",
      "Epoch 00014: val_matthews_correlation_coefficient did not improve from 0.83920\n",
      "Epoch 15/100\n",
      "4573/4573 [==============================] - 18s 4ms/step - loss: 0.1469 - accuracy: 0.9390 - matthews_correlation_coefficient: 0.8060 - val_loss: 0.1257 - val_accuracy: 0.9510 - val_matthews_correlation_coefficient: 0.8295\n",
      "\n",
      "Epoch 00015: val_matthews_correlation_coefficient did not improve from 0.83920\n",
      "Epoch 16/100\n",
      "4573/4573 [==============================] - 18s 4ms/step - loss: 0.1469 - accuracy: 0.9390 - matthews_correlation_coefficient: 0.8059 - val_loss: 0.1251 - val_accuracy: 0.9513 - val_matthews_correlation_coefficient: 0.8304\n",
      "\n",
      "Epoch 00016: val_matthews_correlation_coefficient did not improve from 0.83920\n",
      "Epoch 17/100\n",
      "4573/4573 [==============================] - 18s 4ms/step - loss: 0.1478 - accuracy: 0.9393 - matthews_correlation_coefficient: 0.8073 - val_loss: 0.1231 - val_accuracy: 0.9529 - val_matthews_correlation_coefficient: 0.8367\n",
      "\n",
      "Epoch 00017: val_matthews_correlation_coefficient did not improve from 0.83920\n",
      "Epoch 18/100\n",
      "4573/4573 [==============================] - 18s 4ms/step - loss: 0.1450 - accuracy: 0.9396 - matthews_correlation_coefficient: 0.8080 - val_loss: 0.1235 - val_accuracy: 0.9522 - val_matthews_correlation_coefficient: 0.8323\n",
      "\n",
      "Epoch 00018: val_matthews_correlation_coefficient did not improve from 0.83920\n",
      "Epoch 19/100\n",
      "4573/4573 [==============================] - 19s 4ms/step - loss: 0.1446 - accuracy: 0.9402 - matthews_correlation_coefficient: 0.8098 - val_loss: 0.1249 - val_accuracy: 0.9518 - val_matthews_correlation_coefficient: 0.8325\n",
      "\n",
      "Epoch 00019: val_matthews_correlation_coefficient did not improve from 0.83920\n",
      "Epoch 20/100\n",
      "4573/4573 [==============================] - 19s 4ms/step - loss: 0.1435 - accuracy: 0.9409 - matthews_correlation_coefficient: 0.8121 - val_loss: 0.1215 - val_accuracy: 0.9543 - val_matthews_correlation_coefficient: 0.8405\n",
      "\n",
      "Epoch 00020: val_matthews_correlation_coefficient improved from 0.83920 to 0.84051, saving model to ..\\models/unsupervised_supervised/fine_tuning_2020_08_09-12_38_30.h5\n",
      "Epoch 21/100\n",
      "4573/4573 [==============================] - 19s 4ms/step - loss: 0.1434 - accuracy: 0.9401 - matthews_correlation_coefficient: 0.8095 - val_loss: 0.1240 - val_accuracy: 0.9532 - val_matthews_correlation_coefficient: 0.8371\n",
      "\n",
      "Epoch 00021: val_matthews_correlation_coefficient did not improve from 0.84051\n",
      "Epoch 22/100\n",
      "4573/4573 [==============================] - 19s 4ms/step - loss: 0.1448 - accuracy: 0.9397 - matthews_correlation_coefficient: 0.8084 - val_loss: 0.1256 - val_accuracy: 0.9512 - val_matthews_correlation_coefficient: 0.8293\n",
      "\n",
      "Epoch 00022: val_matthews_correlation_coefficient did not improve from 0.84051\n",
      "Epoch 23/100\n",
      "4573/4573 [==============================] - 18s 4ms/step - loss: 0.1439 - accuracy: 0.9414 - matthews_correlation_coefficient: 0.8136 - val_loss: 0.1258 - val_accuracy: 0.9518 - val_matthews_correlation_coefficient: 0.8313\n",
      "\n",
      "Epoch 00023: val_matthews_correlation_coefficient did not improve from 0.84051\n",
      "Epoch 24/100\n",
      "4573/4573 [==============================] - 18s 4ms/step - loss: 0.1432 - accuracy: 0.9408 - matthews_correlation_coefficient: 0.8116 - val_loss: 0.1241 - val_accuracy: 0.9513 - val_matthews_correlation_coefficient: 0.8301\n",
      "\n",
      "Epoch 00024: val_matthews_correlation_coefficient did not improve from 0.84051\n",
      "Epoch 25/100\n"
     ]
    },
    {
     "name": "stdout",
     "output_type": "stream",
     "text": [
      "4573/4573 [==============================] - 18s 4ms/step - loss: 0.1422 - accuracy: 0.9405 - matthews_correlation_coefficient: 0.8111 - val_loss: 0.1241 - val_accuracy: 0.9530 - val_matthews_correlation_coefficient: 0.8361\n",
      "\n",
      "Epoch 00025: val_matthews_correlation_coefficient did not improve from 0.84051\n",
      "Epoch 26/100\n",
      "4573/4573 [==============================] - 18s 4ms/step - loss: 0.1414 - accuracy: 0.9421 - matthews_correlation_coefficient: 0.8166 - val_loss: 0.1369 - val_accuracy: 0.9486 - val_matthews_correlation_coefficient: 0.8206\n",
      "\n",
      "Epoch 00026: val_matthews_correlation_coefficient did not improve from 0.84051\n",
      "Epoch 27/100\n",
      "4573/4573 [==============================] - 18s 4ms/step - loss: 0.1410 - accuracy: 0.9423 - matthews_correlation_coefficient: 0.8167 - val_loss: 0.1209 - val_accuracy: 0.9544 - val_matthews_correlation_coefficient: 0.8412\n",
      "\n",
      "Epoch 00027: val_matthews_correlation_coefficient improved from 0.84051 to 0.84117, saving model to ..\\models/unsupervised_supervised/fine_tuning_2020_08_09-12_38_30.h5\n",
      "Epoch 28/100\n",
      "4573/4573 [==============================] - 18s 4ms/step - loss: 0.1408 - accuracy: 0.9416 - matthews_correlation_coefficient: 0.8142 - val_loss: 0.1278 - val_accuracy: 0.9512 - val_matthews_correlation_coefficient: 0.8295\n",
      "\n",
      "Epoch 00028: val_matthews_correlation_coefficient did not improve from 0.84117\n",
      "Epoch 29/100\n",
      "4573/4573 [==============================] - 18s 4ms/step - loss: 0.1419 - accuracy: 0.9413 - matthews_correlation_coefficient: 0.8137 - val_loss: 0.1295 - val_accuracy: 0.9492 - val_matthews_correlation_coefficient: 0.8220\n",
      "\n",
      "Epoch 00029: val_matthews_correlation_coefficient did not improve from 0.84117\n",
      "Epoch 30/100\n",
      "4573/4573 [==============================] - 18s 4ms/step - loss: 0.1395 - accuracy: 0.9423 - matthews_correlation_coefficient: 0.8168 - val_loss: 0.1233 - val_accuracy: 0.9539 - val_matthews_correlation_coefficient: 0.8398\n",
      "\n",
      "Epoch 00030: val_matthews_correlation_coefficient did not improve from 0.84117\n",
      "Epoch 31/100\n",
      "4573/4573 [==============================] - 18s 4ms/step - loss: 0.1400 - accuracy: 0.9428 - matthews_correlation_coefficient: 0.8183 - val_loss: 0.1293 - val_accuracy: 0.9510 - val_matthews_correlation_coefficient: 0.8283\n",
      "\n",
      "Epoch 00031: val_matthews_correlation_coefficient did not improve from 0.84117\n",
      "Epoch 32/100\n",
      "4573/4573 [==============================] - 18s 4ms/step - loss: 0.1412 - accuracy: 0.9411 - matthews_correlation_coefficient: 0.8130 - val_loss: 0.1393 - val_accuracy: 0.9461 - val_matthews_correlation_coefficient: 0.8121\n",
      "\n",
      "Epoch 00032: val_matthews_correlation_coefficient did not improve from 0.84117\n",
      "Epoch 33/100\n",
      "4573/4573 [==============================] - 18s 4ms/step - loss: 0.1388 - accuracy: 0.9426 - matthews_correlation_coefficient: 0.8181 - val_loss: 0.1253 - val_accuracy: 0.9524 - val_matthews_correlation_coefficient: 0.8340\n",
      "\n",
      "Epoch 00033: val_matthews_correlation_coefficient did not improve from 0.84117\n",
      "Epoch 34/100\n",
      "4573/4573 [==============================] - 18s 4ms/step - loss: 0.1396 - accuracy: 0.9426 - matthews_correlation_coefficient: 0.8183 - val_loss: 0.1210 - val_accuracy: 0.9543 - val_matthews_correlation_coefficient: 0.8397\n",
      "\n",
      "Epoch 00034: val_matthews_correlation_coefficient did not improve from 0.84117\n",
      "Epoch 35/100\n",
      "4573/4573 [==============================] - 18s 4ms/step - loss: 0.1402 - accuracy: 0.9420 - matthews_correlation_coefficient: 0.8160 - val_loss: 0.1254 - val_accuracy: 0.9512 - val_matthews_correlation_coefficient: 0.8288\n",
      "\n",
      "Epoch 00035: val_matthews_correlation_coefficient did not improve from 0.84117\n",
      "Epoch 36/100\n",
      "4573/4573 [==============================] - 19s 4ms/step - loss: 0.1385 - accuracy: 0.9429 - matthews_correlation_coefficient: 0.8183 - val_loss: 0.1288 - val_accuracy: 0.9497 - val_matthews_correlation_coefficient: 0.8237\n",
      "\n",
      "Epoch 00036: val_matthews_correlation_coefficient did not improve from 0.84117\n",
      "Epoch 37/100\n",
      "4573/4573 [==============================] - 19s 4ms/step - loss: 0.1390 - accuracy: 0.9417 - matthews_correlation_coefficient: 0.8150 - val_loss: 0.1293 - val_accuracy: 0.9517 - val_matthews_correlation_coefficient: 0.8324\n",
      "\n",
      "Epoch 00037: val_matthews_correlation_coefficient did not improve from 0.84117\n",
      "Epoch 38/100\n",
      "4573/4573 [==============================] - 19s 4ms/step - loss: 0.1369 - accuracy: 0.9440 - matthews_correlation_coefficient: 0.8229 - val_loss: 0.1224 - val_accuracy: 0.9528 - val_matthews_correlation_coefficient: 0.8352\n",
      "\n",
      "Epoch 00038: val_matthews_correlation_coefficient did not improve from 0.84117\n",
      "Epoch 39/100\n",
      "4573/4573 [==============================] - 19s 4ms/step - loss: 0.1389 - accuracy: 0.9424 - matthews_correlation_coefficient: 0.8178 - val_loss: 0.1276 - val_accuracy: 0.9496 - val_matthews_correlation_coefficient: 0.8236\n",
      "\n",
      "Epoch 00039: val_matthews_correlation_coefficient did not improve from 0.84117\n",
      "Epoch 40/100\n",
      "4573/4573 [==============================] - 19s 4ms/step - loss: 0.1364 - accuracy: 0.9442 - matthews_correlation_coefficient: 0.8229 - val_loss: 0.1313 - val_accuracy: 0.9497 - val_matthews_correlation_coefficient: 0.8255\n",
      "\n",
      "Epoch 00040: val_matthews_correlation_coefficient did not improve from 0.84117\n",
      "Epoch 41/100\n",
      "4573/4573 [==============================] - 19s 4ms/step - loss: 0.1373 - accuracy: 0.9433 - matthews_correlation_coefficient: 0.8203 - val_loss: 0.1225 - val_accuracy: 0.9531 - val_matthews_correlation_coefficient: 0.8363\n",
      "\n",
      "Epoch 00041: val_matthews_correlation_coefficient did not improve from 0.84117\n",
      "Epoch 42/100\n",
      "4573/4573 [==============================] - 19s 4ms/step - loss: 0.1342 - accuracy: 0.9448 - matthews_correlation_coefficient: 0.8245 - val_loss: 0.1295 - val_accuracy: 0.9500 - val_matthews_correlation_coefficient: 0.8252\n",
      "\n",
      "Epoch 00042: val_matthews_correlation_coefficient did not improve from 0.84117\n",
      "Epoch 43/100\n",
      "4573/4573 [==============================] - 18s 4ms/step - loss: 0.1358 - accuracy: 0.9433 - matthews_correlation_coefficient: 0.8205 - val_loss: 0.1258 - val_accuracy: 0.9527 - val_matthews_correlation_coefficient: 0.8337\n",
      "\n",
      "Epoch 00043: val_matthews_correlation_coefficient did not improve from 0.84117\n",
      "Epoch 44/100\n",
      "4573/4573 [==============================] - 18s 4ms/step - loss: 0.1357 - accuracy: 0.9441 - matthews_correlation_coefficient: 0.8229 - val_loss: 0.1222 - val_accuracy: 0.9539 - val_matthews_correlation_coefficient: 0.8386\n",
      "\n",
      "Epoch 00044: val_matthews_correlation_coefficient did not improve from 0.84117\n",
      "Epoch 45/100\n",
      "4573/4573 [==============================] - 18s 4ms/step - loss: 0.1357 - accuracy: 0.9442 - matthews_correlation_coefficient: 0.8230 - val_loss: 0.1268 - val_accuracy: 0.9536 - val_matthews_correlation_coefficient: 0.8387\n",
      "\n",
      "Epoch 00045: val_matthews_correlation_coefficient did not improve from 0.84117\n",
      "Epoch 46/100\n",
      "4573/4573 [==============================] - 18s 4ms/step - loss: 0.1346 - accuracy: 0.9432 - matthews_correlation_coefficient: 0.8198 - val_loss: 0.1255 - val_accuracy: 0.9503 - val_matthews_correlation_coefficient: 0.8260\n",
      "\n",
      "Epoch 00046: val_matthews_correlation_coefficient did not improve from 0.84117\n",
      "Epoch 47/100\n",
      "4573/4573 [==============================] - 18s 4ms/step - loss: 0.1362 - accuracy: 0.9434 - matthews_correlation_coefficient: 0.8207 - val_loss: 0.1253 - val_accuracy: 0.9511 - val_matthews_correlation_coefficient: 0.8284\n",
      "\n",
      "Epoch 00047: val_matthews_correlation_coefficient did not improve from 0.84117\n",
      "Epoch 48/100\n",
      "4573/4573 [==============================] - 18s 4ms/step - loss: 0.1331 - accuracy: 0.9444 - matthews_correlation_coefficient: 0.8237 - val_loss: 0.1218 - val_accuracy: 0.9539 - val_matthews_correlation_coefficient: 0.8399\n",
      "\n",
      "Epoch 00048: val_matthews_correlation_coefficient did not improve from 0.84117\n",
      "Epoch 49/100\n",
      "4573/4573 [==============================] - 18s 4ms/step - loss: 0.1340 - accuracy: 0.9441 - matthews_correlation_coefficient: 0.8230 - val_loss: 0.1316 - val_accuracy: 0.9489 - val_matthews_correlation_coefficient: 0.8213\n",
      "\n",
      "Epoch 00049: val_matthews_correlation_coefficient did not improve from 0.84117\n",
      "Epoch 50/100\n",
      "4573/4573 [==============================] - 18s 4ms/step - loss: 0.1364 - accuracy: 0.9433 - matthews_correlation_coefficient: 0.8203 - val_loss: 0.1236 - val_accuracy: 0.9513 - val_matthews_correlation_coefficient: 0.8298\n"
     ]
    },
    {
     "name": "stdout",
     "output_type": "stream",
     "text": [
      "\n",
      "Epoch 00050: val_matthews_correlation_coefficient did not improve from 0.84117\n",
      "Epoch 51/100\n",
      "4573/4573 [==============================] - 18s 4ms/step - loss: 0.1342 - accuracy: 0.9449 - matthews_correlation_coefficient: 0.8257 - val_loss: 0.1232 - val_accuracy: 0.9529 - val_matthews_correlation_coefficient: 0.8358\n",
      "\n",
      "Epoch 00051: val_matthews_correlation_coefficient did not improve from 0.84117\n",
      "Epoch 52/100\n",
      "4573/4573 [==============================] - 18s 4ms/step - loss: 0.1328 - accuracy: 0.9451 - matthews_correlation_coefficient: 0.8262 - val_loss: 0.1367 - val_accuracy: 0.9495 - val_matthews_correlation_coefficient: 0.8252\n",
      "\n",
      "Epoch 00052: val_matthews_correlation_coefficient did not improve from 0.84117\n",
      "Epoch 53/100\n",
      "4573/4573 [==============================] - 18s 4ms/step - loss: 0.1351 - accuracy: 0.9437 - matthews_correlation_coefficient: 0.8212 - val_loss: 0.1354 - val_accuracy: 0.9494 - val_matthews_correlation_coefficient: 0.8242\n",
      "\n",
      "Epoch 00053: val_matthews_correlation_coefficient did not improve from 0.84117\n",
      "Epoch 54/100\n",
      "4573/4573 [==============================] - 18s 4ms/step - loss: 0.1328 - accuracy: 0.9450 - matthews_correlation_coefficient: 0.8262 - val_loss: 0.1280 - val_accuracy: 0.9529 - val_matthews_correlation_coefficient: 0.8359\n",
      "\n",
      "Epoch 00054: val_matthews_correlation_coefficient did not improve from 0.84117\n",
      "Epoch 55/100\n",
      "4573/4573 [==============================] - 18s 4ms/step - loss: 0.1337 - accuracy: 0.9435 - matthews_correlation_coefficient: 0.8212 - val_loss: 0.1299 - val_accuracy: 0.9518 - val_matthews_correlation_coefficient: 0.8315\n",
      "\n",
      "Epoch 00055: val_matthews_correlation_coefficient did not improve from 0.84117\n",
      "Epoch 56/100\n",
      "4573/4573 [==============================] - 18s 4ms/step - loss: 0.1329 - accuracy: 0.9444 - matthews_correlation_coefficient: 0.8244 - val_loss: 0.1357 - val_accuracy: 0.9507 - val_matthews_correlation_coefficient: 0.8286\n",
      "\n",
      "Epoch 00056: val_matthews_correlation_coefficient did not improve from 0.84117\n",
      "Epoch 57/100\n",
      "4573/4573 [==============================] - 18s 4ms/step - loss: 0.1312 - accuracy: 0.9462 - matthews_correlation_coefficient: 0.8302 - val_loss: 0.1253 - val_accuracy: 0.9534 - val_matthews_correlation_coefficient: 0.8371\n",
      "\n",
      "Epoch 00057: val_matthews_correlation_coefficient did not improve from 0.84117\n",
      "Epoch 58/100\n",
      "4573/4573 [==============================] - 18s 4ms/step - loss: 0.1323 - accuracy: 0.9448 - matthews_correlation_coefficient: 0.8253 - val_loss: 0.1232 - val_accuracy: 0.9537 - val_matthews_correlation_coefficient: 0.8402\n",
      "\n",
      "Epoch 00058: val_matthews_correlation_coefficient did not improve from 0.84117\n",
      "Epoch 59/100\n",
      "4573/4573 [==============================] - 18s 4ms/step - loss: 0.1314 - accuracy: 0.9452 - matthews_correlation_coefficient: 0.8263 - val_loss: 0.1227 - val_accuracy: 0.9538 - val_matthews_correlation_coefficient: 0.8402\n",
      "\n",
      "Epoch 00059: val_matthews_correlation_coefficient did not improve from 0.84117\n",
      "Epoch 60/100\n",
      "4573/4573 [==============================] - 18s 4ms/step - loss: 0.1300 - accuracy: 0.9457 - matthews_correlation_coefficient: 0.8279 - val_loss: 0.1288 - val_accuracy: 0.9513 - val_matthews_correlation_coefficient: 0.8297\n",
      "\n",
      "Epoch 00060: val_matthews_correlation_coefficient did not improve from 0.84117\n",
      "Epoch 61/100\n",
      "4573/4573 [==============================] - 18s 4ms/step - loss: 0.1303 - accuracy: 0.9461 - matthews_correlation_coefficient: 0.8295 - val_loss: 0.1347 - val_accuracy: 0.9498 - val_matthews_correlation_coefficient: 0.8251\n",
      "\n",
      "Epoch 00061: val_matthews_correlation_coefficient did not improve from 0.84117\n",
      "Epoch 62/100\n",
      "4573/4573 [==============================] - 18s 4ms/step - loss: 0.1309 - accuracy: 0.9454 - matthews_correlation_coefficient: 0.8278 - val_loss: 0.1317 - val_accuracy: 0.9521 - val_matthews_correlation_coefficient: 0.8330\n",
      "\n",
      "Epoch 00062: val_matthews_correlation_coefficient did not improve from 0.84117\n",
      "Epoch 63/100\n",
      "4573/4573 [==============================] - 18s 4ms/step - loss: 0.1289 - accuracy: 0.9464 - matthews_correlation_coefficient: 0.8302 - val_loss: 0.1306 - val_accuracy: 0.9525 - val_matthews_correlation_coefficient: 0.8353\n",
      "\n",
      "Epoch 00063: val_matthews_correlation_coefficient did not improve from 0.84117\n",
      "Epoch 64/100\n",
      "4573/4573 [==============================] - 18s 4ms/step - loss: 0.1313 - accuracy: 0.9460 - matthews_correlation_coefficient: 0.8292 - val_loss: 0.1403 - val_accuracy: 0.9454 - val_matthews_correlation_coefficient: 0.8115\n",
      "\n",
      "Epoch 00064: val_matthews_correlation_coefficient did not improve from 0.84117\n",
      "Epoch 65/100\n",
      "4573/4573 [==============================] - 18s 4ms/step - loss: 0.1302 - accuracy: 0.9461 - matthews_correlation_coefficient: 0.8296 - val_loss: 0.1389 - val_accuracy: 0.9472 - val_matthews_correlation_coefficient: 0.8156\n",
      "\n",
      "Epoch 00065: val_matthews_correlation_coefficient did not improve from 0.84117\n",
      "Epoch 66/100\n",
      "4573/4573 [==============================] - 18s 4ms/step - loss: 0.1320 - accuracy: 0.9460 - matthews_correlation_coefficient: 0.8289 - val_loss: 0.1251 - val_accuracy: 0.9527 - val_matthews_correlation_coefficient: 0.8360\n",
      "\n",
      "Epoch 00066: val_matthews_correlation_coefficient did not improve from 0.84117\n",
      "Epoch 67/100\n",
      "4573/4573 [==============================] - 18s 4ms/step - loss: 0.1284 - accuracy: 0.9468 - matthews_correlation_coefficient: 0.8315 - val_loss: 0.1427 - val_accuracy: 0.9472 - val_matthews_correlation_coefficient: 0.8150\n",
      "\n",
      "Epoch 00067: val_matthews_correlation_coefficient did not improve from 0.84117\n",
      "Epoch 68/100\n",
      "4573/4573 [==============================] - 18s 4ms/step - loss: 0.1291 - accuracy: 0.9463 - matthews_correlation_coefficient: 0.8302 - val_loss: 0.1237 - val_accuracy: 0.9529 - val_matthews_correlation_coefficient: 0.8361\n",
      "\n",
      "Epoch 00068: val_matthews_correlation_coefficient did not improve from 0.84117\n",
      "Epoch 69/100\n",
      "4573/4573 [==============================] - 18s 4ms/step - loss: 0.1298 - accuracy: 0.9451 - matthews_correlation_coefficient: 0.8263 - val_loss: 0.1281 - val_accuracy: 0.9521 - val_matthews_correlation_coefficient: 0.8328\n",
      "\n",
      "Epoch 00069: val_matthews_correlation_coefficient did not improve from 0.84117\n",
      "Epoch 70/100\n",
      "4573/4573 [==============================] - 18s 4ms/step - loss: 0.1282 - accuracy: 0.9464 - matthews_correlation_coefficient: 0.8303 - val_loss: 0.1267 - val_accuracy: 0.9519 - val_matthews_correlation_coefficient: 0.8327\n",
      "\n",
      "Epoch 00070: val_matthews_correlation_coefficient did not improve from 0.84117\n",
      "Epoch 71/100\n",
      "4573/4573 [==============================] - 18s 4ms/step - loss: 0.1295 - accuracy: 0.9466 - matthews_correlation_coefficient: 0.8310 - val_loss: 0.1244 - val_accuracy: 0.9536 - val_matthews_correlation_coefficient: 0.8405\n",
      "\n",
      "Epoch 00071: val_matthews_correlation_coefficient did not improve from 0.84117\n",
      "Epoch 72/100\n",
      "4573/4573 [==============================] - 18s 4ms/step - loss: 0.1295 - accuracy: 0.9459 - matthews_correlation_coefficient: 0.8289 - val_loss: 0.1298 - val_accuracy: 0.9527 - val_matthews_correlation_coefficient: 0.8358\n",
      "\n",
      "Epoch 00072: val_matthews_correlation_coefficient did not improve from 0.84117\n",
      "Epoch 73/100\n",
      "4573/4573 [==============================] - 18s 4ms/step - loss: 0.1276 - accuracy: 0.9461 - matthews_correlation_coefficient: 0.8299 - val_loss: 0.1396 - val_accuracy: 0.9486 - val_matthews_correlation_coefficient: 0.8225\n",
      "\n",
      "Epoch 00073: val_matthews_correlation_coefficient did not improve from 0.84117\n",
      "Epoch 74/100\n",
      "4573/4573 [==============================] - 18s 4ms/step - loss: 0.1273 - accuracy: 0.9465 - matthews_correlation_coefficient: 0.8311 - val_loss: 0.1278 - val_accuracy: 0.9523 - val_matthews_correlation_coefficient: 0.8334\n",
      "\n",
      "Epoch 00074: val_matthews_correlation_coefficient did not improve from 0.84117\n",
      "Epoch 75/100\n",
      "4573/4573 [==============================] - 18s 4ms/step - loss: 0.1275 - accuracy: 0.9469 - matthews_correlation_coefficient: 0.8325 - val_loss: 0.1259 - val_accuracy: 0.9528 - val_matthews_correlation_coefficient: 0.8345\n",
      "\n",
      "Epoch 00075: val_matthews_correlation_coefficient did not improve from 0.84117\n",
      "Epoch 76/100\n",
      "4573/4573 [==============================] - 18s 4ms/step - loss: 0.1285 - accuracy: 0.9468 - matthews_correlation_coefficient: 0.8319 - val_loss: 0.1336 - val_accuracy: 0.9490 - val_matthews_correlation_coefficient: 0.8225\n"
     ]
    },
    {
     "name": "stdout",
     "output_type": "stream",
     "text": [
      "\n",
      "Epoch 00076: val_matthews_correlation_coefficient did not improve from 0.84117\n",
      "Epoch 77/100\n",
      "4573/4573 [==============================] - 18s 4ms/step - loss: 0.1276 - accuracy: 0.9477 - matthews_correlation_coefficient: 0.8352 - val_loss: 0.1242 - val_accuracy: 0.9531 - val_matthews_correlation_coefficient: 0.8380\n",
      "Restoring model weights from the end of the best epoch\n",
      "\n",
      "Epoch 00077: val_matthews_correlation_coefficient did not improve from 0.84117\n",
      "Epoch 00077: early stopping\n"
     ]
    },
    {
     "data": {
      "image/png": "[encoded data removed]",
      "text/plain": [
       "<Figure size 864x288 with 2 Axes>"
      ]
     },
     "metadata": {
      "needs_background": "light"
     },
     "output_type": "display_data"
    }
   ],
   "source": [
    "set_random_seeds()\n",
    "\n",
    "model.compile(\n",
    "    optimizer=Adam(learning_rate=1e-4), \n",
    "    loss='binary_crossentropy', \n",
    "    metrics=['accuracy', mcc]\n",
    ")\n",
    "\n",
    "metric_to_monitor = 'val_matthews_correlation_coefficient'\n",
    "FILE_MODEL = FOLDER_MODELS + timestamp_model_name(prefix='fine_tuning_')\n",
    "\n",
    "list_callbacks = [\n",
    "    EarlyStopping(monitor=metric_to_monitor, mode='max', patience=50, verbose=1, restore_best_weights=True),\n",
    "    ModelCheckpoint(FILE_MODEL, monitor=metric_to_monitor, mode='max', verbose=1, save_best_only=True)\n",
    "]\n",
    "\n",
    "class_weights = [compute_class_weights(y_train[:, i]) for i in range(y_train.shape[1])]\n",
    "\n",
    "mlflow.set_experiment(MLFLOW_EXPERIMENT_NAME)\n",
    "mlflow.log_param(\"seed\", RANDOM_SEED)\n",
    "mlflow.keras.autolog()\n",
    "\n",
    "hist = model.fit(\n",
    "    x=x_train, \n",
    "    y=y_train, \n",
    "    batch_size=32, \n",
    "    epochs=100, \n",
    "    validation_data=(x_val, y_val),\n",
    "    callbacks=list_callbacks,\n",
    "    verbose=1,\n",
    "    class_weight=class_weights,\n",
    ")\n",
    "plot.keras_hist(hist.history)\n",
    "\n",
    "mlflow.end_run()"
   ]
  },
  {
   "cell_type": "markdown",
   "metadata": {},
   "source": [
    "# Test "
   ]
  },
  {
   "cell_type": "code",
   "execution_count": 15,
   "metadata": {},
   "outputs": [
    {
     "name": "stdout",
     "output_type": "stream",
     "text": [
      "1 of 1\n"
     ]
    }
   ],
   "source": [
    "import cv2\n",
    "\n",
    "list_files = ['../data/cropped_faces/images/AR_FDB_m-013-17.png']\n",
    "\n",
    "im = load.images_from_list_files(list_files, output_size=IMAGE_SIZE, interpolation=cv2.INTER_AREA)\n",
    "im /= 255"
   ]
  },
  {
   "cell_type": "code",
   "execution_count": 16,
   "metadata": {},
   "outputs": [
    {
     "name": "stdout",
     "output_type": "stream",
     "text": [
      "[0.99987984 0.24505976 0.99992967 0.99345773 0.9979755  0.9999273\n",
      " 0.86117923 0.739219   0.0842917  0.14188316 0.9081532  0.99998903\n",
      " 0.04818597 0.9911523  0.9900096  0.99967575 0.7937765  1.\n",
      " 0.97835696 0.9999519  0.9532324  0.00717809 0.99999917]\n"
     ]
    }
   ],
   "source": [
    "y_pred = model.predict(im)\n",
    "for pred in y_pred:\n",
    "    print(pred)"
   ]
  },
  {
   "cell_type": "code",
   "execution_count": 17,
   "metadata": {},
   "outputs": [],
   "source": [
    "custom_objects = {\n",
    "    'matthews_correlation_coefficient': mcc,\n",
    "}\n",
    "\n",
    "model_recompiled = load_model(FILE_MODEL, custom_objects=custom_objects)\n",
    "model_recompiled.compile(optimizer=Adam(), loss='binary_crossentropy')\n",
    "model_recompiled.save(FILE_MODEL)\n",
    "\n",
    "y_pred_1 = model.predict(x_val)\n",
    "y_pred_2 = model_recompiled.predict(x_val)\n",
    "\n",
    "assert(np.allclose(y_pred_1, y_pred_2))"
   ]
  },
  {
   "cell_type": "code",
   "execution_count": 18,
   "metadata": {},
   "outputs": [
    {
     "name": "stdout",
     "output_type": "stream",
     "text": [
      "0.99987984\n",
      "0.24505976\n",
      "0.99992967\n",
      "0.99345773\n",
      "0.9979755\n",
      "0.9999273\n",
      "0.86117923\n",
      "0.739219\n",
      "0.0842917\n",
      "0.14188316\n",
      "0.9081532\n",
      "0.99998903\n",
      "0.048185974\n",
      "0.9911523\n",
      "0.9900096\n",
      "0.99967575\n",
      "0.7937765\n",
      "1.0\n",
      "0.97835696\n",
      "0.9999519\n",
      "0.9532324\n",
      "0.0071780877\n",
      "0.99999917\n"
     ]
    }
   ],
   "source": [
    "merged_model = load_model(FILE_MODEL)\n",
    "y_pred = merged_model.predict(im)\n",
    "for pred in y_pred[0]:\n",
    "    print(pred)"
   ]
  },
  {
   "cell_type": "code",
   "execution_count": null,
   "metadata": {},
   "outputs": [],
   "source": []
  }
 ],
 "metadata": {
  "kernelspec": {
   "display_name": "Python 3",
   "language": "python",
   "name": "python3"
  },
  "language_info": {
   "codemirror_mode": {
    "name": "ipython",
    "version": 3
   },
   "file_extension": ".py",
   "mimetype": "text/x-python",
   "name": "python",
   "nbconvert_exporter": "python",
   "pygments_lexer": "ipython3",
   "version": "3.7.6"
  }
 },
 "nbformat": 4,
 "nbformat_minor": 4
}
