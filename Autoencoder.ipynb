{
 "cells": [
  {
   "cell_type": "code",
   "execution_count": 1,
   "metadata": {},
   "outputs": [
    {
     "name": "stderr",
     "output_type": "stream",
     "text": [
      "Using TensorFlow backend.\n"
     ]
    }
   ],
   "source": [
    "from sys import path\n",
    "path.append('src/')\n",
    "\n",
    "import numpy as np\n",
    "import tensorflow as tf\n",
    "import pickle as pkl\n",
    "from keras.models import Model\n",
    "from keras.layers import Input, Dense, Conv2D, Conv2DTranspose, MaxPool2D, Dropout, BatchNormalization, Activation, UpSampling2D\n",
    "from keras.utils import plot_model"
   ]
  },
  {
   "cell_type": "code",
   "execution_count": 2,
   "metadata": {},
   "outputs": [
    {
     "name": "stdout",
     "output_type": "stream",
     "text": [
      "(5211, 232, 232, 3) float32\n",
      "(571, 232, 232, 3) float32\n"
     ]
    }
   ],
   "source": [
    "x_train, x_val = pkl.load(open('data/autoencoder_samples.pkl', 'rb'))\n",
    "\n",
    "print(x_train.shape, x_train.dtype)\n",
    "print(x_val.shape, x_val.dtype)"
   ]
  },
  {
   "cell_type": "code",
   "execution_count": 3,
   "metadata": {},
   "outputs": [
    {
     "name": "stdout",
     "output_type": "stream",
     "text": [
      "(5782, 232, 232, 3)\n"
     ]
    }
   ],
   "source": [
    "x = np.concatenate((x_train, x_val), axis=0)\n",
    "print(x.shape)"
   ]
  },
  {
   "cell_type": "code",
   "execution_count": 4,
   "metadata": {},
   "outputs": [],
   "source": [
    "def conv_bn(idx, prev_input, filters):\n",
    "    conv_name = 'conv_' + str(idx)\n",
    "    bn_name = 'bn_' + str(idx)\n",
    "    act_name = 'relu_' + str(idx)\n",
    "    \n",
    "    conv = Conv2D(filters, kernel_size=(3, 3), strides=(1, 1), padding='same', activation=None, name=conv_name)(prev_input)\n",
    "    conv = BatchNormalization(axis=-1, name=bn_name)(conv)\n",
    "    conv = Activation('relu', name=act_name)(conv)\n",
    "    return conv\n",
    "\n",
    "def conv_bn_maxpool(idx, prev_input,  filters):\n",
    "    pool_name = 'pool_' + str(idx)\n",
    "    \n",
    "    conv = conv_bn(idx, prev_input, filters)\n",
    "    pool = MaxPool2D(pool_size=(2, 2), strides=(2, 2), padding='valid', name=pool_name)(conv)\n",
    "    return pool\n",
    "\n",
    "def up_conv(idx, prev_input, filters):\n",
    "    up_name = str(idx) + '_up' \n",
    "    conv_name = str(idx) + '_conv' \n",
    "    \n",
    "    deconv = UpSampling2D(size=(2, 2), name=up_name)(prev_input)\n",
    "    deconv = Conv2D(filters, kernel_size=(3, 3), strides=(1, 1), padding='same', activation=None, name=conv_name)(deconv)\n",
    "    return deconv\n",
    "\n",
    "def up_conv_bn(idx, prev_input, filters):\n",
    "    up_name = str(idx) + '_up' \n",
    "    \n",
    "    deconv = UpSampling2D(size=(2, 2), name=up_name)(prev_input)\n",
    "    deconv = deconv_bn(idx, deconv, filters)\n",
    "    return deconv\n",
    "\n",
    "def deconv_bn(idx, prev_input, filters):\n",
    "    bn_name = str(idx) + '_bn' \n",
    "    act_name = str(idx) + '_relu' \n",
    "    conv_name = str(idx) + '_conv' \n",
    "    \n",
    "    deconv = Conv2D(filters, kernel_size=(3, 3), strides=(1, 1), padding='same', activation=None, name=conv_name)(prev_input)\n",
    "    deconv = BatchNormalization(axis=-1, name=bn_name)(deconv)\n",
    "    deconv = Activation('relu', name=act_name)(deconv)\n",
    "    return deconv"
   ]
  },
  {
   "cell_type": "code",
   "execution_count": 5,
   "metadata": {},
   "outputs": [
    {
     "name": "stdout",
     "output_type": "stream",
     "text": [
      "_________________________________________________________________\n",
      "Layer (type)                 Output Shape              Param #   \n",
      "=================================================================\n",
      "input_1 (InputLayer)         (None, 232, 232, 3)       0         \n",
      "_________________________________________________________________\n",
      "conv_1 (Conv2D)              (None, 232, 232, 8)       224       \n",
      "_________________________________________________________________\n",
      "bn_1 (BatchNormalization)    (None, 232, 232, 8)       32        \n",
      "_________________________________________________________________\n",
      "relu_1 (Activation)          (None, 232, 232, 8)       0         \n",
      "_________________________________________________________________\n",
      "pool_1 (MaxPooling2D)        (None, 116, 116, 8)       0         \n",
      "_________________________________________________________________\n",
      "conv_2 (Conv2D)              (None, 116, 116, 16)      1168      \n",
      "_________________________________________________________________\n",
      "bn_2 (BatchNormalization)    (None, 116, 116, 16)      64        \n",
      "_________________________________________________________________\n",
      "relu_2 (Activation)          (None, 116, 116, 16)      0         \n",
      "_________________________________________________________________\n",
      "pool_2 (MaxPooling2D)        (None, 58, 58, 16)        0         \n",
      "_________________________________________________________________\n",
      "conv_3 (Conv2D)              (None, 58, 58, 32)        4640      \n",
      "_________________________________________________________________\n",
      "bn_3 (BatchNormalization)    (None, 58, 58, 32)        128       \n",
      "_________________________________________________________________\n",
      "relu_3 (Activation)          (None, 58, 58, 32)        0         \n",
      "_________________________________________________________________\n",
      "pool_3 (MaxPooling2D)        (None, 29, 29, 32)        0         \n",
      "_________________________________________________________________\n",
      "conv_4 (Conv2D)              (None, 29, 29, 64)        18496     \n",
      "_________________________________________________________________\n",
      "bn_4 (BatchNormalization)    (None, 29, 29, 64)        256       \n",
      "_________________________________________________________________\n",
      "relu_4 (Activation)          (None, 29, 29, 64)        0         \n",
      "_________________________________________________________________\n",
      "4_conv (Conv2D)              (None, 29, 29, 32)        18464     \n",
      "_________________________________________________________________\n",
      "4_bn (BatchNormalization)    (None, 29, 29, 32)        128       \n",
      "_________________________________________________________________\n",
      "4_relu (Activation)          (None, 29, 29, 32)        0         \n",
      "_________________________________________________________________\n",
      "3_up (UpSampling2D)          (None, 58, 58, 32)        0         \n",
      "_________________________________________________________________\n",
      "3_conv (Conv2D)              (None, 58, 58, 16)        4624      \n",
      "_________________________________________________________________\n",
      "3_bn (BatchNormalization)    (None, 58, 58, 16)        64        \n",
      "_________________________________________________________________\n",
      "3_relu (Activation)          (None, 58, 58, 16)        0         \n",
      "_________________________________________________________________\n",
      "2_up (UpSampling2D)          (None, 116, 116, 16)      0         \n",
      "_________________________________________________________________\n",
      "2_conv (Conv2D)              (None, 116, 116, 8)       1160      \n",
      "_________________________________________________________________\n",
      "2_bn (BatchNormalization)    (None, 116, 116, 8)       32        \n",
      "_________________________________________________________________\n",
      "2_relu (Activation)          (None, 116, 116, 8)       0         \n",
      "_________________________________________________________________\n",
      "1_up (UpSampling2D)          (None, 232, 232, 8)       0         \n",
      "_________________________________________________________________\n",
      "1_conv (Conv2D)              (None, 232, 232, 3)       219       \n",
      "=================================================================\n",
      "Total params: 49,699\n",
      "Trainable params: 49,347\n",
      "Non-trainable params: 352\n",
      "_________________________________________________________________\n"
     ]
    }
   ],
   "source": [
    "inputs = Input(shape=x.shape[1:])\n",
    "pool_1 = conv_bn_maxpool(1, inputs, 8)\n",
    "pool_2 = conv_bn_maxpool(2, pool_1, 16)\n",
    "pool_3 = conv_bn_maxpool(3, pool_2, 32)\n",
    "encode = conv_bn(4, pool_3, 64)\n",
    "\n",
    "dec_4 = deconv_bn(4, encode, 32)\n",
    "dec_3 = up_conv_bn(3, dec_4, 16)\n",
    "dec_2 = up_conv_bn(2, dec_3, 8)\n",
    "decoded = up_conv(1, dec_2, 3)\n",
    "\n",
    "model = Model(inputs=inputs, outputs=decoded)\n",
    "model.summary()"
   ]
  },
  {
   "cell_type": "code",
   "execution_count": null,
   "metadata": {},
   "outputs": [],
   "source": []
  }
 ],
 "metadata": {
  "kernelspec": {
   "display_name": "Python 3",
   "language": "python",
   "name": "python3"
  },
  "language_info": {
   "codemirror_mode": {
    "name": "ipython",
    "version": 3
   },
   "file_extension": ".py",
   "mimetype": "text/x-python",
   "name": "python",
   "nbconvert_exporter": "python",
   "pygments_lexer": "ipython3",
   "version": "3.6.8"
  }
 },
 "nbformat": 4,
 "nbformat_minor": 2
}
