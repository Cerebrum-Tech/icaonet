{
 "cells": [
  {
   "cell_type": "markdown",
   "metadata": {},
   "source": [
    "# Dependencies "
   ]
  },
  {
   "cell_type": "code",
   "execution_count": 8,
   "metadata": {},
   "outputs": [],
   "source": [
    "from sys import path\n",
    "path.append('src/')\n",
    "\n",
    "import numpy as np\n",
    "import tensorflow as tf\n",
    "import pickle as pkl\n",
    "from keras.models import Model, load_model\n",
    "from keras.layers import Input, Dense, Dropout, BatchNormalization, Activation\n",
    "from keras.layers import Conv2D, Conv2DTranspose, MaxPool2D, UpSampling2D\n",
    "from keras.callbacks import EarlyStopping, ModelCheckpoint\n",
    "from skmultilearn.model_selection import iterative_train_test_split"
   ]
  },
  {
   "cell_type": "code",
   "execution_count": 2,
   "metadata": {},
   "outputs": [],
   "source": [
    "FILE_TRAIN_DUMP = 'data/train_dump.pkl'\n",
    "FILE_VAL_DUMP = 'data/val_dump.pkl'\n",
    "\n",
    "FILE_MODEL = 'models/best_model.hdf5'"
   ]
  },
  {
   "cell_type": "markdown",
   "metadata": {},
   "source": [
    "# Data Loading "
   ]
  },
  {
   "cell_type": "code",
   "execution_count": 3,
   "metadata": {},
   "outputs": [
    {
     "name": "stdout",
     "output_type": "stream",
     "text": [
      "(5211, 224, 224, 3) float32\n",
      "(5211, 23) int32\n"
     ]
    }
   ],
   "source": [
    "_, x_train, train_mrks = pkl.load(open(FILE_TRAIN_DUMP, 'rb'))\n",
    "y_train = np.array([mrk_file.photo_reqs.values() for mrk_file in train_mrks])\n",
    "\n",
    "print(x_train.shape, x_train.dtype)\n",
    "print(y_train.shape, y_train.dtype)"
   ]
  },
  {
   "cell_type": "code",
   "execution_count": 4,
   "metadata": {},
   "outputs": [
    {
     "name": "stdout",
     "output_type": "stream",
     "text": [
      "(571, 224, 224, 3) float32\n",
      "(571, 23) int32\n"
     ]
    }
   ],
   "source": [
    "_, x_val, val_mrks = pkl.load(open(FILE_VAL_DUMP, 'rb'))\n",
    "y_val = np.array([mrk_file.photo_reqs.values() for mrk_file in val_mrks])\n",
    "\n",
    "print(x_val.shape, x_val.dtype)\n",
    "print(y_val.shape, y_val.dtype)"
   ]
  },
  {
   "cell_type": "code",
   "execution_count": 5,
   "metadata": {},
   "outputs": [
    {
     "name": "stdout",
     "output_type": "stream",
     "text": [
      "(5782, 224, 224, 3) (5782, 23)\n"
     ]
    }
   ],
   "source": [
    "x = np.concatenate((x_train, x_val), axis=0)\n",
    "y = np.concatenate((y_train, y_val), axis=0)\n",
    "\n",
    "print(x.shape, y.shape)"
   ]
  },
  {
   "cell_type": "code",
   "execution_count": 6,
   "metadata": {},
   "outputs": [
    {
     "name": "stdout",
     "output_type": "stream",
     "text": [
      "(5188, 224, 224, 3) (5188, 23)\n",
      "(594, 224, 224, 3) (594, 23)\n"
     ]
    }
   ],
   "source": [
    "np.random.seed(42)\n",
    "x_train, y_train, x_val, y_val = iterative_train_test_split(x, y, test_size=0.1)\n",
    "\n",
    "print(x_train.shape, y_train.shape)\n",
    "print(x_val.shape, y_val.shape)"
   ]
  },
  {
   "cell_type": "code",
   "execution_count": 7,
   "metadata": {},
   "outputs": [],
   "source": [
    "pkl.dump((x_train, x_val), open('data/autoencoder_samples.pkl', 'wb'), -1)"
   ]
  },
  {
   "cell_type": "markdown",
   "metadata": {},
   "source": [
    "# Model Training "
   ]
  },
  {
   "cell_type": "code",
   "execution_count": 3,
   "metadata": {},
   "outputs": [
    {
     "name": "stdout",
     "output_type": "stream",
     "text": [
      "(5188, 224, 224, 3) float32 0.0 1.0\n",
      "(594, 224, 224, 3) float32 0.0 1.0\n"
     ]
    }
   ],
   "source": [
    "x_train, x_val = pkl.load(open('data/autoencoder_samples.pkl', 'rb'))\n",
    "x_train /= 255.0\n",
    "x_val /= 255.0\n",
    "\n",
    "print(x_train.shape, x_train.dtype, x_train.min(), x_train.max())\n",
    "print(x_val.shape, x_val.dtype, x_val.min(), x_val.max())"
   ]
  },
  {
   "cell_type": "code",
   "execution_count": 5,
   "metadata": {},
   "outputs": [],
   "source": [
    "def conv_bn(idx, prev_input, filters, name=None):\n",
    "    conv_name = 'conv_' + str(idx)\n",
    "    bn_name = 'bn_' + str(idx)\n",
    "    act_name = 'relu_' + str(idx) if name is None else name\n",
    "    \n",
    "    conv = Conv2D(filters, kernel_size=(3, 3), strides=(1, 1), padding='same', activation=None, name=conv_name)(prev_input)\n",
    "    conv = BatchNormalization(axis=-1, name=bn_name)(conv)\n",
    "    conv = Activation('relu', name=act_name)(conv)\n",
    "    return conv\n",
    "\n",
    "def conv_bn_maxpool(idx, prev_input,  filters):\n",
    "    pool_name = 'pool_' + str(idx)\n",
    "    \n",
    "    conv = conv_bn(idx, prev_input, filters)\n",
    "    pool = MaxPool2D(pool_size=(2, 2), strides=(2, 2), padding='valid', name=pool_name)(conv)\n",
    "    return pool\n",
    "\n",
    "def up_conv(idx, prev_input, filters, activation=None):\n",
    "    up_name = str(idx) + '_up' \n",
    "    conv_name = str(idx) + '_conv' \n",
    "    \n",
    "    deconv = UpSampling2D(size=(2, 2), name=up_name)(prev_input)\n",
    "    deconv = Conv2D(filters, kernel_size=(3, 3), strides=(1, 1), padding='same', activation=activation, name=conv_name)(deconv)\n",
    "    return deconv\n",
    "\n",
    "def up_conv_bn(idx, prev_input, filters):\n",
    "    up_name = str(idx) + '_up' \n",
    "    \n",
    "    deconv = UpSampling2D(size=(2, 2), name=up_name)(prev_input)\n",
    "    deconv = deconv_bn(idx, deconv, filters)\n",
    "    return deconv\n",
    "\n",
    "def deconv_bn(idx, prev_input, filters):\n",
    "    bn_name = str(idx) + '_bn' \n",
    "    act_name = str(idx) + '_relu' \n",
    "    conv_name = str(idx) + '_conv' \n",
    "    \n",
    "    deconv = Conv2D(filters, kernel_size=(3, 3), strides=(1, 1), padding='same', activation=None, name=conv_name)(prev_input)\n",
    "    deconv = BatchNormalization(axis=-1, name=bn_name)(deconv)\n",
    "    deconv = Activation('relu', name=act_name)(deconv)\n",
    "    return deconv"
   ]
  },
  {
   "cell_type": "code",
   "execution_count": 7,
   "metadata": {
    "scrolled": false
   },
   "outputs": [
    {
     "name": "stdout",
     "output_type": "stream",
     "text": [
      "_________________________________________________________________\n",
      "Layer (type)                 Output Shape              Param #   \n",
      "=================================================================\n",
      "input_1 (InputLayer)         (None, 224, 224, 3)       0         \n",
      "_________________________________________________________________\n",
      "conv_1 (Conv2D)              (None, 224, 224, 8)       224       \n",
      "_________________________________________________________________\n",
      "bn_1 (BatchNormalization)    (None, 224, 224, 8)       32        \n",
      "_________________________________________________________________\n",
      "relu_1 (Activation)          (None, 224, 224, 8)       0         \n",
      "_________________________________________________________________\n",
      "pool_1 (MaxPooling2D)        (None, 112, 112, 8)       0         \n",
      "_________________________________________________________________\n",
      "conv_2 (Conv2D)              (None, 112, 112, 16)      1168      \n",
      "_________________________________________________________________\n",
      "bn_2 (BatchNormalization)    (None, 112, 112, 16)      64        \n",
      "_________________________________________________________________\n",
      "relu_2 (Activation)          (None, 112, 112, 16)      0         \n",
      "_________________________________________________________________\n",
      "pool_2 (MaxPooling2D)        (None, 56, 56, 16)        0         \n",
      "_________________________________________________________________\n",
      "conv_3 (Conv2D)              (None, 56, 56, 32)        4640      \n",
      "_________________________________________________________________\n",
      "bn_3 (BatchNormalization)    (None, 56, 56, 32)        128       \n",
      "_________________________________________________________________\n",
      "relu_3 (Activation)          (None, 56, 56, 32)        0         \n",
      "_________________________________________________________________\n",
      "pool_3 (MaxPooling2D)        (None, 28, 28, 32)        0         \n",
      "_________________________________________________________________\n",
      "conv_4 (Conv2D)              (None, 28, 28, 64)        18496     \n",
      "_________________________________________________________________\n",
      "bn_4 (BatchNormalization)    (None, 28, 28, 64)        256       \n",
      "_________________________________________________________________\n",
      "relu_4 (Activation)          (None, 28, 28, 64)        0         \n",
      "_________________________________________________________________\n",
      "pool_4 (MaxPooling2D)        (None, 14, 14, 64)        0         \n",
      "_________________________________________________________________\n",
      "conv_5 (Conv2D)              (None, 14, 14, 128)       73856     \n",
      "_________________________________________________________________\n",
      "bn_5 (BatchNormalization)    (None, 14, 14, 128)       512       \n",
      "_________________________________________________________________\n",
      "encoded (Activation)         (None, 14, 14, 128)       0         \n",
      "_________________________________________________________________\n",
      "5_conv (Conv2D)              (None, 14, 14, 64)        73792     \n",
      "_________________________________________________________________\n",
      "5_bn (BatchNormalization)    (None, 14, 14, 64)        256       \n",
      "_________________________________________________________________\n",
      "5_relu (Activation)          (None, 14, 14, 64)        0         \n",
      "_________________________________________________________________\n",
      "4_up (UpSampling2D)          (None, 28, 28, 64)        0         \n",
      "_________________________________________________________________\n",
      "4_conv (Conv2D)              (None, 28, 28, 32)        18464     \n",
      "_________________________________________________________________\n",
      "4_bn (BatchNormalization)    (None, 28, 28, 32)        128       \n",
      "_________________________________________________________________\n",
      "4_relu (Activation)          (None, 28, 28, 32)        0         \n",
      "_________________________________________________________________\n",
      "3_up (UpSampling2D)          (None, 56, 56, 32)        0         \n",
      "_________________________________________________________________\n",
      "3_conv (Conv2D)              (None, 56, 56, 16)        4624      \n",
      "_________________________________________________________________\n",
      "3_bn (BatchNormalization)    (None, 56, 56, 16)        64        \n",
      "_________________________________________________________________\n",
      "3_relu (Activation)          (None, 56, 56, 16)        0         \n",
      "_________________________________________________________________\n",
      "2_up (UpSampling2D)          (None, 112, 112, 16)      0         \n",
      "_________________________________________________________________\n",
      "2_conv (Conv2D)              (None, 112, 112, 8)       1160      \n",
      "_________________________________________________________________\n",
      "2_bn (BatchNormalization)    (None, 112, 112, 8)       32        \n",
      "_________________________________________________________________\n",
      "2_relu (Activation)          (None, 112, 112, 8)       0         \n",
      "_________________________________________________________________\n",
      "1_up (UpSampling2D)          (None, 224, 224, 8)       0         \n",
      "_________________________________________________________________\n",
      "1_conv (Conv2D)              (None, 224, 224, 3)       219       \n",
      "=================================================================\n",
      "Total params: 198,115\n",
      "Trainable params: 197,379\n",
      "Non-trainable params: 736\n",
      "_________________________________________________________________\n",
      "Train on 5188 samples, validate on 594 samples\n",
      "Epoch 1/50\n",
      "5188/5188 [==============================] - 12s 2ms/step - loss: 0.0557 - val_loss: 0.0271ETA: 0s - loss: 0.0 - ETA: 0s - loss: 0.0\n",
      "\n",
      "Epoch 00001: val_loss improved from inf to 0.02710, saving model to models/best_model.hdf5\n",
      "Epoch 2/50\n",
      "5188/5188 [==============================] - 10s 2ms/step - loss: 0.0136 - val_loss: 0.0153\n",
      "\n",
      "Epoch 00002: val_loss improved from 0.02710 to 0.01535, saving model to models/best_model.hdf5\n",
      "Epoch 3/50\n",
      "5188/5188 [==============================] - 10s 2ms/step - loss: 0.0106 - val_loss: 0.0128ETA: 2s - lo\n",
      "\n",
      "Epoch 00003: val_loss improved from 0.01535 to 0.01283, saving model to models/best_model.hdf5\n",
      "Epoch 4/50\n",
      "5188/5188 [==============================] - 10s 2ms/step - loss: 0.0094 - val_loss: 0.0110\n",
      "\n",
      "Epoch 00004: val_loss improved from 0.01283 to 0.01099, saving model to models/best_model.hdf5\n",
      "Epoch 5/50\n",
      "5188/5188 [==============================] - 10s 2ms/step - loss: 0.0085 - val_loss: 0.0117loss: 0.00 - ETA: 0s - loss: 0. - ETA: 0s - los\n",
      "\n",
      "Epoch 00005: val_loss did not improve from 0.01099\n",
      "Epoch 6/50\n",
      "5188/5188 [==============================] - 10s 2ms/step - loss: 0.0076 - val_loss: 0.0089\n",
      "\n",
      "Epoch 00006: val_loss improved from 0.01099 to 0.00890, saving model to models/best_model.hdf5\n",
      "Epoch 7/50\n",
      "5188/5188 [==============================] - 10s 2ms/step - loss: 0.0072 - val_loss: 0.0093\n",
      "\n",
      "Epoch 00007: val_loss did not improve from 0.00890\n",
      "Epoch 8/50\n",
      "5188/5188 [==============================] - 10s 2ms/step - loss: 0.0072 - val_loss: 0.0084\n",
      "\n",
      "Epoch 00008: val_loss improved from 0.00890 to 0.00843, saving model to models/best_model.hdf5\n",
      "Epoch 9/50\n",
      "5188/5188 [==============================] - 10s 2ms/step - loss: 0.0067 - val_loss: 0.0080\n",
      "\n",
      "Epoch 00009: val_loss improved from 0.00843 to 0.00795, saving model to models/best_model.hdf5\n",
      "Epoch 10/50\n",
      "5188/5188 [==============================] - 10s 2ms/step - loss: 0.0062 - val_loss: 0.0077\n",
      "\n",
      "Epoch 00010: val_loss improved from 0.00795 to 0.00770, saving model to models/best_model.hdf5\n",
      "Epoch 11/50\n",
      "5188/5188 [==============================] - 10s 2ms/step - loss: 0.0061 - val_loss: 0.0085\n",
      "\n",
      "Epoch 00011: val_loss did not improve from 0.00770\n",
      "Epoch 12/50\n",
      "5188/5188 [==============================] - 10s 2ms/step - loss: 0.0059 - val_loss: 0.0071\n",
      "\n",
      "Epoch 00012: val_loss improved from 0.00770 to 0.00709, saving model to models/best_model.hdf5\n",
      "Epoch 13/50\n",
      "5188/5188 [==============================] - 10s 2ms/step - loss: 0.0056 - val_loss: 0.0099\n",
      "\n",
      "Epoch 00013: val_loss did not improve from 0.00709\n",
      "Epoch 14/50\n",
      "5188/5188 [==============================] - 10s 2ms/step - loss: 0.0062 - val_loss: 0.0066\n",
      "\n",
      "Epoch 00014: val_loss improved from 0.00709 to 0.00660, saving model to models/best_model.hdf5\n",
      "Epoch 15/50\n",
      "5188/5188 [==============================] - 10s 2ms/step - loss: 0.0054 - val_loss: 0.0064\n",
      "\n",
      "Epoch 00015: val_loss improved from 0.00660 to 0.00644, saving model to models/best_model.hdf5\n",
      "Epoch 16/50\n"
     ]
    },
    {
     "name": "stdout",
     "output_type": "stream",
     "text": [
      "5188/5188 [==============================] - 10s 2ms/step - loss: 0.0051 - val_loss: 0.0061\n",
      "\n",
      "Epoch 00016: val_loss improved from 0.00644 to 0.00606, saving model to models/best_model.hdf5\n",
      "Epoch 17/50\n",
      "5188/5188 [==============================] - 10s 2ms/step - loss: 0.0051 - val_loss: 0.0058\n",
      "\n",
      "Epoch 00017: val_loss improved from 0.00606 to 0.00580, saving model to models/best_model.hdf5\n",
      "Epoch 18/50\n",
      "5188/5188 [==============================] - 10s 2ms/step - loss: 0.0050 - val_loss: 0.0054\n",
      "\n",
      "Epoch 00018: val_loss improved from 0.00580 to 0.00544, saving model to models/best_model.hdf5\n",
      "Epoch 19/50\n",
      "5188/5188 [==============================] - 10s 2ms/step - loss: 0.0050 - val_loss: 0.0073A: \n",
      "\n",
      "Epoch 00019: val_loss did not improve from 0.00544\n",
      "Epoch 20/50\n",
      "5188/5188 [==============================] - 10s 2ms/step - loss: 0.0048 - val_loss: 0.0056\n",
      "\n",
      "Epoch 00020: val_loss did not improve from 0.00544\n",
      "Epoch 21/50\n",
      "5188/5188 [==============================] - 10s 2ms/step - loss: 0.0047 - val_loss: 0.0057\n",
      "\n",
      "Epoch 00021: val_loss did not improve from 0.00544\n",
      "Epoch 22/50\n",
      "5188/5188 [==============================] - 10s 2ms/step - loss: 0.0046 - val_loss: 0.0050\n",
      "\n",
      "Epoch 00022: val_loss improved from 0.00544 to 0.00503, saving model to models/best_model.hdf5\n",
      "Epoch 23/50\n",
      "5188/5188 [==============================] - 10s 2ms/step - loss: 0.0044 - val_loss: 0.0054\n",
      "\n",
      "Epoch 00023: val_loss did not improve from 0.00503\n",
      "Epoch 24/50\n",
      "5188/5188 [==============================] - 10s 2ms/step - loss: 0.0044 - val_loss: 0.0051\n",
      "\n",
      "Epoch 00024: val_loss did not improve from 0.00503\n",
      "Epoch 25/50\n",
      "5188/5188 [==============================] - 10s 2ms/step - loss: 0.0044 - val_loss: 0.0057s\n",
      "\n",
      "Epoch 00025: val_loss did not improve from 0.00503\n",
      "Epoch 26/50\n",
      "5188/5188 [==============================] - 10s 2ms/step - loss: 0.0044 - val_loss: 0.0058\n",
      "\n",
      "Epoch 00026: val_loss did not improve from 0.00503\n",
      "Epoch 27/50\n",
      "5188/5188 [==============================] - 10s 2ms/step - loss: 0.0044 - val_loss: 0.0065\n",
      "\n",
      "Epoch 00027: val_loss did not improve from 0.00503\n",
      "Epoch 28/50\n",
      "5188/5188 [==============================] - 10s 2ms/step - loss: 0.0046 - val_loss: 0.0056\n",
      "\n",
      "Epoch 00028: val_loss did not improve from 0.00503\n",
      "Epoch 29/50\n",
      "5188/5188 [==============================] - 10s 2ms/step - loss: 0.0046 - val_loss: 0.0055\n",
      "\n",
      "Epoch 00029: val_loss did not improve from 0.00503\n",
      "Epoch 30/50\n",
      "5188/5188 [==============================] - 10s 2ms/step - loss: 0.0042 - val_loss: 0.0047\n",
      "\n",
      "Epoch 00030: val_loss improved from 0.00503 to 0.00469, saving model to models/best_model.hdf5\n",
      "Epoch 31/50\n",
      "5188/5188 [==============================] - 10s 2ms/step - loss: 0.0040 - val_loss: 0.0048\n",
      "\n",
      "Epoch 00031: val_loss did not improve from 0.00469\n",
      "Epoch 32/50\n",
      "5188/5188 [==============================] - 10s 2ms/step - loss: 0.0041 - val_loss: 0.0054\n",
      "\n",
      "Epoch 00032: val_loss did not improve from 0.00469\n",
      "Epoch 33/50\n",
      "5188/5188 [==============================] - 10s 2ms/step - loss: 0.0040 - val_loss: 0.0046\n",
      "\n",
      "Epoch 00033: val_loss improved from 0.00469 to 0.00465, saving model to models/best_model.hdf5\n",
      "Epoch 34/50\n",
      "5188/5188 [==============================] - 10s 2ms/step - loss: 0.0039 - val_loss: 0.0040\n",
      "\n",
      "Epoch 00034: val_loss improved from 0.00465 to 0.00405, saving model to models/best_model.hdf5\n",
      "Epoch 35/50\n",
      "5188/5188 [==============================] - 10s 2ms/step - loss: 0.0039 - val_loss: 0.0045\n",
      "\n",
      "Epoch 00035: val_loss did not improve from 0.00405\n",
      "Epoch 36/50\n",
      "5188/5188 [==============================] - 10s 2ms/step - loss: 0.0043 - val_loss: 0.0043\n",
      "\n",
      "Epoch 00036: val_loss did not improve from 0.00405\n",
      "Epoch 37/50\n",
      "5188/5188 [==============================] - 10s 2ms/step - loss: 0.0038 - val_loss: 0.0042\n",
      "\n",
      "Epoch 00037: val_loss did not improve from 0.00405\n",
      "Epoch 38/50\n",
      "5188/5188 [==============================] - 10s 2ms/step - loss: 0.0036 - val_loss: 0.0043\n",
      "\n",
      "Epoch 00038: val_loss did not improve from 0.00405\n",
      "Epoch 39/50\n",
      "5188/5188 [==============================] - 10s 2ms/step - loss: 0.0036 - val_loss: 0.0038\n",
      "\n",
      "Epoch 00039: val_loss improved from 0.00405 to 0.00382, saving model to models/best_model.hdf5\n",
      "Epoch 40/50\n",
      "5188/5188 [==============================] - 10s 2ms/step - loss: 0.0036 - val_loss: 0.0066\n",
      "\n",
      "Epoch 00040: val_loss did not improve from 0.00382\n",
      "Epoch 41/50\n",
      "5188/5188 [==============================] - 10s 2ms/step - loss: 0.0047 - val_loss: 0.0048\n",
      "\n",
      "Epoch 00041: val_loss did not improve from 0.00382\n",
      "Epoch 42/50\n",
      "5188/5188 [==============================] - 10s 2ms/step - loss: 0.0039 - val_loss: 0.0041\n",
      "\n",
      "Epoch 00042: val_loss did not improve from 0.00382\n",
      "Epoch 43/50\n",
      "5188/5188 [==============================] - 10s 2ms/step - loss: 0.0039 - val_loss: 0.0037\n",
      "\n",
      "Epoch 00043: val_loss improved from 0.00382 to 0.00371, saving model to models/best_model.hdf5\n",
      "Epoch 44/50\n",
      "5188/5188 [==============================] - 10s 2ms/step - loss: 0.0036 - val_loss: 0.0041\n",
      "\n",
      "Epoch 00044: val_loss did not improve from 0.00371\n",
      "Epoch 45/50\n",
      "5188/5188 [==============================] - 10s 2ms/step - loss: 0.0035 - val_loss: 0.0043\n",
      "\n",
      "Epoch 00045: val_loss did not improve from 0.00371\n",
      "Epoch 46/50\n",
      "5188/5188 [==============================] - 10s 2ms/step - loss: 0.0034 - val_loss: 0.0045\n",
      "\n",
      "Epoch 00046: val_loss did not improve from 0.00371\n",
      "Epoch 47/50\n",
      "5188/5188 [==============================] - 10s 2ms/step - loss: 0.0041 - val_loss: 0.0039\n",
      "\n",
      "Epoch 00047: val_loss did not improve from 0.00371\n",
      "Epoch 48/50\n",
      "5188/5188 [==============================] - 10s 2ms/step - loss: 0.0034 - val_loss: 0.0038\n",
      "\n",
      "Epoch 00048: val_loss did not improve from 0.00371\n",
      "Epoch 49/50\n",
      "5188/5188 [==============================] - 10s 2ms/step - loss: 0.0035 - val_loss: 0.0050\n",
      "\n",
      "Epoch 00049: val_loss did not improve from 0.00371\n",
      "Epoch 50/50\n",
      "5188/5188 [==============================] - 10s 2ms/step - loss: 0.0041 - val_loss: 0.0036ss:\n",
      "\n",
      "Epoch 00050: val_loss improved from 0.00371 to 0.00356, saving model to models/best_model.hdf5\n"
     ]
    },
    {
     "data": {
      "text/plain": [
       "<keras.callbacks.History at 0x16dd462a860>"
      ]
     },
     "execution_count": 7,
     "metadata": {},
     "output_type": "execute_result"
    }
   ],
   "source": [
    "inputs = Input(shape=x_train.shape[1:])\n",
    "pool_1 = conv_bn_maxpool(1, inputs, 8)\n",
    "pool_2 = conv_bn_maxpool(2, pool_1, 16)\n",
    "pool_3 = conv_bn_maxpool(3, pool_2, 32)\n",
    "pool_4 = conv_bn_maxpool(4, pool_3, 64)\n",
    "encode = conv_bn(5, pool_4, 128, name='encoded')\n",
    "\n",
    "dec_4 = deconv_bn(5, encode, 64)\n",
    "dec_3 = up_conv_bn(4, dec_4, 32)\n",
    "dec_2 = up_conv_bn(3, dec_3, 16)\n",
    "dec_1 = up_conv_bn(2, dec_2, 8)\n",
    "decoded = up_conv(1, dec_1, 3)\n",
    "\n",
    "model = Model(inputs=inputs, outputs=decoded)\n",
    "model.summary()\n",
    "\n",
    "model.compile(optimizer='adam', loss='mean_squared_error')\n",
    "\n",
    "list_callbacks = [ModelCheckpoint(FILE_MODEL, monitor='val_loss', verbose=1, save_best_only=True), \n",
    "                  EarlyStopping(monitor='val_loss', patience=10, verbose=1)]\n",
    "\n",
    "hist = model.fit(x_train, x_train, batch_size=32, epochs=50, validation_data=(x_val, x_val), callbacks=list_callbacks)"
   ]
  },
  {
   "cell_type": "code",
   "execution_count": 9,
   "metadata": {},
   "outputs": [
    {
     "name": "stdout",
     "output_type": "stream",
     "text": [
      "(594, 224, 224, 3) float32 -0.07051021 1.292153\n"
     ]
    }
   ],
   "source": [
    "model = load_model(FILE_MODEL)\n",
    "y_pred = model.predict(x_val)\n",
    "\n",
    "print(y_pred.shape, y_pred.dtype, y_pred.min(), y_pred.max())"
   ]
  },
  {
   "cell_type": "code",
   "execution_count": 10,
   "metadata": {},
   "outputs": [],
   "source": [
    "def normalize(im):\n",
    "    min_im, max_im = im.min(), im.max()\n",
    "    return ((im - min_im) / (max_im - min_im)) * 255"
   ]
  },
  {
   "cell_type": "code",
   "execution_count": 20,
   "metadata": {},
   "outputs": [
    {
     "data": {
      "text/plain": [
       "<matplotlib.image.AxesImage at 0x170ab016748>"
      ]
     },
     "execution_count": 20,
     "metadata": {},
     "output_type": "execute_result"
    },
    {
     "data": {
      "image/png": "[encoded data removed]",
      "text/plain": [
       "<Figure size 432x288 with 1 Axes>"
      ]
     },
     "metadata": {
      "needs_background": "light"
     },
     "output_type": "display_data"
    }
   ],
   "source": [
    "import matplotlib.pyplot as plt\n",
    "%matplotlib inline\n",
    "\n",
    "im = y_pred[np.random.choice(range(y_pred.shape[0]))]\n",
    "im = normalize(im).astype(np.uint8)\n",
    "plt.imshow(im[:, :, ::-1])"
   ]
  },
  {
   "cell_type": "code",
   "execution_count": null,
   "metadata": {},
   "outputs": [],
   "source": []
  }
 ],
 "metadata": {
  "kernelspec": {
   "display_name": "Python 3",
   "language": "python",
   "name": "python3"
  },
  "language_info": {
   "codemirror_mode": {
    "name": "ipython",
    "version": 3
   },
   "file_extension": ".py",
   "mimetype": "text/x-python",
   "name": "python",
   "nbconvert_exporter": "python",
   "pygments_lexer": "ipython3",
   "version": "3.6.8"
  }
 },
 "nbformat": 4,
 "nbformat_minor": 2
}
