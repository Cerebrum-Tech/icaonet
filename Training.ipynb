{
 "cells": [
  {
   "cell_type": "markdown",
   "metadata": {},
   "source": [
    "# Dependencies"
   ]
  },
  {
   "cell_type": "code",
   "execution_count": 5,
   "metadata": {},
   "outputs": [],
   "source": [
    "from sys import path\n",
    "path.append('src/')\n",
    "\n",
    "import numpy as np\n",
    "import pandas as pd\n",
    "import matplotlib.pyplot as plt\n",
    "import pickle as pkl\n",
    "from math import ceil\n",
    "from sklearn.metrics import confusion_matrix, accuracy_score\n",
    "from sklearn.preprocessing import LabelEncoder\n",
    "from src.mrk_file import MRKFile\n",
    "from src.iso_standard import PhotographicRequirements\n",
    "from src.utils.plot import plot_confusion_matrix\n",
    "from keras.applications import MobileNet\n",
    "from keras.layers import GlobalAveragePooling2D, Dense, Dropout\n",
    "from keras.models import Model, Input"
   ]
  },
  {
   "cell_type": "code",
   "execution_count": 6,
   "metadata": {},
   "outputs": [],
   "source": [
    "FILE_TRAIN_DUMP = 'data/train_dump.pkl'\n",
    "FILE_TRAIN_BOTTLENECKS = 'data/train_bottlenecks.pkl'\n",
    "\n",
    "FILE_VAL_DUMP = 'data/val_dump.pkl'\n",
    "FILE_VAL_BOTTLENECKS = 'data/val_bottlenecks.pkl'\n",
    "\n",
    "INPUT_SHAPE = (224, 224, 3)"
   ]
  },
  {
   "cell_type": "code",
   "execution_count": 7,
   "metadata": {},
   "outputs": [],
   "source": [
    "output_names = ['blurred', \n",
    "                'looking_away', \n",
    "                'ink_marked_creased', \n",
    "                'unnatural_skin_tone', \n",
    "                'too_dark_light', \n",
    "                'washed_out', \n",
    "                'pixelation', \n",
    "                'hair_across_eyes', \n",
    "                'eyes_closed', \n",
    "                'varied_background', \n",
    "                'roll_pitch_yaw', \n",
    "                'flash_reflection_on_skin', \n",
    "                'red_eyes', \n",
    "                'shadows_behind_head', \n",
    "                'shadows_across_face', \n",
    "                'dark_tinted_lenses', \n",
    "                'flash_reflection_on_lenses', \n",
    "                'frames_too_heavy', \n",
    "                'frame_covering_eyes', \n",
    "                'hat_cap', \n",
    "                'veil_over_face', \n",
    "                'mouth_open', \n",
    "                'presence_of_other_faces_or_toys']"
   ]
  },
  {
   "cell_type": "markdown",
   "metadata": {},
   "source": [
    "# Helper Methods "
   ]
  },
  {
   "cell_type": "code",
   "execution_count": 8,
   "metadata": {},
   "outputs": [],
   "source": [
    "def load_proportions(file_txt):\n",
    "    prop_values = np.loadtxt(file_txt)\n",
    "    return pd.DataFrame(prop_values, index=output_names).T\n",
    "\n",
    "def plot_graph(subplot, train, val, title):\n",
    "    plt.subplot(*subplot)\n",
    "    plt.plot(train, label='train')\n",
    "    plt.plot(val, label='val')\n",
    "    plt.xlabel('epoch')\n",
    "    plt.title(title)\n",
    "    plt.legend()\n",
    "\n",
    "def save_history(history, output_file):\n",
    "    n_epochs = len(history['loss'])\n",
    "    n_graphs = len(output_names) * 2\n",
    "    n_cols = 2\n",
    "    n_rows = ceil(n_graphs / n_cols)\n",
    "\n",
    "    df_train_props = load_proportions('data/train_max_proportions.txt')\n",
    "    df_val_props = load_proportions('data/val_max_proportions.txt')\n",
    "    \n",
    "    plt.figure(figsize=(16, 100))\n",
    "    for i, name in zip(range(1, n_graphs, 2), output_names):\n",
    "        train_loss = history[name + '_loss']\n",
    "        train_acc = history[name + '_acc']\n",
    "        val_loss = history['val_' + name + '_loss']\n",
    "        val_acc = history['val_' + name + '_acc']\n",
    "\n",
    "        plot_graph((n_rows, n_cols, i), train_loss, val_loss, '{} ({})'.format(name, 'loss'))\n",
    "        plot_graph((n_rows, n_cols, i + 1), train_acc, val_acc, '{} ({})'.format(name, 'acc'))\n",
    "        plt.hlines(df_train_props[name], 0, n_epochs, linestyle=':', color='blue')\n",
    "        plt.hlines(df_val_props[name], 0, n_epochs, linestyle=':', color='orange')\n",
    "\n",
    "    plt.tight_layout()\n",
    "    plt.savefig(output_file)\n",
    "    plt.close()\n",
    "    \n",
    "def save_heatmaps(y_trues, y_preds, output_file, figsize=(20, 20)):\n",
    "    plt.figure(figsize=figsize)\n",
    "\n",
    "    n_graphs = len(output_names)\n",
    "    n_cols = 5\n",
    "    n_rows = ceil(n_graphs / n_cols)\n",
    "    labels = np.unique(y_trues)\n",
    "\n",
    "    for i, name, y_true, y_pred in zip(range(1, n_graphs + 1), output_names, y_trues, y_preds):\n",
    "        y_pred = np.argmax(y_pred, axis=-1)\n",
    "        conf_matrix = confusion_matrix(y_true.ravel(), y_pred, labels=labels)\n",
    "\n",
    "        plt.subplot(n_rows, n_cols, i)\n",
    "        plot_confusion_matrix(conf_matrix, \n",
    "                              target_names=['D', 'NC', 'C'], \n",
    "                              title=name, \n",
    "                              normalize=True)\n",
    "    plt.savefig(output_file)\n",
    "    plt.close()"
   ]
  },
  {
   "cell_type": "markdown",
   "metadata": {},
   "source": [
    "# Load Data "
   ]
  },
  {
   "cell_type": "code",
   "execution_count": 5,
   "metadata": {},
   "outputs": [
    {
     "name": "stdout",
     "output_type": "stream",
     "text": [
      "5211 <class 'list'>\n",
      "(5211, 224, 224, 3) float32\n",
      "5211 <class 'src.mrk_file.MRKFile'>\n"
     ]
    }
   ],
   "source": [
    "train_image_files, x_train, train_mrks = pkl.load(open(FILE_TRAIN_DUMP, 'rb'))\n",
    "\n",
    "print(len(train_image_files), type(train_image_files))\n",
    "print(x_train.shape, x_train.dtype)\n",
    "print(len(train_mrks), type(train_mrks[0]))"
   ]
  },
  {
   "cell_type": "code",
   "execution_count": 6,
   "metadata": {},
   "outputs": [
    {
     "name": "stdout",
     "output_type": "stream",
     "text": [
      "565 <class 'list'>\n",
      "(565, 224, 224, 3) float32\n",
      "565 <class 'src.mrk_file.MRKFile'>\n"
     ]
    }
   ],
   "source": [
    "val_image_files, x_val, val_mrks = pkl.load(open(FILE_VAL_DUMP, 'rb'))\n",
    "\n",
    "print(len(val_image_files), type(val_image_files))\n",
    "print(x_val.shape, x_val.dtype)\n",
    "print(len(val_mrks), type(val_mrks[0]))"
   ]
  },
  {
   "cell_type": "markdown",
   "metadata": {},
   "source": [
    "# Save Bottlenecks "
   ]
  },
  {
   "cell_type": "code",
   "execution_count": 7,
   "metadata": {},
   "outputs": [],
   "source": [
    "base_model = MobileNet(input_shape=INPUT_SHAPE, weights='imagenet', include_top=False)"
   ]
  },
  {
   "cell_type": "code",
   "execution_count": 8,
   "metadata": {},
   "outputs": [
    {
     "name": "stdout",
     "output_type": "stream",
     "text": [
      "5211/5211 [==============================] - 7s 1ms/step\n",
      "565/565 [==============================] - 1s 1ms/step\n",
      "(5211, 7, 7, 1024) float32\n",
      "(565, 7, 7, 1024) float32\n"
     ]
    }
   ],
   "source": [
    "train_features = base_model.predict(x_train, batch_size=32, verbose=1)\n",
    "val_features = base_model.predict(x_val, batch_size=32, verbose=1)\n",
    "\n",
    "print(train_features.shape, train_features.dtype)\n",
    "print(val_features.shape, val_features.dtype)"
   ]
  },
  {
   "cell_type": "code",
   "execution_count": 9,
   "metadata": {},
   "outputs": [
    {
     "name": "stdout",
     "output_type": "stream",
     "text": [
      "(5211, 23) int8\n",
      "(565, 23) int8\n"
     ]
    }
   ],
   "source": [
    "train_values = np.array([mrk.photo_reqs.values() for mrk in train_mrks], dtype=np.int8)\n",
    "val_values = np.array([mrk.photo_reqs.values() for mrk in val_mrks], dtype=np.int8)\n",
    "\n",
    "print(train_values.shape, train_values.dtype)\n",
    "print(val_values.shape, val_values.dtype)"
   ]
  },
  {
   "cell_type": "code",
   "execution_count": 10,
   "metadata": {},
   "outputs": [],
   "source": [
    "pkl.dump((train_features, train_values), open(FILE_TRAIN_BOTTLENECKS, 'wb'), protocol=-1)\n",
    "pkl.dump((val_features, val_values), open(FILE_VAL_BOTTLENECKS, 'wb'), protocol=-1)"
   ]
  },
  {
   "cell_type": "markdown",
   "metadata": {},
   "source": [
    "# Transfer Learning "
   ]
  },
  {
   "cell_type": "code",
   "execution_count": 9,
   "metadata": {},
   "outputs": [
    {
     "name": "stdout",
     "output_type": "stream",
     "text": [
      "(5211, 7, 7, 1024) float32\n",
      "(5211, 23) int8\n",
      "(565, 7, 7, 1024) float32\n",
      "(565, 23) int8\n"
     ]
    }
   ],
   "source": [
    "train_features, train_values = pkl.load(open(FILE_TRAIN_BOTTLENECKS, 'rb'))\n",
    "val_features, val_values = pkl.load(open(FILE_VAL_BOTTLENECKS, 'rb'))\n",
    "\n",
    "print(train_features.shape, train_features.dtype)\n",
    "print(train_values.shape, train_values.dtype)\n",
    "print(val_features.shape, val_features.dtype)\n",
    "print(val_values.shape, val_values.dtype)"
   ]
  },
  {
   "cell_type": "code",
   "execution_count": 10,
   "metadata": {},
   "outputs": [],
   "source": [
    "# encode reqs values from [-1, 0, 1] => [0, 1, 2]\n",
    "enc = LabelEncoder()\n",
    "enc.fit(train_values.ravel())\n",
    "\n",
    "y_train = enc.transform(train_values.ravel()).reshape(train_values.shape)\n",
    "y_val = enc.transform(val_values.ravel()).reshape(val_values.shape)\n",
    "\n",
    "assert(y_train.shape == train_values.shape)\n",
    "assert(y_val.shape == val_values.shape)\n",
    "assert(np.all(y_train == train_values + 1))\n",
    "assert(np.all(y_val == val_values + 1))"
   ]
  },
  {
   "cell_type": "code",
   "execution_count": 43,
   "metadata": {},
   "outputs": [
    {
     "data": {
      "text/html": [
       "<div>\n",
       "<style scoped>\n",
       "    .dataframe tbody tr th:only-of-type {\n",
       "        vertical-align: middle;\n",
       "    }\n",
       "\n",
       "    .dataframe tbody tr th {\n",
       "        vertical-align: top;\n",
       "    }\n",
       "\n",
       "    .dataframe thead th {\n",
       "        text-align: right;\n",
       "    }\n",
       "</style>\n",
       "<table border=\"1\" class=\"dataframe\">\n",
       "  <thead>\n",
       "    <tr style=\"text-align: right;\">\n",
       "      <th></th>\n",
       "      <th>train</th>\n",
       "      <th>val</th>\n",
       "    </tr>\n",
       "  </thead>\n",
       "  <tbody>\n",
       "    <tr>\n",
       "      <th>blurred</th>\n",
       "      <td>0.830935</td>\n",
       "      <td>0.900885</td>\n",
       "    </tr>\n",
       "    <tr>\n",
       "      <th>looking_away</th>\n",
       "      <td>0.699290</td>\n",
       "      <td>0.755752</td>\n",
       "    </tr>\n",
       "    <tr>\n",
       "      <th>ink_marked_creased</th>\n",
       "      <td>0.954903</td>\n",
       "      <td>1.000000</td>\n",
       "    </tr>\n",
       "    <tr>\n",
       "      <th>unnatural_skin_tone</th>\n",
       "      <td>0.940127</td>\n",
       "      <td>0.709735</td>\n",
       "    </tr>\n",
       "    <tr>\n",
       "      <th>too_dark_light</th>\n",
       "      <td>0.942429</td>\n",
       "      <td>0.879646</td>\n",
       "    </tr>\n",
       "    <tr>\n",
       "      <th>washed_out</th>\n",
       "      <td>0.999040</td>\n",
       "      <td>0.939823</td>\n",
       "    </tr>\n",
       "    <tr>\n",
       "      <th>pixelation</th>\n",
       "      <td>0.930148</td>\n",
       "      <td>0.948673</td>\n",
       "    </tr>\n",
       "    <tr>\n",
       "      <th>hair_across_eyes</th>\n",
       "      <td>0.859912</td>\n",
       "      <td>0.915044</td>\n",
       "    </tr>\n",
       "    <tr>\n",
       "      <th>eyes_closed</th>\n",
       "      <td>0.792170</td>\n",
       "      <td>0.828319</td>\n",
       "    </tr>\n",
       "    <tr>\n",
       "      <th>varied_background</th>\n",
       "      <td>0.717713</td>\n",
       "      <td>0.582301</td>\n",
       "    </tr>\n",
       "    <tr>\n",
       "      <th>roll_pitch_yaw</th>\n",
       "      <td>0.708117</td>\n",
       "      <td>0.833628</td>\n",
       "    </tr>\n",
       "    <tr>\n",
       "      <th>flash_reflection_on_skin</th>\n",
       "      <td>0.811361</td>\n",
       "      <td>0.759292</td>\n",
       "    </tr>\n",
       "    <tr>\n",
       "      <th>red_eyes</th>\n",
       "      <td>0.825945</td>\n",
       "      <td>0.706195</td>\n",
       "    </tr>\n",
       "    <tr>\n",
       "      <th>shadows_behind_head</th>\n",
       "      <td>0.727883</td>\n",
       "      <td>0.789381</td>\n",
       "    </tr>\n",
       "    <tr>\n",
       "      <th>shadows_across_face</th>\n",
       "      <td>0.794857</td>\n",
       "      <td>0.592920</td>\n",
       "    </tr>\n",
       "    <tr>\n",
       "      <th>dark_tinted_lenses</th>\n",
       "      <td>0.881597</td>\n",
       "      <td>0.941593</td>\n",
       "    </tr>\n",
       "    <tr>\n",
       "      <th>flash_reflection_on_lenses</th>\n",
       "      <td>0.817885</td>\n",
       "      <td>0.835398</td>\n",
       "    </tr>\n",
       "    <tr>\n",
       "      <th>frames_too_heavy</th>\n",
       "      <td>0.905968</td>\n",
       "      <td>1.000000</td>\n",
       "    </tr>\n",
       "    <tr>\n",
       "      <th>frame_covering_eyes</th>\n",
       "      <td>0.816158</td>\n",
       "      <td>0.833628</td>\n",
       "    </tr>\n",
       "    <tr>\n",
       "      <th>hat_cap</th>\n",
       "      <td>0.852236</td>\n",
       "      <td>0.941593</td>\n",
       "    </tr>\n",
       "    <tr>\n",
       "      <th>veil_over_face</th>\n",
       "      <td>0.943389</td>\n",
       "      <td>0.870796</td>\n",
       "    </tr>\n",
       "    <tr>\n",
       "      <th>mouth_open</th>\n",
       "      <td>0.776243</td>\n",
       "      <td>0.592920</td>\n",
       "    </tr>\n",
       "    <tr>\n",
       "      <th>presence_of_other_faces_or_toys</th>\n",
       "      <td>0.996738</td>\n",
       "      <td>0.982301</td>\n",
       "    </tr>\n",
       "  </tbody>\n",
       "</table>\n",
       "</div>"
      ],
      "text/plain": [
       "                                    train       val\n",
       "blurred                          0.830935  0.900885\n",
       "looking_away                     0.699290  0.755752\n",
       "ink_marked_creased               0.954903  1.000000\n",
       "unnatural_skin_tone              0.940127  0.709735\n",
       "too_dark_light                   0.942429  0.879646\n",
       "washed_out                       0.999040  0.939823\n",
       "pixelation                       0.930148  0.948673\n",
       "hair_across_eyes                 0.859912  0.915044\n",
       "eyes_closed                      0.792170  0.828319\n",
       "varied_background                0.717713  0.582301\n",
       "roll_pitch_yaw                   0.708117  0.833628\n",
       "flash_reflection_on_skin         0.811361  0.759292\n",
       "red_eyes                         0.825945  0.706195\n",
       "shadows_behind_head              0.727883  0.789381\n",
       "shadows_across_face              0.794857  0.592920\n",
       "dark_tinted_lenses               0.881597  0.941593\n",
       "flash_reflection_on_lenses       0.817885  0.835398\n",
       "frames_too_heavy                 0.905968  1.000000\n",
       "frame_covering_eyes              0.816158  0.833628\n",
       "hat_cap                          0.852236  0.941593\n",
       "veil_over_face                   0.943389  0.870796\n",
       "mouth_open                       0.776243  0.592920\n",
       "presence_of_other_faces_or_toys  0.996738  0.982301"
      ]
     },
     "execution_count": 43,
     "metadata": {},
     "output_type": "execute_result"
    }
   ],
   "source": [
    "df_train_props = load_proportions('data/train_max_proportions.txt')\n",
    "df_val_props = load_proportions('data/val_max_proportions.txt')\n",
    "\n",
    "df_props = pd.DataFrame(pd.concat((df_train_props.T, df_val_props.T), axis=1))\n",
    "df_props.columns = ['train', 'val']\n",
    "df_props"
   ]
  },
  {
   "cell_type": "markdown",
   "metadata": {},
   "source": [
    "## Hat/cap "
   ]
  },
  {
   "cell_type": "code",
   "execution_count": 17,
   "metadata": {},
   "outputs": [],
   "source": [
    "HATCAP_INDEX = 19"
   ]
  },
  {
   "cell_type": "code",
   "execution_count": 18,
   "metadata": {},
   "outputs": [
    {
     "name": "stdout",
     "output_type": "stream",
     "text": [
      "_________________________________________________________________\n",
      "Layer (type)                 Output Shape              Param #   \n",
      "=================================================================\n",
      "inputs (InputLayer)          (None, 7, 7, 1024)        0         \n",
      "_________________________________________________________________\n",
      "avg_pool_hatcap (GlobalAvera (None, 1024)              0         \n",
      "_________________________________________________________________\n",
      "drop_hatcap (Dropout)        (None, 1024)              0         \n",
      "_________________________________________________________________\n",
      "hat_cap (Dense)              (None, 3)                 3075      \n",
      "=================================================================\n",
      "Total params: 3,075\n",
      "Trainable params: 3,075\n",
      "Non-trainable params: 0\n",
      "_________________________________________________________________\n"
     ]
    }
   ],
   "source": [
    "inputs = Input(shape=train_features.shape[1:], name='inputs')\n",
    "output = GlobalAveragePooling2D(name='avg_pool_hatcap')(inputs)\n",
    "output = Dropout(rate=0.5, name='drop_hatcap')(output)\n",
    "output = Dense(units=3, activation='softmax', name=output_names[HATCAP_INDEX])(output)\n",
    "\n",
    "model = Model(inputs=inputs, \n",
    "              outputs=output, \n",
    "              name='hatcap')\n",
    "\n",
    "model.compile(optimizer='adam', loss='sparse_categorical_crossentropy', metrics=['accuracy'])\n",
    "model.summary()"
   ]
  },
  {
   "cell_type": "code",
   "execution_count": 21,
   "metadata": {
    "scrolled": false
   },
   "outputs": [
    {
     "name": "stdout",
     "output_type": "stream",
     "text": [
      "Train on 5211 samples, validate on 565 samples\n",
      "Epoch 1/30\n",
      "5211/5211 [==============================] - ETA: 0s - loss: 0.2792 - acc: 0.8892- ETA: 0s - loss: 0.2894 - acc: 0. - 1s 199us/step - loss: 0.2797 - acc: 0.8898 - val_loss: 0.1823 - val_acc: 0.9398\n",
      "Epoch 2/30\n",
      "5211/5211 [==============================] - 1s 198us/step - loss: 0.2549 - acc: 0.9014 - val_loss: 0.1754 - val_acc: 0.9469\n",
      "Epoch 3/30\n",
      "5211/5211 [==============================] - 1s 198us/step - loss: 0.2481 - acc: 0.9060 - val_loss: 0.1610 - val_acc: 0.9451\n",
      "Epoch 4/30\n",
      "5211/5211 [==============================] - 1s 193us/step - loss: 0.2514 - acc: 0.9040 - val_loss: 0.1792 - val_acc: 0.9451\n",
      "Epoch 5/30\n",
      "5211/5211 [==============================] - 1s 200us/step - loss: 0.2442 - acc: 0.9056 - val_loss: 0.1579 - val_acc: 0.9522\n",
      "Epoch 6/30\n",
      "5211/5211 [==============================] - 1s 197us/step - loss: 0.2375 - acc: 0.9110 - val_loss: 0.1595 - val_acc: 0.9469\n",
      "Epoch 7/30\n",
      "5211/5211 [==============================] - ETA: 0s - loss: 0.2471 - acc: 0.904 - 1s 196us/step - loss: 0.2446 - acc: 0.9054 - val_loss: 0.1632 - val_acc: 0.9487\n",
      "Epoch 8/30\n",
      "5211/5211 [==============================] - 1s 198us/step - loss: 0.2218 - acc: 0.9136 - val_loss: 0.1742 - val_acc: 0.9469\n",
      "Epoch 9/30\n",
      "5211/5211 [==============================] - 1s 195us/step - loss: 0.2272 - acc: 0.9152 - val_loss: 0.1531 - val_acc: 0.9522\n",
      "Epoch 10/30\n",
      "5211/5211 [==============================] - 1s 199us/step - loss: 0.2297 - acc: 0.9081 - val_loss: 0.1623 - val_acc: 0.9469\n",
      "Epoch 11/30\n",
      "5211/5211 [==============================] - 1s 196us/step - loss: 0.2272 - acc: 0.9115 - val_loss: 0.1597 - val_acc: 0.9504\n",
      "Epoch 12/30\n",
      "5211/5211 [==============================] - 1s 196us/step - loss: 0.2244 - acc: 0.9100 - val_loss: 0.1673 - val_acc: 0.9540\n",
      "Epoch 13/30\n",
      "5211/5211 [==============================] - 1s 196us/step - loss: 0.2219 - acc: 0.9146 - val_loss: 0.1631 - val_acc: 0.9504\n",
      "Epoch 14/30\n",
      "5211/5211 [==============================] - 1s 198us/step - loss: 0.2183 - acc: 0.9154 - val_loss: 0.1551 - val_acc: 0.9540\n",
      "Epoch 15/30\n",
      "5211/5211 [==============================] - 1s 199us/step - loss: 0.2247 - acc: 0.9133 - val_loss: 0.1645 - val_acc: 0.9469\n",
      "Epoch 16/30\n",
      "5211/5211 [==============================] - 1s 199us/step - loss: 0.2263 - acc: 0.9154 - val_loss: 0.1623 - val_acc: 0.9504\n",
      "Epoch 17/30\n",
      "5211/5211 [==============================] - 1s 200us/step - loss: 0.2187 - acc: 0.9156 - val_loss: 0.1584 - val_acc: 0.9540\n",
      "Epoch 18/30\n",
      "5211/5211 [==============================] - 1s 200us/step - loss: 0.2181 - acc: 0.9159 - val_loss: 0.1540 - val_acc: 0.9540\n",
      "Epoch 19/30\n",
      "5211/5211 [==============================] - 1s 196us/step - loss: 0.2231 - acc: 0.9146 - val_loss: 0.1622 - val_acc: 0.9451\n",
      "Epoch 20/30\n",
      "5211/5211 [==============================] - 1s 201us/step - loss: 0.2279 - acc: 0.9127 - val_loss: 0.1599 - val_acc: 0.9504\n",
      "Epoch 21/30\n",
      "5211/5211 [==============================] - 1s 198us/step - loss: 0.2169 - acc: 0.9177 - val_loss: 0.1581 - val_acc: 0.9504\n",
      "Epoch 22/30\n",
      "5211/5211 [==============================] - 1s 199us/step - loss: 0.2289 - acc: 0.9106 - val_loss: 0.1525 - val_acc: 0.9504\n",
      "Epoch 23/30\n",
      "5211/5211 [==============================] - 1s 197us/step - loss: 0.2216 - acc: 0.9119 - val_loss: 0.1576 - val_acc: 0.9522\n",
      "Epoch 24/30\n",
      "5211/5211 [==============================] - 1s 197us/step - loss: 0.2161 - acc: 0.9127 - val_loss: 0.1592 - val_acc: 0.9487\n",
      "Epoch 25/30\n",
      "5211/5211 [==============================] - ETA: 0s - loss: 0.2228 - acc: 0.912 - 1s 198us/step - loss: 0.2243 - acc: 0.9117 - val_loss: 0.2271 - val_acc: 0.9204\n",
      "Epoch 26/30\n",
      "5211/5211 [==============================] - 1s 199us/step - loss: 0.2312 - acc: 0.9100 - val_loss: 0.1596 - val_acc: 0.9469\n",
      "Epoch 27/30\n",
      "5211/5211 [==============================] - 1s 199us/step - loss: 0.2282 - acc: 0.9146 - val_loss: 0.1648 - val_acc: 0.9504\n",
      "Epoch 28/30\n",
      "5211/5211 [==============================] - 1s 198us/step - loss: 0.2151 - acc: 0.9165 - val_loss: 0.1737 - val_acc: 0.9451\n",
      "Epoch 29/30\n",
      "5211/5211 [==============================] - 1s 200us/step - loss: 0.2203 - acc: 0.9159 - val_loss: 0.1616 - val_acc: 0.9504\n",
      "Epoch 30/30\n",
      "5211/5211 [==============================] - 1s 199us/step - loss: 0.2154 - acc: 0.9156 - val_loss: 0.1622 - val_acc: 0.9504\n"
     ]
    },
    {
     "data": {
      "image/png": "[encoded data removed]",
      "text/plain": [
       "<Figure size 432x288 with 1 Axes>"
      ]
     },
     "metadata": {
      "needs_background": "light"
     },
     "output_type": "display_data"
    }
   ],
   "source": [
    "hist = model.fit(train_features, \n",
    "                 y_train[:, HATCAP_INDEX], \n",
    "                 batch_size=32, \n",
    "                 epochs=30, \n",
    "                 validation_data=(val_features, y_val[:, HATCAP_INDEX]), \n",
    "                 verbose=1)\n",
    "\n",
    "plot_graph((1, 1, 1), hist.history['loss'], hist.history['val_loss'], 'loss')"
   ]
  },
  {
   "cell_type": "code",
   "execution_count": null,
   "metadata": {},
   "outputs": [],
   "source": []
  }
 ],
 "metadata": {
  "kernelspec": {
   "display_name": "Python 3",
   "language": "python",
   "name": "python3"
  },
  "language_info": {
   "codemirror_mode": {
    "name": "ipython",
    "version": 3
   },
   "file_extension": ".py",
   "mimetype": "text/x-python",
   "name": "python",
   "nbconvert_exporter": "python",
   "pygments_lexer": "ipython3",
   "version": "3.6.8"
  }
 },
 "nbformat": 4,
 "nbformat_minor": 2
}
