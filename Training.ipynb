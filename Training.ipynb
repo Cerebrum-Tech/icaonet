{
 "cells": [
  {
   "cell_type": "markdown",
   "metadata": {},
   "source": [
    "# Dependencies"
   ]
  },
  {
   "cell_type": "code",
   "execution_count": 1,
   "metadata": {},
   "outputs": [
    {
     "name": "stderr",
     "output_type": "stream",
     "text": [
      "Using TensorFlow backend.\n"
     ]
    }
   ],
   "source": [
    "from sys import path\n",
    "path.append('src/')\n",
    "\n",
    "import numpy as np\n",
    "import pandas as pd\n",
    "import matplotlib.pyplot as plt\n",
    "import pickle as pkl\n",
    "from math import ceil\n",
    "from sklearn.metrics import confusion_matrix, accuracy_score\n",
    "from sklearn.preprocessing import LabelEncoder\n",
    "from src.mrk_file import MRKFile\n",
    "from src.iso_standard import PhotographicRequirements\n",
    "from src.utils.plot import plot_confusion_matrix\n",
    "from keras.applications import MobileNet\n",
    "from keras.layers import GlobalAveragePooling2D, Dense\n",
    "from keras.models import Model, Input"
   ]
  },
  {
   "cell_type": "code",
   "execution_count": 2,
   "metadata": {},
   "outputs": [],
   "source": [
    "FILE_TRAIN_DUMP = 'data/train_dump.pkl'\n",
    "FILE_TRAIN_BOTTLENECKS = 'data/train_bottlenecks.pkl'\n",
    "\n",
    "FILE_VAL_DUMP = 'data/val_dump.pkl'\n",
    "FILE_VAL_BOTTLENECKS = 'data/val_bottlenecks.pkl'\n",
    "\n",
    "INPUT_SHAPE = (224, 224, 3)"
   ]
  },
  {
   "cell_type": "code",
   "execution_count": 3,
   "metadata": {},
   "outputs": [],
   "source": [
    "output_names = ['blurred', \n",
    "                'looking_away', \n",
    "                'ink_marked_creased', \n",
    "                'unnatural_skin_tone', \n",
    "                'too_dark_light', \n",
    "                'washed_out', \n",
    "                'pixelation', \n",
    "                'hair_across_eyes', \n",
    "                'eyes_closed', \n",
    "                'varied_background', \n",
    "                'roll_pitch_yaw', \n",
    "                'flash_reflection_on_skin', \n",
    "                'red_eyes', \n",
    "                'shadows_behind_head', \n",
    "                'shadows_across_face', \n",
    "                'dark_tinted_lenses', \n",
    "                'flash_reflection_on_lenses', \n",
    "                'frames_too_heavy', \n",
    "                'frame_covering_eyes', \n",
    "                'hat_cap', \n",
    "                'veil_over_face', \n",
    "                'mouth_open', \n",
    "                'presence_of_other_faces_or_toys']"
   ]
  },
  {
   "cell_type": "markdown",
   "metadata": {},
   "source": [
    "# Helper Methods "
   ]
  },
  {
   "cell_type": "code",
   "execution_count": 4,
   "metadata": {},
   "outputs": [],
   "source": [
    "def history_to_dataframe(history, epoch=-1):\n",
    "    loss_train = np.array([history[name + '_loss'][epoch] for name in output_names])\n",
    "    loss_val = np.array([history['val_' + name + '_loss'][epoch] for name in output_names])\n",
    "    acc_train = np.array([history[name + '_acc'][epoch] for name in output_names]) * 100\n",
    "    acc_val = np.array([history['val_' + name + '_acc'][epoch] for name in output_names]) * 100\n",
    "\n",
    "    data = np.concatenate(([loss_train], [loss_val], [acc_train], [acc_val]), axis=0).T\n",
    "    return pd.DataFrame(data, columns=['loss_train', 'loss_val', 'acc_train', 'acc_val'], index=output_names)\n",
    "\n",
    "def load_proportions(file_txt):\n",
    "    prop_values = np.loadtxt(file_txt)\n",
    "    return pd.DataFrame(prop_values, index=output_names).T\n",
    "\n",
    "def plot_graph(subplot, train, val, title):\n",
    "    plt.subplot(*subplot)\n",
    "    plt.plot(train, label='train')\n",
    "    plt.plot(val, label='val')\n",
    "    plt.xlabel('epoch')\n",
    "    plt.title(title)\n",
    "    plt.legend()\n",
    "\n",
    "def save_history(history, output_file):\n",
    "    n_epochs = len(history['loss'])\n",
    "    n_graphs = len(output_names) * 2\n",
    "    n_cols = 2\n",
    "    n_rows = ceil(n_graphs / n_cols)\n",
    "\n",
    "    df_train_props = load_proportions('data/train_max_proportions.txt')\n",
    "    df_val_props = load_proportions('data/val_max_proportions.txt')\n",
    "    \n",
    "    plt.figure(figsize=(16, 100))\n",
    "    for i, name in zip(range(1, n_graphs, 2), output_names):\n",
    "        train_loss = history[name + '_loss']\n",
    "        train_acc = history[name + '_acc']\n",
    "        val_loss = history['val_' + name + '_loss']\n",
    "        val_acc = history['val_' + name + '_acc']\n",
    "\n",
    "        plot_graph((n_rows, n_cols, i), train_loss, val_loss, '{} ({})'.format(name, 'loss'))\n",
    "        plot_graph((n_rows, n_cols, i + 1), train_acc, val_acc, '{} ({})'.format(name, 'acc'))\n",
    "        plt.hlines(df_train_props[name], 0, n_epochs, linestyle=':', color='blue')\n",
    "        plt.hlines(df_val_props[name], 0, n_epochs, linestyle=':', color='orange')\n",
    "\n",
    "    plt.tight_layout()\n",
    "    plt.savefig(output_file)\n",
    "    plt.close()\n",
    "    \n",
    "def save_heatmaps(y_trues, y_preds, output_file, figsize=(20, 20)):\n",
    "    plt.figure(figsize=figsize)\n",
    "\n",
    "    n_graphs = len(output_names)\n",
    "    n_cols = 5\n",
    "    n_rows = ceil(n_graphs / n_cols)\n",
    "    labels = np.unique(y_trues)\n",
    "\n",
    "    for i, name, y_true, y_pred in zip(range(1, n_graphs + 1), output_names, y_trues, y_preds):\n",
    "        y_pred = np.argmax(y_pred, axis=-1)\n",
    "        conf_matrix = confusion_matrix(y_true.ravel(), y_pred, labels=labels)\n",
    "\n",
    "        plt.subplot(n_rows, n_cols, i)\n",
    "        plot_confusion_matrix(conf_matrix, \n",
    "                              target_names=['D', 'NC', 'C'], \n",
    "                              title=name, \n",
    "                              normalize=True)\n",
    "    plt.savefig(output_file)\n",
    "    plt.close()"
   ]
  },
  {
   "cell_type": "markdown",
   "metadata": {},
   "source": [
    "# Load Data "
   ]
  },
  {
   "cell_type": "code",
   "execution_count": 5,
   "metadata": {},
   "outputs": [
    {
     "name": "stdout",
     "output_type": "stream",
     "text": [
      "5211 <class 'list'>\n",
      "(5211, 224, 224, 3) float32\n",
      "5211 <class 'src.mrk_file.MRKFile'>\n"
     ]
    }
   ],
   "source": [
    "train_image_files, x_train, train_mrks = pkl.load(open(FILE_TRAIN_DUMP, 'rb'))\n",
    "\n",
    "print(len(train_image_files), type(train_image_files))\n",
    "print(x_train.shape, x_train.dtype)\n",
    "print(len(train_mrks), type(train_mrks[0]))"
   ]
  },
  {
   "cell_type": "code",
   "execution_count": 6,
   "metadata": {},
   "outputs": [
    {
     "name": "stdout",
     "output_type": "stream",
     "text": [
      "565 <class 'list'>\n",
      "(565, 224, 224, 3) float32\n",
      "565 <class 'src.mrk_file.MRKFile'>\n"
     ]
    }
   ],
   "source": [
    "val_image_files, x_val, val_mrks = pkl.load(open(FILE_VAL_DUMP, 'rb'))\n",
    "\n",
    "print(len(val_image_files), type(val_image_files))\n",
    "print(x_val.shape, x_val.dtype)\n",
    "print(len(val_mrks), type(val_mrks[0]))"
   ]
  },
  {
   "cell_type": "markdown",
   "metadata": {},
   "source": [
    "# Save Bottlenecks "
   ]
  },
  {
   "cell_type": "code",
   "execution_count": 7,
   "metadata": {},
   "outputs": [],
   "source": [
    "base_model = MobileNet(input_shape=INPUT_SHAPE, weights='imagenet', include_top=False)"
   ]
  },
  {
   "cell_type": "code",
   "execution_count": 8,
   "metadata": {},
   "outputs": [
    {
     "name": "stdout",
     "output_type": "stream",
     "text": [
      "5211/5211 [==============================] - 7s 1ms/step\n",
      "565/565 [==============================] - 1s 1ms/step\n",
      "(5211, 7, 7, 1024) float32\n",
      "(565, 7, 7, 1024) float32\n"
     ]
    }
   ],
   "source": [
    "train_features = base_model.predict(x_train, batch_size=32, verbose=1)\n",
    "val_features = base_model.predict(x_val, batch_size=32, verbose=1)\n",
    "\n",
    "print(train_features.shape, train_features.dtype)\n",
    "print(val_features.shape, val_features.dtype)"
   ]
  },
  {
   "cell_type": "code",
   "execution_count": 9,
   "metadata": {},
   "outputs": [
    {
     "name": "stdout",
     "output_type": "stream",
     "text": [
      "(5211, 23) int8\n",
      "(565, 23) int8\n"
     ]
    }
   ],
   "source": [
    "train_values = np.array([mrk.photo_reqs.values() for mrk in train_mrks], dtype=np.int8)\n",
    "val_values = np.array([mrk.photo_reqs.values() for mrk in val_mrks], dtype=np.int8)\n",
    "\n",
    "print(train_values.shape, train_values.dtype)\n",
    "print(val_values.shape, val_values.dtype)"
   ]
  },
  {
   "cell_type": "code",
   "execution_count": 10,
   "metadata": {},
   "outputs": [],
   "source": [
    "pkl.dump((train_features, train_values), open(FILE_TRAIN_BOTTLENECKS, 'wb'), protocol=-1)\n",
    "pkl.dump((val_features, val_values), open(FILE_VAL_BOTTLENECKS, 'wb'), protocol=-1)"
   ]
  },
  {
   "cell_type": "markdown",
   "metadata": {},
   "source": [
    "# Transfer Learning "
   ]
  },
  {
   "cell_type": "code",
   "execution_count": 5,
   "metadata": {},
   "outputs": [
    {
     "name": "stdout",
     "output_type": "stream",
     "text": [
      "(5211, 7, 7, 1024) float32\n",
      "(5211, 23) int8\n",
      "(565, 7, 7, 1024) float32\n",
      "(565, 23) int8\n"
     ]
    }
   ],
   "source": [
    "train_features, train_values = pkl.load(open(FILE_TRAIN_BOTTLENECKS, 'rb'))\n",
    "val_features, val_values = pkl.load(open(FILE_VAL_BOTTLENECKS, 'rb'))\n",
    "\n",
    "print(train_features.shape, train_features.dtype)\n",
    "print(train_values.shape, train_values.dtype)\n",
    "print(val_features.shape, val_features.dtype)\n",
    "print(val_values.shape, val_values.dtype)"
   ]
  },
  {
   "cell_type": "code",
   "execution_count": 6,
   "metadata": {},
   "outputs": [],
   "source": [
    "# encode reqs values from [-1, 0, 1] => [0, 1, 2]\n",
    "enc = LabelEncoder()\n",
    "enc.fit(train_values.ravel())\n",
    "\n",
    "y_train = enc.transform(train_values.ravel()).reshape(train_values.shape)\n",
    "y_val = enc.transform(val_values.ravel()).reshape(val_values.shape)\n",
    "\n",
    "assert(y_train.shape == train_values.shape)\n",
    "assert(y_val.shape == val_values.shape)\n",
    "assert(np.all(y_train == train_values + 1))\n",
    "assert(np.all(y_val == val_values + 1))"
   ]
  },
  {
   "cell_type": "code",
   "execution_count": 7,
   "metadata": {},
   "outputs": [
    {
     "name": "stdout",
     "output_type": "stream",
     "text": [
      "__________________________________________________________________________________________________\n",
      "Layer (type)                    Output Shape         Param #     Connected to                     \n",
      "==================================================================================================\n",
      "inputs (InputLayer)             (None, 7, 7, 1024)   0                                            \n",
      "__________________________________________________________________________________________________\n",
      "global_average_pooling2d_1 (Glo (None, 1024)         0           inputs[0][0]                     \n",
      "__________________________________________________________________________________________________\n",
      "blurred (Dense)                 (None, 3)            3075        global_average_pooling2d_1[0][0] \n",
      "__________________________________________________________________________________________________\n",
      "looking_away (Dense)            (None, 3)            3075        global_average_pooling2d_1[0][0] \n",
      "__________________________________________________________________________________________________\n",
      "ink_marked_creased (Dense)      (None, 3)            3075        global_average_pooling2d_1[0][0] \n",
      "__________________________________________________________________________________________________\n",
      "unnatural_skin_tone (Dense)     (None, 3)            3075        global_average_pooling2d_1[0][0] \n",
      "__________________________________________________________________________________________________\n",
      "too_dark_light (Dense)          (None, 3)            3075        global_average_pooling2d_1[0][0] \n",
      "__________________________________________________________________________________________________\n",
      "washed_out (Dense)              (None, 3)            3075        global_average_pooling2d_1[0][0] \n",
      "__________________________________________________________________________________________________\n",
      "pixelation (Dense)              (None, 3)            3075        global_average_pooling2d_1[0][0] \n",
      "__________________________________________________________________________________________________\n",
      "hair_across_eyes (Dense)        (None, 3)            3075        global_average_pooling2d_1[0][0] \n",
      "__________________________________________________________________________________________________\n",
      "eyes_closed (Dense)             (None, 3)            3075        global_average_pooling2d_1[0][0] \n",
      "__________________________________________________________________________________________________\n",
      "varied_background (Dense)       (None, 3)            3075        global_average_pooling2d_1[0][0] \n",
      "__________________________________________________________________________________________________\n",
      "roll_pitch_yaw (Dense)          (None, 3)            3075        global_average_pooling2d_1[0][0] \n",
      "__________________________________________________________________________________________________\n",
      "flash_reflection_on_skin (Dense (None, 3)            3075        global_average_pooling2d_1[0][0] \n",
      "__________________________________________________________________________________________________\n",
      "red_eyes (Dense)                (None, 3)            3075        global_average_pooling2d_1[0][0] \n",
      "__________________________________________________________________________________________________\n",
      "shadows_behind_head (Dense)     (None, 3)            3075        global_average_pooling2d_1[0][0] \n",
      "__________________________________________________________________________________________________\n",
      "shadows_across_face (Dense)     (None, 3)            3075        global_average_pooling2d_1[0][0] \n",
      "__________________________________________________________________________________________________\n",
      "dark_tinted_lenses (Dense)      (None, 3)            3075        global_average_pooling2d_1[0][0] \n",
      "__________________________________________________________________________________________________\n",
      "flash_reflection_on_lenses (Den (None, 3)            3075        global_average_pooling2d_1[0][0] \n",
      "__________________________________________________________________________________________________\n",
      "frames_too_heavy (Dense)        (None, 3)            3075        global_average_pooling2d_1[0][0] \n",
      "__________________________________________________________________________________________________\n",
      "frame_covering_eyes (Dense)     (None, 3)            3075        global_average_pooling2d_1[0][0] \n",
      "__________________________________________________________________________________________________\n",
      "hat_cap (Dense)                 (None, 3)            3075        global_average_pooling2d_1[0][0] \n",
      "__________________________________________________________________________________________________\n",
      "veil_over_face (Dense)          (None, 3)            3075        global_average_pooling2d_1[0][0] \n",
      "__________________________________________________________________________________________________\n",
      "mouth_open (Dense)              (None, 3)            3075        global_average_pooling2d_1[0][0] \n",
      "__________________________________________________________________________________________________\n",
      "presence_of_other_faces_or_toys (None, 3)            3075        global_average_pooling2d_1[0][0] \n",
      "==================================================================================================\n",
      "Total params: 70,725\n",
      "Trainable params: 70,725\n",
      "Non-trainable params: 0\n",
      "__________________________________________________________________________________________________\n"
     ]
    }
   ],
   "source": [
    "inputs = Input(shape=train_features.shape[1:], name='inputs')\n",
    "avg_pool = GlobalAveragePooling2D()(inputs)\n",
    "\n",
    "r2 = Dense(units=3, activation='softmax', name=output_names[0])(avg_pool)\n",
    "r3 = Dense(units=3, activation='softmax', name=output_names[1])(avg_pool)\n",
    "r4 = Dense(units=3, activation='softmax', name=output_names[2])(avg_pool)\n",
    "r5 = Dense(units=3, activation='softmax', name=output_names[3])(avg_pool)\n",
    "r6 = Dense(units=3, activation='softmax', name=output_names[4])(avg_pool)\n",
    "r7 = Dense(units=3, activation='softmax', name=output_names[5])(avg_pool)\n",
    "r8 = Dense(units=3, activation='softmax', name=output_names[6])(avg_pool)\n",
    "r9 = Dense(units=3, activation='softmax', name=output_names[7])(avg_pool)\n",
    "r10 = Dense(units=3, activation='softmax', name=output_names[8])(avg_pool)\n",
    "r11 = Dense(units=3, activation='softmax', name=output_names[9])(avg_pool)\n",
    "r12 = Dense(units=3, activation='softmax', name=output_names[10])(avg_pool)\n",
    "r13 = Dense(units=3, activation='softmax', name=output_names[11])(avg_pool)\n",
    "r14 = Dense(units=3, activation='softmax', name=output_names[12])(avg_pool)\n",
    "r15 = Dense(units=3, activation='softmax', name=output_names[13])(avg_pool)\n",
    "r16 = Dense(units=3, activation='softmax', name=output_names[14])(avg_pool)\n",
    "r17 = Dense(units=3, activation='softmax', name=output_names[15])(avg_pool)\n",
    "r18 = Dense(units=3, activation='softmax', name=output_names[16])(avg_pool)\n",
    "r19 = Dense(units=3, activation='softmax', name=output_names[17])(avg_pool)\n",
    "r20 = Dense(units=3, activation='softmax', name=output_names[18])(avg_pool)\n",
    "r21 = Dense(units=3, activation='softmax', name=output_names[19])(avg_pool)\n",
    "r22 = Dense(units=3, activation='softmax', name=output_names[20])(avg_pool)\n",
    "r23 = Dense(units=3, activation='softmax', name=output_names[21])(avg_pool)\n",
    "r24 = Dense(units=3, activation='softmax', name=output_names[22])(avg_pool)\n",
    "\n",
    "model = Model(inputs=inputs, \n",
    "              outputs=[r2, r3, r4, r5, r6, r7, r8, r9, r10, r11, r12, r13, r14, r15, r16, r17, r18, r19, r20, r21, r22, r23, r24], \n",
    "              name='icaonet')\n",
    "\n",
    "model.compile(optimizer='adam', loss='sparse_categorical_crossentropy', metrics=['accuracy'])\n",
    "model.summary()"
   ]
  },
  {
   "cell_type": "code",
   "execution_count": 8,
   "metadata": {
    "scrolled": false
   },
   "outputs": [
    {
     "name": "stdout",
     "output_type": "stream",
     "text": [
      "Train on 5211 samples, validate on 565 samples\n",
      "Epoch 1/30\n",
      "5211/5211 [==============================] - 7s 1ms/step - loss: 8.8291 - blurred_loss: 0.4787 - looking_away_loss: 0.7434 - ink_marked_creased_loss: 0.1437 - unnatural_skin_tone_loss: 0.2835 - too_dark_light_loss: 0.2807 - washed_out_loss: 0.0227 - pixelation_loss: 0.3101 - hair_across_eyes_loss: 0.3446 - eyes_closed_loss: 0.5849 - varied_background_loss: 0.3406 - roll_pitch_yaw_loss: 0.6504 - flash_reflection_on_skin_loss: 0.4828 - red_eyes_loss: 0.5079 - shadows_behind_head_loss: 0.6596 - shadows_across_face_loss: 0.4048 - dark_tinted_lenses_loss: 0.2680 - flash_reflection_on_lenses_loss: 0.4214 - frames_too_heavy_loss: 0.2766 - frame_covering_eyes_loss: 0.5426 - hat_cap_loss: 0.3630 - veil_over_face_loss: 0.1190 - mouth_open_loss: 0.5604 - presence_of_other_faces_or_toys_loss: 0.0397 - blurred_acc: 0.8375 - looking_away_acc: 0.7020 - ink_marked_creased_acc: 0.9438 - unnatural_skin_tone_acc: 0.9207 - too_dark_light_acc: 0.9326 - washed_out_acc: 0.9950 - pixelation_acc: 0.9123 - hair_across_eyes_acc: 0.8756 - eyes_closed_acc: 0.8012 - varied_background_acc: 0.8662 - roll_pitch_yaw_acc: 0.6995 - flash_reflection_on_skin_acc: 0.8315 - red_eyes_acc: 0.8020 - shadows_behind_head_acc: 0.7450 - shadows_across_face_acc: 0.8536 - dark_tinted_lenses_acc: 0.9025 - flash_reflection_on_lenses_acc: 0.8315 - frames_too_heavy_acc: 0.9190 - frame_covering_eyes_acc: 0.8025 - hat_cap_acc: 0.8618 - veil_over_face_acc: 0.9647 - mouth_open_acc: 0.7780 - presence_of_other_faces_or_toys_acc: 0.9931 - val_loss: 14.1501 - val_blurred_loss: 0.3085 - val_looking_away_loss: 0.7018 - val_ink_marked_creased_loss: 0.1167 - val_unnatural_skin_tone_loss: 1.2856 - val_too_dark_light_loss: 0.5906 - val_washed_out_loss: 0.7287 - val_pixelation_loss: 0.2301 - val_hair_across_eyes_loss: 0.5834 - val_eyes_closed_loss: 0.5591 - val_varied_background_loss: 1.3665 - val_roll_pitch_yaw_loss: 0.9401 - val_flash_reflection_on_skin_loss: 1.2004 - val_red_eyes_loss: 0.9365 - val_shadows_behind_head_loss: 0.1977 - val_shadows_across_face_loss: 1.6963 - val_dark_tinted_lenses_loss: 0.1305 - val_flash_reflection_on_lenses_loss: 0.4530 - val_frames_too_heavy_loss: 0.0862 - val_frame_covering_eyes_loss: 0.5858 - val_hat_cap_loss: 0.1981 - val_veil_over_face_loss: 0.0912 - val_mouth_open_loss: 1.0322 - val_presence_of_other_faces_or_toys_loss: 0.1313 - val_blurred_acc: 0.8690 - val_looking_away_acc: 0.7770 - val_ink_marked_creased_acc: 0.9416 - val_unnatural_skin_tone_acc: 0.7097 - val_too_dark_light_acc: 0.8796 - val_washed_out_acc: 0.9398 - val_pixelation_acc: 0.9487 - val_hair_across_eyes_acc: 0.9150 - val_eyes_closed_acc: 0.8566 - val_varied_background_acc: 0.7681 - val_roll_pitch_yaw_acc: 0.8336 - val_flash_reflection_on_skin_acc: 0.6460 - val_red_eyes_acc: 0.7221 - val_shadows_behind_head_acc: 0.9664 - val_shadows_across_face_acc: 0.6814 - val_dark_tinted_lenses_acc: 0.9841 - val_flash_reflection_on_lenses_acc: 0.8956 - val_frames_too_heavy_acc: 0.9646 - val_frame_covering_eyes_acc: 0.8549 - val_hat_cap_acc: 0.9487 - val_veil_over_face_acc: 0.9681 - val_mouth_open_acc: 0.6460 - val_presence_of_other_faces_or_toys_acc: 0.9823\n",
      "Epoch 2/30\n",
      "5211/5211 [==============================] - 4s 714us/step - loss: 6.7474 - blurred_loss: 0.3738 - looking_away_loss: 0.6401 - ink_marked_creased_loss: 0.1012 - unnatural_skin_tone_loss: 0.1936 - too_dark_light_loss: 0.1997 - washed_out_loss: 0.0084 - pixelation_loss: 0.2411 - hair_across_eyes_loss: 0.2389 - eyes_closed_loss: 0.4797 - varied_background_loss: 0.2244 - roll_pitch_yaw_loss: 0.5696 - flash_reflection_on_skin_loss: 0.3429 - red_eyes_loss: 0.3706 - shadows_behind_head_loss: 0.5347 - shadows_across_face_loss: 0.3029 - dark_tinted_lenses_loss: 0.1820 - flash_reflection_on_lenses_loss: 0.3152 - frames_too_heavy_loss: 0.2086 - frame_covering_eyes_loss: 0.4136 - hat_cap_loss: 0.2425 - veil_over_face_loss: 0.0763 - mouth_open_loss: 0.4665 - presence_of_other_faces_or_toys_loss: 0.0210 - blurred_acc: 0.8662 - looking_away_acc: 0.7425 - ink_marked_creased_acc: 0.9559 - unnatural_skin_tone_acc: 0.9409 - too_dark_light_acc: 0.9440 - washed_out_acc: 0.9990 - pixelation_acc: 0.9290 - hair_across_eyes_acc: 0.9113 - eyes_closed_acc: 0.8453 - varied_background_acc: 0.9182 - roll_pitch_yaw_acc: 0.7494 - flash_reflection_on_skin_acc: 0.8877 - red_eyes_acc: 0.8605 - shadows_behind_head_acc: 0.7874 - shadows_across_face_acc: 0.8943 - dark_tinted_lenses_acc: 0.9359 - flash_reflection_on_lenses_acc: 0.8772 - frames_too_heavy_acc: 0.9353 - frame_covering_eyes_acc: 0.8469 - hat_cap_acc: 0.9077 - veil_over_face_acc: 0.9791 - mouth_open_acc: 0.8071 - presence_of_other_faces_or_toys_acc: 0.9967 - val_loss: 13.2211 - val_blurred_loss: 0.3429 - val_looking_away_loss: 0.6736 - val_ink_marked_creased_loss: 0.1251 - val_unnatural_skin_tone_loss: 1.3584 - val_too_dark_light_loss: 0.4773 - val_washed_out_loss: 0.5992 - val_pixelation_loss: 0.2286 - val_hair_across_eyes_loss: 0.6105 - val_eyes_closed_loss: 0.5577 - val_varied_background_loss: 1.1013 - val_roll_pitch_yaw_loss: 0.8963 - val_flash_reflection_on_skin_loss: 1.1596 - val_red_eyes_loss: 0.7300 - val_shadows_behind_head_loss: 0.1597 - val_shadows_across_face_loss: 1.5396 - val_dark_tinted_lenses_loss: 0.1524 - val_flash_reflection_on_lenses_loss: 0.4149 - val_frames_too_heavy_loss: 0.1412 - val_frame_covering_eyes_loss: 0.5338 - val_hat_cap_loss: 0.1748 - val_veil_over_face_loss: 0.1009 - val_mouth_open_loss: 1.0340 - val_presence_of_other_faces_or_toys_loss: 0.1092 - val_blurred_acc: 0.8566 - val_looking_away_acc: 0.7628 - val_ink_marked_creased_acc: 0.9398 - val_unnatural_skin_tone_acc: 0.7327 - val_too_dark_light_acc: 0.8779 - val_washed_out_acc: 0.9398 - val_pixelation_acc: 0.9487 - val_hair_across_eyes_acc: 0.9150 - val_eyes_closed_acc: 0.8513 - val_varied_background_acc: 0.8142 - val_roll_pitch_yaw_acc: 0.8319 - val_flash_reflection_on_skin_acc: 0.6885 - val_red_eyes_acc: 0.7522 - val_shadows_behind_head_acc: 0.9752 - val_shadows_across_face_acc: 0.6885 - val_dark_tinted_lenses_acc: 0.9717 - val_flash_reflection_on_lenses_acc: 0.8973 - val_frames_too_heavy_acc: 0.9522 - val_frame_covering_eyes_acc: 0.8726 - val_hat_cap_acc: 0.9504 - val_veil_over_face_acc: 0.9469 - val_mouth_open_acc: 0.6779 - val_presence_of_other_faces_or_toys_acc: 0.9823\n",
      "Epoch 3/30\n",
      "5211/5211 [==============================] - 4s 708us/step - loss: 6.2071 - blurred_loss: 0.3452 - looking_away_loss: 0.6061 - ink_marked_creased_loss: 0.0931 - unnatural_skin_tone_loss: 0.1792 - too_dark_light_loss: 0.1754 - washed_out_loss: 0.0075 - pixelation_loss: 0.2247 - hair_across_eyes_loss: 0.2132 - eyes_closed_loss: 0.4362 - varied_background_loss: 0.2048 - roll_pitch_yaw_loss: 0.5498 - flash_reflection_on_skin_loss: 0.3201 - red_eyes_loss: 0.3447 - shadows_behind_head_loss: 0.4965 - shadows_across_face_loss: 0.2796 - dark_tinted_lenses_loss: 0.1598 - flash_reflection_on_lenses_loss: 0.2888 - frames_too_heavy_loss: 0.1822 - frame_covering_eyes_loss: 0.3705 - hat_cap_loss: 0.2010 - veil_over_face_loss: 0.0662 - mouth_open_loss: 0.4423 - presence_of_other_faces_or_toys_loss: 0.0203 - blurred_acc: 0.8724 - looking_away_acc: 0.7597 - ink_marked_creased_acc: 0.9609 - unnatural_skin_tone_acc: 0.9428 - too_dark_light_acc: 0.9445 - washed_out_acc: 0.9990 - pixelation_acc: 0.9303 - hair_across_eyes_acc: 0.9163 - eyes_closed_acc: 0.8538 - varied_background_acc: 0.9273 - roll_pitch_yaw_acc: 0.7666 - flash_reflection_on_skin_acc: 0.8971 - red_eyes_acc: 0.8753 - shadows_behind_head_acc: 0.8056 - shadows_across_face_acc: 0.9060 - dark_tinted_lenses_acc: 0.9432 - flash_reflection_on_lenses_acc: 0.8849 - frames_too_heavy_acc: 0.9443 - frame_covering_eyes_acc: 0.8578 - hat_cap_acc: 0.9292 - veil_over_face_acc: 0.9793 - mouth_open_acc: 0.8133 - presence_of_other_faces_or_toys_acc: 0.9967 - val_loss: 13.0252 - val_blurred_loss: 0.2742 - val_looking_away_loss: 0.7499 - val_ink_marked_creased_loss: 0.1071 - val_unnatural_skin_tone_loss: 1.3122 - val_too_dark_light_loss: 0.4298 - val_washed_out_loss: 0.6266 - val_pixelation_loss: 0.2194 - val_hair_across_eyes_loss: 0.6409 - val_eyes_closed_loss: 0.5681 - val_varied_background_loss: 1.0489 - val_roll_pitch_yaw_loss: 0.8514 - val_flash_reflection_on_skin_loss: 1.0097 - val_red_eyes_loss: 1.0150 - val_shadows_behind_head_loss: 0.1516 - val_shadows_across_face_loss: 1.4568 - val_dark_tinted_lenses_loss: 0.0916 - val_flash_reflection_on_lenses_loss: 0.3891 - val_frames_too_heavy_loss: 0.1676 - val_frame_covering_eyes_loss: 0.5598 - val_hat_cap_loss: 0.1571 - val_veil_over_face_loss: 0.0807 - val_mouth_open_loss: 1.0038 - val_presence_of_other_faces_or_toys_loss: 0.1138 - val_blurred_acc: 0.8761 - val_looking_away_acc: 0.7894 - val_ink_marked_creased_acc: 0.9504 - val_unnatural_skin_tone_acc: 0.7327 - val_too_dark_light_acc: 0.8779 - val_washed_out_acc: 0.9398 - val_pixelation_acc: 0.9487 - val_hair_across_eyes_acc: 0.9150 - val_eyes_closed_acc: 0.8690 - val_varied_background_acc: 0.8230 - val_roll_pitch_yaw_acc: 0.8319 - val_flash_reflection_on_skin_acc: 0.7894 - val_red_eyes_acc: 0.7398 - val_shadows_behind_head_acc: 0.9646 - val_shadows_across_face_acc: 0.6867 - val_dark_tinted_lenses_acc: 0.9841 - val_flash_reflection_on_lenses_acc: 0.9115 - val_frames_too_heavy_acc: 0.9487 - val_frame_covering_eyes_acc: 0.8708 - val_hat_cap_acc: 0.9487 - val_veil_over_face_acc: 0.9593 - val_mouth_open_acc: 0.7009 - val_presence_of_other_faces_or_toys_acc: 0.9823\n"
     ]
    },
    {
     "name": "stdout",
     "output_type": "stream",
     "text": [
      "Epoch 4/30\n",
      "5211/5211 [==============================] - 4s 712us/step - loss: 5.8735 - blurred_loss: 0.3323 - looking_away_loss: 0.5808 - ink_marked_creased_loss: 0.0941 - unnatural_skin_tone_loss: 0.1721 - too_dark_light_loss: 0.1582 - washed_out_loss: 0.0068 - pixelation_loss: 0.2141 - hair_across_eyes_loss: 0.1921 - eyes_closed_loss: 0.4137 - varied_background_loss: 0.1897 - roll_pitch_yaw_loss: 0.5255 - flash_reflection_on_skin_loss: 0.3053 - red_eyes_loss: 0.3276 - shadows_behind_head_loss: 0.4748 - shadows_across_face_loss: 0.2601 - dark_tinted_lenses_loss: 0.1484 - flash_reflection_on_lenses_loss: 0.2734 - frames_too_heavy_loss: 0.1716 - frame_covering_eyes_loss: 0.3524 - hat_cap_loss: 0.1810 - veil_over_face_loss: 0.0583 - mouth_open_loss: 0.4241 - presence_of_other_faces_or_toys_loss: 0.0171 - blurred_acc: 0.8793 - looking_away_acc: 0.7730 - ink_marked_creased_acc: 0.9578 - unnatural_skin_tone_acc: 0.9422 - too_dark_light_acc: 0.9501 - washed_out_acc: 0.9990 - pixelation_acc: 0.9311 - hair_across_eyes_acc: 0.9257 - eyes_closed_acc: 0.8605 - varied_background_acc: 0.9313 - roll_pitch_yaw_acc: 0.7793 - flash_reflection_on_skin_acc: 0.8998 - red_eyes_acc: 0.8799 - shadows_behind_head_acc: 0.8123 - shadows_across_face_acc: 0.9106 - dark_tinted_lenses_acc: 0.9503 - flash_reflection_on_lenses_acc: 0.8900 - frames_too_heavy_acc: 0.9465 - frame_covering_eyes_acc: 0.8682 - hat_cap_acc: 0.9372 - veil_over_face_acc: 0.9823 - mouth_open_acc: 0.8256 - presence_of_other_faces_or_toys_acc: 0.9967 - val_loss: 13.5594 - val_blurred_loss: 0.2722 - val_looking_away_loss: 0.7000 - val_ink_marked_creased_loss: 0.1437 - val_unnatural_skin_tone_loss: 1.4975 - val_too_dark_light_loss: 0.4744 - val_washed_out_loss: 0.6004 - val_pixelation_loss: 0.2639 - val_hair_across_eyes_loss: 0.6876 - val_eyes_closed_loss: 0.5772 - val_varied_background_loss: 1.2371 - val_roll_pitch_yaw_loss: 1.0066 - val_flash_reflection_on_skin_loss: 1.0794 - val_red_eyes_loss: 0.9512 - val_shadows_behind_head_loss: 0.1560 - val_shadows_across_face_loss: 1.4229 - val_dark_tinted_lenses_loss: 0.0931 - val_flash_reflection_on_lenses_loss: 0.3991 - val_frames_too_heavy_loss: 0.1252 - val_frame_covering_eyes_loss: 0.5943 - val_hat_cap_loss: 0.1550 - val_veil_over_face_loss: 0.0508 - val_mouth_open_loss: 0.9778 - val_presence_of_other_faces_or_toys_loss: 0.0940 - val_blurred_acc: 0.8708 - val_looking_away_acc: 0.7894 - val_ink_marked_creased_acc: 0.9186 - val_unnatural_skin_tone_acc: 0.7204 - val_too_dark_light_acc: 0.8779 - val_washed_out_acc: 0.9398 - val_pixelation_acc: 0.9381 - val_hair_across_eyes_acc: 0.9150 - val_eyes_closed_acc: 0.8655 - val_varied_background_acc: 0.8088 - val_roll_pitch_yaw_acc: 0.8319 - val_flash_reflection_on_skin_acc: 0.6814 - val_red_eyes_acc: 0.7451 - val_shadows_behind_head_acc: 0.9434 - val_shadows_across_face_acc: 0.6885 - val_dark_tinted_lenses_acc: 0.9876 - val_flash_reflection_on_lenses_acc: 0.8991 - val_frames_too_heavy_acc: 0.9558 - val_frame_covering_eyes_acc: 0.8708 - val_hat_cap_acc: 0.9540 - val_veil_over_face_acc: 0.9894 - val_mouth_open_acc: 0.6708 - val_presence_of_other_faces_or_toys_acc: 0.98230.0062 - pixelation_loss: 0.2119 - hair_across_eyes_loss: 0.1966 - eyes_closed_loss: 0.4107 - varied_background_loss: 0.1941 - roll_pitch_yaw_loss: 0.5300 - flash_reflection_on_skin_loss: 0.3031 - red_eyes_loss: 0.3245 - shadows_behind_head_loss: 0.4694 - shadows_across_face_loss: 0.2550 - dark_tinted_lenses_loss: 0.1467 - flash_reflection_on_lenses_loss: 0.2726 - frames_too_heavy_loss: 0.1717 - frame_covering_eyes_loss: 0.3591 - hat_cap_loss: 0.1800 - veil_over_face_loss: 0.0577 - mouth_open_loss: 0.4229 - presence_of_other_faces_or_toys_loss: 0.0141 - blurred_acc: 0.8796 - looking_away_acc: 0.7749 - ink_marked_creased_acc: 0.9602 - unnatural_skin_tone_acc: 0.9415 - too_dark_light_acc: 0.9511 - washed_out_acc: 0.9991 - pixelation_acc: 0.9313 - hair_across_eyes_acc: 0.9234 - eyes_closed_acc: 0.8629 - varied_background_acc: 0.9283 - roll_pitch_yaw_acc: 0.7784 - flash_reflection_on_skin_acc: 0.9005 - red_eyes_acc: 0.8834 - shadows_behind_head_acc: 0.8154 - shadows_across_face_acc: 0.9122 - dark_tinted_lenses_acc: 0.9514 - flash_reflection_on_lenses_acc: 0.8915 - frames_too_heavy_acc: 0.9465 - frame_covering_eyes_acc: 0.8644 - hat_cap_acc: 0.9379 - veil_over_face_acc: 0.9831 - mouth_open_acc: 0.8253 - presence_of_other_faces_or_to\n",
      "Epoch 5/30\n",
      "5211/5211 [==============================] - 4s 714us/step - loss: 5.6330 - blurred_loss: 0.3154 - looking_away_loss: 0.5691 - ink_marked_creased_loss: 0.0861 - unnatural_skin_tone_loss: 0.1622 - too_dark_light_loss: 0.1488 - washed_out_loss: 0.0057 - pixelation_loss: 0.2089 - hair_across_eyes_loss: 0.1831 - eyes_closed_loss: 0.3970 - varied_background_loss: 0.1817 - roll_pitch_yaw_loss: 0.5132 - flash_reflection_on_skin_loss: 0.2934 - red_eyes_loss: 0.3155 - shadows_behind_head_loss: 0.4494 - shadows_across_face_loss: 0.2565 - dark_tinted_lenses_loss: 0.1386 - flash_reflection_on_lenses_loss: 0.2582 - frames_too_heavy_loss: 0.1613 - frame_covering_eyes_loss: 0.3385 - hat_cap_loss: 0.1689 - veil_over_face_loss: 0.0533 - mouth_open_loss: 0.4125 - presence_of_other_faces_or_toys_loss: 0.0156 - blurred_acc: 0.8845 - looking_away_acc: 0.7759 - ink_marked_creased_acc: 0.9618 - unnatural_skin_tone_acc: 0.9447 - too_dark_light_acc: 0.9528 - washed_out_acc: 0.9990 - pixelation_acc: 0.9321 - hair_across_eyes_acc: 0.9298 - eyes_closed_acc: 0.8651 - varied_background_acc: 0.9386 - roll_pitch_yaw_acc: 0.7845 - flash_reflection_on_skin_acc: 0.9039 - red_eyes_acc: 0.8818 - shadows_behind_head_acc: 0.8240 - shadows_across_face_acc: 0.9117 - dark_tinted_lenses_acc: 0.9522 - flash_reflection_on_lenses_acc: 0.8943 - frames_too_heavy_acc: 0.9486 - frame_covering_eyes_acc: 0.8718 - hat_cap_acc: 0.9403 - veil_over_face_acc: 0.9833 - mouth_open_acc: 0.8273 - presence_of_other_faces_or_toys_acc: 0.9967 - val_loss: 13.2601 - val_blurred_loss: 0.3044 - val_looking_away_loss: 0.6553 - val_ink_marked_creased_loss: 0.0781 - val_unnatural_skin_tone_loss: 1.5189 - val_too_dark_light_loss: 0.4410 - val_washed_out_loss: 0.6666 - val_pixelation_loss: 0.2152 - val_hair_across_eyes_loss: 0.7022 - val_eyes_closed_loss: 0.5141 - val_varied_background_loss: 1.1587 - val_roll_pitch_yaw_loss: 0.8548 - val_flash_reflection_on_skin_loss: 1.0716 - val_red_eyes_loss: 0.7275 - val_shadows_behind_head_loss: 0.1263 - val_shadows_across_face_loss: 1.5792 - val_dark_tinted_lenses_loss: 0.1245 - val_flash_reflection_on_lenses_loss: 0.3831 - val_frames_too_heavy_loss: 0.1591 - val_frame_covering_eyes_loss: 0.6303 - val_hat_cap_loss: 0.1430 - val_veil_over_face_loss: 0.0512 - val_mouth_open_loss: 1.0171 - val_presence_of_other_faces_or_toys_loss: 0.1378 - val_blurred_acc: 0.8619 - val_looking_away_acc: 0.7805 - val_ink_marked_creased_acc: 0.9699 - val_unnatural_skin_tone_acc: 0.7204 - val_too_dark_light_acc: 0.8796 - val_washed_out_acc: 0.9398 - val_pixelation_acc: 0.9487 - val_hair_across_eyes_acc: 0.9150 - val_eyes_closed_acc: 0.8637 - val_varied_background_acc: 0.8142 - val_roll_pitch_yaw_acc: 0.8283 - val_flash_reflection_on_skin_acc: 0.7487 - val_red_eyes_acc: 0.7540 - val_shadows_behind_head_acc: 0.9805 - val_shadows_across_face_acc: 0.6867 - val_dark_tinted_lenses_acc: 0.9752 - val_flash_reflection_on_lenses_acc: 0.9009 - val_frames_too_heavy_acc: 0.9469 - val_frame_covering_eyes_acc: 0.8708 - val_hat_cap_acc: 0.9558 - val_veil_over_face_acc: 0.9876 - val_mouth_open_acc: 0.7097 - val_presence_of_other_faces_or_toys_acc: 0.9823\n",
      "Epoch 6/30\n"
     ]
    },
    {
     "name": "stdout",
     "output_type": "stream",
     "text": [
      "5211/5211 [==============================] - 4s 718us/step - loss: 5.4520 - blurred_loss: 0.3022 - looking_away_loss: 0.5628 - ink_marked_creased_loss: 0.0847 - unnatural_skin_tone_loss: 0.1536 - too_dark_light_loss: 0.1384 - washed_out_loss: 0.0048 - pixelation_loss: 0.1995 - hair_across_eyes_loss: 0.1691 - eyes_closed_loss: 0.3871 - varied_background_loss: 0.1699 - roll_pitch_yaw_loss: 0.5017 - flash_reflection_on_skin_loss: 0.2841 - red_eyes_loss: 0.3122 - shadows_behind_head_loss: 0.4321 - shadows_across_face_loss: 0.2430 - dark_tinted_lenses_loss: 0.1392 - flash_reflection_on_lenses_loss: 0.2574 - frames_too_heavy_loss: 0.1586 - frame_covering_eyes_loss: 0.3274 - hat_cap_loss: 0.1603 - veil_over_face_loss: 0.0495 - mouth_open_loss: 0.4005 - presence_of_other_faces_or_toys_loss: 0.0140 - blurred_acc: 0.8914 - looking_away_acc: 0.7762 - ink_marked_creased_acc: 0.9635 - unnatural_skin_tone_acc: 0.9468 - too_dark_light_acc: 0.9536 - washed_out_acc: 0.9990 - pixelation_acc: 0.9340 - hair_across_eyes_acc: 0.9371 - eyes_closed_acc: 0.8632 - varied_background_acc: 0.9434 - roll_pitch_yaw_acc: 0.7847 - flash_reflection_on_skin_acc: 0.9067 - red_eyes_acc: 0.8826 - shadows_behind_head_acc: 0.8304 - shadows_across_face_acc: 0.9198 - dark_tinted_lenses_acc: 0.9507 - flash_reflection_on_lenses_acc: 0.8968 - frames_too_heavy_acc: 0.9534 - frame_covering_eyes_acc: 0.8743 - hat_cap_acc: 0.9428 - veil_over_face_acc: 0.9858 - mouth_open_acc: 0.8281 - presence_of_other_faces_or_toys_acc: 0.9969 - val_loss: 13.7328 - val_blurred_loss: 0.2407 - val_looking_away_loss: 0.6961 - val_ink_marked_creased_loss: 0.0723 - val_unnatural_skin_tone_loss: 1.7681 - val_too_dark_light_loss: 0.4439 - val_washed_out_loss: 0.5944 - val_pixelation_loss: 0.2267 - val_hair_across_eyes_loss: 0.7332 - val_eyes_closed_loss: 0.5353 - val_varied_background_loss: 1.1477 - val_roll_pitch_yaw_loss: 0.8864 - val_flash_reflection_on_skin_loss: 1.2314 - val_red_eyes_loss: 1.0192 - val_shadows_behind_head_loss: 0.1247 - val_shadows_across_face_loss: 1.5407 - val_dark_tinted_lenses_loss: 0.0860 - val_flash_reflection_on_lenses_loss: 0.3911 - val_frames_too_heavy_loss: 0.1190 - val_frame_covering_eyes_loss: 0.5770 - val_hat_cap_loss: 0.1402 - val_veil_over_face_loss: 0.0466 - val_mouth_open_loss: 0.9882 - val_presence_of_other_faces_or_toys_loss: 0.1239 - val_blurred_acc: 0.9009 - val_looking_away_acc: 0.7947 - val_ink_marked_creased_acc: 0.9788 - val_unnatural_skin_tone_acc: 0.7097 - val_too_dark_light_acc: 0.8796 - val_washed_out_acc: 0.9398 - val_pixelation_acc: 0.9434 - val_hair_across_eyes_acc: 0.9150 - val_eyes_closed_acc: 0.8637 - val_varied_background_acc: 0.8159 - val_roll_pitch_yaw_acc: 0.8212 - val_flash_reflection_on_skin_acc: 0.6513 - val_red_eyes_acc: 0.7416 - val_shadows_behind_head_acc: 0.9805 - val_shadows_across_face_acc: 0.6920 - val_dark_tinted_lenses_acc: 0.9858 - val_flash_reflection_on_lenses_acc: 0.9186 - val_frames_too_heavy_acc: 0.9575 - val_frame_covering_eyes_acc: 0.8779 - val_hat_cap_acc: 0.9558 - val_veil_over_face_acc: 0.9912 - val_mouth_open_acc: 0.6903 - val_presence_of_other_faces_or_toys_acc: 0.98230.0045 - pixelation_loss: 0.1851 - hair_across_eyes_loss: 0.1738 - eyes_closed_loss: 0.3793 - varied_background_loss: 0.1595 - roll_pitch_yaw_loss: 0.4848 - flash_reflection_on_skin_loss: 0.2640 - red_eyes_loss: 0.2954 - shadows_behind_head_loss: 0.4218 - shadows_across_face_loss: 0.2409 - dark_tinted_lenses_loss: 0.1206 - flash_reflection_on_lenses_loss: 0.2525 - frames_too_heavy_loss: 0.1517 - frame_covering_eyes_loss: 0.3079 - hat_cap_loss: 0.1515 - veil_over_face_loss: 0.0376 - mouth_open_loss: 0.3882 - presence_of_other_faces_or_toys_loss: 0.0099 - blurred_acc: 0.8931 - looking_away_acc: 0.7896 - ink_marked_creased_acc: 0.9667 - unnatural_skin_tone_acc: 0.9486 - too_dark_light_acc: 0.9556 - washed_out_acc: 0.9993 - pixelation_acc: 0.9375 - hair_across_eyes_acc: 0.9326 - eyes_closed_acc: 0.8639 - varied_background_acc: 0.9472 - roll_pitch_yaw_acc: 0.7917 - flash_reflection_on_skin_acc: 0.9160 - red_eyes_acc: 0.8958 - shadows_behind_head_acc: 0.8285 - shadows_across_face_acc: 0.9194 - dark_tinted_lenses_acc: 0.9604 - flash_reflection_on_lenses_acc: 0.9062 - frames_too_heavy_acc: 0.9569 - frame_covering_eyes_acc: 0.8840 - hat_cap_acc: 0.9417 - veil_over_face_acc: 0.990 - ETA: 0s - loss: 5.4100 - blurred_loss: 0.3002 - looking_away_loss: 0.5626 - ink_marked_creased_loss: 0.0842 - unnatural_skin_tone_loss: 0.1497 - too_dark_light_loss: 0.1392 - washed_out_loss: 0.0052 - pixelation_loss: 0.1921 - hair_across_eyes_loss: 0.1686 - eyes_closed_loss: 0.3834 - varied_background_loss: 0.1662 - roll_pitch_yaw_loss: 0.5041 - flash_reflection_on_skin_loss: 0.2759 - red_eyes_loss: 0.3114 - shadows_behind_head_loss: 0.4320 - shadows_across_face_loss: 0.2421 - dark_tinted_lenses_loss: 0.1336 - flash_reflection_on_lenses_loss: 0.2569 - frames_too_heavy_loss: 0.1566 - frame_covering_eyes_loss: 0.3225 - hat_cap_loss: 0.1623 - veil_over_face_loss: 0.0489 - mouth_open_loss: 0.3965 - presence_of_other_faces_or_toys_loss: 0.0158 - blurred_acc: 0.8925 - looking_away_acc: 0.7778 - ink_marked_creased_acc: 0.9639 - unnatural_skin_tone_acc: 0.9481 - too_dark_light_acc: 0.9524 - washed_out_acc: 0.9991 - pixelation_acc: 0.9350 - hair_across_eyes_acc: 0.9377 - eyes_closed_acc: 0.8658 - varied_background_acc: 0.9439 - roll_pitch_yaw_acc: 0.7845 - flash_reflection_on_skin_acc: 0.9095 - red_eyes_acc: 0.8840 - shadows_behind_head_acc: 0.8295 - shadows_across_face_acc: 0.9193 - dark_tinted_lenses_acc: 0.9545 - flash_reflection_on_lenses_acc: 0.8989 - frames_too_heavy_acc: 0.9540 - frame_covering_eyes_acc: 0.8787 - hat_cap_acc: 0.9416 - veil_over_face_acc: 0.9864 - mouth_open_acc: 0.8295 - presence_of_other_faces\n",
      "Epoch 7/30\n",
      "5211/5211 [==============================] - 4s 720us/step - loss: 5.2416 - blurred_loss: 0.2953 - looking_away_loss: 0.5407 - ink_marked_creased_loss: 0.0765 - unnatural_skin_tone_loss: 0.1471 - too_dark_light_loss: 0.1313 - washed_out_loss: 0.0040 - pixelation_loss: 0.1959 - hair_across_eyes_loss: 0.1615 - eyes_closed_loss: 0.3689 - varied_background_loss: 0.1620 - roll_pitch_yaw_loss: 0.4930 - flash_reflection_on_skin_loss: 0.2822 - red_eyes_loss: 0.2921 - shadows_behind_head_loss: 0.4209 - shadows_across_face_loss: 0.2316 - dark_tinted_lenses_loss: 0.1229 - flash_reflection_on_lenses_loss: 0.2449 - frames_too_heavy_loss: 0.1501 - frame_covering_eyes_loss: 0.3237 - hat_cap_loss: 0.1496 - veil_over_face_loss: 0.0471 - mouth_open_loss: 0.3886 - presence_of_other_faces_or_toys_loss: 0.0118 - blurred_acc: 0.8950 - looking_away_acc: 0.7881 - ink_marked_creased_acc: 0.9689 - unnatural_skin_tone_acc: 0.9484 - too_dark_light_acc: 0.9559 - washed_out_acc: 0.9992 - pixelation_acc: 0.9346 - hair_across_eyes_acc: 0.9374 - eyes_closed_acc: 0.8716 - varied_background_acc: 0.9463 - roll_pitch_yaw_acc: 0.7939 - flash_reflection_on_skin_acc: 0.9029 - red_eyes_acc: 0.8946 - shadows_behind_head_acc: 0.8338 - shadows_across_face_acc: 0.9204 - dark_tinted_lenses_acc: 0.9607 - flash_reflection_on_lenses_acc: 0.9029 - frames_too_heavy_acc: 0.9536 - frame_covering_eyes_acc: 0.8749 - hat_cap_acc: 0.9470 - veil_over_face_acc: 0.9845 - mouth_open_acc: 0.8369 - presence_of_other_faces_or_toys_acc: 0.9971 - val_loss: 13.3864 - val_blurred_loss: 0.3042 - val_looking_away_loss: 0.6728 - val_ink_marked_creased_loss: 0.1476 - val_unnatural_skin_tone_loss: 1.3964 - val_too_dark_light_loss: 0.4644 - val_washed_out_loss: 0.6813 - val_pixelation_loss: 0.2461 - val_hair_across_eyes_loss: 0.7800 - val_eyes_closed_loss: 0.5633 - val_varied_background_loss: 0.9982 - val_roll_pitch_yaw_loss: 0.8300 - val_flash_reflection_on_skin_loss: 1.1606 - val_red_eyes_loss: 0.8809 - val_shadows_behind_head_loss: 0.1334 - val_shadows_across_face_loss: 1.5885 - val_dark_tinted_lenses_loss: 0.0899 - val_flash_reflection_on_lenses_loss: 0.3827 - val_frames_too_heavy_loss: 0.0898 - val_frame_covering_eyes_loss: 0.6324 - val_hat_cap_loss: 0.1319 - val_veil_over_face_loss: 0.0449 - val_mouth_open_loss: 1.0390 - val_presence_of_other_faces_or_toys_loss: 0.1280 - val_blurred_acc: 0.8566 - val_looking_away_acc: 0.7929 - val_ink_marked_creased_acc: 0.9150 - val_unnatural_skin_tone_acc: 0.7381 - val_too_dark_light_acc: 0.8796 - val_washed_out_acc: 0.9398 - val_pixelation_acc: 0.9363 - val_hair_across_eyes_acc: 0.9150 - val_eyes_closed_acc: 0.8619 - val_varied_background_acc: 0.8265 - val_roll_pitch_yaw_acc: 0.8265 - val_flash_reflection_on_skin_acc: 0.7204 - val_red_eyes_acc: 0.7504 - val_shadows_behind_head_acc: 0.9735 - val_shadows_across_face_acc: 0.6920 - val_dark_tinted_lenses_acc: 0.9841 - val_flash_reflection_on_lenses_acc: 0.9115 - val_frames_too_heavy_acc: 0.9611 - val_frame_covering_eyes_acc: 0.8743 - val_hat_cap_acc: 0.9522 - val_veil_over_face_acc: 0.9912 - val_mouth_open_acc: 0.7027 - val_presence_of_other_faces_or_toys_acc: 0.9823\n"
     ]
    },
    {
     "name": "stdout",
     "output_type": "stream",
     "text": [
      "Epoch 8/30\n",
      "5211/5211 [==============================] - 4s 718us/step - loss: 5.0853 - blurred_loss: 0.2847 - looking_away_loss: 0.5342 - ink_marked_creased_loss: 0.0733 - unnatural_skin_tone_loss: 0.1441 - too_dark_light_loss: 0.1238 - washed_out_loss: 0.0033 - pixelation_loss: 0.1926 - hair_across_eyes_loss: 0.1562 - eyes_closed_loss: 0.3599 - varied_background_loss: 0.1582 - roll_pitch_yaw_loss: 0.4864 - flash_reflection_on_skin_loss: 0.2751 - red_eyes_loss: 0.2882 - shadows_behind_head_loss: 0.4053 - shadows_across_face_loss: 0.2219 - dark_tinted_lenses_loss: 0.1218 - flash_reflection_on_lenses_loss: 0.2381 - frames_too_heavy_loss: 0.1413 - frame_covering_eyes_loss: 0.2943 - hat_cap_loss: 0.1448 - veil_over_face_loss: 0.0434 - mouth_open_loss: 0.3832 - presence_of_other_faces_or_toys_loss: 0.0111 - blurred_acc: 0.8985 - looking_away_acc: 0.7927 - ink_marked_creased_acc: 0.9685 - unnatural_skin_tone_acc: 0.9484 - too_dark_light_acc: 0.9585 - washed_out_acc: 0.9990 - pixelation_acc: 0.9340 - hair_across_eyes_acc: 0.9424 - eyes_closed_acc: 0.8743 - varied_background_acc: 0.9459 - roll_pitch_yaw_acc: 0.7981 - flash_reflection_on_skin_acc: 0.9069 - red_eyes_acc: 0.8897 - shadows_behind_head_acc: 0.8388 - shadows_across_face_acc: 0.9248 - dark_tinted_lenses_acc: 0.9612 - flash_reflection_on_lenses_acc: 0.9010 - frames_too_heavy_acc: 0.9553 - frame_covering_eyes_acc: 0.8897 - hat_cap_acc: 0.9484 - veil_over_face_acc: 0.9852 - mouth_open_acc: 0.8350 - presence_of_other_faces_or_toys_acc: 0.9975 - val_loss: 13.9084 - val_blurred_loss: 0.2626 - val_looking_away_loss: 0.7169 - val_ink_marked_creased_loss: 0.1232 - val_unnatural_skin_tone_loss: 1.6926 - val_too_dark_light_loss: 0.4645 - val_washed_out_loss: 0.6663 - val_pixelation_loss: 0.2158 - val_hair_across_eyes_loss: 0.8225 - val_eyes_closed_loss: 0.5668 - val_varied_background_loss: 1.0886 - val_roll_pitch_yaw_loss: 1.0280 - val_flash_reflection_on_skin_loss: 1.1190 - val_red_eyes_loss: 0.9737 - val_shadows_behind_head_loss: 0.1514 - val_shadows_across_face_loss: 1.5530 - val_dark_tinted_lenses_loss: 0.0898 - val_flash_reflection_on_lenses_loss: 0.3851 - val_frames_too_heavy_loss: 0.1178 - val_frame_covering_eyes_loss: 0.5593 - val_hat_cap_loss: 0.1295 - val_veil_over_face_loss: 0.0461 - val_mouth_open_loss: 1.0370 - val_presence_of_other_faces_or_toys_loss: 0.0989 - val_blurred_acc: 0.8850 - val_looking_away_acc: 0.8000 - val_ink_marked_creased_acc: 0.9292 - val_unnatural_skin_tone_acc: 0.7434 - val_too_dark_light_acc: 0.8796 - val_washed_out_acc: 0.9398 - val_pixelation_acc: 0.9469 - val_hair_across_eyes_acc: 0.9150 - val_eyes_closed_acc: 0.8726 - val_varied_background_acc: 0.8265 - val_roll_pitch_yaw_acc: 0.8336 - val_flash_reflection_on_skin_acc: 0.7097 - val_red_eyes_acc: 0.7451 - val_shadows_behind_head_acc: 0.9522 - val_shadows_across_face_acc: 0.6956 - val_dark_tinted_lenses_acc: 0.9841 - val_flash_reflection_on_lenses_acc: 0.8938 - val_frames_too_heavy_acc: 0.9575 - val_frame_covering_eyes_acc: 0.8779 - val_hat_cap_acc: 0.9522 - val_veil_over_face_acc: 0.9929 - val_mouth_open_acc: 0.6035 - val_presence_of_other_faces_or_toys_acc: 0.9823\n",
      "Epoch 9/30\n",
      "5211/5211 [==============================] - 4s 716us/step - loss: 4.9815 - blurred_loss: 0.2844 - looking_away_loss: 0.5342 - ink_marked_creased_loss: 0.0725 - unnatural_skin_tone_loss: 0.1371 - too_dark_light_loss: 0.1205 - washed_out_loss: 0.0027 - pixelation_loss: 0.1872 - hair_across_eyes_loss: 0.1513 - eyes_closed_loss: 0.3495 - varied_background_loss: 0.1497 - roll_pitch_yaw_loss: 0.4731 - flash_reflection_on_skin_loss: 0.2646 - red_eyes_loss: 0.2890 - shadows_behind_head_loss: 0.4009 - shadows_across_face_loss: 0.2219 - dark_tinted_lenses_loss: 0.1173 - flash_reflection_on_lenses_loss: 0.2362 - frames_too_heavy_loss: 0.1363 - frame_covering_eyes_loss: 0.2904 - hat_cap_loss: 0.1360 - veil_over_face_loss: 0.0419 - mouth_open_loss: 0.3758 - presence_of_other_faces_or_toys_loss: 0.0091 - blurred_acc: 0.8958 - looking_away_acc: 0.7899 - ink_marked_creased_acc: 0.9687 - unnatural_skin_tone_acc: 0.9509 - too_dark_light_acc: 0.9587 - washed_out_acc: 0.9994 - pixelation_acc: 0.9357 - hair_across_eyes_acc: 0.9428 - eyes_closed_acc: 0.8739 - varied_background_acc: 0.9507 - roll_pitch_yaw_acc: 0.8039 - flash_reflection_on_skin_acc: 0.9079 - red_eyes_acc: 0.8877 - shadows_behind_head_acc: 0.8438 - shadows_across_face_acc: 0.9242 - dark_tinted_lenses_acc: 0.9607 - flash_reflection_on_lenses_acc: 0.9062 - frames_too_heavy_acc: 0.9582 - frame_covering_eyes_acc: 0.8897 - hat_cap_acc: 0.9553 - veil_over_face_acc: 0.9858 - mouth_open_acc: 0.8346 - presence_of_other_faces_or_toys_acc: 0.9975 - val_loss: 14.0790 - val_blurred_loss: 0.3046 - val_looking_away_loss: 0.7177 - val_ink_marked_creased_loss: 0.1188 - val_unnatural_skin_tone_loss: 1.5657 - val_too_dark_light_loss: 0.5199 - val_washed_out_loss: 0.7348 - val_pixelation_loss: 0.2213 - val_hair_across_eyes_loss: 0.7254 - val_eyes_closed_loss: 0.5318 - val_varied_background_loss: 1.2528 - val_roll_pitch_yaw_loss: 1.0338 - val_flash_reflection_on_skin_loss: 1.0681 - val_red_eyes_loss: 0.8981 - val_shadows_behind_head_loss: 0.1840 - val_shadows_across_face_loss: 1.6050 - val_dark_tinted_lenses_loss: 0.1100 - val_flash_reflection_on_lenses_loss: 0.3650 - val_frames_too_heavy_loss: 0.1676 - val_frame_covering_eyes_loss: 0.6032 - val_hat_cap_loss: 0.1310 - val_veil_over_face_loss: 0.0562 - val_mouth_open_loss: 1.0678 - val_presence_of_other_faces_or_toys_loss: 0.0962 - val_blurred_acc: 0.8602 - val_looking_away_acc: 0.7681 - val_ink_marked_creased_acc: 0.9310 - val_unnatural_skin_tone_acc: 0.7416 - val_too_dark_light_acc: 0.8796 - val_washed_out_acc: 0.9398 - val_pixelation_acc: 0.9469 - val_hair_across_eyes_acc: 0.9150 - val_eyes_closed_acc: 0.8673 - val_varied_background_acc: 0.8319 - val_roll_pitch_yaw_acc: 0.8177 - val_flash_reflection_on_skin_acc: 0.7593 - val_red_eyes_acc: 0.7522 - val_shadows_behind_head_acc: 0.9133 - val_shadows_across_face_acc: 0.6938 - val_dark_tinted_lenses_acc: 0.9823 - val_flash_reflection_on_lenses_acc: 0.9186 - val_frames_too_heavy_acc: 0.9504 - val_frame_covering_eyes_acc: 0.8779 - val_hat_cap_acc: 0.9522 - val_veil_over_face_acc: 0.9823 - val_mouth_open_acc: 0.6814 - val_presence_of_other_faces_or_toys_acc: 0.9823\n",
      "Epoch 10/30\n",
      "5211/5211 [==============================] - 4s 711us/step - loss: 4.8852 - blurred_loss: 0.2795 - looking_away_loss: 0.5178 - ink_marked_creased_loss: 0.0701 - unnatural_skin_tone_loss: 0.1355 - too_dark_light_loss: 0.1145 - washed_out_loss: 0.0029 - pixelation_loss: 0.1883 - hair_across_eyes_loss: 0.1422 - eyes_closed_loss: 0.3406 - varied_background_loss: 0.1534 - roll_pitch_yaw_loss: 0.4727 - flash_reflection_on_skin_loss: 0.2583 - red_eyes_loss: 0.2749 - shadows_behind_head_loss: 0.4060 - shadows_across_face_loss: 0.2151 - dark_tinted_lenses_loss: 0.1108 - flash_reflection_on_lenses_loss: 0.2306 - frames_too_heavy_loss: 0.1342 - frame_covering_eyes_loss: 0.2861 - hat_cap_loss: 0.1303 - veil_over_face_loss: 0.0413 - mouth_open_loss: 0.3716 - presence_of_other_faces_or_toys_loss: 0.0082 - blurred_acc: 0.8983 - looking_away_acc: 0.7979 - ink_marked_creased_acc: 0.9714 - unnatural_skin_tone_acc: 0.9514 - too_dark_light_acc: 0.9607 - washed_out_acc: 0.9994 - pixelation_acc: 0.9369 - hair_across_eyes_acc: 0.9484 - eyes_closed_acc: 0.8795 - varied_background_acc: 0.9507 - roll_pitch_yaw_acc: 0.7966 - flash_reflection_on_skin_acc: 0.9111 - red_eyes_acc: 0.8966 - shadows_behind_head_acc: 0.8423 - shadows_across_face_acc: 0.9265 - dark_tinted_lenses_acc: 0.9647 - flash_reflection_on_lenses_acc: 0.9092 - frames_too_heavy_acc: 0.9589 - frame_covering_eyes_acc: 0.8879 - hat_cap_acc: 0.9555 - veil_over_face_acc: 0.9868 - mouth_open_acc: 0.8423 - presence_of_other_faces_or_toys_acc: 0.9975 - val_loss: 14.3070 - val_blurred_loss: 0.3185 - val_looking_away_loss: 0.7210 - val_ink_marked_creased_loss: 0.2127 - val_unnatural_skin_tone_loss: 1.6071 - val_too_dark_light_loss: 0.4852 - val_washed_out_loss: 0.6899 - val_pixelation_loss: 0.2222 - val_hair_across_eyes_loss: 0.7900 - val_eyes_closed_loss: 0.5366 - val_varied_background_loss: 1.3100 - val_roll_pitch_yaw_loss: 0.8750 - val_flash_reflection_on_skin_loss: 1.2689 - val_red_eyes_loss: 0.8895 - val_shadows_behind_head_loss: 0.1215 - val_shadows_across_face_loss: 1.5984 - val_dark_tinted_lenses_loss: 0.0953 - val_flash_reflection_on_lenses_loss: 0.4234 - val_frames_too_heavy_loss: 0.1470 - val_frame_covering_eyes_loss: 0.5900 - val_hat_cap_loss: 0.1391 - val_veil_over_face_loss: 0.0463 - val_mouth_open_loss: 1.0655 - val_presence_of_other_faces_or_toys_loss: 0.1537 - val_blurred_acc: 0.8673 - val_looking_away_acc: 0.7947 - val_ink_marked_creased_acc: 0.8796 - val_unnatural_skin_tone_acc: 0.7398 - val_too_dark_light_acc: 0.8796 - val_washed_out_acc: 0.9398 - val_pixelation_acc: 0.9469 - val_hair_across_eyes_acc: 0.9150 - val_eyes_closed_acc: 0.8726 - val_varied_background_acc: 0.8018 - val_roll_pitch_yaw_acc: 0.8301 - val_flash_reflection_on_skin_acc: 0.6867 - val_red_eyes_acc: 0.7522 - val_shadows_behind_head_acc: 0.9699 - val_shadows_across_face_acc: 0.6920 - val_dark_tinted_lenses_acc: 0.9823 - val_flash_reflection_on_lenses_acc: 0.8761 - val_frames_too_heavy_acc: 0.9540 - val_frame_covering_eyes_acc: 0.8726 - val_hat_cap_acc: 0.9558 - val_veil_over_face_acc: 0.9876 - val_mouth_open_acc: 0.6938 - val_presence_of_other_faces_or_toys_acc: 0.9823\n"
     ]
    },
    {
     "name": "stdout",
     "output_type": "stream",
     "text": [
      "Epoch 11/30\n",
      "5211/5211 [==============================] - 4s 711us/step - loss: 4.7552 - blurred_loss: 0.2683 - looking_away_loss: 0.5133 - ink_marked_creased_loss: 0.0670 - unnatural_skin_tone_loss: 0.1325 - too_dark_light_loss: 0.1087 - washed_out_loss: 0.0022 - pixelation_loss: 0.1795 - hair_across_eyes_loss: 0.1366 - eyes_closed_loss: 0.3354 - varied_background_loss: 0.1439 - roll_pitch_yaw_loss: 0.4644 - flash_reflection_on_skin_loss: 0.2566 - red_eyes_loss: 0.2709 - shadows_behind_head_loss: 0.3828 - shadows_across_face_loss: 0.2167 - dark_tinted_lenses_loss: 0.1057 - flash_reflection_on_lenses_loss: 0.2218 - frames_too_heavy_loss: 0.1301 - frame_covering_eyes_loss: 0.2790 - hat_cap_loss: 0.1255 - veil_over_face_loss: 0.0391 - mouth_open_loss: 0.3672 - presence_of_other_faces_or_toys_loss: 0.0084 - blurred_acc: 0.9042 - looking_away_acc: 0.8006 - ink_marked_creased_acc: 0.9712 - unnatural_skin_tone_acc: 0.9514 - too_dark_light_acc: 0.9632 - washed_out_acc: 0.9994 - pixelation_acc: 0.9378 - hair_across_eyes_acc: 0.9493 - eyes_closed_acc: 0.8793 - varied_background_acc: 0.9514 - roll_pitch_yaw_acc: 0.8033 - flash_reflection_on_skin_acc: 0.9071 - red_eyes_acc: 0.8983 - shadows_behind_head_acc: 0.8455 - shadows_across_face_acc: 0.9255 - dark_tinted_lenses_acc: 0.9653 - flash_reflection_on_lenses_acc: 0.9146 - frames_too_heavy_acc: 0.9580 - frame_covering_eyes_acc: 0.8933 - hat_cap_acc: 0.9570 - veil_over_face_acc: 0.9864 - mouth_open_acc: 0.8413 - presence_of_other_faces_or_toys_acc: 0.9979 - val_loss: 14.8714 - val_blurred_loss: 0.2920 - val_looking_away_loss: 0.6858 - val_ink_marked_creased_loss: 0.1994 - val_unnatural_skin_tone_loss: 2.1539 - val_too_dark_light_loss: 0.4204 - val_washed_out_loss: 0.6936 - val_pixelation_loss: 0.2262 - val_hair_across_eyes_loss: 0.8756 - val_eyes_closed_loss: 0.5442 - val_varied_background_loss: 1.4367 - val_roll_pitch_yaw_loss: 0.8229 - val_flash_reflection_on_skin_loss: 1.2739 - val_red_eyes_loss: 0.8804 - val_shadows_behind_head_loss: 0.1251 - val_shadows_across_face_loss: 1.6403 - val_dark_tinted_lenses_loss: 0.1088 - val_flash_reflection_on_lenses_loss: 0.4075 - val_frames_too_heavy_loss: 0.1918 - val_frame_covering_eyes_loss: 0.5925 - val_hat_cap_loss: 0.1341 - val_veil_over_face_loss: 0.0437 - val_mouth_open_loss: 0.9914 - val_presence_of_other_faces_or_toys_loss: 0.1311 - val_blurred_acc: 0.8708 - val_looking_away_acc: 0.7929 - val_ink_marked_creased_acc: 0.8867 - val_unnatural_skin_tone_acc: 0.7097 - val_too_dark_light_acc: 0.8779 - val_washed_out_acc: 0.9398 - val_pixelation_acc: 0.9451 - val_hair_across_eyes_acc: 0.9150 - val_eyes_closed_acc: 0.8690 - val_varied_background_acc: 0.8354 - val_roll_pitch_yaw_acc: 0.8283 - val_flash_reflection_on_skin_acc: 0.7239 - val_red_eyes_acc: 0.7540 - val_shadows_behind_head_acc: 0.9717 - val_shadows_across_face_acc: 0.7009 - val_dark_tinted_lenses_acc: 0.9805 - val_flash_reflection_on_lenses_acc: 0.8850 - val_frames_too_heavy_acc: 0.9469 - val_frame_covering_eyes_acc: 0.8708 - val_hat_cap_acc: 0.9522 - val_veil_over_face_acc: 0.9894 - val_mouth_open_acc: 0.7027 - val_presence_of_other_faces_or_toys_acc: 0.9823\n",
      "Epoch 12/30\n",
      "5211/5211 [==============================] - 4s 716us/step - loss: 4.6527 - blurred_loss: 0.2586 - looking_away_loss: 0.5023 - ink_marked_creased_loss: 0.0647 - unnatural_skin_tone_loss: 0.1238 - too_dark_light_loss: 0.1077 - washed_out_loss: 0.0018 - pixelation_loss: 0.1768 - hair_across_eyes_loss: 0.1333 - eyes_closed_loss: 0.3273 - varied_background_loss: 0.1417 - roll_pitch_yaw_loss: 0.4585 - flash_reflection_on_skin_loss: 0.2436 - red_eyes_loss: 0.2671 - shadows_behind_head_loss: 0.3890 - shadows_across_face_loss: 0.2024 - dark_tinted_lenses_loss: 0.1071 - flash_reflection_on_lenses_loss: 0.2203 - frames_too_heavy_loss: 0.1277 - frame_covering_eyes_loss: 0.2713 - hat_cap_loss: 0.1214 - veil_over_face_loss: 0.0377 - mouth_open_loss: 0.3626 - presence_of_other_faces_or_toys_loss: 0.0063 - blurred_acc: 0.9062 - looking_away_acc: 0.8075 - ink_marked_creased_acc: 0.9743 - unnatural_skin_tone_acc: 0.9526 - too_dark_light_acc: 0.9628 - washed_out_acc: 0.9996 - pixelation_acc: 0.9396 - hair_across_eyes_acc: 0.9503 - eyes_closed_acc: 0.8847 - varied_background_acc: 0.9524 - roll_pitch_yaw_acc: 0.8062 - flash_reflection_on_skin_acc: 0.9144 - red_eyes_acc: 0.8998 - shadows_behind_head_acc: 0.8474 - shadows_across_face_acc: 0.9305 - dark_tinted_lenses_acc: 0.9658 - flash_reflection_on_lenses_acc: 0.9154 - frames_too_heavy_acc: 0.9576 - frame_covering_eyes_acc: 0.8948 - hat_cap_acc: 0.9584 - veil_over_face_acc: 0.9875 - mouth_open_acc: 0.8438 - presence_of_other_faces_or_toys_acc: 0.9981 - val_loss: 14.6295 - val_blurred_loss: 0.2819 - val_looking_away_loss: 0.7478 - val_ink_marked_creased_loss: 0.1733 - val_unnatural_skin_tone_loss: 1.6601 - val_too_dark_light_loss: 0.4902 - val_washed_out_loss: 0.7345 - val_pixelation_loss: 0.1951 - val_hair_across_eyes_loss: 0.8547 - val_eyes_closed_loss: 0.5821 - val_varied_background_loss: 1.1866 - val_roll_pitch_yaw_loss: 0.8251 - val_flash_reflection_on_skin_loss: 1.3424 - val_red_eyes_loss: 1.1200 - val_shadows_behind_head_loss: 0.1556 - val_shadows_across_face_loss: 1.6673 - val_dark_tinted_lenses_loss: 0.0945 - val_flash_reflection_on_lenses_loss: 0.3978 - val_frames_too_heavy_loss: 0.0651 - val_frame_covering_eyes_loss: 0.6329 - val_hat_cap_loss: 0.1270 - val_veil_over_face_loss: 0.0453 - val_mouth_open_loss: 1.0947 - val_presence_of_other_faces_or_toys_loss: 0.1556 - val_blurred_acc: 0.8726 - val_looking_away_acc: 0.7982 - val_ink_marked_creased_acc: 0.8938 - val_unnatural_skin_tone_acc: 0.7398 - val_too_dark_light_acc: 0.8796 - val_washed_out_acc: 0.9398 - val_pixelation_acc: 0.9487 - val_hair_across_eyes_acc: 0.9150 - val_eyes_closed_acc: 0.8726 - val_varied_background_acc: 0.8177 - val_roll_pitch_yaw_acc: 0.8195 - val_flash_reflection_on_skin_acc: 0.6301 - val_red_eyes_acc: 0.7398 - val_shadows_behind_head_acc: 0.9540 - val_shadows_across_face_acc: 0.6956 - val_dark_tinted_lenses_acc: 0.9823 - val_flash_reflection_on_lenses_acc: 0.9062 - val_frames_too_heavy_acc: 0.9681 - val_frame_covering_eyes_acc: 0.8779 - val_hat_cap_acc: 0.9522 - val_veil_over_face_acc: 0.9876 - val_mouth_open_acc: 0.7027 - val_presence_of_other_faces_or_toys_acc: 0.9823\n",
      "Epoch 13/30\n"
     ]
    },
    {
     "name": "stdout",
     "output_type": "stream",
     "text": [
      "5211/5211 [==============================] - 4s 711us/step - loss: 4.5627 - blurred_loss: 0.2547 - looking_away_loss: 0.4982 - ink_marked_creased_loss: 0.0643 - unnatural_skin_tone_loss: 0.1227 - too_dark_light_loss: 0.1038 - washed_out_loss: 0.0016 - pixelation_loss: 0.1701 - hair_across_eyes_loss: 0.1274 - eyes_closed_loss: 0.3256 - varied_background_loss: 0.1370 - roll_pitch_yaw_loss: 0.4465 - flash_reflection_on_skin_loss: 0.2468 - red_eyes_loss: 0.2676 - shadows_behind_head_loss: 0.3647 - shadows_across_face_loss: 0.1986 - dark_tinted_lenses_loss: 0.1110 - flash_reflection_on_lenses_loss: 0.2177 - frames_too_heavy_loss: 0.1270 - frame_covering_eyes_loss: 0.2633 - hat_cap_loss: 0.1186 - veil_over_face_loss: 0.0357 - mouth_open_loss: 0.3532 - presence_of_other_faces_or_toys_loss: 0.0065 - blurred_acc: 0.9108 - looking_away_acc: 0.8081 - ink_marked_creased_acc: 0.9743 - unnatural_skin_tone_acc: 0.9557 - too_dark_light_acc: 0.9649 - washed_out_acc: 0.9994 - pixelation_acc: 0.9388 - hair_across_eyes_acc: 0.9538 - eyes_closed_acc: 0.8814 - varied_background_acc: 0.9545 - roll_pitch_yaw_acc: 0.8146 - flash_reflection_on_skin_acc: 0.9113 - red_eyes_acc: 0.9012 - shadows_behind_head_acc: 0.8561 - shadows_across_face_acc: 0.9307 - dark_tinted_lenses_acc: 0.9612 - flash_reflection_on_lenses_acc: 0.9144 - frames_too_heavy_acc: 0.9572 - frame_covering_eyes_acc: 0.8996 - hat_cap_acc: 0.9605 - veil_over_face_acc: 0.9877 - mouth_open_acc: 0.8484 - presence_of_other_faces_or_toys_acc: 0.9973 - val_loss: 14.2638 - val_blurred_loss: 0.2424 - val_looking_away_loss: 0.6748 - val_ink_marked_creased_loss: 0.2087 - val_unnatural_skin_tone_loss: 1.6123 - val_too_dark_light_loss: 0.4412 - val_washed_out_loss: 0.7258 - val_pixelation_loss: 0.2157 - val_hair_across_eyes_loss: 0.8905 - val_eyes_closed_loss: 0.5463 - val_varied_background_loss: 1.1526 - val_roll_pitch_yaw_loss: 0.9119 - val_flash_reflection_on_skin_loss: 1.3693 - val_red_eyes_loss: 0.8738 - val_shadows_behind_head_loss: 0.1271 - val_shadows_across_face_loss: 1.6392 - val_dark_tinted_lenses_loss: 0.1004 - val_flash_reflection_on_lenses_loss: 0.4219 - val_frames_too_heavy_loss: 0.1098 - val_frame_covering_eyes_loss: 0.6260 - val_hat_cap_loss: 0.1441 - val_veil_over_face_loss: 0.0428 - val_mouth_open_loss: 1.0380 - val_presence_of_other_faces_or_toys_loss: 0.1493 - val_blurred_acc: 0.9027 - val_looking_away_acc: 0.7965 - val_ink_marked_creased_acc: 0.8779 - val_unnatural_skin_tone_acc: 0.7363 - val_too_dark_light_acc: 0.8761 - val_washed_out_acc: 0.9398 - val_pixelation_acc: 0.9469 - val_hair_across_eyes_acc: 0.9150 - val_eyes_closed_acc: 0.8743 - val_varied_background_acc: 0.8106 - val_roll_pitch_yaw_acc: 0.8248 - val_flash_reflection_on_skin_acc: 0.7735 - val_red_eyes_acc: 0.7558 - val_shadows_behind_head_acc: 0.9681 - val_shadows_across_face_acc: 0.6938 - val_dark_tinted_lenses_acc: 0.9841 - val_flash_reflection_on_lenses_acc: 0.8690 - val_frames_too_heavy_acc: 0.9593 - val_frame_covering_eyes_acc: 0.8761 - val_hat_cap_acc: 0.9540 - val_veil_over_face_acc: 0.9876 - val_mouth_open_acc: 0.7186 - val_presence_of_other_faces_or_toys_acc: 0.9823ss: 0.0022 - pixelation_loss: 0.1794 - hair_across_eyes_loss: 0.1380 - eyes_closed_loss: 0.3365 - varied_background_loss: 0.1434 - roll_pitch_yaw_loss: 0.4555 - flash_reflection_on_skin_loss: 0.2505 - red_eyes_loss: 0.3172 - shadows_behind_head_loss: 0.3647 - shadows_across_face_loss: 0.1890 - dark_tinted_lenses_loss: 0.1192 - flash_reflection_on_lenses_loss: 0.2176 - frames_too_heavy_loss: 0.1479 - frame_covering_eyes_loss: 0.2657 - hat_cap_loss: 0.1376 - veil_over_face_loss: 0.0453 - mouth_open_loss: 0.3751 - presence_of_other_faces_or_toys_loss: 0.0075 - blurred_acc: 0.8978 - looking_away_acc: 0.7909 - ink_marked_creased_acc: 0.9736 - unnatural_skin_tone_acc: 0.9603 - too_dark_light_acc: 0.9651 - washed_out_acc: 0.9988 - pixelation_acc: 0.9387 - hair_across_eyes_acc: 0.9543 - eyes_closed_acc: 0.8702 - varied_background_acc: 0.9567 - roll_pitch_yaw_acc: 0.8017 - flash_reflection_on_skin_acc: 0.9026 - red_eyes_acc: 0.8762 - shadows_behind_head_acc: 0.8558 - shadows_across_face_acc: 0.9387 - dark_tinted_lenses_acc: 0.9531 - flash_reflection_on_lenses_acc: 0.9111 - frames_too_heavy_acc: 0.9507 - frame_covering_eyes_acc: 0.9050 - hat_cap_acc: 0.9591 -\n",
      "Epoch 14/30\n",
      "5211/5211 [==============================] - 4s 719us/step - loss: 4.4841 - blurred_loss: 0.2590 - looking_away_loss: 0.4954 - ink_marked_creased_loss: 0.0641 - unnatural_skin_tone_loss: 0.1182 - too_dark_light_loss: 0.1000 - washed_out_loss: 0.0013 - pixelation_loss: 0.1700 - hair_across_eyes_loss: 0.1234 - eyes_closed_loss: 0.3211 - varied_background_loss: 0.1368 - roll_pitch_yaw_loss: 0.4450 - flash_reflection_on_skin_loss: 0.2377 - red_eyes_loss: 0.2569 - shadows_behind_head_loss: 0.3559 - shadows_across_face_loss: 0.1963 - dark_tinted_lenses_loss: 0.0968 - flash_reflection_on_lenses_loss: 0.2089 - frames_too_heavy_loss: 0.1232 - frame_covering_eyes_loss: 0.2673 - hat_cap_loss: 0.1167 - veil_over_face_loss: 0.0322 - mouth_open_loss: 0.3527 - presence_of_other_faces_or_toys_loss: 0.0053 - blurred_acc: 0.9087 - looking_away_acc: 0.8091 - ink_marked_creased_acc: 0.9735 - unnatural_skin_tone_acc: 0.9572 - too_dark_light_acc: 0.9641 - washed_out_acc: 0.9994 - pixelation_acc: 0.9399 - hair_across_eyes_acc: 0.9557 - eyes_closed_acc: 0.8856 - varied_background_acc: 0.9555 - roll_pitch_yaw_acc: 0.8154 - flash_reflection_on_skin_acc: 0.9167 - red_eyes_acc: 0.9021 - shadows_behind_head_acc: 0.8661 - shadows_across_face_acc: 0.9315 - dark_tinted_lenses_acc: 0.9714 - flash_reflection_on_lenses_acc: 0.9186 - frames_too_heavy_acc: 0.9605 - frame_covering_eyes_acc: 0.8969 - hat_cap_acc: 0.9601 - veil_over_face_acc: 0.9887 - mouth_open_acc: 0.8449 - presence_of_other_faces_or_toys_acc: 0.9985 - val_loss: 14.6468 - val_blurred_loss: 0.3319 - val_looking_away_loss: 0.7247 - val_ink_marked_creased_loss: 0.1298 - val_unnatural_skin_tone_loss: 1.7805 - val_too_dark_light_loss: 0.4551 - val_washed_out_loss: 0.7601 - val_pixelation_loss: 0.2268 - val_hair_across_eyes_loss: 0.8691 - val_eyes_closed_loss: 0.5917 - val_varied_background_loss: 1.1705 - val_roll_pitch_yaw_loss: 0.8842 - val_flash_reflection_on_skin_loss: 1.3668 - val_red_eyes_loss: 0.9570 - val_shadows_behind_head_loss: 0.1277 - val_shadows_across_face_loss: 1.6368 - val_dark_tinted_lenses_loss: 0.0969 - val_flash_reflection_on_lenses_loss: 0.3760 - val_frames_too_heavy_loss: 0.0737 - val_frame_covering_eyes_loss: 0.7589 - val_hat_cap_loss: 0.1291 - val_veil_over_face_loss: 0.0400 - val_mouth_open_loss: 1.0124 - val_presence_of_other_faces_or_toys_loss: 0.1473 - val_blurred_acc: 0.8673 - val_looking_away_acc: 0.7947 - val_ink_marked_creased_acc: 0.9292 - val_unnatural_skin_tone_acc: 0.7381 - val_too_dark_light_acc: 0.8743 - val_washed_out_acc: 0.9398 - val_pixelation_acc: 0.9469 - val_hair_across_eyes_acc: 0.9150 - val_eyes_closed_acc: 0.8743 - val_varied_background_acc: 0.8336 - val_roll_pitch_yaw_acc: 0.8283 - val_flash_reflection_on_skin_acc: 0.7947 - val_red_eyes_acc: 0.7522 - val_shadows_behind_head_acc: 0.9628 - val_shadows_across_face_acc: 0.7044 - val_dark_tinted_lenses_acc: 0.9841 - val_flash_reflection_on_lenses_acc: 0.9168 - val_frames_too_heavy_acc: 0.9664 - val_frame_covering_eyes_acc: 0.8726 - val_hat_cap_acc: 0.9522 - val_veil_over_face_acc: 0.9912 - val_mouth_open_acc: 0.7168 - val_presence_of_other_faces_or_toys_acc: 0.9823\n",
      "Epoch 15/30\n"
     ]
    },
    {
     "name": "stdout",
     "output_type": "stream",
     "text": [
      "5211/5211 [==============================] - 4s 717us/step - loss: 4.4028 - blurred_loss: 0.2477 - looking_away_loss: 0.4871 - ink_marked_creased_loss: 0.0593 - unnatural_skin_tone_loss: 0.1163 - too_dark_light_loss: 0.0975 - washed_out_loss: 0.0014 - pixelation_loss: 0.1668 - hair_across_eyes_loss: 0.1216 - eyes_closed_loss: 0.3146 - varied_background_loss: 0.1342 - roll_pitch_yaw_loss: 0.4435 - flash_reflection_on_skin_loss: 0.2355 - red_eyes_loss: 0.2536 - shadows_behind_head_loss: 0.3596 - shadows_across_face_loss: 0.1927 - dark_tinted_lenses_loss: 0.0993 - flash_reflection_on_lenses_loss: 0.2070 - frames_too_heavy_loss: 0.1196 - frame_covering_eyes_loss: 0.2542 - hat_cap_loss: 0.1110 - veil_over_face_loss: 0.0327 - mouth_open_loss: 0.3432 - presence_of_other_faces_or_toys_loss: 0.0044 - blurred_acc: 0.9110 - looking_away_acc: 0.8110 - ink_marked_creased_acc: 0.9768 - unnatural_skin_tone_acc: 0.9593 - too_dark_light_acc: 0.9643 - washed_out_acc: 0.9996 - pixelation_acc: 0.9405 - hair_across_eyes_acc: 0.9572 - eyes_closed_acc: 0.8879 - varied_background_acc: 0.9551 - roll_pitch_yaw_acc: 0.8131 - flash_reflection_on_skin_acc: 0.9186 - red_eyes_acc: 0.9035 - shadows_behind_head_acc: 0.8601 - shadows_across_face_acc: 0.9344 - dark_tinted_lenses_acc: 0.9683 - flash_reflection_on_lenses_acc: 0.9194 - frames_too_heavy_acc: 0.9620 - frame_covering_eyes_acc: 0.9054 - hat_cap_acc: 0.9626 - veil_over_face_acc: 0.9877 - mouth_open_acc: 0.8528 - presence_of_other_faces_or_toys_acc: 0.9988 - val_loss: 14.5013 - val_blurred_loss: 0.2618 - val_looking_away_loss: 0.7622 - val_ink_marked_creased_loss: 0.1616 - val_unnatural_skin_tone_loss: 1.5904 - val_too_dark_light_loss: 0.4245 - val_washed_out_loss: 0.7706 - val_pixelation_loss: 0.2303 - val_hair_across_eyes_loss: 0.9233 - val_eyes_closed_loss: 0.5565 - val_varied_background_loss: 1.3612 - val_roll_pitch_yaw_loss: 0.9240 - val_flash_reflection_on_skin_loss: 1.4439 - val_red_eyes_loss: 0.8419 - val_shadows_behind_head_loss: 0.1218 - val_shadows_across_face_loss: 1.3327 - val_dark_tinted_lenses_loss: 0.1059 - val_flash_reflection_on_lenses_loss: 0.3812 - val_frames_too_heavy_loss: 0.1249 - val_frame_covering_eyes_loss: 0.6837 - val_hat_cap_loss: 0.1257 - val_veil_over_face_loss: 0.0515 - val_mouth_open_loss: 1.1757 - val_presence_of_other_faces_or_toys_loss: 0.1459 - val_blurred_acc: 0.8832 - val_looking_away_acc: 0.7965 - val_ink_marked_creased_acc: 0.9044 - val_unnatural_skin_tone_acc: 0.7327 - val_too_dark_light_acc: 0.8637 - val_washed_out_acc: 0.9398 - val_pixelation_acc: 0.9469 - val_hair_across_eyes_acc: 0.9150 - val_eyes_closed_acc: 0.8743 - val_varied_background_acc: 0.7982 - val_roll_pitch_yaw_acc: 0.8319 - val_flash_reflection_on_skin_acc: 0.7345 - val_red_eyes_acc: 0.7611 - val_shadows_behind_head_acc: 0.9717 - val_shadows_across_face_acc: 0.6991 - val_dark_tinted_lenses_acc: 0.9770 - val_flash_reflection_on_lenses_acc: 0.9133 - val_frames_too_heavy_acc: 0.9593 - val_frame_covering_eyes_acc: 0.8761 - val_hat_cap_acc: 0.9593 - val_veil_over_face_acc: 0.9823 - val_mouth_open_acc: 0.6602 - val_presence_of_other_faces_or_toys_acc: 0.9805\n",
      "Epoch 16/30\n",
      "5211/5211 [==============================] - 4s 708us/step - loss: 4.3418 - blurred_loss: 0.2430 - looking_away_loss: 0.4879 - ink_marked_creased_loss: 0.0582 - unnatural_skin_tone_loss: 0.1158 - too_dark_light_loss: 0.1007 - washed_out_loss: 9.6095e-04 - pixelation_loss: 0.1681 - hair_across_eyes_loss: 0.1172 - eyes_closed_loss: 0.3049 - varied_background_loss: 0.1327 - roll_pitch_yaw_loss: 0.4399 - flash_reflection_on_skin_loss: 0.2302 - red_eyes_loss: 0.2533 - shadows_behind_head_loss: 0.3509 - shadows_across_face_loss: 0.1868 - dark_tinted_lenses_loss: 0.0928 - flash_reflection_on_lenses_loss: 0.2023 - frames_too_heavy_loss: 0.1089 - frame_covering_eyes_loss: 0.2505 - hat_cap_loss: 0.1089 - veil_over_face_loss: 0.0324 - mouth_open_loss: 0.3512 - presence_of_other_faces_or_toys_loss: 0.0043 - blurred_acc: 0.9129 - looking_away_acc: 0.8114 - ink_marked_creased_acc: 0.9770 - unnatural_skin_tone_acc: 0.9574 - too_dark_light_acc: 0.9649 - washed_out_acc: 0.9996 - pixelation_acc: 0.9426 - hair_across_eyes_acc: 0.9599 - eyes_closed_acc: 0.8912 - varied_background_acc: 0.9557 - roll_pitch_yaw_acc: 0.8167 - flash_reflection_on_skin_acc: 0.9169 - red_eyes_acc: 0.9081 - shadows_behind_head_acc: 0.8630 - shadows_across_face_acc: 0.9390 - dark_tinted_lenses_acc: 0.9737 - flash_reflection_on_lenses_acc: 0.9217 - frames_too_heavy_acc: 0.9643 - frame_covering_eyes_acc: 0.9073 - hat_cap_acc: 0.9637 - veil_over_face_acc: 0.9887 - mouth_open_acc: 0.8469 - presence_of_other_faces_or_toys_acc: 0.9987 - val_loss: 15.3934 - val_blurred_loss: 0.3213 - val_looking_away_loss: 0.7258 - val_ink_marked_creased_loss: 0.1059 - val_unnatural_skin_tone_loss: 2.2016 - val_too_dark_light_loss: 0.4729 - val_washed_out_loss: 0.7769 - val_pixelation_loss: 0.2084 - val_hair_across_eyes_loss: 0.9071 - val_eyes_closed_loss: 0.5591 - val_varied_background_loss: 1.5232 - val_roll_pitch_yaw_loss: 0.8875 - val_flash_reflection_on_skin_loss: 1.1920 - val_red_eyes_loss: 0.8760 - val_shadows_behind_head_loss: 0.1683 - val_shadows_across_face_loss: 1.8574 - val_dark_tinted_lenses_loss: 0.1300 - val_flash_reflection_on_lenses_loss: 0.3734 - val_frames_too_heavy_loss: 0.1263 - val_frame_covering_eyes_loss: 0.6334 - val_hat_cap_loss: 0.1328 - val_veil_over_face_loss: 0.0424 - val_mouth_open_loss: 1.0365 - val_presence_of_other_faces_or_toys_loss: 0.1353 - val_blurred_acc: 0.8584 - val_looking_away_acc: 0.7929 - val_ink_marked_creased_acc: 0.9398 - val_unnatural_skin_tone_acc: 0.7381 - val_too_dark_light_acc: 0.8761 - val_washed_out_acc: 0.9398 - val_pixelation_acc: 0.9487 - val_hair_across_eyes_acc: 0.9150 - val_eyes_closed_acc: 0.8726 - val_varied_background_acc: 0.8336 - val_roll_pitch_yaw_acc: 0.8159 - val_flash_reflection_on_skin_acc: 0.7381 - val_red_eyes_acc: 0.7575 - val_shadows_behind_head_acc: 0.9451 - val_shadows_across_face_acc: 0.7115 - val_dark_tinted_lenses_acc: 0.9735 - val_flash_reflection_on_lenses_acc: 0.9204 - val_frames_too_heavy_acc: 0.9575 - val_frame_covering_eyes_acc: 0.8726 - val_hat_cap_acc: 0.9558 - val_veil_over_face_acc: 0.9876 - val_mouth_open_acc: 0.6991 - val_presence_of_other_faces_or_toys_acc: 0.9805\n",
      "Epoch 17/30\n"
     ]
    },
    {
     "name": "stdout",
     "output_type": "stream",
     "text": [
      "5211/5211 [==============================] - 4s 706us/step - loss: 4.2549 - blurred_loss: 0.2394 - looking_away_loss: 0.4781 - ink_marked_creased_loss: 0.0573 - unnatural_skin_tone_loss: 0.1122 - too_dark_light_loss: 0.0904 - washed_out_loss: 7.4376e-04 - pixelation_loss: 0.1613 - hair_across_eyes_loss: 0.1175 - eyes_closed_loss: 0.3010 - varied_background_loss: 0.1266 - roll_pitch_yaw_loss: 0.4311 - flash_reflection_on_skin_loss: 0.2255 - red_eyes_loss: 0.2474 - shadows_behind_head_loss: 0.3463 - shadows_across_face_loss: 0.1887 - dark_tinted_lenses_loss: 0.0916 - flash_reflection_on_lenses_loss: 0.2005 - frames_too_heavy_loss: 0.1101 - frame_covering_eyes_loss: 0.2498 - hat_cap_loss: 0.1085 - veil_over_face_loss: 0.0298 - mouth_open_loss: 0.3377 - presence_of_other_faces_or_toys_loss: 0.0032 - blurred_acc: 0.9148 - looking_away_acc: 0.8137 - ink_marked_creased_acc: 0.9774 - unnatural_skin_tone_acc: 0.9587 - too_dark_light_acc: 0.9672 - washed_out_acc: 0.9996 - pixelation_acc: 0.9411 - hair_across_eyes_acc: 0.9572 - eyes_closed_acc: 0.8933 - varied_background_acc: 0.9578 - roll_pitch_yaw_acc: 0.8173 - flash_reflection_on_skin_acc: 0.9196 - red_eyes_acc: 0.9054 - shadows_behind_head_acc: 0.8682 - shadows_across_face_acc: 0.9332 - dark_tinted_lenses_acc: 0.9706 - flash_reflection_on_lenses_acc: 0.9202 - frames_too_heavy_acc: 0.9637 - frame_covering_eyes_acc: 0.9065 - hat_cap_acc: 0.9622 - veil_over_face_acc: 0.9902 - mouth_open_acc: 0.8568 - presence_of_other_faces_or_toys_acc: 0.9992 - val_loss: 15.6024 - val_blurred_loss: 0.2637 - val_looking_away_loss: 0.7457 - val_ink_marked_creased_loss: 0.1695 - val_unnatural_skin_tone_loss: 1.8617 - val_too_dark_light_loss: 0.5138 - val_washed_out_loss: 0.8289 - val_pixelation_loss: 0.2145 - val_hair_across_eyes_loss: 0.9147 - val_eyes_closed_loss: 0.5840 - val_varied_background_loss: 1.5166 - val_roll_pitch_yaw_loss: 1.0849 - val_flash_reflection_on_skin_loss: 1.3534 - val_red_eyes_loss: 0.9292 - val_shadows_behind_head_loss: 0.1508 - val_shadows_across_face_loss: 1.7911 - val_dark_tinted_lenses_loss: 0.1156 - val_flash_reflection_on_lenses_loss: 0.3863 - val_frames_too_heavy_loss: 0.1372 - val_frame_covering_eyes_loss: 0.6736 - val_hat_cap_loss: 0.1229 - val_veil_over_face_loss: 0.0400 - val_mouth_open_loss: 1.0677 - val_presence_of_other_faces_or_toys_loss: 0.1366 - val_blurred_acc: 0.8920 - val_looking_away_acc: 0.8000 - val_ink_marked_creased_acc: 0.9027 - val_unnatural_skin_tone_acc: 0.7363 - val_too_dark_light_acc: 0.8779 - val_washed_out_acc: 0.9398 - val_pixelation_acc: 0.9469 - val_hair_across_eyes_acc: 0.9150 - val_eyes_closed_acc: 0.8743 - val_varied_background_acc: 0.8354 - val_roll_pitch_yaw_acc: 0.8301 - val_flash_reflection_on_skin_acc: 0.7009 - val_red_eyes_acc: 0.7628 - val_shadows_behind_head_acc: 0.9504 - val_shadows_across_face_acc: 0.7115 - val_dark_tinted_lenses_acc: 0.9788 - val_flash_reflection_on_lenses_acc: 0.9027 - val_frames_too_heavy_acc: 0.9540 - val_frame_covering_eyes_acc: 0.8779 - val_hat_cap_acc: 0.9540 - val_veil_over_face_acc: 0.9894 - val_mouth_open_acc: 0.7009 - val_presence_of_other_faces_or_toys_acc: 0.9805\n",
      "Epoch 18/30\n",
      "5211/5211 [==============================] - 4s 708us/step - loss: 4.2236 - blurred_loss: 0.2358 - looking_away_loss: 0.4788 - ink_marked_creased_loss: 0.0540 - unnatural_skin_tone_loss: 0.1091 - too_dark_light_loss: 0.0885 - washed_out_loss: 7.8734e-04 - pixelation_loss: 0.1599 - hair_across_eyes_loss: 0.1162 - eyes_closed_loss: 0.2998 - varied_background_loss: 0.1266 - roll_pitch_yaw_loss: 0.4397 - flash_reflection_on_skin_loss: 0.2226 - red_eyes_loss: 0.2478 - shadows_behind_head_loss: 0.3471 - shadows_across_face_loss: 0.1844 - dark_tinted_lenses_loss: 0.0893 - flash_reflection_on_lenses_loss: 0.1996 - frames_too_heavy_loss: 0.1062 - frame_covering_eyes_loss: 0.2420 - hat_cap_loss: 0.1061 - veil_over_face_loss: 0.0289 - mouth_open_loss: 0.3368 - presence_of_other_faces_or_toys_loss: 0.0034 - blurred_acc: 0.9142 - looking_away_acc: 0.8179 - ink_marked_creased_acc: 0.9772 - unnatural_skin_tone_acc: 0.9585 - too_dark_light_acc: 0.9689 - washed_out_acc: 0.9998 - pixelation_acc: 0.9424 - hair_across_eyes_acc: 0.9584 - eyes_closed_acc: 0.8950 - varied_background_acc: 0.9572 - roll_pitch_yaw_acc: 0.8110 - flash_reflection_on_skin_acc: 0.9204 - red_eyes_acc: 0.9044 - shadows_behind_head_acc: 0.8649 - shadows_across_face_acc: 0.9359 - dark_tinted_lenses_acc: 0.9720 - flash_reflection_on_lenses_acc: 0.9215 - frames_too_heavy_acc: 0.9655 - frame_covering_eyes_acc: 0.9111 - hat_cap_acc: 0.9628 - veil_over_face_acc: 0.9898 - mouth_open_acc: 0.8526 - presence_of_other_faces_or_toys_acc: 0.9992 - val_loss: 15.1051 - val_blurred_loss: 0.3140 - val_looking_away_loss: 0.7380 - val_ink_marked_creased_loss: 0.0918 - val_unnatural_skin_tone_loss: 1.9314 - val_too_dark_light_loss: 0.3827 - val_washed_out_loss: 0.8230 - val_pixelation_loss: 0.2091 - val_hair_across_eyes_loss: 0.8960 - val_eyes_closed_loss: 0.5587 - val_varied_background_loss: 1.5689 - val_roll_pitch_yaw_loss: 0.9234 - val_flash_reflection_on_skin_loss: 1.3125 - val_red_eyes_loss: 0.9489 - val_shadows_behind_head_loss: 0.1378 - val_shadows_across_face_loss: 1.4744 - val_dark_tinted_lenses_loss: 0.1118 - val_flash_reflection_on_lenses_loss: 0.3649 - val_frames_too_heavy_loss: 0.1694 - val_frame_covering_eyes_loss: 0.6751 - val_hat_cap_loss: 0.1353 - val_veil_over_face_loss: 0.0583 - val_mouth_open_loss: 1.1341 - val_presence_of_other_faces_or_toys_loss: 0.1457 - val_blurred_acc: 0.8761 - val_looking_away_acc: 0.7965 - val_ink_marked_creased_acc: 0.9504 - val_unnatural_skin_tone_acc: 0.7345 - val_too_dark_light_acc: 0.8708 - val_washed_out_acc: 0.9398 - val_pixelation_acc: 0.9469 - val_hair_across_eyes_acc: 0.9150 - val_eyes_closed_acc: 0.8761 - val_varied_background_acc: 0.8177 - val_roll_pitch_yaw_acc: 0.8177 - val_flash_reflection_on_skin_acc: 0.7221 - val_red_eyes_acc: 0.7504 - val_shadows_behind_head_acc: 0.9558 - val_shadows_across_face_acc: 0.6920 - val_dark_tinted_lenses_acc: 0.9788 - val_flash_reflection_on_lenses_acc: 0.9186 - val_frames_too_heavy_acc: 0.9522 - val_frame_covering_eyes_acc: 0.8779 - val_hat_cap_acc: 0.9540 - val_veil_over_face_acc: 0.9788 - val_mouth_open_acc: 0.6832 - val_presence_of_other_faces_or_toys_acc: 0.9805\n",
      "Epoch 19/30\n",
      "5211/5211 [==============================] - 4s 716us/step - loss: 4.1611 - blurred_loss: 0.2316 - looking_away_loss: 0.4702 - ink_marked_creased_loss: 0.0536 - unnatural_skin_tone_loss: 0.1062 - too_dark_light_loss: 0.0905 - washed_out_loss: 5.1206e-04 - pixelation_loss: 0.1584 - hair_across_eyes_loss: 0.1116 - eyes_closed_loss: 0.2957 - varied_background_loss: 0.1249 - roll_pitch_yaw_loss: 0.4294 - flash_reflection_on_skin_loss: 0.2276 - red_eyes_loss: 0.2396 - shadows_behind_head_loss: 0.3494 - shadows_across_face_loss: 0.1803 - dark_tinted_lenses_loss: 0.0873 - flash_reflection_on_lenses_loss: 0.1952 - frames_too_heavy_loss: 0.1055 - frame_covering_eyes_loss: 0.2404 - hat_cap_loss: 0.1001 - veil_over_face_loss: 0.0285 - mouth_open_loss: 0.3318 - presence_of_other_faces_or_toys_loss: 0.0027 - blurred_acc: 0.9148 - looking_away_acc: 0.8158 - ink_marked_creased_acc: 0.9785 - unnatural_skin_tone_acc: 0.9591 - too_dark_light_acc: 0.9691 - washed_out_acc: 1.0000 - pixelation_acc: 0.9420 - hair_across_eyes_acc: 0.9622 - eyes_closed_acc: 0.8946 - varied_background_acc: 0.9576 - roll_pitch_yaw_acc: 0.8177 - flash_reflection_on_skin_acc: 0.9188 - red_eyes_acc: 0.9090 - shadows_behind_head_acc: 0.8626 - shadows_across_face_acc: 0.9386 - dark_tinted_lenses_acc: 0.9710 - flash_reflection_on_lenses_acc: 0.9242 - frames_too_heavy_acc: 0.9655 - frame_covering_eyes_acc: 0.9100 - hat_cap_acc: 0.9645 - veil_over_face_acc: 0.9908 - mouth_open_acc: 0.8580 - presence_of_other_faces_or_toys_acc: 0.9988 - val_loss: 15.1295 - val_blurred_loss: 0.2877 - val_looking_away_loss: 0.7008 - val_ink_marked_creased_loss: 0.0750 - val_unnatural_skin_tone_loss: 1.8439 - val_too_dark_light_loss: 0.4452 - val_washed_out_loss: 0.8284 - val_pixelation_loss: 0.2121 - val_hair_across_eyes_loss: 0.8749 - val_eyes_closed_loss: 0.5656 - val_varied_background_loss: 1.4570 - val_roll_pitch_yaw_loss: 0.8280 - val_flash_reflection_on_skin_loss: 1.3375 - val_red_eyes_loss: 0.8523 - val_shadows_behind_head_loss: 0.1476 - val_shadows_across_face_loss: 1.8594 - val_dark_tinted_lenses_loss: 0.1071 - val_flash_reflection_on_lenses_loss: 0.5039 - val_frames_too_heavy_loss: 0.1069 - val_frame_covering_eyes_loss: 0.6766 - val_hat_cap_loss: 0.1304 - val_veil_over_face_loss: 0.0463 - val_mouth_open_loss: 1.0821 - val_presence_of_other_faces_or_toys_loss: 0.1610 - val_blurred_acc: 0.8814 - val_looking_away_acc: 0.7947 - val_ink_marked_creased_acc: 0.9664 - val_unnatural_skin_tone_acc: 0.7345 - val_too_dark_light_acc: 0.8779 - val_washed_out_acc: 0.9398 - val_pixelation_acc: 0.9487 - val_hair_across_eyes_acc: 0.9062 - val_eyes_closed_acc: 0.8690 - val_varied_background_acc: 0.8354 - val_roll_pitch_yaw_acc: 0.8319 - val_flash_reflection_on_skin_acc: 0.7504 - val_red_eyes_acc: 0.7558 - val_shadows_behind_head_acc: 0.9522 - val_shadows_across_face_acc: 0.7027 - val_dark_tinted_lenses_acc: 0.9823 - val_flash_reflection_on_lenses_acc: 0.8407 - val_frames_too_heavy_acc: 0.9611 - val_frame_covering_eyes_acc: 0.8743 - val_hat_cap_acc: 0.9575 - val_veil_over_face_acc: 0.9841 - val_mouth_open_acc: 0.6991 - val_presence_of_other_faces_or_toys_acc: 0.9805\n"
     ]
    },
    {
     "name": "stdout",
     "output_type": "stream",
     "text": [
      "Epoch 20/30\n",
      "5211/5211 [==============================] - 4s 714us/step - loss: 4.1039 - blurred_loss: 0.2274 - looking_away_loss: 0.4655 - ink_marked_creased_loss: 0.0503 - unnatural_skin_tone_loss: 0.1041 - too_dark_light_loss: 0.0868 - washed_out_loss: 3.7814e-04 - pixelation_loss: 0.1678 - hair_across_eyes_loss: 0.1116 - eyes_closed_loss: 0.2864 - varied_background_loss: 0.1215 - roll_pitch_yaw_loss: 0.4258 - flash_reflection_on_skin_loss: 0.2196 - red_eyes_loss: 0.2390 - shadows_behind_head_loss: 0.3302 - shadows_across_face_loss: 0.1805 - dark_tinted_lenses_loss: 0.0850 - flash_reflection_on_lenses_loss: 0.2013 - frames_too_heavy_loss: 0.1039 - frame_covering_eyes_loss: 0.2383 - hat_cap_loss: 0.0988 - veil_over_face_loss: 0.0280 - mouth_open_loss: 0.3292 - presence_of_other_faces_or_toys_loss: 0.0025 - blurred_acc: 0.9194 - looking_away_acc: 0.8198 - ink_marked_creased_acc: 0.9802 - unnatural_skin_tone_acc: 0.9593 - too_dark_light_acc: 0.9695 - washed_out_acc: 0.9998 - pixelation_acc: 0.9405 - hair_across_eyes_acc: 0.9597 - eyes_closed_acc: 0.8991 - varied_background_acc: 0.9607 - roll_pitch_yaw_acc: 0.8160 - flash_reflection_on_skin_acc: 0.9217 - red_eyes_acc: 0.9117 - shadows_behind_head_acc: 0.8730 - shadows_across_face_acc: 0.9382 - dark_tinted_lenses_acc: 0.9756 - flash_reflection_on_lenses_acc: 0.9215 - frames_too_heavy_acc: 0.9672 - frame_covering_eyes_acc: 0.9073 - hat_cap_acc: 0.9695 - veil_over_face_acc: 0.9908 - mouth_open_acc: 0.8570 - presence_of_other_faces_or_toys_acc: 0.9994 - val_loss: 15.4107 - val_blurred_loss: 0.3469 - val_looking_away_loss: 0.7215 - val_ink_marked_creased_loss: 0.0867 - val_unnatural_skin_tone_loss: 1.8648 - val_too_dark_light_loss: 0.4991 - val_washed_out_loss: 0.8068 - val_pixelation_loss: 0.2547 - val_hair_across_eyes_loss: 1.0086 - val_eyes_closed_loss: 0.5676 - val_varied_background_loss: 1.3721 - val_roll_pitch_yaw_loss: 0.8921 - val_flash_reflection_on_skin_loss: 1.2738 - val_red_eyes_loss: 0.8010 - val_shadows_behind_head_loss: 0.1653 - val_shadows_across_face_loss: 1.8861 - val_dark_tinted_lenses_loss: 0.1349 - val_flash_reflection_on_lenses_loss: 0.3890 - val_frames_too_heavy_loss: 0.1241 - val_frame_covering_eyes_loss: 0.6784 - val_hat_cap_loss: 0.1333 - val_veil_over_face_loss: 0.0498 - val_mouth_open_loss: 1.1818 - val_presence_of_other_faces_or_toys_loss: 0.1723 - val_blurred_acc: 0.8779 - val_looking_away_acc: 0.7965 - val_ink_marked_creased_acc: 0.9540 - val_unnatural_skin_tone_acc: 0.7345 - val_too_dark_light_acc: 0.8761 - val_washed_out_acc: 0.9398 - val_pixelation_acc: 0.9044 - val_hair_across_eyes_acc: 0.9150 - val_eyes_closed_acc: 0.8549 - val_varied_background_acc: 0.8354 - val_roll_pitch_yaw_acc: 0.8319 - val_flash_reflection_on_skin_acc: 0.7469 - val_red_eyes_acc: 0.7558 - val_shadows_behind_head_acc: 0.9416 - val_shadows_across_face_acc: 0.7062 - val_dark_tinted_lenses_acc: 0.9735 - val_flash_reflection_on_lenses_acc: 0.9150 - val_frames_too_heavy_acc: 0.9611 - val_frame_covering_eyes_acc: 0.8743 - val_hat_cap_acc: 0.9593 - val_veil_over_face_acc: 0.9841 - val_mouth_open_acc: 0.6177 - val_presence_of_other_faces_or_toys_acc: 0.9805loss: 2.4413e-04 - pixelation_loss: 0.1569 - hair_across_eyes_loss: 0.1161 - eyes_closed_loss: 0.2776 - varied_background_loss: 0.1291 - roll_pitch_yaw_loss: 0.3974 - flash_reflection_on_skin_loss: 0.2017 - red_eyes_loss: 0.2362 - shadows_behind_head_loss: 0.3240 - shadows_across_face_loss: 0.1857 - dark_tinted_lenses_loss: 0.0847 - flash_reflection_on_lenses_loss: 0.2358 - frames_too_heavy_loss: 0.0836 - frame_covering_eyes_loss: 0.2051 - hat_cap_loss: 0.0867 - veil_over_face_loss: 0.0266 - mouth_open_loss: 0.3021 - presence_of_other_faces_or_toys_loss: 0.0015 - blurred_acc: 0.9150 - looking_away_acc: 0.8350 - ink_marked_creased_acc: 0.9838 - unnatural_skin_tone_acc: 0.9613 - too_dark_light_acc: 0.9712 - washed_out_acc: 1.0000 - pixelation_acc: 0.9425 - hair_across_eyes_acc: 0.9575 - eyes_closed_acc: 0.8962 - varied_background_acc: 0.9563 - roll_pitch_yaw_acc: 0.8225 - flash_reflection_on_skin_acc: 0.9350 - red_eyes_acc: 0.9137 - shadows_behind_head_acc: 0.8850 - shadows_across_face_acc: 0.9313 - dark_tinted_lenses_acc: 0.9750 - flash_reflection_on_lenses_acc: 0.9038 - frames_too_heavy_acc: 0.9762 - frame_covering_eyes_acc: 0.9163 - hat_cap_acc: 0.9712\n",
      "Epoch 21/30\n",
      "5211/5211 [==============================] - 4s 715us/step - loss: 4.0530 - blurred_loss: 0.2244 - looking_away_loss: 0.4631 - ink_marked_creased_loss: 0.0530 - unnatural_skin_tone_loss: 0.1036 - too_dark_light_loss: 0.0852 - washed_out_loss: 3.3094e-04 - pixelation_loss: 0.1560 - hair_across_eyes_loss: 0.1074 - eyes_closed_loss: 0.2863 - varied_background_loss: 0.1218 - roll_pitch_yaw_loss: 0.4220 - flash_reflection_on_skin_loss: 0.2146 - red_eyes_loss: 0.2376 - shadows_behind_head_loss: 0.3307 - shadows_across_face_loss: 0.1740 - dark_tinted_lenses_loss: 0.0869 - flash_reflection_on_lenses_loss: 0.1893 - frames_too_heavy_loss: 0.1006 - frame_covering_eyes_loss: 0.2305 - hat_cap_loss: 0.1015 - veil_over_face_loss: 0.0284 - mouth_open_loss: 0.3336 - presence_of_other_faces_or_toys_loss: 0.0021 - blurred_acc: 0.9213 - looking_away_acc: 0.8235 - ink_marked_creased_acc: 0.9785 - unnatural_skin_tone_acc: 0.9630 - too_dark_light_acc: 0.9704 - washed_out_acc: 1.0000 - pixelation_acc: 0.9428 - hair_across_eyes_acc: 0.9637 - eyes_closed_acc: 0.8979 - varied_background_acc: 0.9599 - roll_pitch_yaw_acc: 0.8192 - flash_reflection_on_skin_acc: 0.9230 - red_eyes_acc: 0.9108 - shadows_behind_head_acc: 0.8726 - shadows_across_face_acc: 0.9417 - dark_tinted_lenses_acc: 0.9743 - flash_reflection_on_lenses_acc: 0.9284 - frames_too_heavy_acc: 0.9678 - frame_covering_eyes_acc: 0.9133 - hat_cap_acc: 0.9670 - veil_over_face_acc: 0.9910 - mouth_open_acc: 0.8532 - presence_of_other_faces_or_toys_acc: 0.9994 - val_loss: 15.0272 - val_blurred_loss: 0.2733 - val_looking_away_loss: 0.7277 - val_ink_marked_creased_loss: 0.1279 - val_unnatural_skin_tone_loss: 1.8586 - val_too_dark_light_loss: 0.4379 - val_washed_out_loss: 0.8784 - val_pixelation_loss: 0.2064 - val_hair_across_eyes_loss: 0.9364 - val_eyes_closed_loss: 0.5605 - val_varied_background_loss: 1.3981 - val_roll_pitch_yaw_loss: 0.8779 - val_flash_reflection_on_skin_loss: 1.4425 - val_red_eyes_loss: 0.8999 - val_shadows_behind_head_loss: 0.1496 - val_shadows_across_face_loss: 1.5609 - val_dark_tinted_lenses_loss: 0.1088 - val_flash_reflection_on_lenses_loss: 0.3501 - val_frames_too_heavy_loss: 0.1353 - val_frame_covering_eyes_loss: 0.6508 - val_hat_cap_loss: 0.1248 - val_veil_over_face_loss: 0.0420 - val_mouth_open_loss: 1.1003 - val_presence_of_other_faces_or_toys_loss: 0.1790 - val_blurred_acc: 0.8867 - val_looking_away_acc: 0.7912 - val_ink_marked_creased_acc: 0.9257 - val_unnatural_skin_tone_acc: 0.7327 - val_too_dark_light_acc: 0.8779 - val_washed_out_acc: 0.9398 - val_pixelation_acc: 0.9504 - val_hair_across_eyes_acc: 0.9133 - val_eyes_closed_acc: 0.8743 - val_varied_background_acc: 0.8301 - val_roll_pitch_yaw_acc: 0.8159 - val_flash_reflection_on_skin_acc: 0.6973 - val_red_eyes_acc: 0.7646 - val_shadows_behind_head_acc: 0.9504 - val_shadows_across_face_acc: 0.7062 - val_dark_tinted_lenses_acc: 0.9823 - val_flash_reflection_on_lenses_acc: 0.9150 - val_frames_too_heavy_acc: 0.9575 - val_frame_covering_eyes_acc: 0.8673 - val_hat_cap_acc: 0.9558 - val_veil_over_face_acc: 0.9858 - val_mouth_open_acc: 0.7027 - val_presence_of_other_faces_or_toys_acc: 0.9805\n",
      "Epoch 22/30\n"
     ]
    },
    {
     "name": "stdout",
     "output_type": "stream",
     "text": [
      "5211/5211 [==============================] - 4s 707us/step - loss: 3.9936 - blurred_loss: 0.2230 - looking_away_loss: 0.4595 - ink_marked_creased_loss: 0.0500 - unnatural_skin_tone_loss: 0.1011 - too_dark_light_loss: 0.0844 - washed_out_loss: 4.2934e-04 - pixelation_loss: 0.1549 - hair_across_eyes_loss: 0.1018 - eyes_closed_loss: 0.2828 - varied_background_loss: 0.1177 - roll_pitch_yaw_loss: 0.4202 - flash_reflection_on_skin_loss: 0.2128 - red_eyes_loss: 0.2354 - shadows_behind_head_loss: 0.3322 - shadows_across_face_loss: 0.1705 - dark_tinted_lenses_loss: 0.0818 - flash_reflection_on_lenses_loss: 0.1916 - frames_too_heavy_loss: 0.0977 - frame_covering_eyes_loss: 0.2275 - hat_cap_loss: 0.0970 - veil_over_face_loss: 0.0265 - mouth_open_loss: 0.3230 - presence_of_other_faces_or_toys_loss: 0.0018 - blurred_acc: 0.9173 - looking_away_acc: 0.8231 - ink_marked_creased_acc: 0.9802 - unnatural_skin_tone_acc: 0.9622 - too_dark_light_acc: 0.9699 - washed_out_acc: 0.9998 - pixelation_acc: 0.9434 - hair_across_eyes_acc: 0.9651 - eyes_closed_acc: 0.9025 - varied_background_acc: 0.9616 - roll_pitch_yaw_acc: 0.8233 - flash_reflection_on_skin_acc: 0.9217 - red_eyes_acc: 0.9133 - shadows_behind_head_acc: 0.8710 - shadows_across_face_acc: 0.9409 - dark_tinted_lenses_acc: 0.9747 - flash_reflection_on_lenses_acc: 0.9234 - frames_too_heavy_acc: 0.9678 - frame_covering_eyes_acc: 0.9133 - hat_cap_acc: 0.9658 - veil_over_face_acc: 0.9914 - mouth_open_acc: 0.8622 - presence_of_other_faces_or_toys_acc: 0.9994 - val_loss: 15.3291 - val_blurred_loss: 0.3147 - val_looking_away_loss: 0.6873 - val_ink_marked_creased_loss: 0.2197 - val_unnatural_skin_tone_loss: 2.0034 - val_too_dark_light_loss: 0.4847 - val_washed_out_loss: 0.8752 - val_pixelation_loss: 0.2071 - val_hair_across_eyes_loss: 0.9302 - val_eyes_closed_loss: 0.5526 - val_varied_background_loss: 1.2303 - val_roll_pitch_yaw_loss: 0.9477 - val_flash_reflection_on_skin_loss: 1.3635 - val_red_eyes_loss: 0.8702 - val_shadows_behind_head_loss: 0.1503 - val_shadows_across_face_loss: 1.7117 - val_dark_tinted_lenses_loss: 0.1153 - val_flash_reflection_on_lenses_loss: 0.3752 - val_frames_too_heavy_loss: 0.1782 - val_frame_covering_eyes_loss: 0.6499 - val_hat_cap_loss: 0.1262 - val_veil_over_face_loss: 0.0423 - val_mouth_open_loss: 1.1192 - val_presence_of_other_faces_or_toys_loss: 0.1741 - val_blurred_acc: 0.8743 - val_looking_away_acc: 0.7894 - val_ink_marked_creased_acc: 0.8867 - val_unnatural_skin_tone_acc: 0.7398 - val_too_dark_light_acc: 0.8796 - val_washed_out_acc: 0.9398 - val_pixelation_acc: 0.9540 - val_hair_across_eyes_acc: 0.9150 - val_eyes_closed_acc: 0.8673 - val_varied_background_acc: 0.8301 - val_roll_pitch_yaw_acc: 0.8283 - val_flash_reflection_on_skin_acc: 0.7186 - val_red_eyes_acc: 0.7575 - val_shadows_behind_head_acc: 0.9558 - val_shadows_across_face_acc: 0.7080 - val_dark_tinted_lenses_acc: 0.9788 - val_flash_reflection_on_lenses_acc: 0.9115 - val_frames_too_heavy_acc: 0.9540 - val_frame_covering_eyes_acc: 0.8726 - val_hat_cap_acc: 0.9611 - val_veil_over_face_acc: 0.9876 - val_mouth_open_acc: 0.7186 - val_presence_of_other_faces_or_toys_acc: 0.9805\n",
      "Epoch 23/30\n",
      "5211/5211 [==============================] - 4s 711us/step - loss: 3.9475 - blurred_loss: 0.2195 - looking_away_loss: 0.4598 - ink_marked_creased_loss: 0.0522 - unnatural_skin_tone_loss: 0.0997 - too_dark_light_loss: 0.0792 - washed_out_loss: 3.5243e-04 - pixelation_loss: 0.1523 - hair_across_eyes_loss: 0.1042 - eyes_closed_loss: 0.2754 - varied_background_loss: 0.1182 - roll_pitch_yaw_loss: 0.4148 - flash_reflection_on_skin_loss: 0.2120 - red_eyes_loss: 0.2312 - shadows_behind_head_loss: 0.3199 - shadows_across_face_loss: 0.1674 - dark_tinted_lenses_loss: 0.0807 - flash_reflection_on_lenses_loss: 0.1848 - frames_too_heavy_loss: 0.0978 - frame_covering_eyes_loss: 0.2245 - hat_cap_loss: 0.0941 - veil_over_face_loss: 0.0280 - mouth_open_loss: 0.3297 - presence_of_other_faces_or_toys_loss: 0.0016 - blurred_acc: 0.9229 - looking_away_acc: 0.8213 - ink_marked_creased_acc: 0.9768 - unnatural_skin_tone_acc: 0.9639 - too_dark_light_acc: 0.9718 - washed_out_acc: 1.0000 - pixelation_acc: 0.9457 - hair_across_eyes_acc: 0.9641 - eyes_closed_acc: 0.9021 - varied_background_acc: 0.9599 - roll_pitch_yaw_acc: 0.8259 - flash_reflection_on_skin_acc: 0.9229 - red_eyes_acc: 0.9136 - shadows_behind_head_acc: 0.8774 - shadows_across_face_acc: 0.9434 - dark_tinted_lenses_acc: 0.9745 - flash_reflection_on_lenses_acc: 0.9278 - frames_too_heavy_acc: 0.9660 - frame_covering_eyes_acc: 0.9181 - hat_cap_acc: 0.9687 - veil_over_face_acc: 0.9900 - mouth_open_acc: 0.8524 - presence_of_other_faces_or_toys_acc: 0.9996 - val_loss: 15.4391 - val_blurred_loss: 0.2680 - val_looking_away_loss: 0.7002 - val_ink_marked_creased_loss: 0.1984 - val_unnatural_skin_tone_loss: 1.9893 - val_too_dark_light_loss: 0.4530 - val_washed_out_loss: 0.8551 - val_pixelation_loss: 0.2344 - val_hair_across_eyes_loss: 0.9122 - val_eyes_closed_loss: 0.5899 - val_varied_background_loss: 1.3286 - val_roll_pitch_yaw_loss: 0.9249 - val_flash_reflection_on_skin_loss: 1.3491 - val_red_eyes_loss: 0.8485 - val_shadows_behind_head_loss: 0.1427 - val_shadows_across_face_loss: 1.7583 - val_dark_tinted_lenses_loss: 0.1167 - val_flash_reflection_on_lenses_loss: 0.4281 - val_frames_too_heavy_loss: 0.1519 - val_frame_covering_eyes_loss: 0.6863 - val_hat_cap_loss: 0.1300 - val_veil_over_face_loss: 0.0658 - val_mouth_open_loss: 1.1293 - val_presence_of_other_faces_or_toys_loss: 0.1785 - val_blurred_acc: 0.8885 - val_looking_away_acc: 0.7805 - val_ink_marked_creased_acc: 0.8938 - val_unnatural_skin_tone_acc: 0.7327 - val_too_dark_light_acc: 0.8743 - val_washed_out_acc: 0.9398 - val_pixelation_acc: 0.9363 - val_hair_across_eyes_acc: 0.9133 - val_eyes_closed_acc: 0.8708 - val_varied_background_acc: 0.8336 - val_roll_pitch_yaw_acc: 0.8319 - val_flash_reflection_on_skin_acc: 0.7168 - val_red_eyes_acc: 0.7575 - val_shadows_behind_head_acc: 0.9469 - val_shadows_across_face_acc: 0.7044 - val_dark_tinted_lenses_acc: 0.9805 - val_flash_reflection_on_lenses_acc: 0.8832 - val_frames_too_heavy_acc: 0.9575 - val_frame_covering_eyes_acc: 0.8743 - val_hat_cap_acc: 0.9540 - val_veil_over_face_acc: 0.9805 - val_mouth_open_acc: 0.7168 - val_presence_of_other_faces_or_toys_acc: 0.9805\n",
      "Epoch 24/30\n",
      "5211/5211 [==============================] - 4s 706us/step - loss: 3.8956 - blurred_loss: 0.2185 - looking_away_loss: 0.4531 - ink_marked_creased_loss: 0.0450 - unnatural_skin_tone_loss: 0.0959 - too_dark_light_loss: 0.0782 - washed_out_loss: 2.1899e-04 - pixelation_loss: 0.1528 - hair_across_eyes_loss: 0.0977 - eyes_closed_loss: 0.2801 - varied_background_loss: 0.1158 - roll_pitch_yaw_loss: 0.4204 - flash_reflection_on_skin_loss: 0.2054 - red_eyes_loss: 0.2273 - shadows_behind_head_loss: 0.3157 - shadows_across_face_loss: 0.1670 - dark_tinted_lenses_loss: 0.0825 - flash_reflection_on_lenses_loss: 0.1868 - frames_too_heavy_loss: 0.0950 - frame_covering_eyes_loss: 0.2201 - hat_cap_loss: 0.0905 - veil_over_face_loss: 0.0254 - mouth_open_loss: 0.3205 - presence_of_other_faces_or_toys_loss: 0.0017 - blurred_acc: 0.9221 - looking_away_acc: 0.8263 - ink_marked_creased_acc: 0.9833 - unnatural_skin_tone_acc: 0.9649 - too_dark_light_acc: 0.9724 - washed_out_acc: 1.0000 - pixelation_acc: 0.9451 - hair_across_eyes_acc: 0.9680 - eyes_closed_acc: 0.8973 - varied_background_acc: 0.9630 - roll_pitch_yaw_acc: 0.8227 - flash_reflection_on_skin_acc: 0.9278 - red_eyes_acc: 0.9121 - shadows_behind_head_acc: 0.8803 - shadows_across_face_acc: 0.9426 - dark_tinted_lenses_acc: 0.9729 - flash_reflection_on_lenses_acc: 0.9278 - frames_too_heavy_acc: 0.9693 - frame_covering_eyes_acc: 0.9146 - hat_cap_acc: 0.9697 - veil_over_face_acc: 0.9914 - mouth_open_acc: 0.8653 - presence_of_other_faces_or_toys_acc: 0.9996 - val_loss: 15.9977 - val_blurred_loss: 0.3702 - val_looking_away_loss: 0.7233 - val_ink_marked_creased_loss: 0.1318 - val_unnatural_skin_tone_loss: 2.0615 - val_too_dark_light_loss: 0.4584 - val_washed_out_loss: 0.8179 - val_pixelation_loss: 0.2611 - val_hair_across_eyes_loss: 0.9558 - val_eyes_closed_loss: 0.5852 - val_varied_background_loss: 1.4831 - val_roll_pitch_yaw_loss: 0.8913 - val_flash_reflection_on_skin_loss: 1.4679 - val_red_eyes_loss: 0.9525 - val_shadows_behind_head_loss: 0.1727 - val_shadows_across_face_loss: 1.7935 - val_dark_tinted_lenses_loss: 0.1124 - val_flash_reflection_on_lenses_loss: 0.4084 - val_frames_too_heavy_loss: 0.1781 - val_frame_covering_eyes_loss: 0.6894 - val_hat_cap_loss: 0.1385 - val_veil_over_face_loss: 0.0480 - val_mouth_open_loss: 1.1122 - val_presence_of_other_faces_or_toys_loss: 0.1845 - val_blurred_acc: 0.8549 - val_looking_away_acc: 0.7823 - val_ink_marked_creased_acc: 0.9274 - val_unnatural_skin_tone_acc: 0.7345 - val_too_dark_light_acc: 0.8726 - val_washed_out_acc: 0.9398 - val_pixelation_acc: 0.9044 - val_hair_across_eyes_acc: 0.9133 - val_eyes_closed_acc: 0.8673 - val_varied_background_acc: 0.8319 - val_roll_pitch_yaw_acc: 0.8265 - val_flash_reflection_on_skin_acc: 0.7327 - val_red_eyes_acc: 0.7558 - val_shadows_behind_head_acc: 0.9345 - val_shadows_across_face_acc: 0.7009 - val_dark_tinted_lenses_acc: 0.9823 - val_flash_reflection_on_lenses_acc: 0.8938 - val_frames_too_heavy_acc: 0.9540 - val_frame_covering_eyes_acc: 0.8761 - val_hat_cap_acc: 0.9575 - val_veil_over_face_acc: 0.9823 - val_mouth_open_acc: 0.7168 - val_presence_of_other_faces_or_toys_acc: 0.9805\n"
     ]
    },
    {
     "name": "stdout",
     "output_type": "stream",
     "text": [
      "Epoch 25/30\n",
      "5211/5211 [==============================] - 4s 718us/step - loss: 3.8660 - blurred_loss: 0.2134 - looking_away_loss: 0.4508 - ink_marked_creased_loss: 0.0478 - unnatural_skin_tone_loss: 0.0921 - too_dark_light_loss: 0.0759 - washed_out_loss: 4.6908e-04 - pixelation_loss: 0.1500 - hair_across_eyes_loss: 0.0977 - eyes_closed_loss: 0.2737 - varied_background_loss: 0.1190 - roll_pitch_yaw_loss: 0.4153 - flash_reflection_on_skin_loss: 0.2037 - red_eyes_loss: 0.2329 - shadows_behind_head_loss: 0.3148 - shadows_across_face_loss: 0.1638 - dark_tinted_lenses_loss: 0.0789 - flash_reflection_on_lenses_loss: 0.1836 - frames_too_heavy_loss: 0.0932 - frame_covering_eyes_loss: 0.2246 - hat_cap_loss: 0.0915 - veil_over_face_loss: 0.0246 - mouth_open_loss: 0.3171 - presence_of_other_faces_or_toys_loss: 0.0013 - blurred_acc: 0.9207 - looking_away_acc: 0.8254 - ink_marked_creased_acc: 0.9810 - unnatural_skin_tone_acc: 0.9641 - too_dark_light_acc: 0.9714 - washed_out_acc: 1.0000 - pixelation_acc: 0.9465 - hair_across_eyes_acc: 0.9653 - eyes_closed_acc: 0.9012 - varied_background_acc: 0.9610 - roll_pitch_yaw_acc: 0.8236 - flash_reflection_on_skin_acc: 0.9269 - red_eyes_acc: 0.9121 - shadows_behind_head_acc: 0.8801 - shadows_across_face_acc: 0.9430 - dark_tinted_lenses_acc: 0.9747 - flash_reflection_on_lenses_acc: 0.9313 - frames_too_heavy_acc: 0.9710 - frame_covering_eyes_acc: 0.9177 - hat_cap_acc: 0.9676 - veil_over_face_acc: 0.9919 - mouth_open_acc: 0.8664 - presence_of_other_faces_or_toys_acc: 0.9998 - val_loss: 15.8537 - val_blurred_loss: 0.3724 - val_looking_away_loss: 0.7314 - val_ink_marked_creased_loss: 0.2164 - val_unnatural_skin_tone_loss: 1.9466 - val_too_dark_light_loss: 0.5052 - val_washed_out_loss: 0.8916 - val_pixelation_loss: 0.2029 - val_hair_across_eyes_loss: 0.9997 - val_eyes_closed_loss: 0.5860 - val_varied_background_loss: 1.6006 - val_roll_pitch_yaw_loss: 0.8448 - val_flash_reflection_on_skin_loss: 1.5796 - val_red_eyes_loss: 0.8471 - val_shadows_behind_head_loss: 0.1216 - val_shadows_across_face_loss: 1.6207 - val_dark_tinted_lenses_loss: 0.1128 - val_flash_reflection_on_lenses_loss: 0.3622 - val_frames_too_heavy_loss: 0.1163 - val_frame_covering_eyes_loss: 0.7308 - val_hat_cap_loss: 0.1246 - val_veil_over_face_loss: 0.0454 - val_mouth_open_loss: 1.1087 - val_presence_of_other_faces_or_toys_loss: 0.1862 - val_blurred_acc: 0.8584 - val_looking_away_acc: 0.7894 - val_ink_marked_creased_acc: 0.8885 - val_unnatural_skin_tone_acc: 0.7292 - val_too_dark_light_acc: 0.8779 - val_washed_out_acc: 0.9398 - val_pixelation_acc: 0.9504 - val_hair_across_eyes_acc: 0.9133 - val_eyes_closed_acc: 0.8637 - val_varied_background_acc: 0.8283 - val_roll_pitch_yaw_acc: 0.8195 - val_flash_reflection_on_skin_acc: 0.7451 - val_red_eyes_acc: 0.7611 - val_shadows_behind_head_acc: 0.9628 - val_shadows_across_face_acc: 0.7062 - val_dark_tinted_lenses_acc: 0.9805 - val_flash_reflection_on_lenses_acc: 0.9133 - val_frames_too_heavy_acc: 0.9593 - val_frame_covering_eyes_acc: 0.8743 - val_hat_cap_acc: 0.9575 - val_veil_over_face_acc: 0.9858 - val_mouth_open_acc: 0.6991 - val_presence_of_other_faces_or_toys_acc: 0.9805\n",
      "Epoch 26/30\n",
      "5211/5211 [==============================] - 4s 704us/step - loss: 3.8346 - blurred_loss: 0.2097 - looking_away_loss: 0.4515 - ink_marked_creased_loss: 0.0443 - unnatural_skin_tone_loss: 0.0934 - too_dark_light_loss: 0.0768 - washed_out_loss: 1.9763e-04 - pixelation_loss: 0.1554 - hair_across_eyes_loss: 0.0991 - eyes_closed_loss: 0.2714 - varied_background_loss: 0.1137 - roll_pitch_yaw_loss: 0.4105 - flash_reflection_on_skin_loss: 0.2110 - red_eyes_loss: 0.2342 - shadows_behind_head_loss: 0.3148 - shadows_across_face_loss: 0.1624 - dark_tinted_lenses_loss: 0.0765 - flash_reflection_on_lenses_loss: 0.1800 - frames_too_heavy_loss: 0.0891 - frame_covering_eyes_loss: 0.2146 - hat_cap_loss: 0.0880 - veil_over_face_loss: 0.0226 - mouth_open_loss: 0.3143 - presence_of_other_faces_or_toys_loss: 0.0013 - blurred_acc: 0.9242 - looking_away_acc: 0.8248 - ink_marked_creased_acc: 0.9831 - unnatural_skin_tone_acc: 0.9649 - too_dark_light_acc: 0.9716 - washed_out_acc: 1.0000 - pixelation_acc: 0.9428 - hair_across_eyes_acc: 0.9672 - eyes_closed_acc: 0.9037 - varied_background_acc: 0.9651 - roll_pitch_yaw_acc: 0.8267 - flash_reflection_on_skin_acc: 0.9223 - red_eyes_acc: 0.9133 - shadows_behind_head_acc: 0.8766 - shadows_across_face_acc: 0.9453 - dark_tinted_lenses_acc: 0.9777 - flash_reflection_on_lenses_acc: 0.9303 - frames_too_heavy_acc: 0.9714 - frame_covering_eyes_acc: 0.9171 - hat_cap_acc: 0.9724 - veil_over_face_acc: 0.9921 - mouth_open_acc: 0.8670 - presence_of_other_faces_or_toys_acc: 0.9996 - val_loss: 15.7459 - val_blurred_loss: 0.3323 - val_looking_away_loss: 0.6999 - val_ink_marked_creased_loss: 0.1799 - val_unnatural_skin_tone_loss: 1.9124 - val_too_dark_light_loss: 0.4768 - val_washed_out_loss: 0.8740 - val_pixelation_loss: 0.2327 - val_hair_across_eyes_loss: 0.9335 - val_eyes_closed_loss: 0.6067 - val_varied_background_loss: 1.3006 - val_roll_pitch_yaw_loss: 0.8620 - val_flash_reflection_on_skin_loss: 1.4353 - val_red_eyes_loss: 0.9447 - val_shadows_behind_head_loss: 0.1362 - val_shadows_across_face_loss: 1.9877 - val_dark_tinted_lenses_loss: 0.1062 - val_flash_reflection_on_lenses_loss: 0.3855 - val_frames_too_heavy_loss: 0.1165 - val_frame_covering_eyes_loss: 0.7522 - val_hat_cap_loss: 0.1232 - val_veil_over_face_loss: 0.0474 - val_mouth_open_loss: 1.1237 - val_presence_of_other_faces_or_toys_loss: 0.1763 - val_blurred_acc: 0.8708 - val_looking_away_acc: 0.7823 - val_ink_marked_creased_acc: 0.9009 - val_unnatural_skin_tone_acc: 0.7239 - val_too_dark_light_acc: 0.8743 - val_washed_out_acc: 0.9398 - val_pixelation_acc: 0.9274 - val_hair_across_eyes_acc: 0.9133 - val_eyes_closed_acc: 0.8743 - val_varied_background_acc: 0.8301 - val_roll_pitch_yaw_acc: 0.8177 - val_flash_reflection_on_skin_acc: 0.6956 - val_red_eyes_acc: 0.7558 - val_shadows_behind_head_acc: 0.9611 - val_shadows_across_face_acc: 0.7044 - val_dark_tinted_lenses_acc: 0.9788 - val_flash_reflection_on_lenses_acc: 0.9080 - val_frames_too_heavy_acc: 0.9593 - val_frame_covering_eyes_acc: 0.8708 - val_hat_cap_acc: 0.9575 - val_veil_over_face_acc: 0.9823 - val_mouth_open_acc: 0.7027 - val_presence_of_other_faces_or_toys_acc: 0.9805\n",
      "Epoch 27/30\n"
     ]
    },
    {
     "name": "stdout",
     "output_type": "stream",
     "text": [
      "5211/5211 [==============================] - 4s 706us/step - loss: 3.7788 - blurred_loss: 0.2101 - looking_away_loss: 0.4365 - ink_marked_creased_loss: 0.0447 - unnatural_skin_tone_loss: 0.0921 - too_dark_light_loss: 0.0721 - washed_out_loss: 2.0941e-04 - pixelation_loss: 0.1537 - hair_across_eyes_loss: 0.0926 - eyes_closed_loss: 0.2660 - varied_background_loss: 0.1135 - roll_pitch_yaw_loss: 0.4061 - flash_reflection_on_skin_loss: 0.2024 - red_eyes_loss: 0.2244 - shadows_behind_head_loss: 0.3061 - shadows_across_face_loss: 0.1613 - dark_tinted_lenses_loss: 0.0759 - flash_reflection_on_lenses_loss: 0.1836 - frames_too_heavy_loss: 0.0955 - frame_covering_eyes_loss: 0.2131 - hat_cap_loss: 0.0911 - veil_over_face_loss: 0.0215 - mouth_open_loss: 0.3152 - presence_of_other_faces_or_toys_loss: 9.8170e-04 - blurred_acc: 0.9250 - looking_away_acc: 0.8309 - ink_marked_creased_acc: 0.9835 - unnatural_skin_tone_acc: 0.9655 - too_dark_light_acc: 0.9745 - washed_out_acc: 1.0000 - pixelation_acc: 0.9417 - hair_across_eyes_acc: 0.9697 - eyes_closed_acc: 0.9060 - varied_background_acc: 0.9620 - roll_pitch_yaw_acc: 0.8292 - flash_reflection_on_skin_acc: 0.9282 - red_eyes_acc: 0.9158 - shadows_behind_head_acc: 0.8826 - shadows_across_face_acc: 0.9436 - dark_tinted_lenses_acc: 0.9789 - flash_reflection_on_lenses_acc: 0.9307 - frames_too_heavy_acc: 0.9674 - frame_covering_eyes_acc: 0.9194 - hat_cap_acc: 0.9683 - veil_over_face_acc: 0.9917 - mouth_open_acc: 0.8622 - presence_of_other_faces_or_toys_acc: 0.9998 - val_loss: 15.9893 - val_blurred_loss: 0.2721 - val_looking_away_loss: 0.7332 - val_ink_marked_creased_loss: 0.1526 - val_unnatural_skin_tone_loss: 2.1500 - val_too_dark_light_loss: 0.5175 - val_washed_out_loss: 0.8732 - val_pixelation_loss: 0.2280 - val_hair_across_eyes_loss: 0.9296 - val_eyes_closed_loss: 0.6012 - val_varied_background_loss: 1.3530 - val_roll_pitch_yaw_loss: 0.9225 - val_flash_reflection_on_skin_loss: 1.3636 - val_red_eyes_loss: 0.9435 - val_shadows_behind_head_loss: 0.1491 - val_shadows_across_face_loss: 1.9113 - val_dark_tinted_lenses_loss: 0.1182 - val_flash_reflection_on_lenses_loss: 0.4012 - val_frames_too_heavy_loss: 0.1521 - val_frame_covering_eyes_loss: 0.6568 - val_hat_cap_loss: 0.1327 - val_veil_over_face_loss: 0.0465 - val_mouth_open_loss: 1.1798 - val_presence_of_other_faces_or_toys_loss: 0.2017 - val_blurred_acc: 0.8973 - val_looking_away_acc: 0.7876 - val_ink_marked_creased_acc: 0.9186 - val_unnatural_skin_tone_acc: 0.7204 - val_too_dark_light_acc: 0.8743 - val_washed_out_acc: 0.9398 - val_pixelation_acc: 0.9257 - val_hair_across_eyes_acc: 0.9133 - val_eyes_closed_acc: 0.8708 - val_varied_background_acc: 0.8319 - val_roll_pitch_yaw_acc: 0.8283 - val_flash_reflection_on_skin_acc: 0.7186 - val_red_eyes_acc: 0.7593 - val_shadows_behind_head_acc: 0.9451 - val_shadows_across_face_acc: 0.7080 - val_dark_tinted_lenses_acc: 0.9823 - val_flash_reflection_on_lenses_acc: 0.9150 - val_frames_too_heavy_acc: 0.9575 - val_frame_covering_eyes_acc: 0.8655 - val_hat_cap_acc: 0.9628 - val_veil_over_face_acc: 0.9823 - val_mouth_open_acc: 0.6850 - val_presence_of_other_faces_or_toys_acc: 0.9823: 0.1545 - hair_across_eyes_loss: 0.0886 - eyes_closed_loss: 0.2626 - varied_background_loss: 0.1052 - roll_pitch_yaw_loss: 0.4166 - flash_reflection_on_skin_loss: 0.2028 - red_eyes_loss: 0.2211 - shadows_behind_head_loss: 0.3091 - shadows_across_face_loss: 0.1642 - dark_tinted_lenses_loss: 0.0723 - flash_reflection_on_lenses_loss: 0.1838 - frames_too_heavy_loss: 0.0959 - frame_covering_eyes_loss: 0.2099 - hat_cap_loss: 0.0893 - veil_over_face_loss: 0.0218 - mouth_open_loss: 0.3122 - presence_of_other_faces_or_toys_loss: 0.0013 - blurred_acc: 0.9235 - looking_away_acc: 0.8313 - ink_marked_creased_acc: 0.9828 - unnatural_skin_tone_acc: 0.9675 - too_dark_light_acc: 0.9745 - washed_out_acc: 1.0000 - pixelation_acc: 0.9416 - hair_across_eyes_acc: 0.9703 - eyes_closed_acc: 0.9069 - varied_background_acc: 0.9640 - roll_pitch_yaw_acc: 0.8262 - flash_reflection_on_skin_acc: 0.9279 - red_eyes_acc: 0.9212 - shadows_behind_head_acc: 0.8801 - shadows_across_face_acc: 0.9442 - dark_tinted_lenses_acc: 0.9812 - flash_reflection_on_lenses_acc: 0.9286 - frames_too_heavy_acc: 0.9675 - frame_covering_eyes_acc: 0.9216 - hat_cap_acc: 0.9688 - veil_over_face_acc: 0.9917 - mouth_open_acc: \n",
      "Epoch 28/30\n",
      "5211/5211 [==============================] - 4s 708us/step - loss: 3.7498 - blurred_loss: 0.2084 - looking_away_loss: 0.4385 - ink_marked_creased_loss: 0.0438 - unnatural_skin_tone_loss: 0.0905 - too_dark_light_loss: 0.0712 - washed_out_loss: 1.7481e-04 - pixelation_loss: 0.1460 - hair_across_eyes_loss: 0.0926 - eyes_closed_loss: 0.2687 - varied_background_loss: 0.1113 - roll_pitch_yaw_loss: 0.4043 - flash_reflection_on_skin_loss: 0.2018 - red_eyes_loss: 0.2255 - shadows_behind_head_loss: 0.3083 - shadows_across_face_loss: 0.1611 - dark_tinted_lenses_loss: 0.0768 - flash_reflection_on_lenses_loss: 0.1812 - frames_too_heavy_loss: 0.0899 - frame_covering_eyes_loss: 0.2089 - hat_cap_loss: 0.0883 - veil_over_face_loss: 0.0212 - mouth_open_loss: 0.3103 - presence_of_other_faces_or_toys_loss: 0.0011 - blurred_acc: 0.9230 - looking_away_acc: 0.8319 - ink_marked_creased_acc: 0.9810 - unnatural_skin_tone_acc: 0.9666 - too_dark_light_acc: 0.9727 - washed_out_acc: 1.0000 - pixelation_acc: 0.9468 - hair_across_eyes_acc: 0.9681 - eyes_closed_acc: 0.9019 - varied_background_acc: 0.9637 - roll_pitch_yaw_acc: 0.8294 - flash_reflection_on_skin_acc: 0.9275 - red_eyes_acc: 0.9167 - shadows_behind_head_acc: 0.8820 - shadows_across_face_acc: 0.9453 - dark_tinted_lenses_acc: 0.9764 - flash_reflection_on_lenses_acc: 0.9317 - frames_too_heavy_acc: 0.9704 - frame_covering_eyes_acc: 0.9244 - hat_cap_acc: 0.9697 - veil_over_face_acc: 0.9925 - mouth_open_acc: 0.8662 - presence_of_other_faces_or_toys_acc: 0.9996 - val_loss: 16.1945 - val_blurred_loss: 0.3261 - val_looking_away_loss: 0.7272 - val_ink_marked_creased_loss: 0.1590 - val_unnatural_skin_tone_loss: 1.9324 - val_too_dark_light_loss: 0.4305 - val_washed_out_loss: 0.8957 - val_pixelation_loss: 0.2015 - val_hair_across_eyes_loss: 0.9422 - val_eyes_closed_loss: 0.6093 - val_varied_background_loss: 1.4216 - val_roll_pitch_yaw_loss: 0.9899 - val_flash_reflection_on_skin_loss: 1.6260 - val_red_eyes_loss: 0.8665 - val_shadows_behind_head_loss: 0.1826 - val_shadows_across_face_loss: 1.8367 - val_dark_tinted_lenses_loss: 0.1139 - val_flash_reflection_on_lenses_loss: 0.4022 - val_frames_too_heavy_loss: 0.1940 - val_frame_covering_eyes_loss: 0.6570 - val_hat_cap_loss: 0.1221 - val_veil_over_face_loss: 0.0675 - val_mouth_open_loss: 1.2760 - val_presence_of_other_faces_or_toys_loss: 0.2144 - val_blurred_acc: 0.8637 - val_looking_away_acc: 0.7912 - val_ink_marked_creased_acc: 0.9150 - val_unnatural_skin_tone_acc: 0.7168 - val_too_dark_light_acc: 0.8743 - val_washed_out_acc: 0.9398 - val_pixelation_acc: 0.9487 - val_hair_across_eyes_acc: 0.9115 - val_eyes_closed_acc: 0.8460 - val_varied_background_acc: 0.8372 - val_roll_pitch_yaw_acc: 0.8336 - val_flash_reflection_on_skin_acc: 0.6673 - val_red_eyes_acc: 0.7664 - val_shadows_behind_head_acc: 0.9327 - val_shadows_across_face_acc: 0.7168 - val_dark_tinted_lenses_acc: 0.9805 - val_flash_reflection_on_lenses_acc: 0.9097 - val_frames_too_heavy_acc: 0.9558 - val_frame_covering_eyes_acc: 0.8602 - val_hat_cap_acc: 0.9575 - val_veil_over_face_acc: 0.9752 - val_mouth_open_acc: 0.7027 - val_presence_of_other_faces_or_toys_acc: 0.9823\n",
      "Epoch 29/30\n"
     ]
    },
    {
     "name": "stdout",
     "output_type": "stream",
     "text": [
      "5211/5211 [==============================] - 4s 709us/step - loss: 3.7336 - blurred_loss: 0.2025 - looking_away_loss: 0.4400 - ink_marked_creased_loss: 0.0438 - unnatural_skin_tone_loss: 0.0884 - too_dark_light_loss: 0.0708 - washed_out_loss: 2.1991e-04 - pixelation_loss: 0.1472 - hair_across_eyes_loss: 0.0891 - eyes_closed_loss: 0.2674 - varied_background_loss: 0.1128 - roll_pitch_yaw_loss: 0.4080 - flash_reflection_on_skin_loss: 0.2035 - red_eyes_loss: 0.2256 - shadows_behind_head_loss: 0.3046 - shadows_across_face_loss: 0.1552 - dark_tinted_lenses_loss: 0.0748 - flash_reflection_on_lenses_loss: 0.1768 - frames_too_heavy_loss: 0.0866 - frame_covering_eyes_loss: 0.2124 - hat_cap_loss: 0.0858 - veil_over_face_loss: 0.0235 - mouth_open_loss: 0.3137 - presence_of_other_faces_or_toys_loss: 0.0011 - blurred_acc: 0.9267 - looking_away_acc: 0.8286 - ink_marked_creased_acc: 0.9825 - unnatural_skin_tone_acc: 0.9670 - too_dark_light_acc: 0.9747 - washed_out_acc: 1.0000 - pixelation_acc: 0.9449 - hair_across_eyes_acc: 0.9706 - eyes_closed_acc: 0.9039 - varied_background_acc: 0.9620 - roll_pitch_yaw_acc: 0.8231 - flash_reflection_on_skin_acc: 0.9250 - red_eyes_acc: 0.9156 - shadows_behind_head_acc: 0.8851 - shadows_across_face_acc: 0.9465 - dark_tinted_lenses_acc: 0.9766 - flash_reflection_on_lenses_acc: 0.9326 - frames_too_heavy_acc: 0.9708 - frame_covering_eyes_acc: 0.9204 - hat_cap_acc: 0.9729 - veil_over_face_acc: 0.9916 - mouth_open_acc: 0.8636 - presence_of_other_faces_or_toys_acc: 1.0000 - val_loss: 17.0484 - val_blurred_loss: 0.3076 - val_looking_away_loss: 0.7441 - val_ink_marked_creased_loss: 0.1201 - val_unnatural_skin_tone_loss: 2.3034 - val_too_dark_light_loss: 0.4868 - val_washed_out_loss: 0.9027 - val_pixelation_loss: 0.2126 - val_hair_across_eyes_loss: 0.9498 - val_eyes_closed_loss: 0.5839 - val_varied_background_loss: 1.5786 - val_roll_pitch_yaw_loss: 1.0205 - val_flash_reflection_on_skin_loss: 1.7758 - val_red_eyes_loss: 0.9382 - val_shadows_behind_head_loss: 0.1703 - val_shadows_across_face_loss: 1.9496 - val_dark_tinted_lenses_loss: 0.1414 - val_flash_reflection_on_lenses_loss: 0.4377 - val_frames_too_heavy_loss: 0.2051 - val_frame_covering_eyes_loss: 0.6807 - val_hat_cap_loss: 0.1241 - val_veil_over_face_loss: 0.0550 - val_mouth_open_loss: 1.1887 - val_presence_of_other_faces_or_toys_loss: 0.1718 - val_blurred_acc: 0.8726 - val_looking_away_acc: 0.7894 - val_ink_marked_creased_acc: 0.9398 - val_unnatural_skin_tone_acc: 0.7363 - val_too_dark_light_acc: 0.8796 - val_washed_out_acc: 0.9398 - val_pixelation_acc: 0.9451 - val_hair_across_eyes_acc: 0.9115 - val_eyes_closed_acc: 0.8619 - val_varied_background_acc: 0.8319 - val_roll_pitch_yaw_acc: 0.8319 - val_flash_reflection_on_skin_acc: 0.6106 - val_red_eyes_acc: 0.7593 - val_shadows_behind_head_acc: 0.9398 - val_shadows_across_face_acc: 0.7009 - val_dark_tinted_lenses_acc: 0.9699 - val_flash_reflection_on_lenses_acc: 0.9027 - val_frames_too_heavy_acc: 0.9469 - val_frame_covering_eyes_acc: 0.8637 - val_hat_cap_acc: 0.9558 - val_veil_over_face_acc: 0.9770 - val_mouth_open_acc: 0.6991 - val_presence_of_other_faces_or_toys_acc: 0.9805 pixelation_loss: 0.1477 - hair_across_eyes_loss: 0.0884 - eyes_closed_loss: 0.2679 - varied_background_loss: 0.1119 - roll_pitch_yaw_loss: 0.4102 - flash_reflection_on_skin_loss: 0.2005 - red_eyes_loss: 0.2211 - shadows_behind_head_loss: 0.3037 - shadows_across_face_loss: 0.1539 - dark_tinted_lenses_loss: 0.0731 - flash_reflection_on_lenses_loss: 0.1739 - frames_too_heavy_loss: 0.0844 - frame_covering_eyes_loss: 0.2124 - hat_cap_loss: 0.0861 - veil_over_face_loss: 0.0230 - mouth_open_loss: 0.3127 - presence_of_other_faces_or_toys_loss: 0.0012 - blurred_acc: 0.9281 - looking_away_acc: 0.8305 - ink_marked_creased_acc: 0.9831 - unnatural_skin_tone_acc: 0.9655 - too_dark_light_acc: 0.9758 - washed_out_acc: 1.0000 - pixelation_acc: 0.9443 - hair_across_eyes_acc: 0.9705 - eyes_closed_acc: 0.9037 - varied_background_acc: 0.9619 - roll_pitch_yaw_acc: 0.8213 - flash_reflection_on_skin_acc: 0.9266 - red_eyes_acc: 0.9163 - shadows_behind_head_acc: 0.8855 - shadows_across_face_acc: 0.9461 - dark_tinted_lenses_acc: 0.9773 - flash_reflection_on_lenses_acc: 0.9341 - frames_too_heavy_acc: 0.9709 - frame_covering_eyes_acc: 0.9202 - hat_cap_acc: 0.9720 - veil_over_face_acc: 0.9917 - mouth_open_acc: 0.8645 - presence_of_other_faces_or_to\n",
      "Epoch 30/30\n",
      "5211/5211 [==============================] - 4s 712us/step - loss: 3.7059 - blurred_loss: 0.2037 - looking_away_loss: 0.4487 - ink_marked_creased_loss: 0.0445 - unnatural_skin_tone_loss: 0.0828 - too_dark_light_loss: 0.0682 - washed_out_loss: 1.5265e-04 - pixelation_loss: 0.1459 - hair_across_eyes_loss: 0.0893 - eyes_closed_loss: 0.2616 - varied_background_loss: 0.1060 - roll_pitch_yaw_loss: 0.4093 - flash_reflection_on_skin_loss: 0.2002 - red_eyes_loss: 0.2261 - shadows_behind_head_loss: 0.3051 - shadows_across_face_loss: 0.1525 - dark_tinted_lenses_loss: 0.0718 - flash_reflection_on_lenses_loss: 0.1763 - frames_too_heavy_loss: 0.0875 - frame_covering_eyes_loss: 0.2106 - hat_cap_loss: 0.0829 - veil_over_face_loss: 0.0212 - mouth_open_loss: 0.3106 - presence_of_other_faces_or_toys_loss: 8.9452e-04 - blurred_acc: 0.9236 - looking_away_acc: 0.8267 - ink_marked_creased_acc: 0.9839 - unnatural_skin_tone_acc: 0.9697 - too_dark_light_acc: 0.9756 - washed_out_acc: 1.0000 - pixelation_acc: 0.9474 - hair_across_eyes_acc: 0.9703 - eyes_closed_acc: 0.9056 - varied_background_acc: 0.9655 - roll_pitch_yaw_acc: 0.8259 - flash_reflection_on_skin_acc: 0.9261 - red_eyes_acc: 0.9148 - shadows_behind_head_acc: 0.8831 - shadows_across_face_acc: 0.9484 - dark_tinted_lenses_acc: 0.9787 - flash_reflection_on_lenses_acc: 0.9344 - frames_too_heavy_acc: 0.9689 - frame_covering_eyes_acc: 0.9192 - hat_cap_acc: 0.9739 - veil_over_face_acc: 0.9931 - mouth_open_acc: 0.8636 - presence_of_other_faces_or_toys_acc: 1.0000 - val_loss: 16.7603 - val_blurred_loss: 0.3326 - val_looking_away_loss: 0.7464 - val_ink_marked_creased_loss: 0.1524 - val_unnatural_skin_tone_loss: 2.1379 - val_too_dark_light_loss: 0.4306 - val_washed_out_loss: 0.9176 - val_pixelation_loss: 0.2169 - val_hair_across_eyes_loss: 0.8828 - val_eyes_closed_loss: 0.5892 - val_varied_background_loss: 1.5817 - val_roll_pitch_yaw_loss: 0.9759 - val_flash_reflection_on_skin_loss: 1.7067 - val_red_eyes_loss: 0.8761 - val_shadows_behind_head_loss: 0.1471 - val_shadows_across_face_loss: 2.1490 - val_dark_tinted_lenses_loss: 0.1231 - val_flash_reflection_on_lenses_loss: 0.4060 - val_frames_too_heavy_loss: 0.1274 - val_frame_covering_eyes_loss: 0.7283 - val_hat_cap_loss: 0.1396 - val_veil_over_face_loss: 0.0460 - val_mouth_open_loss: 1.1676 - val_presence_of_other_faces_or_toys_loss: 0.1794 - val_blurred_acc: 0.8655 - val_looking_away_acc: 0.7876 - val_ink_marked_creased_acc: 0.9133 - val_unnatural_skin_tone_acc: 0.7310 - val_too_dark_light_acc: 0.8814 - val_washed_out_acc: 0.9398 - val_pixelation_acc: 0.9522 - val_hair_across_eyes_acc: 0.9027 - val_eyes_closed_acc: 0.8673 - val_varied_background_acc: 0.8319 - val_roll_pitch_yaw_acc: 0.8283 - val_flash_reflection_on_skin_acc: 0.6832 - val_red_eyes_acc: 0.7593 - val_shadows_behind_head_acc: 0.9504 - val_shadows_across_face_acc: 0.7097 - val_dark_tinted_lenses_acc: 0.9805 - val_flash_reflection_on_lenses_acc: 0.9062 - val_frames_too_heavy_acc: 0.9575 - val_frame_covering_eyes_acc: 0.8761 - val_hat_cap_acc: 0.9593 - val_veil_over_face_acc: 0.9858 - val_mouth_open_acc: 0.6850 - val_presence_of_other_faces_or_toys_acc: 0.9805\n"
     ]
    },
    {
     "data": {
      "text/html": [
       "<div>\n",
       "<style scoped>\n",
       "    .dataframe tbody tr th:only-of-type {\n",
       "        vertical-align: middle;\n",
       "    }\n",
       "\n",
       "    .dataframe tbody tr th {\n",
       "        vertical-align: top;\n",
       "    }\n",
       "\n",
       "    .dataframe thead th {\n",
       "        text-align: right;\n",
       "    }\n",
       "</style>\n",
       "<table border=\"1\" class=\"dataframe\">\n",
       "  <thead>\n",
       "    <tr style=\"text-align: right;\">\n",
       "      <th></th>\n",
       "      <th>loss_train</th>\n",
       "      <th>loss_val</th>\n",
       "      <th>acc_train</th>\n",
       "      <th>acc_val</th>\n",
       "    </tr>\n",
       "  </thead>\n",
       "  <tbody>\n",
       "    <tr>\n",
       "      <th>blurred</th>\n",
       "      <td>0.203703</td>\n",
       "      <td>0.332623</td>\n",
       "      <td>92.362311</td>\n",
       "      <td>86.548673</td>\n",
       "    </tr>\n",
       "    <tr>\n",
       "      <th>looking_away</th>\n",
       "      <td>0.448661</td>\n",
       "      <td>0.746433</td>\n",
       "      <td>82.671272</td>\n",
       "      <td>78.761062</td>\n",
       "    </tr>\n",
       "    <tr>\n",
       "      <th>ink_marked_creased</th>\n",
       "      <td>0.044542</td>\n",
       "      <td>0.152446</td>\n",
       "      <td>98.388025</td>\n",
       "      <td>91.327434</td>\n",
       "    </tr>\n",
       "    <tr>\n",
       "      <th>unnatural_skin_tone</th>\n",
       "      <td>0.082845</td>\n",
       "      <td>2.137874</td>\n",
       "      <td>96.967952</td>\n",
       "      <td>73.097345</td>\n",
       "    </tr>\n",
       "    <tr>\n",
       "      <th>too_dark_light</th>\n",
       "      <td>0.068234</td>\n",
       "      <td>0.430596</td>\n",
       "      <td>97.562848</td>\n",
       "      <td>88.141593</td>\n",
       "    </tr>\n",
       "    <tr>\n",
       "      <th>washed_out</th>\n",
       "      <td>0.000153</td>\n",
       "      <td>0.917637</td>\n",
       "      <td>100.000000</td>\n",
       "      <td>93.982301</td>\n",
       "    </tr>\n",
       "    <tr>\n",
       "      <th>pixelation</th>\n",
       "      <td>0.145936</td>\n",
       "      <td>0.216875</td>\n",
       "      <td>94.741892</td>\n",
       "      <td>95.221239</td>\n",
       "    </tr>\n",
       "    <tr>\n",
       "      <th>hair_across_eyes</th>\n",
       "      <td>0.089321</td>\n",
       "      <td>0.882789</td>\n",
       "      <td>97.025523</td>\n",
       "      <td>90.265487</td>\n",
       "    </tr>\n",
       "    <tr>\n",
       "      <th>eyes_closed</th>\n",
       "      <td>0.261642</td>\n",
       "      <td>0.589228</td>\n",
       "      <td>90.558434</td>\n",
       "      <td>86.725664</td>\n",
       "    </tr>\n",
       "    <tr>\n",
       "      <th>varied_background</th>\n",
       "      <td>0.106035</td>\n",
       "      <td>1.581714</td>\n",
       "      <td>96.545769</td>\n",
       "      <td>83.185841</td>\n",
       "    </tr>\n",
       "    <tr>\n",
       "      <th>roll_pitch_yaw</th>\n",
       "      <td>0.409281</td>\n",
       "      <td>0.975855</td>\n",
       "      <td>82.594512</td>\n",
       "      <td>82.831858</td>\n",
       "    </tr>\n",
       "    <tr>\n",
       "      <th>flash_reflection_on_skin</th>\n",
       "      <td>0.200214</td>\n",
       "      <td>1.706671</td>\n",
       "      <td>92.611783</td>\n",
       "      <td>68.318584</td>\n",
       "    </tr>\n",
       "    <tr>\n",
       "      <th>red_eyes</th>\n",
       "      <td>0.226055</td>\n",
       "      <td>0.876118</td>\n",
       "      <td>91.479562</td>\n",
       "      <td>75.929204</td>\n",
       "    </tr>\n",
       "    <tr>\n",
       "      <th>shadows_behind_head</th>\n",
       "      <td>0.305132</td>\n",
       "      <td>0.147122</td>\n",
       "      <td>88.313184</td>\n",
       "      <td>95.044248</td>\n",
       "    </tr>\n",
       "    <tr>\n",
       "      <th>shadows_across_face</th>\n",
       "      <td>0.152456</td>\n",
       "      <td>2.149009</td>\n",
       "      <td>94.837843</td>\n",
       "      <td>70.973451</td>\n",
       "    </tr>\n",
       "    <tr>\n",
       "      <th>dark_tinted_lenses</th>\n",
       "      <td>0.071771</td>\n",
       "      <td>0.123063</td>\n",
       "      <td>97.869891</td>\n",
       "      <td>98.053097</td>\n",
       "    </tr>\n",
       "    <tr>\n",
       "      <th>flash_reflection_on_lenses</th>\n",
       "      <td>0.176260</td>\n",
       "      <td>0.405971</td>\n",
       "      <td>93.436960</td>\n",
       "      <td>90.619469</td>\n",
       "    </tr>\n",
       "    <tr>\n",
       "      <th>frames_too_heavy</th>\n",
       "      <td>0.087529</td>\n",
       "      <td>0.127375</td>\n",
       "      <td>96.891192</td>\n",
       "      <td>95.752212</td>\n",
       "    </tr>\n",
       "    <tr>\n",
       "      <th>frame_covering_eyes</th>\n",
       "      <td>0.210555</td>\n",
       "      <td>0.728314</td>\n",
       "      <td>91.920936</td>\n",
       "      <td>87.610619</td>\n",
       "    </tr>\n",
       "    <tr>\n",
       "      <th>hat_cap</th>\n",
       "      <td>0.082926</td>\n",
       "      <td>0.139581</td>\n",
       "      <td>97.390136</td>\n",
       "      <td>95.929204</td>\n",
       "    </tr>\n",
       "    <tr>\n",
       "      <th>veil_over_face</th>\n",
       "      <td>0.021168</td>\n",
       "      <td>0.045950</td>\n",
       "      <td>99.309154</td>\n",
       "      <td>98.584071</td>\n",
       "    </tr>\n",
       "    <tr>\n",
       "      <th>mouth_open</th>\n",
       "      <td>0.310627</td>\n",
       "      <td>1.167648</td>\n",
       "      <td>86.355786</td>\n",
       "      <td>68.495575</td>\n",
       "    </tr>\n",
       "    <tr>\n",
       "      <th>presence_of_other_faces_or_toys</th>\n",
       "      <td>0.000895</td>\n",
       "      <td>0.179437</td>\n",
       "      <td>100.000000</td>\n",
       "      <td>98.053097</td>\n",
       "    </tr>\n",
       "  </tbody>\n",
       "</table>\n",
       "</div>"
      ],
      "text/plain": [
       "                                 loss_train  loss_val   acc_train    acc_val\n",
       "blurred                            0.203703  0.332623   92.362311  86.548673\n",
       "looking_away                       0.448661  0.746433   82.671272  78.761062\n",
       "ink_marked_creased                 0.044542  0.152446   98.388025  91.327434\n",
       "unnatural_skin_tone                0.082845  2.137874   96.967952  73.097345\n",
       "too_dark_light                     0.068234  0.430596   97.562848  88.141593\n",
       "washed_out                         0.000153  0.917637  100.000000  93.982301\n",
       "pixelation                         0.145936  0.216875   94.741892  95.221239\n",
       "hair_across_eyes                   0.089321  0.882789   97.025523  90.265487\n",
       "eyes_closed                        0.261642  0.589228   90.558434  86.725664\n",
       "varied_background                  0.106035  1.581714   96.545769  83.185841\n",
       "roll_pitch_yaw                     0.409281  0.975855   82.594512  82.831858\n",
       "flash_reflection_on_skin           0.200214  1.706671   92.611783  68.318584\n",
       "red_eyes                           0.226055  0.876118   91.479562  75.929204\n",
       "shadows_behind_head                0.305132  0.147122   88.313184  95.044248\n",
       "shadows_across_face                0.152456  2.149009   94.837843  70.973451\n",
       "dark_tinted_lenses                 0.071771  0.123063   97.869891  98.053097\n",
       "flash_reflection_on_lenses         0.176260  0.405971   93.436960  90.619469\n",
       "frames_too_heavy                   0.087529  0.127375   96.891192  95.752212\n",
       "frame_covering_eyes                0.210555  0.728314   91.920936  87.610619\n",
       "hat_cap                            0.082926  0.139581   97.390136  95.929204\n",
       "veil_over_face                     0.021168  0.045950   99.309154  98.584071\n",
       "mouth_open                         0.310627  1.167648   86.355786  68.495575\n",
       "presence_of_other_faces_or_toys    0.000895  0.179437  100.000000  98.053097"
      ]
     },
     "execution_count": 8,
     "metadata": {},
     "output_type": "execute_result"
    }
   ],
   "source": [
    "hist = model.fit(train_features, \n",
    "                 np.hsplit(y_train, range(1, y_train.shape[1])), \n",
    "                 batch_size=32, \n",
    "                 epochs=30, \n",
    "                 validation_data=(val_features, np.hsplit(y_val, range(1, y_val.shape[1]))))\n",
    "\n",
    "save_history(hist.history, 'images/history.pdf')\n",
    "history_to_dataframe(hist.history)"
   ]
  },
  {
   "cell_type": "code",
   "execution_count": 9,
   "metadata": {},
   "outputs": [],
   "source": [
    "y_trues = np.hsplit(y_val, range(1, y_val.shape[1]))\n",
    "y_preds = model.predict(val_features)\n",
    "\n",
    "save_heatmaps(y_trues, y_preds, output_file='images/heatmaps.pdf')"
   ]
  },
  {
   "cell_type": "code",
   "execution_count": null,
   "metadata": {},
   "outputs": [],
   "source": []
  }
 ],
 "metadata": {
  "kernelspec": {
   "display_name": "Python 3",
   "language": "python",
   "name": "python3"
  },
  "language_info": {
   "codemirror_mode": {
    "name": "ipython",
    "version": 3
   },
   "file_extension": ".py",
   "mimetype": "text/x-python",
   "name": "python",
   "nbconvert_exporter": "python",
   "pygments_lexer": "ipython3",
   "version": "3.6.8"
  }
 },
 "nbformat": 4,
 "nbformat_minor": 2
}
