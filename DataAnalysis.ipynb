{
 "cells": [
  {
   "cell_type": "code",
   "execution_count": 1,
   "metadata": {
    "collapsed": true
   },
   "outputs": [],
   "source": [
    "import numpy as np\n",
    "import pandas as pd\n",
    "import matplotlib.pyplot as plt\n",
    "\n",
    "%matplotlib inline"
   ]
  },
  {
   "cell_type": "code",
   "execution_count": 2,
   "metadata": {
    "collapsed": false
   },
   "outputs": [],
   "source": [
    "class Point:\n",
    "    def __init__(self, x, y):\n",
    "        self.x = x\n",
    "        self.y = y\n",
    "        \n",
    "    def __str__(self):\n",
    "        return '({}, {})'.format(self.x, self.y)\n",
    "\n",
    "class Eye:\n",
    "    def __init__(self, x_left, y_left, x_right, y_right):\n",
    "        self.left_corner = Point(x_left, y_left)\n",
    "        self.right_corner = Point(x_right, y_right)\n",
    "        \n",
    "    def __str__(self):\n",
    "        return 'left corner: {} right_corner: {}'.format(self.left_corner, self.right_corner)\n",
    "    \n",
    "class Requirement():\n",
    "    def __init__(self, number, description, value):\n",
    "        self.number = number\n",
    "        self.description = description\n",
    "        self.value = value\n",
    "\n",
    "    def __str__(self):\n",
    "        return '[{:02}] {}: {}'.format(self.number, self.description, self.value)\n",
    "\n",
    "class PhotographicRequirements():\n",
    "    \"\"\"Photographic and pose-especific tests\"\"\"\n",
    "    def __init__(self, blurred, looking_away, ink_marked_creased, unnatural_skin_tone, too_dark_light, washed_out, pixelation, hair_across_eyes, eyes_closed, varied_background, roll_pitch_yaw, flash_reflection_on_skin, red_eyes, shadows_behind_head, shadows_across_face, dark_tinted_lenses, flash_reflection_on_lenses, frames_too_heavy, frame_covering_eyes, hat_cap, veil_over_face, mouth_open, presence_of_other_faces_or_toys):\n",
    "        self.blurred = Requirement(2, 'Blurred', blurred)\n",
    "        self.looking_away = Requirement(3, 'Looking away', looking_away)\n",
    "        self.ink_marked_creased = Requirement(4, 'Ink marked/creased', ink_marked_creased)\n",
    "        self.unnatural_skin_tone = Requirement(5, 'Unnatural skin tone', unnatural_skin_tone)\n",
    "        self.too_dark_light = Requirement(6, 'Too dark/light', too_dark_light)\n",
    "        self.washed_out = Requirement(7, 'Washed out', washed_out)\n",
    "        self.pixelation = Requirement(8, 'Pixelation', pixelation)\n",
    "        self.hair_across_eyes = Requirement(9, 'Hair across eyes', hair_across_eyes)\n",
    "        self.eyes_closed = Requirement(10, 'Eyes closed', eyes_closed)\n",
    "        self.varied_background = Requirement(11, 'Varied background', varied_background)\n",
    "        self.roll_pitch_yaw = Requirement(12, 'Roll/pitch/yaw rotations greater than a predefined thresholds', roll_pitch_yaw)\n",
    "        self.flash_reflection_on_skin = Requirement(13, 'Flash reflection on skin', flash_reflection_on_skin)\n",
    "        self.red_eyes = Requirement(14, 'Red eyes', red_eyes)\n",
    "        self.shadows_behind_head = Requirement(15, 'Shadows behind head', shadows_behind_head)\n",
    "        self.shadows_across_face = Requirement(16, 'Shadows across face', shadows_across_face)\n",
    "        self.dark_tinted_lenses = Requirement(17, 'Dark tinted lenses', dark_tinted_lenses)\n",
    "        self.flash_reflection_on_lenses = Requirement(18, 'Flash reflection on lenses', flash_reflection_on_lenses)\n",
    "        self.frames_too_heavy = Requirement(19, 'Frames too heavy', frames_too_heavy)\n",
    "        self.frame_covering_eyes = Requirement(20, 'Frame covering eyes', frame_covering_eyes)\n",
    "        self.hat_cap = Requirement(21, 'Hat/cap', hat_cap)\n",
    "        self.veil_over_face = Requirement(22, 'Veil over face', veil_over_face)\n",
    "        self.mouth_open = Requirement(23, 'Mouth open', mouth_open)\n",
    "        self.presence_of_other_faces_or_toys = Requirement(24, 'Presence of other faces or toys too close to face', presence_of_other_faces_or_toys)    \n",
    "        self.__list_reqs = [self.blurred, self.looking_away, self.ink_marked_creased, self.unnatural_skin_tone, self.too_dark_light, self.washed_out, self.pixelation, self.hair_across_eyes, self.eyes_closed, self.varied_background, self.roll_pitch_yaw, self.flash_reflection_on_skin, self.red_eyes, self.shadows_behind_head, self.shadows_across_face, self.dark_tinted_lenses, self.flash_reflection_on_lenses, self.frames_too_heavy, self.frame_covering_eyes, self.hat_cap, self.veil_over_face, self.mouth_open, self.presence_of_other_faces_or_toys] \n",
    "\n",
    "    def __iter__(self):\n",
    "        for requirement in self.__list_reqs:\n",
    "            yield requirement\n",
    "\n",
    "    def __str__(self):        \n",
    "        return '\\n'.join([req.__str__() for req in self.__list_reqs])\n",
    "\n",
    "class MRKFile():\n",
    "    def __init__(self, file_path):\n",
    "        self.file_path = file_path\n",
    "        self.right_eye = None\n",
    "        self.left_eye = None\n",
    "        self.photo_reqs = None\n",
    "        self.__load()\n",
    "            \n",
    "    def __load(self):\n",
    "        with open(self.file_path, 'r') as mrk_file:\n",
    "            self.right_eye = Eye(*mrk_file.readline().replace('\\n', '').split(' '))\n",
    "            self.left_eye = Eye(*mrk_file.readline().replace('\\n', '').split(' '))\n",
    "            self.photo_reqs = PhotographicRequirements(*[int(line.replace('\\n', '')) for line in mrk_file.readlines()])\n",
    "            \n",
    "    def __str__(self):\n",
    "        output_str = 'Right Eye => {}\\n'.format(self.right_eye.__str__())\n",
    "        output_str += ' Left Eye => {}\\n'.format(self.left_eye.__str__())\n",
    "        output_str += self.photo_reqs.__str__()\n",
    "        return output_str"
   ]
  },
  {
   "cell_type": "code",
   "execution_count": 3,
   "metadata": {
    "collapsed": false
   },
   "outputs": [],
   "source": [
    "image_file = 'data/FVC/images/AR_m-001-4.png'\n",
    "mrk_path = 'data/FVC/ground_truth/AR_m-001-1_CRS.mrk'\n",
    "\n",
    "mrk_file = MRKFile(mrk_path)"
   ]
  },
  {
   "cell_type": "code",
   "execution_count": 4,
   "metadata": {
    "collapsed": false
   },
   "outputs": [
    {
     "name": "stdout",
     "output_type": "stream",
     "text": [
      "left corner: (300, 270) right_corner: (353, 274)\n",
      "left corner: (403, 272) right_corner: (459, 271)\n"
     ]
    }
   ],
   "source": [
    "print(mrk_file.right_eye)\n",
    "print(mrk_file.left_eye)"
   ]
  },
  {
   "cell_type": "code",
   "execution_count": 5,
   "metadata": {
    "collapsed": false
   },
   "outputs": [
    {
     "name": "stdout",
     "output_type": "stream",
     "text": [
      "[02] Blurred: 1\n",
      "[03] Looking away: 1\n",
      "[04] Ink marked/creased: 0\n",
      "[05] Unnatural skin tone: -1\n",
      "[06] Too dark/light: 1\n",
      "[07] Washed out: 0\n",
      "[08] Pixelation: 1\n",
      "[09] Hair across eyes: 1\n",
      "[10] Eyes closed: 1\n",
      "[11] Varied background: -1\n",
      "[12] Roll/pitch/yaw rotations greater than a predefined thresholds: 1\n",
      "[13] Flash reflection on skin: -1\n",
      "[14] Red eyes: 1\n",
      "[15] Shadows behind head: 1\n",
      "[16] Shadows across face: 1\n",
      "[17] Dark tinted lenses: 1\n",
      "[18] Flash reflection on lenses: 1\n",
      "[19] Frames too heavy: 1\n",
      "[20] Frame covering eyes: 1\n",
      "[21] Hat/cap: 1\n",
      "[22] Veil over face: 1\n",
      "[23] Mouth open: 1\n",
      "[24] Presence of other faces or toys too close to face: 1\n"
     ]
    }
   ],
   "source": [
    "print(mrk_file.photo_reqs)"
   ]
  },
  {
   "cell_type": "code",
   "execution_count": 6,
   "metadata": {
    "collapsed": false
   },
   "outputs": [
    {
     "name": "stdout",
     "output_type": "stream",
     "text": [
      "Right Eye => left corner: (300, 270) right_corner: (353, 274)\n",
      " Left Eye => left corner: (403, 272) right_corner: (459, 271)\n",
      "[02] Blurred: 1\n",
      "[03] Looking away: 1\n",
      "[04] Ink marked/creased: 0\n",
      "[05] Unnatural skin tone: -1\n",
      "[06] Too dark/light: 1\n",
      "[07] Washed out: 0\n",
      "[08] Pixelation: 1\n",
      "[09] Hair across eyes: 1\n",
      "[10] Eyes closed: 1\n",
      "[11] Varied background: -1\n",
      "[12] Roll/pitch/yaw rotations greater than a predefined thresholds: 1\n",
      "[13] Flash reflection on skin: -1\n",
      "[14] Red eyes: 1\n",
      "[15] Shadows behind head: 1\n",
      "[16] Shadows across face: 1\n",
      "[17] Dark tinted lenses: 1\n",
      "[18] Flash reflection on lenses: 1\n",
      "[19] Frames too heavy: 1\n",
      "[20] Frame covering eyes: 1\n",
      "[21] Hat/cap: 1\n",
      "[22] Veil over face: 1\n",
      "[23] Mouth open: 1\n",
      "[24] Presence of other faces or toys too close to face: 1\n"
     ]
    }
   ],
   "source": [
    "print(mrk_file)"
   ]
  }
 ],
 "metadata": {
  "kernelspec": {
   "display_name": "Python 3",
   "language": "python",
   "name": "python3"
  },
  "language_info": {
   "codemirror_mode": {
    "name": "ipython",
    "version": 3
   },
   "file_extension": ".py",
   "mimetype": "text/x-python",
   "name": "python",
   "nbconvert_exporter": "python",
   "pygments_lexer": "ipython3",
   "version": "3.5.5"
  }
 },
 "nbformat": 4,
 "nbformat_minor": 2
}
