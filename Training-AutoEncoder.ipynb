{
 "cells": [
  {
   "cell_type": "code",
   "execution_count": 7,
   "metadata": {},
   "outputs": [],
   "source": [
    "from sys import path\n",
    "path.append('src/')\n",
    "\n",
    "import numpy as np\n",
    "import matplotlib.pyplot as plt\n",
    "from src.utils import load, plot\n",
    "from keras.layers import Dense, GlobalAvgPool2D\n",
    "from keras.models import Model, load_model\n",
    "from sklearn.metrics import confusion_matrix, classification_report\n",
    "from sklearn.model_selection import train_test_split\n",
    "\n",
    "%matplotlib inline"
   ]
  },
  {
   "cell_type": "markdown",
   "metadata": {},
   "source": [
    "# Load Model "
   ]
  },
  {
   "cell_type": "code",
   "execution_count": 2,
   "metadata": {},
   "outputs": [
    {
     "name": "stdout",
     "output_type": "stream",
     "text": [
      "WARNING:tensorflow:From C:\\Users\\Vsoft\\Miniconda3\\envs\\deeplearning-gpu\\lib\\site-packages\\tensorflow\\python\\framework\\op_def_library.py:263: colocate_with (from tensorflow.python.framework.ops) is deprecated and will be removed in a future version.\n",
      "Instructions for updating:\n",
      "Colocations handled automatically by placer.\n",
      "WARNING:tensorflow:From C:\\Users\\Vsoft\\Miniconda3\\envs\\deeplearning-gpu\\lib\\site-packages\\tensorflow\\python\\ops\\math_ops.py:3066: to_int32 (from tensorflow.python.ops.math_ops) is deprecated and will be removed in a future version.\n",
      "Instructions for updating:\n",
      "Use tf.cast instead.\n",
      "_________________________________________________________________\n",
      "Layer (type)                 Output Shape              Param #   \n",
      "=================================================================\n",
      "input (InputLayer)           (None, 224, 224, 3)       0         \n",
      "_________________________________________________________________\n",
      "conv_1 (Conv2D)              (None, 224, 224, 16)      448       \n",
      "_________________________________________________________________\n",
      "bn_1 (BatchNormalization)    (None, 224, 224, 16)      64        \n",
      "_________________________________________________________________\n",
      "relu_1 (Activation)          (None, 224, 224, 16)      0         \n",
      "_________________________________________________________________\n",
      "pool_1 (MaxPooling2D)        (None, 112, 112, 16)      0         \n",
      "_________________________________________________________________\n",
      "conv_2 (Conv2D)              (None, 112, 112, 32)      4640      \n",
      "_________________________________________________________________\n",
      "bn_2 (BatchNormalization)    (None, 112, 112, 32)      128       \n",
      "_________________________________________________________________\n",
      "relu_2 (Activation)          (None, 112, 112, 32)      0         \n",
      "_________________________________________________________________\n",
      "pool_2 (MaxPooling2D)        (None, 56, 56, 32)        0         \n",
      "_________________________________________________________________\n",
      "conv_3 (Conv2D)              (None, 56, 56, 64)        18496     \n",
      "_________________________________________________________________\n",
      "bn_3 (BatchNormalization)    (None, 56, 56, 64)        256       \n",
      "_________________________________________________________________\n",
      "relu_3 (Activation)          (None, 56, 56, 64)        0         \n",
      "_________________________________________________________________\n",
      "pool_3 (MaxPooling2D)        (None, 28, 28, 64)        0         \n",
      "_________________________________________________________________\n",
      "conv_4 (Conv2D)              (None, 28, 28, 128)       73856     \n",
      "_________________________________________________________________\n",
      "bn_4 (BatchNormalization)    (None, 28, 28, 128)       512       \n",
      "_________________________________________________________________\n",
      "relu_4 (Activation)          (None, 28, 28, 128)       0         \n",
      "_________________________________________________________________\n",
      "pool_4 (MaxPooling2D)        (None, 14, 14, 128)       0         \n",
      "_________________________________________________________________\n",
      "conv_5 (Conv2D)              (None, 14, 14, 256)       295168    \n",
      "_________________________________________________________________\n",
      "bn_5 (BatchNormalization)    (None, 14, 14, 256)       1024      \n",
      "_________________________________________________________________\n",
      "encoded (Activation)         (None, 14, 14, 256)       0         \n",
      "_________________________________________________________________\n",
      "embeddings (GlobalAveragePoo (None, 256)               0         \n",
      "=================================================================\n",
      "Total params: 394,592\n",
      "Trainable params: 393,600\n",
      "Non-trainable params: 992\n",
      "_________________________________________________________________\n"
     ]
    }
   ],
   "source": [
    "model = load_model('models/model_2019-6-17_12-29-19.hdf5')\n",
    "\n",
    "embeddings = GlobalAvgPool2D(name='embeddings')(model.get_layer(name='encoded').output)\n",
    "\n",
    "encoder = Model(inputs=model.inputs, outputs=embeddings)\n",
    "encoder.summary()"
   ]
  },
  {
   "cell_type": "markdown",
   "metadata": {},
   "source": [
    "# 11. Varied Background"
   ]
  },
  {
   "cell_type": "code",
   "execution_count": 3,
   "metadata": {},
   "outputs": [
    {
     "name": "stdout",
     "output_type": "stream",
     "text": [
      "9000 of 9000\n"
     ]
    }
   ],
   "source": [
    "mrk_files = load.mrk_files_from_folder('data/augmentation/11-varied_bgd/')\n",
    "img_files = [mrk.file_path.replace('.mrk', '.png') for mrk in mrk_files]"
   ]
  },
  {
   "cell_type": "code",
   "execution_count": 4,
   "metadata": {},
   "outputs": [
    {
     "name": "stdout",
     "output_type": "stream",
     "text": [
      "9000 of 9000\n",
      "(9000, 224, 224, 3) float32\n",
      "(9000,) int32\n",
      "(array([-1,  0,  1]), array([3000, 3000, 3000], dtype=int64))\n"
     ]
    }
   ],
   "source": [
    "x = load.images_from_list_files(img_files)\n",
    "y = np.array([mrk.photo_reqs.varied_background.value for mrk in mrk_files])\n",
    "\n",
    "print(x.shape, x.dtype)\n",
    "print(y.shape, y.dtype)\n",
    "print(np.unique(y, return_counts=True))"
   ]
  },
  {
   "cell_type": "code",
   "execution_count": 5,
   "metadata": {},
   "outputs": [
    {
     "name": "stdout",
     "output_type": "stream",
     "text": [
      "(8100, 224, 224, 3) (8100,)\n",
      "(900, 224, 224, 3) (900,)\n"
     ]
    }
   ],
   "source": [
    "x_train, x_val, y_train, y_val = train_test_split(x, y, test_size=0.1, stratify=y, random_state=42)\n",
    "\n",
    "print(x_train.shape, y_train.shape)\n",
    "print(x_val.shape, y_val.shape)"
   ]
  },
  {
   "cell_type": "code",
   "execution_count": 6,
   "metadata": {
    "scrolled": false
   },
   "outputs": [
    {
     "name": "stdout",
     "output_type": "stream",
     "text": [
      "_________________________________________________________________\n",
      "Layer (type)                 Output Shape              Param #   \n",
      "=================================================================\n",
      "input (InputLayer)           (None, 224, 224, 3)       0         \n",
      "_________________________________________________________________\n",
      "conv_1 (Conv2D)              (None, 224, 224, 16)      448       \n",
      "_________________________________________________________________\n",
      "bn_1 (BatchNormalization)    (None, 224, 224, 16)      64        \n",
      "_________________________________________________________________\n",
      "relu_1 (Activation)          (None, 224, 224, 16)      0         \n",
      "_________________________________________________________________\n",
      "pool_1 (MaxPooling2D)        (None, 112, 112, 16)      0         \n",
      "_________________________________________________________________\n",
      "conv_2 (Conv2D)              (None, 112, 112, 32)      4640      \n",
      "_________________________________________________________________\n",
      "bn_2 (BatchNormalization)    (None, 112, 112, 32)      128       \n",
      "_________________________________________________________________\n",
      "relu_2 (Activation)          (None, 112, 112, 32)      0         \n",
      "_________________________________________________________________\n",
      "pool_2 (MaxPooling2D)        (None, 56, 56, 32)        0         \n",
      "_________________________________________________________________\n",
      "conv_3 (Conv2D)              (None, 56, 56, 64)        18496     \n",
      "_________________________________________________________________\n",
      "bn_3 (BatchNormalization)    (None, 56, 56, 64)        256       \n",
      "_________________________________________________________________\n",
      "relu_3 (Activation)          (None, 56, 56, 64)        0         \n",
      "_________________________________________________________________\n",
      "pool_3 (MaxPooling2D)        (None, 28, 28, 64)        0         \n",
      "_________________________________________________________________\n",
      "conv_4 (Conv2D)              (None, 28, 28, 128)       73856     \n",
      "_________________________________________________________________\n",
      "bn_4 (BatchNormalization)    (None, 28, 28, 128)       512       \n",
      "_________________________________________________________________\n",
      "relu_4 (Activation)          (None, 28, 28, 128)       0         \n",
      "_________________________________________________________________\n",
      "pool_4 (MaxPooling2D)        (None, 14, 14, 128)       0         \n",
      "_________________________________________________________________\n",
      "conv_5 (Conv2D)              (None, 14, 14, 256)       295168    \n",
      "_________________________________________________________________\n",
      "bn_5 (BatchNormalization)    (None, 14, 14, 256)       1024      \n",
      "_________________________________________________________________\n",
      "encoded (Activation)         (None, 14, 14, 256)       0         \n",
      "_________________________________________________________________\n",
      "embeddings (GlobalAveragePoo (None, 256)               0         \n",
      "_________________________________________________________________\n",
      "dense_varied_background (Den (None, 64)                16448     \n",
      "_________________________________________________________________\n",
      "varied_background (Dense)    (None, 3)                 195       \n",
      "=================================================================\n",
      "Total params: 411,235\n",
      "Trainable params: 16,643\n",
      "Non-trainable params: 394,592\n",
      "_________________________________________________________________\n",
      "Train on 8100 samples, validate on 900 samples\n",
      "Epoch 1/30\n",
      "8100/8100 [==============================] - 8s 949us/step - loss: 0.6727 - acc: 0.7117 - val_loss: 0.6173 - val_acc: 0.7411\n",
      "Epoch 2/30\n",
      "8100/8100 [==============================] - 6s 738us/step - loss: 0.5811 - acc: 0.7491 - val_loss: 0.5759 - val_acc: 0.7367\n",
      "Epoch 3/30\n",
      "8100/8100 [==============================] - 6s 728us/step - loss: 0.5620 - acc: 0.7505 - val_loss: 0.5655 - val_acc: 0.7656\n",
      "Epoch 4/30\n",
      "8100/8100 [==============================] - 6s 729us/step - loss: 0.5498 - acc: 0.7563 - val_loss: 0.5483 - val_acc: 0.7689\n",
      "Epoch 5/30\n",
      "8100/8100 [==============================] - 6s 730us/step - loss: 0.5381 - acc: 0.7614 - val_loss: 0.5259 - val_acc: 0.7622\n",
      "Epoch 6/30\n",
      "8100/8100 [==============================] - 6s 729us/step - loss: 0.5319 - acc: 0.7662 - val_loss: 0.5239 - val_acc: 0.7633\n",
      "Epoch 7/30\n",
      "8100/8100 [==============================] - 6s 728us/step - loss: 0.5233 - acc: 0.7694 - val_loss: 0.5664 - val_acc: 0.7556\n",
      "Epoch 8/30\n",
      "8100/8100 [==============================] - 6s 733us/step - loss: 0.5230 - acc: 0.7710 - val_loss: 0.5369 - val_acc: 0.7667\n",
      "Epoch 9/30\n",
      "8100/8100 [==============================] - 6s 726us/step - loss: 0.5143 - acc: 0.7711 - val_loss: 0.5025 - val_acc: 0.7700\n",
      "Epoch 10/30\n",
      "8100/8100 [==============================] - 6s 728us/step - loss: 0.5120 - acc: 0.7725 - val_loss: 0.5093 - val_acc: 0.7778\n",
      "Epoch 11/30\n",
      "8100/8100 [==============================] - 6s 727us/step - loss: 0.5000 - acc: 0.7794 - val_loss: 0.5400 - val_acc: 0.7589\n",
      "Epoch 12/30\n",
      "8100/8100 [==============================] - 6s 737us/step - loss: 0.5030 - acc: 0.7742 - val_loss: 0.6076 - val_acc: 0.7722\n",
      "Epoch 13/30\n",
      "8100/8100 [==============================] - 6s 731us/step - loss: 0.4987 - acc: 0.7788 - val_loss: 0.5228 - val_acc: 0.7756\n",
      "Epoch 14/30\n",
      "8100/8100 [==============================] - 6s 726us/step - loss: 0.4887 - acc: 0.7842 - val_loss: 0.6479 - val_acc: 0.7389\n",
      "Epoch 15/30\n",
      "8100/8100 [==============================] - 6s 726us/step - loss: 0.4863 - acc: 0.7821 - val_loss: 0.7328 - val_acc: 0.6367\n",
      "Epoch 16/30\n",
      "8100/8100 [==============================] - 6s 727us/step - loss: 0.4841 - acc: 0.7843 - val_loss: 0.6286 - val_acc: 0.6933\n",
      "Epoch 17/30\n",
      "8100/8100 [==============================] - 6s 731us/step - loss: 0.4841 - acc: 0.7847 - val_loss: 0.6598 - val_acc: 0.7489\n",
      "Epoch 18/30\n",
      "8100/8100 [==============================] - 6s 729us/step - loss: 0.4809 - acc: 0.7840 - val_loss: 0.8254 - val_acc: 0.5500\n",
      "Epoch 19/30\n",
      "8100/8100 [==============================] - 6s 730us/step - loss: 0.4707 - acc: 0.7910 - val_loss: 0.7462 - val_acc: 0.6744\n",
      "Epoch 20/30\n",
      "8100/8100 [==============================] - 6s 729us/step - loss: 0.4682 - acc: 0.7933 - val_loss: 0.9794 - val_acc: 0.5300\n",
      "Epoch 21/30\n",
      "8100/8100 [==============================] - 6s 729us/step - loss: 0.4668 - acc: 0.7901 - val_loss: 1.0082 - val_acc: 0.5189\n",
      "Epoch 22/30\n",
      "8100/8100 [==============================] - 6s 728us/step - loss: 0.4694 - acc: 0.7911 - val_loss: 1.0075 - val_acc: 0.5189\n",
      "Epoch 23/30\n",
      "8100/8100 [==============================] - 6s 733us/step - loss: 0.4587 - acc: 0.7964 - val_loss: 0.8403 - val_acc: 0.5989\n",
      "Epoch 24/30\n",
      "8100/8100 [==============================] - 6s 728us/step - loss: 0.4570 - acc: 0.7973 - val_loss: 0.8169 - val_acc: 0.6556\n",
      "Epoch 25/30\n",
      "8100/8100 [==============================] - 6s 732us/step - loss: 0.4514 - acc: 0.7995 - val_loss: 0.7588 - val_acc: 0.6544\n",
      "Epoch 26/30\n",
      "8100/8100 [==============================] - 6s 732us/step - loss: 0.4541 - acc: 0.7975 - val_loss: 1.1430 - val_acc: 0.5189\n",
      "Epoch 27/30\n",
      "8100/8100 [==============================] - 6s 734us/step - loss: 0.4555 - acc: 0.7983 - val_loss: 0.7108 - val_acc: 0.6122\n",
      "Epoch 28/30\n",
      "8100/8100 [==============================] - 6s 733us/step - loss: 0.4440 - acc: 0.8085 - val_loss: 1.3171 - val_acc: 0.5100\n",
      "Epoch 29/30\n",
      "8100/8100 [==============================] - 6s 734us/step - loss: 0.4457 - acc: 0.8065 - val_loss: 1.1873 - val_acc: 0.5122\n",
      "Epoch 30/30\n",
      "8100/8100 [==============================] - 6s 734us/step - loss: 0.4395 - acc: 0.8059 - val_loss: 0.9391 - val_acc: 0.5678\n"
     ]
    }
   ],
   "source": [
    "outputs = Dense(units=64, activation='relu', name='dense_varied_background')(encoder.output)\n",
    "outputs = Dense(units=3, activation='softmax', name='varied_background')(outputs)\n",
    "model = Model(inputs=encoder.inputs, outputs=outputs)\n",
    "\n",
    "for layer in model.layers:\n",
    "    layer.trainable = (layer.name.find('varied_background') >= 0)\n",
    "\n",
    "model.summary()\n",
    "\n",
    "model.compile(optimizer='adam', loss='sparse_categorical_crossentropy', metrics=['accuracy'])\n",
    "\n",
    "hist = model.fit(x_train / 255, y_train + 1, batch_size=32, epochs=30, validation_data=(x_val / 255, y_val + 1))"
   ]
  },
  {
   "cell_type": "code",
   "execution_count": 8,
   "metadata": {},
   "outputs": [
    {
     "data": {
      "image/png": "[encoded data removed]",
      "text/plain": [
       "<Figure size 864x288 with 2 Axes>"
      ]
     },
     "metadata": {
      "needs_background": "light"
     },
     "output_type": "display_data"
    }
   ],
   "source": [
    "plot.plot_keras_hist(hist.history)"
   ]
  },
  {
   "cell_type": "code",
   "execution_count": null,
   "metadata": {},
   "outputs": [],
   "source": [
    "y_pred = model.predict(x_val / 255).argmax(axis=1)\n",
    "\n",
    "print(confusion_matrix(y_val + 1, y_pred))\n",
    "print(classification_report(y_val + 1, y_pred))"
   ]
  },
  {
   "cell_type": "code",
   "execution_count": null,
   "metadata": {},
   "outputs": [],
   "source": []
  }
 ],
 "metadata": {
  "kernelspec": {
   "display_name": "Python 3",
   "language": "python",
   "name": "python3"
  },
  "language_info": {
   "codemirror_mode": {
    "name": "ipython",
    "version": 3
   },
   "file_extension": ".py",
   "mimetype": "text/x-python",
   "name": "python",
   "nbconvert_exporter": "python",
   "pygments_lexer": "ipython3",
   "version": "3.6.8"
  }
 },
 "nbformat": 4,
 "nbformat_minor": 2
}
